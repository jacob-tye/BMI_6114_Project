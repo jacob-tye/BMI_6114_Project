{
 "cells": [
  {
   "cell_type": "markdown",
   "metadata": {},
   "source": [
    "# Deep Learning Analysis for Non-Small Cell Lung Cancer"
   ]
  },
  {
   "cell_type": "code",
   "execution_count": 2,
   "metadata": {},
   "outputs": [],
   "source": [
    "import lightning as L\n",
    "import matplotlib.pyplot as plt\n",
    "import numpy as np\n",
    "import pandas as pd\n",
    "import torch\n",
    "import torch.nn as nn\n",
    "import torchvision.transforms as transforms\n",
    "from torch.utils.data import DataLoader, random_split\n",
    "from torchvision import datasets"
   ]
  },
  {
   "cell_type": "code",
   "execution_count": 32,
   "metadata": {},
   "outputs": [
    {
     "name": "stdout",
     "output_type": "stream",
     "text": [
      "           MutationStatus  CopyNumberVariant  StructuralVariant  \\\n",
      "PatientID                                                         \n",
      "PID_1                   0                  3                  3   \n",
      "PID_2                   1                  3                  0   \n",
      "PID_3                   0                  5                  3   \n",
      "PID_4                   0                  9                  0   \n",
      "PID_5                   0                  5                  4   \n",
      "\n",
      "           SmokingStatus  PriorTreatment  OverallSurvivalMonths  \n",
      "PatientID                                                        \n",
      "PID_1                  0               1                  34.09  \n",
      "PID_2                  1               0                  36.62  \n",
      "PID_3                  0               1                  36.30  \n",
      "PID_4                  1               0                  31.67  \n",
      "PID_5                  1               0                  48.69  \n"
     ]
    }
   ],
   "source": [
    "# Generate a fake cancer dataset\n",
    "np.random.seed(42)  # For reproducibility\n",
    "\n",
    "num_samples = 2621\n",
    "data = {\n",
    "    \"PatientID\": [f\"PID_{i}\" for i in range(1, num_samples + 1)],\n",
    "    \"MutationStatus\": np.random.choice([0, 1], size=num_samples),\n",
    "    \"CopyNumberVariant\": np.random.randint(0, 10, size=num_samples),\n",
    "    \"StructuralVariant\": np.random.randint(0, 5, size=num_samples),\n",
    "    \"SmokingStatus\": np.random.choice([1, 0], size=num_samples),\n",
    "    \"PriorTreatment\": np.random.choice([1, 0], size=num_samples),\n",
    "    \"OverallSurvivalMonths\": np.random.uniform(6, 60, size=num_samples).round(2),\n",
    "}\n",
    "\n",
    "cancer_df = pd.DataFrame(data).set_index(\"PatientID\")\n",
    "print(cancer_df.head())"
   ]
  },
  {
   "cell_type": "code",
   "execution_count": 33,
   "metadata": {},
   "outputs": [
    {
     "data": {
      "text/plain": [
       "2621"
      ]
     },
     "execution_count": 33,
     "metadata": {},
     "output_type": "execute_result"
    }
   ],
   "source": [
    "len(cancer_df)"
   ]
  },
  {
   "cell_type": "code",
   "execution_count": 34,
   "metadata": {},
   "outputs": [],
   "source": [
    "from sklearn.preprocessing import OneHotEncoder\n",
    "\n",
    "\n",
    "class CancerDataset(torch.utils.data.Dataset):\n",
    "    def __init__(self, df):\n",
    "        columns = df.columns.tolist()\n",
    "        features = df.drop(columns=[columns[-1]])\n",
    "        self.x = torch.tensor(features.values, dtype=torch.float32)\n",
    "        self.y = torch.tensor(df[columns[-1]].values, dtype=torch.float32).unsqueeze(1)\n",
    "\n",
    "    def __len__(self):\n",
    "        return len(self.x)\n",
    "\n",
    "    def __getitem__(self, idx):\n",
    "        return self.x[idx], self.y[idx]"
   ]
  },
  {
   "cell_type": "code",
   "execution_count": 36,
   "metadata": {},
   "outputs": [
    {
     "data": {
      "text/plain": [
       "(tensor([0., 3., 3., 0., 1.]), tensor([34.0900]))"
      ]
     },
     "execution_count": 36,
     "metadata": {},
     "output_type": "execute_result"
    }
   ],
   "source": [
    "cancer_ds = CancerDataset(cancer_df)\n",
    "cancer_ds[0]"
   ]
  },
  {
   "cell_type": "code",
   "execution_count": 44,
   "metadata": {},
   "outputs": [],
   "source": [
    "class CancerDataModule(L.LightningDataModule):\n",
    "    def __init__(self, dataset):\n",
    "        self.dataset = dataset\n",
    "    \n",
    "    def setup(self, stage=None):\n",
    "        self.ds_train,  self.ds_rest = random_split(\n",
    "            self.dataset,\n",
    "            [.6, .4]\n",
    "        )\n",
    "\n",
    "        self.ds_val, self.ds_test = random_split(\n",
    "            self.ds_rest,\n",
    "            [.5, .5]\n",
    "        )\n",
    "    \n",
    "    def train_dataloader(self):\n",
    "        return DataLoader(self.ds_train, batch_size=32, shuffle=True)\n",
    "    \n",
    "    def val_dataloader(self):\n",
    "        return DataLoader(self.ds_val, batch_size=32)\n",
    "    \n",
    "    def test_dataloader(self):\n",
    "        return DataLoader(self.ds_test, batch_size=32)\n"
   ]
  },
  {
   "cell_type": "code",
   "execution_count": 51,
   "metadata": {},
   "outputs": [],
   "source": [
    "cancer_dm = CancerDataModule(cancer_ds)\n",
    "cancer_dm.setup()"
   ]
  },
  {
   "cell_type": "code",
   "execution_count": 52,
   "metadata": {},
   "outputs": [
    {
     "data": {
      "text/plain": [
       "(1573, 524, 524)"
      ]
     },
     "execution_count": 52,
     "metadata": {},
     "output_type": "execute_result"
    }
   ],
   "source": [
    "len(cancer_dm.ds_train), len(cancer_dm.ds_val), len(cancer_dm.ds_test)"
   ]
  },
  {
   "cell_type": "code",
   "execution_count": 76,
   "metadata": {},
   "outputs": [
    {
     "name": "stderr",
     "output_type": "stream",
     "text": [
      "/tmp/ipykernel_25871/3972752248.py:1: DtypeWarning: Columns (64,78,87,101,105,111,123,136,150,174,176,206) have mixed types. Specify dtype option on import or set low_memory=False.\n",
      "  mutation_data = pd.read_csv(\"../../nsclc_tcga_broad_2016/data_mutations.txt\", sep=\"\\t\", skiprows=1)\n"
     ]
    }
   ],
   "source": [
    "mutation_data = pd.read_csv(\"../../nsclc_tcga_broad_2016/data_mutations.txt\", sep=\"\\t\", skiprows=1)"
   ]
  },
  {
   "cell_type": "code",
   "execution_count": 77,
   "metadata": {},
   "outputs": [
    {
     "data": {
      "text/plain": [
       "1144"
      ]
     },
     "execution_count": 77,
     "metadata": {},
     "output_type": "execute_result"
    }
   ],
   "source": [
    "mutation_data['Tumor_Sample_Barcode'].unique().shape[0]"
   ]
  },
  {
   "cell_type": "code",
   "execution_count": 78,
   "metadata": {},
   "outputs": [
    {
     "data": {
      "text/plain": [
       "17959"
      ]
     },
     "execution_count": 78,
     "metadata": {},
     "output_type": "execute_result"
    }
   ],
   "source": [
    "len(mutation_data['Hugo_Symbol'].unique())"
   ]
  },
  {
   "cell_type": "code",
   "execution_count": 54,
   "metadata": {},
   "outputs": [
    {
     "name": "stdout",
     "output_type": "stream",
     "text": [
      "Data: tensor([1., 3., 1., 1., 0.])\n",
      "Label: tensor([40.8300])\n"
     ]
    }
   ],
   "source": [
    "first_item = cancer_dm.ds_train[0]\n",
    "data, label = first_item\n",
    "print(f\"Data: {data}\")\n",
    "print(f\"Label: {label}\")"
   ]
  },
  {
   "cell_type": "code",
   "execution_count": null,
   "metadata": {},
   "outputs": [],
   "source": [
    "class BaseDLRegressorModel(L.LightningModule):\n",
    "    def __init__(self, model, loss_fn, optimizer, lr=0.001):\n",
    "        pass"
   ]
  }
 ],
 "metadata": {
  "kernelspec": {
   "display_name": "bmi_6114",
   "language": "python",
   "name": "python3"
  },
  "language_info": {
   "codemirror_mode": {
    "name": "ipython",
    "version": 3
   },
   "file_extension": ".py",
   "mimetype": "text/x-python",
   "name": "python",
   "nbconvert_exporter": "python",
   "pygments_lexer": "ipython3",
   "version": "3.12.5"
  }
 },
 "nbformat": 4,
 "nbformat_minor": 2
}
