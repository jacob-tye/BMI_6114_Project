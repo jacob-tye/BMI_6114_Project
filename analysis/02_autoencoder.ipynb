{
 "cells": [
  {
   "cell_type": "code",
   "execution_count": 29,
   "metadata": {},
   "outputs": [],
   "source": [
    "%load_ext autoreload\n",
    "%autoreload 2\n"
   ]
  },
  {
   "cell_type": "markdown",
   "metadata": {},
   "source": [
    "# Auto Encoder for Dimensionality Reduction"
   ]
  },
  {
   "cell_type": "code",
   "execution_count": null,
   "metadata": {},
   "outputs": [],
   "source": [
    "import lightning as L\n",
    "import matplotlib.pyplot as plt\n",
    "import numpy as np\n",
    "import pandas as pd\n",
    "import torch\n",
    "import torch.nn as nn\n",
    "import torch.nn.functional as F\n",
    "import torchvision.transforms as transforms\n",
    "from torch.utils.data import DataLoader, random_split\n",
    "from torchmetrics import MeanSquaredError\n",
    "from torchvision import datasets\n",
    "from utils.helper_classes import CancerDataModule, CancerDataset\n",
    "from utils.models import CancerDataAutoEncoder"
   ]
  },
  {
   "cell_type": "code",
   "execution_count": 3,
   "metadata": {},
   "outputs": [
    {
     "name": "stdout",
     "output_type": "stream",
     "text": [
      "       CopyNumberVariant  SmokingStatus  OverallSurvivalMonths  Gene_1  \\\n",
      "PID_1                  6              1                  30.92       0   \n",
      "PID_2                  3              1                  59.10       0   \n",
      "PID_3                  7              0                  48.48       0   \n",
      "PID_4                  4              0                  47.78       0   \n",
      "PID_5                  6              1                  46.38       0   \n",
      "\n",
      "       Gene_2  Gene_3  Gene_4  Gene_5  Gene_6  Gene_7  \n",
      "PID_1       0       0       0       0       0       0  \n",
      "PID_2       0       0       0       0       0       0  \n",
      "PID_3       0       0       0       0       0       0  \n",
      "PID_4       0       0       0       1       0       0  \n",
      "PID_5       0       0       0       0       0       0  \n"
     ]
    }
   ],
   "source": [
    "np.random.seed(42)\n",
    "\n",
    "# Parameters\n",
    "num_samples = 2621\n",
    "num_genes = 1800\n",
    "\n",
    "# Base clinical data\n",
    "clinical_data = {\n",
    "    \"PatientID\": [f\"PID_{i}\" for i in range(1, num_samples + 1)],\n",
    "    \"CopyNumberVariant\": np.random.randint(0, 10, size=num_samples),\n",
    "    \"SmokingStatus\": np.random.choice([1, 0], size=num_samples),\n",
    "    \"OverallSurvivalMonths\": np.random.uniform(6, 60, size=num_samples).round(2),\n",
    "}\n",
    "\n",
    "# Simulated gene mutation matrix: binary (0=wildtype, 1=mutated)\n",
    "mutation_matrix = np.random.choice([0, 1], size=(num_samples, num_genes), p=[0.97, 0.03])\n",
    "\n",
    "# Gene column names\n",
    "gene_cols = [f\"Gene_{i+1}\" for i in range(num_genes)]\n",
    "mutation_df = pd.DataFrame(mutation_matrix, columns=gene_cols, index=clinical_data[\"PatientID\"])\n",
    "\n",
    "# Combine all data\n",
    "cancer_df = pd.concat([pd.DataFrame(clinical_data).set_index(\"PatientID\"), mutation_df], axis=1)\n",
    "\n",
    "# Preview\n",
    "print(cancer_df.iloc[:, :10].head())  # Just print first 10 columns to avoid overload\n"
   ]
  },
  {
   "cell_type": "code",
   "execution_count": 31,
   "metadata": {},
   "outputs": [
    {
     "data": {
      "text/plain": [
       "(tensor([ 6.0000,  1.0000, 30.9200,  ...,  0.0000,  0.0000,  0.0000]),\n",
       " tensor([0.]))"
      ]
     },
     "execution_count": 31,
     "metadata": {},
     "output_type": "execute_result"
    }
   ],
   "source": [
    "cancer_ds = CancerDataset(cancer_df)\n",
    "cancer_ds[0]"
   ]
  },
  {
   "cell_type": "code",
   "execution_count": 32,
   "metadata": {},
   "outputs": [],
   "source": [
    "cancer_dm = CancerDataModule(cancer_ds)\n",
    "cancer_dm.setup()"
   ]
  },
  {
   "cell_type": "code",
   "execution_count": 33,
   "metadata": {},
   "outputs": [
    {
     "data": {
      "text/plain": [
       "(1573, 524, 524)"
      ]
     },
     "execution_count": 33,
     "metadata": {},
     "output_type": "execute_result"
    }
   ],
   "source": [
    "len(cancer_dm.ds_train), len(cancer_dm.ds_val), len(cancer_dm.ds_test)"
   ]
  },
  {
   "cell_type": "code",
   "execution_count": 9,
   "metadata": {},
   "outputs": [
    {
     "name": "stdout",
     "output_type": "stream",
     "text": [
      "Data: tensor([ 6.0000,  0.0000, 54.1500,  ...,  0.0000,  0.0000,  0.0000])\n",
      "Label: tensor([0.])\n"
     ]
    }
   ],
   "source": [
    "first_item = cancer_dm.ds_train[0]\n",
    "data, label = first_item\n",
    "print(f\"Data: {data}\")\n",
    "print(f\"Label: {label}\")"
   ]
  },
  {
   "cell_type": "code",
   "execution_count": 11,
   "metadata": {},
   "outputs": [
    {
     "data": {
      "text/plain": [
       "==========================================================================================\n",
       "Layer (type:depth-idx)                   Output Shape              Param #\n",
       "==========================================================================================\n",
       "CancerDataAutoEncoder                    [1, 1802]                 --\n",
       "├─Sequential: 1-1                        [1, 20]                   --\n",
       "│    └─Linear: 2-1                       [1, 1208]                 2,178,024\n",
       "│    └─ReLU: 2-2                         [1, 1208]                 --\n",
       "│    └─Dropout: 2-3                      [1, 1208]                 --\n",
       "│    └─Linear: 2-4                       [1, 614]                  742,326\n",
       "│    └─ReLU: 2-5                         [1, 614]                  --\n",
       "│    └─Dropout: 2-6                      [1, 614]                  --\n",
       "│    └─Linear: 2-7                       [1, 20]                   12,300\n",
       "│    └─ReLU: 2-8                         [1, 20]                   --\n",
       "│    └─Dropout: 2-9                      [1, 20]                   --\n",
       "├─Sequential: 1-2                        [1, 1802]                 --\n",
       "│    └─Linear: 2-10                      [1, 614]                  12,894\n",
       "│    └─ReLU: 2-11                        [1, 614]                  --\n",
       "│    └─Dropout: 2-12                     [1, 614]                  --\n",
       "│    └─Linear: 2-13                      [1, 1208]                 742,920\n",
       "│    └─ReLU: 2-14                        [1, 1208]                 --\n",
       "│    └─Dropout: 2-15                     [1, 1208]                 --\n",
       "│    └─Linear: 2-16                      [1, 1802]                 2,178,618\n",
       "│    └─ReLU: 2-17                        [1, 1802]                 --\n",
       "│    └─Dropout: 2-18                     [1, 1802]                 --\n",
       "==========================================================================================\n",
       "Total params: 5,867,082\n",
       "Trainable params: 5,867,082\n",
       "Non-trainable params: 0\n",
       "Total mult-adds (Units.MEGABYTES): 5.87\n",
       "==========================================================================================\n",
       "Input size (MB): 0.01\n",
       "Forward/backward pass size (MB): 0.04\n",
       "Params size (MB): 23.47\n",
       "Estimated Total Size (MB): 23.52\n",
       "=========================================================================================="
      ]
     },
     "execution_count": 11,
     "metadata": {},
     "output_type": "execute_result"
    }
   ],
   "source": [
    "from torchinfo import summary\n",
    "\n",
    "input_dim = len(cancer_dm.ds_train[0][0])\n",
    "summary(CancerDataAutoEncoder(input_size=input_dim, latent_size=20), input_size=(1, input_dim))"
   ]
  },
  {
   "cell_type": "code",
   "execution_count": null,
   "metadata": {},
   "outputs": [
    {
     "name": "stderr",
     "output_type": "stream",
     "text": [
      "GPU available: True (cuda), used: True\n",
      "TPU available: False, using: 0 TPU cores\n",
      "HPU available: False, using: 0 HPUs\n",
      "You are using a CUDA device ('NVIDIA GeForce RTX 3080 Laptop GPU') that has Tensor Cores. To properly utilize them, you should set `torch.set_float32_matmul_precision('medium' | 'high')` which will trade-off precision for performance. For more details, read https://pytorch.org/docs/stable/generated/torch.set_float32_matmul_precision.html#torch.set_float32_matmul_precision\n",
      "LOCAL_RANK: 0 - CUDA_VISIBLE_DEVICES: [0]\n",
      "\n",
      "  | Name        | Type             | Params | Mode \n",
      "---------------------------------------------------------\n",
      "0 | encoder     | Sequential       | 2.9 M  | train\n",
      "1 | decoder     | Sequential       | 2.9 M  | train\n",
      "2 | loss_metric | MeanSquaredError | 0      | train\n",
      "3 | val_metric  | MeanSquaredError | 0      | train\n",
      "---------------------------------------------------------\n",
      "5.9 M     Trainable params\n",
      "0         Non-trainable params\n",
      "5.9 M     Total params\n",
      "23.468    Total estimated model params size (MB)\n",
      "22        Modules in train mode\n",
      "0         Modules in eval mode\n"
     ]
    },
    {
     "data": {
      "application/vnd.jupyter.widget-view+json": {
       "model_id": "9b9bcfed9afa46689295c6ee819f9a45",
       "version_major": 2,
       "version_minor": 0
      },
      "text/plain": [
       "Sanity Checking: |          | 0/? [00:00<?, ?it/s]"
      ]
     },
     "metadata": {},
     "output_type": "display_data"
    },
    {
     "name": "stderr",
     "output_type": "stream",
     "text": [
      "/home/jacobtye/mambaforge/envs/bmi_6114/lib/python3.12/site-packages/lightning/pytorch/trainer/connectors/data_connector.py:425: The 'val_dataloader' does not have many workers which may be a bottleneck. Consider increasing the value of the `num_workers` argument` to `num_workers=15` in the `DataLoader` to improve performance.\n",
      "/home/jacobtye/mambaforge/envs/bmi_6114/lib/python3.12/site-packages/lightning/pytorch/trainer/connectors/data_connector.py:425: The 'train_dataloader' does not have many workers which may be a bottleneck. Consider increasing the value of the `num_workers` argument` to `num_workers=15` in the `DataLoader` to improve performance.\n"
     ]
    },
    {
     "data": {
      "application/vnd.jupyter.widget-view+json": {
       "model_id": "1734782c9f5343cd87584a2601c74cc7",
       "version_major": 2,
       "version_minor": 0
      },
      "text/plain": [
       "Training: |          | 0/? [00:00<?, ?it/s]"
      ]
     },
     "metadata": {},
     "output_type": "display_data"
    },
    {
     "data": {
      "application/vnd.jupyter.widget-view+json": {
       "model_id": "e2306bf4dbae40c1a8ff10424dc80a07",
       "version_major": 2,
       "version_minor": 0
      },
      "text/plain": [
       "Validation: |          | 0/? [00:00<?, ?it/s]"
      ]
     },
     "metadata": {},
     "output_type": "display_data"
    },
    {
     "data": {
      "application/vnd.jupyter.widget-view+json": {
       "model_id": "f47f4b9bf01844b3a667299abf2f129f",
       "version_major": 2,
       "version_minor": 0
      },
      "text/plain": [
       "Validation: |          | 0/? [00:00<?, ?it/s]"
      ]
     },
     "metadata": {},
     "output_type": "display_data"
    },
    {
     "data": {
      "application/vnd.jupyter.widget-view+json": {
       "model_id": "b9d6032ef192447ca1a7693404538607",
       "version_major": 2,
       "version_minor": 0
      },
      "text/plain": [
       "Validation: |          | 0/? [00:00<?, ?it/s]"
      ]
     },
     "metadata": {},
     "output_type": "display_data"
    },
    {
     "data": {
      "application/vnd.jupyter.widget-view+json": {
       "model_id": "2fe86401e97146479c4c3a22dcd7e8d8",
       "version_major": 2,
       "version_minor": 0
      },
      "text/plain": [
       "Validation: |          | 0/? [00:00<?, ?it/s]"
      ]
     },
     "metadata": {},
     "output_type": "display_data"
    }
   ],
   "source": [
    "from utils.helper_functions import create_classifier_trainer\n",
    "\n",
    "\n",
    "trainer, ae_csv_logger, ae_checkpoint = create_classifier_trainer(\"cancer_auto_encoder\")\n",
    "cancer_ae = CancerDataAutoEncoder(input_size=len(cancer_dm.ds_train[0][0]), latent_size=20, n_layers=3, dropout=0.2)\n",
    "trainer.fit(\n",
    "    cancer_ae,\n",
    "    datamodule=CancerDataModule(cancer_ds),\n",
    ")"
   ]
  },
  {
   "cell_type": "code",
   "execution_count": 13,
   "metadata": {},
   "outputs": [
    {
     "data": {
      "image/png": "[encoded data removed]",
      "text/plain": [
       "<Figure size 1200x500 with 1 Axes>"
      ]
     },
     "metadata": {},
     "output_type": "display_data"
    }
   ],
   "source": [
    "history = pd.read_csv(ae_csv_logger.log_dir + \"/metrics.csv\")\n",
    "def make_plots(history, title):\n",
    "    plt.figure(figsize=(12, 5))\n",
    "    plt.suptitle(title)\n",
    "    train_history = history.dropna(subset=[\"train_loss\"])\n",
    "    val_history = history.dropna(subset=[\"val_loss\"])\n",
    "    # Loss Plot\n",
    "    plt.subplot(1, 2, 1)\n",
    "    plt.plot(train_history[\"step\"], train_history[\"train_loss\"], label=\"Train Loss\", marker=\"o\")\n",
    "    plt.plot(\n",
    "        val_history[\"step\"],\n",
    "        val_history[\"val_loss\"],\n",
    "        label=\"Validation Loss\",\n",
    "        marker=\"o\",\n",
    "        linestyle=\"-\",\n",
    "    )\n",
    "    plt.xlabel(\"step\")\n",
    "    plt.ylabel(\"Loss\")\n",
    "    plt.title(\"Training and Validation Loss\")\n",
    "    plt.legend()\n",
    "\n",
    "\n",
    "\n",
    "make_plots(history, \"Autoencoder Training and Validation Loss\")"
   ]
  },
  {
   "cell_type": "code",
   "execution_count": null,
   "metadata": {},
   "outputs": [
    {
     "name": "stderr",
     "output_type": "stream",
     "text": [
      "[I 2025-04-11 14:18:39,657] A new study created in memory with name: autoencoder_study\n",
      "GPU available: True (cuda), used: True\n",
      "TPU available: False, using: 0 TPU cores\n",
      "HPU available: False, using: 0 HPUs\n",
      "LOCAL_RANK: 0 - CUDA_VISIBLE_DEVICES: [0]\n",
      "\n",
      "  | Name        | Type             | Params | Mode \n",
      "---------------------------------------------------------\n",
      "0 | encoder     | Sequential       | 313 K  | train\n",
      "1 | decoder     | Sequential       | 315 K  | train\n",
      "2 | loss_metric | MeanSquaredError | 0      | train\n",
      "3 | val_metric  | MeanSquaredError | 0      | train\n",
      "---------------------------------------------------------\n",
      "629 K     Trainable params\n",
      "0         Non-trainable params\n",
      "629 K     Total params\n",
      "2.516     Total estimated model params size (MB)\n",
      "10        Modules in train mode\n",
      "0         Modules in eval mode\n",
      "/home/jacobtye/mambaforge/envs/bmi_6114/lib/python3.12/site-packages/lightning/pytorch/trainer/connectors/data_connector.py:425: The 'val_dataloader' does not have many workers which may be a bottleneck. Consider increasing the value of the `num_workers` argument` to `num_workers=15` in the `DataLoader` to improve performance.\n",
      "/home/jacobtye/mambaforge/envs/bmi_6114/lib/python3.12/site-packages/lightning/pytorch/trainer/connectors/data_connector.py:425: The 'train_dataloader' does not have many workers which may be a bottleneck. Consider increasing the value of the `num_workers` argument` to `num_workers=15` in the `DataLoader` to improve performance.\n",
      "`Trainer.fit` stopped: `max_epochs=10` reached.\n",
      "[I 2025-04-11 14:18:44,935] Trial 0 finished with value: 0.1539460271596908 and parameters: {'latent_size': 174, 'n_layers': 1, 'dropout': 0.2894778777530542}. Best is trial 0 with value: 0.1539460271596908.\n",
      "GPU available: True (cuda), used: True\n",
      "TPU available: False, using: 0 TPU cores\n",
      "HPU available: False, using: 0 HPUs\n",
      "LOCAL_RANK: 0 - CUDA_VISIBLE_DEVICES: [0]\n",
      "\n",
      "  | Name        | Type             | Params | Mode \n",
      "---------------------------------------------------------\n",
      "0 | encoder     | Sequential       | 3.2 M  | train\n",
      "1 | decoder     | Sequential       | 6.4 M  | train\n",
      "2 | loss_metric | MeanSquaredError | 0      | train\n",
      "3 | val_metric  | MeanSquaredError | 0      | train\n",
      "---------------------------------------------------------\n",
      "9.6 M     Trainable params\n",
      "0         Non-trainable params\n",
      "9.6 M     Total params\n",
      "38.487    Total estimated model params size (MB)\n",
      "24        Modules in train mode\n",
      "0         Modules in eval mode\n",
      "/home/jacobtye/mambaforge/envs/bmi_6114/lib/python3.12/site-packages/lightning/pytorch/trainer/connectors/data_connector.py:425: The 'val_dataloader' does not have many workers which may be a bottleneck. Consider increasing the value of the `num_workers` argument` to `num_workers=15` in the `DataLoader` to improve performance.\n",
      "/home/jacobtye/mambaforge/envs/bmi_6114/lib/python3.12/site-packages/lightning/pytorch/trainer/connectors/data_connector.py:425: The 'train_dataloader' does not have many workers which may be a bottleneck. Consider increasing the value of the `num_workers` argument` to `num_workers=15` in the `DataLoader` to improve performance.\n",
      "[I 2025-04-11 14:18:52,784] Trial 1 finished with value: 0.0755241438746452 and parameters: {'latent_size': 126, 'n_layers': 3, 'dropout': 0.2841317861895443}. Best is trial 1 with value: 0.0755241438746452.\n",
      "GPU available: True (cuda), used: True\n",
      "TPU available: False, using: 0 TPU cores\n",
      "HPU available: False, using: 0 HPUs\n",
      "LOCAL_RANK: 0 - CUDA_VISIBLE_DEVICES: [0]\n",
      "\n",
      "  | Name        | Type             | Params | Mode \n",
      "---------------------------------------------------------\n",
      "0 | encoder     | Sequential       | 5.7 M  | train\n",
      "1 | decoder     | Sequential       | 8.9 M  | train\n",
      "2 | loss_metric | MeanSquaredError | 0      | train\n",
      "3 | val_metric  | MeanSquaredError | 0      | train\n",
      "---------------------------------------------------------\n",
      "14.5 M    Trainable params\n",
      "0         Non-trainable params\n",
      "14.5 M    Total params\n",
      "58.178    Total estimated model params size (MB)\n",
      "36        Modules in train mode\n",
      "0         Modules in eval mode\n",
      "/home/jacobtye/mambaforge/envs/bmi_6114/lib/python3.12/site-packages/lightning/pytorch/trainer/connectors/data_connector.py:425: The 'val_dataloader' does not have many workers which may be a bottleneck. Consider increasing the value of the `num_workers` argument` to `num_workers=15` in the `DataLoader` to improve performance.\n",
      "/home/jacobtye/mambaforge/envs/bmi_6114/lib/python3.12/site-packages/lightning/pytorch/trainer/connectors/data_connector.py:425: The 'train_dataloader' does not have many workers which may be a bottleneck. Consider increasing the value of the `num_workers` argument` to `num_workers=15` in the `DataLoader` to improve performance.\n",
      "[I 2025-04-11 14:19:01,265] Trial 2 finished with value: 0.0457669831812381 and parameters: {'latent_size': 129, 'n_layers': 5, 'dropout': 0.04892076156671582}. Best is trial 2 with value: 0.0457669831812381.\n",
      "GPU available: True (cuda), used: True\n",
      "TPU available: False, using: 0 TPU cores\n",
      "HPU available: False, using: 0 HPUs\n",
      "LOCAL_RANK: 0 - CUDA_VISIBLE_DEVICES: [0]\n",
      "\n",
      "  | Name        | Type             | Params | Mode \n",
      "---------------------------------------------------------\n",
      "0 | encoder     | Sequential       | 3.0 M  | train\n",
      "1 | decoder     | Sequential       | 3.0 M  | train\n",
      "2 | loss_metric | MeanSquaredError | 0      | train\n",
      "3 | val_metric  | MeanSquaredError | 0      | train\n",
      "---------------------------------------------------------\n",
      "5.9 M     Trainable params\n",
      "0         Non-trainable params\n",
      "5.9 M     Total params\n",
      "23.739    Total estimated model params size (MB)\n",
      "22        Modules in train mode\n",
      "0         Modules in eval mode\n",
      "/home/jacobtye/mambaforge/envs/bmi_6114/lib/python3.12/site-packages/lightning/pytorch/trainer/connectors/data_connector.py:425: The 'val_dataloader' does not have many workers which may be a bottleneck. Consider increasing the value of the `num_workers` argument` to `num_workers=15` in the `DataLoader` to improve performance.\n",
      "/home/jacobtye/mambaforge/envs/bmi_6114/lib/python3.12/site-packages/lightning/pytorch/trainer/connectors/data_connector.py:425: The 'train_dataloader' does not have many workers which may be a bottleneck. Consider increasing the value of the `num_workers` argument` to `num_workers=15` in the `DataLoader` to improve performance.\n",
      "[I 2025-04-11 14:19:04,407] Trial 3 finished with value: 0.0607646740972995 and parameters: {'latent_size': 35, 'n_layers': 3, 'dropout': 0.11484154589363393}. Best is trial 2 with value: 0.0457669831812381.\n",
      "GPU available: True (cuda), used: True\n",
      "TPU available: False, using: 0 TPU cores\n",
      "HPU available: False, using: 0 HPUs\n",
      "LOCAL_RANK: 0 - CUDA_VISIBLE_DEVICES: [0]\n",
      "\n",
      "  | Name        | Type             | Params | Mode \n",
      "---------------------------------------------------------\n",
      "0 | encoder     | Sequential       | 5.5 M  | train\n",
      "1 | decoder     | Sequential       | 8.7 M  | train\n",
      "2 | loss_metric | MeanSquaredError | 0      | train\n",
      "3 | val_metric  | MeanSquaredError | 0      | train\n",
      "---------------------------------------------------------\n",
      "14.3 M    Trainable params\n",
      "0         Non-trainable params\n",
      "14.3 M    Total params\n",
      "57.092    Total estimated model params size (MB)\n",
      "36        Modules in train mode\n",
      "0         Modules in eval mode\n",
      "/home/jacobtye/mambaforge/envs/bmi_6114/lib/python3.12/site-packages/lightning/pytorch/trainer/connectors/data_connector.py:425: The 'val_dataloader' does not have many workers which may be a bottleneck. Consider increasing the value of the `num_workers` argument` to `num_workers=15` in the `DataLoader` to improve performance.\n",
      "/home/jacobtye/mambaforge/envs/bmi_6114/lib/python3.12/site-packages/lightning/pytorch/trainer/connectors/data_connector.py:425: The 'train_dataloader' does not have many workers which may be a bottleneck. Consider increasing the value of the `num_workers` argument` to `num_workers=15` in the `DataLoader` to improve performance.\n",
      "`Trainer.fit` stopped: `max_epochs=10` reached.\n",
      "[I 2025-04-11 14:19:19,044] Trial 4 finished with value: 0.1765128076076507 and parameters: {'latent_size': 93, 'n_layers': 5, 'dropout': 0.3841092505626717}. Best is trial 2 with value: 0.0457669831812381.\n"
     ]
    },
    {
     "name": "stdout",
     "output_type": "stream",
     "text": [
      "Best trial:\n",
      "  Value (val_mse): 0.0457669831812381\n",
      "  Params:\n",
      "    latent_size: 129\n",
      "    n_layers: 5\n",
      "    dropout: 0.04892076156671582\n"
     ]
    }
   ],
   "source": [
    "import optuna\n",
    "\n",
    "trial_to_details = {}\n",
    "def objective(trial):\n",
    "    latent_size = trial.suggest_int(\"latent_size\", 8, 256)\n",
    "    n_layers = trial.suggest_int(\"n_layers\", 1, 5)\n",
    "    dropout = trial.suggest_float(\"dropout\", 0.0, 0.5)\n",
    "    input_dim = len(cancer_dm.ds_train[0][0])\n",
    "\n",
    "    model = CancerDataAutoEncoder(\n",
    "        input_size=input_dim,\n",
    "        latent_size=latent_size,\n",
    "        n_layers=n_layers,\n",
    "        dropout=dropout,\n",
    "    )\n",
    "    trainer, logger, checkpoint = create_classifier_trainer(f\"trial_{trial.number}\", enable_pbar=false)\n",
    "\n",
    "\n",
    "    trial_to_details[trial.number] = {\n",
    "        \"logger\" : logger,\n",
    "        \"checkpoint\" : checkpoint,\n",
    "    }\n",
    "\n",
    "    trainer.fit(model, datamodule=cancer_dm)\n",
    "\n",
    "    # Load validation metrics from CSV logger\n",
    "    metrics_path = f\"{logger.log_dir}/metrics.csv\"\n",
    "    metrics_df = pd.read_csv(metrics_path)\n",
    "\n",
    "    if \"val_mse_epoch\" not in metrics_df.columns:\n",
    "        return float(\"inf\")\n",
    "\n",
    "    last_val = metrics_df[\"val_mse_epoch\"].dropna().values[-1]\n",
    "    return last_val\n",
    "\n",
    "# --- Run Optuna ---\n",
    "study = optuna.create_study(direction=\"minimize\", study_name=\"autoencoder_study\")\n",
    "study.optimize(objective, n_trials=5)\n",
    "\n",
    "# --- Print Best Result ---\n",
    "print(\"Best trial:\")\n",
    "print(f\"  Value (val_mse): {study.best_trial.value}\")\n",
    "print(\"  Params:\")\n",
    "for key, val in study.best_trial.params.items():\n",
    "    print(f\"    {key}: {val}\")"
   ]
  },
  {
   "cell_type": "code",
   "execution_count": 15,
   "metadata": {},
   "outputs": [
    {
     "data": {
      "text/plain": [
       "'optuna_logs/trial_2/version_2/checkpoints/best_ae_trial_2.ckpt'"
      ]
     },
     "execution_count": 15,
     "metadata": {},
     "output_type": "execute_result"
    }
   ],
   "source": [
    "trial_to_details[study.best_trial.number][\"checkpoint\"].best_model_path"
   ]
  },
  {
   "cell_type": "code",
   "execution_count": 16,
   "metadata": {},
   "outputs": [],
   "source": [
    "best_model_path = trial_to_details[study.best_trial.number][\"checkpoint\"].best_model_path\n",
    "with open(\"results/02/results.txt\", \"w\") as f:\n",
    "    f.write(best_model_path)"
   ]
  },
  {
   "cell_type": "code",
   "execution_count": 20,
   "metadata": {},
   "outputs": [],
   "source": [
    "import json\n",
    "\n",
    "with open(\"results/02/best_trial_params.json\", \"w\") as f:\n",
    "    json.dump(study.best_trial.params, f, indent=4)"
   ]
  },
  {
   "cell_type": "code",
   "execution_count": 17,
   "metadata": {},
   "outputs": [
    {
     "data": {
      "text/plain": [
       "CancerDataAutoEncoder(\n",
       "  (encoder): Sequential(\n",
       "    (0): Linear(in_features=1802, out_features=1468, bias=True)\n",
       "    (1): ReLU()\n",
       "    (2): Dropout(p=0.04892076156671582, inplace=False)\n",
       "    (3): Linear(in_features=1468, out_features=1134, bias=True)\n",
       "    (4): ReLU()\n",
       "    (5): Dropout(p=0.04892076156671582, inplace=False)\n",
       "    (6): Linear(in_features=1134, out_features=800, bias=True)\n",
       "    (7): ReLU()\n",
       "    (8): Dropout(p=0.04892076156671582, inplace=False)\n",
       "    (9): Linear(in_features=800, out_features=466, bias=True)\n",
       "    (10): ReLU()\n",
       "    (11): Dropout(p=0.04892076156671582, inplace=False)\n",
       "    (12): Linear(in_features=466, out_features=132, bias=True)\n",
       "    (13): ReLU()\n",
       "    (14): Dropout(p=0.04892076156671582, inplace=False)\n",
       "    (15): Linear(in_features=132, out_features=129, bias=True)\n",
       "  )\n",
       "  (decoder): Sequential(\n",
       "    (0): Linear(in_features=129, out_features=463, bias=True)\n",
       "    (1): ReLU()\n",
       "    (2): Dropout(p=0.04892076156671582, inplace=False)\n",
       "    (3): Linear(in_features=463, out_features=797, bias=True)\n",
       "    (4): ReLU()\n",
       "    (5): Dropout(p=0.04892076156671582, inplace=False)\n",
       "    (6): Linear(in_features=797, out_features=1131, bias=True)\n",
       "    (7): ReLU()\n",
       "    (8): Dropout(p=0.04892076156671582, inplace=False)\n",
       "    (9): Linear(in_features=1131, out_features=1465, bias=True)\n",
       "    (10): ReLU()\n",
       "    (11): Dropout(p=0.04892076156671582, inplace=False)\n",
       "    (12): Linear(in_features=1465, out_features=1799, bias=True)\n",
       "    (13): ReLU()\n",
       "    (14): Dropout(p=0.04892076156671582, inplace=False)\n",
       "    (15): Linear(in_features=1799, out_features=1802, bias=True)\n",
       "  )\n",
       "  (loss_metric): MeanSquaredError()\n",
       "  (val_metric): MeanSquaredError()\n",
       ")"
      ]
     },
     "execution_count": 17,
     "metadata": {},
     "output_type": "execute_result"
    }
   ],
   "source": [
    "CancerDataAutoEncoder.load_from_checkpoint(\n",
    "    trial_to_details[study.best_trial.number][\"checkpoint\"].best_model_path,\n",
    "    **study.best_trial.params\n",
    ")"
   ]
  },
  {
   "cell_type": "code",
   "execution_count": 18,
   "metadata": {},
   "outputs": [],
   "source": [
    "best_model_logger = trial_to_details[study.best_trial.number][\"logger\"]"
   ]
  },
  {
   "cell_type": "code",
   "execution_count": 19,
   "metadata": {},
   "outputs": [
    {
     "data": {
      "image/png": "[encoded data removed]",
      "text/plain": [
       "<Figure size 1200x500 with 1 Axes>"
      ]
     },
     "metadata": {},
     "output_type": "display_data"
    }
   ],
   "source": [
    "history = pd.read_csv(best_model_logger.log_dir + \"/metrics.csv\")\n",
    "\n",
    "make_plots(history, \"Autoencoder Training and Validation Loss\")"
   ]
  },
  {
   "cell_type": "code",
   "execution_count": null,
   "metadata": {},
   "outputs": [],
   "source": []
  }
 ],
 "metadata": {
  "kernelspec": {
   "display_name": "bmi_6114",
   "language": "python",
   "name": "python3"
  },
  "language_info": {
   "codemirror_mode": {
    "name": "ipython",
    "version": 3
   },
   "file_extension": ".py",
   "mimetype": "text/x-python",
   "name": "python",
   "nbconvert_exporter": "python",
   "pygments_lexer": "ipython3",
   "version": "3.12.5"
  }
 },
 "nbformat": 4,
 "nbformat_minor": 2
}
