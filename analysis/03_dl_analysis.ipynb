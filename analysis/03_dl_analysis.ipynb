{
 "cells": [
  {
   "cell_type": "code",
   "execution_count": 7,
   "metadata": {},
   "outputs": [
    {
     "name": "stdout",
     "output_type": "stream",
     "text": [
      "The autoreload extension is already loaded. To reload it, use:\n",
      "  %reload_ext autoreload\n"
     ]
    }
   ],
   "source": [
    "%load_ext autoreload\n",
    "%autoreload 2\n"
   ]
  },
  {
   "cell_type": "markdown",
   "metadata": {},
   "source": [
    "# Deep Learning Analysis"
   ]
  },
  {
   "cell_type": "code",
   "execution_count": 8,
   "metadata": {},
   "outputs": [],
   "source": [
    "import json\n",
    "import joblib\n",
    "import lightning as L\n",
    "import matplotlib.pyplot as plt\n",
    "import numpy as np\n",
    "import pandas as pd\n",
    "import torch\n",
    "import torch.nn as nn\n",
    "import torch.nn.functional as F\n",
    "import torchvision.transforms as transforms\n",
    "from torch.utils.data import DataLoader, random_split\n",
    "from torchmetrics import MeanSquaredError\n",
    "from torchvision import datasets\n",
    "from utils.helper_classes import CancerDataModule, CancerDataset\n",
    "from utils.models import BaseCancerRegressor, CancerDataAutoEncoder"
   ]
  },
  {
   "cell_type": "code",
   "execution_count": 9,
   "metadata": {},
   "outputs": [],
   "source": [
    "cancer_df = pd.read_csv(\"../data/cleaned_feature_and_target_data.csv\", index_col=0)\n",
    "cna_columns = [col for col in cancer_df.columns if col.startswith(\"CNA\")]\n",
    "numeric_cols = [\"SMOKING_PACK_YEARS\"] + cna_columns\n",
    "cancer_df[numeric_cols] = cancer_df[numeric_cols].astype(np.float32)\n",
    "scaler = joblib.load(open(\"results/scaler.pkl\", \"rb\"))\n",
    "cancer_dm = CancerDataModule(cancer_df, numerical_features=numeric_cols, scaler=scaler)\n",
    "cancer_dm.setup()"
   ]
  },
  {
   "cell_type": "code",
   "execution_count": 10,
   "metadata": {},
   "outputs": [],
   "source": [
    "with open('results/02/results.txt', 'r') as file:\n",
    "    best_ae_model_path = file.readline().strip()"
   ]
  },
  {
   "cell_type": "code",
   "execution_count": 11,
   "metadata": {},
   "outputs": [
    {
     "name": "stdout",
     "output_type": "stream",
     "text": [
      "{'latent_size': 39, 'n_layers': 3, 'dropout': 0.0031343232927195652}\n"
     ]
    }
   ],
   "source": [
    "with open('results/02/best_trial_params.json', 'r') as json_file:\n",
    "    best_model_params = json.load(json_file)\n",
    "\n",
    "print(best_model_params)"
   ]
  },
  {
   "cell_type": "code",
   "execution_count": 12,
   "metadata": {},
   "outputs": [],
   "source": [
    "cancer_autoencoder = CancerDataAutoEncoder.load_from_checkpoint(\n",
    "    best_ae_model_path,\n",
    "    **best_model_params\n",
    ")"
   ]
  },
  {
   "cell_type": "code",
   "execution_count": 13,
   "metadata": {},
   "outputs": [],
   "source": [
    "import random\n",
    "\n",
    "\n",
    "class SimpleNN(nn.Module):\n",
    "    def __init__(self, input_dim, n_layers=1, dropout=0.2, activation=nn.LeakyReLU):\n",
    "        super(SimpleNN, self).__init__()\n",
    "        self.layers = []\n",
    "        curr_size = input_dim\n",
    "        len_first_half = int(n_layers / 2)\n",
    "        len_second_half = n_layers - len_first_half\n",
    "        for i in range(len_first_half):\n",
    "            new_size = curr_size * 2\n",
    "            self.layers += [\n",
    "                nn.Linear(curr_size, new_size),\n",
    "                nn.BatchNorm1d(new_size),\n",
    "                activation(),\n",
    "                nn.Dropout(dropout),\n",
    "            ]\n",
    "            curr_size = new_size\n",
    "        \n",
    "        for i in range(len_second_half):\n",
    "            new_size = curr_size // 2\n",
    "            self.layers += [\n",
    "                nn.Linear(curr_size, new_size),\n",
    "                nn.BatchNorm1d(new_size),\n",
    "                activation(),\n",
    "                nn.Dropout(dropout),\n",
    "            ]\n",
    "            curr_size = new_size\n",
    "        if curr_size > 1:\n",
    "            self.layers.append(nn.Linear(curr_size, 1))\n",
    "        self.network = nn.Sequential(*self.layers)\n",
    "\n",
    "    def forward(self, x):\n",
    "        return self.network(x)\n",
    "\n",
    "simple_nn = SimpleNN(\n",
    "    input_dim=best_model_params['latent_size'],\n",
    "    n_layers=8\n",
    ")"
   ]
  },
  {
   "cell_type": "code",
   "execution_count": 14,
   "metadata": {},
   "outputs": [
    {
     "data": {
      "text/plain": [
       "==========================================================================================\n",
       "Layer (type:depth-idx)                   Output Shape              Param #\n",
       "==========================================================================================\n",
       "BaseCancerRegressor                      [1, 1]                    --\n",
       "├─CancerDataAutoEncoder: 1-1             --                        88,292\n",
       "│    └─Sequential: 2-1                   [1, 39]                   --\n",
       "│    │    └─Linear: 3-1                  [1, 149]                  (30,396)\n",
       "│    │    └─ReLU: 3-2                    [1, 149]                  --\n",
       "│    │    └─Dropout: 3-3                 [1, 149]                  --\n",
       "│    │    └─Linear: 3-4                  [1, 95]                   (14,250)\n",
       "│    │    └─ReLU: 3-5                    [1, 95]                   --\n",
       "│    │    └─Dropout: 3-6                 [1, 95]                   --\n",
       "│    │    └─Linear: 3-7                  [1, 41]                   (3,936)\n",
       "│    │    └─ReLU: 3-8                    [1, 41]                   --\n",
       "│    │    └─Dropout: 3-9                 [1, 41]                   --\n",
       "│    │    └─Linear: 3-10                 [1, 39]                   (1,638)\n",
       "├─SimpleNN: 1-2                          [1, 1]                    --\n",
       "│    └─Sequential: 2-2                   [1, 1]                    --\n",
       "│    │    └─Linear: 3-11                 [1, 78]                   3,120\n",
       "│    │    └─BatchNorm1d: 3-12            [1, 78]                   156\n",
       "│    │    └─LeakyReLU: 3-13              [1, 78]                   --\n",
       "│    │    └─Dropout: 3-14                [1, 78]                   --\n",
       "│    │    └─Linear: 3-15                 [1, 156]                  12,324\n",
       "│    │    └─BatchNorm1d: 3-16            [1, 156]                  312\n",
       "│    │    └─LeakyReLU: 3-17              [1, 156]                  --\n",
       "│    │    └─Dropout: 3-18                [1, 156]                  --\n",
       "│    │    └─Linear: 3-19                 [1, 312]                  48,984\n",
       "│    │    └─BatchNorm1d: 3-20            [1, 312]                  624\n",
       "│    │    └─LeakyReLU: 3-21              [1, 312]                  --\n",
       "│    │    └─Dropout: 3-22                [1, 312]                  --\n",
       "│    │    └─Linear: 3-23                 [1, 624]                  195,312\n",
       "│    │    └─BatchNorm1d: 3-24            [1, 624]                  1,248\n",
       "│    │    └─LeakyReLU: 3-25              [1, 624]                  --\n",
       "│    │    └─Dropout: 3-26                [1, 624]                  --\n",
       "│    │    └─Linear: 3-27                 [1, 312]                  195,000\n",
       "│    │    └─BatchNorm1d: 3-28            [1, 312]                  624\n",
       "│    │    └─LeakyReLU: 3-29              [1, 312]                  --\n",
       "│    │    └─Dropout: 3-30                [1, 312]                  --\n",
       "│    │    └─Linear: 3-31                 [1, 156]                  48,828\n",
       "│    │    └─BatchNorm1d: 3-32            [1, 156]                  312\n",
       "│    │    └─LeakyReLU: 3-33              [1, 156]                  --\n",
       "│    │    └─Dropout: 3-34                [1, 156]                  --\n",
       "│    │    └─Linear: 3-35                 [1, 78]                   12,246\n",
       "│    │    └─BatchNorm1d: 3-36            [1, 78]                   156\n",
       "│    │    └─LeakyReLU: 3-37              [1, 78]                   --\n",
       "│    │    └─Dropout: 3-38                [1, 78]                   --\n",
       "│    │    └─Linear: 3-39                 [1, 39]                   3,081\n",
       "│    │    └─BatchNorm1d: 3-40            [1, 39]                   78\n",
       "│    │    └─LeakyReLU: 3-41              [1, 39]                   --\n",
       "│    │    └─Dropout: 3-42                [1, 39]                   --\n",
       "│    │    └─Linear: 3-43                 [1, 1]                    40\n",
       "==========================================================================================\n",
       "Total params: 660,957\n",
       "Trainable params: 522,445\n",
       "Non-trainable params: 138,512\n",
       "Total mult-adds (Units.MEGABYTES): 0.57\n",
       "==========================================================================================\n",
       "Input size (MB): 0.00\n",
       "Forward/backward pass size (MB): 0.03\n",
       "Params size (MB): 2.29\n",
       "Estimated Total Size (MB): 2.32\n",
       "=========================================================================================="
      ]
     },
     "execution_count": 14,
     "metadata": {},
     "output_type": "execute_result"
    }
   ],
   "source": [
    "from torchinfo import summary\n",
    "\n",
    "input_dim = len(cancer_dm.ds_train[0][0])\n",
    "summary(BaseCancerRegressor(cancer_autoencoder, simple_nn), input_size=(1, input_dim))"
   ]
  },
  {
   "cell_type": "code",
   "execution_count": 15,
   "metadata": {},
   "outputs": [
    {
     "name": "stderr",
     "output_type": "stream",
     "text": [
      "/uufs/chpc.utah.edu/common/home/clementm-group1/conda/mambaforge/env/bmi_6114/lib/python3.12/site-packages/lightning/fabric/plugins/environments/slurm.py:204: The `srun` command is available on your system but is not used. HINT: If your intention is to run Lightning on SLURM, prepend your python command with `srun` like so: srun python /uufs/chpc.utah.edu/common/home/clementm-group1/cond ...\n",
      "GPU available: True (cuda), used: True\n",
      "TPU available: False, using: 0 TPU cores\n",
      "HPU available: False, using: 0 HPUs\n",
      "LOCAL_RANK: 0 - CUDA_VISIBLE_DEVICES: [0]\n",
      "\n",
      "  | Name           | Type                  | Params | Mode \n",
      "-----------------------------------------------------------------\n",
      "0 | auto_encoder   | CancerDataAutoEncoder | 138 K  | train\n",
      "1 | neural_network | SimpleNN              | 7.3 K  | train\n",
      "2 | loss_metric    | MeanSquaredError      | 0      | train\n",
      "3 | val_metric     | MeanSquaredError      | 0      | train\n",
      "4 | test_metric    | MeanSquaredError      | 0      | train\n",
      "-----------------------------------------------------------------\n",
      "7.3 K     Trainable params\n",
      "138 K     Non-trainable params\n",
      "145 K     Total params\n",
      "0.583     Total estimated model params size (MB)\n",
      "44        Modules in train mode\n",
      "0         Modules in eval mode\n"
     ]
    },
    {
     "data": {
      "application/vnd.jupyter.widget-view+json": {
       "model_id": "4c20dc93585f40359d083c879f62c669",
       "version_major": 2,
       "version_minor": 0
      },
      "text/plain": [
       "Sanity Checking: |          | 0/? [00:00<?, ?it/s]"
      ]
     },
     "metadata": {},
     "output_type": "display_data"
    },
    {
     "data": {
      "application/vnd.jupyter.widget-view+json": {
       "model_id": "461704ea124b47088d1c89016da95155",
       "version_major": 2,
       "version_minor": 0
      },
      "text/plain": [
       "Training: |          | 0/? [00:00<?, ?it/s]"
      ]
     },
     "metadata": {},
     "output_type": "display_data"
    },
    {
     "data": {
      "application/vnd.jupyter.widget-view+json": {
       "model_id": "6cc8adc8386846f09997632d5308cf59",
       "version_major": 2,
       "version_minor": 0
      },
      "text/plain": [
       "Validation: |          | 0/? [00:00<?, ?it/s]"
      ]
     },
     "metadata": {},
     "output_type": "display_data"
    },
    {
     "data": {
      "application/vnd.jupyter.widget-view+json": {
       "model_id": "2fea951478b34e929ec5a689a5b3b014",
       "version_major": 2,
       "version_minor": 0
      },
      "text/plain": [
       "Validation: |          | 0/? [00:00<?, ?it/s]"
      ]
     },
     "metadata": {},
     "output_type": "display_data"
    },
    {
     "data": {
      "application/vnd.jupyter.widget-view+json": {
       "model_id": "f001e42ec3dd4ab1ab1770700379dc47",
       "version_major": 2,
       "version_minor": 0
      },
      "text/plain": [
       "Validation: |          | 0/? [00:00<?, ?it/s]"
      ]
     },
     "metadata": {},
     "output_type": "display_data"
    },
    {
     "data": {
      "application/vnd.jupyter.widget-view+json": {
       "model_id": "733a710b12194585b0cbe54ba149e49d",
       "version_major": 2,
       "version_minor": 0
      },
      "text/plain": [
       "Validation: |          | 0/? [00:00<?, ?it/s]"
      ]
     },
     "metadata": {},
     "output_type": "display_data"
    },
    {
     "data": {
      "application/vnd.jupyter.widget-view+json": {
       "model_id": "97b20c321ba54eabbc626c8e43fe74ad",
       "version_major": 2,
       "version_minor": 0
      },
      "text/plain": [
       "Validation: |          | 0/? [00:00<?, ?it/s]"
      ]
     },
     "metadata": {},
     "output_type": "display_data"
    },
    {
     "data": {
      "application/vnd.jupyter.widget-view+json": {
       "model_id": "98cb089a3a284362a0febef0632800cf",
       "version_major": 2,
       "version_minor": 0
      },
      "text/plain": [
       "Validation: |          | 0/? [00:00<?, ?it/s]"
      ]
     },
     "metadata": {},
     "output_type": "display_data"
    },
    {
     "data": {
      "application/vnd.jupyter.widget-view+json": {
       "model_id": "db7f9c8a81fa43a89c40da3b2a5882c9",
       "version_major": 2,
       "version_minor": 0
      },
      "text/plain": [
       "Validation: |          | 0/? [00:00<?, ?it/s]"
      ]
     },
     "metadata": {},
     "output_type": "display_data"
    },
    {
     "data": {
      "application/vnd.jupyter.widget-view+json": {
       "model_id": "9bf5ca937ec548eaa539300cea18ce18",
       "version_major": 2,
       "version_minor": 0
      },
      "text/plain": [
       "Validation: |          | 0/? [00:00<?, ?it/s]"
      ]
     },
     "metadata": {},
     "output_type": "display_data"
    },
    {
     "data": {
      "application/vnd.jupyter.widget-view+json": {
       "model_id": "61f3f6be02a348beb41010f44c52e76b",
       "version_major": 2,
       "version_minor": 0
      },
      "text/plain": [
       "Validation: |          | 0/? [00:00<?, ?it/s]"
      ]
     },
     "metadata": {},
     "output_type": "display_data"
    },
    {
     "data": {
      "application/vnd.jupyter.widget-view+json": {
       "model_id": "7c4e80ec93f24706861411c71d3f41da",
       "version_major": 2,
       "version_minor": 0
      },
      "text/plain": [
       "Validation: |          | 0/? [00:00<?, ?it/s]"
      ]
     },
     "metadata": {},
     "output_type": "display_data"
    },
    {
     "data": {
      "application/vnd.jupyter.widget-view+json": {
       "model_id": "7164c9903fb944508866261fa9edcbb9",
       "version_major": 2,
       "version_minor": 0
      },
      "text/plain": [
       "Validation: |          | 0/? [00:00<?, ?it/s]"
      ]
     },
     "metadata": {},
     "output_type": "display_data"
    },
    {
     "data": {
      "application/vnd.jupyter.widget-view+json": {
       "model_id": "2fc49efcaea14b5398ae103a701488d0",
       "version_major": 2,
       "version_minor": 0
      },
      "text/plain": [
       "Validation: |          | 0/? [00:00<?, ?it/s]"
      ]
     },
     "metadata": {},
     "output_type": "display_data"
    },
    {
     "data": {
      "application/vnd.jupyter.widget-view+json": {
       "model_id": "6f3dcd944912414a9b91e930717aca31",
       "version_major": 2,
       "version_minor": 0
      },
      "text/plain": [
       "Validation: |          | 0/? [00:00<?, ?it/s]"
      ]
     },
     "metadata": {},
     "output_type": "display_data"
    },
    {
     "data": {
      "application/vnd.jupyter.widget-view+json": {
       "model_id": "a9816c50ff664d97a7aeea6f6eff52fa",
       "version_major": 2,
       "version_minor": 0
      },
      "text/plain": [
       "Validation: |          | 0/? [00:00<?, ?it/s]"
      ]
     },
     "metadata": {},
     "output_type": "display_data"
    },
    {
     "data": {
      "application/vnd.jupyter.widget-view+json": {
       "model_id": "89e247fea76c435c855b6b51bd38d25b",
       "version_major": 2,
       "version_minor": 0
      },
      "text/plain": [
       "Validation: |          | 0/? [00:00<?, ?it/s]"
      ]
     },
     "metadata": {},
     "output_type": "display_data"
    },
    {
     "data": {
      "application/vnd.jupyter.widget-view+json": {
       "model_id": "5c6310957ef54916945f3564a4976599",
       "version_major": 2,
       "version_minor": 0
      },
      "text/plain": [
       "Validation: |          | 0/? [00:00<?, ?it/s]"
      ]
     },
     "metadata": {},
     "output_type": "display_data"
    },
    {
     "data": {
      "application/vnd.jupyter.widget-view+json": {
       "model_id": "6d0e8fe3857744828ab32687222552d2",
       "version_major": 2,
       "version_minor": 0
      },
      "text/plain": [
       "Validation: |          | 0/? [00:00<?, ?it/s]"
      ]
     },
     "metadata": {},
     "output_type": "display_data"
    },
    {
     "data": {
      "application/vnd.jupyter.widget-view+json": {
       "model_id": "4888fb91838248f49b41072ddc2068f0",
       "version_major": 2,
       "version_minor": 0
      },
      "text/plain": [
       "Validation: |          | 0/? [00:00<?, ?it/s]"
      ]
     },
     "metadata": {},
     "output_type": "display_data"
    },
    {
     "data": {
      "application/vnd.jupyter.widget-view+json": {
       "model_id": "703be406353b452cbf91540ef327557a",
       "version_major": 2,
       "version_minor": 0
      },
      "text/plain": [
       "Validation: |          | 0/? [00:00<?, ?it/s]"
      ]
     },
     "metadata": {},
     "output_type": "display_data"
    },
    {
     "data": {
      "application/vnd.jupyter.widget-view+json": {
       "model_id": "98c084a151cf483aaeccbc50e2757bee",
       "version_major": 2,
       "version_minor": 0
      },
      "text/plain": [
       "Validation: |          | 0/? [00:00<?, ?it/s]"
      ]
     },
     "metadata": {},
     "output_type": "display_data"
    },
    {
     "name": "stderr",
     "output_type": "stream",
     "text": [
      "`Trainer.fit` stopped: `max_epochs=20` reached.\n"
     ]
    }
   ],
   "source": [
    "from utils.helper_functions import create_classifier_trainer\n",
    "\n",
    "trainer, regressor_csv_logger, regressor_checkpoint = create_classifier_trainer(\"cancer_regressor\")\n",
    "cancer_regressor = BaseCancerRegressor(\n",
    "        cancer_autoencoder,\n",
    "        SimpleNN(\n",
    "            input_dim=best_model_params['latent_size'],\n",
    "            n_layers=3,\n",
    "            dropout=.3,\n",
    "            activation=nn.LeakyReLU,\n",
    "        ),\n",
    "        lr=0.003,\n",
    "        weight_decay=0.004,\n",
    "        optimizer=torch.optim.Adam,\n",
    "    )\n",
    "trainer.fit(\n",
    "    cancer_regressor,\n",
    "    datamodule=CancerDataModule(cancer_df, numerical_features=numeric_cols, scaler=scaler),\n",
    ")"
   ]
  },
  {
   "cell_type": "code",
   "execution_count": 17,
   "metadata": {},
   "outputs": [
    {
     "name": "stderr",
     "output_type": "stream",
     "text": [
      "/uufs/chpc.utah.edu/common/home/clementm-group1/conda/mambaforge/env/bmi_6114/lib/python3.12/site-packages/lightning/fabric/plugins/environments/slurm.py:204: The `srun` command is available on your system but is not used. HINT: If your intention is to run Lightning on SLURM, prepend your python command with `srun` like so: srun python /uufs/chpc.utah.edu/common/home/clementm-group1/cond ...\n",
      "LOCAL_RANK: 0 - CUDA_VISIBLE_DEVICES: [0]\n"
     ]
    },
    {
     "data": {
      "application/vnd.jupyter.widget-view+json": {
       "model_id": "1969351ffdd745a0bdac263104700139",
       "version_major": 2,
       "version_minor": 0
      },
      "text/plain": [
       "Testing: |          | 0/? [00:00<?, ?it/s]"
      ]
     },
     "metadata": {},
     "output_type": "display_data"
    },
    {
     "data": {
      "text/html": [
       "<pre style=\"white-space:pre;overflow-x:auto;line-height:normal;font-family:Menlo,'DejaVu Sans Mono',consolas,'Courier New',monospace\">┏━━━━━━━━━━━━━━━━━━━━━━━━━━━┳━━━━━━━━━━━━━━━━━━━━━━━━━━━┓\n",
       "┃<span style=\"font-weight: bold\">        Test metric        </span>┃<span style=\"font-weight: bold\">       DataLoader 0        </span>┃\n",
       "┡━━━━━━━━━━━━━━━━━━━━━━━━━━━╇━━━━━━━━━━━━━━━━━━━━━━━━━━━┩\n",
       "│<span style=\"color: #008080; text-decoration-color: #008080\">         test_loss         </span>│<span style=\"color: #800080; text-decoration-color: #800080\">     465.3541259765625     </span>│\n",
       "│<span style=\"color: #008080; text-decoration-color: #008080\">         test_mse          </span>│<span style=\"color: #800080; text-decoration-color: #800080\">     426.5283508300781     </span>│\n",
       "└───────────────────────────┴───────────────────────────┘\n",
       "</pre>\n"
      ],
      "text/plain": [
       "┏━━━━━━━━━━━━━━━━━━━━━━━━━━━┳━━━━━━━━━━━━━━━━━━━━━━━━━━━┓\n",
       "┃\u001b[1m \u001b[0m\u001b[1m       Test metric       \u001b[0m\u001b[1m \u001b[0m┃\u001b[1m \u001b[0m\u001b[1m      DataLoader 0       \u001b[0m\u001b[1m \u001b[0m┃\n",
       "┡━━━━━━━━━━━━━━━━━━━━━━━━━━━╇━━━━━━━━━━━━━━━━━━━━━━━━━━━┩\n",
       "│\u001b[36m \u001b[0m\u001b[36m        test_loss        \u001b[0m\u001b[36m \u001b[0m│\u001b[35m \u001b[0m\u001b[35m    465.3541259765625    \u001b[0m\u001b[35m \u001b[0m│\n",
       "│\u001b[36m \u001b[0m\u001b[36m        test_mse         \u001b[0m\u001b[36m \u001b[0m│\u001b[35m \u001b[0m\u001b[35m    426.5283508300781    \u001b[0m\u001b[35m \u001b[0m│\n",
       "└───────────────────────────┴───────────────────────────┘\n"
      ]
     },
     "metadata": {},
     "output_type": "display_data"
    },
    {
     "data": {
      "text/plain": [
       "[{'test_loss': 465.3541259765625, 'test_mse': 426.5283508300781}]"
      ]
     },
     "execution_count": 17,
     "metadata": {},
     "output_type": "execute_result"
    }
   ],
   "source": [
    "trainer.test(\n",
    "    model=cancer_regressor,\n",
    "    datamodule=CancerDataModule(cancer_df, numerical_features=numeric_cols, scaler=scaler),\n",
    ")"
   ]
  },
  {
   "cell_type": "code",
   "execution_count": 18,
   "metadata": {},
   "outputs": [
    {
     "data": {
      "image/png": "[encoded data removed]",
      "text/plain": [
       "<Figure size 1000x600 with 1 Axes>"
      ]
     },
     "metadata": {},
     "output_type": "display_data"
    }
   ],
   "source": [
    "def plot_regression_results(model, dataloader):\n",
    "    model.eval()\n",
    "    y_true = []\n",
    "    y_pred = []\n",
    "    with torch.no_grad():\n",
    "        for batch in dataloader:\n",
    "            x, y = batch\n",
    "            y_hat = model(x)\n",
    "            y_true.append(y)\n",
    "            y_pred.append(y_hat)\n",
    "\n",
    "    y_true = torch.cat(y_true).numpy()\n",
    "    y_pred = torch.cat(y_pred).numpy()\n",
    "\n",
    "    plt.figure(figsize=(10, 6))\n",
    "    plt.scatter(y_true, y_pred, alpha=0.5)\n",
    "    plt.plot([y_true.min(), y_true.max()], [y_true.min(), y_true.max()], 'r--')\n",
    "    plt.xlabel('True Values')\n",
    "    plt.ylabel('Predictions')\n",
    "    plt.title('Regression Results')\n",
    "    plt.show()\n",
    "plot_regression_results(cancer_regressor, cancer_dm.test_dataloader())"
   ]
  },
  {
   "cell_type": "code",
   "execution_count": 19,
   "metadata": {},
   "outputs": [],
   "source": [
    "import optuna\n",
    "\n",
    "trial_to_details = {}\n",
    "def objective(trial):\n",
    "    # Sample hyperparameters\n",
    "    activation_dict = {\n",
    "        \"relu\": nn.ReLU,\n",
    "        \"leaky_relu\": nn.LeakyReLU,\n",
    "        \"tanh\": nn.Tanh,\n",
    "        \"RReLU\": nn.RReLU,\n",
    "    }\n",
    "    optimizer_dict = {\n",
    "        \"adam\": torch.optim.Adam,\n",
    "        \"sgd\": torch.optim.SGD,\n",
    "        \"adagrad\": torch.optim.Adagrad,\n",
    "    }\n",
    "    n_layers = trial.suggest_int(\"n_layers\", 3, 10)\n",
    "    dropout = trial.suggest_float(\"dropout\", 0.0, 0.5)\n",
    "    learning_rate = trial.suggest_float(\"learning_rate\", 1e-5, 1e-2, log=True)\n",
    "    weight_decay = trial.suggest_float(\"weight_decay\", 1e-5, 1e-2, log=True)\n",
    "    optimizer = trial.suggest_categorical(\"optimizer\", list(optimizer_dict.keys()))\n",
    "    activation = trial.suggest_categorical(\"activation\", list(activation_dict.keys()) )\n",
    "\n",
    "    activation = activation_dict[activation]\n",
    "    optimizer = optimizer_dict[optimizer]\n",
    "\n",
    "    model = BaseCancerRegressor(\n",
    "        CancerDataAutoEncoder.load_from_checkpoint(\n",
    "            best_ae_model_path,\n",
    "            **best_model_params\n",
    "        ),\n",
    "        SimpleNN(\n",
    "            input_dim=best_model_params['latent_size'],\n",
    "            n_layers=n_layers,\n",
    "            dropout=dropout,\n",
    "            activation=activation,\n",
    "        ),\n",
    "        lr=learning_rate,\n",
    "        weight_decay=weight_decay,\n",
    "        optimizer=optimizer,\n",
    "    )\n",
    "    trainer, logger, checkpoint = create_classifier_trainer(f\"trial_{trial.number}\", max_epochs=100, enable_pbar=False)\n",
    "\n",
    "\n",
    "    # Training loop\n",
    "    trainer.fit(\n",
    "        model,\n",
    "        datamodule=CancerDataModule(cancer_df, numerical_features=numeric_cols, scaler=scaler),\n",
    "    )\n",
    "    trial_to_details[trial.number] = {\n",
    "        \"logger\" : logger,\n",
    "        \"checkpoint\" : checkpoint,\n",
    "    }\n",
    "\n",
    "    \n",
    "    # Store trial details\n",
    "    trial_to_details[trial.number] = {\n",
    "        \"logger\" : logger,\n",
    "        \"checkpoint\" : checkpoint,\n",
    "    }\n",
    "    metrics_path = f\"{logger.log_dir}/metrics.csv\"\n",
    "    metrics_df = pd.read_csv(metrics_path)\n",
    "\n",
    "    if \"val_mse\" not in metrics_df.columns:\n",
    "        return float(\"inf\")\n",
    "\n",
    "    last_val = metrics_df[\"val_mse\"].dropna().values[-1]\n",
    "    return last_val"
   ]
  },
  {
   "cell_type": "code",
   "execution_count": 20,
   "metadata": {},
   "outputs": [
    {
     "name": "stderr",
     "output_type": "stream",
     "text": [
      "[I 2025-04-14 19:07:44,376] A new study created in memory with name: regressor_study\n"
     ]
    },
    {
     "data": {
      "application/vnd.jupyter.widget-view+json": {
       "model_id": "f4bd502c76fd457dbc4d7aa294da8716",
       "version_major": 2,
       "version_minor": 0
      },
      "text/plain": [
       "  0%|          | 0/50 [00:00<?, ?it/s]"
      ]
     },
     "metadata": {},
     "output_type": "display_data"
    },
    {
     "name": "stderr",
     "output_type": "stream",
     "text": [
      "/uufs/chpc.utah.edu/common/home/clementm-group1/conda/mambaforge/env/bmi_6114/lib/python3.12/site-packages/lightning/fabric/plugins/environments/slurm.py:204: The `srun` command is available on your system but is not used. HINT: If your intention is to run Lightning on SLURM, prepend your python command with `srun` like so: srun python /uufs/chpc.utah.edu/common/home/clementm-group1/cond ...\n",
      "GPU available: True (cuda), used: True\n",
      "TPU available: False, using: 0 TPU cores\n",
      "HPU available: False, using: 0 HPUs\n",
      "GPU available: True (cuda), used: True\n",
      "GPU available: True (cuda), used: True\n",
      "TPU available: False, using: 0 TPU cores\n",
      "TPU available: False, using: 0 TPU cores\n",
      "HPU available: False, using: 0 HPUs\n",
      "HPU available: False, using: 0 HPUs\n",
      "GPU available: True (cuda), used: True\n",
      "TPU available: False, using: 0 TPU cores\n",
      "HPU available: False, using: 0 HPUs\n",
      "/uufs/chpc.utah.edu/common/home/clementm-group1/conda/mambaforge/env/bmi_6114/lib/python3.12/site-packages/lightning/fabric/plugins/environments/slurm.py:204: The `srun` command is available on your system but is not used. HINT: If your intention is to run Lightning on SLURM, prepend your python command with `srun` like so: srun python /uufs/chpc.utah.edu/common/home/clementm-group1/cond ...\n",
      "GPU available: True (cuda), used: True\n",
      "TPU available: False, using: 0 TPU cores\n",
      "HPU available: False, using: 0 HPUs\n",
      "/uufs/chpc.utah.edu/common/home/clementm-group1/conda/mambaforge/env/bmi_6114/lib/python3.12/site-packages/lightning/fabric/plugins/environments/slurm.py:204: The `srun` command is available on your system but is not used. HINT: If your intention is to run Lightning on SLURM, prepend your python command with `srun` like so: srun python /uufs/chpc.utah.edu/common/home/clementm-group1/cond ...\n",
      "/uufs/chpc.utah.edu/common/home/clementm-group1/conda/mambaforge/env/bmi_6114/lib/python3.12/site-packages/lightning/fabric/plugins/environments/slurm.py:204: The `srun` command is available on your system but is not used. HINT: If your intention is to run Lightning on SLURM, prepend your python command with `srun` like so: srun python /uufs/chpc.utah.edu/common/home/clementm-group1/cond ...\n",
      "GPU available: True (cuda), used: True\n",
      "TPU available: False, using: 0 TPU cores\n",
      "HPU available: False, using: 0 HPUs\n",
      "LOCAL_RANK: 0 - CUDA_VISIBLE_DEVICES: [0]\n",
      "GPU available: True (cuda), used: True\n",
      "TPU available: False, using: 0 TPU cores\n",
      "HPU available: False, using: 0 HPUs\n",
      "/uufs/chpc.utah.edu/common/home/clementm-group1/conda/mambaforge/env/bmi_6114/lib/python3.12/site-packages/lightning/fabric/plugins/environments/slurm.py:204: The `srun` command is available on your system but is not used. HINT: If your intention is to run Lightning on SLURM, prepend your python command with `srun` like so: srun python /uufs/chpc.utah.edu/common/home/clementm-group1/cond ...\n",
      "LOCAL_RANK: 0 - CUDA_VISIBLE_DEVICES: [0]\n",
      "\n",
      "  | Name           | Type                  | Params | Mode \n",
      "-----------------------------------------------------------------\n",
      "0 | auto_encoder   | CancerDataAutoEncoder | 138 K  | train\n",
      "1 | neural_network | SimpleNN              | 130 K  | train\n",
      "2 | loss_metric    | MeanSquaredError      | 0      | train\n",
      "3 | val_metric     | MeanSquaredError      | 0      | train\n",
      "4 | test_metric    | MeanSquaredError      | 0      | train\n",
      "-----------------------------------------------------------------\n",
      "130 K     Trainable params\n",
      "138 K     Non-trainable params\n",
      "268 K     Total params\n",
      "1.075     Total estimated model params size (MB)\n",
      "56        Modules in train mode\n",
      "0         Modules in eval mode\n",
      "LOCAL_RANK: 0 - CUDA_VISIBLE_DEVICES: [0]\n",
      "/uufs/chpc.utah.edu/common/home/clementm-group1/conda/mambaforge/env/bmi_6114/lib/python3.12/site-packages/lightning/fabric/plugins/environments/slurm.py:204: The `srun` command is available on your system but is not used. HINT: If your intention is to run Lightning on SLURM, prepend your python command with `srun` like so: srun python /uufs/chpc.utah.edu/common/home/clementm-group1/cond ...\n",
      "\n",
      "  | Name           | Type                  | Params | Mode \n",
      "-----------------------------------------------------------------\n",
      "0 | auto_encoder   | CancerDataAutoEncoder | 138 K  | train\n",
      "1 | neural_network | SimpleNN              | 130 K  | train\n",
      "2 | loss_metric    | MeanSquaredError      | 0      | train\n",
      "3 | val_metric     | MeanSquaredError      | 0      | train\n",
      "4 | test_metric    | MeanSquaredError      | 0      | train\n",
      "-----------------------------------------------------------------\n",
      "130 K     Trainable params\n",
      "138 K     Non-trainable params\n",
      "268 K     Total params\n",
      "1.075     Total estimated model params size (MB)\n",
      "56        Modules in train mode\n",
      "0         Modules in eval mode\n",
      "GPU available: True (cuda), used: True\n",
      "TPU available: False, using: 0 TPU cores\n",
      "HPU available: False, using: 0 HPUs\n",
      "/uufs/chpc.utah.edu/common/home/clementm-group1/conda/mambaforge/env/bmi_6114/lib/python3.12/site-packages/lightning/fabric/plugins/environments/slurm.py:204: The `srun` command is available on your system but is not used. HINT: If your intention is to run Lightning on SLURM, prepend your python command with `srun` like so: srun python /uufs/chpc.utah.edu/common/home/clementm-group1/cond ...\n",
      "\n",
      "  | Name           | Type                  | Params | Mode \n",
      "-----------------------------------------------------------------\n",
      "0 | auto_encoder   | CancerDataAutoEncoder | 138 K  | train\n",
      "1 | neural_network | SimpleNN              | 131 K  | train\n",
      "2 | loss_metric    | MeanSquaredError      | 0      | train\n",
      "3 | val_metric     | MeanSquaredError      | 0      | train\n",
      "4 | test_metric    | MeanSquaredError      | 0      | train\n",
      "-----------------------------------------------------------------\n",
      "131 K     Trainable params\n",
      "138 K     Non-trainable params\n",
      "269 K     Total params\n",
      "1.078     Total estimated model params size (MB)\n",
      "60        Modules in train mode\n",
      "0         Modules in eval mode\n",
      "LOCAL_RANK: 0 - CUDA_VISIBLE_DEVICES: [0]\n",
      "/uufs/chpc.utah.edu/common/home/clementm-group1/conda/mambaforge/env/bmi_6114/lib/python3.12/site-packages/lightning/fabric/plugins/environments/slurm.py:204: The `srun` command is available on your system but is not used. HINT: If your intention is to run Lightning on SLURM, prepend your python command with `srun` like so: srun python /uufs/chpc.utah.edu/common/home/clementm-group1/cond ...\n",
      "LOCAL_RANK: 0 - CUDA_VISIBLE_DEVICES: [0]\n",
      "\n",
      "  | Name           | Type                  | Params | Mode \n",
      "-----------------------------------------------------------------\n",
      "0 | auto_encoder   | CancerDataAutoEncoder | 138 K  | train\n",
      "1 | neural_network | SimpleNN              | 522 K  | train\n",
      "2 | loss_metric    | MeanSquaredError      | 0      | train\n",
      "3 | val_metric     | MeanSquaredError      | 0      | train\n",
      "4 | test_metric    | MeanSquaredError      | 0      | train\n",
      "-----------------------------------------------------------------\n",
      "522 K     Trainable params\n",
      "138 K     Non-trainable params\n",
      "660 K     Total params\n",
      "2.644     Total estimated model params size (MB)\n",
      "64        Modules in train mode\n",
      "0         Modules in eval mode\n",
      "GPU available: True (cuda), used: True\n",
      "TPU available: False, using: 0 TPU cores\n",
      "LOCAL_RANK: 0 - CUDA_VISIBLE_DEVICES: [0]\n",
      "HPU available: False, using: 0 HPUs\n",
      "/uufs/chpc.utah.edu/common/home/clementm-group1/conda/mambaforge/env/bmi_6114/lib/python3.12/site-packages/lightning/fabric/plugins/environments/slurm.py:204: The `srun` command is available on your system but is not used. HINT: If your intention is to run Lightning on SLURM, prepend your python command with `srun` like so: srun python /uufs/chpc.utah.edu/common/home/clementm-group1/cond ...\n",
      "\n",
      "  | Name           | Type                  | Params | Mode \n",
      "-----------------------------------------------------------------\n",
      "0 | auto_encoder   | CancerDataAutoEncoder | 138 K  | train\n",
      "1 | neural_network | SimpleNN              | 31.5 K | train\n",
      "2 | loss_metric    | MeanSquaredError      | 0      | train\n",
      "3 | val_metric     | MeanSquaredError      | 0      | train\n",
      "4 | test_metric    | MeanSquaredError      | 0      | train\n",
      "-----------------------------------------------------------------\n",
      "31.5 K    Trainable params\n",
      "138 K     Non-trainable params\n",
      "170 K     Total params\n",
      "0.680     Total estimated model params size (MB)\n",
      "48        Modules in train mode\n",
      "0         Modules in eval mode\n",
      "GPU available: True (cuda), used: True\n",
      "GPU available: True (cuda), used: True\n",
      "TPU available: False, using: 0 TPU cores\n",
      "HPU available: False, using: 0 HPUs\n",
      "/uufs/chpc.utah.edu/common/home/clementm-group1/conda/mambaforge/env/bmi_6114/lib/python3.12/site-packages/lightning/fabric/plugins/environments/slurm.py:204: The `srun` command is available on your system but is not used. HINT: If your intention is to run Lightning on SLURM, prepend your python command with `srun` like so: srun python /uufs/chpc.utah.edu/common/home/clementm-group1/cond ...\n",
      "TPU available: False, using: 0 TPU cores\n",
      "HPU available: False, using: 0 HPUs\n",
      "GPU available: True (cuda), used: True\n",
      "TPU available: False, using: 0 TPU cores\n",
      "HPU available: False, using: 0 HPUs\n",
      "/uufs/chpc.utah.edu/common/home/clementm-group1/conda/mambaforge/env/bmi_6114/lib/python3.12/site-packages/lightning/fabric/plugins/environments/slurm.py:204: The `srun` command is available on your system but is not used. HINT: If your intention is to run Lightning on SLURM, prepend your python command with `srun` like so: srun python /uufs/chpc.utah.edu/common/home/clementm-group1/cond ...\n",
      "LOCAL_RANK: 0 - CUDA_VISIBLE_DEVICES: [0]\n",
      "\n",
      "  | Name           | Type                  | Params | Mode \n",
      "-----------------------------------------------------------------\n",
      "0 | auto_encoder   | CancerDataAutoEncoder | 138 K  | train\n",
      "1 | neural_network | SimpleNN              | 31.5 K | train\n",
      "2 | loss_metric    | MeanSquaredError      | 0      | train\n",
      "3 | val_metric     | MeanSquaredError      | 0      | train\n",
      "4 | test_metric    | MeanSquaredError      | 0      | train\n",
      "-----------------------------------------------------------------\n",
      "31.5 K    Trainable params\n",
      "138 K     Non-trainable params\n",
      "170 K     Total params\n",
      "0.680     Total estimated model params size (MB)\n",
      "48        Modules in train mode\n",
      "0         Modules in eval mode\n",
      "LOCAL_RANK: 0 - CUDA_VISIBLE_DEVICES: [0]\n",
      "GPU available: True (cuda), used: True\n",
      "TPU available: False, using: 0 TPU cores\n",
      "HPU available: False, using: 0 HPUs\n",
      "/uufs/chpc.utah.edu/common/home/clementm-group1/conda/mambaforge/env/bmi_6114/lib/python3.12/site-packages/lightning/fabric/plugins/environments/slurm.py:204: The `srun` command is available on your system but is not used. HINT: If your intention is to run Lightning on SLURM, prepend your python command with `srun` like so: srun python /uufs/chpc.utah.edu/common/home/clementm-group1/cond ...\n",
      "\n",
      "  | Name           | Type                  | Params | Mode \n",
      "-----------------------------------------------------------------\n",
      "0 | auto_encoder   | CancerDataAutoEncoder | 138 K  | train\n",
      "1 | neural_network | SimpleNN              | 522 K  | train\n",
      "2 | loss_metric    | MeanSquaredError      | 0      | train\n",
      "3 | val_metric     | MeanSquaredError      | 0      | train\n",
      "4 | test_metric    | MeanSquaredError      | 0      | train\n",
      "-----------------------------------------------------------------\n",
      "522 K     Trainable params\n",
      "138 K     Non-trainable params\n",
      "660 K     Total params\n",
      "2.644     Total estimated model params size (MB)\n",
      "64        Modules in train mode\n",
      "0         Modules in eval mode\n",
      "\n",
      "  | Name           | Type                  | Params | Mode \n",
      "-----------------------------------------------------------------\n",
      "0 | auto_encoder   | CancerDataAutoEncoder | 138 K  | train\n",
      "1 | neural_network | SimpleNN              | 2.1 M  | train\n",
      "2 | loss_metric    | MeanSquaredError      | 0      | train\n",
      "3 | val_metric     | MeanSquaredError      | 0      | train\n",
      "4 | test_metric    | MeanSquaredError      | 0      | train\n",
      "-----------------------------------------------------------------\n",
      "2.1 M     Trainable params\n",
      "138 K     Non-trainable params\n",
      "2.2 M     Total params\n",
      "8.896     Total estimated model params size (MB)\n",
      "72        Modules in train mode\n",
      "0         Modules in eval mode\n",
      "GPU available: True (cuda), used: True\n",
      "TPU available: False, using: 0 TPU cores\n",
      "HPU available: False, using: 0 HPUs\n",
      "/uufs/chpc.utah.edu/common/home/clementm-group1/conda/mambaforge/env/bmi_6114/lib/python3.12/site-packages/lightning/fabric/plugins/environments/slurm.py:204: The `srun` command is available on your system but is not used. HINT: If your intention is to run Lightning on SLURM, prepend your python command with `srun` like so: srun python /uufs/chpc.utah.edu/common/home/clementm-group1/cond ...\n",
      "LOCAL_RANK: 0 - CUDA_VISIBLE_DEVICES: [0]\n",
      "LOCAL_RANK: 0 - CUDA_VISIBLE_DEVICES: [0]\n",
      "\n",
      "  | Name           | Type                  | Params | Mode \n",
      "-----------------------------------------------------------------\n",
      "0 | auto_encoder   | CancerDataAutoEncoder | 138 K  | train\n",
      "1 | neural_network | SimpleNN              | 131 K  | train\n",
      "2 | loss_metric    | MeanSquaredError      | 0      | train\n",
      "3 | val_metric     | MeanSquaredError      | 0      | train\n",
      "4 | test_metric    | MeanSquaredError      | 0      | train\n",
      "-----------------------------------------------------------------\n",
      "131 K     Trainable params\n",
      "138 K     Non-trainable params\n",
      "269 K     Total params\n",
      "1.078     Total estimated model params size (MB)\n",
      "60        Modules in train mode\n",
      "0         Modules in eval mode\n",
      "LOCAL_RANK: 0 - CUDA_VISIBLE_DEVICES: [0]\n",
      "\n",
      "  | Name           | Type                  | Params | Mode \n",
      "-----------------------------------------------------------------\n",
      "0 | auto_encoder   | CancerDataAutoEncoder | 138 K  | train\n",
      "1 | neural_network | SimpleNN              | 2.1 M  | train\n",
      "2 | loss_metric    | MeanSquaredError      | 0      | train\n",
      "3 | val_metric     | MeanSquaredError      | 0      | train\n",
      "4 | test_metric    | MeanSquaredError      | 0      | train\n",
      "-----------------------------------------------------------------\n",
      "2.1 M     Trainable params\n",
      "138 K     Non-trainable params\n",
      "2.2 M     Total params\n",
      "8.896     Total estimated model params size (MB)\n",
      "72        Modules in train mode\n",
      "0         Modules in eval mode\n",
      "\n",
      "  | Name           | Type                  | Params | Mode \n",
      "-----------------------------------------------------------------\n",
      "0 | auto_encoder   | CancerDataAutoEncoder | 138 K  | train\n",
      "1 | neural_network | SimpleNN              | 130 K  | train\n",
      "2 | loss_metric    | MeanSquaredError      | 0      | train\n",
      "3 | val_metric     | MeanSquaredError      | 0      | train\n",
      "4 | test_metric    | MeanSquaredError      | 0      | train\n",
      "-----------------------------------------------------------------\n",
      "130 K     Trainable params\n",
      "138 K     Non-trainable params\n",
      "268 K     Total params\n",
      "1.075     Total estimated model params size (MB)\n",
      "56        Modules in train mode\n",
      "0         Modules in eval mode\n",
      "GPU available: True (cuda), used: True\n",
      "TPU available: False, using: 0 TPU cores\n",
      "HPU available: False, using: 0 HPUs\n",
      "/uufs/chpc.utah.edu/common/home/clementm-group1/conda/mambaforge/env/bmi_6114/lib/python3.12/site-packages/lightning/fabric/plugins/environments/slurm.py:204: The `srun` command is available on your system but is not used. HINT: If your intention is to run Lightning on SLURM, prepend your python command with `srun` like so: srun python /uufs/chpc.utah.edu/common/home/clementm-group1/cond ...\n",
      "LOCAL_RANK: 0 - CUDA_VISIBLE_DEVICES: [0]\n",
      "\n",
      "  | Name           | Type                  | Params | Mode \n",
      "-----------------------------------------------------------------\n",
      "0 | auto_encoder   | CancerDataAutoEncoder | 138 K  | train\n",
      "1 | neural_network | SimpleNN              | 130 K  | train\n",
      "2 | loss_metric    | MeanSquaredError      | 0      | train\n",
      "3 | val_metric     | MeanSquaredError      | 0      | train\n",
      "4 | test_metric    | MeanSquaredError      | 0      | train\n",
      "-----------------------------------------------------------------\n",
      "130 K     Trainable params\n",
      "138 K     Non-trainable params\n",
      "268 K     Total params\n",
      "1.075     Total estimated model params size (MB)\n",
      "56        Modules in train mode\n",
      "0         Modules in eval mode\n",
      "LOCAL_RANK: 0 - CUDA_VISIBLE_DEVICES: [0]\n",
      "\n",
      "  | Name           | Type                  | Params | Mode \n",
      "-----------------------------------------------------------------\n",
      "0 | auto_encoder   | CancerDataAutoEncoder | 138 K  | train\n",
      "1 | neural_network | SimpleNN              | 32.3 K | train\n",
      "2 | loss_metric    | MeanSquaredError      | 0      | train\n",
      "3 | val_metric     | MeanSquaredError      | 0      | train\n",
      "4 | test_metric    | MeanSquaredError      | 0      | train\n",
      "-----------------------------------------------------------------\n",
      "32.3 K    Trainable params\n",
      "138 K     Non-trainable params\n",
      "170 K     Total params\n",
      "0.683     Total estimated model params size (MB)\n",
      "52        Modules in train mode\n",
      "0         Modules in eval mode\n",
      "LOCAL_RANK: 0 - CUDA_VISIBLE_DEVICES: [0]\n",
      "\n",
      "  | Name           | Type                  | Params | Mode \n",
      "-----------------------------------------------------------------\n",
      "0 | auto_encoder   | CancerDataAutoEncoder | 138 K  | train\n",
      "1 | neural_network | SimpleNN              | 7.3 K  | train\n",
      "2 | loss_metric    | MeanSquaredError      | 0      | train\n",
      "3 | val_metric     | MeanSquaredError      | 0      | train\n",
      "4 | test_metric    | MeanSquaredError      | 0      | train\n",
      "-----------------------------------------------------------------\n",
      "7.3 K     Trainable params\n",
      "138 K     Non-trainable params\n",
      "145 K     Total params\n",
      "0.583     Total estimated model params size (MB)\n",
      "44        Modules in train mode\n",
      "0         Modules in eval mode\n",
      "LOCAL_RANK: 0 - CUDA_VISIBLE_DEVICES: [0]\n",
      "\n",
      "  | Name           | Type                  | Params | Mode \n",
      "-----------------------------------------------------------------\n",
      "0 | auto_encoder   | CancerDataAutoEncoder | 138 K  | train\n",
      "1 | neural_network | SimpleNN              | 130 K  | train\n",
      "2 | loss_metric    | MeanSquaredError      | 0      | train\n",
      "3 | val_metric     | MeanSquaredError      | 0      | train\n",
      "4 | test_metric    | MeanSquaredError      | 0      | train\n",
      "-----------------------------------------------------------------\n",
      "130 K     Trainable params\n",
      "138 K     Non-trainable params\n",
      "268 K     Total params\n",
      "1.075     Total estimated model params size (MB)\n",
      "56        Modules in train mode\n",
      "0         Modules in eval mode\n"
     ]
    },
    {
     "name": "stdout",
     "output_type": "stream",
     "text": [
      "[I 2025-04-14 19:12:03,925] Trial 6 finished with value: 1041.6937255859375 and parameters: {'n_layers': 6, 'dropout': 0.09670005457192615, 'learning_rate': 1.650074379166687e-05, 'weight_decay': 0.001412184501018559, 'optimizer': 'adam', 'activation': 'RReLU'}. Best is trial 6 with value: 1041.6937255859375.\n"
     ]
    },
    {
     "name": "stderr",
     "output_type": "stream",
     "text": [
      "/uufs/chpc.utah.edu/common/home/clementm-group1/conda/mambaforge/env/bmi_6114/lib/python3.12/site-packages/lightning/fabric/plugins/environments/slurm.py:204: The `srun` command is available on your system but is not used. HINT: If your intention is to run Lightning on SLURM, prepend your python command with `srun` like so: srun python /uufs/chpc.utah.edu/common/home/clementm-group1/cond ...\n",
      "GPU available: True (cuda), used: True\n",
      "TPU available: False, using: 0 TPU cores\n",
      "HPU available: False, using: 0 HPUs\n",
      "LOCAL_RANK: 0 - CUDA_VISIBLE_DEVICES: [0]\n",
      "\n",
      "  | Name           | Type                  | Params | Mode \n",
      "-----------------------------------------------------------------\n",
      "0 | auto_encoder   | CancerDataAutoEncoder | 138 K  | train\n",
      "1 | neural_network | SimpleNN              | 7.3 K  | train\n",
      "2 | loss_metric    | MeanSquaredError      | 0      | train\n",
      "3 | val_metric     | MeanSquaredError      | 0      | train\n",
      "4 | test_metric    | MeanSquaredError      | 0      | train\n",
      "-----------------------------------------------------------------\n",
      "7.3 K     Trainable params\n",
      "138 K     Non-trainable params\n",
      "145 K     Total params\n",
      "0.583     Total estimated model params size (MB)\n",
      "44        Modules in train mode\n",
      "0         Modules in eval mode\n"
     ]
    },
    {
     "name": "stdout",
     "output_type": "stream",
     "text": [
      "[I 2025-04-14 19:12:50,819] Trial 5 finished with value: 1024.0880126953125 and parameters: {'n_layers': 5, 'dropout': 0.450831060921652, 'learning_rate': 4.729374631813288e-05, 'weight_decay': 0.000579244398704923, 'optimizer': 'sgd', 'activation': 'tanh'}. Best is trial 5 with value: 1024.0880126953125.\n"
     ]
    },
    {
     "name": "stderr",
     "output_type": "stream",
     "text": [
      "/uufs/chpc.utah.edu/common/home/clementm-group1/conda/mambaforge/env/bmi_6114/lib/python3.12/site-packages/lightning/fabric/plugins/environments/slurm.py:204: The `srun` command is available on your system but is not used. HINT: If your intention is to run Lightning on SLURM, prepend your python command with `srun` like so: srun python /uufs/chpc.utah.edu/common/home/clementm-group1/cond ...\n",
      "GPU available: True (cuda), used: True\n",
      "TPU available: False, using: 0 TPU cores\n",
      "HPU available: False, using: 0 HPUs\n",
      "LOCAL_RANK: 0 - CUDA_VISIBLE_DEVICES: [0]\n",
      "\n",
      "  | Name           | Type                  | Params | Mode \n",
      "-----------------------------------------------------------------\n",
      "0 | auto_encoder   | CancerDataAutoEncoder | 138 K  | train\n",
      "1 | neural_network | SimpleNN              | 130 K  | train\n",
      "2 | loss_metric    | MeanSquaredError      | 0      | train\n",
      "3 | val_metric     | MeanSquaredError      | 0      | train\n",
      "4 | test_metric    | MeanSquaredError      | 0      | train\n",
      "-----------------------------------------------------------------\n",
      "130 K     Trainable params\n",
      "138 K     Non-trainable params\n",
      "268 K     Total params\n",
      "1.075     Total estimated model params size (MB)\n",
      "56        Modules in train mode\n",
      "0         Modules in eval mode\n"
     ]
    },
    {
     "name": "stdout",
     "output_type": "stream",
     "text": [
      "[I 2025-04-14 19:14:40,953] Trial 1 finished with value: 1038.436279296875 and parameters: {'n_layers': 4, 'dropout': 0.4245592410127293, 'learning_rate': 5.119375658502065e-05, 'weight_decay': 4.3164763844158954e-05, 'optimizer': 'adagrad', 'activation': 'RReLU'}. Best is trial 5 with value: 1024.0880126953125.\n"
     ]
    },
    {
     "name": "stderr",
     "output_type": "stream",
     "text": [
      "/uufs/chpc.utah.edu/common/home/clementm-group1/conda/mambaforge/env/bmi_6114/lib/python3.12/site-packages/lightning/fabric/plugins/environments/slurm.py:204: The `srun` command is available on your system but is not used. HINT: If your intention is to run Lightning on SLURM, prepend your python command with `srun` like so: srun python /uufs/chpc.utah.edu/common/home/clementm-group1/cond ...\n",
      "GPU available: True (cuda), used: True\n",
      "TPU available: False, using: 0 TPU cores\n",
      "HPU available: False, using: 0 HPUs\n",
      "LOCAL_RANK: 0 - CUDA_VISIBLE_DEVICES: [0]\n",
      "\n",
      "  | Name           | Type                  | Params | Mode \n",
      "-----------------------------------------------------------------\n",
      "0 | auto_encoder   | CancerDataAutoEncoder | 138 K  | train\n",
      "1 | neural_network | SimpleNN              | 31.5 K | train\n",
      "2 | loss_metric    | MeanSquaredError      | 0      | train\n",
      "3 | val_metric     | MeanSquaredError      | 0      | train\n",
      "4 | test_metric    | MeanSquaredError      | 0      | train\n",
      "-----------------------------------------------------------------\n",
      "31.5 K    Trainable params\n",
      "138 K     Non-trainable params\n",
      "170 K     Total params\n",
      "0.680     Total estimated model params size (MB)\n",
      "48        Modules in train mode\n",
      "0         Modules in eval mode\n"
     ]
    },
    {
     "name": "stdout",
     "output_type": "stream",
     "text": [
      "[I 2025-04-14 19:17:04,844] Trial 7 finished with value: 721.656982421875 and parameters: {'n_layers': 10, 'dropout': 0.07577578970429016, 'learning_rate': 0.0010926705138919776, 'weight_decay': 0.0008396315470102973, 'optimizer': 'sgd', 'activation': 'RReLU'}. Best is trial 7 with value: 721.656982421875.\n"
     ]
    },
    {
     "name": "stderr",
     "output_type": "stream",
     "text": [
      "/uufs/chpc.utah.edu/common/home/clementm-group1/conda/mambaforge/env/bmi_6114/lib/python3.12/site-packages/lightning/fabric/plugins/environments/slurm.py:204: The `srun` command is available on your system but is not used. HINT: If your intention is to run Lightning on SLURM, prepend your python command with `srun` like so: srun python /uufs/chpc.utah.edu/common/home/clementm-group1/cond ...\n",
      "GPU available: True (cuda), used: True\n",
      "TPU available: False, using: 0 TPU cores\n",
      "HPU available: False, using: 0 HPUs\n",
      "LOCAL_RANK: 0 - CUDA_VISIBLE_DEVICES: [0]\n",
      "\n",
      "  | Name           | Type                  | Params | Mode \n",
      "-----------------------------------------------------------------\n",
      "0 | auto_encoder   | CancerDataAutoEncoder | 138 K  | train\n",
      "1 | neural_network | SimpleNN              | 522 K  | train\n",
      "2 | loss_metric    | MeanSquaredError      | 0      | train\n",
      "3 | val_metric     | MeanSquaredError      | 0      | train\n",
      "4 | test_metric    | MeanSquaredError      | 0      | train\n",
      "-----------------------------------------------------------------\n",
      "522 K     Trainable params\n",
      "138 K     Non-trainable params\n",
      "660 K     Total params\n",
      "2.644     Total estimated model params size (MB)\n",
      "64        Modules in train mode\n",
      "0         Modules in eval mode\n"
     ]
    },
    {
     "name": "stdout",
     "output_type": "stream",
     "text": [
      "[I 2025-04-14 19:19:21,993] Trial 0 finished with value: 1022.8276977539062 and parameters: {'n_layers': 8, 'dropout': 0.054874797374063033, 'learning_rate': 0.00021654543288641094, 'weight_decay': 0.0004966938111897783, 'optimizer': 'adam', 'activation': 'RReLU'}. Best is trial 7 with value: 721.656982421875.\n"
     ]
    },
    {
     "name": "stderr",
     "output_type": "stream",
     "text": [
      "/uufs/chpc.utah.edu/common/home/clementm-group1/conda/mambaforge/env/bmi_6114/lib/python3.12/site-packages/lightning/fabric/plugins/environments/slurm.py:204: The `srun` command is available on your system but is not used. HINT: If your intention is to run Lightning on SLURM, prepend your python command with `srun` like so: srun python /uufs/chpc.utah.edu/common/home/clementm-group1/cond ...\n",
      "GPU available: True (cuda), used: True\n",
      "TPU available: False, using: 0 TPU cores\n",
      "HPU available: False, using: 0 HPUs\n",
      "LOCAL_RANK: 0 - CUDA_VISIBLE_DEVICES: [0]\n",
      "\n",
      "  | Name           | Type                  | Params | Mode \n",
      "-----------------------------------------------------------------\n",
      "0 | auto_encoder   | CancerDataAutoEncoder | 138 K  | train\n",
      "1 | neural_network | SimpleNN              | 131 K  | train\n",
      "2 | loss_metric    | MeanSquaredError      | 0      | train\n",
      "3 | val_metric     | MeanSquaredError      | 0      | train\n",
      "4 | test_metric    | MeanSquaredError      | 0      | train\n",
      "-----------------------------------------------------------------\n",
      "131 K     Trainable params\n",
      "138 K     Non-trainable params\n",
      "269 K     Total params\n",
      "1.078     Total estimated model params size (MB)\n",
      "60        Modules in train mode\n",
      "0         Modules in eval mode\n"
     ]
    },
    {
     "name": "stdout",
     "output_type": "stream",
     "text": [
      "[I 2025-04-14 19:19:40,445] Trial 11 finished with value: 676.6574096679688 and parameters: {'n_layers': 3, 'dropout': 0.34804143041479496, 'learning_rate': 0.0027491932277572133, 'weight_decay': 0.00013722386151781267, 'optimizer': 'sgd', 'activation': 'relu'}. Best is trial 11 with value: 676.6574096679688.\n"
     ]
    },
    {
     "name": "stderr",
     "output_type": "stream",
     "text": [
      "/uufs/chpc.utah.edu/common/home/clementm-group1/conda/mambaforge/env/bmi_6114/lib/python3.12/site-packages/lightning/fabric/plugins/environments/slurm.py:204: The `srun` command is available on your system but is not used. HINT: If your intention is to run Lightning on SLURM, prepend your python command with `srun` like so: srun python /uufs/chpc.utah.edu/common/home/clementm-group1/cond ...\n",
      "GPU available: True (cuda), used: True\n",
      "TPU available: False, using: 0 TPU cores\n",
      "HPU available: False, using: 0 HPUs\n",
      "LOCAL_RANK: 0 - CUDA_VISIBLE_DEVICES: [0]\n",
      "\n",
      "  | Name           | Type                  | Params | Mode \n",
      "-----------------------------------------------------------------\n",
      "0 | auto_encoder   | CancerDataAutoEncoder | 138 K  | train\n",
      "1 | neural_network | SimpleNN              | 32.3 K | train\n",
      "2 | loss_metric    | MeanSquaredError      | 0      | train\n",
      "3 | val_metric     | MeanSquaredError      | 0      | train\n",
      "4 | test_metric    | MeanSquaredError      | 0      | train\n",
      "-----------------------------------------------------------------\n",
      "32.3 K    Trainable params\n",
      "138 K     Non-trainable params\n",
      "170 K     Total params\n",
      "0.683     Total estimated model params size (MB)\n",
      "52        Modules in train mode\n",
      "0         Modules in eval mode\n"
     ]
    },
    {
     "name": "stdout",
     "output_type": "stream",
     "text": [
      "[I 2025-04-14 19:25:46,675] Trial 16 finished with value: 707.0446166992188 and parameters: {'n_layers': 6, 'dropout': 0.13531868577591077, 'learning_rate': 0.0009392821724206934, 'weight_decay': 0.00183584331315351, 'optimizer': 'sgd', 'activation': 'leaky_relu'}. Best is trial 11 with value: 676.6574096679688.\n"
     ]
    },
    {
     "name": "stderr",
     "output_type": "stream",
     "text": [
      "/uufs/chpc.utah.edu/common/home/clementm-group1/conda/mambaforge/env/bmi_6114/lib/python3.12/site-packages/lightning/fabric/plugins/environments/slurm.py:204: The `srun` command is available on your system but is not used. HINT: If your intention is to run Lightning on SLURM, prepend your python command with `srun` like so: srun python /uufs/chpc.utah.edu/common/home/clementm-group1/cond ...\n",
      "GPU available: True (cuda), used: True\n",
      "TPU available: False, using: 0 TPU cores\n",
      "HPU available: False, using: 0 HPUs\n",
      "LOCAL_RANK: 0 - CUDA_VISIBLE_DEVICES: [0]\n",
      "\n",
      "  | Name           | Type                  | Params | Mode \n",
      "-----------------------------------------------------------------\n",
      "0 | auto_encoder   | CancerDataAutoEncoder | 138 K  | train\n",
      "1 | neural_network | SimpleNN              | 7.3 K  | train\n",
      "2 | loss_metric    | MeanSquaredError      | 0      | train\n",
      "3 | val_metric     | MeanSquaredError      | 0      | train\n",
      "4 | test_metric    | MeanSquaredError      | 0      | train\n",
      "-----------------------------------------------------------------\n",
      "7.3 K     Trainable params\n",
      "138 K     Non-trainable params\n",
      "145 K     Total params\n",
      "0.583     Total estimated model params size (MB)\n",
      "44        Modules in train mode\n",
      "0         Modules in eval mode\n"
     ]
    },
    {
     "name": "stdout",
     "output_type": "stream",
     "text": [
      "[I 2025-04-14 19:26:51,039] Trial 20 finished with value: 1027.8416748046875 and parameters: {'n_layers': 5, 'dropout': 0.10731799757498339, 'learning_rate': 1.0767582442374494e-05, 'weight_decay': 0.0075553857381457385, 'optimizer': 'adam', 'activation': 'tanh'}. Best is trial 11 with value: 676.6574096679688.\n"
     ]
    },
    {
     "name": "stderr",
     "output_type": "stream",
     "text": [
      "/uufs/chpc.utah.edu/common/home/clementm-group1/conda/mambaforge/env/bmi_6114/lib/python3.12/site-packages/lightning/fabric/plugins/environments/slurm.py:204: The `srun` command is available on your system but is not used. HINT: If your intention is to run Lightning on SLURM, prepend your python command with `srun` like so: srun python /uufs/chpc.utah.edu/common/home/clementm-group1/cond ...\n",
      "GPU available: True (cuda), used: True\n",
      "TPU available: False, using: 0 TPU cores\n",
      "HPU available: False, using: 0 HPUs\n",
      "LOCAL_RANK: 0 - CUDA_VISIBLE_DEVICES: [0]\n",
      "\n",
      "  | Name           | Type                  | Params | Mode \n",
      "-----------------------------------------------------------------\n",
      "0 | auto_encoder   | CancerDataAutoEncoder | 138 K  | train\n",
      "1 | neural_network | SimpleNN              | 523 K  | train\n",
      "2 | loss_metric    | MeanSquaredError      | 0      | train\n",
      "3 | val_metric     | MeanSquaredError      | 0      | train\n",
      "4 | test_metric    | MeanSquaredError      | 0      | train\n",
      "-----------------------------------------------------------------\n",
      "523 K     Trainable params\n",
      "138 K     Non-trainable params\n",
      "661 K     Total params\n",
      "2.647     Total estimated model params size (MB)\n",
      "68        Modules in train mode\n",
      "0         Modules in eval mode\n"
     ]
    },
    {
     "name": "stdout",
     "output_type": "stream",
     "text": [
      "[I 2025-04-14 19:29:02,279] Trial 12 finished with value: 907.3372802734376 and parameters: {'n_layers': 6, 'dropout': 0.35356213888341415, 'learning_rate': 0.005688128731149061, 'weight_decay': 0.0004110302463760058, 'optimizer': 'adagrad', 'activation': 'relu'}. Best is trial 11 with value: 676.6574096679688.\n"
     ]
    },
    {
     "name": "stderr",
     "output_type": "stream",
     "text": [
      "/uufs/chpc.utah.edu/common/home/clementm-group1/conda/mambaforge/env/bmi_6114/lib/python3.12/site-packages/lightning/fabric/plugins/environments/slurm.py:204: The `srun` command is available on your system but is not used. HINT: If your intention is to run Lightning on SLURM, prepend your python command with `srun` like so: srun python /uufs/chpc.utah.edu/common/home/clementm-group1/cond ...\n",
      "GPU available: True (cuda), used: True\n",
      "TPU available: False, using: 0 TPU cores\n",
      "HPU available: False, using: 0 HPUs\n",
      "LOCAL_RANK: 0 - CUDA_VISIBLE_DEVICES: [0]\n",
      "\n",
      "  | Name           | Type                  | Params | Mode \n",
      "-----------------------------------------------------------------\n",
      "0 | auto_encoder   | CancerDataAutoEncoder | 138 K  | train\n",
      "1 | neural_network | SimpleNN              | 2.1 M  | train\n",
      "2 | loss_metric    | MeanSquaredError      | 0      | train\n",
      "3 | val_metric     | MeanSquaredError      | 0      | train\n",
      "4 | test_metric    | MeanSquaredError      | 0      | train\n",
      "-----------------------------------------------------------------\n",
      "2.1 M     Trainable params\n",
      "138 K     Non-trainable params\n",
      "2.2 M     Total params\n",
      "8.896     Total estimated model params size (MB)\n",
      "72        Modules in train mode\n",
      "0         Modules in eval mode\n"
     ]
    },
    {
     "name": "stdout",
     "output_type": "stream",
     "text": [
      "[I 2025-04-14 19:29:33,674] Trial 19 finished with value: 1037.70263671875 and parameters: {'n_layers': 7, 'dropout': 0.2834930846740978, 'learning_rate': 1.3064279396768707e-05, 'weight_decay': 0.002941121582669838, 'optimizer': 'adam', 'activation': 'RReLU'}. Best is trial 11 with value: 676.6574096679688.\n"
     ]
    },
    {
     "name": "stderr",
     "output_type": "stream",
     "text": [
      "/uufs/chpc.utah.edu/common/home/clementm-group1/conda/mambaforge/env/bmi_6114/lib/python3.12/site-packages/lightning/fabric/plugins/environments/slurm.py:204: The `srun` command is available on your system but is not used. HINT: If your intention is to run Lightning on SLURM, prepend your python command with `srun` like so: srun python /uufs/chpc.utah.edu/common/home/clementm-group1/cond ...\n",
      "GPU available: True (cuda), used: True\n",
      "TPU available: False, using: 0 TPU cores\n",
      "HPU available: False, using: 0 HPUs\n",
      "LOCAL_RANK: 0 - CUDA_VISIBLE_DEVICES: [0]\n",
      "\n",
      "  | Name           | Type                  | Params | Mode \n",
      "-----------------------------------------------------------------\n",
      "0 | auto_encoder   | CancerDataAutoEncoder | 138 K  | train\n",
      "1 | neural_network | SimpleNN              | 7.3 K  | train\n",
      "2 | loss_metric    | MeanSquaredError      | 0      | train\n",
      "3 | val_metric     | MeanSquaredError      | 0      | train\n",
      "4 | test_metric    | MeanSquaredError      | 0      | train\n",
      "-----------------------------------------------------------------\n",
      "7.3 K     Trainable params\n",
      "138 K     Non-trainable params\n",
      "145 K     Total params\n",
      "0.583     Total estimated model params size (MB)\n",
      "44        Modules in train mode\n",
      "0         Modules in eval mode\n"
     ]
    },
    {
     "name": "stdout",
     "output_type": "stream",
     "text": [
      "[I 2025-04-14 19:30:10,206] Trial 15 finished with value: 1030.1904296875 and parameters: {'n_layers': 3, 'dropout': 0.27746087995765967, 'learning_rate': 0.0005490667270263871, 'weight_decay': 0.007233002846034109, 'optimizer': 'adagrad', 'activation': 'relu'}. Best is trial 11 with value: 676.6574096679688.\n"
     ]
    },
    {
     "name": "stderr",
     "output_type": "stream",
     "text": [
      "/uufs/chpc.utah.edu/common/home/clementm-group1/conda/mambaforge/env/bmi_6114/lib/python3.12/site-packages/lightning/fabric/plugins/environments/slurm.py:204: The `srun` command is available on your system but is not used. HINT: If your intention is to run Lightning on SLURM, prepend your python command with `srun` like so: srun python /uufs/chpc.utah.edu/common/home/clementm-group1/cond ...\n",
      "GPU available: True (cuda), used: True\n",
      "TPU available: False, using: 0 TPU cores\n",
      "HPU available: False, using: 0 HPUs\n",
      "LOCAL_RANK: 0 - CUDA_VISIBLE_DEVICES: [0]\n",
      "\n",
      "  | Name           | Type                  | Params | Mode \n",
      "-----------------------------------------------------------------\n",
      "0 | auto_encoder   | CancerDataAutoEncoder | 138 K  | train\n",
      "1 | neural_network | SimpleNN              | 7.3 K  | train\n",
      "2 | loss_metric    | MeanSquaredError      | 0      | train\n",
      "3 | val_metric     | MeanSquaredError      | 0      | train\n",
      "4 | test_metric    | MeanSquaredError      | 0      | train\n",
      "-----------------------------------------------------------------\n",
      "7.3 K     Trainable params\n",
      "138 K     Non-trainable params\n",
      "145 K     Total params\n",
      "0.583     Total estimated model params size (MB)\n",
      "44        Modules in train mode\n",
      "0         Modules in eval mode\n"
     ]
    },
    {
     "name": "stdout",
     "output_type": "stream",
     "text": [
      "[I 2025-04-14 19:31:46,355] Trial 10 finished with value: 1021.3822021484376 and parameters: {'n_layers': 6, 'dropout': 0.240622045743282, 'learning_rate': 0.0010564313422300746, 'weight_decay': 0.00039592081177212474, 'optimizer': 'adagrad', 'activation': 'relu'}. Best is trial 11 with value: 676.6574096679688.\n"
     ]
    },
    {
     "name": "stderr",
     "output_type": "stream",
     "text": [
      "/uufs/chpc.utah.edu/common/home/clementm-group1/conda/mambaforge/env/bmi_6114/lib/python3.12/site-packages/lightning/fabric/plugins/environments/slurm.py:204: The `srun` command is available on your system but is not used. HINT: If your intention is to run Lightning on SLURM, prepend your python command with `srun` like so: srun python /uufs/chpc.utah.edu/common/home/clementm-group1/cond ...\n",
      "GPU available: True (cuda), used: True\n",
      "TPU available: False, using: 0 TPU cores\n",
      "HPU available: False, using: 0 HPUs\n",
      "LOCAL_RANK: 0 - CUDA_VISIBLE_DEVICES: [0]\n",
      "\n",
      "  | Name           | Type                  | Params | Mode \n",
      "-----------------------------------------------------------------\n",
      "0 | auto_encoder   | CancerDataAutoEncoder | 138 K  | train\n",
      "1 | neural_network | SimpleNN              | 7.3 K  | train\n",
      "2 | loss_metric    | MeanSquaredError      | 0      | train\n",
      "3 | val_metric     | MeanSquaredError      | 0      | train\n",
      "4 | test_metric    | MeanSquaredError      | 0      | train\n",
      "-----------------------------------------------------------------\n",
      "7.3 K     Trainable params\n",
      "138 K     Non-trainable params\n",
      "145 K     Total params\n",
      "0.583     Total estimated model params size (MB)\n",
      "44        Modules in train mode\n",
      "0         Modules in eval mode\n"
     ]
    },
    {
     "name": "stdout",
     "output_type": "stream",
     "text": [
      "[I 2025-04-14 19:33:06,890] Trial 9 finished with value: 953.3551025390624 and parameters: {'n_layers': 8, 'dropout': 0.3922775105957536, 'learning_rate': 0.002977386038497762, 'weight_decay': 0.0005194097394009367, 'optimizer': 'adagrad', 'activation': 'leaky_relu'}. Best is trial 11 with value: 676.6574096679688.\n",
      "[I 2025-04-14 19:33:07,943] Trial 13 finished with value: 853.2557983398438 and parameters: {'n_layers': 6, 'dropout': 0.29661805120272466, 'learning_rate': 8.853536687823976e-05, 'weight_decay': 0.00022351915996008986, 'optimizer': 'sgd', 'activation': 'leaky_relu'}. Best is trial 11 with value: 676.6574096679688.\n"
     ]
    },
    {
     "name": "stderr",
     "output_type": "stream",
     "text": [
      "/uufs/chpc.utah.edu/common/home/clementm-group1/conda/mambaforge/env/bmi_6114/lib/python3.12/site-packages/lightning/fabric/plugins/environments/slurm.py:204: The `srun` command is available on your system but is not used. HINT: If your intention is to run Lightning on SLURM, prepend your python command with `srun` like so: srun python /uufs/chpc.utah.edu/common/home/clementm-group1/cond ...\n",
      "GPU available: True (cuda), used: True\n",
      "TPU available: False, using: 0 TPU cores\n",
      "HPU available: False, using: 0 HPUs\n",
      "GPU available: True (cuda), used: True\n",
      "TPU available: False, using: 0 TPU cores\n",
      "HPU available: False, using: 0 HPUs\n",
      "LOCAL_RANK: 0 - CUDA_VISIBLE_DEVICES: [0]\n",
      "LOCAL_RANK: 0 - CUDA_VISIBLE_DEVICES: [0]\n",
      "\n",
      "  | Name           | Type                  | Params | Mode \n",
      "-----------------------------------------------------------------\n",
      "0 | auto_encoder   | CancerDataAutoEncoder | 138 K  | train\n",
      "1 | neural_network | SimpleNN              | 7.3 K  | train\n",
      "2 | loss_metric    | MeanSquaredError      | 0      | train\n",
      "3 | val_metric     | MeanSquaredError      | 0      | train\n",
      "4 | test_metric    | MeanSquaredError      | 0      | train\n",
      "-----------------------------------------------------------------\n",
      "7.3 K     Trainable params\n",
      "138 K     Non-trainable params\n",
      "145 K     Total params\n",
      "0.583     Total estimated model params size (MB)\n",
      "44        Modules in train mode\n",
      "0         Modules in eval mode\n",
      "\n",
      "  | Name           | Type                  | Params | Mode \n",
      "-----------------------------------------------------------------\n",
      "0 | auto_encoder   | CancerDataAutoEncoder | 138 K  | train\n",
      "1 | neural_network | SimpleNN              | 7.3 K  | train\n",
      "2 | loss_metric    | MeanSquaredError      | 0      | train\n",
      "3 | val_metric     | MeanSquaredError      | 0      | train\n",
      "4 | test_metric    | MeanSquaredError      | 0      | train\n",
      "-----------------------------------------------------------------\n",
      "7.3 K     Trainable params\n",
      "138 K     Non-trainable params\n",
      "145 K     Total params\n",
      "0.583     Total estimated model params size (MB)\n",
      "44        Modules in train mode\n",
      "0         Modules in eval mode\n"
     ]
    },
    {
     "name": "stdout",
     "output_type": "stream",
     "text": [
      "[I 2025-04-14 19:36:55,890] Trial 21 finished with value: 1028.1806640625 and parameters: {'n_layers': 3, 'dropout': 0.21031809584255762, 'learning_rate': 0.00034407211157079406, 'weight_decay': 0.008900923736999336, 'optimizer': 'adagrad', 'activation': 'tanh'}. Best is trial 11 with value: 676.6574096679688.\n",
      "[I 2025-04-14 19:36:58,855] Trial 22 finished with value: 1027.23095703125 and parameters: {'n_layers': 9, 'dropout': 0.036037149304137706, 'learning_rate': 5.593809374193393e-05, 'weight_decay': 0.0001872015893270566, 'optimizer': 'adam', 'activation': 'RReLU'}. Best is trial 11 with value: 676.6574096679688.\n"
     ]
    },
    {
     "name": "stderr",
     "output_type": "stream",
     "text": [
      "/uufs/chpc.utah.edu/common/home/clementm-group1/conda/mambaforge/env/bmi_6114/lib/python3.12/site-packages/lightning/fabric/plugins/environments/slurm.py:204: The `srun` command is available on your system but is not used. HINT: If your intention is to run Lightning on SLURM, prepend your python command with `srun` like so: srun python /uufs/chpc.utah.edu/common/home/clementm-group1/cond ...\n",
      "GPU available: True (cuda), used: True\n",
      "TPU available: False, using: 0 TPU cores\n",
      "HPU available: False, using: 0 HPUs\n",
      "GPU available: True (cuda), used: True\n",
      "TPU available: False, using: 0 TPU cores\n",
      "HPU available: False, using: 0 HPUs\n",
      "LOCAL_RANK: 0 - CUDA_VISIBLE_DEVICES: [0]\n",
      "\n",
      "  | Name           | Type                  | Params | Mode \n",
      "-----------------------------------------------------------------\n",
      "0 | auto_encoder   | CancerDataAutoEncoder | 138 K  | train\n",
      "1 | neural_network | SimpleNN              | 31.5 K | train\n",
      "2 | loss_metric    | MeanSquaredError      | 0      | train\n",
      "3 | val_metric     | MeanSquaredError      | 0      | train\n",
      "4 | test_metric    | MeanSquaredError      | 0      | train\n",
      "-----------------------------------------------------------------\n",
      "31.5 K    Trainable params\n",
      "138 K     Non-trainable params\n",
      "170 K     Total params\n",
      "0.680     Total estimated model params size (MB)\n",
      "48        Modules in train mode\n",
      "0         Modules in eval mode\n",
      "LOCAL_RANK: 0 - CUDA_VISIBLE_DEVICES: [0]\n",
      "\n",
      "  | Name           | Type                  | Params | Mode \n",
      "-----------------------------------------------------------------\n",
      "0 | auto_encoder   | CancerDataAutoEncoder | 138 K  | train\n",
      "1 | neural_network | SimpleNN              | 31.5 K | train\n",
      "2 | loss_metric    | MeanSquaredError      | 0      | train\n",
      "3 | val_metric     | MeanSquaredError      | 0      | train\n",
      "4 | test_metric    | MeanSquaredError      | 0      | train\n",
      "-----------------------------------------------------------------\n",
      "31.5 K    Trainable params\n",
      "138 K     Non-trainable params\n",
      "170 K     Total params\n",
      "0.680     Total estimated model params size (MB)\n",
      "48        Modules in train mode\n",
      "0         Modules in eval mode\n"
     ]
    },
    {
     "name": "stdout",
     "output_type": "stream",
     "text": [
      "[I 2025-04-14 19:37:36,193] Trial 18 finished with value: 768.2533569335938 and parameters: {'n_layers': 8, 'dropout': 0.19971940671356303, 'learning_rate': 0.00019243027413177796, 'weight_decay': 0.0002558942893283053, 'optimizer': 'sgd', 'activation': 'leaky_relu'}. Best is trial 11 with value: 676.6574096679688.\n",
      "[I 2025-04-14 19:37:36,726] Trial 17 finished with value: 1016.7003784179688 and parameters: {'n_layers': 4, 'dropout': 0.4683108611176554, 'learning_rate': 0.001308755853016911, 'weight_decay': 0.006154886623088096, 'optimizer': 'adagrad', 'activation': 'tanh'}. Best is trial 11 with value: 676.6574096679688.\n"
     ]
    },
    {
     "name": "stderr",
     "output_type": "stream",
     "text": [
      "/uufs/chpc.utah.edu/common/home/clementm-group1/conda/mambaforge/env/bmi_6114/lib/python3.12/site-packages/lightning/fabric/plugins/environments/slurm.py:204: The `srun` command is available on your system but is not used. HINT: If your intention is to run Lightning on SLURM, prepend your python command with `srun` like so: srun python /uufs/chpc.utah.edu/common/home/clementm-group1/cond ...\n",
      "GPU available: True (cuda), used: True\n",
      "TPU available: False, using: 0 TPU cores\n",
      "HPU available: False, using: 0 HPUs\n",
      "GPU available: True (cuda), used: True\n",
      "TPU available: False, using: 0 TPU cores\n",
      "HPU available: False, using: 0 HPUs\n",
      "LOCAL_RANK: 0 - CUDA_VISIBLE_DEVICES: [0]\n",
      "\n",
      "  | Name           | Type                  | Params | Mode \n",
      "-----------------------------------------------------------------\n",
      "0 | auto_encoder   | CancerDataAutoEncoder | 138 K  | train\n",
      "1 | neural_network | SimpleNN              | 31.5 K | train\n",
      "2 | loss_metric    | MeanSquaredError      | 0      | train\n",
      "3 | val_metric     | MeanSquaredError      | 0      | train\n",
      "4 | test_metric    | MeanSquaredError      | 0      | train\n",
      "-----------------------------------------------------------------\n",
      "31.5 K    Trainable params\n",
      "138 K     Non-trainable params\n",
      "170 K     Total params\n",
      "0.680     Total estimated model params size (MB)\n",
      "48        Modules in train mode\n",
      "0         Modules in eval mode\n",
      "LOCAL_RANK: 0 - CUDA_VISIBLE_DEVICES: [0]\n",
      "\n",
      "  | Name           | Type                  | Params | Mode \n",
      "-----------------------------------------------------------------\n",
      "0 | auto_encoder   | CancerDataAutoEncoder | 138 K  | train\n",
      "1 | neural_network | SimpleNN              | 31.5 K | train\n",
      "2 | loss_metric    | MeanSquaredError      | 0      | train\n",
      "3 | val_metric     | MeanSquaredError      | 0      | train\n",
      "4 | test_metric    | MeanSquaredError      | 0      | train\n",
      "-----------------------------------------------------------------\n",
      "31.5 K    Trainable params\n",
      "138 K     Non-trainable params\n",
      "170 K     Total params\n",
      "0.680     Total estimated model params size (MB)\n",
      "48        Modules in train mode\n",
      "0         Modules in eval mode\n"
     ]
    },
    {
     "name": "stdout",
     "output_type": "stream",
     "text": [
      "[I 2025-04-14 19:39:14,186] Trial 25 finished with value: 724.569580078125 and parameters: {'n_layers': 3, 'dropout': 0.18986002155589798, 'learning_rate': 0.005007597825505228, 'weight_decay': 7.083267519008988e-05, 'optimizer': 'sgd', 'activation': 'leaky_relu'}. Best is trial 11 with value: 676.6574096679688.\n"
     ]
    },
    {
     "name": "stderr",
     "output_type": "stream",
     "text": [
      "/uufs/chpc.utah.edu/common/home/clementm-group1/conda/mambaforge/env/bmi_6114/lib/python3.12/site-packages/lightning/fabric/plugins/environments/slurm.py:204: The `srun` command is available on your system but is not used. HINT: If your intention is to run Lightning on SLURM, prepend your python command with `srun` like so: srun python /uufs/chpc.utah.edu/common/home/clementm-group1/cond ...\n",
      "GPU available: True (cuda), used: True\n",
      "TPU available: False, using: 0 TPU cores\n",
      "HPU available: False, using: 0 HPUs\n",
      "LOCAL_RANK: 0 - CUDA_VISIBLE_DEVICES: [0]\n",
      "\n",
      "  | Name           | Type                  | Params | Mode \n",
      "-----------------------------------------------------------------\n",
      "0 | auto_encoder   | CancerDataAutoEncoder | 138 K  | train\n",
      "1 | neural_network | SimpleNN              | 31.5 K | train\n",
      "2 | loss_metric    | MeanSquaredError      | 0      | train\n",
      "3 | val_metric     | MeanSquaredError      | 0      | train\n",
      "4 | test_metric    | MeanSquaredError      | 0      | train\n",
      "-----------------------------------------------------------------\n",
      "31.5 K    Trainable params\n",
      "138 K     Non-trainable params\n",
      "170 K     Total params\n",
      "0.680     Total estimated model params size (MB)\n",
      "48        Modules in train mode\n",
      "0         Modules in eval mode\n"
     ]
    },
    {
     "name": "stdout",
     "output_type": "stream",
     "text": [
      "[I 2025-04-14 19:40:12,567] Trial 8 finished with value: 1010.5197143554688 and parameters: {'n_layers': 10, 'dropout': 0.27090494217951044, 'learning_rate': 2.5311439901199125e-05, 'weight_decay': 0.0008632149486666618, 'optimizer': 'sgd', 'activation': 'tanh'}. Best is trial 11 with value: 676.6574096679688.\n"
     ]
    },
    {
     "name": "stderr",
     "output_type": "stream",
     "text": [
      "/uufs/chpc.utah.edu/common/home/clementm-group1/conda/mambaforge/env/bmi_6114/lib/python3.12/site-packages/lightning/fabric/plugins/environments/slurm.py:204: The `srun` command is available on your system but is not used. HINT: If your intention is to run Lightning on SLURM, prepend your python command with `srun` like so: srun python /uufs/chpc.utah.edu/common/home/clementm-group1/cond ...\n",
      "GPU available: True (cuda), used: True\n",
      "TPU available: False, using: 0 TPU cores\n",
      "HPU available: False, using: 0 HPUs\n",
      "LOCAL_RANK: 0 - CUDA_VISIBLE_DEVICES: [0]\n",
      "\n",
      "  | Name           | Type                  | Params | Mode \n",
      "-----------------------------------------------------------------\n",
      "0 | auto_encoder   | CancerDataAutoEncoder | 138 K  | train\n",
      "1 | neural_network | SimpleNN              | 31.5 K | train\n",
      "2 | loss_metric    | MeanSquaredError      | 0      | train\n",
      "3 | val_metric     | MeanSquaredError      | 0      | train\n",
      "4 | test_metric    | MeanSquaredError      | 0      | train\n",
      "-----------------------------------------------------------------\n",
      "31.5 K    Trainable params\n",
      "138 K     Non-trainable params\n",
      "170 K     Total params\n",
      "0.680     Total estimated model params size (MB)\n",
      "48        Modules in train mode\n",
      "0         Modules in eval mode\n"
     ]
    },
    {
     "name": "stdout",
     "output_type": "stream",
     "text": [
      "[I 2025-04-14 19:40:49,235] Trial 27 finished with value: 679.8739013671875 and parameters: {'n_layers': 3, 'dropout': 0.19360299329128322, 'learning_rate': 0.009695951509585705, 'weight_decay': 9.630813196903947e-05, 'optimizer': 'sgd', 'activation': 'leaky_relu'}. Best is trial 11 with value: 676.6574096679688.\n",
      "[I 2025-04-14 19:40:49,527] Trial 26 finished with value: 681.197265625 and parameters: {'n_layers': 3, 'dropout': 0.19642959712286598, 'learning_rate': 0.006427636058233716, 'weight_decay': 8.287932980335813e-05, 'optimizer': 'sgd', 'activation': 'leaky_relu'}. Best is trial 11 with value: 676.6574096679688.\n"
     ]
    },
    {
     "name": "stderr",
     "output_type": "stream",
     "text": [
      "/uufs/chpc.utah.edu/common/home/clementm-group1/conda/mambaforge/env/bmi_6114/lib/python3.12/site-packages/lightning/fabric/plugins/environments/slurm.py:204: The `srun` command is available on your system but is not used. HINT: If your intention is to run Lightning on SLURM, prepend your python command with `srun` like so: srun python /uufs/chpc.utah.edu/common/home/clementm-group1/cond ...\n",
      "GPU available: True (cuda), used: True\n",
      "TPU available: False, using: 0 TPU cores\n",
      "HPU available: False, using: 0 HPUs\n",
      "GPU available: True (cuda), used: True\n",
      "TPU available: False, using: 0 TPU cores\n",
      "HPU available: False, using: 0 HPUs\n",
      "LOCAL_RANK: 0 - CUDA_VISIBLE_DEVICES: [0]\n",
      "\n",
      "  | Name           | Type                  | Params | Mode \n",
      "-----------------------------------------------------------------\n",
      "0 | auto_encoder   | CancerDataAutoEncoder | 138 K  | train\n",
      "1 | neural_network | SimpleNN              | 31.5 K | train\n",
      "2 | loss_metric    | MeanSquaredError      | 0      | train\n",
      "3 | val_metric     | MeanSquaredError      | 0      | train\n",
      "4 | test_metric    | MeanSquaredError      | 0      | train\n",
      "-----------------------------------------------------------------\n",
      "31.5 K    Trainable params\n",
      "138 K     Non-trainable params\n",
      "170 K     Total params\n",
      "0.680     Total estimated model params size (MB)\n",
      "48        Modules in train mode\n",
      "0         Modules in eval mode\n",
      "LOCAL_RANK: 0 - CUDA_VISIBLE_DEVICES: [0]\n",
      "\n",
      "  | Name           | Type                  | Params | Mode \n",
      "-----------------------------------------------------------------\n",
      "0 | auto_encoder   | CancerDataAutoEncoder | 138 K  | train\n",
      "1 | neural_network | SimpleNN              | 31.5 K | train\n",
      "2 | loss_metric    | MeanSquaredError      | 0      | train\n",
      "3 | val_metric     | MeanSquaredError      | 0      | train\n",
      "4 | test_metric    | MeanSquaredError      | 0      | train\n",
      "-----------------------------------------------------------------\n",
      "31.5 K    Trainable params\n",
      "138 K     Non-trainable params\n",
      "170 K     Total params\n",
      "0.680     Total estimated model params size (MB)\n",
      "48        Modules in train mode\n",
      "0         Modules in eval mode\n"
     ]
    },
    {
     "name": "stdout",
     "output_type": "stream",
     "text": [
      "[I 2025-04-14 19:41:28,070] Trial 24 finished with value: 750.207763671875 and parameters: {'n_layers': 3, 'dropout': 0.2259496797931679, 'learning_rate': 0.007445798397529786, 'weight_decay': 5.906322483202344e-05, 'optimizer': 'sgd', 'activation': 'relu'}. Best is trial 11 with value: 676.6574096679688.\n"
     ]
    },
    {
     "name": "stderr",
     "output_type": "stream",
     "text": [
      "/uufs/chpc.utah.edu/common/home/clementm-group1/conda/mambaforge/env/bmi_6114/lib/python3.12/site-packages/lightning/fabric/plugins/environments/slurm.py:204: The `srun` command is available on your system but is not used. HINT: If your intention is to run Lightning on SLURM, prepend your python command with `srun` like so: srun python /uufs/chpc.utah.edu/common/home/clementm-group1/cond ...\n",
      "GPU available: True (cuda), used: True\n",
      "TPU available: False, using: 0 TPU cores\n",
      "HPU available: False, using: 0 HPUs\n",
      "LOCAL_RANK: 0 - CUDA_VISIBLE_DEVICES: [0]\n",
      "\n",
      "  | Name           | Type                  | Params | Mode \n",
      "-----------------------------------------------------------------\n",
      "0 | auto_encoder   | CancerDataAutoEncoder | 138 K  | train\n",
      "1 | neural_network | SimpleNN              | 31.5 K | train\n",
      "2 | loss_metric    | MeanSquaredError      | 0      | train\n",
      "3 | val_metric     | MeanSquaredError      | 0      | train\n",
      "4 | test_metric    | MeanSquaredError      | 0      | train\n",
      "-----------------------------------------------------------------\n",
      "31.5 K    Trainable params\n",
      "138 K     Non-trainable params\n",
      "170 K     Total params\n",
      "0.680     Total estimated model params size (MB)\n",
      "48        Modules in train mode\n",
      "0         Modules in eval mode\n"
     ]
    },
    {
     "name": "stdout",
     "output_type": "stream",
     "text": [
      "[I 2025-04-14 19:48:38,453] Trial 30 finished with value: 704.8277587890625 and parameters: {'n_layers': 4, 'dropout': 0.16820156530393807, 'learning_rate': 0.0026047343419571233, 'weight_decay': 6.511788181624326e-05, 'optimizer': 'sgd', 'activation': 'leaky_relu'}. Best is trial 11 with value: 676.6574096679688.\n",
      "[I 2025-04-14 19:48:38,948] Trial 29 finished with value: 701.2430419921875 and parameters: {'n_layers': 4, 'dropout': 0.16396981975303354, 'learning_rate': 0.009797817870000156, 'weight_decay': 8.877426577908463e-05, 'optimizer': 'sgd', 'activation': 'leaky_relu'}. Best is trial 11 with value: 676.6574096679688.\n"
     ]
    },
    {
     "name": "stderr",
     "output_type": "stream",
     "text": [
      "/uufs/chpc.utah.edu/common/home/clementm-group1/conda/mambaforge/env/bmi_6114/lib/python3.12/site-packages/lightning/fabric/plugins/environments/slurm.py:204: The `srun` command is available on your system but is not used. HINT: If your intention is to run Lightning on SLURM, prepend your python command with `srun` like so: srun python /uufs/chpc.utah.edu/common/home/clementm-group1/cond ...\n",
      "GPU available: True (cuda), used: True\n",
      "TPU available: False, using: 0 TPU cores\n",
      "HPU available: False, using: 0 HPUs\n",
      "GPU available: True (cuda), used: True\n",
      "TPU available: False, using: 0 TPU cores\n",
      "HPU available: False, using: 0 HPUs\n",
      "LOCAL_RANK: 0 - CUDA_VISIBLE_DEVICES: [0]\n",
      "\n",
      "  | Name           | Type                  | Params | Mode \n",
      "-----------------------------------------------------------------\n",
      "0 | auto_encoder   | CancerDataAutoEncoder | 138 K  | train\n",
      "1 | neural_network | SimpleNN              | 32.3 K | train\n",
      "2 | loss_metric    | MeanSquaredError      | 0      | train\n",
      "3 | val_metric     | MeanSquaredError      | 0      | train\n",
      "4 | test_metric    | MeanSquaredError      | 0      | train\n",
      "-----------------------------------------------------------------\n",
      "32.3 K    Trainable params\n",
      "138 K     Non-trainable params\n",
      "170 K     Total params\n",
      "0.683     Total estimated model params size (MB)\n",
      "52        Modules in train mode\n",
      "0         Modules in eval mode\n",
      "LOCAL_RANK: 0 - CUDA_VISIBLE_DEVICES: [0]\n",
      "\n",
      "  | Name           | Type                  | Params | Mode \n",
      "-----------------------------------------------------------------\n",
      "0 | auto_encoder   | CancerDataAutoEncoder | 138 K  | train\n",
      "1 | neural_network | SimpleNN              | 32.3 K | train\n",
      "2 | loss_metric    | MeanSquaredError      | 0      | train\n",
      "3 | val_metric     | MeanSquaredError      | 0      | train\n",
      "4 | test_metric    | MeanSquaredError      | 0      | train\n",
      "-----------------------------------------------------------------\n",
      "32.3 K    Trainable params\n",
      "138 K     Non-trainable params\n",
      "170 K     Total params\n",
      "0.683     Total estimated model params size (MB)\n",
      "52        Modules in train mode\n",
      "0         Modules in eval mode\n"
     ]
    },
    {
     "name": "stdout",
     "output_type": "stream",
     "text": [
      "[I 2025-04-14 19:49:01,434] Trial 28 finished with value: 726.2247924804688 and parameters: {'n_layers': 3, 'dropout': 0.19223314052454749, 'learning_rate': 0.007929482401179452, 'weight_decay': 0.0001366457209654737, 'optimizer': 'sgd', 'activation': 'leaky_relu'}. Best is trial 11 with value: 676.6574096679688.\n",
      "[I 2025-04-14 19:49:01,993] Trial 31 finished with value: 695.648681640625 and parameters: {'n_layers': 4, 'dropout': 0.15237060364718866, 'learning_rate': 0.009356881875576152, 'weight_decay': 6.686918218810464e-05, 'optimizer': 'sgd', 'activation': 'relu'}. Best is trial 11 with value: 676.6574096679688.\n"
     ]
    },
    {
     "name": "stderr",
     "output_type": "stream",
     "text": [
      "/uufs/chpc.utah.edu/common/home/clementm-group1/conda/mambaforge/env/bmi_6114/lib/python3.12/site-packages/lightning/fabric/plugins/environments/slurm.py:204: The `srun` command is available on your system but is not used. HINT: If your intention is to run Lightning on SLURM, prepend your python command with `srun` like so: srun python /uufs/chpc.utah.edu/common/home/clementm-group1/cond ...\n",
      "GPU available: True (cuda), used: True\n",
      "GPU available: True (cuda), used: True\n",
      "TPU available: False, using: 0 TPU cores\n",
      "HPU available: False, using: 0 HPUs\n",
      "TPU available: False, using: 0 TPU cores\n",
      "HPU available: False, using: 0 HPUs\n",
      "LOCAL_RANK: 0 - CUDA_VISIBLE_DEVICES: [0]\n",
      "\n",
      "  | Name           | Type                  | Params | Mode \n",
      "-----------------------------------------------------------------\n",
      "0 | auto_encoder   | CancerDataAutoEncoder | 138 K  | train\n",
      "1 | neural_network | SimpleNN              | 32.3 K | train\n",
      "2 | loss_metric    | MeanSquaredError      | 0      | train\n",
      "3 | val_metric     | MeanSquaredError      | 0      | train\n",
      "4 | test_metric    | MeanSquaredError      | 0      | train\n",
      "-----------------------------------------------------------------\n",
      "32.3 K    Trainable params\n",
      "138 K     Non-trainable params\n",
      "170 K     Total params\n",
      "0.683     Total estimated model params size (MB)\n",
      "52        Modules in train mode\n",
      "0         Modules in eval mode\n",
      "LOCAL_RANK: 0 - CUDA_VISIBLE_DEVICES: [0]\n",
      "\n",
      "  | Name           | Type                  | Params | Mode \n",
      "-----------------------------------------------------------------\n",
      "0 | auto_encoder   | CancerDataAutoEncoder | 138 K  | train\n",
      "1 | neural_network | SimpleNN              | 32.3 K | train\n",
      "2 | loss_metric    | MeanSquaredError      | 0      | train\n",
      "3 | val_metric     | MeanSquaredError      | 0      | train\n",
      "4 | test_metric    | MeanSquaredError      | 0      | train\n",
      "-----------------------------------------------------------------\n",
      "32.3 K    Trainable params\n",
      "138 K     Non-trainable params\n",
      "170 K     Total params\n",
      "0.683     Total estimated model params size (MB)\n",
      "52        Modules in train mode\n",
      "0         Modules in eval mode\n"
     ]
    },
    {
     "name": "stdout",
     "output_type": "stream",
     "text": [
      "[I 2025-04-14 19:49:31,801] Trial 32 finished with value: 900.00439453125 and parameters: {'n_layers': 4, 'dropout': 0.1437157651842241, 'learning_rate': 0.009613010267890278, 'weight_decay': 6.900554520947222e-05, 'optimizer': 'sgd', 'activation': 'leaky_relu'}. Best is trial 11 with value: 676.6574096679688.\n"
     ]
    },
    {
     "name": "stderr",
     "output_type": "stream",
     "text": [
      "/uufs/chpc.utah.edu/common/home/clementm-group1/conda/mambaforge/env/bmi_6114/lib/python3.12/site-packages/lightning/fabric/plugins/environments/slurm.py:204: The `srun` command is available on your system but is not used. HINT: If your intention is to run Lightning on SLURM, prepend your python command with `srun` like so: srun python /uufs/chpc.utah.edu/common/home/clementm-group1/cond ...\n",
      "GPU available: True (cuda), used: True\n",
      "TPU available: False, using: 0 TPU cores\n",
      "HPU available: False, using: 0 HPUs\n",
      "LOCAL_RANK: 0 - CUDA_VISIBLE_DEVICES: [0]\n",
      "\n",
      "  | Name           | Type                  | Params | Mode \n",
      "-----------------------------------------------------------------\n",
      "0 | auto_encoder   | CancerDataAutoEncoder | 138 K  | train\n",
      "1 | neural_network | SimpleNN              | 32.3 K | train\n",
      "2 | loss_metric    | MeanSquaredError      | 0      | train\n",
      "3 | val_metric     | MeanSquaredError      | 0      | train\n",
      "4 | test_metric    | MeanSquaredError      | 0      | train\n",
      "-----------------------------------------------------------------\n",
      "32.3 K    Trainable params\n",
      "138 K     Non-trainable params\n",
      "170 K     Total params\n",
      "0.683     Total estimated model params size (MB)\n",
      "52        Modules in train mode\n",
      "0         Modules in eval mode\n"
     ]
    },
    {
     "name": "stdout",
     "output_type": "stream",
     "text": [
      "[I 2025-04-14 19:50:44,350] Trial 36 finished with value: 753.376953125 and parameters: {'n_layers': 4, 'dropout': 0.330452017747152, 'learning_rate': 0.00984893500361005, 'weight_decay': 1.4150605794050193e-05, 'optimizer': 'sgd', 'activation': 'relu'}. Best is trial 11 with value: 676.6574096679688.\n"
     ]
    },
    {
     "name": "stderr",
     "output_type": "stream",
     "text": [
      "/uufs/chpc.utah.edu/common/home/clementm-group1/conda/mambaforge/env/bmi_6114/lib/python3.12/site-packages/lightning/fabric/plugins/environments/slurm.py:204: The `srun` command is available on your system but is not used. HINT: If your intention is to run Lightning on SLURM, prepend your python command with `srun` like so: srun python /uufs/chpc.utah.edu/common/home/clementm-group1/cond ...\n",
      "GPU available: True (cuda), used: True\n",
      "TPU available: False, using: 0 TPU cores\n",
      "HPU available: False, using: 0 HPUs\n",
      "LOCAL_RANK: 0 - CUDA_VISIBLE_DEVICES: [0]\n",
      "\n",
      "  | Name           | Type                  | Params | Mode \n",
      "-----------------------------------------------------------------\n",
      "0 | auto_encoder   | CancerDataAutoEncoder | 138 K  | train\n",
      "1 | neural_network | SimpleNN              | 32.3 K | train\n",
      "2 | loss_metric    | MeanSquaredError      | 0      | train\n",
      "3 | val_metric     | MeanSquaredError      | 0      | train\n",
      "4 | test_metric    | MeanSquaredError      | 0      | train\n",
      "-----------------------------------------------------------------\n",
      "32.3 K    Trainable params\n",
      "138 K     Non-trainable params\n",
      "170 K     Total params\n",
      "0.683     Total estimated model params size (MB)\n",
      "52        Modules in train mode\n",
      "0         Modules in eval mode\n"
     ]
    },
    {
     "name": "stdout",
     "output_type": "stream",
     "text": [
      "[I 2025-04-14 19:52:06,949] Trial 34 finished with value: 689.4007568359375 and parameters: {'n_layers': 4, 'dropout': 0.1513297465862046, 'learning_rate': 0.002226993790513997, 'weight_decay': 1.155040814821579e-05, 'optimizer': 'sgd', 'activation': 'relu'}. Best is trial 11 with value: 676.6574096679688.\n"
     ]
    },
    {
     "name": "stderr",
     "output_type": "stream",
     "text": [
      "/uufs/chpc.utah.edu/common/home/clementm-group1/conda/mambaforge/env/bmi_6114/lib/python3.12/site-packages/lightning/fabric/plugins/environments/slurm.py:204: The `srun` command is available on your system but is not used. HINT: If your intention is to run Lightning on SLURM, prepend your python command with `srun` like so: srun python /uufs/chpc.utah.edu/common/home/clementm-group1/cond ...\n",
      "GPU available: True (cuda), used: True\n",
      "TPU available: False, using: 0 TPU cores\n",
      "HPU available: False, using: 0 HPUs\n",
      "LOCAL_RANK: 0 - CUDA_VISIBLE_DEVICES: [0]\n",
      "\n",
      "  | Name           | Type                  | Params | Mode \n",
      "-----------------------------------------------------------------\n",
      "0 | auto_encoder   | CancerDataAutoEncoder | 138 K  | train\n",
      "1 | neural_network | SimpleNN              | 32.3 K | train\n",
      "2 | loss_metric    | MeanSquaredError      | 0      | train\n",
      "3 | val_metric     | MeanSquaredError      | 0      | train\n",
      "4 | test_metric    | MeanSquaredError      | 0      | train\n",
      "-----------------------------------------------------------------\n",
      "32.3 K    Trainable params\n",
      "138 K     Non-trainable params\n",
      "170 K     Total params\n",
      "0.683     Total estimated model params size (MB)\n",
      "52        Modules in train mode\n",
      "0         Modules in eval mode\n"
     ]
    },
    {
     "name": "stdout",
     "output_type": "stream",
     "text": [
      "[I 2025-04-14 19:53:03,750] Trial 33 finished with value: 706.5819702148438 and parameters: {'n_layers': 4, 'dropout': 0.15232284420677294, 'learning_rate': 0.008788390211249044, 'weight_decay': 9.710791702580495e-05, 'optimizer': 'sgd', 'activation': 'relu'}. Best is trial 11 with value: 676.6574096679688.\n"
     ]
    },
    {
     "name": "stderr",
     "output_type": "stream",
     "text": [
      "/uufs/chpc.utah.edu/common/home/clementm-group1/conda/mambaforge/env/bmi_6114/lib/python3.12/site-packages/lightning/fabric/plugins/environments/slurm.py:204: The `srun` command is available on your system but is not used. HINT: If your intention is to run Lightning on SLURM, prepend your python command with `srun` like so: srun python /uufs/chpc.utah.edu/common/home/clementm-group1/cond ...\n",
      "GPU available: True (cuda), used: True\n",
      "TPU available: False, using: 0 TPU cores\n",
      "HPU available: False, using: 0 HPUs\n",
      "LOCAL_RANK: 0 - CUDA_VISIBLE_DEVICES: [0]\n",
      "\n",
      "  | Name           | Type                  | Params | Mode \n",
      "-----------------------------------------------------------------\n",
      "0 | auto_encoder   | CancerDataAutoEncoder | 138 K  | train\n",
      "1 | neural_network | SimpleNN              | 32.3 K | train\n",
      "2 | loss_metric    | MeanSquaredError      | 0      | train\n",
      "3 | val_metric     | MeanSquaredError      | 0      | train\n",
      "4 | test_metric    | MeanSquaredError      | 0      | train\n",
      "-----------------------------------------------------------------\n",
      "32.3 K    Trainable params\n",
      "138 K     Non-trainable params\n",
      "170 K     Total params\n",
      "0.683     Total estimated model params size (MB)\n",
      "52        Modules in train mode\n",
      "0         Modules in eval mode\n"
     ]
    },
    {
     "name": "stdout",
     "output_type": "stream",
     "text": [
      "[I 2025-04-14 19:54:06,765] Trial 37 finished with value: 679.0839233398438 and parameters: {'n_layers': 4, 'dropout': 0.3408645947442569, 'learning_rate': 0.0025898252289700925, 'weight_decay': 1.2245182766611338e-05, 'optimizer': 'sgd', 'activation': 'leaky_relu'}. Best is trial 11 with value: 676.6574096679688.\n"
     ]
    },
    {
     "name": "stderr",
     "output_type": "stream",
     "text": [
      "/uufs/chpc.utah.edu/common/home/clementm-group1/conda/mambaforge/env/bmi_6114/lib/python3.12/site-packages/lightning/fabric/plugins/environments/slurm.py:204: The `srun` command is available on your system but is not used. HINT: If your intention is to run Lightning on SLURM, prepend your python command with `srun` like so: srun python /uufs/chpc.utah.edu/common/home/clementm-group1/cond ...\n",
      "GPU available: True (cuda), used: True\n",
      "TPU available: False, using: 0 TPU cores\n",
      "HPU available: False, using: 0 HPUs\n",
      "LOCAL_RANK: 0 - CUDA_VISIBLE_DEVICES: [0]\n",
      "\n",
      "  | Name           | Type                  | Params | Mode \n",
      "-----------------------------------------------------------------\n",
      "0 | auto_encoder   | CancerDataAutoEncoder | 138 K  | train\n",
      "1 | neural_network | SimpleNN              | 32.3 K | train\n",
      "2 | loss_metric    | MeanSquaredError      | 0      | train\n",
      "3 | val_metric     | MeanSquaredError      | 0      | train\n",
      "4 | test_metric    | MeanSquaredError      | 0      | train\n",
      "-----------------------------------------------------------------\n",
      "32.3 K    Trainable params\n",
      "138 K     Non-trainable params\n",
      "170 K     Total params\n",
      "0.683     Total estimated model params size (MB)\n",
      "52        Modules in train mode\n",
      "0         Modules in eval mode\n"
     ]
    },
    {
     "name": "stdout",
     "output_type": "stream",
     "text": [
      "[I 2025-04-14 19:54:57,524] Trial 35 finished with value: 682.496826171875 and parameters: {'n_layers': 4, 'dropout': 0.3273147771649861, 'learning_rate': 0.007507939801019935, 'weight_decay': 0.00010122310613276901, 'optimizer': 'sgd', 'activation': 'relu'}. Best is trial 11 with value: 676.6574096679688.\n"
     ]
    },
    {
     "name": "stderr",
     "output_type": "stream",
     "text": [
      "/uufs/chpc.utah.edu/common/home/clementm-group1/conda/mambaforge/env/bmi_6114/lib/python3.12/site-packages/lightning/fabric/plugins/environments/slurm.py:204: The `srun` command is available on your system but is not used. HINT: If your intention is to run Lightning on SLURM, prepend your python command with `srun` like so: srun python /uufs/chpc.utah.edu/common/home/clementm-group1/cond ...\n",
      "GPU available: True (cuda), used: True\n",
      "TPU available: False, using: 0 TPU cores\n",
      "HPU available: False, using: 0 HPUs\n",
      "LOCAL_RANK: 0 - CUDA_VISIBLE_DEVICES: [0]\n",
      "\n",
      "  | Name           | Type                  | Params | Mode \n",
      "-----------------------------------------------------------------\n",
      "0 | auto_encoder   | CancerDataAutoEncoder | 138 K  | train\n",
      "1 | neural_network | SimpleNN              | 32.3 K | train\n",
      "2 | loss_metric    | MeanSquaredError      | 0      | train\n",
      "3 | val_metric     | MeanSquaredError      | 0      | train\n",
      "4 | test_metric    | MeanSquaredError      | 0      | train\n",
      "-----------------------------------------------------------------\n",
      "32.3 K    Trainable params\n",
      "138 K     Non-trainable params\n",
      "170 K     Total params\n",
      "0.683     Total estimated model params size (MB)\n",
      "52        Modules in train mode\n",
      "0         Modules in eval mode\n"
     ]
    },
    {
     "name": "stdout",
     "output_type": "stream",
     "text": [
      "[I 2025-04-14 19:55:09,176] Trial 23 finished with value: 745.2158813476562 and parameters: {'n_layers': 10, 'dropout': 0.3232234677302522, 'learning_rate': 0.0002134383859049987, 'weight_decay': 1.468930895378679e-05, 'optimizer': 'sgd', 'activation': 'relu'}. Best is trial 11 with value: 676.6574096679688.\n"
     ]
    },
    {
     "name": "stderr",
     "output_type": "stream",
     "text": [
      "/uufs/chpc.utah.edu/common/home/clementm-group1/conda/mambaforge/env/bmi_6114/lib/python3.12/site-packages/lightning/fabric/plugins/environments/slurm.py:204: The `srun` command is available on your system but is not used. HINT: If your intention is to run Lightning on SLURM, prepend your python command with `srun` like so: srun python /uufs/chpc.utah.edu/common/home/clementm-group1/cond ...\n",
      "GPU available: True (cuda), used: True\n",
      "TPU available: False, using: 0 TPU cores\n",
      "HPU available: False, using: 0 HPUs\n",
      "LOCAL_RANK: 0 - CUDA_VISIBLE_DEVICES: [0]\n",
      "\n",
      "  | Name           | Type                  | Params | Mode \n",
      "-----------------------------------------------------------------\n",
      "0 | auto_encoder   | CancerDataAutoEncoder | 138 K  | train\n",
      "1 | neural_network | SimpleNN              | 32.3 K | train\n",
      "2 | loss_metric    | MeanSquaredError      | 0      | train\n",
      "3 | val_metric     | MeanSquaredError      | 0      | train\n",
      "4 | test_metric    | MeanSquaredError      | 0      | train\n",
      "-----------------------------------------------------------------\n",
      "32.3 K    Trainable params\n",
      "138 K     Non-trainable params\n",
      "170 K     Total params\n",
      "0.683     Total estimated model params size (MB)\n",
      "52        Modules in train mode\n",
      "0         Modules in eval mode\n"
     ]
    },
    {
     "name": "stdout",
     "output_type": "stream",
     "text": [
      "[I 2025-04-14 19:55:21,662] Trial 38 finished with value: 700.6949462890625 and parameters: {'n_layers': 5, 'dropout': 0.33246357362658097, 'learning_rate': 0.0029272998124628717, 'weight_decay': 0.00011909699311421848, 'optimizer': 'sgd', 'activation': 'relu'}. Best is trial 11 with value: 676.6574096679688.\n"
     ]
    },
    {
     "name": "stderr",
     "output_type": "stream",
     "text": [
      "/uufs/chpc.utah.edu/common/home/clementm-group1/conda/mambaforge/env/bmi_6114/lib/python3.12/site-packages/lightning/fabric/plugins/environments/slurm.py:204: The `srun` command is available on your system but is not used. HINT: If your intention is to run Lightning on SLURM, prepend your python command with `srun` like so: srun python /uufs/chpc.utah.edu/common/home/clementm-group1/cond ...\n",
      "GPU available: True (cuda), used: True\n",
      "TPU available: False, using: 0 TPU cores\n",
      "HPU available: False, using: 0 HPUs\n",
      "LOCAL_RANK: 0 - CUDA_VISIBLE_DEVICES: [0]\n",
      "\n",
      "  | Name           | Type                  | Params | Mode \n",
      "-----------------------------------------------------------------\n",
      "0 | auto_encoder   | CancerDataAutoEncoder | 138 K  | train\n",
      "1 | neural_network | SimpleNN              | 7.3 K  | train\n",
      "2 | loss_metric    | MeanSquaredError      | 0      | train\n",
      "3 | val_metric     | MeanSquaredError      | 0      | train\n",
      "4 | test_metric    | MeanSquaredError      | 0      | train\n",
      "-----------------------------------------------------------------\n",
      "7.3 K     Trainable params\n",
      "138 K     Non-trainable params\n",
      "145 K     Total params\n",
      "0.583     Total estimated model params size (MB)\n",
      "44        Modules in train mode\n",
      "0         Modules in eval mode\n"
     ]
    },
    {
     "name": "stdout",
     "output_type": "stream",
     "text": [
      "[I 2025-04-14 19:55:50,554] Trial 41 finished with value: 689.9777221679688 and parameters: {'n_layers': 5, 'dropout': 0.339917754387145, 'learning_rate': 0.0031918746176354557, 'weight_decay': 1.785009442783964e-05, 'optimizer': 'sgd', 'activation': 'relu'}. Best is trial 11 with value: 676.6574096679688.\n",
      "[I 2025-04-14 19:56:19,057] Trial 3 finished with value: 1001.1934814453124 and parameters: {'n_layers': 7, 'dropout': 0.44313109441760307, 'learning_rate': 2.1751405558542592e-05, 'weight_decay': 0.0022987061909302466, 'optimizer': 'sgd', 'activation': 'tanh'}. Best is trial 11 with value: 676.6574096679688.\n",
      "[I 2025-04-14 19:57:10,812] Trial 42 finished with value: 679.732666015625 and parameters: {'n_layers': 5, 'dropout': 0.3316190874864158, 'learning_rate': 0.002765829227732266, 'weight_decay': 1.3369319675697606e-05, 'optimizer': 'sgd', 'activation': 'relu'}. Best is trial 11 with value: 676.6574096679688.\n",
      "[I 2025-04-14 19:57:55,631] Trial 43 finished with value: 682.4094848632812 and parameters: {'n_layers': 5, 'dropout': 0.37505454356852996, 'learning_rate': 0.0022194948261821125, 'weight_decay': 2.0739036275888305e-05, 'optimizer': 'sgd', 'activation': 'leaky_relu'}. Best is trial 11 with value: 676.6574096679688.\n",
      "[I 2025-04-14 19:57:55,638] Trial 39 finished with value: 672.4051513671875 and parameters: {'n_layers': 5, 'dropout': 0.3461668193719866, 'learning_rate': 0.002870233931830063, 'weight_decay': 1.2619026332703739e-05, 'optimizer': 'sgd', 'activation': 'relu'}. Best is trial 39 with value: 672.4051513671875.\n",
      "[I 2025-04-14 19:58:42,101] Trial 4 finished with value: 928.3814086914062 and parameters: {'n_layers': 7, 'dropout': 0.15159154180811263, 'learning_rate': 2.988715944503307e-05, 'weight_decay': 0.0043542349972184305, 'optimizer': 'sgd', 'activation': 'leaky_relu'}. Best is trial 39 with value: 672.4051513671875.\n",
      "[I 2025-04-14 19:58:58,786] Trial 46 finished with value: 1364.1505126953125 and parameters: {'n_layers': 5, 'dropout': 0.33696274249215946, 'learning_rate': 0.0039684359548160485, 'weight_decay': 2.4266774487660763e-05, 'optimizer': 'sgd', 'activation': 'leaky_relu'}. Best is trial 39 with value: 672.4051513671875.\n",
      "[I 2025-04-14 19:59:25,987] Trial 48 finished with value: 709.9252319335938 and parameters: {'n_layers': 5, 'dropout': 0.39924966330009604, 'learning_rate': 0.004211961154744751, 'weight_decay': 2.7430535547510368e-05, 'optimizer': 'sgd', 'activation': 'leaky_relu'}. Best is trial 39 with value: 672.4051513671875.\n",
      "[I 2025-04-14 19:59:26,336] Trial 44 finished with value: 668.0430297851562 and parameters: {'n_layers': 5, 'dropout': 0.32949592785424253, 'learning_rate': 0.0037152144187086065, 'weight_decay': 2.046026611591319e-05, 'optimizer': 'sgd', 'activation': 'leaky_relu'}. Best is trial 44 with value: 668.0430297851562.\n",
      "[I 2025-04-14 20:00:01,022] Trial 47 finished with value: 689.6000366210938 and parameters: {'n_layers': 5, 'dropout': 0.3927917715221898, 'learning_rate': 0.0032435953521342663, 'weight_decay': 2.5476326941099425e-05, 'optimizer': 'sgd', 'activation': 'leaky_relu'}. Best is trial 44 with value: 668.0430297851562.\n",
      "[I 2025-04-14 20:00:07,358] Trial 40 finished with value: 678.833984375 and parameters: {'n_layers': 5, 'dropout': 0.33677895813708986, 'learning_rate': 0.0030724919037625827, 'weight_decay': 1.5600629646541784e-05, 'optimizer': 'sgd', 'activation': 'relu'}. Best is trial 44 with value: 668.0430297851562.\n",
      "[I 2025-04-14 20:00:50,984] Trial 49 finished with value: 674.2070922851562 and parameters: {'n_layers': 3, 'dropout': 0.3954681322123012, 'learning_rate': 0.004298263456264534, 'weight_decay': 2.5612174305201272e-05, 'optimizer': 'sgd', 'activation': 'leaky_relu'}. Best is trial 44 with value: 668.0430297851562.\n",
      "[I 2025-04-14 20:00:52,177] Trial 45 finished with value: 674.6004638671875 and parameters: {'n_layers': 5, 'dropout': 0.32862752234260795, 'learning_rate': 0.003292009923099916, 'weight_decay': 2.9444116554523704e-05, 'optimizer': 'sgd', 'activation': 'relu'}. Best is trial 44 with value: 668.0430297851562.\n",
      "[I 2025-04-14 20:00:59,161] Trial 2 finished with value: 929.1267700195312 and parameters: {'n_layers': 6, 'dropout': 0.3527386214512622, 'learning_rate': 3.412692851858923e-05, 'weight_decay': 2.5225252843466084e-05, 'optimizer': 'sgd', 'activation': 'RReLU'}. Best is trial 44 with value: 668.0430297851562.\n",
      "[I 2025-04-14 20:01:16,854] Trial 14 finished with value: 898.140380859375 and parameters: {'n_layers': 4, 'dropout': 0.1316453806252016, 'learning_rate': 2.3396352919491175e-05, 'weight_decay': 0.0007387210998024698, 'optimizer': 'sgd', 'activation': 'relu'}. Best is trial 44 with value: 668.0430297851562.\n",
      "Best trial:\n",
      "  Value (val_mse): 668.0430297851562\n",
      "  Params:\n",
      "    n_layers: 5\n",
      "    dropout: 0.32949592785424253\n",
      "    learning_rate: 0.0037152144187086065\n",
      "    weight_decay: 2.046026611591319e-05\n",
      "    optimizer: sgd\n",
      "    activation: leaky_relu\n"
     ]
    }
   ],
   "source": [
    "# --- Run Optuna ---\n",
    "study = optuna.create_study(direction=\"minimize\", study_name=\"regressor_study\")\n",
    "study.optimize(objective, n_trials=50, n_jobs=15, show_progress_bar=True)\n",
    "\n",
    "# --- Print Best Result ---\n",
    "print(\"Best trial:\")\n",
    "print(f\"  Value (val_mse): {study.best_trial.value}\")\n",
    "print(\"  Params:\")\n",
    "for key, val in study.best_trial.params.items():\n",
    "    print(f\"    {key}: {val}\")"
   ]
  },
  {
   "cell_type": "code",
   "execution_count": 22,
   "metadata": {},
   "outputs": [],
   "source": [
    "best_model_logger = trial_to_details[study.best_trial.number][\"logger\"]"
   ]
  },
  {
   "cell_type": "code",
   "execution_count": null,
   "metadata": {},
   "outputs": [
    {
     "data": {
      "image/png": "[encoded data removed]",
      "text/plain": [
       "<Figure size 1200x500 with 1 Axes>"
      ]
     },
     "metadata": {},
     "output_type": "display_data"
    }
   ],
   "source": [
    "from utils.helper_functions import make_plots\n",
    "\n",
    "\n",
    "history = pd.read_csv(best_model_logger.log_dir + \"/metrics\n",
    "make_plots(history, \"Autoencoder Training and Validation Loss\")"
   ]
  },
  {
   "cell_type": "code",
   "execution_count": 29,
   "metadata": {},
   "outputs": [],
   "source": [
    "best_model_path = trial_to_details[study.best_trial.number][\"checkpoint\"].best_model_path\n",
    "!cp {best_model_path} results/03/best_model.pth"
   ]
  },
  {
   "cell_type": "code",
   "execution_count": null,
   "metadata": {},
   "outputs": [
    {
     "data": {
      "text/plain": [
       "BaseCancerRegressor(\n",
       "  (auto_encoder): CancerDataAutoEncoder(\n",
       "    (encoder): Sequential(\n",
       "      (0): Linear(in_features=203, out_features=149, bias=True)\n",
       "      (1): ReLU()\n",
       "      (2): Dropout(p=0.0031343232927195652, inplace=False)\n",
       "      (3): Linear(in_features=149, out_features=95, bias=True)\n",
       "      (4): ReLU()\n",
       "      (5): Dropout(p=0.0031343232927195652, inplace=False)\n",
       "      (6): Linear(in_features=95, out_features=41, bias=True)\n",
       "      (7): ReLU()\n",
       "      (8): Dropout(p=0.0031343232927195652, inplace=False)\n",
       "      (9): Linear(in_features=41, out_features=39, bias=True)\n",
       "    )\n",
       "    (decoder): Sequential(\n",
       "      (0): Linear(in_features=39, out_features=93, bias=True)\n",
       "      (1): ReLU()\n",
       "      (2): Dropout(p=0.0031343232927195652, inplace=False)\n",
       "      (3): Linear(in_features=93, out_features=147, bias=True)\n",
       "      (4): ReLU()\n",
       "      (5): Dropout(p=0.0031343232927195652, inplace=False)\n",
       "      (6): Linear(in_features=147, out_features=201, bias=True)\n",
       "      (7): ReLU()\n",
       "      (8): Dropout(p=0.0031343232927195652, inplace=False)\n",
       "      (9): Linear(in_features=201, out_features=203, bias=True)\n",
       "    )\n",
       "    (loss_metric): MeanSquaredError()\n",
       "    (val_metric): MeanSquaredError()\n",
       "    (test_metric): MeanSquaredError()\n",
       "  )\n",
       "  (neural_network): SimpleNN(\n",
       "    (network): Sequential(\n",
       "      (0): Linear(in_features=39, out_features=78, bias=True)\n",
       "      (1): BatchNorm1d(78, eps=1e-05, momentum=0.1, affine=True, track_running_stats=True)\n",
       "      (2): LeakyReLU(negative_slope=0.01)\n",
       "      (3): Dropout(p=0.32949592785424253, inplace=False)\n",
       "      (4): Linear(in_features=78, out_features=156, bias=True)\n",
       "      (5): BatchNorm1d(156, eps=1e-05, momentum=0.1, affine=True, track_running_stats=True)\n",
       "      (6): LeakyReLU(negative_slope=0.01)\n",
       "      (7): Dropout(p=0.32949592785424253, inplace=False)\n",
       "      (8): Linear(in_features=156, out_features=78, bias=True)\n",
       "      (9): BatchNorm1d(78, eps=1e-05, momentum=0.1, affine=True, track_running_stats=True)\n",
       "      (10): LeakyReLU(negative_slope=0.01)\n",
       "      (11): Dropout(p=0.32949592785424253, inplace=False)\n",
       "      (12): Linear(in_features=78, out_features=39, bias=True)\n",
       "      (13): BatchNorm1d(39, eps=1e-05, momentum=0.1, affine=True, track_running_stats=True)\n",
       "      (14): LeakyReLU(negative_slope=0.01)\n",
       "      (15): Dropout(p=0.32949592785424253, inplace=False)\n",
       "      (16): Linear(in_features=39, out_features=19, bias=True)\n",
       "      (17): BatchNorm1d(19, eps=1e-05, momentum=0.1, affine=True, track_running_stats=True)\n",
       "      (18): LeakyReLU(negative_slope=0.01)\n",
       "      (19): Dropout(p=0.32949592785424253, inplace=False)\n",
       "      (20): Linear(in_features=19, out_features=1, bias=True)\n",
       "    )\n",
       "  )\n",
       "  (loss_metric): MeanSquaredError()\n",
       "  (val_metric): MeanSquaredError()\n",
       "  (test_metric): MeanSquaredError()\n",
       ")"
      ]
     },
     "execution_count": 30,
     "metadata": {},
     "output_type": "execute_result"
    },
    {
     "ename": "",
     "evalue": "",
     "output_type": "error",
     "traceback": [
      "\u001b[1;31mThe Kernel crashed while executing code in the current cell or a previous cell. \n",
      "\u001b[1;31mPlease review the code in the cell(s) to identify a possible cause of the failure. \n",
      "\u001b[1;31mClick <a href='https://aka.ms/vscodeJupyterKernelCrash'>here</a> for more info. \n",
      "\u001b[1;31mView Jupyter <a href='command:jupyter.viewOutput'>log</a> for further details."
     ]
    }
   ],
   "source": [
    "activation_dict = {\n",
    "    \"relu\": nn.ReLU,\n",
    "    \"leaky_relu\": nn.LeakyReLU,\n",
    "    \"tanh\": nn.Tanh,\n",
    "    \"RReLU\": nn.RReLU,\n",
    "}\n",
    "optimizer_dict = {\n",
    "    \"adam\": torch.optim.Adam,\n",
    "    \"sgd\": torch.optim.SGD,\n",
    "    \"adagrad\": torch.optim.Adagrad,\n",
    "}\n",
    "\n",
    "best_model = BaseCancerRegressor.load_from_checkpoint(\n",
    "    trial_to_details[study.best_trial.number][\"checkpoint\"].best_model_path,\n",
    "    auto_encoder=CancerDataAutoEncoder.load_from_checkpoint(\n",
    "            best_ae_model_path,\n",
    "            **best_model_params\n",
    "        ),\n",
    "        neural_network=SimpleNN(\n",
    "            input_dim=best_model_params['latent_size'],\n",
    "            n_layers=study.best_trial.params['n_layers'],\n",
    "            dropout=study.best_trial.params['dropout'],\n",
    "            activation=activation_dict[study.best_trial.params['activation']],\n",
    "        ),\n",
    "        lr=study.best_trial.params['learning_rate'],\n",
    "        weight_decay=study.best_trial.params['weight_decay'],\n",
    "        optimizer=optimizer_dict[study.best_trial.params['optimizer']],\n",
    "    \n",
    ")\n",
    "best_model"
   ]
  },
  {
   "cell_type": "code",
   "execution_count": 28,
   "metadata": {},
   "outputs": [
    {
     "data": {
      "image/png": "[encoded data removed]",
      "text/plain": [
       "<Figure size 1000x600 with 1 Axes>"
      ]
     },
     "metadata": {},
     "output_type": "display_data"
    }
   ],
   "source": [
    "plot_regression_results(cancer_regressor, cancer_dm.test_dataloader())"
   ]
  }
 ],
 "metadata": {
  "kernelspec": {
   "display_name": "bmi_6114",
   "language": "python",
   "name": "python3"
  },
  "language_info": {
   "codemirror_mode": {
    "name": "ipython",
    "version": 3
   },
   "file_extension": ".py",
   "mimetype": "text/x-python",
   "name": "python",
   "nbconvert_exporter": "python",
   "pygments_lexer": "ipython3",
   "version": "3.12.5"
  }
 },
 "nbformat": 4,
 "nbformat_minor": 2
}
