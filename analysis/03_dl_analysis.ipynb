{
 "cells": [
  {
   "cell_type": "code",
   "execution_count": 1,
   "metadata": {},
   "outputs": [],
   "source": [
    "%load_ext autoreload\n",
    "%autoreload 2\n"
   ]
  },
  {
   "cell_type": "markdown",
   "metadata": {},
   "source": [
    "# Deep Learning Analysis"
   ]
  },
  {
   "cell_type": "code",
   "execution_count": 2,
   "metadata": {},
   "outputs": [],
   "source": [
    "import json\n",
    "import joblib\n",
    "import lightning as L\n",
    "import matplotlib.pyplot as plt\n",
    "import numpy as np\n",
    "import pandas as pd\n",
    "import torch\n",
    "import torch.nn as nn\n",
    "import torch.nn.functional as F\n",
    "import torchvision.transforms as transforms\n",
    "from torch.utils.data import DataLoader, random_split\n",
    "from torchmetrics import MeanSquaredError\n",
    "from torchvision import datasets\n",
    "from utils.helper_classes import CancerDataModule, CancerDataset\n",
    "from utils.models import BaseCancerRegressor, CancerDataAutoEncoder"
   ]
  },
  {
   "cell_type": "code",
   "execution_count": 3,
   "metadata": {},
   "outputs": [],
   "source": [
    "cancer_df = pd.read_csv(\"../data/cleaned_feature_and_target_data.csv\", index_col=0)\n",
    "cna_columns = [col for col in cancer_df.columns if col.startswith(\"CNA\")]\n",
    "numeric_cols = [\"SMOKING_PACK_YEARS\"] + cna_columns\n",
    "cancer_df[numeric_cols] = cancer_df[numeric_cols].astype(np.float32)\n",
    "scaler = joblib.load(open(\"results/scaler.pkl\", \"rb\"))\n",
    "cancer_dm = CancerDataModule(cancer_df, numerical_features=numeric_cols, scaler=scaler)\n",
    "cancer_dm.setup()"
   ]
  },
  {
   "cell_type": "code",
   "execution_count": 4,
   "metadata": {},
   "outputs": [],
   "source": [
    "with open('results/02/results.txt', 'r') as file:\n",
    "    best_ae_model_path = file.readline().strip()"
   ]
  },
  {
   "cell_type": "code",
   "execution_count": 5,
   "metadata": {},
   "outputs": [
    {
     "name": "stdout",
     "output_type": "stream",
     "text": [
      "{'latent_size': 39, 'n_layers': 3, 'dropout': 0.0031343232927195652}\n"
     ]
    }
   ],
   "source": [
    "with open('results/02/best_trial_params.json', 'r') as json_file:\n",
    "    best_model_params = json.load(json_file)\n",
    "\n",
    "print(best_model_params)"
   ]
  },
  {
   "cell_type": "code",
   "execution_count": 6,
   "metadata": {},
   "outputs": [],
   "source": [
    "cancer_autoencoder = CancerDataAutoEncoder.load_from_checkpoint(\n",
    "    best_ae_model_path,\n",
    "    **best_model_params\n",
    ")"
   ]
  },
  {
   "cell_type": "code",
   "execution_count": 7,
   "metadata": {},
   "outputs": [],
   "source": [
    "import random\n",
    "\n",
    "\n",
    "class SimpleNN(nn.Module):\n",
    "    def __init__(self, input_dim, n_layers=1, dropout=0.2, activation=nn.LeakyReLU):\n",
    "        super(SimpleNN, self).__init__()\n",
    "        self.layers = []\n",
    "        curr_size = input_dim\n",
    "        len_first_half = int(n_layers / 2)\n",
    "        len_second_half = n_layers - len_first_half\n",
    "        for i in range(len_first_half):\n",
    "            new_size = curr_size * 2\n",
    "            self.layers += [\n",
    "                nn.Linear(curr_size, new_size),\n",
    "                nn.BatchNorm1d(new_size),\n",
    "                activation(),\n",
    "                nn.Dropout(dropout),\n",
    "            ]\n",
    "            curr_size = new_size\n",
    "        \n",
    "        for i in range(len_second_half):\n",
    "            new_size = curr_size // 2\n",
    "            self.layers += [\n",
    "                nn.Linear(curr_size, new_size),\n",
    "                nn.BatchNorm1d(new_size),\n",
    "                activation(),\n",
    "                nn.Dropout(dropout),\n",
    "            ]\n",
    "            curr_size = new_size\n",
    "        if curr_size > 1:\n",
    "            self.layers.append(nn.Linear(curr_size, 1))\n",
    "        self.network = nn.Sequential(*self.layers)\n",
    "\n",
    "    def forward(self, x):\n",
    "        return self.network(x)\n",
    "\n",
    "simple_nn = SimpleNN(\n",
    "    input_dim=best_model_params['latent_size'],\n",
    "    n_layers=8\n",
    ")"
   ]
  },
  {
   "cell_type": "code",
   "execution_count": 8,
   "metadata": {},
   "outputs": [
    {
     "data": {
      "text/plain": [
       "==========================================================================================\n",
       "Layer (type:depth-idx)                   Output Shape              Param #\n",
       "==========================================================================================\n",
       "BaseCancerRegressor                      [1, 1]                    --\n",
       "├─CancerDataAutoEncoder: 1-1             --                        88,292\n",
       "│    └─Sequential: 2-1                   [1, 39]                   --\n",
       "│    │    └─Linear: 3-1                  [1, 149]                  (30,396)\n",
       "│    │    └─ReLU: 3-2                    [1, 149]                  --\n",
       "│    │    └─Dropout: 3-3                 [1, 149]                  --\n",
       "│    │    └─Linear: 3-4                  [1, 95]                   (14,250)\n",
       "│    │    └─ReLU: 3-5                    [1, 95]                   --\n",
       "│    │    └─Dropout: 3-6                 [1, 95]                   --\n",
       "│    │    └─Linear: 3-7                  [1, 41]                   (3,936)\n",
       "│    │    └─ReLU: 3-8                    [1, 41]                   --\n",
       "│    │    └─Dropout: 3-9                 [1, 41]                   --\n",
       "│    │    └─Linear: 3-10                 [1, 39]                   (1,638)\n",
       "├─SimpleNN: 1-2                          [1, 1]                    --\n",
       "│    └─Sequential: 2-2                   [1, 1]                    --\n",
       "│    │    └─Linear: 3-11                 [1, 78]                   3,120\n",
       "│    │    └─BatchNorm1d: 3-12            [1, 78]                   156\n",
       "│    │    └─LeakyReLU: 3-13              [1, 78]                   --\n",
       "│    │    └─Dropout: 3-14                [1, 78]                   --\n",
       "│    │    └─Linear: 3-15                 [1, 156]                  12,324\n",
       "│    │    └─BatchNorm1d: 3-16            [1, 156]                  312\n",
       "│    │    └─LeakyReLU: 3-17              [1, 156]                  --\n",
       "│    │    └─Dropout: 3-18                [1, 156]                  --\n",
       "│    │    └─Linear: 3-19                 [1, 312]                  48,984\n",
       "│    │    └─BatchNorm1d: 3-20            [1, 312]                  624\n",
       "│    │    └─LeakyReLU: 3-21              [1, 312]                  --\n",
       "│    │    └─Dropout: 3-22                [1, 312]                  --\n",
       "│    │    └─Linear: 3-23                 [1, 624]                  195,312\n",
       "│    │    └─BatchNorm1d: 3-24            [1, 624]                  1,248\n",
       "│    │    └─LeakyReLU: 3-25              [1, 624]                  --\n",
       "│    │    └─Dropout: 3-26                [1, 624]                  --\n",
       "│    │    └─Linear: 3-27                 [1, 312]                  195,000\n",
       "│    │    └─BatchNorm1d: 3-28            [1, 312]                  624\n",
       "│    │    └─LeakyReLU: 3-29              [1, 312]                  --\n",
       "│    │    └─Dropout: 3-30                [1, 312]                  --\n",
       "│    │    └─Linear: 3-31                 [1, 156]                  48,828\n",
       "│    │    └─BatchNorm1d: 3-32            [1, 156]                  312\n",
       "│    │    └─LeakyReLU: 3-33              [1, 156]                  --\n",
       "│    │    └─Dropout: 3-34                [1, 156]                  --\n",
       "│    │    └─Linear: 3-35                 [1, 78]                   12,246\n",
       "│    │    └─BatchNorm1d: 3-36            [1, 78]                   156\n",
       "│    │    └─LeakyReLU: 3-37              [1, 78]                   --\n",
       "│    │    └─Dropout: 3-38                [1, 78]                   --\n",
       "│    │    └─Linear: 3-39                 [1, 39]                   3,081\n",
       "│    │    └─BatchNorm1d: 3-40            [1, 39]                   78\n",
       "│    │    └─LeakyReLU: 3-41              [1, 39]                   --\n",
       "│    │    └─Dropout: 3-42                [1, 39]                   --\n",
       "│    │    └─Linear: 3-43                 [1, 1]                    40\n",
       "==========================================================================================\n",
       "Total params: 660,957\n",
       "Trainable params: 522,445\n",
       "Non-trainable params: 138,512\n",
       "Total mult-adds (Units.MEGABYTES): 0.57\n",
       "==========================================================================================\n",
       "Input size (MB): 0.00\n",
       "Forward/backward pass size (MB): 0.03\n",
       "Params size (MB): 2.29\n",
       "Estimated Total Size (MB): 2.32\n",
       "=========================================================================================="
      ]
     },
     "execution_count": 8,
     "metadata": {},
     "output_type": "execute_result"
    }
   ],
   "source": [
    "from torchinfo import summary\n",
    "\n",
    "input_dim = len(cancer_dm.ds_train[0][0])\n",
    "summary(BaseCancerRegressor(cancer_autoencoder, simple_nn), input_size=(1, input_dim))"
   ]
  },
  {
   "cell_type": "code",
   "execution_count": 9,
   "metadata": {},
   "outputs": [
    {
     "name": "stderr",
     "output_type": "stream",
     "text": [
      "GPU available: True (cuda), used: True\n",
      "TPU available: False, using: 0 TPU cores\n",
      "HPU available: False, using: 0 HPUs\n",
      "You are using a CUDA device ('NVIDIA GeForce RTX 3080 Laptop GPU') that has Tensor Cores. To properly utilize them, you should set `torch.set_float32_matmul_precision('medium' | 'high')` which will trade-off precision for performance. For more details, read https://pytorch.org/docs/stable/generated/torch.set_float32_matmul_precision.html#torch.set_float32_matmul_precision\n",
      "LOCAL_RANK: 0 - CUDA_VISIBLE_DEVICES: [0]\n",
      "\n",
      "  | Name           | Type                  | Params | Mode \n",
      "-----------------------------------------------------------------\n",
      "0 | auto_encoder   | CancerDataAutoEncoder | 138 K  | train\n",
      "1 | neural_network | SimpleNN              | 7.3 K  | train\n",
      "2 | loss_metric    | MeanSquaredError      | 0      | train\n",
      "3 | val_metric     | MeanSquaredError      | 0      | train\n",
      "4 | test_metric    | MeanSquaredError      | 0      | train\n",
      "-----------------------------------------------------------------\n",
      "7.3 K     Trainable params\n",
      "138 K     Non-trainable params\n",
      "145 K     Total params\n",
      "0.583     Total estimated model params size (MB)\n",
      "44        Modules in train mode\n",
      "0         Modules in eval mode\n"
     ]
    },
    {
     "data": {
      "application/vnd.jupyter.widget-view+json": {
       "model_id": "1d411c5371524fbaa9cfbb36b5f89520",
       "version_major": 2,
       "version_minor": 0
      },
      "text/plain": [
       "Sanity Checking: |          | 0/? [00:00<?, ?it/s]"
      ]
     },
     "metadata": {},
     "output_type": "display_data"
    },
    {
     "name": "stderr",
     "output_type": "stream",
     "text": [
      "/home/jacobtye/mambaforge/envs/bmi_6114/lib/python3.12/site-packages/lightning/pytorch/trainer/connectors/data_connector.py:425: The 'val_dataloader' does not have many workers which may be a bottleneck. Consider increasing the value of the `num_workers` argument` to `num_workers=15` in the `DataLoader` to improve performance.\n",
      "/home/jacobtye/mambaforge/envs/bmi_6114/lib/python3.12/site-packages/lightning/pytorch/trainer/connectors/data_connector.py:425: The 'train_dataloader' does not have many workers which may be a bottleneck. Consider increasing the value of the `num_workers` argument` to `num_workers=15` in the `DataLoader` to improve performance.\n"
     ]
    },
    {
     "data": {
      "application/vnd.jupyter.widget-view+json": {
       "model_id": "a30f14e0b6e64037a0a3d826a004770d",
       "version_major": 2,
       "version_minor": 0
      },
      "text/plain": [
       "Training: |          | 0/? [00:00<?, ?it/s]"
      ]
     },
     "metadata": {},
     "output_type": "display_data"
    },
    {
     "data": {
      "application/vnd.jupyter.widget-view+json": {
       "model_id": "9c13eab305f64a03976b5af4509950b8",
       "version_major": 2,
       "version_minor": 0
      },
      "text/plain": [
       "Validation: |          | 0/? [00:00<?, ?it/s]"
      ]
     },
     "metadata": {},
     "output_type": "display_data"
    },
    {
     "data": {
      "application/vnd.jupyter.widget-view+json": {
       "model_id": "5065b4b36f4143768dfc765c4df926e6",
       "version_major": 2,
       "version_minor": 0
      },
      "text/plain": [
       "Validation: |          | 0/? [00:00<?, ?it/s]"
      ]
     },
     "metadata": {},
     "output_type": "display_data"
    },
    {
     "data": {
      "application/vnd.jupyter.widget-view+json": {
       "model_id": "b2e07a2aa6554f2db3e1dd4f22d76d37",
       "version_major": 2,
       "version_minor": 0
      },
      "text/plain": [
       "Validation: |          | 0/? [00:00<?, ?it/s]"
      ]
     },
     "metadata": {},
     "output_type": "display_data"
    },
    {
     "data": {
      "application/vnd.jupyter.widget-view+json": {
       "model_id": "99a07c86e38f4b5d879351c9a1ee4a32",
       "version_major": 2,
       "version_minor": 0
      },
      "text/plain": [
       "Validation: |          | 0/? [00:00<?, ?it/s]"
      ]
     },
     "metadata": {},
     "output_type": "display_data"
    },
    {
     "data": {
      "application/vnd.jupyter.widget-view+json": {
       "model_id": "1b9610472bb547ba94c913a6932fe7e2",
       "version_major": 2,
       "version_minor": 0
      },
      "text/plain": [
       "Validation: |          | 0/? [00:00<?, ?it/s]"
      ]
     },
     "metadata": {},
     "output_type": "display_data"
    },
    {
     "data": {
      "application/vnd.jupyter.widget-view+json": {
       "model_id": "73ea8825cf77488aa3663725f9d4e296",
       "version_major": 2,
       "version_minor": 0
      },
      "text/plain": [
       "Validation: |          | 0/? [00:00<?, ?it/s]"
      ]
     },
     "metadata": {},
     "output_type": "display_data"
    },
    {
     "data": {
      "application/vnd.jupyter.widget-view+json": {
       "model_id": "074606a90a0d4da9ba10cbdce2623a82",
       "version_major": 2,
       "version_minor": 0
      },
      "text/plain": [
       "Validation: |          | 0/? [00:00<?, ?it/s]"
      ]
     },
     "metadata": {},
     "output_type": "display_data"
    },
    {
     "data": {
      "application/vnd.jupyter.widget-view+json": {
       "model_id": "9f48bd4f14574eaf81d2b88b46f231ee",
       "version_major": 2,
       "version_minor": 0
      },
      "text/plain": [
       "Validation: |          | 0/? [00:00<?, ?it/s]"
      ]
     },
     "metadata": {},
     "output_type": "display_data"
    },
    {
     "data": {
      "application/vnd.jupyter.widget-view+json": {
       "model_id": "4d012f2d65304d6eaaca5e66ef51d657",
       "version_major": 2,
       "version_minor": 0
      },
      "text/plain": [
       "Validation: |          | 0/? [00:00<?, ?it/s]"
      ]
     },
     "metadata": {},
     "output_type": "display_data"
    },
    {
     "data": {
      "application/vnd.jupyter.widget-view+json": {
       "model_id": "79bc43ccd66b4c5fb1664aba7d1873c2",
       "version_major": 2,
       "version_minor": 0
      },
      "text/plain": [
       "Validation: |          | 0/? [00:00<?, ?it/s]"
      ]
     },
     "metadata": {},
     "output_type": "display_data"
    },
    {
     "data": {
      "application/vnd.jupyter.widget-view+json": {
       "model_id": "00ec6f3b313448f286a6ad14edadb0f8",
       "version_major": 2,
       "version_minor": 0
      },
      "text/plain": [
       "Validation: |          | 0/? [00:00<?, ?it/s]"
      ]
     },
     "metadata": {},
     "output_type": "display_data"
    },
    {
     "data": {
      "application/vnd.jupyter.widget-view+json": {
       "model_id": "4453138c4435486cbacdc59c72049924",
       "version_major": 2,
       "version_minor": 0
      },
      "text/plain": [
       "Validation: |          | 0/? [00:00<?, ?it/s]"
      ]
     },
     "metadata": {},
     "output_type": "display_data"
    },
    {
     "data": {
      "application/vnd.jupyter.widget-view+json": {
       "model_id": "536a4d9a90014a87a693541dec35e8ab",
       "version_major": 2,
       "version_minor": 0
      },
      "text/plain": [
       "Validation: |          | 0/? [00:00<?, ?it/s]"
      ]
     },
     "metadata": {},
     "output_type": "display_data"
    },
    {
     "data": {
      "application/vnd.jupyter.widget-view+json": {
       "model_id": "2b5cda7cf89d4deaae15397b3745a226",
       "version_major": 2,
       "version_minor": 0
      },
      "text/plain": [
       "Validation: |          | 0/? [00:00<?, ?it/s]"
      ]
     },
     "metadata": {},
     "output_type": "display_data"
    },
    {
     "data": {
      "application/vnd.jupyter.widget-view+json": {
       "model_id": "930abe5dd8d640d08a794e15568108de",
       "version_major": 2,
       "version_minor": 0
      },
      "text/plain": [
       "Validation: |          | 0/? [00:00<?, ?it/s]"
      ]
     },
     "metadata": {},
     "output_type": "display_data"
    }
   ],
   "source": [
    "from utils.helper_functions import create_classifier_trainer\n",
    "\n",
    "trainer, regressor_csv_logger, regressor_checkpoint = create_classifier_trainer(\"cancer_regressor\")\n",
    "cancer_regressor = BaseCancerRegressor(\n",
    "        cancer_autoencoder,\n",
    "        SimpleNN(\n",
    "            input_dim=best_model_params['latent_size'],\n",
    "            n_layers=3,\n",
    "            dropout=.3,\n",
    "            activation=nn.LeakyReLU,\n",
    "        ),\n",
    "        lr=0.003,\n",
    "        weight_decay=0.004,\n",
    "        optimizer=torch.optim.Adam,\n",
    "    )\n",
    "trainer.fit(\n",
    "    cancer_regressor,\n",
    "    datamodule=CancerDataModule(cancer_df, numerical_features=numeric_cols, scaler=scaler),\n",
    ")"
   ]
  },
  {
   "cell_type": "code",
   "execution_count": 10,
   "metadata": {},
   "outputs": [
    {
     "name": "stderr",
     "output_type": "stream",
     "text": [
      "LOCAL_RANK: 0 - CUDA_VISIBLE_DEVICES: [0]\n",
      "/home/jacobtye/mambaforge/envs/bmi_6114/lib/python3.12/site-packages/lightning/pytorch/trainer/connectors/data_connector.py:425: The 'test_dataloader' does not have many workers which may be a bottleneck. Consider increasing the value of the `num_workers` argument` to `num_workers=15` in the `DataLoader` to improve performance.\n"
     ]
    },
    {
     "data": {
      "application/vnd.jupyter.widget-view+json": {
       "model_id": "6b6967d2d4a64b51a3f7d17da644f5c1",
       "version_major": 2,
       "version_minor": 0
      },
      "text/plain": [
       "Testing: |          | 0/? [00:00<?, ?it/s]"
      ]
     },
     "metadata": {},
     "output_type": "display_data"
    },
    {
     "data": {
      "text/html": [
       "<pre style=\"white-space:pre;overflow-x:auto;line-height:normal;font-family:Menlo,'DejaVu Sans Mono',consolas,'Courier New',monospace\">┏━━━━━━━━━━━━━━━━━━━━━━━━━━━┳━━━━━━━━━━━━━━━━━━━━━━━━━━━┓\n",
       "┃<span style=\"font-weight: bold\">        Test metric        </span>┃<span style=\"font-weight: bold\">       DataLoader 0        </span>┃\n",
       "┡━━━━━━━━━━━━━━━━━━━━━━━━━━━╇━━━━━━━━━━━━━━━━━━━━━━━━━━━┩\n",
       "│<span style=\"color: #008080; text-decoration-color: #008080\">         test_loss         </span>│<span style=\"color: #800080; text-decoration-color: #800080\">     471.8036804199219     </span>│\n",
       "│<span style=\"color: #008080; text-decoration-color: #008080\">         test_mse          </span>│<span style=\"color: #800080; text-decoration-color: #800080\">     471.8036804199219     </span>│\n",
       "└───────────────────────────┴───────────────────────────┘\n",
       "</pre>\n"
      ],
      "text/plain": [
       "┏━━━━━━━━━━━━━━━━━━━━━━━━━━━┳━━━━━━━━━━━━━━━━━━━━━━━━━━━┓\n",
       "┃\u001b[1m \u001b[0m\u001b[1m       Test metric       \u001b[0m\u001b[1m \u001b[0m┃\u001b[1m \u001b[0m\u001b[1m      DataLoader 0       \u001b[0m\u001b[1m \u001b[0m┃\n",
       "┡━━━━━━━━━━━━━━━━━━━━━━━━━━━╇━━━━━━━━━━━━━━━━━━━━━━━━━━━┩\n",
       "│\u001b[36m \u001b[0m\u001b[36m        test_loss        \u001b[0m\u001b[36m \u001b[0m│\u001b[35m \u001b[0m\u001b[35m    471.8036804199219    \u001b[0m\u001b[35m \u001b[0m│\n",
       "│\u001b[36m \u001b[0m\u001b[36m        test_mse         \u001b[0m\u001b[36m \u001b[0m│\u001b[35m \u001b[0m\u001b[35m    471.8036804199219    \u001b[0m\u001b[35m \u001b[0m│\n",
       "└───────────────────────────┴───────────────────────────┘\n"
      ]
     },
     "metadata": {},
     "output_type": "display_data"
    },
    {
     "data": {
      "text/plain": [
       "[{'test_loss': 471.8036804199219, 'test_mse': 471.8036804199219}]"
      ]
     },
     "execution_count": 10,
     "metadata": {},
     "output_type": "execute_result"
    }
   ],
   "source": [
    "trainer.test(\n",
    "    model=cancer_regressor,\n",
    "    datamodule=CancerDataModule(cancer_df, numerical_features=numeric_cols, scaler=scaler),\n",
    ")"
   ]
  },
  {
   "cell_type": "code",
   "execution_count": 11,
   "metadata": {},
   "outputs": [
    {
     "data": {
      "image/png": "[encoded data removed]",
      "text/plain": [
       "<Figure size 1000x600 with 1 Axes>"
      ]
     },
     "metadata": {},
     "output_type": "display_data"
    }
   ],
   "source": [
    "def plot_regression_results(model, dataloader):\n",
    "    model.eval()\n",
    "    y_true = []\n",
    "    y_pred = []\n",
    "    with torch.no_grad():\n",
    "        for batch in dataloader:\n",
    "            x, y = batch\n",
    "            y_hat = model(x)\n",
    "            y_true.append(y)\n",
    "            y_pred.append(y_hat)\n",
    "\n",
    "    y_true = torch.cat(y_true).numpy()\n",
    "    y_pred = torch.cat(y_pred).numpy()\n",
    "\n",
    "    plt.figure(figsize=(10, 6))\n",
    "    plt.scatter(y_true, y_pred, alpha=0.5)\n",
    "    plt.plot([y_true.min(), y_true.max()], [y_true.min(), y_true.max()], 'r--')\n",
    "    plt.xlabel('True Values')\n",
    "    plt.ylabel('Predictions')\n",
    "    plt.title('Regression Results')\n",
    "    plt.show()\n",
    "plot_regression_results(cancer_regressor, cancer_dm.test_dataloader())"
   ]
  },
  {
   "cell_type": "code",
   "execution_count": null,
   "metadata": {},
   "outputs": [],
   "source": [
    "import optuna\n",
    "\n",
    "trial_to_details = {}\n",
    "def objective(trial):\n",
    "    # Sample hyperparameters\n",
    "    activation_dict = {\n",
    "        \"relu\": nn.ReLU,\n",
    "        \"leaky_relu\": nn.LeakyReLU,\n",
    "        \"tanh\": nn.Tanh,\n",
    "        \"RReLU\": nn.RReLU,\n",
    "    }\n",
    "    optimizer_dict = {\n",
    "        \"adam\": torch.optim.Adam,\n",
    "        \"sgd\": torch.optim.SGD,\n",
    "        \"adagrad\": torch.optim.Adagrad,\n",
    "    }\n",
    "    n_layers = trial.suggest_int(\"n_layers\", 3, 10)\n",
    "    dropout = trial.suggest_float(\"dropout\", 0.0, 0.5)\n",
    "    learning_rate = trial.suggest_float(\"learning_rate\", 1e-5, 1e-2, log=True)\n",
    "    weight_decay = trial.suggest_float(\"weight_decay\", 0.0, 1e-2, log=True)\n",
    "    optimizer = trial.suggest_categorical(\"optimizer\", list(optimizer_dict.keys()))\n",
    "    activation = trial.suggest_categorical(\"activation\", list(activation_dict.keys()) )\n",
    "\n",
    "    activation = activation_dict[activation]\n",
    "    optimizer = optimizer_dict[optimizer]\n",
    "\n",
    "    model = BaseCancerRegressor(\n",
    "        CancerDataAutoEncoder.load_from_checkpoint(\n",
    "            best_ae_model_path,\n",
    "            **best_model_params\n",
    "        ),\n",
    "        SimpleNN(\n",
    "            input_dim=best_model_params['latent_size'],\n",
    "            n_layers=n_layers,\n",
    "            dropout=dropout,\n",
    "            activation=activation,\n",
    "        ),\n",
    "        lr=learning_rate,\n",
    "        weight_decay=weight_decay,\n",
    "        optimizer=optimizer,\n",
    "    )\n",
    "    trainer, logger, checkpoint = create_classifier_trainer(f\"trial_{trial.number}\", max_epochs=100, enable_pbar=False)\n",
    "\n",
    "\n",
    "    # Training loop\n",
    "    trainer.fit(\n",
    "        model,\n",
    "        datamodule=CancerDataModule(cancer_df, numerical_features=numeric_cols, scaler=scaler),\n",
    "    )\n",
    "    trial_to_details[trial.number] = {\n",
    "        \"logger\" : logger,\n",
    "        \"checkpoint\" : checkpoint,\n",
    "    }\n",
    "\n",
    "    \n",
    "    # Store trial details\n",
    "    trial_to_details[trial.number] = {\n",
    "        \"logger\" : logger,\n",
    "        \"checkpoint\" : checkpoint,\n",
    "    }\n",
    "    metrics_path = f\"{logger.log_dir}/metrics.csv\"\n",
    "    metrics_df = pd.read_csv(metrics_path)\n",
    "\n",
    "    if \"val_mse\" not in metrics_df.columns:\n",
    "        return float(\"inf\")\n",
    "\n",
    "    last_val = metrics_df[\"val_mse\"].dropna().values[-1]\n",
    "    return last_val"
   ]
  },
  {
   "cell_type": "code",
   "execution_count": null,
   "metadata": {},
   "outputs": [
    {
     "name": "stderr",
     "output_type": "stream",
     "text": [
      "[I 2025-04-14 12:47:13,003] A new study created in memory with name: regressor_study\n"
     ]
    },
    {
     "name": "stderr",
     "output_type": "stream",
     "text": [
      "GPU available: True (cuda), used: True\n",
      "GPU available: True (cuda), used: True\n",
      "GPU available: True (cuda), used: True\n",
      "GPU available: True (cuda), used: True\n",
      "GPU available: True (cuda), used: True\n",
      "TPU available: False, using: 0 TPU cores\n",
      "TPU available: False, using: 0 TPU cores\n",
      "TPU available: False, using: 0 TPU cores\n",
      "TPU available: False, using: 0 TPU cores\n",
      "TPU available: False, using: 0 TPU cores\n",
      "HPU available: False, using: 0 HPUs\n",
      "HPU available: False, using: 0 HPUs\n",
      "HPU available: False, using: 0 HPUs\n",
      "HPU available: False, using: 0 HPUs\n",
      "HPU available: False, using: 0 HPUs\n",
      "LOCAL_RANK: 0 - CUDA_VISIBLE_DEVICES: [0]\n",
      "LOCAL_RANK: 0 - CUDA_VISIBLE_DEVICES: [0]\n",
      "LOCAL_RANK: 0 - CUDA_VISIBLE_DEVICES: [0]\n",
      "LOCAL_RANK: 0 - CUDA_VISIBLE_DEVICES: [0]\n",
      "LOCAL_RANK: 0 - CUDA_VISIBLE_DEVICES: [0]\n",
      "\n",
      "  | Name           | Type                  | Params | Mode \n",
      "-----------------------------------------------------------------\n",
      "0 | auto_encoder   | CancerDataAutoEncoder | 138 K  | train\n",
      "1 | neural_network | SimpleNN              | 7.3 K  | train\n",
      "2 | loss_metric    | MeanSquaredError      | 0      | train\n",
      "3 | val_metric     | MeanSquaredError      | 0      | train\n",
      "4 | test_metric    | MeanSquaredError      | 0      | train\n",
      "-----------------------------------------------------------------\n",
      "7.3 K     Trainable params\n",
      "138 K     Non-trainable params\n",
      "145 K     Total params\n",
      "0.583     Total estimated model params size (MB)\n",
      "44        Modules in train mode\n",
      "0         Modules in eval mode\n",
      "\n",
      "  | Name           | Type                  | Params | Mode \n",
      "-----------------------------------------------------------------\n",
      "0 | auto_encoder   | CancerDataAutoEncoder | 138 K  | train\n",
      "1 | neural_network | SimpleNN              | 131 K  | train\n",
      "2 | loss_metric    | MeanSquaredError      | 0      | train\n",
      "3 | val_metric     | MeanSquaredError      | 0      | train\n",
      "4 | test_metric    | MeanSquaredError      | 0      | train\n",
      "-----------------------------------------------------------------\n",
      "131 K     Trainable params\n",
      "138 K     Non-trainable params\n",
      "269 K     Total params\n",
      "1.078     Total estimated model params size (MB)\n",
      "60        Modules in train mode\n",
      "0         Modules in eval mode\n",
      "\n",
      "  | Name           | Type                  | Params | Mode \n",
      "-----------------------------------------------------------------\n",
      "0 | auto_encoder   | CancerDataAutoEncoder | 138 K  | train\n",
      "1 | neural_network | SimpleNN              | 130 K  | train\n",
      "2 | loss_metric    | MeanSquaredError      | 0      | train\n",
      "3 | val_metric     | MeanSquaredError      | 0      | train\n",
      "4 | test_metric    | MeanSquaredError      | 0      | train\n",
      "-----------------------------------------------------------------\n",
      "130 K     Trainable params\n",
      "138 K     Non-trainable params\n",
      "268 K     Total params\n",
      "1.075     Total estimated model params size (MB)\n",
      "56        Modules in train mode\n",
      "0         Modules in eval mode\n",
      "\n",
      "  | Name           | Type                  | Params | Mode \n",
      "-----------------------------------------------------------------\n",
      "0 | auto_encoder   | CancerDataAutoEncoder | 138 K  | train\n",
      "1 | neural_network | SimpleNN              | 32.3 K | train\n",
      "2 | loss_metric    | MeanSquaredError      | 0      | train\n",
      "3 | val_metric     | MeanSquaredError      | 0      | train\n",
      "4 | test_metric    | MeanSquaredError      | 0      | train\n",
      "-----------------------------------------------------------------\n",
      "32.3 K    Trainable params\n",
      "138 K     Non-trainable params\n",
      "170 K     Total params\n",
      "0.683     Total estimated model params size (MB)\n",
      "52        Modules in train mode\n",
      "0         Modules in eval mode\n",
      "\n",
      "  | Name           | Type                  | Params | Mode \n",
      "-----------------------------------------------------------------\n",
      "0 | auto_encoder   | CancerDataAutoEncoder | 138 K  | train\n",
      "1 | neural_network | SimpleNN              | 522 K  | train\n",
      "2 | loss_metric    | MeanSquaredError      | 0      | train\n",
      "3 | val_metric     | MeanSquaredError      | 0      | train\n",
      "4 | test_metric    | MeanSquaredError      | 0      | train\n",
      "-----------------------------------------------------------------\n",
      "522 K     Trainable params\n",
      "138 K     Non-trainable params\n",
      "660 K     Total params\n",
      "2.644     Total estimated model params size (MB)\n",
      "64        Modules in train mode\n",
      "0         Modules in eval mode\n"
     ]
    }
   ],
   "source": [
    "# --- Run Optuna ---\n",
    "study = optuna.create_study(direction=\"minimize\", study_name=\"regressor_study\")\n",
    "study.optimize(objective, n_trials=5, n_jobs=-1)\n",
    "\n",
    "# --- Print Best Result ---\n",
    "print(\"Best trial:\")\n",
    "print(f\"  Value (val_mse): {study.best_trial.value}\")\n",
    "print(\"  Params:\")\n",
    "for key, val in study.best_trial.params.items():\n",
    "    print(f\"    {key}: {val}\")"
   ]
  },
  {
   "cell_type": "code",
   "execution_count": null,
   "metadata": {},
   "outputs": [],
   "source": []
  }
 ],
 "metadata": {
  "kernelspec": {
   "display_name": "bmi_6114",
   "language": "python",
   "name": "python3"
  },
  "language_info": {
   "codemirror_mode": {
    "name": "ipython",
    "version": 3
   },
   "file_extension": ".py",
   "mimetype": "text/x-python",
   "name": "python",
   "nbconvert_exporter": "python",
   "pygments_lexer": "ipython3",
   "version": "3.12.5"
  }
 },
 "nbformat": 4,
 "nbformat_minor": 2
}
