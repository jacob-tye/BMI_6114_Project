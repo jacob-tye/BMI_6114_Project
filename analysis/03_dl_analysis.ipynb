{
 "cells": [
  {
   "cell_type": "code",
   "execution_count": 1,
   "metadata": {},
   "outputs": [],
   "source": [
    "%load_ext autoreload\n",
    "%autoreload 2\n"
   ]
  },
  {
   "cell_type": "markdown",
   "metadata": {},
   "source": [
    "# Deep Learning Analysis"
   ]
  },
  {
   "cell_type": "code",
   "execution_count": 2,
   "metadata": {},
   "outputs": [],
   "source": [
    "import json\n",
    "import joblib\n",
    "import lightning as L\n",
    "import matplotlib.pyplot as plt\n",
    "import numpy as np\n",
    "import pandas as pd\n",
    "import torch\n",
    "import torch.nn as nn\n",
    "import torch.nn.functional as F\n",
    "import torchvision.transforms as transforms\n",
    "from torch.utils.data import DataLoader, random_split\n",
    "from torchmetrics import MeanSquaredError\n",
    "from torchvision import datasets\n",
    "from utils.helper_classes import CancerDataModule, CancerDataset\n",
    "from utils.models import BaseCancerRegressor, CancerDataAutoEncoder"
   ]
  },
  {
   "cell_type": "code",
   "execution_count": 3,
   "metadata": {},
   "outputs": [],
   "source": [
    "cancer_df = pd.read_csv(\"../data/cleaned_feature_and_target_data_large.csv\", index_col=0)\n",
    "cna_columns = [col for col in cancer_df.columns if col.startswith(\"CNA\")]\n",
    "numeric_cols = [\"SMOKING_PACK_YEARS\"] + cna_columns\n",
    "cancer_df[numeric_cols] = cancer_df[numeric_cols].astype(np.float32)\n",
    "scaler = joblib.load(open(\"results/scaler.pkl\", \"rb\"))\n",
    "cancer_dm = CancerDataModule(cancer_df, numerical_features=numeric_cols, scaler=scaler)\n",
    "cancer_dm.setup()"
   ]
  },
  {
   "cell_type": "code",
   "execution_count": 4,
   "metadata": {},
   "outputs": [],
   "source": [
    "with open('results/02/results.txt', 'r') as file:\n",
    "    best_ae_model_path = file.readline().strip()"
   ]
  },
  {
   "cell_type": "code",
   "execution_count": 5,
   "metadata": {},
   "outputs": [
    {
     "name": "stdout",
     "output_type": "stream",
     "text": [
      "{'latent_size': 22, 'n_layers': 2, 'dropout': 0.013875149619123436}\n"
     ]
    }
   ],
   "source": [
    "with open('results/02/best_trial_params.json', 'r') as json_file:\n",
    "    best_model_params = json.load(json_file)\n",
    "\n",
    "print(best_model_params)"
   ]
  },
  {
   "cell_type": "code",
   "execution_count": 6,
   "metadata": {},
   "outputs": [],
   "source": [
    "cancer_autoencoder = CancerDataAutoEncoder.load_from_checkpoint(\n",
    "    best_ae_model_path,\n",
    "    **best_model_params\n",
    ")"
   ]
  },
  {
   "cell_type": "code",
   "execution_count": 7,
   "metadata": {},
   "outputs": [],
   "source": [
    "import random\n",
    "\n",
    "\n",
    "class SimpleNN(nn.Module):\n",
    "    def __init__(self, input_dim, n_layers=1, dropout=0.2, activation=nn.LeakyReLU):\n",
    "        super(SimpleNN, self).__init__()\n",
    "        self.layers = []\n",
    "        curr_size = input_dim\n",
    "        len_first_half = int(n_layers / 2)\n",
    "        len_second_half = n_layers - len_first_half\n",
    "        for i in range(len_first_half):\n",
    "            new_size = curr_size * 2\n",
    "            self.layers += [\n",
    "                nn.Linear(curr_size, new_size),\n",
    "                nn.BatchNorm1d(new_size),\n",
    "                activation(),\n",
    "                nn.Dropout(dropout),\n",
    "            ]\n",
    "            curr_size = new_size\n",
    "        \n",
    "        for i in range(len_second_half):\n",
    "            new_size = curr_size // 2\n",
    "            self.layers += [\n",
    "                nn.Linear(curr_size, new_size),\n",
    "                nn.BatchNorm1d(new_size),\n",
    "                activation(),\n",
    "                nn.Dropout(dropout),\n",
    "            ]\n",
    "            curr_size = new_size\n",
    "        if curr_size > 1:\n",
    "            self.layers.append(nn.Linear(curr_size, 1))\n",
    "        self.network = nn.Sequential(*self.layers)\n",
    "\n",
    "    def forward(self, x):\n",
    "        return self.network(x)\n",
    "\n",
    "simple_nn = SimpleNN(\n",
    "    input_dim=best_model_params['latent_size'],\n",
    "    n_layers=8\n",
    ")"
   ]
  },
  {
   "cell_type": "code",
   "execution_count": 8,
   "metadata": {},
   "outputs": [
    {
     "data": {
      "text/plain": [
       "==========================================================================================\n",
       "Layer (type:depth-idx)                   Output Shape              Param #\n",
       "==========================================================================================\n",
       "BaseCancerRegressor                      [1, 1]                    --\n",
       "├─CancerDataAutoEncoder: 1-1             --                        1,489,664\n",
       "│    └─Sequential: 2-1                   [1, 22]                   --\n",
       "│    │    └─Linear: 3-1                  [1, 506]                  (500,940)\n",
       "│    │    └─ReLU: 3-2                    [1, 506]                  --\n",
       "│    │    └─Dropout: 3-3                 [1, 506]                  --\n",
       "│    │    └─Linear: 3-4                  [1, 23]                   (11,661)\n",
       "│    │    └─ReLU: 3-5                    [1, 23]                   --\n",
       "│    │    └─Dropout: 3-6                 [1, 23]                   --\n",
       "│    │    └─Linear: 3-7                  [1, 22]                   (528)\n",
       "├─SimpleNN: 1-2                          [1, 1]                    --\n",
       "│    └─Sequential: 2-2                   [1, 1]                    --\n",
       "│    │    └─Linear: 3-8                  [1, 44]                   1,012\n",
       "│    │    └─BatchNorm1d: 3-9             [1, 44]                   88\n",
       "│    │    └─LeakyReLU: 3-10              [1, 44]                   --\n",
       "│    │    └─Dropout: 3-11                [1, 44]                   --\n",
       "│    │    └─Linear: 3-12                 [1, 88]                   3,960\n",
       "│    │    └─BatchNorm1d: 3-13            [1, 88]                   176\n",
       "│    │    └─LeakyReLU: 3-14              [1, 88]                   --\n",
       "│    │    └─Dropout: 3-15                [1, 88]                   --\n",
       "│    │    └─Linear: 3-16                 [1, 176]                  15,664\n",
       "│    │    └─BatchNorm1d: 3-17            [1, 176]                  352\n",
       "│    │    └─LeakyReLU: 3-18              [1, 176]                  --\n",
       "│    │    └─Dropout: 3-19                [1, 176]                  --\n",
       "│    │    └─Linear: 3-20                 [1, 352]                  62,304\n",
       "│    │    └─BatchNorm1d: 3-21            [1, 352]                  704\n",
       "│    │    └─LeakyReLU: 3-22              [1, 352]                  --\n",
       "│    │    └─Dropout: 3-23                [1, 352]                  --\n",
       "│    │    └─Linear: 3-24                 [1, 176]                  62,128\n",
       "│    │    └─BatchNorm1d: 3-25            [1, 176]                  352\n",
       "│    │    └─LeakyReLU: 3-26              [1, 176]                  --\n",
       "│    │    └─Dropout: 3-27                [1, 176]                  --\n",
       "│    │    └─Linear: 3-28                 [1, 88]                   15,576\n",
       "│    │    └─BatchNorm1d: 3-29            [1, 88]                   176\n",
       "│    │    └─LeakyReLU: 3-30              [1, 88]                   --\n",
       "│    │    └─Dropout: 3-31                [1, 88]                   --\n",
       "│    │    └─Linear: 3-32                 [1, 44]                   3,916\n",
       "│    │    └─BatchNorm1d: 3-33            [1, 44]                   88\n",
       "│    │    └─LeakyReLU: 3-34              [1, 44]                   --\n",
       "│    │    └─Dropout: 3-35                [1, 44]                   --\n",
       "│    │    └─Linear: 3-36                 [1, 22]                   990\n",
       "│    │    └─BatchNorm1d: 3-37            [1, 22]                   44\n",
       "│    │    └─LeakyReLU: 3-38              [1, 22]                   --\n",
       "│    │    └─Dropout: 3-39                [1, 22]                   --\n",
       "│    │    └─Linear: 3-40                 [1, 1]                    23\n",
       "==========================================================================================\n",
       "Total params: 2,170,346\n",
       "Trainable params: 167,553\n",
       "Non-trainable params: 2,002,793\n",
       "Total mult-adds (Units.MEGABYTES): 0.68\n",
       "==========================================================================================\n",
       "Input size (MB): 0.00\n",
       "Forward/backward pass size (MB): 0.02\n",
       "Params size (MB): 2.72\n",
       "Estimated Total Size (MB): 2.75\n",
       "=========================================================================================="
      ]
     },
     "execution_count": 8,
     "metadata": {},
     "output_type": "execute_result"
    }
   ],
   "source": [
    "from torchinfo import summary\n",
    "\n",
    "input_dim = len(cancer_dm.ds_train[0][0])\n",
    "summary(BaseCancerRegressor(cancer_autoencoder, simple_nn), input_size=(1, input_dim))"
   ]
  },
  {
   "cell_type": "code",
   "execution_count": 9,
   "metadata": {},
   "outputs": [
    {
     "name": "stderr",
     "output_type": "stream",
     "text": [
      "GPU available: True (cuda), used: True\n",
      "TPU available: False, using: 0 TPU cores\n",
      "HPU available: False, using: 0 HPUs\n",
      "You are using a CUDA device ('NVIDIA GeForce RTX 3080 Laptop GPU') that has Tensor Cores. To properly utilize them, you should set `torch.set_float32_matmul_precision('medium' | 'high')` which will trade-off precision for performance. For more details, read https://pytorch.org/docs/stable/generated/torch.set_float32_matmul_precision.html#torch.set_float32_matmul_precision\n",
      "LOCAL_RANK: 0 - CUDA_VISIBLE_DEVICES: [0]\n",
      "\n",
      "  | Name           | Type                  | Params | Mode \n",
      "-----------------------------------------------------------------\n",
      "0 | auto_encoder   | CancerDataAutoEncoder | 2.0 M  | train\n",
      "1 | neural_network | SimpleNN              | 2.4 K  | train\n",
      "2 | loss_metric    | MeanSquaredError      | 0      | train\n",
      "3 | val_metric     | MeanSquaredError      | 0      | train\n",
      "4 | test_metric    | MeanSquaredError      | 0      | train\n",
      "-----------------------------------------------------------------\n",
      "2.4 K     Trainable params\n",
      "2.0 M     Non-trainable params\n",
      "2.0 M     Total params\n",
      "8.021     Total estimated model params size (MB)\n",
      "38        Modules in train mode\n",
      "0         Modules in eval mode\n"
     ]
    },
    {
     "data": {
      "application/vnd.jupyter.widget-view+json": {
       "model_id": "a443977e223b4eb492307b39b7e59ff4",
       "version_major": 2,
       "version_minor": 0
      },
      "text/plain": [
       "Sanity Checking: |          | 0/? [00:00<?, ?it/s]"
      ]
     },
     "metadata": {},
     "output_type": "display_data"
    },
    {
     "data": {
      "application/vnd.jupyter.widget-view+json": {
       "model_id": "67345ba316094d0298646f32b85c1896",
       "version_major": 2,
       "version_minor": 0
      },
      "text/plain": [
       "Training: |          | 0/? [00:00<?, ?it/s]"
      ]
     },
     "metadata": {},
     "output_type": "display_data"
    },
    {
     "data": {
      "application/vnd.jupyter.widget-view+json": {
       "model_id": "31a5fae2bc894f1aa09f336215961a6d",
       "version_major": 2,
       "version_minor": 0
      },
      "text/plain": [
       "Validation: |          | 0/? [00:00<?, ?it/s]"
      ]
     },
     "metadata": {},
     "output_type": "display_data"
    },
    {
     "data": {
      "application/vnd.jupyter.widget-view+json": {
       "model_id": "48cb99174a8f4abd955d0c10c83d9a7f",
       "version_major": 2,
       "version_minor": 0
      },
      "text/plain": [
       "Validation: |          | 0/? [00:00<?, ?it/s]"
      ]
     },
     "metadata": {},
     "output_type": "display_data"
    },
    {
     "data": {
      "application/vnd.jupyter.widget-view+json": {
       "model_id": "6f77125b992c47aaaa28d2faa1eb42ea",
       "version_major": 2,
       "version_minor": 0
      },
      "text/plain": [
       "Validation: |          | 0/? [00:00<?, ?it/s]"
      ]
     },
     "metadata": {},
     "output_type": "display_data"
    },
    {
     "data": {
      "application/vnd.jupyter.widget-view+json": {
       "model_id": "d32e6292615746a787d47cfee940c4c6",
       "version_major": 2,
       "version_minor": 0
      },
      "text/plain": [
       "Validation: |          | 0/? [00:00<?, ?it/s]"
      ]
     },
     "metadata": {},
     "output_type": "display_data"
    },
    {
     "data": {
      "application/vnd.jupyter.widget-view+json": {
       "model_id": "38b0fc25c40d474e936ef9d5cb644e85",
       "version_major": 2,
       "version_minor": 0
      },
      "text/plain": [
       "Validation: |          | 0/? [00:00<?, ?it/s]"
      ]
     },
     "metadata": {},
     "output_type": "display_data"
    },
    {
     "data": {
      "application/vnd.jupyter.widget-view+json": {
       "model_id": "0124c1efe0e8454a807b3d7cbb265a9c",
       "version_major": 2,
       "version_minor": 0
      },
      "text/plain": [
       "Validation: |          | 0/? [00:00<?, ?it/s]"
      ]
     },
     "metadata": {},
     "output_type": "display_data"
    },
    {
     "data": {
      "application/vnd.jupyter.widget-view+json": {
       "model_id": "60956d04cddb4683ab705aaad89f1820",
       "version_major": 2,
       "version_minor": 0
      },
      "text/plain": [
       "Validation: |          | 0/? [00:00<?, ?it/s]"
      ]
     },
     "metadata": {},
     "output_type": "display_data"
    },
    {
     "data": {
      "application/vnd.jupyter.widget-view+json": {
       "model_id": "0b7d95da3fba43b580f53f075a1420bb",
       "version_major": 2,
       "version_minor": 0
      },
      "text/plain": [
       "Validation: |          | 0/? [00:00<?, ?it/s]"
      ]
     },
     "metadata": {},
     "output_type": "display_data"
    },
    {
     "data": {
      "application/vnd.jupyter.widget-view+json": {
       "model_id": "435de3f97a0442bbb5e3d2445991aef3",
       "version_major": 2,
       "version_minor": 0
      },
      "text/plain": [
       "Validation: |          | 0/? [00:00<?, ?it/s]"
      ]
     },
     "metadata": {},
     "output_type": "display_data"
    },
    {
     "data": {
      "application/vnd.jupyter.widget-view+json": {
       "model_id": "af8747dbd0584b2fa1b3d0cc8cebc5e0",
       "version_major": 2,
       "version_minor": 0
      },
      "text/plain": [
       "Validation: |          | 0/? [00:00<?, ?it/s]"
      ]
     },
     "metadata": {},
     "output_type": "display_data"
    },
    {
     "data": {
      "application/vnd.jupyter.widget-view+json": {
       "model_id": "66be577f3b2944369caa5d70ca265133",
       "version_major": 2,
       "version_minor": 0
      },
      "text/plain": [
       "Validation: |          | 0/? [00:00<?, ?it/s]"
      ]
     },
     "metadata": {},
     "output_type": "display_data"
    },
    {
     "data": {
      "application/vnd.jupyter.widget-view+json": {
       "model_id": "a8258d8113a74692b1395222a79977b1",
       "version_major": 2,
       "version_minor": 0
      },
      "text/plain": [
       "Validation: |          | 0/? [00:00<?, ?it/s]"
      ]
     },
     "metadata": {},
     "output_type": "display_data"
    },
    {
     "data": {
      "application/vnd.jupyter.widget-view+json": {
       "model_id": "5f42fc78607f43af80264bcb6ba603dc",
       "version_major": 2,
       "version_minor": 0
      },
      "text/plain": [
       "Validation: |          | 0/? [00:00<?, ?it/s]"
      ]
     },
     "metadata": {},
     "output_type": "display_data"
    },
    {
     "data": {
      "application/vnd.jupyter.widget-view+json": {
       "model_id": "c182a4b7ed334d75b2c20ab25c89fc92",
       "version_major": 2,
       "version_minor": 0
      },
      "text/plain": [
       "Validation: |          | 0/? [00:00<?, ?it/s]"
      ]
     },
     "metadata": {},
     "output_type": "display_data"
    },
    {
     "data": {
      "application/vnd.jupyter.widget-view+json": {
       "model_id": "6821836c113a4954b055634bbc02a4d7",
       "version_major": 2,
       "version_minor": 0
      },
      "text/plain": [
       "Validation: |          | 0/? [00:00<?, ?it/s]"
      ]
     },
     "metadata": {},
     "output_type": "display_data"
    },
    {
     "data": {
      "application/vnd.jupyter.widget-view+json": {
       "model_id": "db53aad4d9834b50aad6ec4fa640c770",
       "version_major": 2,
       "version_minor": 0
      },
      "text/plain": [
       "Validation: |          | 0/? [00:00<?, ?it/s]"
      ]
     },
     "metadata": {},
     "output_type": "display_data"
    },
    {
     "data": {
      "application/vnd.jupyter.widget-view+json": {
       "model_id": "bcae3b77a0804c96984bf2b68966d70f",
       "version_major": 2,
       "version_minor": 0
      },
      "text/plain": [
       "Validation: |          | 0/? [00:00<?, ?it/s]"
      ]
     },
     "metadata": {},
     "output_type": "display_data"
    },
    {
     "data": {
      "application/vnd.jupyter.widget-view+json": {
       "model_id": "dbc924ee0ab54c508bae83087d1ff3cc",
       "version_major": 2,
       "version_minor": 0
      },
      "text/plain": [
       "Validation: |          | 0/? [00:00<?, ?it/s]"
      ]
     },
     "metadata": {},
     "output_type": "display_data"
    },
    {
     "data": {
      "application/vnd.jupyter.widget-view+json": {
       "model_id": "efa81d7aa0b4422abdccde1bdfb1fc81",
       "version_major": 2,
       "version_minor": 0
      },
      "text/plain": [
       "Validation: |          | 0/? [00:00<?, ?it/s]"
      ]
     },
     "metadata": {},
     "output_type": "display_data"
    },
    {
     "data": {
      "application/vnd.jupyter.widget-view+json": {
       "model_id": "3220fccc2c5d4a80a1c094edb88ba4ed",
       "version_major": 2,
       "version_minor": 0
      },
      "text/plain": [
       "Validation: |          | 0/? [00:00<?, ?it/s]"
      ]
     },
     "metadata": {},
     "output_type": "display_data"
    },
    {
     "name": "stderr",
     "output_type": "stream",
     "text": [
      "`Trainer.fit` stopped: `max_epochs=20` reached.\n"
     ]
    }
   ],
   "source": [
    "from utils.helper_functions import create_classifier_trainer\n",
    "\n",
    "trainer, regressor_csv_logger, regressor_checkpoint = create_classifier_trainer(\"cancer_regressor\")\n",
    "cancer_regressor = BaseCancerRegressor(\n",
    "        cancer_autoencoder,\n",
    "        SimpleNN(\n",
    "            input_dim=best_model_params['latent_size'],\n",
    "            n_layers=3,\n",
    "            dropout=.3,\n",
    "            activation=nn.LeakyReLU,\n",
    "        ),\n",
    "        lr=0.003,\n",
    "        weight_decay=0.004,\n",
    "        optimizer=torch.optim.Adam,\n",
    "    )\n",
    "trainer.fit(\n",
    "    cancer_regressor,\n",
    "    datamodule=CancerDataModule(cancer_df, numerical_features=numeric_cols, scaler=scaler),\n",
    ")"
   ]
  },
  {
   "cell_type": "code",
   "execution_count": 10,
   "metadata": {},
   "outputs": [
    {
     "name": "stderr",
     "output_type": "stream",
     "text": [
      "LOCAL_RANK: 0 - CUDA_VISIBLE_DEVICES: [0]\n"
     ]
    },
    {
     "data": {
      "application/vnd.jupyter.widget-view+json": {
       "model_id": "3d32b6ca6e724faa89b9fb887a16cf5d",
       "version_major": 2,
       "version_minor": 0
      },
      "text/plain": [
       "Testing: |          | 0/? [00:00<?, ?it/s]"
      ]
     },
     "metadata": {},
     "output_type": "display_data"
    },
    {
     "data": {
      "text/html": [
       "<pre style=\"white-space:pre;overflow-x:auto;line-height:normal;font-family:Menlo,'DejaVu Sans Mono',consolas,'Courier New',monospace\">┏━━━━━━━━━━━━━━━━━━━━━━━━━━━┳━━━━━━━━━━━━━━━━━━━━━━━━━━━┓\n",
       "┃<span style=\"font-weight: bold\">        Test metric        </span>┃<span style=\"font-weight: bold\">       DataLoader 0        </span>┃\n",
       "┡━━━━━━━━━━━━━━━━━━━━━━━━━━━╇━━━━━━━━━━━━━━━━━━━━━━━━━━━┩\n",
       "│<span style=\"color: #008080; text-decoration-color: #008080\">         test_loss         </span>│<span style=\"color: #800080; text-decoration-color: #800080\">     467.0550537109375     </span>│\n",
       "│<span style=\"color: #008080; text-decoration-color: #008080\">         test_mse          </span>│<span style=\"color: #800080; text-decoration-color: #800080\">     467.0550537109375     </span>│\n",
       "└───────────────────────────┴───────────────────────────┘\n",
       "</pre>\n"
      ],
      "text/plain": [
       "┏━━━━━━━━━━━━━━━━━━━━━━━━━━━┳━━━━━━━━━━━━━━━━━━━━━━━━━━━┓\n",
       "┃\u001b[1m \u001b[0m\u001b[1m       Test metric       \u001b[0m\u001b[1m \u001b[0m┃\u001b[1m \u001b[0m\u001b[1m      DataLoader 0       \u001b[0m\u001b[1m \u001b[0m┃\n",
       "┡━━━━━━━━━━━━━━━━━━━━━━━━━━━╇━━━━━━━━━━━━━━━━━━━━━━━━━━━┩\n",
       "│\u001b[36m \u001b[0m\u001b[36m        test_loss        \u001b[0m\u001b[36m \u001b[0m│\u001b[35m \u001b[0m\u001b[35m    467.0550537109375    \u001b[0m\u001b[35m \u001b[0m│\n",
       "│\u001b[36m \u001b[0m\u001b[36m        test_mse         \u001b[0m\u001b[36m \u001b[0m│\u001b[35m \u001b[0m\u001b[35m    467.0550537109375    \u001b[0m\u001b[35m \u001b[0m│\n",
       "└───────────────────────────┴───────────────────────────┘\n"
      ]
     },
     "metadata": {},
     "output_type": "display_data"
    },
    {
     "data": {
      "text/plain": [
       "[{'test_loss': 467.0550537109375, 'test_mse': 467.0550537109375}]"
      ]
     },
     "execution_count": 10,
     "metadata": {},
     "output_type": "execute_result"
    }
   ],
   "source": [
    "trainer.test(\n",
    "    model=cancer_regressor,\n",
    "    datamodule=CancerDataModule(cancer_df, numerical_features=numeric_cols, scaler=scaler),\n",
    ")"
   ]
  },
  {
   "cell_type": "code",
   "execution_count": 11,
   "metadata": {},
   "outputs": [
    {
     "data": {
      "image/png": "[encoded data removed]",
      "text/plain": [
       "<Figure size 1000x600 with 1 Axes>"
      ]
     },
     "metadata": {},
     "output_type": "display_data"
    }
   ],
   "source": [
    "def plot_regression_results(model, dataloader):\n",
    "    model.eval()\n",
    "    y_true = []\n",
    "    y_pred = []\n",
    "    with torch.no_grad():\n",
    "        for batch in dataloader:\n",
    "            x, y = batch\n",
    "            y_hat = model(x)\n",
    "            y_true.append(y)\n",
    "            y_pred.append(y_hat)\n",
    "\n",
    "    y_true = torch.cat(y_true).numpy()\n",
    "    y_pred = torch.cat(y_pred).numpy()\n",
    "\n",
    "    plt.figure(figsize=(10, 6))\n",
    "    plt.scatter(y_true, y_pred, alpha=0.5)\n",
    "    plt.plot([y_true.min(), y_true.max()], [y_true.min(), y_true.max()], 'r--')\n",
    "    plt.xlabel('True Values')\n",
    "    plt.ylabel('Predictions')\n",
    "    plt.title('Regression Results')\n",
    "    plt.show()\n",
    "plot_regression_results(cancer_regressor, cancer_dm.test_dataloader())"
   ]
  },
  {
   "cell_type": "code",
   "execution_count": 12,
   "metadata": {},
   "outputs": [],
   "source": [
    "import optuna\n",
    "\n",
    "trial_to_details = {}\n",
    "def objective(trial):\n",
    "    # Sample hyperparameters\n",
    "    activation_dict = {\n",
    "        \"relu\": nn.ReLU,\n",
    "        \"leaky_relu\": nn.LeakyReLU,\n",
    "        \"tanh\": nn.Tanh,\n",
    "        \"RReLU\": nn.RReLU,\n",
    "    }\n",
    "    optimizer_dict = {\n",
    "        \"adam\": torch.optim.Adam,\n",
    "        \"sgd\": torch.optim.SGD,\n",
    "        \"adagrad\": torch.optim.Adagrad,\n",
    "    }\n",
    "    n_layers = trial.suggest_int(\"n_layers\", 3, 15)\n",
    "    dropout = trial.suggest_float(\"dropout\", 0.0, 0.5)\n",
    "    learning_rate = trial.suggest_float(\"learning_rate\", 1e-5, 1e-2, log=True)\n",
    "    weight_decay = trial.suggest_float(\"weight_decay\", 1e-5, 1e-2, log=True)\n",
    "    optimizer = trial.suggest_categorical(\"optimizer\", list(optimizer_dict.keys()))\n",
    "    activation = trial.suggest_categorical(\"activation\", list(activation_dict.keys()) )\n",
    "\n",
    "    activation = activation_dict[activation]\n",
    "    optimizer = optimizer_dict[optimizer]\n",
    "\n",
    "    model = BaseCancerRegressor(\n",
    "        CancerDataAutoEncoder.load_from_checkpoint(\n",
    "            best_ae_model_path,\n",
    "            **best_model_params\n",
    "        ),\n",
    "        SimpleNN(\n",
    "            input_dim=best_model_params['latent_size'],\n",
    "            n_layers=n_layers,\n",
    "            dropout=dropout,\n",
    "            activation=activation,\n",
    "        ),\n",
    "        lr=learning_rate,\n",
    "        weight_decay=weight_decay,\n",
    "        optimizer=optimizer,\n",
    "    )\n",
    "    trainer, logger, checkpoint = create_classifier_trainer(f\"trial_{trial.number}\", max_epochs=100, enable_pbar=False)\n",
    "\n",
    "\n",
    "    # Training loop\n",
    "    trainer.fit(\n",
    "        model,\n",
    "        datamodule=CancerDataModule(cancer_df, numerical_features=numeric_cols, scaler=scaler),\n",
    "    )\n",
    "    trial_to_details[trial.number] = {\n",
    "        \"logger\" : logger,\n",
    "        \"checkpoint\" : checkpoint,\n",
    "    }\n",
    "\n",
    "    \n",
    "    # Store trial details\n",
    "    trial_to_details[trial.number] = {\n",
    "        \"logger\" : logger,\n",
    "        \"checkpoint\" : checkpoint,\n",
    "    }\n",
    "    metrics_path = f\"{logger.log_dir}/metrics.csv\"\n",
    "    metrics_df = pd.read_csv(metrics_path)\n",
    "\n",
    "    if \"val_mse\" not in metrics_df.columns:\n",
    "        return float(\"inf\")\n",
    "\n",
    "    last_val = metrics_df[\"val_mse\"].dropna().values[-1]\n",
    "    return last_val"
   ]
  },
  {
   "cell_type": "code",
   "execution_count": 13,
   "metadata": {},
   "outputs": [
    {
     "name": "stderr",
     "output_type": "stream",
     "text": [
      "[I 2025-04-18 12:13:52,133] A new study created in memory with name: ae_regressor_study\n"
     ]
    },
    {
     "data": {
      "application/vnd.jupyter.widget-view+json": {
       "model_id": "d6b35749cec84f4eaa3ccf2c50352f0e",
       "version_major": 2,
       "version_minor": 0
      },
      "text/plain": [
       "  0%|          | 0/100 [00:00<?, ?it/s]"
      ]
     },
     "metadata": {},
     "output_type": "display_data"
    },
    {
     "name": "stderr",
     "output_type": "stream",
     "text": [
      "GPU available: True (cuda), used: True\n",
      "TPU available: False, using: 0 TPU cores\n",
      "HPU available: False, using: 0 HPUs\n",
      "LOCAL_RANK: 0 - CUDA_VISIBLE_DEVICES: [0]\n",
      "\n",
      "  | Name           | Type                  | Params | Mode \n",
      "-----------------------------------------------------------------\n",
      "0 | auto_encoder   | CancerDataAutoEncoder | 2.0 M  | train\n",
      "1 | neural_network | SimpleNN              | 10.6 M | train\n",
      "2 | loss_metric    | MeanSquaredError      | 0      | train\n",
      "3 | val_metric     | MeanSquaredError      | 0      | train\n",
      "4 | test_metric    | MeanSquaredError      | 0      | train\n",
      "-----------------------------------------------------------------\n",
      "10.6 M    Trainable params\n",
      "2.0 M     Non-trainable params\n",
      "12.6 M    Total params\n",
      "50.403    Total estimated model params size (MB)\n",
      "86        Modules in train mode\n",
      "0         Modules in eval mode\n"
     ]
    },
    {
     "name": "stdout",
     "output_type": "stream",
     "text": [
      "[I 2025-04-18 12:14:41,995] Trial 0 finished with value: 1027.2843017578125 and parameters: {'n_layers': 15, 'dropout': 0.28269376397251755, 'learning_rate': 0.0023068827570659604, 'weight_decay': 0.0002338892803798945, 'optimizer': 'adagrad', 'activation': 'RReLU'}. Best is trial 0 with value: 1027.2843017578125.\n"
     ]
    },
    {
     "name": "stderr",
     "output_type": "stream",
     "text": [
      "GPU available: True (cuda), used: True\n",
      "TPU available: False, using: 0 TPU cores\n",
      "HPU available: False, using: 0 HPUs\n",
      "LOCAL_RANK: 0 - CUDA_VISIBLE_DEVICES: [0]\n",
      "\n",
      "  | Name           | Type                  | Params | Mode \n",
      "-----------------------------------------------------------------\n",
      "0 | auto_encoder   | CancerDataAutoEncoder | 2.0 M  | train\n",
      "1 | neural_network | SimpleNN              | 10.6 M | train\n",
      "2 | loss_metric    | MeanSquaredError      | 0      | train\n",
      "3 | val_metric     | MeanSquaredError      | 0      | train\n",
      "4 | test_metric    | MeanSquaredError      | 0      | train\n",
      "-----------------------------------------------------------------\n",
      "10.6 M    Trainable params\n",
      "2.0 M     Non-trainable params\n",
      "12.6 M    Total params\n",
      "50.402    Total estimated model params size (MB)\n",
      "82        Modules in train mode\n",
      "0         Modules in eval mode\n"
     ]
    },
    {
     "name": "stdout",
     "output_type": "stream",
     "text": [
      "[I 2025-04-18 12:16:18,969] Trial 1 finished with value: 676.1420288085938 and parameters: {'n_layers': 14, 'dropout': 0.2852498150333585, 'learning_rate': 0.0088037143782524, 'weight_decay': 0.00296677534277553, 'optimizer': 'adam', 'activation': 'RReLU'}. Best is trial 1 with value: 676.1420288085938.\n"
     ]
    },
    {
     "name": "stderr",
     "output_type": "stream",
     "text": [
      "GPU available: True (cuda), used: True\n",
      "TPU available: False, using: 0 TPU cores\n",
      "HPU available: False, using: 0 HPUs\n",
      "LOCAL_RANK: 0 - CUDA_VISIBLE_DEVICES: [0]\n",
      "\n",
      "  | Name           | Type                  | Params | Mode \n",
      "-----------------------------------------------------------------\n",
      "0 | auto_encoder   | CancerDataAutoEncoder | 2.0 M  | train\n",
      "1 | neural_network | SimpleNN              | 10.6 M | train\n",
      "2 | loss_metric    | MeanSquaredError      | 0      | train\n",
      "3 | val_metric     | MeanSquaredError      | 0      | train\n",
      "4 | test_metric    | MeanSquaredError      | 0      | train\n",
      "-----------------------------------------------------------------\n",
      "10.6 M    Trainable params\n",
      "2.0 M     Non-trainable params\n",
      "12.6 M    Total params\n",
      "50.402    Total estimated model params size (MB)\n",
      "82        Modules in train mode\n",
      "0         Modules in eval mode\n"
     ]
    },
    {
     "name": "stdout",
     "output_type": "stream",
     "text": [
      "[I 2025-04-18 12:16:52,917] Trial 2 finished with value: 1048.2789306640625 and parameters: {'n_layers': 14, 'dropout': 0.1338194791881152, 'learning_rate': 0.0002152113585411131, 'weight_decay': 7.618780912303598e-05, 'optimizer': 'adagrad', 'activation': 'relu'}. Best is trial 1 with value: 676.1420288085938.\n"
     ]
    },
    {
     "name": "stderr",
     "output_type": "stream",
     "text": [
      "GPU available: True (cuda), used: True\n",
      "TPU available: False, using: 0 TPU cores\n",
      "HPU available: False, using: 0 HPUs\n",
      "LOCAL_RANK: 0 - CUDA_VISIBLE_DEVICES: [0]\n",
      "\n",
      "  | Name           | Type                  | Params | Mode \n",
      "-----------------------------------------------------------------\n",
      "0 | auto_encoder   | CancerDataAutoEncoder | 2.0 M  | train\n",
      "1 | neural_network | SimpleNN              | 42.1 K | train\n",
      "2 | loss_metric    | MeanSquaredError      | 0      | train\n",
      "3 | val_metric     | MeanSquaredError      | 0      | train\n",
      "4 | test_metric    | MeanSquaredError      | 0      | train\n",
      "-----------------------------------------------------------------\n",
      "42.1 K    Trainable params\n",
      "2.0 M     Non-trainable params\n",
      "2.0 M     Total params\n",
      "8.179     Total estimated model params size (MB)\n",
      "50        Modules in train mode\n",
      "0         Modules in eval mode\n"
     ]
    },
    {
     "name": "stdout",
     "output_type": "stream",
     "text": [
      "[I 2025-04-18 12:17:43,909] Trial 3 finished with value: 1033.5028076171875 and parameters: {'n_layers': 6, 'dropout': 0.1705428239365238, 'learning_rate': 0.00014918222285909005, 'weight_decay': 0.0004090791519789148, 'optimizer': 'adagrad', 'activation': 'RReLU'}. Best is trial 1 with value: 676.1420288085938.\n"
     ]
    },
    {
     "name": "stderr",
     "output_type": "stream",
     "text": [
      "GPU available: True (cuda), used: True\n",
      "TPU available: False, using: 0 TPU cores\n",
      "HPU available: False, using: 0 HPUs\n",
      "LOCAL_RANK: 0 - CUDA_VISIBLE_DEVICES: [0]\n",
      "\n",
      "  | Name           | Type                  | Params | Mode \n",
      "-----------------------------------------------------------------\n",
      "0 | auto_encoder   | CancerDataAutoEncoder | 2.0 M  | train\n",
      "1 | neural_network | SimpleNN              | 2.7 M  | train\n",
      "2 | loss_metric    | MeanSquaredError      | 0      | train\n",
      "3 | val_metric     | MeanSquaredError      | 0      | train\n",
      "4 | test_metric    | MeanSquaredError      | 0      | train\n",
      "-----------------------------------------------------------------\n",
      "2.7 M     Trainable params\n",
      "2.0 M     Non-trainable params\n",
      "4.7 M     Total params\n",
      "18.632    Total estimated model params size (MB)\n",
      "74        Modules in train mode\n",
      "0         Modules in eval mode\n"
     ]
    },
    {
     "name": "stdout",
     "output_type": "stream",
     "text": [
      "[I 2025-04-18 12:18:38,675] Trial 4 finished with value: 682.2605590820312 and parameters: {'n_layers': 12, 'dropout': 0.3618756607868423, 'learning_rate': 0.000588907303362588, 'weight_decay': 0.0009700525473474125, 'optimizer': 'sgd', 'activation': 'RReLU'}. Best is trial 1 with value: 676.1420288085938.\n"
     ]
    },
    {
     "name": "stderr",
     "output_type": "stream",
     "text": [
      "GPU available: True (cuda), used: True\n",
      "TPU available: False, using: 0 TPU cores\n",
      "HPU available: False, using: 0 HPUs\n",
      "LOCAL_RANK: 0 - CUDA_VISIBLE_DEVICES: [0]\n",
      "\n",
      "  | Name           | Type                  | Params | Mode \n",
      "-----------------------------------------------------------------\n",
      "0 | auto_encoder   | CancerDataAutoEncoder | 2.0 M  | train\n",
      "1 | neural_network | SimpleNN              | 666 K  | train\n",
      "2 | loss_metric    | MeanSquaredError      | 0      | train\n",
      "3 | val_metric     | MeanSquaredError      | 0      | train\n",
      "4 | test_metric    | MeanSquaredError      | 0      | train\n",
      "-----------------------------------------------------------------\n",
      "666 K     Trainable params\n",
      "2.0 M     Non-trainable params\n",
      "2.7 M     Total params\n",
      "10.677    Total estimated model params size (MB)\n",
      "66        Modules in train mode\n",
      "0         Modules in eval mode\n"
     ]
    },
    {
     "name": "stdout",
     "output_type": "stream",
     "text": [
      "[I 2025-04-18 12:19:07,096] Trial 5 finished with value: 1034.70947265625 and parameters: {'n_layers': 10, 'dropout': 0.19047786417253887, 'learning_rate': 0.0005313916003828828, 'weight_decay': 0.0001619833691370118, 'optimizer': 'adagrad', 'activation': 'leaky_relu'}. Best is trial 1 with value: 676.1420288085938.\n"
     ]
    },
    {
     "name": "stderr",
     "output_type": "stream",
     "text": [
      "GPU available: True (cuda), used: True\n",
      "TPU available: False, using: 0 TPU cores\n",
      "HPU available: False, using: 0 HPUs\n",
      "LOCAL_RANK: 0 - CUDA_VISIBLE_DEVICES: [0]\n",
      "\n",
      "  | Name           | Type                  | Params | Mode \n",
      "-----------------------------------------------------------------\n",
      "0 | auto_encoder   | CancerDataAutoEncoder | 2.0 M  | train\n",
      "1 | neural_network | SimpleNN              | 666 K  | train\n",
      "2 | loss_metric    | MeanSquaredError      | 0      | train\n",
      "3 | val_metric     | MeanSquaredError      | 0      | train\n",
      "4 | test_metric    | MeanSquaredError      | 0      | train\n",
      "-----------------------------------------------------------------\n",
      "666 K     Trainable params\n",
      "2.0 M     Non-trainable params\n",
      "2.7 M     Total params\n",
      "10.678    Total estimated model params size (MB)\n",
      "70        Modules in train mode\n",
      "0         Modules in eval mode\n"
     ]
    },
    {
     "name": "stdout",
     "output_type": "stream",
     "text": [
      "[I 2025-04-18 12:21:29,143] Trial 6 finished with value: 717.631103515625 and parameters: {'n_layers': 11, 'dropout': 0.28564945170789036, 'learning_rate': 0.0023753500359332603, 'weight_decay': 0.00029473630167862287, 'optimizer': 'adam', 'activation': 'relu'}. Best is trial 1 with value: 676.1420288085938.\n"
     ]
    },
    {
     "name": "stderr",
     "output_type": "stream",
     "text": [
      "GPU available: True (cuda), used: True\n",
      "TPU available: False, using: 0 TPU cores\n",
      "HPU available: False, using: 0 HPUs\n",
      "LOCAL_RANK: 0 - CUDA_VISIBLE_DEVICES: [0]\n",
      "\n",
      "  | Name           | Type                  | Params | Mode \n",
      "-----------------------------------------------------------------\n",
      "0 | auto_encoder   | CancerDataAutoEncoder | 2.0 M  | train\n",
      "1 | neural_network | SimpleNN              | 10.6 M | train\n",
      "2 | loss_metric    | MeanSquaredError      | 0      | train\n",
      "3 | val_metric     | MeanSquaredError      | 0      | train\n",
      "4 | test_metric    | MeanSquaredError      | 0      | train\n",
      "-----------------------------------------------------------------\n",
      "10.6 M    Trainable params\n",
      "2.0 M     Non-trainable params\n",
      "12.6 M    Total params\n",
      "50.402    Total estimated model params size (MB)\n",
      "82        Modules in train mode\n",
      "0         Modules in eval mode\n"
     ]
    },
    {
     "name": "stdout",
     "output_type": "stream",
     "text": [
      "[I 2025-04-18 12:22:59,798] Trial 7 finished with value: 686.275390625 and parameters: {'n_layers': 14, 'dropout': 0.26484533779929215, 'learning_rate': 0.0007106705923566722, 'weight_decay': 2.1229525699875453e-05, 'optimizer': 'sgd', 'activation': 'RReLU'}. Best is trial 1 with value: 676.1420288085938.\n"
     ]
    },
    {
     "name": "stderr",
     "output_type": "stream",
     "text": [
      "GPU available: True (cuda), used: True\n",
      "TPU available: False, using: 0 TPU cores\n",
      "HPU available: False, using: 0 HPUs\n",
      "LOCAL_RANK: 0 - CUDA_VISIBLE_DEVICES: [0]\n",
      "\n",
      "  | Name           | Type                  | Params | Mode \n",
      "-----------------------------------------------------------------\n",
      "0 | auto_encoder   | CancerDataAutoEncoder | 2.0 M  | train\n",
      "1 | neural_network | SimpleNN              | 2.4 K  | train\n",
      "2 | loss_metric    | MeanSquaredError      | 0      | train\n",
      "3 | val_metric     | MeanSquaredError      | 0      | train\n",
      "4 | test_metric    | MeanSquaredError      | 0      | train\n",
      "-----------------------------------------------------------------\n",
      "2.4 K     Trainable params\n",
      "2.0 M     Non-trainable params\n",
      "2.0 M     Total params\n",
      "8.021     Total estimated model params size (MB)\n",
      "38        Modules in train mode\n",
      "0         Modules in eval mode\n"
     ]
    },
    {
     "name": "stdout",
     "output_type": "stream",
     "text": [
      "[I 2025-04-18 12:27:01,553] Trial 8 finished with value: 748.3578491210938 and parameters: {'n_layers': 3, 'dropout': 0.046384394495612935, 'learning_rate': 0.000808848252642974, 'weight_decay': 0.00031338681341836345, 'optimizer': 'adam', 'activation': 'tanh'}. Best is trial 1 with value: 676.1420288085938.\n"
     ]
    },
    {
     "name": "stderr",
     "output_type": "stream",
     "text": [
      "GPU available: True (cuda), used: True\n",
      "TPU available: False, using: 0 TPU cores\n",
      "HPU available: False, using: 0 HPUs\n",
      "LOCAL_RANK: 0 - CUDA_VISIBLE_DEVICES: [0]\n",
      "\n",
      "  | Name           | Type                  | Params | Mode \n",
      "-----------------------------------------------------------------\n",
      "0 | auto_encoder   | CancerDataAutoEncoder | 2.0 M  | train\n",
      "1 | neural_network | SimpleNN              | 10.6 K | train\n",
      "2 | loss_metric    | MeanSquaredError      | 0      | train\n",
      "3 | val_metric     | MeanSquaredError      | 0      | train\n",
      "4 | test_metric    | MeanSquaredError      | 0      | train\n",
      "-----------------------------------------------------------------\n",
      "10.6 K    Trainable params\n",
      "2.0 M     Non-trainable params\n",
      "2.0 M     Total params\n",
      "8.053     Total estimated model params size (MB)\n",
      "46        Modules in train mode\n",
      "0         Modules in eval mode\n"
     ]
    },
    {
     "name": "stdout",
     "output_type": "stream",
     "text": [
      "[I 2025-04-18 12:27:42,610] Trial 9 finished with value: 784.19775390625 and parameters: {'n_layers': 5, 'dropout': 0.03864060750413423, 'learning_rate': 0.0006635094707669844, 'weight_decay': 2.9021273536651932e-05, 'optimizer': 'sgd', 'activation': 'RReLU'}. Best is trial 1 with value: 676.1420288085938.\n"
     ]
    },
    {
     "name": "stderr",
     "output_type": "stream",
     "text": [
      "GPU available: True (cuda), used: True\n",
      "TPU available: False, using: 0 TPU cores\n",
      "HPU available: False, using: 0 HPUs\n",
      "LOCAL_RANK: 0 - CUDA_VISIBLE_DEVICES: [0]\n",
      "\n",
      "  | Name           | Type                  | Params | Mode \n",
      "-----------------------------------------------------------------\n",
      "0 | auto_encoder   | CancerDataAutoEncoder | 2.0 M  | train\n",
      "1 | neural_network | SimpleNN              | 167 K  | train\n",
      "2 | loss_metric    | MeanSquaredError      | 0      | train\n",
      "3 | val_metric     | MeanSquaredError      | 0      | train\n",
      "4 | test_metric    | MeanSquaredError      | 0      | train\n",
      "-----------------------------------------------------------------\n",
      "167 K     Trainable params\n",
      "2.0 M     Non-trainable params\n",
      "2.2 M     Total params\n",
      "8.681     Total estimated model params size (MB)\n",
      "58        Modules in train mode\n",
      "0         Modules in eval mode\n"
     ]
    },
    {
     "name": "stdout",
     "output_type": "stream",
     "text": [
      "[I 2025-04-18 12:27:57,259] Trial 10 finished with value: 1034.12353515625 and parameters: {'n_layers': 8, 'dropout': 0.47404634079791036, 'learning_rate': 1.220856885341842e-05, 'weight_decay': 0.009320344787145725, 'optimizer': 'adam', 'activation': 'tanh'}. Best is trial 1 with value: 676.1420288085938.\n"
     ]
    },
    {
     "name": "stderr",
     "output_type": "stream",
     "text": [
      "GPU available: True (cuda), used: True\n",
      "TPU available: False, using: 0 TPU cores\n",
      "HPU available: False, using: 0 HPUs\n",
      "LOCAL_RANK: 0 - CUDA_VISIBLE_DEVICES: [0]\n",
      "\n",
      "  | Name           | Type                  | Params | Mode \n",
      "-----------------------------------------------------------------\n",
      "0 | auto_encoder   | CancerDataAutoEncoder | 2.0 M  | train\n",
      "1 | neural_network | SimpleNN              | 2.7 M  | train\n",
      "2 | loss_metric    | MeanSquaredError      | 0      | train\n",
      "3 | val_metric     | MeanSquaredError      | 0      | train\n",
      "4 | test_metric    | MeanSquaredError      | 0      | train\n",
      "-----------------------------------------------------------------\n",
      "2.7 M     Trainable params\n",
      "2.0 M     Non-trainable params\n",
      "4.7 M     Total params\n",
      "18.632    Total estimated model params size (MB)\n",
      "74        Modules in train mode\n",
      "0         Modules in eval mode\n"
     ]
    },
    {
     "name": "stdout",
     "output_type": "stream",
     "text": [
      "[I 2025-04-18 12:28:24,439] Trial 11 finished with value: 703.6730346679688 and parameters: {'n_layers': 12, 'dropout': 0.4093117997707871, 'learning_rate': 0.009822701206126059, 'weight_decay': 0.002506846527674664, 'optimizer': 'sgd', 'activation': 'RReLU'}. Best is trial 1 with value: 676.1420288085938.\n"
     ]
    },
    {
     "name": "stderr",
     "output_type": "stream",
     "text": [
      "GPU available: True (cuda), used: True\n",
      "TPU available: False, using: 0 TPU cores\n",
      "HPU available: False, using: 0 HPUs\n",
      "LOCAL_RANK: 0 - CUDA_VISIBLE_DEVICES: [0]\n",
      "\n",
      "  | Name           | Type                  | Params | Mode \n",
      "-----------------------------------------------------------------\n",
      "0 | auto_encoder   | CancerDataAutoEncoder | 2.0 M  | train\n",
      "1 | neural_network | SimpleNN              | 2.7 M  | train\n",
      "2 | loss_metric    | MeanSquaredError      | 0      | train\n",
      "3 | val_metric     | MeanSquaredError      | 0      | train\n",
      "4 | test_metric    | MeanSquaredError      | 0      | train\n",
      "-----------------------------------------------------------------\n",
      "2.7 M     Trainable params\n",
      "2.0 M     Non-trainable params\n",
      "4.7 M     Total params\n",
      "18.632    Total estimated model params size (MB)\n",
      "74        Modules in train mode\n",
      "0         Modules in eval mode\n"
     ]
    },
    {
     "name": "stdout",
     "output_type": "stream",
     "text": [
      "[I 2025-04-18 12:29:02,628] Trial 12 finished with value: 1017.3145751953124 and parameters: {'n_layers': 12, 'dropout': 0.36524036691135076, 'learning_rate': 7.021496079028655e-05, 'weight_decay': 0.0015178551507046556, 'optimizer': 'adam', 'activation': 'leaky_relu'}. Best is trial 1 with value: 676.1420288085938.\n"
     ]
    },
    {
     "name": "stderr",
     "output_type": "stream",
     "text": [
      "GPU available: True (cuda), used: True\n",
      "TPU available: False, using: 0 TPU cores\n",
      "HPU available: False, using: 0 HPUs\n",
      "LOCAL_RANK: 0 - CUDA_VISIBLE_DEVICES: [0]\n",
      "\n",
      "  | Name           | Type                  | Params | Mode \n",
      "-----------------------------------------------------------------\n",
      "0 | auto_encoder   | CancerDataAutoEncoder | 2.0 M  | train\n",
      "1 | neural_network | SimpleNN              | 2.7 M  | train\n",
      "2 | loss_metric    | MeanSquaredError      | 0      | train\n",
      "3 | val_metric     | MeanSquaredError      | 0      | train\n",
      "4 | test_metric    | MeanSquaredError      | 0      | train\n",
      "-----------------------------------------------------------------\n",
      "2.7 M     Trainable params\n",
      "2.0 M     Non-trainable params\n",
      "4.7 M     Total params\n",
      "18.633    Total estimated model params size (MB)\n",
      "78        Modules in train mode\n",
      "0         Modules in eval mode\n"
     ]
    },
    {
     "name": "stdout",
     "output_type": "stream",
     "text": [
      "[I 2025-04-18 12:29:42,677] Trial 13 finished with value: 759.424072265625 and parameters: {'n_layers': 13, 'dropout': 0.3728564537745268, 'learning_rate': 0.008072196612517816, 'weight_decay': 0.0015846253947912252, 'optimizer': 'sgd', 'activation': 'RReLU'}. Best is trial 1 with value: 676.1420288085938.\n"
     ]
    },
    {
     "name": "stderr",
     "output_type": "stream",
     "text": [
      "GPU available: True (cuda), used: True\n",
      "TPU available: False, using: 0 TPU cores\n",
      "HPU available: False, using: 0 HPUs\n",
      "LOCAL_RANK: 0 - CUDA_VISIBLE_DEVICES: [0]\n",
      "\n",
      "  | Name           | Type                  | Params | Mode \n",
      "-----------------------------------------------------------------\n",
      "0 | auto_encoder   | CancerDataAutoEncoder | 2.0 M  | train\n",
      "1 | neural_network | SimpleNN              | 167 K  | train\n",
      "2 | loss_metric    | MeanSquaredError      | 0      | train\n",
      "3 | val_metric     | MeanSquaredError      | 0      | train\n",
      "4 | test_metric    | MeanSquaredError      | 0      | train\n",
      "-----------------------------------------------------------------\n",
      "167 K     Trainable params\n",
      "2.0 M     Non-trainable params\n",
      "2.2 M     Total params\n",
      "8.682     Total estimated model params size (MB)\n",
      "62        Modules in train mode\n",
      "0         Modules in eval mode\n"
     ]
    },
    {
     "name": "stdout",
     "output_type": "stream",
     "text": [
      "[I 2025-04-18 12:30:27,774] Trial 14 finished with value: 675.7716674804688 and parameters: {'n_layers': 9, 'dropout': 0.3270951531238503, 'learning_rate': 0.0031777340684198464, 'weight_decay': 0.006089110189217094, 'optimizer': 'sgd', 'activation': 'RReLU'}. Best is trial 14 with value: 675.7716674804688.\n"
     ]
    },
    {
     "name": "stderr",
     "output_type": "stream",
     "text": [
      "GPU available: True (cuda), used: True\n",
      "TPU available: False, using: 0 TPU cores\n",
      "HPU available: False, using: 0 HPUs\n",
      "LOCAL_RANK: 0 - CUDA_VISIBLE_DEVICES: [0]\n",
      "\n",
      "  | Name           | Type                  | Params | Mode \n",
      "-----------------------------------------------------------------\n",
      "0 | auto_encoder   | CancerDataAutoEncoder | 2.0 M  | train\n",
      "1 | neural_network | SimpleNN              | 167 K  | train\n",
      "2 | loss_metric    | MeanSquaredError      | 0      | train\n",
      "3 | val_metric     | MeanSquaredError      | 0      | train\n",
      "4 | test_metric    | MeanSquaredError      | 0      | train\n",
      "-----------------------------------------------------------------\n",
      "167 K     Trainable params\n",
      "2.0 M     Non-trainable params\n",
      "2.2 M     Total params\n",
      "8.681     Total estimated model params size (MB)\n",
      "58        Modules in train mode\n",
      "0         Modules in eval mode\n"
     ]
    },
    {
     "name": "stdout",
     "output_type": "stream",
     "text": [
      "[I 2025-04-18 12:31:56,877] Trial 15 finished with value: 738.2905883789062 and parameters: {'n_layers': 8, 'dropout': 0.21708823055489065, 'learning_rate': 0.0029369463501034373, 'weight_decay': 0.009170280601648494, 'optimizer': 'adam', 'activation': 'RReLU'}. Best is trial 14 with value: 675.7716674804688.\n"
     ]
    },
    {
     "name": "stderr",
     "output_type": "stream",
     "text": [
      "GPU available: True (cuda), used: True\n",
      "TPU available: False, using: 0 TPU cores\n",
      "HPU available: False, using: 0 HPUs\n",
      "LOCAL_RANK: 0 - CUDA_VISIBLE_DEVICES: [0]\n",
      "\n",
      "  | Name           | Type                  | Params | Mode \n",
      "-----------------------------------------------------------------\n",
      "0 | auto_encoder   | CancerDataAutoEncoder | 2.0 M  | train\n",
      "1 | neural_network | SimpleNN              | 167 K  | train\n",
      "2 | loss_metric    | MeanSquaredError      | 0      | train\n",
      "3 | val_metric     | MeanSquaredError      | 0      | train\n",
      "4 | test_metric    | MeanSquaredError      | 0      | train\n",
      "-----------------------------------------------------------------\n",
      "167 K     Trainable params\n",
      "2.0 M     Non-trainable params\n",
      "2.2 M     Total params\n",
      "8.682     Total estimated model params size (MB)\n",
      "62        Modules in train mode\n",
      "0         Modules in eval mode\n"
     ]
    },
    {
     "name": "stdout",
     "output_type": "stream",
     "text": [
      "[I 2025-04-18 12:34:15,356] Trial 16 finished with value: 670.7393188476562 and parameters: {'n_layers': 9, 'dropout': 0.4869834606363541, 'learning_rate': 0.004327406308432803, 'weight_decay': 0.004273829132058633, 'optimizer': 'adam', 'activation': 'tanh'}. Best is trial 16 with value: 670.7393188476562.\n"
     ]
    },
    {
     "name": "stderr",
     "output_type": "stream",
     "text": [
      "GPU available: True (cuda), used: True\n",
      "TPU available: False, using: 0 TPU cores\n",
      "HPU available: False, using: 0 HPUs\n",
      "LOCAL_RANK: 0 - CUDA_VISIBLE_DEVICES: [0]\n",
      "\n",
      "  | Name           | Type                  | Params | Mode \n",
      "-----------------------------------------------------------------\n",
      "0 | auto_encoder   | CancerDataAutoEncoder | 2.0 M  | train\n",
      "1 | neural_network | SimpleNN              | 167 K  | train\n",
      "2 | loss_metric    | MeanSquaredError      | 0      | train\n",
      "3 | val_metric     | MeanSquaredError      | 0      | train\n",
      "4 | test_metric    | MeanSquaredError      | 0      | train\n",
      "-----------------------------------------------------------------\n",
      "167 K     Trainable params\n",
      "2.0 M     Non-trainable params\n",
      "2.2 M     Total params\n",
      "8.682     Total estimated model params size (MB)\n",
      "62        Modules in train mode\n",
      "0         Modules in eval mode\n"
     ]
    },
    {
     "name": "stdout",
     "output_type": "stream",
     "text": [
      "[I 2025-04-18 12:35:00,396] Trial 17 finished with value: 680.0958251953125 and parameters: {'n_layers': 9, 'dropout': 0.4705482189571629, 'learning_rate': 0.004011069877900493, 'weight_decay': 0.003967611691973034, 'optimizer': 'sgd', 'activation': 'tanh'}. Best is trial 16 with value: 670.7393188476562.\n"
     ]
    },
    {
     "name": "stderr",
     "output_type": "stream",
     "text": [
      "GPU available: True (cuda), used: True\n",
      "TPU available: False, using: 0 TPU cores\n",
      "HPU available: False, using: 0 HPUs\n",
      "LOCAL_RANK: 0 - CUDA_VISIBLE_DEVICES: [0]\n",
      "\n",
      "  | Name           | Type                  | Params | Mode \n",
      "-----------------------------------------------------------------\n",
      "0 | auto_encoder   | CancerDataAutoEncoder | 2.0 M  | train\n",
      "1 | neural_network | SimpleNN              | 42.1 K | train\n",
      "2 | loss_metric    | MeanSquaredError      | 0      | train\n",
      "3 | val_metric     | MeanSquaredError      | 0      | train\n",
      "4 | test_metric    | MeanSquaredError      | 0      | train\n",
      "-----------------------------------------------------------------\n",
      "42.1 K    Trainable params\n",
      "2.0 M     Non-trainable params\n",
      "2.0 M     Total params\n",
      "8.179     Total estimated model params size (MB)\n",
      "50        Modules in train mode\n",
      "0         Modules in eval mode\n"
     ]
    },
    {
     "name": "stdout",
     "output_type": "stream",
     "text": [
      "[I 2025-04-18 12:37:27,431] Trial 18 finished with value: 677.2786865234375 and parameters: {'n_layers': 6, 'dropout': 0.42569809432562533, 'learning_rate': 0.0014818109083691974, 'weight_decay': 0.0007371869672996082, 'optimizer': 'adam', 'activation': 'tanh'}. Best is trial 16 with value: 670.7393188476562.\n"
     ]
    },
    {
     "name": "stderr",
     "output_type": "stream",
     "text": [
      "GPU available: True (cuda), used: True\n",
      "TPU available: False, using: 0 TPU cores\n",
      "HPU available: False, using: 0 HPUs\n",
      "LOCAL_RANK: 0 - CUDA_VISIBLE_DEVICES: [0]\n",
      "\n",
      "  | Name           | Type                  | Params | Mode \n",
      "-----------------------------------------------------------------\n",
      "0 | auto_encoder   | CancerDataAutoEncoder | 2.0 M  | train\n",
      "1 | neural_network | SimpleNN              | 167 K  | train\n",
      "2 | loss_metric    | MeanSquaredError      | 0      | train\n",
      "3 | val_metric     | MeanSquaredError      | 0      | train\n",
      "4 | test_metric    | MeanSquaredError      | 0      | train\n",
      "-----------------------------------------------------------------\n",
      "167 K     Trainable params\n",
      "2.0 M     Non-trainable params\n",
      "2.2 M     Total params\n",
      "8.681     Total estimated model params size (MB)\n",
      "58        Modules in train mode\n",
      "0         Modules in eval mode\n"
     ]
    },
    {
     "name": "stdout",
     "output_type": "stream",
     "text": [
      "[I 2025-04-18 12:40:54,151] Trial 19 finished with value: 934.0087280273438 and parameters: {'n_layers': 8, 'dropout': 0.4942998338434728, 'learning_rate': 4.884384687352988e-05, 'weight_decay': 0.0052649496351588835, 'optimizer': 'sgd', 'activation': 'tanh'}. Best is trial 16 with value: 670.7393188476562.\n"
     ]
    },
    {
     "name": "stderr",
     "output_type": "stream",
     "text": [
      "GPU available: True (cuda), used: True\n",
      "TPU available: False, using: 0 TPU cores\n",
      "HPU available: False, using: 0 HPUs\n",
      "LOCAL_RANK: 0 - CUDA_VISIBLE_DEVICES: [0]\n",
      "\n",
      "  | Name           | Type                  | Params | Mode \n",
      "-----------------------------------------------------------------\n",
      "0 | auto_encoder   | CancerDataAutoEncoder | 2.0 M  | train\n",
      "1 | neural_network | SimpleNN              | 666 K  | train\n",
      "2 | loss_metric    | MeanSquaredError      | 0      | train\n",
      "3 | val_metric     | MeanSquaredError      | 0      | train\n",
      "4 | test_metric    | MeanSquaredError      | 0      | train\n",
      "-----------------------------------------------------------------\n",
      "666 K     Trainable params\n",
      "2.0 M     Non-trainable params\n",
      "2.7 M     Total params\n",
      "10.677    Total estimated model params size (MB)\n",
      "66        Modules in train mode\n",
      "0         Modules in eval mode\n"
     ]
    },
    {
     "name": "stdout",
     "output_type": "stream",
     "text": [
      "[I 2025-04-18 12:41:11,934] Trial 20 finished with value: 675.0477294921875 and parameters: {'n_layers': 10, 'dropout': 0.337852291843301, 'learning_rate': 0.004655434809748981, 'weight_decay': 0.004852531283214051, 'optimizer': 'sgd', 'activation': 'leaky_relu'}. Best is trial 16 with value: 670.7393188476562.\n"
     ]
    },
    {
     "name": "stderr",
     "output_type": "stream",
     "text": [
      "GPU available: True (cuda), used: True\n",
      "TPU available: False, using: 0 TPU cores\n",
      "HPU available: False, using: 0 HPUs\n",
      "LOCAL_RANK: 0 - CUDA_VISIBLE_DEVICES: [0]\n",
      "\n",
      "  | Name           | Type                  | Params | Mode \n",
      "-----------------------------------------------------------------\n",
      "0 | auto_encoder   | CancerDataAutoEncoder | 2.0 M  | train\n",
      "1 | neural_network | SimpleNN              | 666 K  | train\n",
      "2 | loss_metric    | MeanSquaredError      | 0      | train\n",
      "3 | val_metric     | MeanSquaredError      | 0      | train\n",
      "4 | test_metric    | MeanSquaredError      | 0      | train\n",
      "-----------------------------------------------------------------\n",
      "666 K     Trainable params\n",
      "2.0 M     Non-trainable params\n",
      "2.7 M     Total params\n",
      "10.677    Total estimated model params size (MB)\n",
      "66        Modules in train mode\n",
      "0         Modules in eval mode\n"
     ]
    },
    {
     "name": "stdout",
     "output_type": "stream",
     "text": [
      "[I 2025-04-18 12:41:27,335] Trial 21 finished with value: 674.8873901367188 and parameters: {'n_layers': 10, 'dropout': 0.33140093782632685, 'learning_rate': 0.0047474821942203, 'weight_decay': 0.005842135714806633, 'optimizer': 'sgd', 'activation': 'leaky_relu'}. Best is trial 16 with value: 670.7393188476562.\n"
     ]
    },
    {
     "name": "stderr",
     "output_type": "stream",
     "text": [
      "GPU available: True (cuda), used: True\n",
      "TPU available: False, using: 0 TPU cores\n",
      "HPU available: False, using: 0 HPUs\n",
      "LOCAL_RANK: 0 - CUDA_VISIBLE_DEVICES: [0]\n",
      "\n",
      "  | Name           | Type                  | Params | Mode \n",
      "-----------------------------------------------------------------\n",
      "0 | auto_encoder   | CancerDataAutoEncoder | 2.0 M  | train\n",
      "1 | neural_network | SimpleNN              | 666 K  | train\n",
      "2 | loss_metric    | MeanSquaredError      | 0      | train\n",
      "3 | val_metric     | MeanSquaredError      | 0      | train\n",
      "4 | test_metric    | MeanSquaredError      | 0      | train\n",
      "-----------------------------------------------------------------\n",
      "666 K     Trainable params\n",
      "2.0 M     Non-trainable params\n",
      "2.7 M     Total params\n",
      "10.677    Total estimated model params size (MB)\n",
      "66        Modules in train mode\n",
      "0         Modules in eval mode\n"
     ]
    },
    {
     "name": "stdout",
     "output_type": "stream",
     "text": [
      "[I 2025-04-18 12:41:38,575] Trial 22 finished with value: 668.00732421875 and parameters: {'n_layers': 10, 'dropout': 0.42985259991126834, 'learning_rate': 0.00529794397283538, 'weight_decay': 0.002124756686925194, 'optimizer': 'sgd', 'activation': 'leaky_relu'}. Best is trial 22 with value: 668.00732421875.\n"
     ]
    },
    {
     "name": "stderr",
     "output_type": "stream",
     "text": [
      "GPU available: True (cuda), used: True\n",
      "TPU available: False, using: 0 TPU cores\n",
      "HPU available: False, using: 0 HPUs\n",
      "LOCAL_RANK: 0 - CUDA_VISIBLE_DEVICES: [0]\n",
      "\n",
      "  | Name           | Type                  | Params | Mode \n",
      "-----------------------------------------------------------------\n",
      "0 | auto_encoder   | CancerDataAutoEncoder | 2.0 M  | train\n",
      "1 | neural_network | SimpleNN              | 666 K  | train\n",
      "2 | loss_metric    | MeanSquaredError      | 0      | train\n",
      "3 | val_metric     | MeanSquaredError      | 0      | train\n",
      "4 | test_metric    | MeanSquaredError      | 0      | train\n",
      "-----------------------------------------------------------------\n",
      "666 K     Trainable params\n",
      "2.0 M     Non-trainable params\n",
      "2.7 M     Total params\n",
      "10.677    Total estimated model params size (MB)\n",
      "66        Modules in train mode\n",
      "0         Modules in eval mode\n"
     ]
    },
    {
     "name": "stdout",
     "output_type": "stream",
     "text": [
      "[I 2025-04-18 12:41:57,029] Trial 23 finished with value: 671.4339599609375 and parameters: {'n_layers': 10, 'dropout': 0.42824420835500004, 'learning_rate': 0.0013880221721344062, 'weight_decay': 0.002044542820362517, 'optimizer': 'sgd', 'activation': 'leaky_relu'}. Best is trial 22 with value: 668.00732421875.\n"
     ]
    },
    {
     "name": "stderr",
     "output_type": "stream",
     "text": [
      "GPU available: True (cuda), used: True\n",
      "TPU available: False, using: 0 TPU cores\n",
      "HPU available: False, using: 0 HPUs\n",
      "LOCAL_RANK: 0 - CUDA_VISIBLE_DEVICES: [0]\n",
      "\n",
      "  | Name           | Type                  | Params | Mode \n",
      "-----------------------------------------------------------------\n",
      "0 | auto_encoder   | CancerDataAutoEncoder | 2.0 M  | train\n",
      "1 | neural_network | SimpleNN              | 42.3 K | train\n",
      "2 | loss_metric    | MeanSquaredError      | 0      | train\n",
      "3 | val_metric     | MeanSquaredError      | 0      | train\n",
      "4 | test_metric    | MeanSquaredError      | 0      | train\n",
      "-----------------------------------------------------------------\n",
      "42.3 K    Trainable params\n",
      "2.0 M     Non-trainable params\n",
      "2.0 M     Total params\n",
      "8.180     Total estimated model params size (MB)\n",
      "54        Modules in train mode\n",
      "0         Modules in eval mode\n"
     ]
    },
    {
     "name": "stdout",
     "output_type": "stream",
     "text": [
      "[I 2025-04-18 12:42:28,294] Trial 24 finished with value: 674.464111328125 and parameters: {'n_layers': 7, 'dropout': 0.43442293389294645, 'learning_rate': 0.0012788651456202879, 'weight_decay': 0.0017738693632393218, 'optimizer': 'sgd', 'activation': 'leaky_relu'}. Best is trial 22 with value: 668.00732421875.\n"
     ]
    },
    {
     "name": "stderr",
     "output_type": "stream",
     "text": [
      "GPU available: True (cuda), used: True\n",
      "TPU available: False, using: 0 TPU cores\n",
      "HPU available: False, using: 0 HPUs\n",
      "LOCAL_RANK: 0 - CUDA_VISIBLE_DEVICES: [0]\n",
      "\n",
      "  | Name           | Type                  | Params | Mode \n",
      "-----------------------------------------------------------------\n",
      "0 | auto_encoder   | CancerDataAutoEncoder | 2.0 M  | train\n",
      "1 | neural_network | SimpleNN              | 666 K  | train\n",
      "2 | loss_metric    | MeanSquaredError      | 0      | train\n",
      "3 | val_metric     | MeanSquaredError      | 0      | train\n",
      "4 | test_metric    | MeanSquaredError      | 0      | train\n",
      "-----------------------------------------------------------------\n",
      "666 K     Trainable params\n",
      "2.0 M     Non-trainable params\n",
      "2.7 M     Total params\n",
      "10.678    Total estimated model params size (MB)\n",
      "70        Modules in train mode\n",
      "0         Modules in eval mode\n"
     ]
    },
    {
     "name": "stdout",
     "output_type": "stream",
     "text": [
      "[I 2025-04-18 12:44:39,252] Trial 25 finished with value: 692.341796875 and parameters: {'n_layers': 11, 'dropout': 0.4435270388102512, 'learning_rate': 0.0013297957633657375, 'weight_decay': 0.0007214717845782331, 'optimizer': 'adam', 'activation': 'leaky_relu'}. Best is trial 22 with value: 668.00732421875.\n"
     ]
    },
    {
     "name": "stderr",
     "output_type": "stream",
     "text": [
      "GPU available: True (cuda), used: True\n",
      "TPU available: False, using: 0 TPU cores\n",
      "HPU available: False, using: 0 HPUs\n",
      "LOCAL_RANK: 0 - CUDA_VISIBLE_DEVICES: [0]\n",
      "\n",
      "  | Name           | Type                  | Params | Mode \n",
      "-----------------------------------------------------------------\n",
      "0 | auto_encoder   | CancerDataAutoEncoder | 2.0 M  | train\n",
      "1 | neural_network | SimpleNN              | 666 K  | train\n",
      "2 | loss_metric    | MeanSquaredError      | 0      | train\n",
      "3 | val_metric     | MeanSquaredError      | 0      | train\n",
      "4 | test_metric    | MeanSquaredError      | 0      | train\n",
      "-----------------------------------------------------------------\n",
      "666 K     Trainable params\n",
      "2.0 M     Non-trainable params\n",
      "2.7 M     Total params\n",
      "10.678    Total estimated model params size (MB)\n",
      "70        Modules in train mode\n",
      "0         Modules in eval mode\n"
     ]
    },
    {
     "name": "stdout",
     "output_type": "stream",
     "text": [
      "[I 2025-04-18 12:45:23,394] Trial 26 finished with value: 675.1730346679688 and parameters: {'n_layers': 11, 'dropout': 0.39862584526598344, 'learning_rate': 0.00032512598836685543, 'weight_decay': 0.0011265244818768087, 'optimizer': 'sgd', 'activation': 'leaky_relu'}. Best is trial 22 with value: 668.00732421875.\n"
     ]
    },
    {
     "name": "stderr",
     "output_type": "stream",
     "text": [
      "GPU available: True (cuda), used: True\n",
      "TPU available: False, using: 0 TPU cores\n",
      "HPU available: False, using: 0 HPUs\n",
      "LOCAL_RANK: 0 - CUDA_VISIBLE_DEVICES: [0]\n",
      "\n",
      "  | Name           | Type                  | Params | Mode \n",
      "-----------------------------------------------------------------\n",
      "0 | auto_encoder   | CancerDataAutoEncoder | 2.0 M  | train\n",
      "1 | neural_network | SimpleNN              | 167 K  | train\n",
      "2 | loss_metric    | MeanSquaredError      | 0      | train\n",
      "3 | val_metric     | MeanSquaredError      | 0      | train\n",
      "4 | test_metric    | MeanSquaredError      | 0      | train\n",
      "-----------------------------------------------------------------\n",
      "167 K     Trainable params\n",
      "2.0 M     Non-trainable params\n",
      "2.2 M     Total params\n",
      "8.682     Total estimated model params size (MB)\n",
      "62        Modules in train mode\n",
      "0         Modules in eval mode\n"
     ]
    },
    {
     "name": "stdout",
     "output_type": "stream",
     "text": [
      "[I 2025-04-18 12:45:44,407] Trial 27 finished with value: 701.2000122070312 and parameters: {'n_layers': 9, 'dropout': 0.49560818102650495, 'learning_rate': 0.00590596726089035, 'weight_decay': 0.0026887076398190413, 'optimizer': 'sgd', 'activation': 'leaky_relu'}. Best is trial 22 with value: 668.00732421875.\n"
     ]
    },
    {
     "name": "stderr",
     "output_type": "stream",
     "text": [
      "GPU available: True (cuda), used: True\n",
      "TPU available: False, using: 0 TPU cores\n",
      "HPU available: False, using: 0 HPUs\n",
      "LOCAL_RANK: 0 - CUDA_VISIBLE_DEVICES: [0]\n",
      "\n",
      "  | Name           | Type                  | Params | Mode \n",
      "-----------------------------------------------------------------\n",
      "0 | auto_encoder   | CancerDataAutoEncoder | 2.0 M  | train\n",
      "1 | neural_network | SimpleNN              | 42.3 K | train\n",
      "2 | loss_metric    | MeanSquaredError      | 0      | train\n",
      "3 | val_metric     | MeanSquaredError      | 0      | train\n",
      "4 | test_metric    | MeanSquaredError      | 0      | train\n",
      "-----------------------------------------------------------------\n",
      "42.3 K    Trainable params\n",
      "2.0 M     Non-trainable params\n",
      "2.0 M     Total params\n",
      "8.180     Total estimated model params size (MB)\n",
      "54        Modules in train mode\n",
      "0         Modules in eval mode\n"
     ]
    },
    {
     "name": "stdout",
     "output_type": "stream",
     "text": [
      "[I 2025-04-18 12:47:08,567] Trial 28 finished with value: 705.6688232421875 and parameters: {'n_layers': 7, 'dropout': 0.4563407400100617, 'learning_rate': 0.002084468251549514, 'weight_decay': 9.343717230124561e-05, 'optimizer': 'adam', 'activation': 'relu'}. Best is trial 22 with value: 668.00732421875.\n"
     ]
    },
    {
     "name": "stderr",
     "output_type": "stream",
     "text": [
      "GPU available: True (cuda), used: True\n",
      "TPU available: False, using: 0 TPU cores\n",
      "HPU available: False, using: 0 HPUs\n",
      "LOCAL_RANK: 0 - CUDA_VISIBLE_DEVICES: [0]\n",
      "\n",
      "  | Name           | Type                  | Params | Mode \n",
      "-----------------------------------------------------------------\n",
      "0 | auto_encoder   | CancerDataAutoEncoder | 2.0 M  | train\n",
      "1 | neural_network | SimpleNN              | 10.3 K | train\n",
      "2 | loss_metric    | MeanSquaredError      | 0      | train\n",
      "3 | val_metric     | MeanSquaredError      | 0      | train\n",
      "4 | test_metric    | MeanSquaredError      | 0      | train\n",
      "-----------------------------------------------------------------\n",
      "10.3 K    Trainable params\n",
      "2.0 M     Non-trainable params\n",
      "2.0 M     Total params\n",
      "8.052     Total estimated model params size (MB)\n",
      "42        Modules in train mode\n",
      "0         Modules in eval mode\n"
     ]
    },
    {
     "name": "stdout",
     "output_type": "stream",
     "text": [
      "[I 2025-04-18 12:48:23,587] Trial 29 finished with value: 1020.8004760742188 and parameters: {'n_layers': 4, 'dropout': 0.397307270878627, 'learning_rate': 0.002015690442933749, 'weight_decay': 0.0004566305514562686, 'optimizer': 'adagrad', 'activation': 'tanh'}. Best is trial 22 with value: 668.00732421875.\n"
     ]
    },
    {
     "name": "stderr",
     "output_type": "stream",
     "text": [
      "GPU available: True (cuda), used: True\n",
      "TPU available: False, using: 0 TPU cores\n",
      "HPU available: False, using: 0 HPUs\n",
      "LOCAL_RANK: 0 - CUDA_VISIBLE_DEVICES: [0]\n",
      "\n",
      "  | Name           | Type                  | Params | Mode \n",
      "-----------------------------------------------------------------\n",
      "0 | auto_encoder   | CancerDataAutoEncoder | 2.0 M  | train\n",
      "1 | neural_network | SimpleNN              | 666 K  | train\n",
      "2 | loss_metric    | MeanSquaredError      | 0      | train\n",
      "3 | val_metric     | MeanSquaredError      | 0      | train\n",
      "4 | test_metric    | MeanSquaredError      | 0      | train\n",
      "-----------------------------------------------------------------\n",
      "666 K     Trainable params\n",
      "2.0 M     Non-trainable params\n",
      "2.7 M     Total params\n",
      "10.677    Total estimated model params size (MB)\n",
      "66        Modules in train mode\n",
      "0         Modules in eval mode\n"
     ]
    },
    {
     "name": "stdout",
     "output_type": "stream",
     "text": [
      "[I 2025-04-18 12:49:21,666] Trial 30 finished with value: 1024.8494873046875 and parameters: {'n_layers': 10, 'dropout': 0.4553828157544119, 'learning_rate': 0.001056970751860747, 'weight_decay': 0.0023363210259838957, 'optimizer': 'adagrad', 'activation': 'leaky_relu'}. Best is trial 22 with value: 668.00732421875.\n"
     ]
    },
    {
     "name": "stderr",
     "output_type": "stream",
     "text": [
      "GPU available: True (cuda), used: True\n",
      "TPU available: False, using: 0 TPU cores\n",
      "HPU available: False, using: 0 HPUs\n",
      "LOCAL_RANK: 0 - CUDA_VISIBLE_DEVICES: [0]\n",
      "\n",
      "  | Name           | Type                  | Params | Mode \n",
      "-----------------------------------------------------------------\n",
      "0 | auto_encoder   | CancerDataAutoEncoder | 2.0 M  | train\n",
      "1 | neural_network | SimpleNN              | 42.3 K | train\n",
      "2 | loss_metric    | MeanSquaredError      | 0      | train\n",
      "3 | val_metric     | MeanSquaredError      | 0      | train\n",
      "4 | test_metric    | MeanSquaredError      | 0      | train\n",
      "-----------------------------------------------------------------\n",
      "42.3 K    Trainable params\n",
      "2.0 M     Non-trainable params\n",
      "2.0 M     Total params\n",
      "8.180     Total estimated model params size (MB)\n",
      "54        Modules in train mode\n",
      "0         Modules in eval mode\n"
     ]
    },
    {
     "name": "stdout",
     "output_type": "stream",
     "text": [
      "[I 2025-04-18 12:50:11,578] Trial 31 finished with value: 674.1568603515625 and parameters: {'n_layers': 7, 'dropout': 0.4346373320958587, 'learning_rate': 0.001873448213286688, 'weight_decay': 0.0016880394271655253, 'optimizer': 'sgd', 'activation': 'leaky_relu'}. Best is trial 22 with value: 668.00732421875.\n"
     ]
    },
    {
     "name": "stderr",
     "output_type": "stream",
     "text": [
      "GPU available: True (cuda), used: True\n",
      "TPU available: False, using: 0 TPU cores\n",
      "HPU available: False, using: 0 HPUs\n",
      "LOCAL_RANK: 0 - CUDA_VISIBLE_DEVICES: [0]\n",
      "\n",
      "  | Name           | Type                  | Params | Mode \n",
      "-----------------------------------------------------------------\n",
      "0 | auto_encoder   | CancerDataAutoEncoder | 2.0 M  | train\n",
      "1 | neural_network | SimpleNN              | 167 K  | train\n",
      "2 | loss_metric    | MeanSquaredError      | 0      | train\n",
      "3 | val_metric     | MeanSquaredError      | 0      | train\n",
      "4 | test_metric    | MeanSquaredError      | 0      | train\n",
      "-----------------------------------------------------------------\n",
      "167 K     Trainable params\n",
      "2.0 M     Non-trainable params\n",
      "2.2 M     Total params\n",
      "8.682     Total estimated model params size (MB)\n",
      "62        Modules in train mode\n",
      "0         Modules in eval mode\n"
     ]
    },
    {
     "name": "stdout",
     "output_type": "stream",
     "text": [
      "[I 2025-04-18 12:50:49,876] Trial 32 finished with value: 676.542724609375 and parameters: {'n_layers': 9, 'dropout': 0.4163091948826938, 'learning_rate': 0.006310684593827144, 'weight_decay': 0.0034192278100868257, 'optimizer': 'sgd', 'activation': 'leaky_relu'}. Best is trial 22 with value: 668.00732421875.\n"
     ]
    },
    {
     "name": "stderr",
     "output_type": "stream",
     "text": [
      "GPU available: True (cuda), used: True\n",
      "TPU available: False, using: 0 TPU cores\n",
      "HPU available: False, using: 0 HPUs\n",
      "LOCAL_RANK: 0 - CUDA_VISIBLE_DEVICES: [0]\n",
      "\n",
      "  | Name           | Type                  | Params | Mode \n",
      "-----------------------------------------------------------------\n",
      "0 | auto_encoder   | CancerDataAutoEncoder | 2.0 M  | train\n",
      "1 | neural_network | SimpleNN              | 42.3 K | train\n",
      "2 | loss_metric    | MeanSquaredError      | 0      | train\n",
      "3 | val_metric     | MeanSquaredError      | 0      | train\n",
      "4 | test_metric    | MeanSquaredError      | 0      | train\n",
      "-----------------------------------------------------------------\n",
      "42.3 K    Trainable params\n",
      "2.0 M     Non-trainable params\n",
      "2.0 M     Total params\n",
      "8.180     Total estimated model params size (MB)\n",
      "54        Modules in train mode\n",
      "0         Modules in eval mode\n"
     ]
    },
    {
     "name": "stdout",
     "output_type": "stream",
     "text": [
      "[I 2025-04-18 12:51:13,210] Trial 33 finished with value: 671.1231079101562 and parameters: {'n_layers': 7, 'dropout': 0.49892525416966316, 'learning_rate': 0.0034583691710681113, 'weight_decay': 0.000615004857425434, 'optimizer': 'sgd', 'activation': 'leaky_relu'}. Best is trial 22 with value: 668.00732421875.\n"
     ]
    },
    {
     "name": "stderr",
     "output_type": "stream",
     "text": [
      "GPU available: True (cuda), used: True\n",
      "TPU available: False, using: 0 TPU cores\n",
      "HPU available: False, using: 0 HPUs\n",
      "LOCAL_RANK: 0 - CUDA_VISIBLE_DEVICES: [0]\n",
      "\n",
      "  | Name           | Type                  | Params | Mode \n",
      "-----------------------------------------------------------------\n",
      "0 | auto_encoder   | CancerDataAutoEncoder | 2.0 M  | train\n",
      "1 | neural_network | SimpleNN              | 42.1 K | train\n",
      "2 | loss_metric    | MeanSquaredError      | 0      | train\n",
      "3 | val_metric     | MeanSquaredError      | 0      | train\n",
      "4 | test_metric    | MeanSquaredError      | 0      | train\n",
      "-----------------------------------------------------------------\n",
      "42.1 K    Trainable params\n",
      "2.0 M     Non-trainable params\n",
      "2.0 M     Total params\n",
      "8.179     Total estimated model params size (MB)\n",
      "50        Modules in train mode\n",
      "0         Modules in eval mode\n"
     ]
    },
    {
     "name": "stdout",
     "output_type": "stream",
     "text": [
      "[I 2025-04-18 12:52:00,089] Trial 34 finished with value: 676.78466796875 and parameters: {'n_layers': 6, 'dropout': 0.4863291647215744, 'learning_rate': 0.0034589959232566862, 'weight_decay': 0.0005504958512749197, 'optimizer': 'sgd', 'activation': 'leaky_relu'}. Best is trial 22 with value: 668.00732421875.\n"
     ]
    },
    {
     "name": "stderr",
     "output_type": "stream",
     "text": [
      "GPU available: True (cuda), used: True\n",
      "TPU available: False, using: 0 TPU cores\n",
      "HPU available: False, using: 0 HPUs\n",
      "LOCAL_RANK: 0 - CUDA_VISIBLE_DEVICES: [0]\n",
      "\n",
      "  | Name           | Type                  | Params | Mode \n",
      "-----------------------------------------------------------------\n",
      "0 | auto_encoder   | CancerDataAutoEncoder | 2.0 M  | train\n",
      "1 | neural_network | SimpleNN              | 167 K  | train\n",
      "2 | loss_metric    | MeanSquaredError      | 0      | train\n",
      "3 | val_metric     | MeanSquaredError      | 0      | train\n",
      "4 | test_metric    | MeanSquaredError      | 0      | train\n",
      "-----------------------------------------------------------------\n",
      "167 K     Trainable params\n",
      "2.0 M     Non-trainable params\n",
      "2.2 M     Total params\n",
      "8.681     Total estimated model params size (MB)\n",
      "58        Modules in train mode\n",
      "0         Modules in eval mode\n"
     ]
    },
    {
     "name": "stdout",
     "output_type": "stream",
     "text": [
      "[I 2025-04-18 12:52:31,616] Trial 35 finished with value: 675.3338012695312 and parameters: {'n_layers': 8, 'dropout': 0.3863293302979795, 'learning_rate': 0.0070238927430502345, 'weight_decay': 0.0011216030459677564, 'optimizer': 'sgd', 'activation': 'relu'}. Best is trial 22 with value: 668.00732421875.\n"
     ]
    },
    {
     "name": "stderr",
     "output_type": "stream",
     "text": [
      "GPU available: True (cuda), used: True\n",
      "TPU available: False, using: 0 TPU cores\n",
      "HPU available: False, using: 0 HPUs\n",
      "LOCAL_RANK: 0 - CUDA_VISIBLE_DEVICES: [0]\n",
      "\n",
      "  | Name           | Type                  | Params | Mode \n",
      "-----------------------------------------------------------------\n",
      "0 | auto_encoder   | CancerDataAutoEncoder | 2.0 M  | train\n",
      "1 | neural_network | SimpleNN              | 666 K  | train\n",
      "2 | loss_metric    | MeanSquaredError      | 0      | train\n",
      "3 | val_metric     | MeanSquaredError      | 0      | train\n",
      "4 | test_metric    | MeanSquaredError      | 0      | train\n",
      "-----------------------------------------------------------------\n",
      "666 K     Trainable params\n",
      "2.0 M     Non-trainable params\n",
      "2.7 M     Total params\n",
      "10.678    Total estimated model params size (MB)\n",
      "70        Modules in train mode\n",
      "0         Modules in eval mode\n"
     ]
    },
    {
     "name": "stdout",
     "output_type": "stream",
     "text": [
      "[I 2025-04-18 12:52:47,497] Trial 36 finished with value: 1030.2496337890625 and parameters: {'n_layers': 11, 'dropout': 0.49636666515202366, 'learning_rate': 0.00029512694323999094, 'weight_decay': 0.0007960047767797416, 'optimizer': 'adagrad', 'activation': 'leaky_relu'}. Best is trial 22 with value: 668.00732421875.\n"
     ]
    },
    {
     "name": "stderr",
     "output_type": "stream",
     "text": [
      "GPU available: True (cuda), used: True\n",
      "TPU available: False, using: 0 TPU cores\n",
      "HPU available: False, using: 0 HPUs\n",
      "LOCAL_RANK: 0 - CUDA_VISIBLE_DEVICES: [0]\n",
      "\n",
      "  | Name           | Type                  | Params | Mode \n",
      "-----------------------------------------------------------------\n",
      "0 | auto_encoder   | CancerDataAutoEncoder | 2.0 M  | train\n",
      "1 | neural_network | SimpleNN              | 10.6 K | train\n",
      "2 | loss_metric    | MeanSquaredError      | 0      | train\n",
      "3 | val_metric     | MeanSquaredError      | 0      | train\n",
      "4 | test_metric    | MeanSquaredError      | 0      | train\n",
      "-----------------------------------------------------------------\n",
      "10.6 K    Trainable params\n",
      "2.0 M     Non-trainable params\n",
      "2.0 M     Total params\n",
      "8.053     Total estimated model params size (MB)\n",
      "46        Modules in train mode\n",
      "0         Modules in eval mode\n"
     ]
    },
    {
     "name": "stdout",
     "output_type": "stream",
     "text": [
      "[I 2025-04-18 12:54:26,474] Trial 37 finished with value: 675.49609375 and parameters: {'n_layers': 5, 'dropout': 0.3065092306919214, 'learning_rate': 0.002787205962553737, 'weight_decay': 1.0629123153046601e-05, 'optimizer': 'adam', 'activation': 'tanh'}. Best is trial 22 with value: 668.00732421875.\n"
     ]
    },
    {
     "name": "stderr",
     "output_type": "stream",
     "text": [
      "GPU available: True (cuda), used: True\n",
      "TPU available: False, using: 0 TPU cores\n",
      "HPU available: False, using: 0 HPUs\n",
      "LOCAL_RANK: 0 - CUDA_VISIBLE_DEVICES: [0]\n",
      "\n",
      "  | Name           | Type                  | Params | Mode \n",
      "-----------------------------------------------------------------\n",
      "0 | auto_encoder   | CancerDataAutoEncoder | 2.0 M  | train\n",
      "1 | neural_network | SimpleNN              | 666 K  | train\n",
      "2 | loss_metric    | MeanSquaredError      | 0      | train\n",
      "3 | val_metric     | MeanSquaredError      | 0      | train\n",
      "4 | test_metric    | MeanSquaredError      | 0      | train\n",
      "-----------------------------------------------------------------\n",
      "666 K     Trainable params\n",
      "2.0 M     Non-trainable params\n",
      "2.7 M     Total params\n",
      "10.677    Total estimated model params size (MB)\n",
      "66        Modules in train mode\n",
      "0         Modules in eval mode\n"
     ]
    },
    {
     "name": "stdout",
     "output_type": "stream",
     "text": [
      "[I 2025-04-18 12:54:55,634] Trial 38 finished with value: 683.7428588867188 and parameters: {'n_layers': 10, 'dropout': 0.46264142066319663, 'learning_rate': 0.0047614013834875735, 'weight_decay': 0.0001059167530598066, 'optimizer': 'sgd', 'activation': 'leaky_relu'}. Best is trial 22 with value: 668.00732421875.\n"
     ]
    },
    {
     "name": "stderr",
     "output_type": "stream",
     "text": [
      "GPU available: True (cuda), used: True\n",
      "TPU available: False, using: 0 TPU cores\n",
      "HPU available: False, using: 0 HPUs\n",
      "LOCAL_RANK: 0 - CUDA_VISIBLE_DEVICES: [0]\n",
      "\n",
      "  | Name           | Type                  | Params | Mode \n",
      "-----------------------------------------------------------------\n",
      "0 | auto_encoder   | CancerDataAutoEncoder | 2.0 M  | train\n",
      "1 | neural_network | SimpleNN              | 10.6 M | train\n",
      "2 | loss_metric    | MeanSquaredError      | 0      | train\n",
      "3 | val_metric     | MeanSquaredError      | 0      | train\n",
      "4 | test_metric    | MeanSquaredError      | 0      | train\n",
      "-----------------------------------------------------------------\n",
      "10.6 M    Trainable params\n",
      "2.0 M     Non-trainable params\n",
      "12.6 M    Total params\n",
      "50.403    Total estimated model params size (MB)\n",
      "86        Modules in train mode\n",
      "0         Modules in eval mode\n"
     ]
    },
    {
     "name": "stdout",
     "output_type": "stream",
     "text": [
      "[I 2025-04-18 12:55:08,855] Trial 39 finished with value: 1038.67822265625 and parameters: {'n_layers': 15, 'dropout': 0.1406223927764508, 'learning_rate': 0.0009240268781694824, 'weight_decay': 0.00018924058175545032, 'optimizer': 'adagrad', 'activation': 'relu'}. Best is trial 22 with value: 668.00732421875.\n"
     ]
    },
    {
     "name": "stderr",
     "output_type": "stream",
     "text": [
      "GPU available: True (cuda), used: True\n",
      "TPU available: False, using: 0 TPU cores\n",
      "HPU available: False, using: 0 HPUs\n",
      "LOCAL_RANK: 0 - CUDA_VISIBLE_DEVICES: [0]\n",
      "\n",
      "  | Name           | Type                  | Params | Mode \n",
      "-----------------------------------------------------------------\n",
      "0 | auto_encoder   | CancerDataAutoEncoder | 2.0 M  | train\n",
      "1 | neural_network | SimpleNN              | 2.7 M  | train\n",
      "2 | loss_metric    | MeanSquaredError      | 0      | train\n",
      "3 | val_metric     | MeanSquaredError      | 0      | train\n",
      "4 | test_metric    | MeanSquaredError      | 0      | train\n",
      "-----------------------------------------------------------------\n",
      "2.7 M     Trainable params\n",
      "2.0 M     Non-trainable params\n",
      "4.7 M     Total params\n",
      "18.633    Total estimated model params size (MB)\n",
      "78        Modules in train mode\n",
      "0         Modules in eval mode\n"
     ]
    },
    {
     "name": "stdout",
     "output_type": "stream",
     "text": [
      "[I 2025-04-18 12:55:39,489] Trial 40 finished with value: 1022.7491455078124 and parameters: {'n_layers': 13, 'dropout': 0.3611630660973022, 'learning_rate': 0.0015846917372760163, 'weight_decay': 0.0037245657887028504, 'optimizer': 'adam', 'activation': 'leaky_relu'}. Best is trial 22 with value: 668.00732421875.\n"
     ]
    },
    {
     "name": "stderr",
     "output_type": "stream",
     "text": [
      "GPU available: True (cuda), used: True\n",
      "TPU available: False, using: 0 TPU cores\n",
      "HPU available: False, using: 0 HPUs\n",
      "LOCAL_RANK: 0 - CUDA_VISIBLE_DEVICES: [0]\n",
      "\n",
      "  | Name           | Type                  | Params | Mode \n",
      "-----------------------------------------------------------------\n",
      "0 | auto_encoder   | CancerDataAutoEncoder | 2.0 M  | train\n",
      "1 | neural_network | SimpleNN              | 42.3 K | train\n",
      "2 | loss_metric    | MeanSquaredError      | 0      | train\n",
      "3 | val_metric     | MeanSquaredError      | 0      | train\n",
      "4 | test_metric    | MeanSquaredError      | 0      | train\n",
      "-----------------------------------------------------------------\n",
      "42.3 K    Trainable params\n",
      "2.0 M     Non-trainable params\n",
      "2.0 M     Total params\n",
      "8.180     Total estimated model params size (MB)\n",
      "54        Modules in train mode\n",
      "0         Modules in eval mode\n"
     ]
    },
    {
     "name": "stdout",
     "output_type": "stream",
     "text": [
      "[I 2025-04-18 12:56:00,490] Trial 41 finished with value: 671.9578857421875 and parameters: {'n_layers': 7, 'dropout': 0.4380888097679353, 'learning_rate': 0.00215519487195397, 'weight_decay': 0.0019772275700286556, 'optimizer': 'sgd', 'activation': 'leaky_relu'}. Best is trial 22 with value: 668.00732421875.\n"
     ]
    },
    {
     "name": "stderr",
     "output_type": "stream",
     "text": [
      "GPU available: True (cuda), used: True\n",
      "TPU available: False, using: 0 TPU cores\n",
      "HPU available: False, using: 0 HPUs\n",
      "LOCAL_RANK: 0 - CUDA_VISIBLE_DEVICES: [0]\n",
      "\n",
      "  | Name           | Type                  | Params | Mode \n",
      "-----------------------------------------------------------------\n",
      "0 | auto_encoder   | CancerDataAutoEncoder | 2.0 M  | train\n",
      "1 | neural_network | SimpleNN              | 42.3 K | train\n",
      "2 | loss_metric    | MeanSquaredError      | 0      | train\n",
      "3 | val_metric     | MeanSquaredError      | 0      | train\n",
      "4 | test_metric    | MeanSquaredError      | 0      | train\n",
      "-----------------------------------------------------------------\n",
      "42.3 K    Trainable params\n",
      "2.0 M     Non-trainable params\n",
      "2.0 M     Total params\n",
      "8.180     Total estimated model params size (MB)\n",
      "54        Modules in train mode\n",
      "0         Modules in eval mode\n"
     ]
    },
    {
     "name": "stdout",
     "output_type": "stream",
     "text": [
      "[I 2025-04-18 12:57:09,398] Trial 42 finished with value: 685.5658569335938 and parameters: {'n_layers': 7, 'dropout': 0.45221094938083367, 'learning_rate': 0.0004697920097622937, 'weight_decay': 0.0024018059347955343, 'optimizer': 'sgd', 'activation': 'leaky_relu'}. Best is trial 22 with value: 668.00732421875.\n"
     ]
    },
    {
     "name": "stderr",
     "output_type": "stream",
     "text": [
      "GPU available: True (cuda), used: True\n",
      "TPU available: False, using: 0 TPU cores\n",
      "HPU available: False, using: 0 HPUs\n",
      "LOCAL_RANK: 0 - CUDA_VISIBLE_DEVICES: [0]\n",
      "\n",
      "  | Name           | Type                  | Params | Mode \n",
      "-----------------------------------------------------------------\n",
      "0 | auto_encoder   | CancerDataAutoEncoder | 2.0 M  | train\n",
      "1 | neural_network | SimpleNN              | 10.6 K | train\n",
      "2 | loss_metric    | MeanSquaredError      | 0      | train\n",
      "3 | val_metric     | MeanSquaredError      | 0      | train\n",
      "4 | test_metric    | MeanSquaredError      | 0      | train\n",
      "-----------------------------------------------------------------\n",
      "10.6 K    Trainable params\n",
      "2.0 M     Non-trainable params\n",
      "2.0 M     Total params\n",
      "8.053     Total estimated model params size (MB)\n",
      "46        Modules in train mode\n",
      "0         Modules in eval mode\n"
     ]
    },
    {
     "name": "stdout",
     "output_type": "stream",
     "text": [
      "[I 2025-04-18 12:57:22,980] Trial 43 finished with value: 686.6519165039062 and parameters: {'n_layers': 5, 'dropout': 0.41351378523833526, 'learning_rate': 0.0024073747456641215, 'weight_decay': 0.0010786390915347172, 'optimizer': 'sgd', 'activation': 'leaky_relu'}. Best is trial 22 with value: 668.00732421875.\n"
     ]
    },
    {
     "name": "stderr",
     "output_type": "stream",
     "text": [
      "GPU available: True (cuda), used: True\n",
      "TPU available: False, using: 0 TPU cores\n",
      "HPU available: False, using: 0 HPUs\n",
      "LOCAL_RANK: 0 - CUDA_VISIBLE_DEVICES: [0]\n",
      "\n",
      "  | Name           | Type                  | Params | Mode \n",
      "-----------------------------------------------------------------\n",
      "0 | auto_encoder   | CancerDataAutoEncoder | 2.0 M  | train\n",
      "1 | neural_network | SimpleNN              | 167 K  | train\n",
      "2 | loss_metric    | MeanSquaredError      | 0      | train\n",
      "3 | val_metric     | MeanSquaredError      | 0      | train\n",
      "4 | test_metric    | MeanSquaredError      | 0      | train\n",
      "-----------------------------------------------------------------\n",
      "167 K     Trainable params\n",
      "2.0 M     Non-trainable params\n",
      "2.2 M     Total params\n",
      "8.681     Total estimated model params size (MB)\n",
      "58        Modules in train mode\n",
      "0         Modules in eval mode\n"
     ]
    },
    {
     "name": "stdout",
     "output_type": "stream",
     "text": [
      "[I 2025-04-18 12:57:39,597] Trial 44 finished with value: 884.970458984375 and parameters: {'n_layers': 8, 'dropout': 0.07850975359216039, 'learning_rate': 0.005850302136128923, 'weight_decay': 0.001932272229875619, 'optimizer': 'sgd', 'activation': 'leaky_relu'}. Best is trial 22 with value: 668.00732421875.\n"
     ]
    },
    {
     "name": "stderr",
     "output_type": "stream",
     "text": [
      "GPU available: True (cuda), used: True\n",
      "TPU available: False, using: 0 TPU cores\n",
      "HPU available: False, using: 0 HPUs\n",
      "LOCAL_RANK: 0 - CUDA_VISIBLE_DEVICES: [0]\n",
      "\n",
      "  | Name           | Type                  | Params | Mode \n",
      "-----------------------------------------------------------------\n",
      "0 | auto_encoder   | CancerDataAutoEncoder | 2.0 M  | train\n",
      "1 | neural_network | SimpleNN              | 167 K  | train\n",
      "2 | loss_metric    | MeanSquaredError      | 0      | train\n",
      "3 | val_metric     | MeanSquaredError      | 0      | train\n",
      "4 | test_metric    | MeanSquaredError      | 0      | train\n",
      "-----------------------------------------------------------------\n",
      "167 K     Trainable params\n",
      "2.0 M     Non-trainable params\n",
      "2.2 M     Total params\n",
      "8.682     Total estimated model params size (MB)\n",
      "62        Modules in train mode\n",
      "0         Modules in eval mode\n"
     ]
    },
    {
     "name": "stdout",
     "output_type": "stream",
     "text": [
      "[I 2025-04-18 13:00:33,624] Trial 45 finished with value: 698.5904541015625 and parameters: {'n_layers': 9, 'dropout': 0.23728847497620192, 'learning_rate': 0.00013388754522543534, 'weight_decay': 0.007124473445125523, 'optimizer': 'sgd', 'activation': 'tanh'}. Best is trial 22 with value: 668.00732421875.\n"
     ]
    },
    {
     "name": "stderr",
     "output_type": "stream",
     "text": [
      "GPU available: True (cuda), used: True\n",
      "TPU available: False, using: 0 TPU cores\n",
      "HPU available: False, using: 0 HPUs\n",
      "LOCAL_RANK: 0 - CUDA_VISIBLE_DEVICES: [0]\n",
      "\n",
      "  | Name           | Type                  | Params | Mode \n",
      "-----------------------------------------------------------------\n",
      "0 | auto_encoder   | CancerDataAutoEncoder | 2.0 M  | train\n",
      "1 | neural_network | SimpleNN              | 42.1 K | train\n",
      "2 | loss_metric    | MeanSquaredError      | 0      | train\n",
      "3 | val_metric     | MeanSquaredError      | 0      | train\n",
      "4 | test_metric    | MeanSquaredError      | 0      | train\n",
      "-----------------------------------------------------------------\n",
      "42.1 K    Trainable params\n",
      "2.0 M     Non-trainable params\n",
      "2.0 M     Total params\n",
      "8.179     Total estimated model params size (MB)\n",
      "50        Modules in train mode\n",
      "0         Modules in eval mode\n"
     ]
    },
    {
     "name": "stdout",
     "output_type": "stream",
     "text": [
      "[I 2025-04-18 13:01:07,570] Trial 46 finished with value: 682.9439697265625 and parameters: {'n_layers': 6, 'dropout': 0.4702798923238736, 'learning_rate': 0.00390003669952691, 'weight_decay': 0.0013237226072038153, 'optimizer': 'sgd', 'activation': 'leaky_relu'}. Best is trial 22 with value: 668.00732421875.\n"
     ]
    },
    {
     "name": "stderr",
     "output_type": "stream",
     "text": [
      "GPU available: True (cuda), used: True\n",
      "TPU available: False, using: 0 TPU cores\n",
      "HPU available: False, using: 0 HPUs\n",
      "LOCAL_RANK: 0 - CUDA_VISIBLE_DEVICES: [0]\n",
      "\n",
      "  | Name           | Type                  | Params | Mode \n",
      "-----------------------------------------------------------------\n",
      "0 | auto_encoder   | CancerDataAutoEncoder | 2.0 M  | train\n",
      "1 | neural_network | SimpleNN              | 666 K  | train\n",
      "2 | loss_metric    | MeanSquaredError      | 0      | train\n",
      "3 | val_metric     | MeanSquaredError      | 0      | train\n",
      "4 | test_metric    | MeanSquaredError      | 0      | train\n",
      "-----------------------------------------------------------------\n",
      "666 K     Trainable params\n",
      "2.0 M     Non-trainable params\n",
      "2.7 M     Total params\n",
      "10.677    Total estimated model params size (MB)\n",
      "66        Modules in train mode\n",
      "0         Modules in eval mode\n"
     ]
    },
    {
     "name": "stdout",
     "output_type": "stream",
     "text": [
      "[I 2025-04-18 13:02:01,568] Trial 47 finished with value: 664.7633666992188 and parameters: {'n_layers': 10, 'dropout': 0.3827451111130499, 'learning_rate': 0.009709449622608375, 'weight_decay': 0.00027351480899933685, 'optimizer': 'adam', 'activation': 'tanh'}. Best is trial 47 with value: 664.7633666992188.\n"
     ]
    },
    {
     "name": "stderr",
     "output_type": "stream",
     "text": [
      "GPU available: True (cuda), used: True\n",
      "TPU available: False, using: 0 TPU cores\n",
      "HPU available: False, using: 0 HPUs\n",
      "LOCAL_RANK: 0 - CUDA_VISIBLE_DEVICES: [0]\n",
      "\n",
      "  | Name           | Type                  | Params | Mode \n",
      "-----------------------------------------------------------------\n",
      "0 | auto_encoder   | CancerDataAutoEncoder | 2.0 M  | train\n",
      "1 | neural_network | SimpleNN              | 666 K  | train\n",
      "2 | loss_metric    | MeanSquaredError      | 0      | train\n",
      "3 | val_metric     | MeanSquaredError      | 0      | train\n",
      "4 | test_metric    | MeanSquaredError      | 0      | train\n",
      "-----------------------------------------------------------------\n",
      "666 K     Trainable params\n",
      "2.0 M     Non-trainable params\n",
      "2.7 M     Total params\n",
      "10.678    Total estimated model params size (MB)\n",
      "70        Modules in train mode\n",
      "0         Modules in eval mode\n"
     ]
    },
    {
     "name": "stdout",
     "output_type": "stream",
     "text": [
      "[I 2025-04-18 13:02:56,924] Trial 48 finished with value: 671.7091064453125 and parameters: {'n_layers': 11, 'dropout': 0.003154745378905144, 'learning_rate': 0.007357358732696019, 'weight_decay': 0.0003334727877072719, 'optimizer': 'adam', 'activation': 'tanh'}. Best is trial 47 with value: 664.7633666992188.\n"
     ]
    },
    {
     "name": "stderr",
     "output_type": "stream",
     "text": [
      "GPU available: True (cuda), used: True\n",
      "TPU available: False, using: 0 TPU cores\n",
      "HPU available: False, using: 0 HPUs\n",
      "LOCAL_RANK: 0 - CUDA_VISIBLE_DEVICES: [0]\n",
      "\n",
      "  | Name           | Type                  | Params | Mode \n",
      "-----------------------------------------------------------------\n",
      "0 | auto_encoder   | CancerDataAutoEncoder | 2.0 M  | train\n",
      "1 | neural_network | SimpleNN              | 2.7 M  | train\n",
      "2 | loss_metric    | MeanSquaredError      | 0      | train\n",
      "3 | val_metric     | MeanSquaredError      | 0      | train\n",
      "4 | test_metric    | MeanSquaredError      | 0      | train\n",
      "-----------------------------------------------------------------\n",
      "2.7 M     Trainable params\n",
      "2.0 M     Non-trainable params\n",
      "4.7 M     Total params\n",
      "18.632    Total estimated model params size (MB)\n",
      "74        Modules in train mode\n",
      "0         Modules in eval mode\n"
     ]
    },
    {
     "name": "stdout",
     "output_type": "stream",
     "text": [
      "[I 2025-04-18 13:03:39,442] Trial 49 finished with value: 666.8321533203125 and parameters: {'n_layers': 12, 'dropout': 0.3833007431238459, 'learning_rate': 0.009679622177020362, 'weight_decay': 0.0002274097247352787, 'optimizer': 'adam', 'activation': 'tanh'}. Best is trial 47 with value: 664.7633666992188.\n"
     ]
    },
    {
     "name": "stderr",
     "output_type": "stream",
     "text": [
      "GPU available: True (cuda), used: True\n",
      "TPU available: False, using: 0 TPU cores\n",
      "HPU available: False, using: 0 HPUs\n",
      "LOCAL_RANK: 0 - CUDA_VISIBLE_DEVICES: [0]\n",
      "\n",
      "  | Name           | Type                  | Params | Mode \n",
      "-----------------------------------------------------------------\n",
      "0 | auto_encoder   | CancerDataAutoEncoder | 2.0 M  | train\n",
      "1 | neural_network | SimpleNN              | 2.7 M  | train\n",
      "2 | loss_metric    | MeanSquaredError      | 0      | train\n",
      "3 | val_metric     | MeanSquaredError      | 0      | train\n",
      "4 | test_metric    | MeanSquaredError      | 0      | train\n",
      "-----------------------------------------------------------------\n",
      "2.7 M     Trainable params\n",
      "2.0 M     Non-trainable params\n",
      "4.7 M     Total params\n",
      "18.632    Total estimated model params size (MB)\n",
      "74        Modules in train mode\n",
      "0         Modules in eval mode\n"
     ]
    },
    {
     "name": "stdout",
     "output_type": "stream",
     "text": [
      "[I 2025-04-18 13:04:46,870] Trial 50 finished with value: 680.318603515625 and parameters: {'n_layers': 12, 'dropout': 0.28652804704804996, 'learning_rate': 0.008094551934658488, 'weight_decay': 5.0112305679433924e-05, 'optimizer': 'adam', 'activation': 'tanh'}. Best is trial 47 with value: 664.7633666992188.\n"
     ]
    },
    {
     "name": "stderr",
     "output_type": "stream",
     "text": [
      "GPU available: True (cuda), used: True\n",
      "TPU available: False, using: 0 TPU cores\n",
      "HPU available: False, using: 0 HPUs\n",
      "LOCAL_RANK: 0 - CUDA_VISIBLE_DEVICES: [0]\n",
      "\n",
      "  | Name           | Type                  | Params | Mode \n",
      "-----------------------------------------------------------------\n",
      "0 | auto_encoder   | CancerDataAutoEncoder | 2.0 M  | train\n",
      "1 | neural_network | SimpleNN              | 2.7 M  | train\n",
      "2 | loss_metric    | MeanSquaredError      | 0      | train\n",
      "3 | val_metric     | MeanSquaredError      | 0      | train\n",
      "4 | test_metric    | MeanSquaredError      | 0      | train\n",
      "-----------------------------------------------------------------\n",
      "2.7 M     Trainable params\n",
      "2.0 M     Non-trainable params\n",
      "4.7 M     Total params\n",
      "18.633    Total estimated model params size (MB)\n",
      "78        Modules in train mode\n",
      "0         Modules in eval mode\n"
     ]
    },
    {
     "name": "stdout",
     "output_type": "stream",
     "text": [
      "[I 2025-04-18 13:06:53,085] Trial 51 finished with value: 671.6222534179688 and parameters: {'n_layers': 13, 'dropout': 0.3793994226515228, 'learning_rate': 0.005006579326087774, 'weight_decay': 0.000149715718254917, 'optimizer': 'adam', 'activation': 'tanh'}. Best is trial 47 with value: 664.7633666992188.\n"
     ]
    },
    {
     "name": "stderr",
     "output_type": "stream",
     "text": [
      "GPU available: True (cuda), used: True\n",
      "TPU available: False, using: 0 TPU cores\n",
      "HPU available: False, using: 0 HPUs\n",
      "LOCAL_RANK: 0 - CUDA_VISIBLE_DEVICES: [0]\n",
      "\n",
      "  | Name           | Type                  | Params | Mode \n",
      "-----------------------------------------------------------------\n",
      "0 | auto_encoder   | CancerDataAutoEncoder | 2.0 M  | train\n",
      "1 | neural_network | SimpleNN              | 2.7 M  | train\n",
      "2 | loss_metric    | MeanSquaredError      | 0      | train\n",
      "3 | val_metric     | MeanSquaredError      | 0      | train\n",
      "4 | test_metric    | MeanSquaredError      | 0      | train\n",
      "-----------------------------------------------------------------\n",
      "2.7 M     Trainable params\n",
      "2.0 M     Non-trainable params\n",
      "4.7 M     Total params\n",
      "18.632    Total estimated model params size (MB)\n",
      "74        Modules in train mode\n",
      "0         Modules in eval mode\n"
     ]
    },
    {
     "name": "stdout",
     "output_type": "stream",
     "text": [
      "[I 2025-04-18 13:09:28,011] Trial 52 finished with value: 673.2884521484375 and parameters: {'n_layers': 12, 'dropout': 0.3508709616307317, 'learning_rate': 0.009177134215561782, 'weight_decay': 0.00024213385043867628, 'optimizer': 'adam', 'activation': 'tanh'}. Best is trial 47 with value: 664.7633666992188.\n"
     ]
    },
    {
     "name": "stderr",
     "output_type": "stream",
     "text": [
      "GPU available: True (cuda), used: True\n",
      "TPU available: False, using: 0 TPU cores\n",
      "HPU available: False, using: 0 HPUs\n",
      "LOCAL_RANK: 0 - CUDA_VISIBLE_DEVICES: [0]\n",
      "\n",
      "  | Name           | Type                  | Params | Mode \n",
      "-----------------------------------------------------------------\n",
      "0 | auto_encoder   | CancerDataAutoEncoder | 2.0 M  | train\n",
      "1 | neural_network | SimpleNN              | 666 K  | train\n",
      "2 | loss_metric    | MeanSquaredError      | 0      | train\n",
      "3 | val_metric     | MeanSquaredError      | 0      | train\n",
      "4 | test_metric    | MeanSquaredError      | 0      | train\n",
      "-----------------------------------------------------------------\n",
      "666 K     Trainable params\n",
      "2.0 M     Non-trainable params\n",
      "2.7 M     Total params\n",
      "10.677    Total estimated model params size (MB)\n",
      "66        Modules in train mode\n",
      "0         Modules in eval mode\n"
     ]
    },
    {
     "name": "stdout",
     "output_type": "stream",
     "text": [
      "[I 2025-04-18 13:10:28,276] Trial 53 finished with value: 669.7266235351562 and parameters: {'n_layers': 10, 'dropout': 0.4733545917470246, 'learning_rate': 0.009932658711554933, 'weight_decay': 0.0005370179439826334, 'optimizer': 'adam', 'activation': 'tanh'}. Best is trial 47 with value: 664.7633666992188.\n"
     ]
    },
    {
     "name": "stderr",
     "output_type": "stream",
     "text": [
      "GPU available: True (cuda), used: True\n",
      "TPU available: False, using: 0 TPU cores\n",
      "HPU available: False, using: 0 HPUs\n",
      "LOCAL_RANK: 0 - CUDA_VISIBLE_DEVICES: [0]\n",
      "\n",
      "  | Name           | Type                  | Params | Mode \n",
      "-----------------------------------------------------------------\n",
      "0 | auto_encoder   | CancerDataAutoEncoder | 2.0 M  | train\n",
      "1 | neural_network | SimpleNN              | 167 K  | train\n",
      "2 | loss_metric    | MeanSquaredError      | 0      | train\n",
      "3 | val_metric     | MeanSquaredError      | 0      | train\n",
      "4 | test_metric    | MeanSquaredError      | 0      | train\n",
      "-----------------------------------------------------------------\n",
      "167 K     Trainable params\n",
      "2.0 M     Non-trainable params\n",
      "2.2 M     Total params\n",
      "8.682     Total estimated model params size (MB)\n",
      "62        Modules in train mode\n",
      "0         Modules in eval mode\n"
     ]
    },
    {
     "name": "stdout",
     "output_type": "stream",
     "text": [
      "[I 2025-04-18 13:11:28,871] Trial 54 finished with value: 670.7645263671875 and parameters: {'n_layers': 9, 'dropout': 0.4777747288175198, 'learning_rate': 0.00997619431610027, 'weight_decay': 0.0004857377911790968, 'optimizer': 'adam', 'activation': 'tanh'}. Best is trial 47 with value: 664.7633666992188.\n"
     ]
    },
    {
     "name": "stderr",
     "output_type": "stream",
     "text": [
      "GPU available: True (cuda), used: True\n",
      "TPU available: False, using: 0 TPU cores\n",
      "HPU available: False, using: 0 HPUs\n",
      "LOCAL_RANK: 0 - CUDA_VISIBLE_DEVICES: [0]\n",
      "\n",
      "  | Name           | Type                  | Params | Mode \n",
      "-----------------------------------------------------------------\n",
      "0 | auto_encoder   | CancerDataAutoEncoder | 2.0 M  | train\n",
      "1 | neural_network | SimpleNN              | 10.6 M | train\n",
      "2 | loss_metric    | MeanSquaredError      | 0      | train\n",
      "3 | val_metric     | MeanSquaredError      | 0      | train\n",
      "4 | test_metric    | MeanSquaredError      | 0      | train\n",
      "-----------------------------------------------------------------\n",
      "10.6 M    Trainable params\n",
      "2.0 M     Non-trainable params\n",
      "12.6 M    Total params\n",
      "50.402    Total estimated model params size (MB)\n",
      "82        Modules in train mode\n",
      "0         Modules in eval mode\n"
     ]
    },
    {
     "name": "stdout",
     "output_type": "stream",
     "text": [
      "[I 2025-04-18 13:12:20,023] Trial 55 finished with value: 674.8154907226562 and parameters: {'n_layers': 14, 'dropout': 0.4716208073779087, 'learning_rate': 0.009096069719740574, 'weight_decay': 0.000426617028921301, 'optimizer': 'adam', 'activation': 'tanh'}. Best is trial 47 with value: 664.7633666992188.\n"
     ]
    },
    {
     "name": "stderr",
     "output_type": "stream",
     "text": [
      "GPU available: True (cuda), used: True\n",
      "TPU available: False, using: 0 TPU cores\n",
      "HPU available: False, using: 0 HPUs\n",
      "LOCAL_RANK: 0 - CUDA_VISIBLE_DEVICES: [0]\n",
      "\n",
      "  | Name           | Type                  | Params | Mode \n",
      "-----------------------------------------------------------------\n",
      "0 | auto_encoder   | CancerDataAutoEncoder | 2.0 M  | train\n",
      "1 | neural_network | SimpleNN              | 167 K  | train\n",
      "2 | loss_metric    | MeanSquaredError      | 0      | train\n",
      "3 | val_metric     | MeanSquaredError      | 0      | train\n",
      "4 | test_metric    | MeanSquaredError      | 0      | train\n",
      "-----------------------------------------------------------------\n",
      "167 K     Trainable params\n",
      "2.0 M     Non-trainable params\n",
      "2.2 M     Total params\n",
      "8.682     Total estimated model params size (MB)\n",
      "62        Modules in train mode\n",
      "0         Modules in eval mode\n"
     ]
    },
    {
     "name": "stdout",
     "output_type": "stream",
     "text": [
      "[I 2025-04-18 13:13:22,826] Trial 56 finished with value: 672.193115234375 and parameters: {'n_layers': 9, 'dropout': 0.3991307045214031, 'learning_rate': 0.009879054796514583, 'weight_decay': 0.0002446316403259757, 'optimizer': 'adam', 'activation': 'tanh'}. Best is trial 47 with value: 664.7633666992188.\n"
     ]
    },
    {
     "name": "stderr",
     "output_type": "stream",
     "text": [
      "GPU available: True (cuda), used: True\n",
      "TPU available: False, using: 0 TPU cores\n",
      "HPU available: False, using: 0 HPUs\n",
      "LOCAL_RANK: 0 - CUDA_VISIBLE_DEVICES: [0]\n",
      "\n",
      "  | Name           | Type                  | Params | Mode \n",
      "-----------------------------------------------------------------\n",
      "0 | auto_encoder   | CancerDataAutoEncoder | 2.0 M  | train\n",
      "1 | neural_network | SimpleNN              | 666 K  | train\n",
      "2 | loss_metric    | MeanSquaredError      | 0      | train\n",
      "3 | val_metric     | MeanSquaredError      | 0      | train\n",
      "4 | test_metric    | MeanSquaredError      | 0      | train\n",
      "-----------------------------------------------------------------\n",
      "666 K     Trainable params\n",
      "2.0 M     Non-trainable params\n",
      "2.7 M     Total params\n",
      "10.677    Total estimated model params size (MB)\n",
      "66        Modules in train mode\n",
      "0         Modules in eval mode\n"
     ]
    },
    {
     "name": "stdout",
     "output_type": "stream",
     "text": [
      "[I 2025-04-18 13:13:57,082] Trial 57 finished with value: 1033.25390625 and parameters: {'n_layers': 10, 'dropout': 0.4773678106506655, 'learning_rate': 2.1098751389221544e-05, 'weight_decay': 0.0001451037870499944, 'optimizer': 'adam', 'activation': 'tanh'}. Best is trial 47 with value: 664.7633666992188.\n"
     ]
    },
    {
     "name": "stderr",
     "output_type": "stream",
     "text": [
      "GPU available: True (cuda), used: True\n",
      "TPU available: False, using: 0 TPU cores\n",
      "HPU available: False, using: 0 HPUs\n",
      "LOCAL_RANK: 0 - CUDA_VISIBLE_DEVICES: [0]\n",
      "\n",
      "  | Name           | Type                  | Params | Mode \n",
      "-----------------------------------------------------------------\n",
      "0 | auto_encoder   | CancerDataAutoEncoder | 2.0 M  | train\n",
      "1 | neural_network | SimpleNN              | 666 K  | train\n",
      "2 | loss_metric    | MeanSquaredError      | 0      | train\n",
      "3 | val_metric     | MeanSquaredError      | 0      | train\n",
      "4 | test_metric    | MeanSquaredError      | 0      | train\n",
      "-----------------------------------------------------------------\n",
      "666 K     Trainable params\n",
      "2.0 M     Non-trainable params\n",
      "2.7 M     Total params\n",
      "10.677    Total estimated model params size (MB)\n",
      "66        Modules in train mode\n",
      "0         Modules in eval mode\n"
     ]
    },
    {
     "name": "stdout",
     "output_type": "stream",
     "text": [
      "[I 2025-04-18 13:14:55,151] Trial 58 finished with value: 686.8451538085938 and parameters: {'n_layers': 10, 'dropout': 0.4203270786563379, 'learning_rate': 0.006800076259895613, 'weight_decay': 0.00031867163575029765, 'optimizer': 'adam', 'activation': 'tanh'}. Best is trial 47 with value: 664.7633666992188.\n"
     ]
    },
    {
     "name": "stderr",
     "output_type": "stream",
     "text": [
      "GPU available: True (cuda), used: True\n",
      "TPU available: False, using: 0 TPU cores\n",
      "HPU available: False, using: 0 HPUs\n",
      "LOCAL_RANK: 0 - CUDA_VISIBLE_DEVICES: [0]\n",
      "\n",
      "  | Name           | Type                  | Params | Mode \n",
      "-----------------------------------------------------------------\n",
      "0 | auto_encoder   | CancerDataAutoEncoder | 2.0 M  | train\n",
      "1 | neural_network | SimpleNN              | 666 K  | train\n",
      "2 | loss_metric    | MeanSquaredError      | 0      | train\n",
      "3 | val_metric     | MeanSquaredError      | 0      | train\n",
      "4 | test_metric    | MeanSquaredError      | 0      | train\n",
      "-----------------------------------------------------------------\n",
      "666 K     Trainable params\n",
      "2.0 M     Non-trainable params\n",
      "2.7 M     Total params\n",
      "10.678    Total estimated model params size (MB)\n",
      "70        Modules in train mode\n",
      "0         Modules in eval mode\n"
     ]
    },
    {
     "name": "stdout",
     "output_type": "stream",
     "text": [
      "[I 2025-04-18 13:16:51,976] Trial 59 finished with value: 660.7769165039062 and parameters: {'n_layers': 11, 'dropout': 0.3143379535809292, 'learning_rate': 0.00459661974900585, 'weight_decay': 0.00017998143379216285, 'optimizer': 'adam', 'activation': 'tanh'}. Best is trial 59 with value: 660.7769165039062.\n"
     ]
    },
    {
     "name": "stderr",
     "output_type": "stream",
     "text": [
      "GPU available: True (cuda), used: True\n",
      "TPU available: False, using: 0 TPU cores\n",
      "HPU available: False, using: 0 HPUs\n",
      "LOCAL_RANK: 0 - CUDA_VISIBLE_DEVICES: [0]\n",
      "\n",
      "  | Name           | Type                  | Params | Mode \n",
      "-----------------------------------------------------------------\n",
      "0 | auto_encoder   | CancerDataAutoEncoder | 2.0 M  | train\n",
      "1 | neural_network | SimpleNN              | 666 K  | train\n",
      "2 | loss_metric    | MeanSquaredError      | 0      | train\n",
      "3 | val_metric     | MeanSquaredError      | 0      | train\n",
      "4 | test_metric    | MeanSquaredError      | 0      | train\n",
      "-----------------------------------------------------------------\n",
      "666 K     Trainable params\n",
      "2.0 M     Non-trainable params\n",
      "2.7 M     Total params\n",
      "10.678    Total estimated model params size (MB)\n",
      "70        Modules in train mode\n",
      "0         Modules in eval mode\n"
     ]
    },
    {
     "name": "stdout",
     "output_type": "stream",
     "text": [
      "[I 2025-04-18 13:19:18,808] Trial 60 finished with value: 674.2886352539062 and parameters: {'n_layers': 11, 'dropout': 0.3029526184098161, 'learning_rate': 0.004919790433064527, 'weight_decay': 5.7885129473603204e-05, 'optimizer': 'adam', 'activation': 'tanh'}. Best is trial 59 with value: 660.7769165039062.\n"
     ]
    },
    {
     "name": "stderr",
     "output_type": "stream",
     "text": [
      "GPU available: True (cuda), used: True\n",
      "TPU available: False, using: 0 TPU cores\n",
      "HPU available: False, using: 0 HPUs\n",
      "LOCAL_RANK: 0 - CUDA_VISIBLE_DEVICES: [0]\n",
      "\n",
      "  | Name           | Type                  | Params | Mode \n",
      "-----------------------------------------------------------------\n",
      "0 | auto_encoder   | CancerDataAutoEncoder | 2.0 M  | train\n",
      "1 | neural_network | SimpleNN              | 2.7 M  | train\n",
      "2 | loss_metric    | MeanSquaredError      | 0      | train\n",
      "3 | val_metric     | MeanSquaredError      | 0      | train\n",
      "4 | test_metric    | MeanSquaredError      | 0      | train\n",
      "-----------------------------------------------------------------\n",
      "2.7 M     Trainable params\n",
      "2.0 M     Non-trainable params\n",
      "4.7 M     Total params\n",
      "18.632    Total estimated model params size (MB)\n",
      "74        Modules in train mode\n",
      "0         Modules in eval mode\n"
     ]
    },
    {
     "name": "stdout",
     "output_type": "stream",
     "text": [
      "[I 2025-04-18 13:21:48,377] Trial 61 finished with value: 679.0200805664062 and parameters: {'n_layers': 12, 'dropout': 0.2605389201704274, 'learning_rate': 0.005759874152979785, 'weight_decay': 0.00017171709438492478, 'optimizer': 'adam', 'activation': 'tanh'}. Best is trial 59 with value: 660.7769165039062.\n"
     ]
    },
    {
     "name": "stderr",
     "output_type": "stream",
     "text": [
      "GPU available: True (cuda), used: True\n",
      "TPU available: False, using: 0 TPU cores\n",
      "HPU available: False, using: 0 HPUs\n",
      "LOCAL_RANK: 0 - CUDA_VISIBLE_DEVICES: [0]\n",
      "\n",
      "  | Name           | Type                  | Params | Mode \n",
      "-----------------------------------------------------------------\n",
      "0 | auto_encoder   | CancerDataAutoEncoder | 2.0 M  | train\n",
      "1 | neural_network | SimpleNN              | 167 K  | train\n",
      "2 | loss_metric    | MeanSquaredError      | 0      | train\n",
      "3 | val_metric     | MeanSquaredError      | 0      | train\n",
      "4 | test_metric    | MeanSquaredError      | 0      | train\n",
      "-----------------------------------------------------------------\n",
      "167 K     Trainable params\n",
      "2.0 M     Non-trainable params\n",
      "2.2 M     Total params\n",
      "8.682     Total estimated model params size (MB)\n",
      "62        Modules in train mode\n",
      "0         Modules in eval mode\n"
     ]
    },
    {
     "name": "stdout",
     "output_type": "stream",
     "text": [
      "[I 2025-04-18 13:22:51,053] Trial 62 finished with value: 672.9962768554688 and parameters: {'n_layers': 9, 'dropout': 0.3409189397862813, 'learning_rate': 0.00987846193121634, 'weight_decay': 0.0001196005605340459, 'optimizer': 'adam', 'activation': 'tanh'}. Best is trial 59 with value: 660.7769165039062.\n"
     ]
    },
    {
     "name": "stderr",
     "output_type": "stream",
     "text": [
      "GPU available: True (cuda), used: True\n",
      "TPU available: False, using: 0 TPU cores\n",
      "HPU available: False, using: 0 HPUs\n",
      "LOCAL_RANK: 0 - CUDA_VISIBLE_DEVICES: [0]\n",
      "\n",
      "  | Name           | Type                  | Params | Mode \n",
      "-----------------------------------------------------------------\n",
      "0 | auto_encoder   | CancerDataAutoEncoder | 2.0 M  | train\n",
      "1 | neural_network | SimpleNN              | 666 K  | train\n",
      "2 | loss_metric    | MeanSquaredError      | 0      | train\n",
      "3 | val_metric     | MeanSquaredError      | 0      | train\n",
      "4 | test_metric    | MeanSquaredError      | 0      | train\n",
      "-----------------------------------------------------------------\n",
      "666 K     Trainable params\n",
      "2.0 M     Non-trainable params\n",
      "2.7 M     Total params\n",
      "10.678    Total estimated model params size (MB)\n",
      "70        Modules in train mode\n",
      "0         Modules in eval mode\n"
     ]
    },
    {
     "name": "stdout",
     "output_type": "stream",
     "text": [
      "[I 2025-04-18 13:23:56,124] Trial 63 finished with value: 673.1127319335938 and parameters: {'n_layers': 11, 'dropout': 0.381416151020881, 'learning_rate': 0.0070437858764217445, 'weight_decay': 0.00021543153219907648, 'optimizer': 'adam', 'activation': 'tanh'}. Best is trial 59 with value: 660.7769165039062.\n"
     ]
    },
    {
     "name": "stderr",
     "output_type": "stream",
     "text": [
      "GPU available: True (cuda), used: True\n",
      "TPU available: False, using: 0 TPU cores\n",
      "HPU available: False, using: 0 HPUs\n",
      "LOCAL_RANK: 0 - CUDA_VISIBLE_DEVICES: [0]\n",
      "\n",
      "  | Name           | Type                  | Params | Mode \n",
      "-----------------------------------------------------------------\n",
      "0 | auto_encoder   | CancerDataAutoEncoder | 2.0 M  | train\n",
      "1 | neural_network | SimpleNN              | 666 K  | train\n",
      "2 | loss_metric    | MeanSquaredError      | 0      | train\n",
      "3 | val_metric     | MeanSquaredError      | 0      | train\n",
      "4 | test_metric    | MeanSquaredError      | 0      | train\n",
      "-----------------------------------------------------------------\n",
      "666 K     Trainable params\n",
      "2.0 M     Non-trainable params\n",
      "2.7 M     Total params\n",
      "10.677    Total estimated model params size (MB)\n",
      "66        Modules in train mode\n",
      "0         Modules in eval mode\n"
     ]
    },
    {
     "name": "stdout",
     "output_type": "stream",
     "text": [
      "[I 2025-04-18 13:25:00,807] Trial 64 finished with value: 670.6280517578125 and parameters: {'n_layers': 10, 'dropout': 0.3167848504856965, 'learning_rate': 0.004255786361904214, 'weight_decay': 0.000380682612411372, 'optimizer': 'adam', 'activation': 'tanh'}. Best is trial 59 with value: 660.7769165039062.\n"
     ]
    },
    {
     "name": "stderr",
     "output_type": "stream",
     "text": [
      "GPU available: True (cuda), used: True\n",
      "TPU available: False, using: 0 TPU cores\n",
      "HPU available: False, using: 0 HPUs\n",
      "LOCAL_RANK: 0 - CUDA_VISIBLE_DEVICES: [0]\n",
      "\n",
      "  | Name           | Type                  | Params | Mode \n",
      "-----------------------------------------------------------------\n",
      "0 | auto_encoder   | CancerDataAutoEncoder | 2.0 M  | train\n",
      "1 | neural_network | SimpleNN              | 666 K  | train\n",
      "2 | loss_metric    | MeanSquaredError      | 0      | train\n",
      "3 | val_metric     | MeanSquaredError      | 0      | train\n",
      "4 | test_metric    | MeanSquaredError      | 0      | train\n",
      "-----------------------------------------------------------------\n",
      "666 K     Trainable params\n",
      "2.0 M     Non-trainable params\n",
      "2.7 M     Total params\n",
      "10.677    Total estimated model params size (MB)\n",
      "66        Modules in train mode\n",
      "0         Modules in eval mode\n"
     ]
    },
    {
     "name": "stdout",
     "output_type": "stream",
     "text": [
      "[I 2025-04-18 13:26:35,822] Trial 65 finished with value: 680.3504028320312 and parameters: {'n_layers': 10, 'dropout': 0.32613033517073786, 'learning_rate': 0.002984202925168244, 'weight_decay': 0.00034318819799424645, 'optimizer': 'adam', 'activation': 'tanh'}. Best is trial 59 with value: 660.7769165039062.\n"
     ]
    },
    {
     "name": "stderr",
     "output_type": "stream",
     "text": [
      "GPU available: True (cuda), used: True\n",
      "TPU available: False, using: 0 TPU cores\n",
      "HPU available: False, using: 0 HPUs\n",
      "LOCAL_RANK: 0 - CUDA_VISIBLE_DEVICES: [0]\n",
      "\n",
      "  | Name           | Type                  | Params | Mode \n",
      "-----------------------------------------------------------------\n",
      "0 | auto_encoder   | CancerDataAutoEncoder | 2.0 M  | train\n",
      "1 | neural_network | SimpleNN              | 2.7 M  | train\n",
      "2 | loss_metric    | MeanSquaredError      | 0      | train\n",
      "3 | val_metric     | MeanSquaredError      | 0      | train\n",
      "4 | test_metric    | MeanSquaredError      | 0      | train\n",
      "-----------------------------------------------------------------\n",
      "2.7 M     Trainable params\n",
      "2.0 M     Non-trainable params\n",
      "4.7 M     Total params\n",
      "18.633    Total estimated model params size (MB)\n",
      "78        Modules in train mode\n",
      "0         Modules in eval mode\n"
     ]
    },
    {
     "name": "stdout",
     "output_type": "stream",
     "text": [
      "[I 2025-04-18 13:28:09,649] Trial 66 finished with value: 671.0299682617188 and parameters: {'n_layers': 13, 'dropout': 0.3621491010528025, 'learning_rate': 0.004030777028624483, 'weight_decay': 0.0002735007248845605, 'optimizer': 'adam', 'activation': 'RReLU'}. Best is trial 59 with value: 660.7769165039062.\n"
     ]
    },
    {
     "name": "stderr",
     "output_type": "stream",
     "text": [
      "GPU available: True (cuda), used: True\n",
      "TPU available: False, using: 0 TPU cores\n",
      "HPU available: False, using: 0 HPUs\n",
      "LOCAL_RANK: 0 - CUDA_VISIBLE_DEVICES: [0]\n",
      "\n",
      "  | Name           | Type                  | Params | Mode \n",
      "-----------------------------------------------------------------\n",
      "0 | auto_encoder   | CancerDataAutoEncoder | 2.0 M  | train\n",
      "1 | neural_network | SimpleNN              | 666 K  | train\n",
      "2 | loss_metric    | MeanSquaredError      | 0      | train\n",
      "3 | val_metric     | MeanSquaredError      | 0      | train\n",
      "4 | test_metric    | MeanSquaredError      | 0      | train\n",
      "-----------------------------------------------------------------\n",
      "666 K     Trainable params\n",
      "2.0 M     Non-trainable params\n",
      "2.7 M     Total params\n",
      "10.678    Total estimated model params size (MB)\n",
      "70        Modules in train mode\n",
      "0         Modules in eval mode\n"
     ]
    },
    {
     "name": "stdout",
     "output_type": "stream",
     "text": [
      "[I 2025-04-18 13:29:29,686] Trial 67 finished with value: 673.193115234375 and parameters: {'n_layers': 11, 'dropout': 0.305001831564766, 'learning_rate': 0.005698921036417714, 'weight_decay': 0.00012967394936050264, 'optimizer': 'adam', 'activation': 'tanh'}. Best is trial 59 with value: 660.7769165039062.\n"
     ]
    },
    {
     "name": "stderr",
     "output_type": "stream",
     "text": [
      "GPU available: True (cuda), used: True\n",
      "TPU available: False, using: 0 TPU cores\n",
      "HPU available: False, using: 0 HPUs\n",
      "LOCAL_RANK: 0 - CUDA_VISIBLE_DEVICES: [0]\n",
      "\n",
      "  | Name           | Type                  | Params | Mode \n",
      "-----------------------------------------------------------------\n",
      "0 | auto_encoder   | CancerDataAutoEncoder | 2.0 M  | train\n",
      "1 | neural_network | SimpleNN              | 2.7 M  | train\n",
      "2 | loss_metric    | MeanSquaredError      | 0      | train\n",
      "3 | val_metric     | MeanSquaredError      | 0      | train\n",
      "4 | test_metric    | MeanSquaredError      | 0      | train\n",
      "-----------------------------------------------------------------\n",
      "2.7 M     Trainable params\n",
      "2.0 M     Non-trainable params\n",
      "4.7 M     Total params\n",
      "18.632    Total estimated model params size (MB)\n",
      "74        Modules in train mode\n",
      "0         Modules in eval mode\n"
     ]
    },
    {
     "name": "stdout",
     "output_type": "stream",
     "text": [
      "[I 2025-04-18 13:30:43,697] Trial 68 finished with value: 680.9874267578125 and parameters: {'n_layers': 12, 'dropout': 0.18631483515185598, 'learning_rate': 0.003628008479018443, 'weight_decay': 0.0008766855253254847, 'optimizer': 'adam', 'activation': 'tanh'}. Best is trial 59 with value: 660.7769165039062.\n"
     ]
    },
    {
     "name": "stderr",
     "output_type": "stream",
     "text": [
      "GPU available: True (cuda), used: True\n",
      "TPU available: False, using: 0 TPU cores\n",
      "HPU available: False, using: 0 HPUs\n",
      "LOCAL_RANK: 0 - CUDA_VISIBLE_DEVICES: [0]\n",
      "\n",
      "  | Name           | Type                  | Params | Mode \n",
      "-----------------------------------------------------------------\n",
      "0 | auto_encoder   | CancerDataAutoEncoder | 2.0 M  | train\n",
      "1 | neural_network | SimpleNN              | 666 K  | train\n",
      "2 | loss_metric    | MeanSquaredError      | 0      | train\n",
      "3 | val_metric     | MeanSquaredError      | 0      | train\n",
      "4 | test_metric    | MeanSquaredError      | 0      | train\n",
      "-----------------------------------------------------------------\n",
      "666 K     Trainable params\n",
      "2.0 M     Non-trainable params\n",
      "2.7 M     Total params\n",
      "10.677    Total estimated model params size (MB)\n",
      "66        Modules in train mode\n",
      "0         Modules in eval mode\n"
     ]
    },
    {
     "name": "stdout",
     "output_type": "stream",
     "text": [
      "[I 2025-04-18 13:32:46,893] Trial 69 finished with value: 678.5379028320312 and parameters: {'n_layers': 10, 'dropout': 0.24132452436996846, 'learning_rate': 0.0025436126035838042, 'weight_decay': 0.0006226462206516246, 'optimizer': 'adam', 'activation': 'tanh'}. Best is trial 59 with value: 660.7769165039062.\n"
     ]
    },
    {
     "name": "stderr",
     "output_type": "stream",
     "text": [
      "GPU available: True (cuda), used: True\n",
      "TPU available: False, using: 0 TPU cores\n",
      "HPU available: False, using: 0 HPUs\n",
      "LOCAL_RANK: 0 - CUDA_VISIBLE_DEVICES: [0]\n",
      "\n",
      "  | Name           | Type                  | Params | Mode \n",
      "-----------------------------------------------------------------\n",
      "0 | auto_encoder   | CancerDataAutoEncoder | 2.0 M  | train\n",
      "1 | neural_network | SimpleNN              | 666 K  | train\n",
      "2 | loss_metric    | MeanSquaredError      | 0      | train\n",
      "3 | val_metric     | MeanSquaredError      | 0      | train\n",
      "4 | test_metric    | MeanSquaredError      | 0      | train\n",
      "-----------------------------------------------------------------\n",
      "666 K     Trainable params\n",
      "2.0 M     Non-trainable params\n",
      "2.7 M     Total params\n",
      "10.678    Total estimated model params size (MB)\n",
      "70        Modules in train mode\n",
      "0         Modules in eval mode\n"
     ]
    },
    {
     "name": "stdout",
     "output_type": "stream",
     "text": [
      "[I 2025-04-18 13:36:35,418] Trial 70 finished with value: 676.247802734375 and parameters: {'n_layers': 11, 'dropout': 0.2812556149426664, 'learning_rate': 0.007628596686584722, 'weight_decay': 0.00039953403094386997, 'optimizer': 'adam', 'activation': 'tanh'}. Best is trial 59 with value: 660.7769165039062.\n"
     ]
    },
    {
     "name": "stderr",
     "output_type": "stream",
     "text": [
      "GPU available: True (cuda), used: True\n",
      "TPU available: False, using: 0 TPU cores\n",
      "HPU available: False, using: 0 HPUs\n",
      "LOCAL_RANK: 0 - CUDA_VISIBLE_DEVICES: [0]\n",
      "\n",
      "  | Name           | Type                  | Params | Mode \n",
      "-----------------------------------------------------------------\n",
      "0 | auto_encoder   | CancerDataAutoEncoder | 2.0 M  | train\n",
      "1 | neural_network | SimpleNN              | 167 K  | train\n",
      "2 | loss_metric    | MeanSquaredError      | 0      | train\n",
      "3 | val_metric     | MeanSquaredError      | 0      | train\n",
      "4 | test_metric    | MeanSquaredError      | 0      | train\n",
      "-----------------------------------------------------------------\n",
      "167 K     Trainable params\n",
      "2.0 M     Non-trainable params\n",
      "2.2 M     Total params\n",
      "8.682     Total estimated model params size (MB)\n",
      "62        Modules in train mode\n",
      "0         Modules in eval mode\n"
     ]
    },
    {
     "name": "stdout",
     "output_type": "stream",
     "text": [
      "[I 2025-04-18 13:38:31,479] Trial 71 finished with value: 675.494384765625 and parameters: {'n_layers': 9, 'dropout': 0.4464341755768554, 'learning_rate': 0.004358111581491439, 'weight_decay': 0.0005106375221201715, 'optimizer': 'adam', 'activation': 'tanh'}. Best is trial 59 with value: 660.7769165039062.\n"
     ]
    },
    {
     "name": "stderr",
     "output_type": "stream",
     "text": [
      "GPU available: True (cuda), used: True\n",
      "TPU available: False, using: 0 TPU cores\n",
      "HPU available: False, using: 0 HPUs\n",
      "LOCAL_RANK: 0 - CUDA_VISIBLE_DEVICES: [0]\n",
      "\n",
      "  | Name           | Type                  | Params | Mode \n",
      "-----------------------------------------------------------------\n",
      "0 | auto_encoder   | CancerDataAutoEncoder | 2.0 M  | train\n",
      "1 | neural_network | SimpleNN              | 167 K  | train\n",
      "2 | loss_metric    | MeanSquaredError      | 0      | train\n",
      "3 | val_metric     | MeanSquaredError      | 0      | train\n",
      "4 | test_metric    | MeanSquaredError      | 0      | train\n",
      "-----------------------------------------------------------------\n",
      "167 K     Trainable params\n",
      "2.0 M     Non-trainable params\n",
      "2.2 M     Total params\n",
      "8.681     Total estimated model params size (MB)\n",
      "58        Modules in train mode\n",
      "0         Modules in eval mode\n"
     ]
    },
    {
     "name": "stdout",
     "output_type": "stream",
     "text": [
      "[I 2025-04-18 13:39:32,436] Trial 72 finished with value: 677.1048583984375 and parameters: {'n_layers': 8, 'dropout': 0.48026748343497133, 'learning_rate': 0.007996125938063757, 'weight_decay': 0.00020014636956902147, 'optimizer': 'adam', 'activation': 'tanh'}. Best is trial 59 with value: 660.7769165039062.\n"
     ]
    },
    {
     "name": "stderr",
     "output_type": "stream",
     "text": [
      "GPU available: True (cuda), used: True\n",
      "TPU available: False, using: 0 TPU cores\n",
      "HPU available: False, using: 0 HPUs\n",
      "LOCAL_RANK: 0 - CUDA_VISIBLE_DEVICES: [0]\n",
      "\n",
      "  | Name           | Type                  | Params | Mode \n",
      "-----------------------------------------------------------------\n",
      "0 | auto_encoder   | CancerDataAutoEncoder | 2.0 M  | train\n",
      "1 | neural_network | SimpleNN              | 666 K  | train\n",
      "2 | loss_metric    | MeanSquaredError      | 0      | train\n",
      "3 | val_metric     | MeanSquaredError      | 0      | train\n",
      "4 | test_metric    | MeanSquaredError      | 0      | train\n",
      "-----------------------------------------------------------------\n",
      "666 K     Trainable params\n",
      "2.0 M     Non-trainable params\n",
      "2.7 M     Total params\n",
      "10.677    Total estimated model params size (MB)\n",
      "66        Modules in train mode\n",
      "0         Modules in eval mode\n"
     ]
    },
    {
     "name": "stdout",
     "output_type": "stream",
     "text": [
      "[I 2025-04-18 13:40:33,789] Trial 73 finished with value: 678.8861694335938 and parameters: {'n_layers': 10, 'dropout': 0.40459013149799505, 'learning_rate': 0.005579061776540384, 'weight_decay': 7.109678744443969e-05, 'optimizer': 'adam', 'activation': 'relu'}. Best is trial 59 with value: 660.7769165039062.\n"
     ]
    },
    {
     "name": "stderr",
     "output_type": "stream",
     "text": [
      "GPU available: True (cuda), used: True\n",
      "TPU available: False, using: 0 TPU cores\n",
      "HPU available: False, using: 0 HPUs\n",
      "LOCAL_RANK: 0 - CUDA_VISIBLE_DEVICES: [0]\n",
      "\n",
      "  | Name           | Type                  | Params | Mode \n",
      "-----------------------------------------------------------------\n",
      "0 | auto_encoder   | CancerDataAutoEncoder | 2.0 M  | train\n",
      "1 | neural_network | SimpleNN              | 167 K  | train\n",
      "2 | loss_metric    | MeanSquaredError      | 0      | train\n",
      "3 | val_metric     | MeanSquaredError      | 0      | train\n",
      "4 | test_metric    | MeanSquaredError      | 0      | train\n",
      "-----------------------------------------------------------------\n",
      "167 K     Trainable params\n",
      "2.0 M     Non-trainable params\n",
      "2.2 M     Total params\n",
      "8.682     Total estimated model params size (MB)\n",
      "62        Modules in train mode\n",
      "0         Modules in eval mode\n"
     ]
    },
    {
     "name": "stdout",
     "output_type": "stream",
     "text": [
      "[I 2025-04-18 13:41:49,466] Trial 74 finished with value: 683.29248046875 and parameters: {'n_layers': 9, 'dropout': 0.4287149120870558, 'learning_rate': 0.00998342490815856, 'weight_decay': 0.00038362017159523286, 'optimizer': 'adam', 'activation': 'tanh'}. Best is trial 59 with value: 660.7769165039062.\n"
     ]
    },
    {
     "name": "stderr",
     "output_type": "stream",
     "text": [
      "GPU available: True (cuda), used: True\n",
      "TPU available: False, using: 0 TPU cores\n",
      "HPU available: False, using: 0 HPUs\n",
      "LOCAL_RANK: 0 - CUDA_VISIBLE_DEVICES: [0]\n",
      "\n",
      "  | Name           | Type                  | Params | Mode \n",
      "-----------------------------------------------------------------\n",
      "0 | auto_encoder   | CancerDataAutoEncoder | 2.0 M  | train\n",
      "1 | neural_network | SimpleNN              | 666 K  | train\n",
      "2 | loss_metric    | MeanSquaredError      | 0      | train\n",
      "3 | val_metric     | MeanSquaredError      | 0      | train\n",
      "4 | test_metric    | MeanSquaredError      | 0      | train\n",
      "-----------------------------------------------------------------\n",
      "666 K     Trainable params\n",
      "2.0 M     Non-trainable params\n",
      "2.7 M     Total params\n",
      "10.677    Total estimated model params size (MB)\n",
      "66        Modules in train mode\n",
      "0         Modules in eval mode\n"
     ]
    },
    {
     "name": "stdout",
     "output_type": "stream",
     "text": [
      "[I 2025-04-18 13:42:29,597] Trial 75 finished with value: 1001.29931640625 and parameters: {'n_layers': 10, 'dropout': 0.32189387713811296, 'learning_rate': 0.006833244069834348, 'weight_decay': 0.004497621527092072, 'optimizer': 'adagrad', 'activation': 'tanh'}. Best is trial 59 with value: 660.7769165039062.\n"
     ]
    },
    {
     "name": "stderr",
     "output_type": "stream",
     "text": [
      "GPU available: True (cuda), used: True\n",
      "TPU available: False, using: 0 TPU cores\n",
      "HPU available: False, using: 0 HPUs\n",
      "LOCAL_RANK: 0 - CUDA_VISIBLE_DEVICES: [0]\n",
      "\n",
      "  | Name           | Type                  | Params | Mode \n",
      "-----------------------------------------------------------------\n",
      "0 | auto_encoder   | CancerDataAutoEncoder | 2.0 M  | train\n",
      "1 | neural_network | SimpleNN              | 666 K  | train\n",
      "2 | loss_metric    | MeanSquaredError      | 0      | train\n",
      "3 | val_metric     | MeanSquaredError      | 0      | train\n",
      "4 | test_metric    | MeanSquaredError      | 0      | train\n",
      "-----------------------------------------------------------------\n",
      "666 K     Trainable params\n",
      "2.0 M     Non-trainable params\n",
      "2.7 M     Total params\n",
      "10.678    Total estimated model params size (MB)\n",
      "70        Modules in train mode\n",
      "0         Modules in eval mode\n"
     ]
    },
    {
     "name": "stdout",
     "output_type": "stream",
     "text": [
      "[I 2025-04-18 13:44:01,437] Trial 76 finished with value: 690.6080932617188 and parameters: {'n_layers': 11, 'dropout': 0.4596430104415735, 'learning_rate': 0.0030858682425458136, 'weight_decay': 0.00028351923741569613, 'optimizer': 'adam', 'activation': 'RReLU'}. Best is trial 59 with value: 660.7769165039062.\n"
     ]
    },
    {
     "name": "stderr",
     "output_type": "stream",
     "text": [
      "GPU available: True (cuda), used: True\n",
      "TPU available: False, using: 0 TPU cores\n",
      "HPU available: False, using: 0 HPUs\n",
      "LOCAL_RANK: 0 - CUDA_VISIBLE_DEVICES: [0]\n",
      "\n",
      "  | Name           | Type                  | Params | Mode \n",
      "-----------------------------------------------------------------\n",
      "0 | auto_encoder   | CancerDataAutoEncoder | 2.0 M  | train\n",
      "1 | neural_network | SimpleNN              | 167 K  | train\n",
      "2 | loss_metric    | MeanSquaredError      | 0      | train\n",
      "3 | val_metric     | MeanSquaredError      | 0      | train\n",
      "4 | test_metric    | MeanSquaredError      | 0      | train\n",
      "-----------------------------------------------------------------\n",
      "167 K     Trainable params\n",
      "2.0 M     Non-trainable params\n",
      "2.2 M     Total params\n",
      "8.681     Total estimated model params size (MB)\n",
      "58        Modules in train mode\n",
      "0         Modules in eval mode\n"
     ]
    },
    {
     "name": "stdout",
     "output_type": "stream",
     "text": [
      "[I 2025-04-18 13:45:26,860] Trial 77 finished with value: 676.3429565429688 and parameters: {'n_layers': 8, 'dropout': 0.3913651614655025, 'learning_rate': 0.004358066119636578, 'weight_decay': 0.007147625890673455, 'optimizer': 'adam', 'activation': 'tanh'}. Best is trial 59 with value: 660.7769165039062.\n"
     ]
    },
    {
     "name": "stderr",
     "output_type": "stream",
     "text": [
      "GPU available: True (cuda), used: True\n",
      "TPU available: False, using: 0 TPU cores\n",
      "HPU available: False, using: 0 HPUs\n",
      "LOCAL_RANK: 0 - CUDA_VISIBLE_DEVICES: [0]\n",
      "\n",
      "  | Name           | Type                  | Params | Mode \n",
      "-----------------------------------------------------------------\n",
      "0 | auto_encoder   | CancerDataAutoEncoder | 2.0 M  | train\n",
      "1 | neural_network | SimpleNN              | 666 K  | train\n",
      "2 | loss_metric    | MeanSquaredError      | 0      | train\n",
      "3 | val_metric     | MeanSquaredError      | 0      | train\n",
      "4 | test_metric    | MeanSquaredError      | 0      | train\n",
      "-----------------------------------------------------------------\n",
      "666 K     Trainable params\n",
      "2.0 M     Non-trainable params\n",
      "2.7 M     Total params\n",
      "10.677    Total estimated model params size (MB)\n",
      "66        Modules in train mode\n",
      "0         Modules in eval mode\n"
     ]
    },
    {
     "name": "stdout",
     "output_type": "stream",
     "text": [
      "[I 2025-04-18 13:46:29,756] Trial 78 finished with value: 672.9891967773438 and parameters: {'n_layers': 10, 'dropout': 0.35036027391495367, 'learning_rate': 0.008276248661597251, 'weight_decay': 0.0005318502832652176, 'optimizer': 'adam', 'activation': 'tanh'}. Best is trial 59 with value: 660.7769165039062.\n"
     ]
    },
    {
     "name": "stderr",
     "output_type": "stream",
     "text": [
      "GPU available: True (cuda), used: True\n",
      "TPU available: False, using: 0 TPU cores\n",
      "HPU available: False, using: 0 HPUs\n",
      "LOCAL_RANK: 0 - CUDA_VISIBLE_DEVICES: [0]\n",
      "\n",
      "  | Name           | Type                  | Params | Mode \n",
      "-----------------------------------------------------------------\n",
      "0 | auto_encoder   | CancerDataAutoEncoder | 2.0 M  | train\n",
      "1 | neural_network | SimpleNN              | 167 K  | train\n",
      "2 | loss_metric    | MeanSquaredError      | 0      | train\n",
      "3 | val_metric     | MeanSquaredError      | 0      | train\n",
      "4 | test_metric    | MeanSquaredError      | 0      | train\n",
      "-----------------------------------------------------------------\n",
      "167 K     Trainable params\n",
      "2.0 M     Non-trainable params\n",
      "2.2 M     Total params\n",
      "8.682     Total estimated model params size (MB)\n",
      "62        Modules in train mode\n",
      "0         Modules in eval mode\n"
     ]
    },
    {
     "name": "stdout",
     "output_type": "stream",
     "text": [
      "[I 2025-04-18 13:48:04,578] Trial 79 finished with value: 681.376708984375 and parameters: {'n_layers': 9, 'dropout': 0.4442925269975985, 'learning_rate': 0.0063281040582573184, 'weight_decay': 0.0031823713781503533, 'optimizer': 'adam', 'activation': 'tanh'}. Best is trial 59 with value: 660.7769165039062.\n"
     ]
    },
    {
     "name": "stderr",
     "output_type": "stream",
     "text": [
      "GPU available: True (cuda), used: True\n",
      "TPU available: False, using: 0 TPU cores\n",
      "HPU available: False, using: 0 HPUs\n",
      "LOCAL_RANK: 0 - CUDA_VISIBLE_DEVICES: [0]\n",
      "\n",
      "  | Name           | Type                  | Params | Mode \n",
      "-----------------------------------------------------------------\n",
      "0 | auto_encoder   | CancerDataAutoEncoder | 2.0 M  | train\n",
      "1 | neural_network | SimpleNN              | 167 K  | train\n",
      "2 | loss_metric    | MeanSquaredError      | 0      | train\n",
      "3 | val_metric     | MeanSquaredError      | 0      | train\n",
      "4 | test_metric    | MeanSquaredError      | 0      | train\n",
      "-----------------------------------------------------------------\n",
      "167 K     Trainable params\n",
      "2.0 M     Non-trainable params\n",
      "2.2 M     Total params\n",
      "8.682     Total estimated model params size (MB)\n",
      "62        Modules in train mode\n",
      "0         Modules in eval mode\n"
     ]
    },
    {
     "name": "stdout",
     "output_type": "stream",
     "text": [
      "[I 2025-04-18 13:48:51,380] Trial 80 finished with value: 699.1767578125 and parameters: {'n_layers': 9, 'dropout': 0.37262734296425915, 'learning_rate': 0.005245493912264058, 'weight_decay': 0.00135460310242813, 'optimizer': 'adam', 'activation': 'relu'}. Best is trial 59 with value: 660.7769165039062.\n"
     ]
    },
    {
     "name": "stderr",
     "output_type": "stream",
     "text": [
      "GPU available: True (cuda), used: True\n",
      "TPU available: False, using: 0 TPU cores\n",
      "HPU available: False, using: 0 HPUs\n",
      "LOCAL_RANK: 0 - CUDA_VISIBLE_DEVICES: [0]\n",
      "\n",
      "  | Name           | Type                  | Params | Mode \n",
      "-----------------------------------------------------------------\n",
      "0 | auto_encoder   | CancerDataAutoEncoder | 2.0 M  | train\n",
      "1 | neural_network | SimpleNN              | 2.7 M  | train\n",
      "2 | loss_metric    | MeanSquaredError      | 0      | train\n",
      "3 | val_metric     | MeanSquaredError      | 0      | train\n",
      "4 | test_metric    | MeanSquaredError      | 0      | train\n",
      "-----------------------------------------------------------------\n",
      "2.7 M     Trainable params\n",
      "2.0 M     Non-trainable params\n",
      "4.7 M     Total params\n",
      "18.633    Total estimated model params size (MB)\n",
      "78        Modules in train mode\n",
      "0         Modules in eval mode\n"
     ]
    },
    {
     "name": "stdout",
     "output_type": "stream",
     "text": [
      "[I 2025-04-18 13:51:01,933] Trial 81 finished with value: 678.0618286132812 and parameters: {'n_layers': 13, 'dropout': 0.3703460818127535, 'learning_rate': 0.00383142670879167, 'weight_decay': 0.00026512904564243993, 'optimizer': 'adam', 'activation': 'RReLU'}. Best is trial 59 with value: 660.7769165039062.\n"
     ]
    },
    {
     "name": "stderr",
     "output_type": "stream",
     "text": [
      "GPU available: True (cuda), used: True\n",
      "TPU available: False, using: 0 TPU cores\n",
      "HPU available: False, using: 0 HPUs\n",
      "LOCAL_RANK: 0 - CUDA_VISIBLE_DEVICES: [0]\n",
      "\n",
      "  | Name           | Type                  | Params | Mode \n",
      "-----------------------------------------------------------------\n",
      "0 | auto_encoder   | CancerDataAutoEncoder | 2.0 M  | train\n",
      "1 | neural_network | SimpleNN              | 2.7 M  | train\n",
      "2 | loss_metric    | MeanSquaredError      | 0      | train\n",
      "3 | val_metric     | MeanSquaredError      | 0      | train\n",
      "4 | test_metric    | MeanSquaredError      | 0      | train\n",
      "-----------------------------------------------------------------\n",
      "2.7 M     Trainable params\n",
      "2.0 M     Non-trainable params\n",
      "4.7 M     Total params\n",
      "18.632    Total estimated model params size (MB)\n",
      "74        Modules in train mode\n",
      "0         Modules in eval mode\n"
     ]
    },
    {
     "name": "stdout",
     "output_type": "stream",
     "text": [
      "[I 2025-04-18 13:52:19,478] Trial 82 finished with value: 682.8837890625 and parameters: {'n_layers': 12, 'dropout': 0.3503370821354513, 'learning_rate': 0.003971089761117032, 'weight_decay': 0.0001824466288636749, 'optimizer': 'adam', 'activation': 'RReLU'}. Best is trial 59 with value: 660.7769165039062.\n"
     ]
    },
    {
     "name": "stderr",
     "output_type": "stream",
     "text": [
      "GPU available: True (cuda), used: True\n",
      "TPU available: False, using: 0 TPU cores\n",
      "HPU available: False, using: 0 HPUs\n",
      "LOCAL_RANK: 0 - CUDA_VISIBLE_DEVICES: [0]\n",
      "\n",
      "  | Name           | Type                  | Params | Mode \n",
      "-----------------------------------------------------------------\n",
      "0 | auto_encoder   | CancerDataAutoEncoder | 2.0 M  | train\n",
      "1 | neural_network | SimpleNN              | 2.7 M  | train\n",
      "2 | loss_metric    | MeanSquaredError      | 0      | train\n",
      "3 | val_metric     | MeanSquaredError      | 0      | train\n",
      "4 | test_metric    | MeanSquaredError      | 0      | train\n",
      "-----------------------------------------------------------------\n",
      "2.7 M     Trainable params\n",
      "2.0 M     Non-trainable params\n",
      "4.7 M     Total params\n",
      "18.633    Total estimated model params size (MB)\n",
      "78        Modules in train mode\n",
      "0         Modules in eval mode\n"
     ]
    },
    {
     "name": "stdout",
     "output_type": "stream",
     "text": [
      "[I 2025-04-18 13:54:53,015] Trial 83 finished with value: 735.0716552734375 and parameters: {'n_layers': 13, 'dropout': 0.31796467911389914, 'learning_rate': 0.001701277957506163, 'weight_decay': 0.0006553492646069242, 'optimizer': 'adam', 'activation': 'RReLU'}. Best is trial 59 with value: 660.7769165039062.\n"
     ]
    },
    {
     "name": "stderr",
     "output_type": "stream",
     "text": [
      "GPU available: True (cuda), used: True\n",
      "TPU available: False, using: 0 TPU cores\n",
      "HPU available: False, using: 0 HPUs\n",
      "LOCAL_RANK: 0 - CUDA_VISIBLE_DEVICES: [0]\n",
      "\n",
      "  | Name           | Type                  | Params | Mode \n",
      "-----------------------------------------------------------------\n",
      "0 | auto_encoder   | CancerDataAutoEncoder | 2.0 M  | train\n",
      "1 | neural_network | SimpleNN              | 2.7 M  | train\n",
      "2 | loss_metric    | MeanSquaredError      | 0      | train\n",
      "3 | val_metric     | MeanSquaredError      | 0      | train\n",
      "4 | test_metric    | MeanSquaredError      | 0      | train\n",
      "-----------------------------------------------------------------\n",
      "2.7 M     Trainable params\n",
      "2.0 M     Non-trainable params\n",
      "4.7 M     Total params\n",
      "18.633    Total estimated model params size (MB)\n",
      "78        Modules in train mode\n",
      "0         Modules in eval mode\n"
     ]
    },
    {
     "name": "stdout",
     "output_type": "stream",
     "text": [
      "[I 2025-04-18 13:56:28,127] Trial 84 finished with value: 678.6127319335938 and parameters: {'n_layers': 13, 'dropout': 0.48720814410878244, 'learning_rate': 0.008187789771886425, 'weight_decay': 9.913885463728722e-05, 'optimizer': 'adam', 'activation': 'tanh'}. Best is trial 59 with value: 660.7769165039062.\n"
     ]
    },
    {
     "name": "stderr",
     "output_type": "stream",
     "text": [
      "GPU available: True (cuda), used: True\n",
      "TPU available: False, using: 0 TPU cores\n",
      "HPU available: False, using: 0 HPUs\n",
      "LOCAL_RANK: 0 - CUDA_VISIBLE_DEVICES: [0]\n",
      "\n",
      "  | Name           | Type                  | Params | Mode \n",
      "-----------------------------------------------------------------\n",
      "0 | auto_encoder   | CancerDataAutoEncoder | 2.0 M  | train\n",
      "1 | neural_network | SimpleNN              | 666 K  | train\n",
      "2 | loss_metric    | MeanSquaredError      | 0      | train\n",
      "3 | val_metric     | MeanSquaredError      | 0      | train\n",
      "4 | test_metric    | MeanSquaredError      | 0      | train\n",
      "-----------------------------------------------------------------\n",
      "666 K     Trainable params\n",
      "2.0 M     Non-trainable params\n",
      "2.7 M     Total params\n",
      "10.678    Total estimated model params size (MB)\n",
      "70        Modules in train mode\n",
      "0         Modules in eval mode\n"
     ]
    },
    {
     "name": "stdout",
     "output_type": "stream",
     "text": [
      "[I 2025-04-18 13:56:59,481] Trial 85 finished with value: 1022.1161499023438 and parameters: {'n_layers': 11, 'dropout': 0.4099038819851211, 'learning_rate': 0.0045090525206475576, 'weight_decay': 0.0002732845288906005, 'optimizer': 'adagrad', 'activation': 'RReLU'}. Best is trial 59 with value: 660.7769165039062.\n"
     ]
    },
    {
     "name": "stderr",
     "output_type": "stream",
     "text": [
      "GPU available: True (cuda), used: True\n",
      "TPU available: False, using: 0 TPU cores\n",
      "HPU available: False, using: 0 HPUs\n",
      "LOCAL_RANK: 0 - CUDA_VISIBLE_DEVICES: [0]\n",
      "\n",
      "  | Name           | Type                  | Params | Mode \n",
      "-----------------------------------------------------------------\n",
      "0 | auto_encoder   | CancerDataAutoEncoder | 2.0 M  | train\n",
      "1 | neural_network | SimpleNN              | 666 K  | train\n",
      "2 | loss_metric    | MeanSquaredError      | 0      | train\n",
      "3 | val_metric     | MeanSquaredError      | 0      | train\n",
      "4 | test_metric    | MeanSquaredError      | 0      | train\n",
      "-----------------------------------------------------------------\n",
      "666 K     Trainable params\n",
      "2.0 M     Non-trainable params\n",
      "2.7 M     Total params\n",
      "10.677    Total estimated model params size (MB)\n",
      "66        Modules in train mode\n",
      "0         Modules in eval mode\n"
     ]
    },
    {
     "name": "stdout",
     "output_type": "stream",
     "text": [
      "[I 2025-04-18 13:57:43,065] Trial 86 finished with value: 1018.7026977539062 and parameters: {'n_layers': 10, 'dropout': 0.35746348634147274, 'learning_rate': 0.00015856011588128392, 'weight_decay': 0.00046689477945800745, 'optimizer': 'adam', 'activation': 'RReLU'}. Best is trial 59 with value: 660.7769165039062.\n"
     ]
    },
    {
     "name": "stderr",
     "output_type": "stream",
     "text": [
      "GPU available: True (cuda), used: True\n",
      "TPU available: False, using: 0 TPU cores\n",
      "HPU available: False, using: 0 HPUs\n",
      "LOCAL_RANK: 0 - CUDA_VISIBLE_DEVICES: [0]\n",
      "\n",
      "  | Name           | Type                  | Params | Mode \n",
      "-----------------------------------------------------------------\n",
      "0 | auto_encoder   | CancerDataAutoEncoder | 2.0 M  | train\n",
      "1 | neural_network | SimpleNN              | 10.6 M | train\n",
      "2 | loss_metric    | MeanSquaredError      | 0      | train\n",
      "3 | val_metric     | MeanSquaredError      | 0      | train\n",
      "4 | test_metric    | MeanSquaredError      | 0      | train\n",
      "-----------------------------------------------------------------\n",
      "10.6 M    Trainable params\n",
      "2.0 M     Non-trainable params\n",
      "12.6 M    Total params\n",
      "50.403    Total estimated model params size (MB)\n",
      "86        Modules in train mode\n",
      "0         Modules in eval mode\n"
     ]
    },
    {
     "name": "stdout",
     "output_type": "stream",
     "text": [
      "[I 2025-04-18 14:00:05,266] Trial 87 finished with value: 668.779541015625 and parameters: {'n_layers': 15, 'dropout': 0.4629153202661607, 'learning_rate': 0.00652380183271844, 'weight_decay': 0.00022134278038363876, 'optimizer': 'adam', 'activation': 'tanh'}. Best is trial 59 with value: 660.7769165039062.\n"
     ]
    },
    {
     "name": "stderr",
     "output_type": "stream",
     "text": [
      "GPU available: True (cuda), used: True\n",
      "TPU available: False, using: 0 TPU cores\n",
      "HPU available: False, using: 0 HPUs\n",
      "LOCAL_RANK: 0 - CUDA_VISIBLE_DEVICES: [0]\n",
      "\n",
      "  | Name           | Type                  | Params | Mode \n",
      "-----------------------------------------------------------------\n",
      "0 | auto_encoder   | CancerDataAutoEncoder | 2.0 M  | train\n",
      "1 | neural_network | SimpleNN              | 167 K  | train\n",
      "2 | loss_metric    | MeanSquaredError      | 0      | train\n",
      "3 | val_metric     | MeanSquaredError      | 0      | train\n",
      "4 | test_metric    | MeanSquaredError      | 0      | train\n",
      "-----------------------------------------------------------------\n",
      "167 K     Trainable params\n",
      "2.0 M     Non-trainable params\n",
      "2.2 M     Total params\n",
      "8.682     Total estimated model params size (MB)\n",
      "62        Modules in train mode\n",
      "0         Modules in eval mode\n"
     ]
    },
    {
     "name": "stdout",
     "output_type": "stream",
     "text": [
      "[I 2025-04-18 14:01:47,842] Trial 88 finished with value: 677.75927734375 and parameters: {'n_layers': 9, 'dropout': 0.4693191256122619, 'learning_rate': 0.006557764354239856, 'weight_decay': 0.0003568466374166865, 'optimizer': 'adam', 'activation': 'tanh'}. Best is trial 59 with value: 660.7769165039062.\n"
     ]
    },
    {
     "name": "stderr",
     "output_type": "stream",
     "text": [
      "GPU available: True (cuda), used: True\n",
      "TPU available: False, using: 0 TPU cores\n",
      "HPU available: False, using: 0 HPUs\n",
      "LOCAL_RANK: 0 - CUDA_VISIBLE_DEVICES: [0]\n",
      "\n",
      "  | Name           | Type                  | Params | Mode \n",
      "-----------------------------------------------------------------\n",
      "0 | auto_encoder   | CancerDataAutoEncoder | 2.0 M  | train\n",
      "1 | neural_network | SimpleNN              | 10.6 M | train\n",
      "2 | loss_metric    | MeanSquaredError      | 0      | train\n",
      "3 | val_metric     | MeanSquaredError      | 0      | train\n",
      "4 | test_metric    | MeanSquaredError      | 0      | train\n",
      "-----------------------------------------------------------------\n",
      "10.6 M    Trainable params\n",
      "2.0 M     Non-trainable params\n",
      "12.6 M    Total params\n",
      "50.402    Total estimated model params size (MB)\n",
      "82        Modules in train mode\n",
      "0         Modules in eval mode\n"
     ]
    },
    {
     "name": "stdout",
     "output_type": "stream",
     "text": [
      "[I 2025-04-18 14:02:49,443] Trial 89 finished with value: 667.768798828125 and parameters: {'n_layers': 14, 'dropout': 0.21586462490381023, 'learning_rate': 0.008666366238240434, 'weight_decay': 0.00015411064169266276, 'optimizer': 'adam', 'activation': 'tanh'}. Best is trial 59 with value: 660.7769165039062.\n"
     ]
    },
    {
     "name": "stderr",
     "output_type": "stream",
     "text": [
      "GPU available: True (cuda), used: True\n",
      "TPU available: False, using: 0 TPU cores\n",
      "HPU available: False, using: 0 HPUs\n",
      "LOCAL_RANK: 0 - CUDA_VISIBLE_DEVICES: [0]\n",
      "\n",
      "  | Name           | Type                  | Params | Mode \n",
      "-----------------------------------------------------------------\n",
      "0 | auto_encoder   | CancerDataAutoEncoder | 2.0 M  | train\n",
      "1 | neural_network | SimpleNN              | 10.6 M | train\n",
      "2 | loss_metric    | MeanSquaredError      | 0      | train\n",
      "3 | val_metric     | MeanSquaredError      | 0      | train\n",
      "4 | test_metric    | MeanSquaredError      | 0      | train\n",
      "-----------------------------------------------------------------\n",
      "10.6 M    Trainable params\n",
      "2.0 M     Non-trainable params\n",
      "12.6 M    Total params\n",
      "50.403    Total estimated model params size (MB)\n",
      "86        Modules in train mode\n",
      "0         Modules in eval mode\n"
     ]
    },
    {
     "name": "stdout",
     "output_type": "stream",
     "text": [
      "[I 2025-04-18 14:06:20,451] Trial 90 finished with value: 671.4595947265625 and parameters: {'n_layers': 15, 'dropout': 0.218864991636532, 'learning_rate': 0.0032897711428371947, 'weight_decay': 7.606245189888797e-05, 'optimizer': 'adam', 'activation': 'tanh'}. Best is trial 59 with value: 660.7769165039062.\n"
     ]
    },
    {
     "name": "stderr",
     "output_type": "stream",
     "text": [
      "GPU available: True (cuda), used: True\n",
      "TPU available: False, using: 0 TPU cores\n",
      "HPU available: False, using: 0 HPUs\n",
      "LOCAL_RANK: 0 - CUDA_VISIBLE_DEVICES: [0]\n",
      "\n",
      "  | Name           | Type                  | Params | Mode \n",
      "-----------------------------------------------------------------\n",
      "0 | auto_encoder   | CancerDataAutoEncoder | 2.0 M  | train\n",
      "1 | neural_network | SimpleNN              | 10.6 M | train\n",
      "2 | loss_metric    | MeanSquaredError      | 0      | train\n",
      "3 | val_metric     | MeanSquaredError      | 0      | train\n",
      "4 | test_metric    | MeanSquaredError      | 0      | train\n",
      "-----------------------------------------------------------------\n",
      "10.6 M    Trainable params\n",
      "2.0 M     Non-trainable params\n",
      "12.6 M    Total params\n",
      "50.403    Total estimated model params size (MB)\n",
      "86        Modules in train mode\n",
      "0         Modules in eval mode\n"
     ]
    },
    {
     "name": "stdout",
     "output_type": "stream",
     "text": [
      "[I 2025-04-18 14:07:43,769] Trial 91 finished with value: 673.3624267578125 and parameters: {'n_layers': 15, 'dropout': 0.20142121635731958, 'learning_rate': 0.008543999946358391, 'weight_decay': 0.00022888662094354883, 'optimizer': 'adam', 'activation': 'tanh'}. Best is trial 59 with value: 660.7769165039062.\n"
     ]
    },
    {
     "name": "stderr",
     "output_type": "stream",
     "text": [
      "GPU available: True (cuda), used: True\n",
      "TPU available: False, using: 0 TPU cores\n",
      "HPU available: False, using: 0 HPUs\n",
      "LOCAL_RANK: 0 - CUDA_VISIBLE_DEVICES: [0]\n",
      "\n",
      "  | Name           | Type                  | Params | Mode \n",
      "-----------------------------------------------------------------\n",
      "0 | auto_encoder   | CancerDataAutoEncoder | 2.0 M  | train\n",
      "1 | neural_network | SimpleNN              | 10.6 M | train\n",
      "2 | loss_metric    | MeanSquaredError      | 0      | train\n",
      "3 | val_metric     | MeanSquaredError      | 0      | train\n",
      "4 | test_metric    | MeanSquaredError      | 0      | train\n",
      "-----------------------------------------------------------------\n",
      "10.6 M    Trainable params\n",
      "2.0 M     Non-trainable params\n",
      "12.6 M    Total params\n",
      "50.402    Total estimated model params size (MB)\n",
      "82        Modules in train mode\n",
      "0         Modules in eval mode\n"
     ]
    },
    {
     "name": "stdout",
     "output_type": "stream",
     "text": [
      "[I 2025-04-18 14:09:07,831] Trial 92 finished with value: 670.4902954101562 and parameters: {'n_layers': 14, 'dropout': 0.4877475528764311, 'learning_rate': 0.005334668002887266, 'weight_decay': 0.00016654494823609983, 'optimizer': 'adam', 'activation': 'tanh'}. Best is trial 59 with value: 660.7769165039062.\n"
     ]
    },
    {
     "name": "stderr",
     "output_type": "stream",
     "text": [
      "GPU available: True (cuda), used: True\n",
      "TPU available: False, using: 0 TPU cores\n",
      "HPU available: False, using: 0 HPUs\n",
      "LOCAL_RANK: 0 - CUDA_VISIBLE_DEVICES: [0]\n",
      "\n",
      "  | Name           | Type                  | Params | Mode \n",
      "-----------------------------------------------------------------\n",
      "0 | auto_encoder   | CancerDataAutoEncoder | 2.0 M  | train\n",
      "1 | neural_network | SimpleNN              | 10.6 M | train\n",
      "2 | loss_metric    | MeanSquaredError      | 0      | train\n",
      "3 | val_metric     | MeanSquaredError      | 0      | train\n",
      "4 | test_metric    | MeanSquaredError      | 0      | train\n",
      "-----------------------------------------------------------------\n",
      "10.6 M    Trainable params\n",
      "2.0 M     Non-trainable params\n",
      "12.6 M    Total params\n",
      "50.402    Total estimated model params size (MB)\n",
      "82        Modules in train mode\n",
      "0         Modules in eval mode\n"
     ]
    },
    {
     "name": "stdout",
     "output_type": "stream",
     "text": [
      "[I 2025-04-18 14:10:42,000] Trial 93 finished with value: 684.1625366210938 and parameters: {'n_layers': 14, 'dropout': 0.4887616370198075, 'learning_rate': 0.005599004524959183, 'weight_decay': 0.00016016087918078065, 'optimizer': 'adam', 'activation': 'tanh'}. Best is trial 59 with value: 660.7769165039062.\n"
     ]
    },
    {
     "name": "stderr",
     "output_type": "stream",
     "text": [
      "GPU available: True (cuda), used: True\n",
      "TPU available: False, using: 0 TPU cores\n",
      "HPU available: False, using: 0 HPUs\n",
      "LOCAL_RANK: 0 - CUDA_VISIBLE_DEVICES: [0]\n",
      "\n",
      "  | Name           | Type                  | Params | Mode \n",
      "-----------------------------------------------------------------\n",
      "0 | auto_encoder   | CancerDataAutoEncoder | 2.0 M  | train\n",
      "1 | neural_network | SimpleNN              | 10.6 M | train\n",
      "2 | loss_metric    | MeanSquaredError      | 0      | train\n",
      "3 | val_metric     | MeanSquaredError      | 0      | train\n",
      "4 | test_metric    | MeanSquaredError      | 0      | train\n",
      "-----------------------------------------------------------------\n",
      "10.6 M    Trainable params\n",
      "2.0 M     Non-trainable params\n",
      "12.6 M    Total params\n",
      "50.402    Total estimated model params size (MB)\n",
      "82        Modules in train mode\n",
      "0         Modules in eval mode\n"
     ]
    },
    {
     "name": "stdout",
     "output_type": "stream",
     "text": [
      "[I 2025-04-18 14:11:56,519] Trial 94 finished with value: 674.8167724609375 and parameters: {'n_layers': 14, 'dropout': 0.4536992079634403, 'learning_rate': 0.00672888385424704, 'weight_decay': 8.86810616634417e-05, 'optimizer': 'adam', 'activation': 'tanh'}. Best is trial 59 with value: 660.7769165039062.\n"
     ]
    },
    {
     "name": "stderr",
     "output_type": "stream",
     "text": [
      "GPU available: True (cuda), used: True\n",
      "TPU available: False, using: 0 TPU cores\n",
      "HPU available: False, using: 0 HPUs\n",
      "LOCAL_RANK: 0 - CUDA_VISIBLE_DEVICES: [0]\n",
      "\n",
      "  | Name           | Type                  | Params | Mode \n",
      "-----------------------------------------------------------------\n",
      "0 | auto_encoder   | CancerDataAutoEncoder | 2.0 M  | train\n",
      "1 | neural_network | SimpleNN              | 10.6 M | train\n",
      "2 | loss_metric    | MeanSquaredError      | 0      | train\n",
      "3 | val_metric     | MeanSquaredError      | 0      | train\n",
      "4 | test_metric    | MeanSquaredError      | 0      | train\n",
      "-----------------------------------------------------------------\n",
      "10.6 M    Trainable params\n",
      "2.0 M     Non-trainable params\n",
      "12.6 M    Total params\n",
      "50.403    Total estimated model params size (MB)\n",
      "86        Modules in train mode\n",
      "0         Modules in eval mode\n"
     ]
    },
    {
     "name": "stdout",
     "output_type": "stream",
     "text": [
      "[I 2025-04-18 14:14:53,289] Trial 95 finished with value: 673.0825805664062 and parameters: {'n_layers': 15, 'dropout': 0.43415671449383636, 'learning_rate': 0.0026682242230530936, 'weight_decay': 0.00019867717886802613, 'optimizer': 'adam', 'activation': 'tanh'}. Best is trial 59 with value: 660.7769165039062.\n"
     ]
    },
    {
     "name": "stderr",
     "output_type": "stream",
     "text": [
      "GPU available: True (cuda), used: True\n",
      "TPU available: False, using: 0 TPU cores\n",
      "HPU available: False, using: 0 HPUs\n",
      "LOCAL_RANK: 0 - CUDA_VISIBLE_DEVICES: [0]\n",
      "\n",
      "  | Name           | Type                  | Params | Mode \n",
      "-----------------------------------------------------------------\n",
      "0 | auto_encoder   | CancerDataAutoEncoder | 2.0 M  | train\n",
      "1 | neural_network | SimpleNN              | 10.6 M | train\n",
      "2 | loss_metric    | MeanSquaredError      | 0      | train\n",
      "3 | val_metric     | MeanSquaredError      | 0      | train\n",
      "4 | test_metric    | MeanSquaredError      | 0      | train\n",
      "-----------------------------------------------------------------\n",
      "10.6 M    Trainable params\n",
      "2.0 M     Non-trainable params\n",
      "12.6 M    Total params\n",
      "50.402    Total estimated model params size (MB)\n",
      "82        Modules in train mode\n",
      "0         Modules in eval mode\n"
     ]
    },
    {
     "name": "stdout",
     "output_type": "stream",
     "text": [
      "[I 2025-04-18 14:15:21,550] Trial 96 finished with value: 1026.092041015625 and parameters: {'n_layers': 14, 'dropout': 0.14032487591018256, 'learning_rate': 0.005013693482541453, 'weight_decay': 0.00011897294225952155, 'optimizer': 'adagrad', 'activation': 'tanh'}. Best is trial 59 with value: 660.7769165039062.\n"
     ]
    },
    {
     "name": "stderr",
     "output_type": "stream",
     "text": [
      "GPU available: True (cuda), used: True\n",
      "TPU available: False, using: 0 TPU cores\n",
      "HPU available: False, using: 0 HPUs\n",
      "LOCAL_RANK: 0 - CUDA_VISIBLE_DEVICES: [0]\n",
      "\n",
      "  | Name           | Type                  | Params | Mode \n",
      "-----------------------------------------------------------------\n",
      "0 | auto_encoder   | CancerDataAutoEncoder | 2.0 M  | train\n",
      "1 | neural_network | SimpleNN              | 10.6 M | train\n",
      "2 | loss_metric    | MeanSquaredError      | 0      | train\n",
      "3 | val_metric     | MeanSquaredError      | 0      | train\n",
      "4 | test_metric    | MeanSquaredError      | 0      | train\n",
      "-----------------------------------------------------------------\n",
      "10.6 M    Trainable params\n",
      "2.0 M     Non-trainable params\n",
      "12.6 M    Total params\n",
      "50.403    Total estimated model params size (MB)\n",
      "86        Modules in train mode\n",
      "0         Modules in eval mode\n"
     ]
    },
    {
     "name": "stdout",
     "output_type": "stream",
     "text": [
      "[I 2025-04-18 14:15:59,168] Trial 97 finished with value: 1027.1849365234375 and parameters: {'n_layers': 15, 'dropout': 0.2183552413476363, 'learning_rate': 5.34206882136975e-05, 'weight_decay': 0.00014983205299639012, 'optimizer': 'adam', 'activation': 'tanh'}. Best is trial 59 with value: 660.7769165039062.\n"
     ]
    },
    {
     "name": "stderr",
     "output_type": "stream",
     "text": [
      "GPU available: True (cuda), used: True\n",
      "TPU available: False, using: 0 TPU cores\n",
      "HPU available: False, using: 0 HPUs\n",
      "LOCAL_RANK: 0 - CUDA_VISIBLE_DEVICES: [0]\n",
      "\n",
      "  | Name           | Type                  | Params | Mode \n",
      "-----------------------------------------------------------------\n",
      "0 | auto_encoder   | CancerDataAutoEncoder | 2.0 M  | train\n",
      "1 | neural_network | SimpleNN              | 10.6 M | train\n",
      "2 | loss_metric    | MeanSquaredError      | 0      | train\n",
      "3 | val_metric     | MeanSquaredError      | 0      | train\n",
      "4 | test_metric    | MeanSquaredError      | 0      | train\n",
      "-----------------------------------------------------------------\n",
      "10.6 M    Trainable params\n",
      "2.0 M     Non-trainable params\n",
      "12.6 M    Total params\n",
      "50.402    Total estimated model params size (MB)\n",
      "82        Modules in train mode\n",
      "0         Modules in eval mode\n"
     ]
    },
    {
     "name": "stdout",
     "output_type": "stream",
     "text": [
      "[I 2025-04-18 14:16:56,045] Trial 98 finished with value: 677.90283203125 and parameters: {'n_layers': 14, 'dropout': 0.49942078919694965, 'learning_rate': 0.0073416646469580986, 'weight_decay': 0.00021257122414268198, 'optimizer': 'adam', 'activation': 'tanh'}. Best is trial 59 with value: 660.7769165039062.\n"
     ]
    },
    {
     "name": "stderr",
     "output_type": "stream",
     "text": [
      "GPU available: True (cuda), used: True\n",
      "TPU available: False, using: 0 TPU cores\n",
      "HPU available: False, using: 0 HPUs\n",
      "LOCAL_RANK: 0 - CUDA_VISIBLE_DEVICES: [0]\n",
      "\n",
      "  | Name           | Type                  | Params | Mode \n",
      "-----------------------------------------------------------------\n",
      "0 | auto_encoder   | CancerDataAutoEncoder | 2.0 M  | train\n",
      "1 | neural_network | SimpleNN              | 10.6 M | train\n",
      "2 | loss_metric    | MeanSquaredError      | 0      | train\n",
      "3 | val_metric     | MeanSquaredError      | 0      | train\n",
      "4 | test_metric    | MeanSquaredError      | 0      | train\n",
      "-----------------------------------------------------------------\n",
      "10.6 M    Trainable params\n",
      "2.0 M     Non-trainable params\n",
      "12.6 M    Total params\n",
      "50.403    Total estimated model params size (MB)\n",
      "86        Modules in train mode\n",
      "0         Modules in eval mode\n"
     ]
    },
    {
     "name": "stdout",
     "output_type": "stream",
     "text": [
      "[I 2025-04-18 14:18:41,348] Trial 99 finished with value: 673.4177856445312 and parameters: {'n_layers': 15, 'dropout': 0.4649428739749632, 'learning_rate': 0.006261558304188421, 'weight_decay': 0.00013657933520408723, 'optimizer': 'adam', 'activation': 'tanh'}. Best is trial 59 with value: 660.7769165039062.\n",
      "Best trial:\n",
      "  Value (val_mse): 660.7769165039062\n",
      "  Params:\n",
      "    n_layers: 11\n",
      "    dropout: 0.3143379535809292\n",
      "    learning_rate: 0.00459661974900585\n",
      "    weight_decay: 0.00017998143379216285\n",
      "    optimizer: adam\n",
      "    activation: tanh\n"
     ]
    }
   ],
   "source": [
    "# --- Run Optuna ---\n",
    "study = optuna.create_study(direction=\"minimize\", study_name=\"ae_regressor_study\")\n",
    "study.optimize(objective, n_trials=100, n_jobs=1, show_progress_bar=True)\n",
    "\n",
    "# --- Print Best Result ---\n",
    "print(\"Best trial:\")\n",
    "print(f\"  Value (val_mse): {study.best_trial.value}\")\n",
    "print(\"  Params:\")\n",
    "for key, val in study.best_trial.params.items():\n",
    "    print(f\"    {key}: {val}\")"
   ]
  },
  {
   "cell_type": "code",
   "execution_count": 14,
   "metadata": {},
   "outputs": [],
   "source": [
    "best_model_logger = trial_to_details[study.best_trial.number][\"logger\"]"
   ]
  },
  {
   "cell_type": "code",
   "execution_count": 15,
   "metadata": {},
   "outputs": [
    {
     "data": {
      "image/png": "[encoded data removed]",
      "text/plain": [
       "<Figure size 1200x500 with 1 Axes>"
      ]
     },
     "metadata": {},
     "output_type": "display_data"
    }
   ],
   "source": [
    "from utils.helper_functions import make_plots\n",
    "\n",
    "\n",
    "history = pd.read_csv(best_model_logger.log_dir + \"/metrics.csv\")\n",
    "make_plots(history, \"Autoencoder Training and Validation Loss\")"
   ]
  },
  {
   "cell_type": "code",
   "execution_count": 16,
   "metadata": {},
   "outputs": [],
   "source": [
    "best_model_path = trial_to_details[study.best_trial.number][\"checkpoint\"].best_model_path\n",
    "!cp {best_model_path} results/03/best_model.pth"
   ]
  },
  {
   "cell_type": "code",
   "execution_count": 17,
   "metadata": {},
   "outputs": [
    {
     "data": {
      "text/plain": [
       "BaseCancerRegressor(\n",
       "  (auto_encoder): CancerDataAutoEncoder(\n",
       "    (encoder): Sequential(\n",
       "      (0): Linear(in_features=989, out_features=506, bias=True)\n",
       "      (1): ReLU()\n",
       "      (2): Dropout(p=0.013875149619123436, inplace=False)\n",
       "      (3): Linear(in_features=506, out_features=23, bias=True)\n",
       "      (4): ReLU()\n",
       "      (5): Dropout(p=0.013875149619123436, inplace=False)\n",
       "      (6): Linear(in_features=23, out_features=22, bias=True)\n",
       "    )\n",
       "    (decoder): Sequential(\n",
       "      (0): Linear(in_features=22, out_features=505, bias=True)\n",
       "      (1): ReLU()\n",
       "      (2): Dropout(p=0.013875149619123436, inplace=False)\n",
       "      (3): Linear(in_features=505, out_features=988, bias=True)\n",
       "      (4): ReLU()\n",
       "      (5): Dropout(p=0.013875149619123436, inplace=False)\n",
       "      (6): Linear(in_features=988, out_features=989, bias=True)\n",
       "    )\n",
       "    (loss_metric): MeanSquaredError()\n",
       "    (val_metric): MeanSquaredError()\n",
       "    (test_metric): MeanSquaredError()\n",
       "  )\n",
       "  (neural_network): SimpleNN(\n",
       "    (network): Sequential(\n",
       "      (0): Linear(in_features=22, out_features=44, bias=True)\n",
       "      (1): BatchNorm1d(44, eps=1e-05, momentum=0.1, affine=True, track_running_stats=True)\n",
       "      (2): Tanh()\n",
       "      (3): Dropout(p=0.3143379535809292, inplace=False)\n",
       "      (4): Linear(in_features=44, out_features=88, bias=True)\n",
       "      (5): BatchNorm1d(88, eps=1e-05, momentum=0.1, affine=True, track_running_stats=True)\n",
       "      (6): Tanh()\n",
       "      (7): Dropout(p=0.3143379535809292, inplace=False)\n",
       "      (8): Linear(in_features=88, out_features=176, bias=True)\n",
       "      (9): BatchNorm1d(176, eps=1e-05, momentum=0.1, affine=True, track_running_stats=True)\n",
       "      (10): Tanh()\n",
       "      (11): Dropout(p=0.3143379535809292, inplace=False)\n",
       "      (12): Linear(in_features=176, out_features=352, bias=True)\n",
       "      (13): BatchNorm1d(352, eps=1e-05, momentum=0.1, affine=True, track_running_stats=True)\n",
       "      (14): Tanh()\n",
       "      (15): Dropout(p=0.3143379535809292, inplace=False)\n",
       "      (16): Linear(in_features=352, out_features=704, bias=True)\n",
       "      (17): BatchNorm1d(704, eps=1e-05, momentum=0.1, affine=True, track_running_stats=True)\n",
       "      (18): Tanh()\n",
       "      (19): Dropout(p=0.3143379535809292, inplace=False)\n",
       "      (20): Linear(in_features=704, out_features=352, bias=True)\n",
       "      (21): BatchNorm1d(352, eps=1e-05, momentum=0.1, affine=True, track_running_stats=True)\n",
       "      (22): Tanh()\n",
       "      (23): Dropout(p=0.3143379535809292, inplace=False)\n",
       "      (24): Linear(in_features=352, out_features=176, bias=True)\n",
       "      (25): BatchNorm1d(176, eps=1e-05, momentum=0.1, affine=True, track_running_stats=True)\n",
       "      (26): Tanh()\n",
       "      (27): Dropout(p=0.3143379535809292, inplace=False)\n",
       "      (28): Linear(in_features=176, out_features=88, bias=True)\n",
       "      (29): BatchNorm1d(88, eps=1e-05, momentum=0.1, affine=True, track_running_stats=True)\n",
       "      (30): Tanh()\n",
       "      (31): Dropout(p=0.3143379535809292, inplace=False)\n",
       "      (32): Linear(in_features=88, out_features=44, bias=True)\n",
       "      (33): BatchNorm1d(44, eps=1e-05, momentum=0.1, affine=True, track_running_stats=True)\n",
       "      (34): Tanh()\n",
       "      (35): Dropout(p=0.3143379535809292, inplace=False)\n",
       "      (36): Linear(in_features=44, out_features=22, bias=True)\n",
       "      (37): BatchNorm1d(22, eps=1e-05, momentum=0.1, affine=True, track_running_stats=True)\n",
       "      (38): Tanh()\n",
       "      (39): Dropout(p=0.3143379535809292, inplace=False)\n",
       "      (40): Linear(in_features=22, out_features=11, bias=True)\n",
       "      (41): BatchNorm1d(11, eps=1e-05, momentum=0.1, affine=True, track_running_stats=True)\n",
       "      (42): Tanh()\n",
       "      (43): Dropout(p=0.3143379535809292, inplace=False)\n",
       "      (44): Linear(in_features=11, out_features=1, bias=True)\n",
       "    )\n",
       "  )\n",
       "  (loss_metric): MeanSquaredError()\n",
       "  (val_metric): MeanSquaredError()\n",
       "  (test_metric): MeanSquaredError()\n",
       ")"
      ]
     },
     "execution_count": 17,
     "metadata": {},
     "output_type": "execute_result"
    }
   ],
   "source": [
    "activation_dict = {\n",
    "    \"relu\": nn.ReLU,\n",
    "    \"leaky_relu\": nn.LeakyReLU,\n",
    "    \"tanh\": nn.Tanh,\n",
    "    \"RReLU\": nn.RReLU,\n",
    "}\n",
    "optimizer_dict = {\n",
    "    \"adam\": torch.optim.Adam,\n",
    "    \"sgd\": torch.optim.SGD,\n",
    "    \"adagrad\": torch.optim.Adagrad,\n",
    "}\n",
    "\n",
    "best_model = BaseCancerRegressor.load_from_checkpoint(\n",
    "    trial_to_details[study.best_trial.number][\"checkpoint\"].best_model_path,\n",
    "    auto_encoder=CancerDataAutoEncoder.load_from_checkpoint(\n",
    "            best_ae_model_path,\n",
    "            **best_model_params\n",
    "        ),\n",
    "        neural_network=SimpleNN(\n",
    "            input_dim=best_model_params['latent_size'],\n",
    "            n_layers=study.best_trial.params['n_layers'],\n",
    "            dropout=study.best_trial.params['dropout'],\n",
    "            activation=activation_dict[study.best_trial.params['activation']],\n",
    "        ),\n",
    "        lr=study.best_trial.params['learning_rate'],\n",
    "        weight_decay=study.best_trial.params['weight_decay'],\n",
    "        optimizer=optimizer_dict[study.best_trial.params['optimizer']],\n",
    "    \n",
    ")\n",
    "best_model"
   ]
  },
  {
   "cell_type": "code",
   "execution_count": 18,
   "metadata": {},
   "outputs": [
    {
     "data": {
      "text/plain": [
       "['results/03/best_model_trial_ae_59.pkl']"
      ]
     },
     "execution_count": 18,
     "metadata": {},
     "output_type": "execute_result"
    }
   ],
   "source": [
    "joblib.dump(\n",
    "    best_model,\n",
    "    f\"results/03/best_model_trial_ae_{study.best_trial.number}.pkl\",\n",
    ")"
   ]
  },
  {
   "cell_type": "code",
   "execution_count": 21,
   "metadata": {},
   "outputs": [],
   "source": [
    "cancer_dm = CancerDataModule(cancer_df, numerical_features=numeric_cols, scaler=scaler)\n",
    "cancer_dm.setup()"
   ]
  },
  {
   "cell_type": "code",
   "execution_count": 24,
   "metadata": {},
   "outputs": [
    {
     "data": {
      "image/png": "[encoded data removed]",
      "text/plain": [
       "<Figure size 1000x600 with 1 Axes>"
      ]
     },
     "metadata": {},
     "output_type": "display_data"
    }
   ],
   "source": [
    "plot_regression_results(best_model.to(\"cpu\"), cancer_dm.train_dataloader())"
   ]
  },
  {
   "cell_type": "code",
   "execution_count": 23,
   "metadata": {},
   "outputs": [
    {
     "data": {
      "image/png": "[encoded data removed]",
      "text/plain": [
       "<Figure size 1000x600 with 1 Axes>"
      ]
     },
     "metadata": {},
     "output_type": "display_data"
    }
   ],
   "source": [
    "plot_regression_results(best_model.to(\"cpu\"), cancer_dm.test_dataloader())"
   ]
  },
  {
   "cell_type": "code",
   "execution_count": null,
   "metadata": {},
   "outputs": [],
   "source": []
  }
 ],
 "metadata": {
  "kernelspec": {
   "display_name": "bmi_6114",
   "language": "python",
   "name": "python3"
  },
  "language_info": {
   "codemirror_mode": {
    "name": "ipython",
    "version": 3
   },
   "file_extension": ".py",
   "mimetype": "text/x-python",
   "name": "python",
   "nbconvert_exporter": "python",
   "pygments_lexer": "ipython3",
   "version": "3.12.5"
  }
 },
 "nbformat": 4,
 "nbformat_minor": 2
}
