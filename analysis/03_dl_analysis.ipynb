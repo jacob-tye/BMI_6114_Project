{
 "cells": [
  {
   "cell_type": "code",
   "execution_count": 7,
   "metadata": {},
   "outputs": [
    {
     "name": "stdout",
     "output_type": "stream",
     "text": [
      "The autoreload extension is already loaded. To reload it, use:\n",
      "  %reload_ext autoreload\n"
     ]
    }
   ],
   "source": [
    "%load_ext autoreload\n",
    "%autoreload 2\n"
   ]
  },
  {
   "cell_type": "markdown",
   "metadata": {},
   "source": [
    "# Deep Learning Analysis"
   ]
  },
  {
   "cell_type": "code",
   "execution_count": 34,
   "metadata": {},
   "outputs": [],
   "source": [
    "import lightning as L\n",
    "import matplotlib.pyplot as plt\n",
    "import numpy as np\n",
    "import pandas as pd\n",
    "import torch\n",
    "import torch.nn as nn\n",
    "import torch.nn.functional as F\n",
    "import torchvision.transforms as transforms\n",
    "from torch.utils.data import DataLoader, random_split\n",
    "from torchmetrics import MeanSquaredError\n",
    "from torchvision import datasets\n",
    "from utils.helper_classes import CancerDataModule, CancerDataset\n",
    "from utils.models import CancerDataAutoEncoder, BaseCancerRegressor"
   ]
  },
  {
   "cell_type": "code",
   "execution_count": 17,
   "metadata": {},
   "outputs": [
    {
     "name": "stdout",
     "output_type": "stream",
     "text": [
      "       CopyNumberVariant  SmokingStatus  OverallSurvivalMonths  Gene_1  \\\n",
      "PID_1                  6              1                  30.92       0   \n",
      "PID_2                  3              1                  59.10       0   \n",
      "PID_3                  7              0                  48.48       0   \n",
      "PID_4                  4              0                  47.78       0   \n",
      "PID_5                  6              1                  46.38       0   \n",
      "\n",
      "       Gene_2  Gene_3  Gene_4  Gene_5  Gene_6  Gene_7  \n",
      "PID_1       0       0       0       0       0       0  \n",
      "PID_2       0       0       0       0       0       0  \n",
      "PID_3       0       0       0       0       0       0  \n",
      "PID_4       0       0       0       1       0       0  \n",
      "PID_5       0       0       0       0       0       0  \n"
     ]
    }
   ],
   "source": [
    "np.random.seed(42)\n",
    "\n",
    "# Parameters\n",
    "num_samples = 2621\n",
    "num_genes = 1800\n",
    "\n",
    "# Base clinical data\n",
    "clinical_data = {\n",
    "    \"PatientID\": [f\"PID_{i}\" for i in range(1, num_samples + 1)],\n",
    "    \"CopyNumberVariant\": np.random.randint(0, 10, size=num_samples),\n",
    "    \"SmokingStatus\": np.random.choice([1, 0], size=num_samples),\n",
    "    \"OverallSurvivalMonths\": np.random.uniform(6, 60, size=num_samples).round(2),\n",
    "}\n",
    "\n",
    "# Simulated gene mutation matrix: binary (0=wildtype, 1=mutated)\n",
    "mutation_matrix = np.random.choice([0, 1], size=(num_samples, num_genes), p=[0.97, 0.03])\n",
    "\n",
    "# Gene column names\n",
    "gene_cols = [f\"Gene_{i+1}\" for i in range(num_genes)]\n",
    "mutation_df = pd.DataFrame(mutation_matrix, columns=gene_cols, index=clinical_data[\"PatientID\"])\n",
    "\n",
    "# Combine all data\n",
    "cancer_df = pd.concat([pd.DataFrame(clinical_data).set_index(\"PatientID\"), mutation_df], axis=1)\n",
    "\n",
    "# Preview\n",
    "print(cancer_df.iloc[:, :10].head())  # Just print first 10 columns to avoid overload\n"
   ]
  },
  {
   "cell_type": "code",
   "execution_count": 22,
   "metadata": {},
   "outputs": [],
   "source": [
    "cancer_ds = CancerDataset(cancer_df)\n",
    "cancer_dm = CancerDataModule(cancer_ds)\n",
    "cancer_dm.setup()"
   ]
  },
  {
   "cell_type": "code",
   "execution_count": null,
   "metadata": {},
   "outputs": [],
   "source": [
    "with open('results/02/results.txt', 'r') as file:\n",
    "    best_ae_model_path = file.readline().strip()"
   ]
  },
  {
   "cell_type": "code",
   "execution_count": 12,
   "metadata": {},
   "outputs": [
    {
     "name": "stdout",
     "output_type": "stream",
     "text": [
      "{'latent_size': 129, 'n_layers': 5, 'dropout': 0.04892076156671582}\n"
     ]
    }
   ],
   "source": [
    "with open('results/02/best_trial_params.json', 'r') as json_file:\n",
    "    best_model_params = json.load(json_file)\n",
    "\n",
    "print(best_model_params)"
   ]
  },
  {
   "cell_type": "code",
   "execution_count": 15,
   "metadata": {},
   "outputs": [],
   "source": [
    "cancer_autoencoder = CancerDataAutoEncoder.load_from_checkpoint(\n",
    "    best_ae_model_path,\n",
    "    **best_model_params\n",
    ")"
   ]
  },
  {
   "cell_type": "code",
   "execution_count": 29,
   "metadata": {},
   "outputs": [],
   "source": [
    "class SimpleNN(nn.Module):\n",
    "    def __init__(self, input_dim, hidden_dim):\n",
    "        super(SimpleNN, self).__init__()\n",
    "        self.fc1 = nn.Linear(input_dim, hidden_dim)\n",
    "        self.fc2 = nn.Linear(hidden_dim, 1)\n",
    "\n",
    "    def forward(self, x):\n",
    "        x = F.relu(self.fc1(x))\n",
    "        x = self.fc2(x)\n",
    "        return x\n",
    "\n",
    "simple_nn = SimpleNN(\n",
    "    input_dim=best_model_params['latent_size'],\n",
    "    hidden_dim=128\n",
    ")"
   ]
  },
  {
   "cell_type": "code",
   "execution_count": 30,
   "metadata": {},
   "outputs": [
    {
     "data": {
      "text/plain": [
       "==========================================================================================\n",
       "Layer (type:depth-idx)                   Output Shape              Param #\n",
       "==========================================================================================\n",
       "BaseCancerRegressor                      [1, 1]                    --\n",
       "├─CancerDataAutoEncoder: 1-1             --                        8,871,850\n",
       "│    └─Sequential: 2-1                   [1, 129]                  --\n",
       "│    │    └─Linear: 3-1                  [1, 1468]                 (2,646,804)\n",
       "│    │    └─ReLU: 3-2                    [1, 1468]                 --\n",
       "│    │    └─Dropout: 3-3                 [1, 1468]                 --\n",
       "│    │    └─Linear: 3-4                  [1, 1134]                 (1,665,846)\n",
       "│    │    └─ReLU: 3-5                    [1, 1134]                 --\n",
       "│    │    └─Dropout: 3-6                 [1, 1134]                 --\n",
       "│    │    └─Linear: 3-7                  [1, 800]                  (908,000)\n",
       "│    │    └─ReLU: 3-8                    [1, 800]                  --\n",
       "│    │    └─Dropout: 3-9                 [1, 800]                  --\n",
       "│    │    └─Linear: 3-10                 [1, 466]                  (373,266)\n",
       "│    │    └─ReLU: 3-11                   [1, 466]                  --\n",
       "│    │    └─Dropout: 3-12                [1, 466]                  --\n",
       "│    │    └─Linear: 3-13                 [1, 132]                  (61,644)\n",
       "│    │    └─ReLU: 3-14                   [1, 132]                  --\n",
       "│    │    └─Dropout: 3-15                [1, 132]                  --\n",
       "│    │    └─Linear: 3-16                 [1, 129]                  (17,157)\n",
       "├─SimpleNN: 1-2                          [1, 1]                    --\n",
       "│    └─Linear: 2-2                       [1, 128]                  16,640\n",
       "│    └─Linear: 2-3                       [1, 1]                    129\n",
       "==========================================================================================\n",
       "Total params: 14,561,336\n",
       "Trainable params: 16,769\n",
       "Non-trainable params: 14,544,567\n",
       "Total mult-adds (Units.MEGABYTES): 5.69\n",
       "==========================================================================================\n",
       "Input size (MB): 0.01\n",
       "Forward/backward pass size (MB): 0.03\n",
       "Params size (MB): 22.76\n",
       "Estimated Total Size (MB): 22.80\n",
       "=========================================================================================="
      ]
     },
     "execution_count": 30,
     "metadata": {},
     "output_type": "execute_result"
    }
   ],
   "source": [
    "from torchinfo import summary\n",
    "\n",
    "input_dim = len(cancer_dm.ds_train[0][0])\n",
    "summary(BaseCancerRegressor(cancer_autoencoder, simple_nn), input_size=(1, input_dim))"
   ]
  },
  {
   "cell_type": "code",
   "execution_count": 37,
   "metadata": {},
   "outputs": [
    {
     "name": "stderr",
     "output_type": "stream",
     "text": [
      "GPU available: True (cuda), used: True\n",
      "TPU available: False, using: 0 TPU cores\n",
      "HPU available: False, using: 0 HPUs\n",
      "LOCAL_RANK: 0 - CUDA_VISIBLE_DEVICES: [0]\n",
      "\n",
      "  | Name           | Type                  | Params | Mode \n",
      "-----------------------------------------------------------------\n",
      "0 | auto_encoder   | CancerDataAutoEncoder | 14.5 M | train\n",
      "1 | neural_network | SimpleNN              | 16.8 K | train\n",
      "2 | loss_metric    | MeanSquaredError      | 0      | train\n",
      "3 | val_metric     | MeanSquaredError      | 0      | train\n",
      "4 | test_metric    | MeanSquaredError      | 0      | train\n",
      "-----------------------------------------------------------------\n",
      "16.8 K    Trainable params\n",
      "14.5 M    Non-trainable params\n",
      "14.6 M    Total params\n",
      "58.245    Total estimated model params size (MB)\n",
      "43        Modules in train mode\n",
      "0         Modules in eval mode\n"
     ]
    },
    {
     "data": {
      "application/vnd.jupyter.widget-view+json": {
       "model_id": "b90e68392f37490c94ace26f5ef77596",
       "version_major": 2,
       "version_minor": 0
      },
      "text/plain": [
       "Sanity Checking: |          | 0/? [00:00<?, ?it/s]"
      ]
     },
     "metadata": {},
     "output_type": "display_data"
    },
    {
     "data": {
      "application/vnd.jupyter.widget-view+json": {
       "model_id": "850f7243165f450687d9905347bad4d3",
       "version_major": 2,
       "version_minor": 0
      },
      "text/plain": [
       "Training: |          | 0/? [00:00<?, ?it/s]"
      ]
     },
     "metadata": {},
     "output_type": "display_data"
    },
    {
     "data": {
      "application/vnd.jupyter.widget-view+json": {
       "model_id": "5ba0e35f62ba4674b42b35aead39f2a0",
       "version_major": 2,
       "version_minor": 0
      },
      "text/plain": [
       "Validation: |          | 0/? [00:00<?, ?it/s]"
      ]
     },
     "metadata": {},
     "output_type": "display_data"
    },
    {
     "data": {
      "application/vnd.jupyter.widget-view+json": {
       "model_id": "f8a082c82a2b4d8eb193be87f8691aa2",
       "version_major": 2,
       "version_minor": 0
      },
      "text/plain": [
       "Validation: |          | 0/? [00:00<?, ?it/s]"
      ]
     },
     "metadata": {},
     "output_type": "display_data"
    },
    {
     "data": {
      "application/vnd.jupyter.widget-view+json": {
       "model_id": "bc12aeea3a924911b9b757972765a019",
       "version_major": 2,
       "version_minor": 0
      },
      "text/plain": [
       "Validation: |          | 0/? [00:00<?, ?it/s]"
      ]
     },
     "metadata": {},
     "output_type": "display_data"
    },
    {
     "data": {
      "application/vnd.jupyter.widget-view+json": {
       "model_id": "805a753129ce452b97138605e2bb45d0",
       "version_major": 2,
       "version_minor": 0
      },
      "text/plain": [
       "Validation: |          | 0/? [00:00<?, ?it/s]"
      ]
     },
     "metadata": {},
     "output_type": "display_data"
    }
   ],
   "source": [
    "from utils.helper_functions import create_classifier_trainer\n",
    "\n",
    "trainer, regressor_csv_logger, regressor_checkpoint = create_classifier_trainer(\"cancer_regressor\")\n",
    "cancer_regressor = BaseCancerRegressor(cancer_autoencoder, simple_nn)\n",
    "trainer.fit(\n",
    "    cancer_regressor,\n",
    "    datamodule=CancerDataModule(cancer_ds),\n",
    ")"
   ]
  },
  {
   "cell_type": "code",
   "execution_count": null,
   "metadata": {},
   "outputs": [],
   "source": []
  }
 ],
 "metadata": {
  "kernelspec": {
   "display_name": "bmi_6114",
   "language": "python",
   "name": "python3"
  },
  "language_info": {
   "codemirror_mode": {
    "name": "ipython",
    "version": 3
   },
   "file_extension": ".py",
   "mimetype": "text/x-python",
   "name": "python",
   "nbconvert_exporter": "python",
   "pygments_lexer": "ipython3",
   "version": "3.12.5"
  }
 },
 "nbformat": 4,
 "nbformat_minor": 2
}
