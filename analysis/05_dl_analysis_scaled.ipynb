{
 "cells": [
  {
   "cell_type": "code",
   "execution_count": 1,
   "metadata": {},
   "outputs": [],
   "source": [
    "%load_ext autoreload\n",
    "%autoreload 2\n"
   ]
  },
  {
   "cell_type": "markdown",
   "metadata": {},
   "source": [
    "# Deep Learning Analysis"
   ]
  },
  {
   "cell_type": "code",
   "execution_count": 2,
   "metadata": {},
   "outputs": [],
   "source": [
    "import json\n",
    "import joblib\n",
    "import lightning as L\n",
    "import matplotlib.pyplot as plt\n",
    "import numpy as np\n",
    "import pandas as pd\n",
    "import torch\n",
    "import torch.nn as nn\n",
    "import torch.nn.functional as F\n",
    "import torchvision.transforms as transforms\n",
    "from torch.utils.data import DataLoader, random_split\n",
    "from torchmetrics import MeanSquaredError\n",
    "from torchvision import datasets\n",
    "from utils.helper_classes import CancerDataModule, CancerDataset\n",
    "from utils.models import BaseCancerRegressor, CancerDataAutoEncoder"
   ]
  },
  {
   "cell_type": "code",
   "execution_count": 3,
   "metadata": {},
   "outputs": [],
   "source": [
    "cancer_df = pd.read_csv(\"../data/cleaned_feature_and_target_data.csv\", index_col=0)\n",
    "cna_columns = [col for col in cancer_df.columns if col.startswith(\"CNA\")]\n",
    "numeric_cols = [\"SMOKING_PACK_YEARS\"] + cna_columns\n",
    "cancer_df[numeric_cols] = cancer_df[numeric_cols].astype(np.float32)\n",
    "scaler = joblib.load(open(\"results/scaler.pkl\", \"rb\"))\n",
    "cancer_dm = CancerDataModule(cancer_df, numerical_features=numeric_cols, scaler=scaler)\n",
    "cancer_dm.setup()"
   ]
  },
  {
   "cell_type": "code",
   "execution_count": 4,
   "metadata": {},
   "outputs": [],
   "source": [
    "with open('results/02/results.txt', 'r') as file:\n",
    "    best_ae_model_path = file.readline().strip()"
   ]
  },
  {
   "cell_type": "code",
   "execution_count": 5,
   "metadata": {},
   "outputs": [
    {
     "name": "stdout",
     "output_type": "stream",
     "text": [
      "{'latent_size': 38, 'n_layers': 2, 'dropout': 0.08362845598146633}\n"
     ]
    }
   ],
   "source": [
    "with open('results/02/best_trial_params.json', 'r') as json_file:\n",
    "    best_model_params = json.load(json_file)\n",
    "\n",
    "print(best_model_params)"
   ]
  },
  {
   "cell_type": "code",
   "execution_count": 6,
   "metadata": {},
   "outputs": [],
   "source": [
    "cancer_autoencoder = CancerDataAutoEncoder.load_from_checkpoint(\n",
    "    best_ae_model_path,\n",
    "    **best_model_params\n",
    ")"
   ]
  },
  {
   "cell_type": "code",
   "execution_count": 7,
   "metadata": {},
   "outputs": [],
   "source": [
    "cdm = CancerDataModule(cancer_df, numerical_features=numeric_cols, scaler=scaler, scale_targets=True)\n",
    "cdm.setup()\n",
    "target_scaler = cdm.target_scaler"
   ]
  },
  {
   "cell_type": "code",
   "execution_count": null,
   "metadata": {},
   "outputs": [],
   "source": [
    "import random\n",
    "\n",
    "\n",
    "class SimpleNN(nn.Module):\n",
    "    def __init__(self, input_dim, n_layers=1, dropout=0.2, activation=nn.LeakyReLU, target_scaler=target_scaler):\n",
    "        super(SimpleNN, self).__init__()\n",
    "        self.target_scaler = target_scaler\n",
    "        self.layers = []\n",
    "        curr_size = input_dim\n",
    "        len_first_half = int(n_layers / 2)\n",
    "        len_second_half = n_layers - len_first_half\n",
    "        for i in range(len_first_half):\n",
    "            new_size = curr_size * 2\n",
    "            self.layers += [\n",
    "                nn.Linear(curr_size, new_size),\n",
    "                nn.BatchNorm1d(new_size),\n",
    "                activation(),\n",
    "                nn.Dropout(dropout),\n",
    "            ]\n",
    "            curr_size = new_size\n",
    "        \n",
    "        for i in range(len_second_half):\n",
    "            new_size = curr_size // 2\n",
    "            self.layers += [\n",
    "                nn.Linear(curr_size, new_size),\n",
    "                nn.BatchNorm1d(new_size),\n",
    "                activation(),\n",
    "                nn.Dropout(dropout),\n",
    "            ]\n",
    "            curr_size = new_size\n",
    "        if curr_size > 1:\n",
    "            self.layers.append(nn.Linear(curr_size, 1))\n",
    "        self.network = nn.Sequential(*self.layers)\n",
    "\n",
    "    def forward(self, x):\n",
    "        return self.network(x)\n",
    "\n",
    "simple_nn = SimpleNN(\n",
    "    input_dim=best_model_params['latent_size'],\n",
    "    n_layers=8\n",
    ")"
   ]
  },
  {
   "cell_type": "code",
   "execution_count": 9,
   "metadata": {},
   "outputs": [
    {
     "data": {
      "text/plain": [
       "==========================================================================================\n",
       "Layer (type:depth-idx)                   Output Shape              Param #\n",
       "==========================================================================================\n",
       "BaseCancerRegressor                      [1, 1]                    --\n",
       "├─CancerDataAutoEncoder: 1-1             --                        70,331\n",
       "│    └─Sequential: 2-1                   [1, 38]                   --\n",
       "│    │    └─Linear: 3-1                  [1, 121]                  (24,684)\n",
       "│    │    └─ReLU: 3-2                    [1, 121]                  --\n",
       "│    │    └─Dropout: 3-3                 [1, 121]                  --\n",
       "│    │    └─Linear: 3-4                  [1, 39]                   (4,758)\n",
       "│    │    └─ReLU: 3-5                    [1, 39]                   --\n",
       "│    │    └─Dropout: 3-6                 [1, 39]                   --\n",
       "│    │    └─Linear: 3-7                  [1, 38]                   (1,520)\n",
       "├─SimpleNN: 1-2                          [1, 1]                    --\n",
       "│    └─Sequential: 2-2                   [1, 1]                    --\n",
       "│    │    └─Linear: 3-8                  [1, 76]                   2,964\n",
       "│    │    └─BatchNorm1d: 3-9             [1, 76]                   152\n",
       "│    │    └─LeakyReLU: 3-10              [1, 76]                   --\n",
       "│    │    └─Dropout: 3-11                [1, 76]                   --\n",
       "│    │    └─Linear: 3-12                 [1, 152]                  11,704\n",
       "│    │    └─BatchNorm1d: 3-13            [1, 152]                  304\n",
       "│    │    └─LeakyReLU: 3-14              [1, 152]                  --\n",
       "│    │    └─Dropout: 3-15                [1, 152]                  --\n",
       "│    │    └─Linear: 3-16                 [1, 304]                  46,512\n",
       "│    │    └─BatchNorm1d: 3-17            [1, 304]                  608\n",
       "│    │    └─LeakyReLU: 3-18              [1, 304]                  --\n",
       "│    │    └─Dropout: 3-19                [1, 304]                  --\n",
       "│    │    └─Linear: 3-20                 [1, 608]                  185,440\n",
       "│    │    └─BatchNorm1d: 3-21            [1, 608]                  1,216\n",
       "│    │    └─LeakyReLU: 3-22              [1, 608]                  --\n",
       "│    │    └─Dropout: 3-23                [1, 608]                  --\n",
       "│    │    └─Linear: 3-24                 [1, 304]                  185,136\n",
       "│    │    └─BatchNorm1d: 3-25            [1, 304]                  608\n",
       "│    │    └─LeakyReLU: 3-26              [1, 304]                  --\n",
       "│    │    └─Dropout: 3-27                [1, 304]                  --\n",
       "│    │    └─Linear: 3-28                 [1, 152]                  46,360\n",
       "│    │    └─BatchNorm1d: 3-29            [1, 152]                  304\n",
       "│    │    └─LeakyReLU: 3-30              [1, 152]                  --\n",
       "│    │    └─Dropout: 3-31                [1, 152]                  --\n",
       "│    │    └─Linear: 3-32                 [1, 76]                   11,628\n",
       "│    │    └─BatchNorm1d: 3-33            [1, 76]                   152\n",
       "│    │    └─LeakyReLU: 3-34              [1, 76]                   --\n",
       "│    │    └─Dropout: 3-35                [1, 76]                   --\n",
       "│    │    └─Linear: 3-36                 [1, 38]                   2,926\n",
       "│    │    └─BatchNorm1d: 3-37            [1, 38]                   76\n",
       "│    │    └─LeakyReLU: 3-38              [1, 38]                   --\n",
       "│    │    └─Dropout: 3-39                [1, 38]                   --\n",
       "│    │    └─Linear: 3-40                 [1, 1]                    39\n",
       "==========================================================================================\n",
       "Total params: 597,422\n",
       "Trainable params: 496,129\n",
       "Non-trainable params: 101,293\n",
       "Total mult-adds (Units.MEGABYTES): 0.53\n",
       "==========================================================================================\n",
       "Input size (MB): 0.00\n",
       "Forward/backward pass size (MB): 0.03\n",
       "Params size (MB): 2.11\n",
       "Estimated Total Size (MB): 2.14\n",
       "=========================================================================================="
      ]
     },
     "execution_count": 9,
     "metadata": {},
     "output_type": "execute_result"
    }
   ],
   "source": [
    "from torchinfo import summary\n",
    "\n",
    "input_dim = len(cancer_dm.ds_train[0][0])\n",
    "summary(BaseCancerRegressor(cancer_autoencoder, simple_nn), input_size=(1, input_dim))"
   ]
  },
  {
   "cell_type": "code",
   "execution_count": 10,
   "metadata": {},
   "outputs": [
    {
     "name": "stderr",
     "output_type": "stream",
     "text": [
      "GPU available: True (cuda), used: True\n",
      "TPU available: False, using: 0 TPU cores\n",
      "HPU available: False, using: 0 HPUs\n",
      "You are using a CUDA device ('NVIDIA GeForce RTX 3080 Laptop GPU') that has Tensor Cores. To properly utilize them, you should set `torch.set_float32_matmul_precision('medium' | 'high')` which will trade-off precision for performance. For more details, read https://pytorch.org/docs/stable/generated/torch.set_float32_matmul_precision.html#torch.set_float32_matmul_precision\n",
      "LOCAL_RANK: 0 - CUDA_VISIBLE_DEVICES: [0]\n",
      "\n",
      "  | Name           | Type                  | Params | Mode \n",
      "-----------------------------------------------------------------\n",
      "0 | auto_encoder   | CancerDataAutoEncoder | 101 K  | train\n",
      "1 | neural_network | SimpleNN              | 6.9 K  | train\n",
      "2 | loss_metric    | MeanSquaredError      | 0      | train\n",
      "3 | val_metric     | MeanSquaredError      | 0      | train\n",
      "4 | test_metric    | MeanSquaredError      | 0      | train\n",
      "-----------------------------------------------------------------\n",
      "6.9 K     Trainable params\n",
      "101 K     Non-trainable params\n",
      "108 K     Total params\n",
      "0.433     Total estimated model params size (MB)\n",
      "38        Modules in train mode\n",
      "0         Modules in eval mode\n"
     ]
    },
    {
     "data": {
      "application/vnd.jupyter.widget-view+json": {
       "model_id": "866ce76274444291b5176076821202c3",
       "version_major": 2,
       "version_minor": 0
      },
      "text/plain": [
       "Sanity Checking: |          | 0/? [00:00<?, ?it/s]"
      ]
     },
     "metadata": {},
     "output_type": "display_data"
    },
    {
     "data": {
      "application/vnd.jupyter.widget-view+json": {
       "model_id": "c198ada0824d4d1eb3e64befa13c618e",
       "version_major": 2,
       "version_minor": 0
      },
      "text/plain": [
       "Training: |          | 0/? [00:00<?, ?it/s]"
      ]
     },
     "metadata": {},
     "output_type": "display_data"
    },
    {
     "data": {
      "application/vnd.jupyter.widget-view+json": {
       "model_id": "a6cf86837b994082b51afae06a89312d",
       "version_major": 2,
       "version_minor": 0
      },
      "text/plain": [
       "Validation: |          | 0/? [00:00<?, ?it/s]"
      ]
     },
     "metadata": {},
     "output_type": "display_data"
    },
    {
     "data": {
      "application/vnd.jupyter.widget-view+json": {
       "model_id": "6bafe891c9124a5cb4342d555e1293fb",
       "version_major": 2,
       "version_minor": 0
      },
      "text/plain": [
       "Validation: |          | 0/? [00:00<?, ?it/s]"
      ]
     },
     "metadata": {},
     "output_type": "display_data"
    },
    {
     "data": {
      "application/vnd.jupyter.widget-view+json": {
       "model_id": "c7916208ee4e4b9591ac71c6961f3593",
       "version_major": 2,
       "version_minor": 0
      },
      "text/plain": [
       "Validation: |          | 0/? [00:00<?, ?it/s]"
      ]
     },
     "metadata": {},
     "output_type": "display_data"
    },
    {
     "data": {
      "application/vnd.jupyter.widget-view+json": {
       "model_id": "e6764fea25f349da867face2eb2b7e53",
       "version_major": 2,
       "version_minor": 0
      },
      "text/plain": [
       "Validation: |          | 0/? [00:00<?, ?it/s]"
      ]
     },
     "metadata": {},
     "output_type": "display_data"
    }
   ],
   "source": [
    "from utils.helper_functions import create_classifier_trainer\n",
    "\n",
    "trainer, regressor_csv_logger, regressor_checkpoint = create_classifier_trainer(\"cancer_regressor\")\n",
    "cancer_regressor = BaseCancerRegressor(\n",
    "        cancer_autoencoder,\n",
    "        SimpleNN(\n",
    "            input_dim=best_model_params['latent_size'],\n",
    "            n_layers=3,\n",
    "            dropout=.3,\n",
    "            activation=nn.LeakyReLU,\n",
    "        ),\n",
    "        lr=0.003,\n",
    "        weight_decay=0.004,\n",
    "        optimizer=torch.optim.Adam,\n",
    "    )\n",
    "trainer.fit(\n",
    "    cancer_regressor,\n",
    "    datamodule=CancerDataModule(cancer_df, numerical_features=numeric_cols, scaler=scaler, target_scaler=target_scaler),\n",
    ")"
   ]
  },
  {
   "cell_type": "code",
   "execution_count": 11,
   "metadata": {},
   "outputs": [
    {
     "name": "stderr",
     "output_type": "stream",
     "text": [
      "LOCAL_RANK: 0 - CUDA_VISIBLE_DEVICES: [0]\n"
     ]
    },
    {
     "data": {
      "application/vnd.jupyter.widget-view+json": {
       "model_id": "6c505da94eca4eb795b92408230e4aa3",
       "version_major": 2,
       "version_minor": 0
      },
      "text/plain": [
       "Testing: |          | 0/? [00:00<?, ?it/s]"
      ]
     },
     "metadata": {},
     "output_type": "display_data"
    },
    {
     "data": {
      "text/html": [
       "<pre style=\"white-space:pre;overflow-x:auto;line-height:normal;font-family:Menlo,'DejaVu Sans Mono',consolas,'Courier New',monospace\">┏━━━━━━━━━━━━━━━━━━━━━━━━━━━┳━━━━━━━━━━━━━━━━━━━━━━━━━━━┓\n",
       "┃<span style=\"font-weight: bold\">        Test metric        </span>┃<span style=\"font-weight: bold\">       DataLoader 0        </span>┃\n",
       "┡━━━━━━━━━━━━━━━━━━━━━━━━━━━╇━━━━━━━━━━━━━━━━━━━━━━━━━━━┩\n",
       "│<span style=\"color: #008080; text-decoration-color: #008080\">         test_loss         </span>│<span style=\"color: #800080; text-decoration-color: #800080\">    0.5523476600646973     </span>│\n",
       "│<span style=\"color: #008080; text-decoration-color: #008080\">         test_mse          </span>│<span style=\"color: #800080; text-decoration-color: #800080\">    0.5523476600646973     </span>│\n",
       "└───────────────────────────┴───────────────────────────┘\n",
       "</pre>\n"
      ],
      "text/plain": [
       "┏━━━━━━━━━━━━━━━━━━━━━━━━━━━┳━━━━━━━━━━━━━━━━━━━━━━━━━━━┓\n",
       "┃\u001b[1m \u001b[0m\u001b[1m       Test metric       \u001b[0m\u001b[1m \u001b[0m┃\u001b[1m \u001b[0m\u001b[1m      DataLoader 0       \u001b[0m\u001b[1m \u001b[0m┃\n",
       "┡━━━━━━━━━━━━━━━━━━━━━━━━━━━╇━━━━━━━━━━━━━━━━━━━━━━━━━━━┩\n",
       "│\u001b[36m \u001b[0m\u001b[36m        test_loss        \u001b[0m\u001b[36m \u001b[0m│\u001b[35m \u001b[0m\u001b[35m   0.5523476600646973    \u001b[0m\u001b[35m \u001b[0m│\n",
       "│\u001b[36m \u001b[0m\u001b[36m        test_mse         \u001b[0m\u001b[36m \u001b[0m│\u001b[35m \u001b[0m\u001b[35m   0.5523476600646973    \u001b[0m\u001b[35m \u001b[0m│\n",
       "└───────────────────────────┴───────────────────────────┘\n"
      ]
     },
     "metadata": {},
     "output_type": "display_data"
    },
    {
     "data": {
      "text/plain": [
       "[{'test_loss': 0.5523476600646973, 'test_mse': 0.5523476600646973}]"
      ]
     },
     "execution_count": 11,
     "metadata": {},
     "output_type": "execute_result"
    }
   ],
   "source": [
    "trainer.test(\n",
    "    model=cancer_regressor,\n",
    "    datamodule=CancerDataModule(cancer_df, numerical_features=numeric_cols, scaler=scaler, target_scaler=target_scaler),\n",
    ")"
   ]
  },
  {
   "cell_type": "code",
   "execution_count": 20,
   "metadata": {},
   "outputs": [
    {
     "data": {
      "image/png": "[encoded data removed]",
      "text/plain": [
       "<Figure size 1000x600 with 1 Axes>"
      ]
     },
     "metadata": {},
     "output_type": "display_data"
    }
   ],
   "source": [
    "def plot_regression_results(model, dataloader):\n",
    "    model.eval()\n",
    "    y_true = []\n",
    "    y_pred = []\n",
    "    with torch.no_grad():\n",
    "        for batch in dataloader:\n",
    "            x, y = batch\n",
    "            y_hat = torch.tensor(model.neural_network.target_scaler.inverse_transform(model(x).numpy()))\n",
    "            y_true.append(torch.tensor(model.neural_network.target_scaler.inverse_transform(y.numpy())))\n",
    "            y_pred.append(y_hat)\n",
    "\n",
    "    y_true = torch.cat(y_true).numpy()\n",
    "    y_pred = torch.cat(y_pred).numpy()\n",
    "\n",
    "    plt.figure(figsize=(10, 6))\n",
    "    plt.scatter(y_true, y_pred, alpha=0.5)\n",
    "    plt.plot([y_true.min(), y_true.max()], [y_true.min(), y_true.max()], 'r--')\n",
    "    plt.xlabel('True Values')\n",
    "    plt.ylabel('Predictions')\n",
    "    plt.title('Regression Results')\n",
    "    plt.show()\n",
    "plot_regression_results(cancer_regressor, cancer_dm.test_dataloader())"
   ]
  },
  {
   "cell_type": "code",
   "execution_count": 21,
   "metadata": {},
   "outputs": [],
   "source": [
    "import optuna\n",
    "\n",
    "trial_to_details = {}\n",
    "def objective(trial):\n",
    "    # Sample hyperparameters\n",
    "    activation_dict = {\n",
    "        \"relu\": nn.ReLU,\n",
    "        \"leaky_relu\": nn.LeakyReLU,\n",
    "        \"tanh\": nn.Tanh,\n",
    "        \"RReLU\": nn.RReLU,\n",
    "    }\n",
    "    optimizer_dict = {\n",
    "        \"adam\": torch.optim.Adam,\n",
    "        \"sgd\": torch.optim.SGD,\n",
    "        \"adagrad\": torch.optim.Adagrad,\n",
    "    }\n",
    "    n_layers = trial.suggest_int(\"n_layers\", 3, 15)\n",
    "    dropout = trial.suggest_float(\"dropout\", 0.0, 0.5)\n",
    "    learning_rate = trial.suggest_float(\"learning_rate\", 1e-5, 1e-2, log=True)\n",
    "    weight_decay = trial.suggest_float(\"weight_decay\", 1e-5, 1e-2, log=True)\n",
    "    optimizer = trial.suggest_categorical(\"optimizer\", list(optimizer_dict.keys()))\n",
    "    activation = trial.suggest_categorical(\"activation\", list(activation_dict.keys()) )\n",
    "\n",
    "    activation = activation_dict[activation]\n",
    "    optimizer = optimizer_dict[optimizer]\n",
    "\n",
    "    model = BaseCancerRegressor(\n",
    "        CancerDataAutoEncoder.load_from_checkpoint(\n",
    "            best_ae_model_path,\n",
    "            **best_model_params\n",
    "        ),\n",
    "        SimpleNN(\n",
    "            input_dim=best_model_params['latent_size'],\n",
    "            n_layers=n_layers,\n",
    "            dropout=dropout,\n",
    "            activation=activation,\n",
    "            target_scaler=target_scaler,\n",
    "        ),\n",
    "        lr=learning_rate,\n",
    "        weight_decay=weight_decay,\n",
    "        optimizer=optimizer,\n",
    "    )\n",
    "    trainer, logger, checkpoint = create_classifier_trainer(f\"trial_{trial.number}\", max_epochs=100, enable_pbar=False)\n",
    "\n",
    "\n",
    "    # Training loop\n",
    "    trainer.fit(\n",
    "        model,\n",
    "        datamodule=CancerDataModule(cancer_df, numerical_features=numeric_cols, scaler=scaler, target_scaler=target_scaler),\n",
    "    )\n",
    "    trial_to_details[trial.number] = {\n",
    "        \"logger\" : logger,\n",
    "        \"checkpoint\" : checkpoint,\n",
    "    }\n",
    "\n",
    "    \n",
    "    # Store trial details\n",
    "    trial_to_details[trial.number] = {\n",
    "        \"logger\" : logger,\n",
    "        \"checkpoint\" : checkpoint,\n",
    "    }\n",
    "    metrics_path = f\"{logger.log_dir}/metrics.csv\"\n",
    "    metrics_df = pd.read_csv(metrics_path)\n",
    "\n",
    "    if \"val_mse\" not in metrics_df.columns:\n",
    "        return float(\"inf\")\n",
    "\n",
    "    last_val = metrics_df[\"val_mse\"].dropna().values[-1]\n",
    "    return last_val"
   ]
  },
  {
   "cell_type": "code",
   "execution_count": null,
   "metadata": {},
   "outputs": [
    {
     "name": "stderr",
     "output_type": "stream",
     "text": [
      "[I 2025-04-17 12:22:45,454] A new study created in memory with name: ae_regressor_scaled_study\n"
     ]
    },
    {
     "data": {
      "application/vnd.jupyter.widget-view+json": {
       "model_id": "f4297030faf243278e46d93a8b6abf31",
       "version_major": 2,
       "version_minor": 0
      },
      "text/plain": [
       "  0%|          | 0/100 [00:00<?, ?it/s]"
      ]
     },
     "metadata": {},
     "output_type": "display_data"
    },
    {
     "name": "stderr",
     "output_type": "stream",
     "text": [
      "GPU available: True (cuda), used: True\n",
      "TPU available: False, using: 0 TPU cores\n",
      "HPU available: False, using: 0 HPUs\n",
      "LOCAL_RANK: 0 - CUDA_VISIBLE_DEVICES: [0]\n",
      "\n",
      "  | Name           | Type                  | Params | Mode \n",
      "-----------------------------------------------------------------\n",
      "0 | auto_encoder   | CancerDataAutoEncoder | 101 K  | train\n",
      "1 | neural_network | SimpleNN              | 29.9 K | train\n",
      "2 | loss_metric    | MeanSquaredError      | 0      | train\n",
      "3 | val_metric     | MeanSquaredError      | 0      | train\n",
      "4 | test_metric    | MeanSquaredError      | 0      | train\n",
      "-----------------------------------------------------------------\n",
      "29.9 K    Trainable params\n",
      "101 K     Non-trainable params\n",
      "131 K     Total params\n",
      "0.525     Total estimated model params size (MB)\n",
      "42        Modules in train mode\n",
      "0         Modules in eval mode\n"
     ]
    },
    {
     "name": "stdout",
     "output_type": "stream",
     "text": [
      "[I 2025-04-17 12:22:53,958] Trial 0 finished with value: 0.9434814453125 and parameters: {'n_layers': 4, 'dropout': 0.006819017141894201, 'learning_rate': 1.949454986668053e-05, 'weight_decay': 0.0009944428325421798, 'optimizer': 'adam', 'activation': 'RReLU'}. Best is trial 0 with value: 0.9434814453125.\n"
     ]
    },
    {
     "name": "stderr",
     "output_type": "stream",
     "text": [
      "GPU available: True (cuda), used: True\n",
      "TPU available: False, using: 0 TPU cores\n",
      "HPU available: False, using: 0 HPUs\n",
      "LOCAL_RANK: 0 - CUDA_VISIBLE_DEVICES: [0]\n",
      "\n",
      "  | Name           | Type                  | Params | Mode \n",
      "-----------------------------------------------------------------\n",
      "0 | auto_encoder   | CancerDataAutoEncoder | 101 K  | train\n",
      "1 | neural_network | SimpleNN              | 2.0 M  | train\n",
      "2 | loss_metric    | MeanSquaredError      | 0      | train\n",
      "3 | val_metric     | MeanSquaredError      | 0      | train\n",
      "4 | test_metric    | MeanSquaredError      | 0      | train\n",
      "-----------------------------------------------------------------\n",
      "2.0 M     Trainable params\n",
      "101 K     Non-trainable params\n",
      "2.1 M     Total params\n",
      "8.326     Total estimated model params size (MB)\n",
      "66        Modules in train mode\n",
      "0         Modules in eval mode\n"
     ]
    },
    {
     "name": "stdout",
     "output_type": "stream",
     "text": [
      "[I 2025-04-17 12:23:00,937] Trial 1 finished with value: 0.8533397912979126 and parameters: {'n_layers': 10, 'dropout': 0.11664005427409058, 'learning_rate': 0.001597679360304188, 'weight_decay': 3.326321752805012e-05, 'optimizer': 'adagrad', 'activation': 'leaky_relu'}. Best is trial 1 with value: 0.8533397912979126.\n"
     ]
    },
    {
     "name": "stderr",
     "output_type": "stream",
     "text": [
      "GPU available: True (cuda), used: True\n",
      "TPU available: False, using: 0 TPU cores\n",
      "HPU available: False, using: 0 HPUs\n",
      "LOCAL_RANK: 0 - CUDA_VISIBLE_DEVICES: [0]\n",
      "\n",
      "  | Name           | Type                  | Params | Mode \n",
      "-----------------------------------------------------------------\n",
      "0 | auto_encoder   | CancerDataAutoEncoder | 101 K  | train\n",
      "1 | neural_network | SimpleNN              | 2.0 M  | train\n",
      "2 | loss_metric    | MeanSquaredError      | 0      | train\n",
      "3 | val_metric     | MeanSquaredError      | 0      | train\n",
      "4 | test_metric    | MeanSquaredError      | 0      | train\n",
      "-----------------------------------------------------------------\n",
      "2.0 M     Trainable params\n",
      "101 K     Non-trainable params\n",
      "2.1 M     Total params\n",
      "8.326     Total estimated model params size (MB)\n",
      "66        Modules in train mode\n",
      "0         Modules in eval mode\n"
     ]
    },
    {
     "name": "stdout",
     "output_type": "stream",
     "text": [
      "[I 2025-04-17 12:23:12,641] Trial 2 finished with value: 0.8602116107940674 and parameters: {'n_layers': 10, 'dropout': 0.40811555838408436, 'learning_rate': 0.0007537557156070148, 'weight_decay': 0.0011686001293433775, 'optimizer': 'sgd', 'activation': 'tanh'}. Best is trial 1 with value: 0.8533397912979126.\n"
     ]
    },
    {
     "name": "stderr",
     "output_type": "stream",
     "text": [
      "GPU available: True (cuda), used: True\n",
      "TPU available: False, using: 0 TPU cores\n",
      "HPU available: False, using: 0 HPUs\n",
      "LOCAL_RANK: 0 - CUDA_VISIBLE_DEVICES: [0]\n",
      "\n",
      "  | Name           | Type                  | Params | Mode \n",
      "-----------------------------------------------------------------\n",
      "0 | auto_encoder   | CancerDataAutoEncoder | 101 K  | train\n",
      "1 | neural_network | SimpleNN              | 31.6 M | train\n",
      "2 | loss_metric    | MeanSquaredError      | 0      | train\n",
      "3 | val_metric     | MeanSquaredError      | 0      | train\n",
      "4 | test_metric    | MeanSquaredError      | 0      | train\n",
      "-----------------------------------------------------------------\n",
      "31.6 M    Trainable params\n",
      "101 K     Non-trainable params\n",
      "31.7 M    Total params\n",
      "126.753   Total estimated model params size (MB)\n",
      "86        Modules in train mode\n",
      "0         Modules in eval mode\n"
     ]
    },
    {
     "name": "stdout",
     "output_type": "stream",
     "text": [
      "[I 2025-04-17 12:23:23,018] Trial 3 finished with value: 0.93423593044281 and parameters: {'n_layers': 15, 'dropout': 0.2652536697143848, 'learning_rate': 0.00018507514680125205, 'weight_decay': 8.134951516687293e-05, 'optimizer': 'sgd', 'activation': 'leaky_relu'}. Best is trial 1 with value: 0.8533397912979126.\n"
     ]
    },
    {
     "name": "stderr",
     "output_type": "stream",
     "text": [
      "GPU available: True (cuda), used: True\n",
      "TPU available: False, using: 0 TPU cores\n",
      "HPU available: False, using: 0 HPUs\n",
      "LOCAL_RANK: 0 - CUDA_VISIBLE_DEVICES: [0]\n",
      "\n",
      "  | Name           | Type                  | Params | Mode \n",
      "-----------------------------------------------------------------\n",
      "0 | auto_encoder   | CancerDataAutoEncoder | 101 K  | train\n",
      "1 | neural_network | SimpleNN              | 124 K  | train\n",
      "2 | loss_metric    | MeanSquaredError      | 0      | train\n",
      "3 | val_metric     | MeanSquaredError      | 0      | train\n",
      "4 | test_metric    | MeanSquaredError      | 0      | train\n",
      "-----------------------------------------------------------------\n",
      "124 K     Trainable params\n",
      "101 K     Non-trainable params\n",
      "225 K     Total params\n",
      "0.903     Total estimated model params size (MB)\n",
      "54        Modules in train mode\n",
      "0         Modules in eval mode\n"
     ]
    },
    {
     "name": "stdout",
     "output_type": "stream",
     "text": [
      "[I 2025-04-17 12:23:30,437] Trial 4 finished with value: 0.8626776337623596 and parameters: {'n_layers': 7, 'dropout': 0.43289955476035535, 'learning_rate': 8.165197852273437e-05, 'weight_decay': 0.000601115924392339, 'optimizer': 'sgd', 'activation': 'tanh'}. Best is trial 1 with value: 0.8533397912979126.\n"
     ]
    },
    {
     "name": "stderr",
     "output_type": "stream",
     "text": [
      "GPU available: True (cuda), used: True\n",
      "TPU available: False, using: 0 TPU cores\n",
      "HPU available: False, using: 0 HPUs\n",
      "LOCAL_RANK: 0 - CUDA_VISIBLE_DEVICES: [0]\n",
      "\n",
      "  | Name           | Type                  | Params | Mode \n",
      "-----------------------------------------------------------------\n",
      "0 | auto_encoder   | CancerDataAutoEncoder | 101 K  | train\n",
      "1 | neural_network | SimpleNN              | 7.9 M  | train\n",
      "2 | loss_metric    | MeanSquaredError      | 0      | train\n",
      "3 | val_metric     | MeanSquaredError      | 0      | train\n",
      "4 | test_metric    | MeanSquaredError      | 0      | train\n",
      "-----------------------------------------------------------------\n",
      "7.9 M     Trainable params\n",
      "101 K     Non-trainable params\n",
      "8.0 M     Total params\n",
      "32.028    Total estimated model params size (MB)\n",
      "74        Modules in train mode\n",
      "0         Modules in eval mode\n"
     ]
    },
    {
     "name": "stdout",
     "output_type": "stream",
     "text": [
      "[I 2025-04-17 12:23:46,026] Trial 5 finished with value: 0.8530164361000061 and parameters: {'n_layers': 12, 'dropout': 0.20800182530597278, 'learning_rate': 0.00017811260270674513, 'weight_decay': 0.00013881996708885085, 'optimizer': 'adam', 'activation': 'tanh'}. Best is trial 5 with value: 0.8530164361000061.\n"
     ]
    },
    {
     "name": "stderr",
     "output_type": "stream",
     "text": [
      "GPU available: True (cuda), used: True\n",
      "TPU available: False, using: 0 TPU cores\n",
      "HPU available: False, using: 0 HPUs\n",
      "LOCAL_RANK: 0 - CUDA_VISIBLE_DEVICES: [0]\n",
      "\n",
      "  | Name           | Type                  | Params | Mode \n",
      "-----------------------------------------------------------------\n",
      "0 | auto_encoder   | CancerDataAutoEncoder | 101 K  | train\n",
      "1 | neural_network | SimpleNN              | 2.0 M  | train\n",
      "2 | loss_metric    | MeanSquaredError      | 0      | train\n",
      "3 | val_metric     | MeanSquaredError      | 0      | train\n",
      "4 | test_metric    | MeanSquaredError      | 0      | train\n",
      "-----------------------------------------------------------------\n",
      "2.0 M     Trainable params\n",
      "101 K     Non-trainable params\n",
      "2.1 M     Total params\n",
      "8.329     Total estimated model params size (MB)\n",
      "70        Modules in train mode\n",
      "0         Modules in eval mode\n"
     ]
    },
    {
     "name": "stdout",
     "output_type": "stream",
     "text": [
      "[I 2025-04-17 12:23:57,689] Trial 6 finished with value: 0.8125359416007996 and parameters: {'n_layers': 11, 'dropout': 0.35313916716552657, 'learning_rate': 0.007377310473099969, 'weight_decay': 0.0021920022132719554, 'optimizer': 'adagrad', 'activation': 'relu'}. Best is trial 6 with value: 0.8125359416007996.\n"
     ]
    },
    {
     "name": "stderr",
     "output_type": "stream",
     "text": [
      "GPU available: True (cuda), used: True\n",
      "TPU available: False, using: 0 TPU cores\n",
      "HPU available: False, using: 0 HPUs\n",
      "LOCAL_RANK: 0 - CUDA_VISIBLE_DEVICES: [0]\n",
      "\n",
      "  | Name           | Type                  | Params | Mode \n",
      "-----------------------------------------------------------------\n",
      "0 | auto_encoder   | CancerDataAutoEncoder | 101 K  | train\n",
      "1 | neural_network | SimpleNN              | 2.0 M  | train\n",
      "2 | loss_metric    | MeanSquaredError      | 0      | train\n",
      "3 | val_metric     | MeanSquaredError      | 0      | train\n",
      "4 | test_metric    | MeanSquaredError      | 0      | train\n",
      "-----------------------------------------------------------------\n",
      "2.0 M     Trainable params\n",
      "101 K     Non-trainable params\n",
      "2.1 M     Total params\n",
      "8.326     Total estimated model params size (MB)\n",
      "66        Modules in train mode\n",
      "0         Modules in eval mode\n"
     ]
    },
    {
     "name": "stdout",
     "output_type": "stream",
     "text": [
      "[I 2025-04-17 12:24:05,835] Trial 7 finished with value: 0.8968642950057983 and parameters: {'n_layers': 10, 'dropout': 0.2950663386025199, 'learning_rate': 0.0006306368390684317, 'weight_decay': 0.00019864088879100814, 'optimizer': 'sgd', 'activation': 'tanh'}. Best is trial 6 with value: 0.8125359416007996.\n"
     ]
    },
    {
     "name": "stderr",
     "output_type": "stream",
     "text": [
      "GPU available: True (cuda), used: True\n",
      "TPU available: False, using: 0 TPU cores\n",
      "HPU available: False, using: 0 HPUs\n",
      "LOCAL_RANK: 0 - CUDA_VISIBLE_DEVICES: [0]\n",
      "\n",
      "  | Name           | Type                  | Params | Mode \n",
      "-----------------------------------------------------------------\n",
      "0 | auto_encoder   | CancerDataAutoEncoder | 101 K  | train\n",
      "1 | neural_network | SimpleNN              | 29.9 K | train\n",
      "2 | loss_metric    | MeanSquaredError      | 0      | train\n",
      "3 | val_metric     | MeanSquaredError      | 0      | train\n",
      "4 | test_metric    | MeanSquaredError      | 0      | train\n",
      "-----------------------------------------------------------------\n",
      "29.9 K    Trainable params\n",
      "101 K     Non-trainable params\n",
      "131 K     Total params\n",
      "0.525     Total estimated model params size (MB)\n",
      "42        Modules in train mode\n",
      "0         Modules in eval mode\n"
     ]
    },
    {
     "name": "stdout",
     "output_type": "stream",
     "text": [
      "[I 2025-04-17 12:24:22,878] Trial 8 finished with value: 0.8120988607406616 and parameters: {'n_layers': 4, 'dropout': 0.3903095902714868, 'learning_rate': 1.3495663763993526e-05, 'weight_decay': 0.005550391880194209, 'optimizer': 'sgd', 'activation': 'relu'}. Best is trial 8 with value: 0.8120988607406616.\n"
     ]
    },
    {
     "name": "stderr",
     "output_type": "stream",
     "text": [
      "GPU available: True (cuda), used: True\n",
      "TPU available: False, using: 0 TPU cores\n",
      "HPU available: False, using: 0 HPUs\n",
      "LOCAL_RANK: 0 - CUDA_VISIBLE_DEVICES: [0]\n",
      "\n",
      "  | Name           | Type                  | Params | Mode \n",
      "-----------------------------------------------------------------\n",
      "0 | auto_encoder   | CancerDataAutoEncoder | 101 K  | train\n",
      "1 | neural_network | SimpleNN              | 7.9 M  | train\n",
      "2 | loss_metric    | MeanSquaredError      | 0      | train\n",
      "3 | val_metric     | MeanSquaredError      | 0      | train\n",
      "4 | test_metric    | MeanSquaredError      | 0      | train\n",
      "-----------------------------------------------------------------\n",
      "7.9 M     Trainable params\n",
      "101 K     Non-trainable params\n",
      "8.0 M     Total params\n",
      "32.032    Total estimated model params size (MB)\n",
      "78        Modules in train mode\n",
      "0         Modules in eval mode\n"
     ]
    },
    {
     "name": "stdout",
     "output_type": "stream",
     "text": [
      "[I 2025-04-17 12:24:33,943] Trial 9 finished with value: 1.049202799797058 and parameters: {'n_layers': 13, 'dropout': 0.16755310167474108, 'learning_rate': 0.00011911507505243828, 'weight_decay': 0.006495967369387505, 'optimizer': 'adam', 'activation': 'relu'}. Best is trial 8 with value: 0.8120988607406616.\n"
     ]
    },
    {
     "name": "stderr",
     "output_type": "stream",
     "text": [
      "GPU available: True (cuda), used: True\n",
      "TPU available: False, using: 0 TPU cores\n",
      "HPU available: False, using: 0 HPUs\n",
      "LOCAL_RANK: 0 - CUDA_VISIBLE_DEVICES: [0]\n",
      "\n",
      "  | Name           | Type                  | Params | Mode \n",
      "-----------------------------------------------------------------\n",
      "0 | auto_encoder   | CancerDataAutoEncoder | 101 K  | train\n",
      "1 | neural_network | SimpleNN              | 6.9 K  | train\n",
      "2 | loss_metric    | MeanSquaredError      | 0      | train\n",
      "3 | val_metric     | MeanSquaredError      | 0      | train\n",
      "4 | test_metric    | MeanSquaredError      | 0      | train\n",
      "-----------------------------------------------------------------\n",
      "6.9 K     Trainable params\n",
      "101 K     Non-trainable params\n",
      "108 K     Total params\n",
      "0.433     Total estimated model params size (MB)\n",
      "38        Modules in train mode\n",
      "0         Modules in eval mode\n"
     ]
    },
    {
     "name": "stdout",
     "output_type": "stream",
     "text": [
      "[I 2025-04-17 12:24:42,409] Trial 10 finished with value: 0.7994317412376404 and parameters: {'n_layers': 3, 'dropout': 0.48006723714847627, 'learning_rate': 1.0813437821366036e-05, 'weight_decay': 0.007906302345830497, 'optimizer': 'sgd', 'activation': 'relu'}. Best is trial 10 with value: 0.7994317412376404.\n"
     ]
    },
    {
     "name": "stderr",
     "output_type": "stream",
     "text": [
      "GPU available: True (cuda), used: True\n",
      "TPU available: False, using: 0 TPU cores\n",
      "HPU available: False, using: 0 HPUs\n",
      "LOCAL_RANK: 0 - CUDA_VISIBLE_DEVICES: [0]\n",
      "\n",
      "  | Name           | Type                  | Params | Mode \n",
      "-----------------------------------------------------------------\n",
      "0 | auto_encoder   | CancerDataAutoEncoder | 101 K  | train\n",
      "1 | neural_network | SimpleNN              | 6.9 K  | train\n",
      "2 | loss_metric    | MeanSquaredError      | 0      | train\n",
      "3 | val_metric     | MeanSquaredError      | 0      | train\n",
      "4 | test_metric    | MeanSquaredError      | 0      | train\n",
      "-----------------------------------------------------------------\n",
      "6.9 K     Trainable params\n",
      "101 K     Non-trainable params\n",
      "108 K     Total params\n",
      "0.433     Total estimated model params size (MB)\n",
      "38        Modules in train mode\n",
      "0         Modules in eval mode\n"
     ]
    },
    {
     "name": "stdout",
     "output_type": "stream",
     "text": [
      "[I 2025-04-17 12:24:55,292] Trial 11 finished with value: 0.8220027685165405 and parameters: {'n_layers': 3, 'dropout': 0.4991506118816279, 'learning_rate': 1.0220823707061493e-05, 'weight_decay': 0.004892073797237702, 'optimizer': 'sgd', 'activation': 'relu'}. Best is trial 10 with value: 0.7994317412376404.\n"
     ]
    },
    {
     "name": "stderr",
     "output_type": "stream",
     "text": [
      "GPU available: True (cuda), used: True\n",
      "TPU available: False, using: 0 TPU cores\n",
      "HPU available: False, using: 0 HPUs\n",
      "LOCAL_RANK: 0 - CUDA_VISIBLE_DEVICES: [0]\n",
      "\n",
      "  | Name           | Type                  | Params | Mode \n",
      "-----------------------------------------------------------------\n",
      "0 | auto_encoder   | CancerDataAutoEncoder | 101 K  | train\n",
      "1 | neural_network | SimpleNN              | 123 K  | train\n",
      "2 | loss_metric    | MeanSquaredError      | 0      | train\n",
      "3 | val_metric     | MeanSquaredError      | 0      | train\n",
      "4 | test_metric    | MeanSquaredError      | 0      | train\n",
      "-----------------------------------------------------------------\n",
      "123 K     Trainable params\n",
      "101 K     Non-trainable params\n",
      "225 K     Total params\n",
      "0.900     Total estimated model params size (MB)\n",
      "50        Modules in train mode\n",
      "0         Modules in eval mode\n"
     ]
    },
    {
     "name": "stdout",
     "output_type": "stream",
     "text": [
      "[I 2025-04-17 12:25:03,608] Trial 12 finished with value: 0.809962272644043 and parameters: {'n_layers': 6, 'dropout': 0.49918400711635547, 'learning_rate': 3.180910622031884e-05, 'weight_decay': 0.0078694711042698, 'optimizer': 'sgd', 'activation': 'relu'}. Best is trial 10 with value: 0.7994317412376404.\n"
     ]
    },
    {
     "name": "stderr",
     "output_type": "stream",
     "text": [
      "GPU available: True (cuda), used: True\n",
      "TPU available: False, using: 0 TPU cores\n",
      "HPU available: False, using: 0 HPUs\n",
      "LOCAL_RANK: 0 - CUDA_VISIBLE_DEVICES: [0]\n",
      "\n",
      "  | Name           | Type                  | Params | Mode \n",
      "-----------------------------------------------------------------\n",
      "0 | auto_encoder   | CancerDataAutoEncoder | 101 K  | train\n",
      "1 | neural_network | SimpleNN              | 124 K  | train\n",
      "2 | loss_metric    | MeanSquaredError      | 0      | train\n",
      "3 | val_metric     | MeanSquaredError      | 0      | train\n",
      "4 | test_metric    | MeanSquaredError      | 0      | train\n",
      "-----------------------------------------------------------------\n",
      "124 K     Trainable params\n",
      "101 K     Non-trainable params\n",
      "225 K     Total params\n",
      "0.903     Total estimated model params size (MB)\n",
      "54        Modules in train mode\n",
      "0         Modules in eval mode\n"
     ]
    },
    {
     "name": "stdout",
     "output_type": "stream",
     "text": [
      "[I 2025-04-17 12:25:12,183] Trial 13 finished with value: 0.8280232548713684 and parameters: {'n_layers': 7, 'dropout': 0.47025895027115533, 'learning_rate': 4.2571110279306936e-05, 'weight_decay': 0.009599961488899031, 'optimizer': 'sgd', 'activation': 'relu'}. Best is trial 10 with value: 0.7994317412376404.\n"
     ]
    },
    {
     "name": "stderr",
     "output_type": "stream",
     "text": [
      "GPU available: True (cuda), used: True\n",
      "TPU available: False, using: 0 TPU cores\n",
      "HPU available: False, using: 0 HPUs\n",
      "LOCAL_RANK: 0 - CUDA_VISIBLE_DEVICES: [0]\n",
      "\n",
      "  | Name           | Type                  | Params | Mode \n",
      "-----------------------------------------------------------------\n",
      "0 | auto_encoder   | CancerDataAutoEncoder | 101 K  | train\n",
      "1 | neural_network | SimpleNN              | 123 K  | train\n",
      "2 | loss_metric    | MeanSquaredError      | 0      | train\n",
      "3 | val_metric     | MeanSquaredError      | 0      | train\n",
      "4 | test_metric    | MeanSquaredError      | 0      | train\n",
      "-----------------------------------------------------------------\n",
      "123 K     Trainable params\n",
      "101 K     Non-trainable params\n",
      "225 K     Total params\n",
      "0.900     Total estimated model params size (MB)\n",
      "50        Modules in train mode\n",
      "0         Modules in eval mode\n"
     ]
    },
    {
     "name": "stdout",
     "output_type": "stream",
     "text": [
      "[I 2025-04-17 12:25:20,537] Trial 14 finished with value: 0.8475417494773865 and parameters: {'n_layers': 6, 'dropout': 0.3408836860052154, 'learning_rate': 3.089821688982821e-05, 'weight_decay': 1.1476536354775723e-05, 'optimizer': 'adagrad', 'activation': 'RReLU'}. Best is trial 10 with value: 0.7994317412376404.\n"
     ]
    },
    {
     "name": "stderr",
     "output_type": "stream",
     "text": [
      "GPU available: True (cuda), used: True\n",
      "TPU available: False, using: 0 TPU cores\n",
      "HPU available: False, using: 0 HPUs\n",
      "LOCAL_RANK: 0 - CUDA_VISIBLE_DEVICES: [0]\n",
      "\n",
      "  | Name           | Type                  | Params | Mode \n",
      "-----------------------------------------------------------------\n",
      "0 | auto_encoder   | CancerDataAutoEncoder | 101 K  | train\n",
      "1 | neural_network | SimpleNN              | 123 K  | train\n",
      "2 | loss_metric    | MeanSquaredError      | 0      | train\n",
      "3 | val_metric     | MeanSquaredError      | 0      | train\n",
      "4 | test_metric    | MeanSquaredError      | 0      | train\n",
      "-----------------------------------------------------------------\n",
      "123 K     Trainable params\n",
      "101 K     Non-trainable params\n",
      "225 K     Total params\n",
      "0.900     Total estimated model params size (MB)\n",
      "50        Modules in train mode\n",
      "0         Modules in eval mode\n"
     ]
    },
    {
     "name": "stdout",
     "output_type": "stream",
     "text": [
      "[I 2025-04-17 12:25:33,165] Trial 15 finished with value: 0.8292518258094788 and parameters: {'n_layers': 6, 'dropout': 0.4924644394346834, 'learning_rate': 5.619527970763159e-05, 'weight_decay': 0.0027888716879433013, 'optimizer': 'sgd', 'activation': 'relu'}. Best is trial 10 with value: 0.7994317412376404.\n"
     ]
    },
    {
     "name": "stderr",
     "output_type": "stream",
     "text": [
      "GPU available: True (cuda), used: True\n",
      "TPU available: False, using: 0 TPU cores\n",
      "HPU available: False, using: 0 HPUs\n",
      "LOCAL_RANK: 0 - CUDA_VISIBLE_DEVICES: [0]\n",
      "\n",
      "  | Name           | Type                  | Params | Mode \n",
      "-----------------------------------------------------------------\n",
      "0 | auto_encoder   | CancerDataAutoEncoder | 101 K  | train\n",
      "1 | neural_network | SimpleNN              | 6.9 K  | train\n",
      "2 | loss_metric    | MeanSquaredError      | 0      | train\n",
      "3 | val_metric     | MeanSquaredError      | 0      | train\n",
      "4 | test_metric    | MeanSquaredError      | 0      | train\n",
      "-----------------------------------------------------------------\n",
      "6.9 K     Trainable params\n",
      "101 K     Non-trainable params\n",
      "108 K     Total params\n",
      "0.433     Total estimated model params size (MB)\n",
      "38        Modules in train mode\n",
      "0         Modules in eval mode\n"
     ]
    },
    {
     "name": "stdout",
     "output_type": "stream",
     "text": [
      "[I 2025-04-17 12:25:41,230] Trial 16 finished with value: 0.8949408531188965 and parameters: {'n_layers': 3, 'dropout': 0.43665157881283334, 'learning_rate': 2.839363743806102e-05, 'weight_decay': 0.00040270765263104917, 'optimizer': 'sgd', 'activation': 'relu'}. Best is trial 10 with value: 0.7994317412376404.\n"
     ]
    },
    {
     "name": "stderr",
     "output_type": "stream",
     "text": [
      "GPU available: True (cuda), used: True\n",
      "TPU available: False, using: 0 TPU cores\n",
      "HPU available: False, using: 0 HPUs\n",
      "LOCAL_RANK: 0 - CUDA_VISIBLE_DEVICES: [0]\n",
      "\n",
      "  | Name           | Type                  | Params | Mode \n",
      "-----------------------------------------------------------------\n",
      "0 | auto_encoder   | CancerDataAutoEncoder | 101 K  | train\n",
      "1 | neural_network | SimpleNN              | 30.7 K | train\n",
      "2 | loss_metric    | MeanSquaredError      | 0      | train\n",
      "3 | val_metric     | MeanSquaredError      | 0      | train\n",
      "4 | test_metric    | MeanSquaredError      | 0      | train\n",
      "-----------------------------------------------------------------\n",
      "30.7 K    Trainable params\n",
      "101 K     Non-trainable params\n",
      "131 K     Total params\n",
      "0.528     Total estimated model params size (MB)\n",
      "46        Modules in train mode\n",
      "0         Modules in eval mode\n"
     ]
    },
    {
     "name": "stdout",
     "output_type": "stream",
     "text": [
      "[I 2025-04-17 12:25:54,528] Trial 17 finished with value: 0.8965016007423401 and parameters: {'n_layers': 5, 'dropout': 0.3322541503810571, 'learning_rate': 1.2141724863006638e-05, 'weight_decay': 0.0024932193905100397, 'optimizer': 'sgd', 'activation': 'relu'}. Best is trial 10 with value: 0.7994317412376404.\n"
     ]
    },
    {
     "name": "stderr",
     "output_type": "stream",
     "text": [
      "GPU available: True (cuda), used: True\n",
      "TPU available: False, using: 0 TPU cores\n",
      "HPU available: False, using: 0 HPUs\n",
      "LOCAL_RANK: 0 - CUDA_VISIBLE_DEVICES: [0]\n",
      "\n",
      "  | Name           | Type                  | Params | Mode \n",
      "-----------------------------------------------------------------\n",
      "0 | auto_encoder   | CancerDataAutoEncoder | 101 K  | train\n",
      "1 | neural_network | SimpleNN              | 496 K  | train\n",
      "2 | loss_metric    | MeanSquaredError      | 0      | train\n",
      "3 | val_metric     | MeanSquaredError      | 0      | train\n",
      "4 | test_metric    | MeanSquaredError      | 0      | train\n",
      "-----------------------------------------------------------------\n",
      "496 K     Trainable params\n",
      "101 K     Non-trainable params\n",
      "597 K     Total params\n",
      "2.390     Total estimated model params size (MB)\n",
      "58        Modules in train mode\n",
      "0         Modules in eval mode\n"
     ]
    },
    {
     "name": "stdout",
     "output_type": "stream",
     "text": [
      "[I 2025-04-17 12:26:03,360] Trial 18 finished with value: 0.8400874137878418 and parameters: {'n_layers': 8, 'dropout': 0.06937118323082514, 'learning_rate': 0.0037168329720387765, 'weight_decay': 0.009884357218363893, 'optimizer': 'adam', 'activation': 'RReLU'}. Best is trial 10 with value: 0.7994317412376404.\n"
     ]
    },
    {
     "name": "stderr",
     "output_type": "stream",
     "text": [
      "GPU available: True (cuda), used: True\n",
      "TPU available: False, using: 0 TPU cores\n",
      "HPU available: False, using: 0 HPUs\n",
      "LOCAL_RANK: 0 - CUDA_VISIBLE_DEVICES: [0]\n",
      "\n",
      "  | Name           | Type                  | Params | Mode \n",
      "-----------------------------------------------------------------\n",
      "0 | auto_encoder   | CancerDataAutoEncoder | 101 K  | train\n",
      "1 | neural_network | SimpleNN              | 30.7 K | train\n",
      "2 | loss_metric    | MeanSquaredError      | 0      | train\n",
      "3 | val_metric     | MeanSquaredError      | 0      | train\n",
      "4 | test_metric    | MeanSquaredError      | 0      | train\n",
      "-----------------------------------------------------------------\n",
      "30.7 K    Trainable params\n",
      "101 K     Non-trainable params\n",
      "131 K     Total params\n",
      "0.528     Total estimated model params size (MB)\n",
      "46        Modules in train mode\n",
      "0         Modules in eval mode\n"
     ]
    },
    {
     "name": "stdout",
     "output_type": "stream",
     "text": [
      "[I 2025-04-17 12:26:11,810] Trial 19 finished with value: 0.8371884822845459 and parameters: {'n_layers': 5, 'dropout': 0.38650410525023504, 'learning_rate': 0.0005068980922291373, 'weight_decay': 0.0011695926407715262, 'optimizer': 'adagrad', 'activation': 'leaky_relu'}. Best is trial 10 with value: 0.7994317412376404.\n"
     ]
    },
    {
     "name": "stderr",
     "output_type": "stream",
     "text": [
      "GPU available: True (cuda), used: True\n",
      "TPU available: False, using: 0 TPU cores\n",
      "HPU available: False, using: 0 HPUs\n",
      "LOCAL_RANK: 0 - CUDA_VISIBLE_DEVICES: [0]\n",
      "\n",
      "  | Name           | Type                  | Params | Mode \n",
      "-----------------------------------------------------------------\n",
      "0 | auto_encoder   | CancerDataAutoEncoder | 101 K  | train\n",
      "1 | neural_network | SimpleNN              | 496 K  | train\n",
      "2 | loss_metric    | MeanSquaredError      | 0      | train\n",
      "3 | val_metric     | MeanSquaredError      | 0      | train\n",
      "4 | test_metric    | MeanSquaredError      | 0      | train\n",
      "-----------------------------------------------------------------\n",
      "496 K     Trainable params\n",
      "101 K     Non-trainable params\n",
      "597 K     Total params\n",
      "2.390     Total estimated model params size (MB)\n",
      "58        Modules in train mode\n",
      "0         Modules in eval mode\n"
     ]
    },
    {
     "name": "stdout",
     "output_type": "stream",
     "text": [
      "[I 2025-04-17 12:26:21,136] Trial 20 finished with value: 0.8167811036109924 and parameters: {'n_layers': 8, 'dropout': 0.44747477031785476, 'learning_rate': 6.751498405356772e-05, 'weight_decay': 0.003581722451374933, 'optimizer': 'sgd', 'activation': 'relu'}. Best is trial 10 with value: 0.7994317412376404.\n"
     ]
    },
    {
     "name": "stderr",
     "output_type": "stream",
     "text": [
      "GPU available: True (cuda), used: True\n",
      "TPU available: False, using: 0 TPU cores\n",
      "HPU available: False, using: 0 HPUs\n",
      "LOCAL_RANK: 0 - CUDA_VISIBLE_DEVICES: [0]\n",
      "\n",
      "  | Name           | Type                  | Params | Mode \n",
      "-----------------------------------------------------------------\n",
      "0 | auto_encoder   | CancerDataAutoEncoder | 101 K  | train\n",
      "1 | neural_network | SimpleNN              | 29.9 K | train\n",
      "2 | loss_metric    | MeanSquaredError      | 0      | train\n",
      "3 | val_metric     | MeanSquaredError      | 0      | train\n",
      "4 | test_metric    | MeanSquaredError      | 0      | train\n",
      "-----------------------------------------------------------------\n",
      "29.9 K    Trainable params\n",
      "101 K     Non-trainable params\n",
      "131 K     Total params\n",
      "0.525     Total estimated model params size (MB)\n",
      "42        Modules in train mode\n",
      "0         Modules in eval mode\n"
     ]
    },
    {
     "name": "stdout",
     "output_type": "stream",
     "text": [
      "[I 2025-04-17 12:26:30,356] Trial 21 finished with value: 0.8570951223373413 and parameters: {'n_layers': 4, 'dropout': 0.37678533477503107, 'learning_rate': 1.792512015937935e-05, 'weight_decay': 0.005135683503443019, 'optimizer': 'sgd', 'activation': 'relu'}. Best is trial 10 with value: 0.7994317412376404.\n"
     ]
    },
    {
     "name": "stderr",
     "output_type": "stream",
     "text": [
      "GPU available: True (cuda), used: True\n",
      "TPU available: False, using: 0 TPU cores\n",
      "HPU available: False, using: 0 HPUs\n",
      "LOCAL_RANK: 0 - CUDA_VISIBLE_DEVICES: [0]\n",
      "\n",
      "  | Name           | Type                  | Params | Mode \n",
      "-----------------------------------------------------------------\n",
      "0 | auto_encoder   | CancerDataAutoEncoder | 101 K  | train\n",
      "1 | neural_network | SimpleNN              | 6.9 K  | train\n",
      "2 | loss_metric    | MeanSquaredError      | 0      | train\n",
      "3 | val_metric     | MeanSquaredError      | 0      | train\n",
      "4 | test_metric    | MeanSquaredError      | 0      | train\n",
      "-----------------------------------------------------------------\n",
      "6.9 K     Trainable params\n",
      "101 K     Non-trainable params\n",
      "108 K     Total params\n",
      "0.433     Total estimated model params size (MB)\n",
      "38        Modules in train mode\n",
      "0         Modules in eval mode\n"
     ]
    },
    {
     "name": "stdout",
     "output_type": "stream",
     "text": [
      "[I 2025-04-17 12:26:47,112] Trial 22 finished with value: 0.8476845622062683 and parameters: {'n_layers': 3, 'dropout': 0.45430209841391483, 'learning_rate': 1.8164697609797187e-05, 'weight_decay': 0.0021294819079090677, 'optimizer': 'sgd', 'activation': 'relu'}. Best is trial 10 with value: 0.7994317412376404.\n"
     ]
    },
    {
     "name": "stderr",
     "output_type": "stream",
     "text": [
      "GPU available: True (cuda), used: True\n",
      "TPU available: False, using: 0 TPU cores\n",
      "HPU available: False, using: 0 HPUs\n",
      "LOCAL_RANK: 0 - CUDA_VISIBLE_DEVICES: [0]\n",
      "\n",
      "  | Name           | Type                  | Params | Mode \n",
      "-----------------------------------------------------------------\n",
      "0 | auto_encoder   | CancerDataAutoEncoder | 101 K  | train\n",
      "1 | neural_network | SimpleNN              | 30.7 K | train\n",
      "2 | loss_metric    | MeanSquaredError      | 0      | train\n",
      "3 | val_metric     | MeanSquaredError      | 0      | train\n",
      "4 | test_metric    | MeanSquaredError      | 0      | train\n",
      "-----------------------------------------------------------------\n",
      "30.7 K    Trainable params\n",
      "101 K     Non-trainable params\n",
      "131 K     Total params\n",
      "0.528     Total estimated model params size (MB)\n",
      "46        Modules in train mode\n",
      "0         Modules in eval mode\n"
     ]
    }
   ],
   "source": [
    "# --- Run Optuna ---\n",
    "study = optuna.create_study(direction=\"minimize\", study_name=\"ae_regressor_scaled_study\")\n",
    "study.optimize(objective, n_trials=100, n_jobs=1, show_progress_bar=True)\n",
    "\n",
    "# --- Print Best Result ---\n",
    "print(\"Best trial:\")\n",
    "print(f\"  Value (val_mse): {study.best_trial.value}\")\n",
    "print(\"  Params:\")\n",
    "for key, val in study.best_trial.params.items():\n",
    "    print(f\"    {key}: {val}\")"
   ]
  },
  {
   "cell_type": "code",
   "execution_count": null,
   "metadata": {},
   "outputs": [],
   "source": [
    "best_model_logger = trial_to_details[study.best_trial.number][\"logger\"]"
   ]
  },
  {
   "cell_type": "code",
   "execution_count": null,
   "metadata": {},
   "outputs": [
    {
     "data": {
      "image/png": "[encoded data removed]",
      "text/plain": [
       "<Figure size 1200x500 with 1 Axes>"
      ]
     },
     "metadata": {},
     "output_type": "display_data"
    }
   ],
   "source": [
    "from utils.helper_functions import make_plots\n",
    "\n",
    "\n",
    "history = pd.read_csv(best_model_logger.log_dir + \"/metrics.csv\")\n",
    "make_plots(history, \"Autoencoder Training and Validation Loss\")"
   ]
  },
  {
   "cell_type": "code",
   "execution_count": null,
   "metadata": {},
   "outputs": [],
   "source": [
    "best_model_path = trial_to_details[study.best_trial.number][\"checkpoint\"].best_model_path\n",
    "!cp {best_model_path} results/05/best_model.pth"
   ]
  },
  {
   "cell_type": "code",
   "execution_count": null,
   "metadata": {},
   "outputs": [
    {
     "data": {
      "text/plain": [
       "BaseCancerRegressor(\n",
       "  (auto_encoder): CancerDataAutoEncoder(\n",
       "    (encoder): Sequential(\n",
       "      (0): Linear(in_features=203, out_features=121, bias=True)\n",
       "      (1): ReLU()\n",
       "      (2): Dropout(p=0.08362845598146633, inplace=False)\n",
       "      (3): Linear(in_features=121, out_features=39, bias=True)\n",
       "      (4): ReLU()\n",
       "      (5): Dropout(p=0.08362845598146633, inplace=False)\n",
       "      (6): Linear(in_features=39, out_features=38, bias=True)\n",
       "    )\n",
       "    (decoder): Sequential(\n",
       "      (0): Linear(in_features=38, out_features=120, bias=True)\n",
       "      (1): ReLU()\n",
       "      (2): Dropout(p=0.08362845598146633, inplace=False)\n",
       "      (3): Linear(in_features=120, out_features=202, bias=True)\n",
       "      (4): ReLU()\n",
       "      (5): Dropout(p=0.08362845598146633, inplace=False)\n",
       "      (6): Linear(in_features=202, out_features=203, bias=True)\n",
       "    )\n",
       "    (loss_metric): MeanSquaredError()\n",
       "    (val_metric): MeanSquaredError()\n",
       "    (test_metric): MeanSquaredError()\n",
       "  )\n",
       "  (neural_network): SimpleNN(\n",
       "    (network): Sequential(\n",
       "      (0): Linear(in_features=38, out_features=76, bias=True)\n",
       "      (1): BatchNorm1d(76, eps=1e-05, momentum=0.1, affine=True, track_running_stats=True)\n",
       "      (2): Tanh()\n",
       "      (3): Dropout(p=0.4356414228391061, inplace=False)\n",
       "      (4): Linear(in_features=76, out_features=152, bias=True)\n",
       "      (5): BatchNorm1d(152, eps=1e-05, momentum=0.1, affine=True, track_running_stats=True)\n",
       "      (6): Tanh()\n",
       "      (7): Dropout(p=0.4356414228391061, inplace=False)\n",
       "      (8): Linear(in_features=152, out_features=304, bias=True)\n",
       "      (9): BatchNorm1d(304, eps=1e-05, momentum=0.1, affine=True, track_running_stats=True)\n",
       "      (10): Tanh()\n",
       "      (11): Dropout(p=0.4356414228391061, inplace=False)\n",
       "      (12): Linear(in_features=304, out_features=608, bias=True)\n",
       "      (13): BatchNorm1d(608, eps=1e-05, momentum=0.1, affine=True, track_running_stats=True)\n",
       "      (14): Tanh()\n",
       "      (15): Dropout(p=0.4356414228391061, inplace=False)\n",
       "      (16): Linear(in_features=608, out_features=1216, bias=True)\n",
       "      (17): BatchNorm1d(1216, eps=1e-05, momentum=0.1, affine=True, track_running_stats=True)\n",
       "      (18): Tanh()\n",
       "      (19): Dropout(p=0.4356414228391061, inplace=False)\n",
       "      (20): Linear(in_features=1216, out_features=608, bias=True)\n",
       "      (21): BatchNorm1d(608, eps=1e-05, momentum=0.1, affine=True, track_running_stats=True)\n",
       "      (22): Tanh()\n",
       "      (23): Dropout(p=0.4356414228391061, inplace=False)\n",
       "      (24): Linear(in_features=608, out_features=304, bias=True)\n",
       "      (25): BatchNorm1d(304, eps=1e-05, momentum=0.1, affine=True, track_running_stats=True)\n",
       "      (26): Tanh()\n",
       "      (27): Dropout(p=0.4356414228391061, inplace=False)\n",
       "      (28): Linear(in_features=304, out_features=152, bias=True)\n",
       "      (29): BatchNorm1d(152, eps=1e-05, momentum=0.1, affine=True, track_running_stats=True)\n",
       "      (30): Tanh()\n",
       "      (31): Dropout(p=0.4356414228391061, inplace=False)\n",
       "      (32): Linear(in_features=152, out_features=76, bias=True)\n",
       "      (33): BatchNorm1d(76, eps=1e-05, momentum=0.1, affine=True, track_running_stats=True)\n",
       "      (34): Tanh()\n",
       "      (35): Dropout(p=0.4356414228391061, inplace=False)\n",
       "      (36): Linear(in_features=76, out_features=38, bias=True)\n",
       "      (37): BatchNorm1d(38, eps=1e-05, momentum=0.1, affine=True, track_running_stats=True)\n",
       "      (38): Tanh()\n",
       "      (39): Dropout(p=0.4356414228391061, inplace=False)\n",
       "      (40): Linear(in_features=38, out_features=19, bias=True)\n",
       "      (41): BatchNorm1d(19, eps=1e-05, momentum=0.1, affine=True, track_running_stats=True)\n",
       "      (42): Tanh()\n",
       "      (43): Dropout(p=0.4356414228391061, inplace=False)\n",
       "      (44): Linear(in_features=19, out_features=1, bias=True)\n",
       "    )\n",
       "  )\n",
       "  (loss_metric): MeanSquaredError()\n",
       "  (val_metric): MeanSquaredError()\n",
       "  (test_metric): MeanSquaredError()\n",
       ")"
      ]
     },
     "execution_count": 20,
     "metadata": {},
     "output_type": "execute_result"
    }
   ],
   "source": [
    "activation_dict = {\n",
    "    \"relu\": nn.ReLU,\n",
    "    \"leaky_relu\": nn.LeakyReLU,\n",
    "    \"tanh\": nn.Tanh,\n",
    "    \"RReLU\": nn.RReLU,\n",
    "}\n",
    "optimizer_dict = {\n",
    "    \"adam\": torch.optim.Adam,\n",
    "    \"sgd\": torch.optim.SGD,\n",
    "    \"adagrad\": torch.optim.Adagrad,\n",
    "}\n",
    "\n",
    "best_model = BaseCancerRegressor.load_from_checkpoint(\n",
    "    trial_to_details[study.best_trial.number][\"checkpoint\"].best_model_path,\n",
    "    auto_encoder=CancerDataAutoEncoder.load_from_checkpoint(\n",
    "            best_ae_model_path,\n",
    "            **best_model_params\n",
    "        ),\n",
    "        neural_network=SimpleNN(\n",
    "            input_dim=best_model_params['latent_size'],\n",
    "            n_layers=study.best_trial.params['n_layers'],\n",
    "            dropout=study.best_trial.params['dropout'],\n",
    "            activation=activation_dict[study.best_trial.params['activation']],\n",
    "            target_scaler=target_scaler,\n",
    "        ),\n",
    "        lr=study.best_trial.params['learning_rate'],\n",
    "        weight_decay=study.best_trial.params['weight_decay'],\n",
    "        optimizer=optimizer_dict[study.best_trial.params['optimizer']],\n",
    "    \n",
    ")\n",
    "best_model"
   ]
  },
  {
   "cell_type": "code",
   "execution_count": null,
   "metadata": {},
   "outputs": [
    {
     "data": {
      "text/plain": [
       "['results/03/best_model_trial_ae_84.pkl']"
      ]
     },
     "execution_count": 22,
     "metadata": {},
     "output_type": "execute_result"
    }
   ],
   "source": [
    "joblib.dump(\n",
    "    best_model,\n",
    "    f\"results/05/best_model_trial_ae_scaled_{study.best_trial.number}.pkl\",\n",
    ")"
   ]
  },
  {
   "cell_type": "code",
   "execution_count": null,
   "metadata": {},
   "outputs": [
    {
     "data": {
      "image/png": "[encoded data removed]",
      "text/plain": [
       "<Figure size 1000x600 with 1 Axes>"
      ]
     },
     "metadata": {},
     "output_type": "display_data"
    }
   ],
   "source": [
    "plot_regression_results(cancer_regressor, cancer_dm.test_dataloader())"
   ]
  },
  {
   "cell_type": "code",
   "execution_count": null,
   "metadata": {},
   "outputs": [],
   "source": []
  }
 ],
 "metadata": {
  "kernelspec": {
   "display_name": "bmi_6114",
   "language": "python",
   "name": "python3"
  },
  "language_info": {
   "codemirror_mode": {
    "name": "ipython",
    "version": 3
   },
   "file_extension": ".py",
   "mimetype": "text/x-python",
   "name": "python",
   "nbconvert_exporter": "python",
   "pygments_lexer": "ipython3",
   "version": "3.12.5"
  }
 },
 "nbformat": 4,
 "nbformat_minor": 2
}
