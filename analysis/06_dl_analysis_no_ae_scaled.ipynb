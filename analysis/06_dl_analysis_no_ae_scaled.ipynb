{
      "cells": [
            {
                  "cell_type": "code",
                  "execution_count": 1,
                  "metadata": {},
                  "outputs": [],
                  "source": [
                        "%load_ext autoreload\n",
                        "%autoreload 2\n"
                  ]
            },
            {
                  "cell_type": "markdown",
                  "metadata": {},
                  "source": [
                        "# Deep Learning Analysis"
                  ]
            },
            {
                  "cell_type": "code",
                  "execution_count": 2,
                  "metadata": {},
                  "outputs": [],
                  "source": [
                        "import json\n",
                        "import joblib\n",
                        "import lightning as L\n",
                        "import matplotlib.pyplot as plt\n",
                        "import numpy as np\n",
                        "import pandas as pd\n",
                        "import torch\n",
                        "import torch.nn as nn\n",
                        "import torch.nn.functional as F\n",
                        "import torchvision.transforms as transforms\n",
                        "from torch.utils.data import DataLoader, random_split\n",
                        "from torchmetrics import MeanSquaredError\n",
                        "from torchvision import datasets\n",
                        "from utils.helper_classes import CancerDataModule, CancerDataset\n",
                        "from utils.models import BaseCancerRegressor, CancerDataAutoEncoder"
                  ]
            },
            {
                  "cell_type": "code",
                  "execution_count": 3,
                  "metadata": {},
                  "outputs": [],
                  "source": [
                        "cancer_df = pd.read_csv(\"../data/cleaned_feature_and_target_data_large.csv\", index_col=0)\n",
                        "cna_columns = [col for col in cancer_df.columns if col.startswith(\"CNA\")]\n",
                        "numeric_cols = [\"SMOKING_PACK_YEARS\"] + cna_columns\n",
                        "cancer_df[numeric_cols] = cancer_df[numeric_cols].astype(np.float32)\n",
                        "scaler = joblib.load(open(\"results/scaler.pkl\", \"rb\"))\n",
                        "cancer_dm = CancerDataModule(cancer_df, numerical_features=numeric_cols, scaler=scaler)\n",
                        "cancer_dm.setup()"
                  ]
            },
            {
                  "cell_type": "code",
                  "execution_count": 4,
                  "metadata": {},
                  "outputs": [],
                  "source": [
                        "cdm = CancerDataModule(cancer_df, numerical_features=numeric_cols, scaler=scaler, scale_targets=True)\n",
                        "cdm.setup()\n",
                        "target_scaler = cdm.target_scaler"
                  ]
            },
            {
                  "cell_type": "code",
                  "execution_count": 5,
                  "metadata": {},
                  "outputs": [],
                  "source": [
                        "import random\n",
                        "\n",
                        "\n",
                        "class NNRegressor(L.LightningModule):\n",
                        "    def __init__(self, input_dim, n_layers=1, dropout=0.2, activation=nn.LeakyReLU, optimizer=torch.optim.Adam, lr=1e-3, weight_decay=1e-4, target_scaler=None):\n",
                        "        super(NNRegressor, self).__init__()\n",
                        "        self.target_scaler = target_scaler\n",
                        "        self.optimizer = optimizer\n",
                        "        self.lr = lr\n",
                        "        self.weight_decay = weight_decay\n",
                        "        self.layers = []\n",
                        "        curr_size = input_dim\n",
                        "        len_first_half = int(n_layers / 2)\n",
                        "        len_second_half = n_layers - len_first_half\n",
                        "        for i in range(len_first_half):\n",
                        "            new_size = curr_size * 2\n",
                        "            self.layers += [\n",
                        "                nn.Linear(curr_size, new_size),\n",
                        "                nn.BatchNorm1d(new_size),\n",
                        "                activation(),\n",
                        "                nn.Dropout(dropout),\n",
                        "            ]\n",
                        "            curr_size = new_size\n",
                        "        \n",
                        "        for i in range(len_second_half):\n",
                        "            new_size = curr_size // 2\n",
                        "            self.layers += [\n",
                        "                nn.Linear(curr_size, new_size),\n",
                        "                nn.BatchNorm1d(new_size),\n",
                        "                activation(),\n",
                        "                nn.Dropout(dropout),\n",
                        "            ]\n",
                        "            curr_size = new_size\n",
                        "        if curr_size > 1:\n",
                        "            self.layers.append(nn.Linear(curr_size, 1))\n",
                        "        self.network = nn.Sequential(*self.layers)\n",
                        "\n",
                        "        self.loss_metric = MeanSquaredError()\n",
                        "        self.val_metric = MeanSquaredError()\n",
                        "        self.test_metric = MeanSquaredError()\n",
                        "\n",
                        "\n",
                        "\n",
                        "    def forward(self, x):\n",
                        "        y = self.network(x)\n",
                        "        return y\n",
                        "    \n",
                        "    def training_step(self, batch, batch_idx):\n",
                        "        x, y = batch\n",
                        "        x = x.to(self.device)\n",
                        "        y = y.to(self.device)\n",
                        "        y_hat = self(x)\n",
                        "        loss = nn.functional.mse_loss(y_hat, y)\n",
                        "        self.log(\"train_loss\", loss, prog_bar=True)\n",
                        "        self.log(\"train_mse\", self.loss_metric(y_hat, y), prog_bar=True)\n",
                        "\n",
                        "        return loss\n",
                        "    \n",
                        "    def on_training_epoch_end(self):\n",
                        "        self.log(\"train_mse\", self.loss_metric.compute())\n",
                        "        self.loss_metric.reset()\n",
                        "\n",
                        "    def validation_step(self, batch, batch_idx):\n",
                        "        x, y = batch\n",
                        "        y_hat = self(x)\n",
                        "        loss = nn.functional.mse_loss(y_hat, y)\n",
                        "        self.log(\"val_loss\", loss, prog_bar=True)\n",
                        "        self.log(\"val_mse\", self.val_metric(y_hat, y), prog_bar=True)\n",
                        "\n",
                        "    def on_validation_epoch_end(self):\n",
                        "        self.log(\"val_mse\", self.val_metric.compute())\n",
                        "        self.val_metric.reset()\n",
                        "        \n",
                        "    def configure_optimizers(self):\n",
                        "        return self.optimizer(self.network.parameters(), lr=self.lr, weight_decay=self.weight_decay)\n",
                        "    \n",
                        "    def test_step(self, batch, batch_idx):\n",
                        "        x, y = batch\n",
                        "        y_hat = self(x)\n",
                        "        loss = nn.functional.mse_loss(y_hat, y)\n",
                        "        self.log(\"test_loss\", loss, prog_bar=True)\n",
                        "        self.log(\"test_mse\", self.test_metric(y_hat, y), prog_bar=True)\n",
                        "        return loss\n",
                        "    \n",
                        "    def on_test_epoch_end(self):\n",
                        "        self.log(\"test_mse\", self.test_metric.compute())\n",
                        "        self.test_metric.reset()\n",
                        "\n",
                        "simple_nn = NNRegressor(\n",
                        "    input_dim=len(cancer_dm.ds_train[0][0]),\n",
                        "    n_layers=8,\n",
                        "    target_scaler=target_scaler,\n",
                        ")"
                  ]
            },
            {
                  "cell_type": "code",
                  "execution_count": null,
                  "metadata": {},
                  "outputs": [
                        {
                              "data": {
                                    "text/plain": [
                                          "==========================================================================================\n",
                                          "Layer (type:depth-idx)                   Output Shape              Param #\n",
                                          "==========================================================================================\n",
                                          "NNRegressor                              [1, 1]                    --\n",
                                          "├─Sequential: 1-1                        [1, 1]                    --\n",
                                          "│    └─Linear: 2-1                       [1, 1978]                 1,958,220\n",
                                          "│    └─BatchNorm1d: 2-2                  [1, 1978]                 3,956\n",
                                          "│    └─LeakyReLU: 2-3                    [1, 1978]                 --\n",
                                          "│    └─Dropout: 2-4                      [1, 1978]                 --\n",
                                          "│    └─Linear: 2-5                       [1, 3956]                 7,828,924\n",
                                          "│    └─BatchNorm1d: 2-6                  [1, 3956]                 7,912\n",
                                          "│    └─LeakyReLU: 2-7                    [1, 3956]                 --\n",
                                          "│    └─Dropout: 2-8                      [1, 3956]                 --\n",
                                          "│    └─Linear: 2-9                       [1, 7912]                 31,307,784\n",
                                          "│    └─BatchNorm1d: 2-10                 [1, 7912]                 15,824\n",
                                          "│    └─LeakyReLU: 2-11                   [1, 7912]                 --\n",
                                          "│    └─Dropout: 2-12                     [1, 7912]                 --\n",
                                          "│    └─Linear: 2-13                      [1, 15824]                125,215,312\n",
                                          "│    └─BatchNorm1d: 2-14                 [1, 15824]                31,648\n",
                                          "│    └─LeakyReLU: 2-15                   [1, 15824]                --\n",
                                          "│    └─Dropout: 2-16                     [1, 15824]                --\n",
                                          "│    └─Linear: 2-17                      [1, 7912]                 125,207,400\n",
                                          "│    └─BatchNorm1d: 2-18                 [1, 7912]                 15,824\n",
                                          "│    └─LeakyReLU: 2-19                   [1, 7912]                 --\n",
                                          "│    └─Dropout: 2-20                     [1, 7912]                 --\n",
                                          "│    └─Linear: 2-21                      [1, 3956]                 31,303,828\n",
                                          "│    └─BatchNorm1d: 2-22                 [1, 3956]                 7,912\n",
                                          "│    └─LeakyReLU: 2-23                   [1, 3956]                 --\n",
                                          "│    └─Dropout: 2-24                     [1, 3956]                 --\n",
                                          "│    └─Linear: 2-25                      [1, 1978]                 7,826,946\n",
                                          "│    └─BatchNorm1d: 2-26                 [1, 1978]                 3,956\n",
                                          "│    └─LeakyReLU: 2-27                   [1, 1978]                 --\n",
                                          "│    └─Dropout: 2-28                     [1, 1978]                 --\n",
                                          "│    └─Linear: 2-29                      [1, 989]                  1,957,231\n",
                                          "│    └─BatchNorm1d: 2-30                 [1, 989]                  1,978\n",
                                          "│    └─LeakyReLU: 2-31                   [1, 989]                  --\n",
                                          "│    └─Dropout: 2-32                     [1, 989]                  --\n",
                                          "│    └─Linear: 2-33                      [1, 1]                    990\n",
                                          "==========================================================================================\n",
                                          "Total params: 332,695,645\n",
                                          "Trainable params: 332,695,645\n",
                                          "Non-trainable params: 0\n",
                                          "Total mult-adds (Units.MEGABYTES): 332.70\n",
                                          "==========================================================================================\n",
                                          "Input size (MB): 0.00\n",
                                          "Forward/backward pass size (MB): 0.71\n",
                                          "Params size (MB): 1330.78\n",
                                          "Estimated Total Size (MB): 1331.50\n",
                                          "=========================================================================================="
                                    ]
                              },
                              "execution_count": 6,
                              "metadata": {},
                              "output_type": "execute_result"
                        },
                        {
                              "ename": "",
                              "evalue": "",
                              "output_type": "error",
                              "traceback": [
                                    "\u001b[1;31mThe Kernel crashed while executing code in the current cell or a previous cell. \n",
                                    "\u001b[1;31mPlease review the code in the cell(s) to identify a possible cause of the failure. \n",
                                    "\u001b[1;31mClick <a href='https://aka.ms/vscodeJupyterKernelCrash'>here</a> for more info. \n",
                                    "\u001b[1;31mView Jupyter <a href='command:jupyter.viewOutput'>log</a> for further details."
                              ]
                        }
                  ],
                  "source": [
                        "from torchinfo import summary\n",
                        "\n",
                        "input_dim = len(cancer_dm.ds_train[0][0])\n",
                        "summary(NNRegressor(\n",
                        "    input_dim=len(cancer_dm.ds_train[0][0]),\n",
                        "    n_layers=8,\n",
                        "    target_scaler=target_scaler,\n",
                        "), input_size=(1, input_dim))"
                  ]
            },
            {
                  "cell_type": "code",
                  "execution_count": null,
                  "metadata": {},
                  "outputs": [
                        {
                              "name": "stderr",
                              "output_type": "stream",
                              "text": [
                                    "GPU available: True (cuda), used: True\n",
                                    "TPU available: False, using: 0 TPU cores\n",
                                    "HPU available: False, using: 0 HPUs\n",
                                    "You are using a CUDA device ('NVIDIA GeForce RTX 3080 Laptop GPU') that has Tensor Cores. To properly utilize them, you should set `torch.set_float32_matmul_precision('medium' | 'high')` which will trade-off precision for performance. For more details, read https://pytorch.org/docs/stable/generated/torch.set_float32_matmul_precision.html#torch.set_float32_matmul_precision\n",
                                    "LOCAL_RANK: 0 - CUDA_VISIBLE_DEVICES: [0]\n",
                                    "\n",
                                    "  | Name        | Type             | Params | Mode \n",
                                    "---------------------------------------------------------\n",
                                    "0 | network     | Sequential       | 332 M  | train\n",
                                    "1 | loss_metric | MeanSquaredError | 0      | train\n",
                                    "2 | val_metric  | MeanSquaredError | 0      | train\n",
                                    "3 | test_metric | MeanSquaredError | 0      | train\n",
                                    "---------------------------------------------------------\n",
                                    "332 M     Trainable params\n",
                                    "0         Non-trainable params\n",
                                    "332 M     Total params\n",
                                    "1,330.783 Total estimated model params size (MB)\n",
                                    "37        Modules in train mode\n",
                                    "0         Modules in eval mode\n"
                              ]
                        },
                        {
                              "data": {
                                    "application/vnd.jupyter.widget-view+json": {
                                          "model_id": "5bdd88a047ed46408624838ff1a6d054",
                                          "version_major": 2,
                                          "version_minor": 0
                                    },
                                    "text/plain": [
                                          "Sanity Checking: |          | 0/? [00:00<?, ?it/s]"
                                    ]
                              },
                              "metadata": {},
                              "output_type": "display_data"
                        },
                        {
                              "data": {
                                    "application/vnd.jupyter.widget-view+json": {
                                          "model_id": "d48a33ec4219414dba791ede00fbff37",
                                          "version_major": 2,
                                          "version_minor": 0
                                    },
                                    "text/plain": [
                                          "Training: |          | 0/? [00:00<?, ?it/s]"
                                    ]
                              },
                              "metadata": {},
                              "output_type": "display_data"
                        },
                        {
                              "data": {
                                    "application/vnd.jupyter.widget-view+json": {
                                          "model_id": "910dd5ab274c425e86fcd523d25203d7",
                                          "version_major": 2,
                                          "version_minor": 0
                                    },
                                    "text/plain": [
                                          "Validation: |          | 0/? [00:00<?, ?it/s]"
                                    ]
                              },
                              "metadata": {},
                              "output_type": "display_data"
                        }
                  ],
                  "source": [
                        "from utils.helper_functions import create_classifier_trainer\n",
                        "\n",
                        "trainer, regressor_csv_logger, regressor_checkpoint = create_classifier_trainer(\"cancer_regressor\")\n",
                        "cancer_regressor = NNRegressor(\n",
                        "    input_dim=len(cancer_dm.ds_train[0][0]),\n",
                        "    n_layers=8,\n",
                        "    target_scaler=target_scaler,\n",
                        ")\n",
                        "trainer.fit(\n",
                        "    cancer_regressor,\n",
                        "    datamodule=CancerDataModule(cancer_df, numerical_features=numeric_cols, scaler=scaler, target_scaler=target_scaler),\n",
                        ")"
                  ]
            },
            {
                  "cell_type": "code",
                  "execution_count": null,
                  "metadata": {},
                  "outputs": [
                        {
                              "name": "stderr",
                              "output_type": "stream",
                              "text": [
                                    "LOCAL_RANK: 0 - CUDA_VISIBLE_DEVICES: [0]\n"
                              ]
                        },
                        {
                              "data": {
                                    "application/vnd.jupyter.widget-view+json": {
                                          "model_id": "f8594e2a48024b799c2cd3b0d71564ad",
                                          "version_major": 2,
                                          "version_minor": 0
                                    },
                                    "text/plain": [
                                          "Testing: |          | 0/? [00:00<?, ?it/s]"
                                    ]
                              },
                              "metadata": {},
                              "output_type": "display_data"
                        },
                        {
                              "data": {
                                    "text/html": [
                                          "<pre style=\"white-space:pre;overflow-x:auto;line-height:normal;font-family:Menlo,'DejaVu Sans Mono',consolas,'Courier New',monospace\">┏━━━━━━━━━━━━━━━━━━━━━━━━━━━┳━━━━━━━━━━━━━━━━━━━━━━━━━━━┓\n",
                                          "┃<span style=\"font-weight: bold\">        Test metric        </span>┃<span style=\"font-weight: bold\">       DataLoader 0        </span>┃\n",
                                          "┡━━━━━━━━━━━━━━━━━━━━━━━━━━━╇━━━━━━━━━━━━━━━━━━━━━━━━━━━┩\n",
                                          "│<span style=\"color: #008080; text-decoration-color: #008080\">         test_loss         </span>│<span style=\"color: #800080; text-decoration-color: #800080\">     0.934044361114502     </span>│\n",
                                          "│<span style=\"color: #008080; text-decoration-color: #008080\">         test_mse          </span>│<span style=\"color: #800080; text-decoration-color: #800080\">     0.934044361114502     </span>│\n",
                                          "└───────────────────────────┴───────────────────────────┘\n",
                                          "</pre>\n"
                                    ],
                                    "text/plain": [
                                          "┏━━━━━━━━━━━━━━━━━━━━━━━━━━━┳━━━━━━━━━━━━━━━━━━━━━━━━━━━┓\n",
                                          "┃\u001b[1m \u001b[0m\u001b[1m       Test metric       \u001b[0m\u001b[1m \u001b[0m┃\u001b[1m \u001b[0m\u001b[1m      DataLoader 0       \u001b[0m\u001b[1m \u001b[0m┃\n",
                                          "┡━━━━━━━━━━━━━━━━━━━━━━━━━━━╇━━━━━━━━━━━━━━━━━━━━━━━━━━━┩\n",
                                          "│\u001b[36m \u001b[0m\u001b[36m        test_loss        \u001b[0m\u001b[36m \u001b[0m│\u001b[35m \u001b[0m\u001b[35m    0.934044361114502    \u001b[0m\u001b[35m \u001b[0m│\n",
                                          "│\u001b[36m \u001b[0m\u001b[36m        test_mse         \u001b[0m\u001b[36m \u001b[0m│\u001b[35m \u001b[0m\u001b[35m    0.934044361114502    \u001b[0m\u001b[35m \u001b[0m│\n",
                                          "└───────────────────────────┴───────────────────────────┘\n"
                                    ]
                              },
                              "metadata": {},
                              "output_type": "display_data"
                        },
                        {
                              "data": {
                                    "text/plain": [
                                          "[{'test_loss': 0.934044361114502, 'test_mse': 0.934044361114502}]"
                                    ]
                              },
                              "execution_count": 10,
                              "metadata": {},
                              "output_type": "execute_result"
                        }
                  ],
                  "source": [
                        "trainer.test(\n",
                        "    model=cancer_regressor,\n",
                        "    datamodule=CancerDataModule(cancer_df, numerical_features=numeric_cols, scaler=scaler, target_scaler=target_scaler),\n",
                        ")"
                  ]
            },
            {
                  "cell_type": "code",
                  "execution_count": null,
                  "metadata": {},
                  "outputs": [
                        {
                              "data": {
                                    "image/png": "[encoded data removed]",
                                    "text/plain": [
                                          "<Figure size 1000x600 with 1 Axes>"
                                    ]
                              },
                              "metadata": {},
                              "output_type": "display_data"
                        }
                  ],
                  "source": [
                        "def plot_regression_results(model, dataloader):\n",
                        "    model.eval()\n",
                        "    y_true = []\n",
                        "    y_pred = []\n",
                        "    with torch.no_grad():\n",
                        "        for batch in dataloader:\n",
                        "            x, y = batch\n",
                        "            y_hat = torch.tensor(model.target_scaler.inverse_transform(model(x).numpy()))\n",
                        "            y_true.append(torch.tensor(model.target_scaler.inverse_transform(y.numpy())))\n",
                        "            y_pred.append(y_hat)\n",
                        "\n",
                        "    y_true = torch.cat(y_true).numpy()\n",
                        "    y_pred = torch.cat(y_pred).numpy()\n",
                        "\n",
                        "    plt.figure(figsize=(10, 6))\n",
                        "    plt.scatter(y_true, y_pred, alpha=0.5)\n",
                        "    plt.plot([y_true.min(), y_true.max()], [y_true.min(), y_true.max()], 'r--')\n",
                        "    plt.xlabel('True Values')\n",
                        "    plt.ylabel('Predictions')\n",
                        "    plt.title('Regression Results')\n",
                        "    plt.show()\n",
                        "plot_regression_results(cancer_regressor, cancer_dm.test_dataloader())"
                  ]
            },
            {
                  "cell_type": "code",
                  "execution_count": null,
                  "metadata": {},
                  "outputs": [],
                  "source": [
                        "import optuna\n",
                        "\n",
                        "trial_to_details = {}\n",
                        "def objective(trial):\n",
                        "    # Sample hyperparameters\n",
                        "    activation_dict = {\n",
                        "        \"relu\": nn.ReLU,\n",
                        "        \"leaky_relu\": nn.LeakyReLU,\n",
                        "        \"tanh\": nn.Tanh,\n",
                        "        \"RReLU\": nn.RReLU,\n",
                        "    }\n",
                        "    optimizer_dict = {\n",
                        "        \"adam\": torch.optim.Adam,\n",
                        "        \"sgd\": torch.optim.SGD,\n",
                        "        \"adagrad\": torch.optim.Adagrad,\n",
                        "    }\n",
                        "    n_layers = trial.suggest_int(\"n_layers\", 3, 10)\n",
                        "    dropout = trial.suggest_float(\"dropout\", 0.0, 0.5)\n",
                        "    learning_rate = trial.suggest_float(\"learning_rate\", 1e-5, 1e-2, log=True)\n",
                        "    weight_decay = trial.suggest_float(\"weight_decay\", 1e-5, 1e-2, log=True)\n",
                        "    optimizer = trial.suggest_categorical(\"optimizer\", list(optimizer_dict.keys()))\n",
                        "    activation = trial.suggest_categorical(\"activation\", list(activation_dict.keys()) )\n",
                        "\n",
                        "    activation = activation_dict[activation]\n",
                        "    optimizer = optimizer_dict[optimizer]\n",
                        "\n",
                        "    model =NNRegressor(\n",
                        "        input_dim=len(cancer_dm.ds_train[0][0]),\n",
                        "        n_layers=n_layers,\n",
                        "        dropout=dropout,\n",
                        "        activation=activation,\n",
                        "        optimizer=optimizer,\n",
                        "        lr=learning_rate,\n",
                        "        weight_decay=weight_decay,\n",
                        "        target_scaler=target_scaler,\n",
                        "    )\n",
                        "    trainer, logger, checkpoint = create_classifier_trainer(f\"nn_trial_{trial.number}\", max_epochs=50, enable_pbar=False)\n",
                        "\n",
                        "\n",
                        "    # Training loop\n",
                        "    trainer.fit(\n",
                        "        model,\n",
                        "        datamodule=CancerDataModule(cancer_df, numerical_features=numeric_cols, scaler=scaler, target_scaler=target_scaler),\n",
                        "    )\n",
                        "    trial_to_details[trial.number] = {\n",
                        "        \"logger\" : logger,\n",
                        "        \"checkpoint\" : checkpoint,\n",
                        "    }\n",
                        "\n",
                        "    \n",
                        "    # Store trial details\n",
                        "    trial_to_details[trial.number] = {\n",
                        "        \"logger\" : logger,\n",
                        "        \"checkpoint\" : checkpoint,\n",
                        "    }\n",
                        "    metrics_path = f\"{logger.log_dir}/metrics.csv\"\n",
                        "    metrics_df = pd.read_csv(metrics_path)\n",
                        "\n",
                        "    if \"val_mse\" not in metrics_df.columns:\n",
                        "        return float(\"inf\")\n",
                        "\n",
                        "    last_val = metrics_df[\"val_mse\"].dropna().values[-1]\n",
                        "    return last_val"
                  ]
            },
            {
                  "cell_type": "code",
                  "execution_count": null,
                  "metadata": {},
                  "outputs": [
                        {
                              "name": "stderr",
                              "output_type": "stream",
                              "text": [
                                    "[I 2025-04-17 12:44:44,589] A new study created in memory with name: deep_regressor_scaled_study\n"
                              ]
                        },
                        {
                              "data": {
                                    "application/vnd.jupyter.widget-view+json": {
                                          "model_id": "459b5e52a1fb40deb0e7be4a1e5306ca",
                                          "version_major": 2,
                                          "version_minor": 0
                                    },
                                    "text/plain": [
                                          "  0%|          | 0/20 [00:00<?, ?it/s]"
                                    ]
                              },
                              "metadata": {},
                              "output_type": "display_data"
                        },
                        {
                              "name": "stderr",
                              "output_type": "stream",
                              "text": [
                                    "GPU available: True (cuda), used: True\n",
                                    "TPU available: False, using: 0 TPU cores\n",
                                    "HPU available: False, using: 0 HPUs\n",
                                    "LOCAL_RANK: 0 - CUDA_VISIBLE_DEVICES: [0]\n",
                                    "\n",
                                    "  | Name        | Type             | Params | Mode \n",
                                    "---------------------------------------------------------\n",
                                    "0 | network     | Sequential       | 829 K  | train\n",
                                    "1 | loss_metric | MeanSquaredError | 0      | train\n",
                                    "2 | val_metric  | MeanSquaredError | 0      | train\n",
                                    "3 | test_metric | MeanSquaredError | 0      | train\n",
                                    "---------------------------------------------------------\n",
                                    "829 K     Trainable params\n",
                                    "0         Non-trainable params\n",
                                    "829 K     Total params\n",
                                    "3.319     Total estimated model params size (MB)\n",
                                    "21        Modules in train mode\n",
                                    "0         Modules in eval mode\n"
                              ]
                        },
                        {
                              "name": "stdout",
                              "output_type": "stream",
                              "text": [
                                    "[I 2025-04-17 12:45:02,617] Trial 0 finished with value: 1.5102561712265017 and parameters: {'n_layers': 4, 'dropout': 0.012859443663073289, 'learning_rate': 0.0050920638438998285, 'weight_decay': 0.0001591778371327388, 'optimizer': 'adam', 'activation': 'relu'}. Best is trial 0 with value: 1.5102561712265017.\n"
                              ]
                        },
                        {
                              "name": "stderr",
                              "output_type": "stream",
                              "text": [
                                    "GPU available: True (cuda), used: True\n",
                                    "TPU available: False, using: 0 TPU cores\n",
                                    "HPU available: False, using: 0 HPUs\n",
                                    "LOCAL_RANK: 0 - CUDA_VISIBLE_DEVICES: [0]\n",
                                    "\n",
                                    "  | Name        | Type             | Params | Mode \n",
                                    "---------------------------------------------------------\n",
                                    "0 | network     | Sequential       | 3.5 M  | train\n",
                                    "1 | loss_metric | MeanSquaredError | 0      | train\n",
                                    "2 | val_metric  | MeanSquaredError | 0      | train\n",
                                    "3 | test_metric | MeanSquaredError | 0      | train\n",
                                    "---------------------------------------------------------\n",
                                    "3.5 M     Trainable params\n",
                                    "0         Non-trainable params\n",
                                    "3.5 M     Total params\n",
                                    "13.898    Total estimated model params size (MB)\n",
                                    "29        Modules in train mode\n",
                                    "0         Modules in eval mode\n"
                              ]
                        },
                        {
                              "name": "stdout",
                              "output_type": "stream",
                              "text": [
                                    "[I 2025-04-17 12:45:12,980] Trial 1 finished with value: 0.8733718991279602 and parameters: {'n_layers': 6, 'dropout': 0.4661680638996129, 'learning_rate': 2.3567565164769415e-05, 'weight_decay': 0.0001017922170468693, 'optimizer': 'sgd', 'activation': 'relu'}. Best is trial 1 with value: 0.8733718991279602.\n"
                              ]
                        },
                        {
                              "name": "stderr",
                              "output_type": "stream",
                              "text": [
                                    "GPU available: True (cuda), used: True\n",
                                    "TPU available: False, using: 0 TPU cores\n",
                                    "HPU available: False, using: 0 HPUs\n",
                                    "LOCAL_RANK: 0 - CUDA_VISIBLE_DEVICES: [0]\n",
                                    "\n",
                                    "  | Name        | Type             | Params | Mode \n",
                                    "---------------------------------------------------------\n",
                                    "0 | network     | Sequential       | 829 K  | train\n",
                                    "1 | loss_metric | MeanSquaredError | 0      | train\n",
                                    "2 | val_metric  | MeanSquaredError | 0      | train\n",
                                    "3 | test_metric | MeanSquaredError | 0      | train\n",
                                    "---------------------------------------------------------\n",
                                    "829 K     Trainable params\n",
                                    "0         Non-trainable params\n",
                                    "829 K     Total params\n",
                                    "3.319     Total estimated model params size (MB)\n",
                                    "21        Modules in train mode\n",
                                    "0         Modules in eval mode\n",
                                    "GPU available: True (cuda), used: True\n",
                                    "TPU available: False, using: 0 TPU cores\n",
                                    "HPU available: False, using: 0 HPUs\n"
                              ]
                        },
                        {
                              "name": "stdout",
                              "output_type": "stream",
                              "text": [
                                    "[I 2025-04-17 12:45:23,380] Trial 2 finished with value: 0.8813672065734863 and parameters: {'n_layers': 4, 'dropout': 0.3239237757026778, 'learning_rate': 0.00010389670739386516, 'weight_decay': 0.002882438159444733, 'optimizer': 'sgd', 'activation': 'RReLU'}. Best is trial 1 with value: 0.8733718991279602.\n"
                              ]
                        },
                        {
                              "name": "stderr",
                              "output_type": "stream",
                              "text": [
                                    "LOCAL_RANK: 0 - CUDA_VISIBLE_DEVICES: [0]\n",
                                    "\n",
                                    "  | Name        | Type             | Params | Mode \n",
                                    "---------------------------------------------------------\n",
                                    "0 | network     | Sequential       | 187 K  | train\n",
                                    "1 | loss_metric | MeanSquaredError | 0      | train\n",
                                    "2 | val_metric  | MeanSquaredError | 0      | train\n",
                                    "3 | test_metric | MeanSquaredError | 0      | train\n",
                                    "---------------------------------------------------------\n",
                                    "187 K     Trainable params\n",
                                    "0         Non-trainable params\n",
                                    "187 K     Total params\n",
                                    "0.750     Total estimated model params size (MB)\n",
                                    "17        Modules in train mode\n",
                                    "0         Modules in eval mode\n"
                              ]
                        },
                        {
                              "name": "stdout",
                              "output_type": "stream",
                              "text": [
                                    "[I 2025-04-17 12:45:32,608] Trial 3 finished with value: 0.7983468770980835 and parameters: {'n_layers': 3, 'dropout': 0.08422635365656422, 'learning_rate': 1.0030460889272092e-05, 'weight_decay': 1.708039642548373e-05, 'optimizer': 'adagrad', 'activation': 'tanh'}. Best is trial 3 with value: 0.7983468770980835.\n"
                              ]
                        },
                        {
                              "name": "stderr",
                              "output_type": "stream",
                              "text": [
                                    "GPU available: True (cuda), used: True\n",
                                    "TPU available: False, using: 0 TPU cores\n",
                                    "HPU available: False, using: 0 HPUs\n",
                                    "LOCAL_RANK: 0 - CUDA_VISIBLE_DEVICES: [0]\n",
                                    "\n",
                                    "  | Name        | Type             | Params | Mode \n",
                                    "---------------------------------------------------------\n",
                                    "0 | network     | Sequential       | 14.0 M | train\n",
                                    "1 | loss_metric | MeanSquaredError | 0      | train\n",
                                    "2 | val_metric  | MeanSquaredError | 0      | train\n",
                                    "3 | test_metric | MeanSquaredError | 0      | train\n",
                                    "---------------------------------------------------------\n",
                                    "14.0 M    Trainable params\n",
                                    "0         Non-trainable params\n",
                                    "14.0 M    Total params\n",
                                    "56.155    Total estimated model params size (MB)\n",
                                    "37        Modules in train mode\n",
                                    "0         Modules in eval mode\n"
                              ]
                        },
                        {
                              "name": "stdout",
                              "output_type": "stream",
                              "text": [
                                    "[I 2025-04-17 12:45:44,770] Trial 4 finished with value: 1.0384215116500854 and parameters: {'n_layers': 8, 'dropout': 0.12375355332352656, 'learning_rate': 0.008009952104157038, 'weight_decay': 0.000185862639867674, 'optimizer': 'sgd', 'activation': 'leaky_relu'}. Best is trial 3 with value: 0.7983468770980835.\n"
                              ]
                        },
                        {
                              "name": "stderr",
                              "output_type": "stream",
                              "text": [
                                    "GPU available: True (cuda), used: True\n",
                                    "TPU available: False, using: 0 TPU cores\n",
                                    "HPU available: False, using: 0 HPUs\n",
                                    "LOCAL_RANK: 0 - CUDA_VISIBLE_DEVICES: [0]\n",
                                    "\n",
                                    "  | Name        | Type             | Params | Mode \n",
                                    "---------------------------------------------------------\n",
                                    "0 | network     | Sequential       | 3.5 M  | train\n",
                                    "1 | loss_metric | MeanSquaredError | 0      | train\n",
                                    "2 | val_metric  | MeanSquaredError | 0      | train\n",
                                    "3 | test_metric | MeanSquaredError | 0      | train\n",
                                    "---------------------------------------------------------\n",
                                    "3.5 M     Trainable params\n",
                                    "0         Non-trainable params\n",
                                    "3.5 M     Total params\n",
                                    "13.898    Total estimated model params size (MB)\n",
                                    "29        Modules in train mode\n",
                                    "0         Modules in eval mode\n"
                              ]
                        },
                        {
                              "name": "stdout",
                              "output_type": "stream",
                              "text": [
                                    "[I 2025-04-17 12:45:54,855] Trial 5 finished with value: 0.9228087663650512 and parameters: {'n_layers': 6, 'dropout': 0.46099789393963253, 'learning_rate': 0.0001115618541942826, 'weight_decay': 0.0002409714175817496, 'optimizer': 'sgd', 'activation': 'tanh'}. Best is trial 3 with value: 0.7983468770980835.\n"
                              ]
                        },
                        {
                              "name": "stderr",
                              "output_type": "stream",
                              "text": [
                                    "GPU available: True (cuda), used: True\n",
                                    "TPU available: False, using: 0 TPU cores\n",
                                    "HPU available: False, using: 0 HPUs\n",
                                    "LOCAL_RANK: 0 - CUDA_VISIBLE_DEVICES: [0]\n",
                                    "\n",
                                    "  | Name        | Type             | Params | Mode \n",
                                    "---------------------------------------------------------\n",
                                    "0 | network     | Sequential       | 56.3 M | train\n",
                                    "1 | loss_metric | MeanSquaredError | 0      | train\n",
                                    "2 | val_metric  | MeanSquaredError | 0      | train\n",
                                    "3 | test_metric | MeanSquaredError | 0      | train\n",
                                    "---------------------------------------------------------\n",
                                    "56.3 M    Trainable params\n",
                                    "0         Non-trainable params\n",
                                    "56.3 M    Total params\n",
                                    "225.064   Total estimated model params size (MB)\n",
                                    "45        Modules in train mode\n",
                                    "0         Modules in eval mode\n"
                              ]
                        },
                        {
                              "name": "stdout",
                              "output_type": "stream",
                              "text": [
                                    "[I 2025-04-17 12:46:20,514] Trial 6 finished with value: 0.8117004632949829 and parameters: {'n_layers': 10, 'dropout': 0.321367999424968, 'learning_rate': 1.1196558665161296e-05, 'weight_decay': 0.0002795100337165849, 'optimizer': 'sgd', 'activation': 'RReLU'}. Best is trial 3 with value: 0.7983468770980835.\n"
                              ]
                        },
                        {
                              "name": "stderr",
                              "output_type": "stream",
                              "text": [
                                    "GPU available: True (cuda), used: True\n",
                                    "TPU available: False, using: 0 TPU cores\n",
                                    "HPU available: False, using: 0 HPUs\n",
                                    "LOCAL_RANK: 0 - CUDA_VISIBLE_DEVICES: [0]\n",
                                    "\n",
                                    "  | Name        | Type             | Params | Mode \n",
                                    "---------------------------------------------------------\n",
                                    "0 | network     | Sequential       | 14.0 M | train\n",
                                    "1 | loss_metric | MeanSquaredError | 0      | train\n",
                                    "2 | val_metric  | MeanSquaredError | 0      | train\n",
                                    "3 | test_metric | MeanSquaredError | 0      | train\n",
                                    "---------------------------------------------------------\n",
                                    "14.0 M    Trainable params\n",
                                    "0         Non-trainable params\n",
                                    "14.0 M    Total params\n",
                                    "56.155    Total estimated model params size (MB)\n",
                                    "37        Modules in train mode\n",
                                    "0         Modules in eval mode\n"
                              ]
                        },
                        {
                              "name": "stdout",
                              "output_type": "stream",
                              "text": [
                                    "[I 2025-04-17 12:46:37,215] Trial 7 finished with value: 0.814839780330658 and parameters: {'n_layers': 8, 'dropout': 0.13640744022540102, 'learning_rate': 0.00019196054050170142, 'weight_decay': 1.1878436708171552e-05, 'optimizer': 'sgd', 'activation': 'RReLU'}. Best is trial 3 with value: 0.7983468770980835.\n"
                              ]
                        },
                        {
                              "name": "stderr",
                              "output_type": "stream",
                              "text": [
                                    "GPU available: True (cuda), used: True\n",
                                    "TPU available: False, using: 0 TPU cores\n",
                                    "HPU available: False, using: 0 HPUs\n",
                                    "LOCAL_RANK: 0 - CUDA_VISIBLE_DEVICES: [0]\n",
                                    "\n",
                                    "  | Name        | Type             | Params | Mode \n",
                                    "---------------------------------------------------------\n",
                                    "0 | network     | Sequential       | 14.0 M | train\n",
                                    "1 | loss_metric | MeanSquaredError | 0      | train\n",
                                    "2 | val_metric  | MeanSquaredError | 0      | train\n",
                                    "3 | test_metric | MeanSquaredError | 0      | train\n",
                                    "---------------------------------------------------------\n",
                                    "14.0 M    Trainable params\n",
                                    "0         Non-trainable params\n",
                                    "14.0 M    Total params\n",
                                    "56.155    Total estimated model params size (MB)\n",
                                    "37        Modules in train mode\n",
                                    "0         Modules in eval mode\n"
                              ]
                        },
                        {
                              "name": "stdout",
                              "output_type": "stream",
                              "text": [
                                    "[I 2025-04-17 12:46:55,169] Trial 8 finished with value: 0.811180055141449 and parameters: {'n_layers': 8, 'dropout': 0.11923655302725694, 'learning_rate': 1.903713686482471e-05, 'weight_decay': 4.759373934790948e-05, 'optimizer': 'sgd', 'activation': 'leaky_relu'}. Best is trial 3 with value: 0.7983468770980835.\n"
                              ]
                        },
                        {
                              "name": "stderr",
                              "output_type": "stream",
                              "text": [
                                    "GPU available: True (cuda), used: True\n",
                                    "TPU available: False, using: 0 TPU cores\n",
                                    "HPU available: False, using: 0 HPUs\n",
                                    "LOCAL_RANK: 0 - CUDA_VISIBLE_DEVICES: [0]\n",
                                    "\n",
                                    "  | Name        | Type             | Params | Mode \n",
                                    "---------------------------------------------------------\n",
                                    "0 | network     | Sequential       | 829 K  | train\n",
                                    "1 | loss_metric | MeanSquaredError | 0      | train\n",
                                    "2 | val_metric  | MeanSquaredError | 0      | train\n",
                                    "3 | test_metric | MeanSquaredError | 0      | train\n",
                                    "---------------------------------------------------------\n",
                                    "829 K     Trainable params\n",
                                    "0         Non-trainable params\n",
                                    "829 K     Total params\n",
                                    "3.319     Total estimated model params size (MB)\n",
                                    "21        Modules in train mode\n",
                                    "0         Modules in eval mode\n"
                              ]
                        },
                        {
                              "name": "stdout",
                              "output_type": "stream",
                              "text": [
                                    "[I 2025-04-17 12:47:09,980] Trial 9 finished with value: 0.8630762696266174 and parameters: {'n_layers': 4, 'dropout': 0.4742541471504997, 'learning_rate': 0.0012781584080861013, 'weight_decay': 6.551582482000594e-05, 'optimizer': 'adagrad', 'activation': 'relu'}. Best is trial 3 with value: 0.7983468770980835.\n"
                              ]
                        },
                        {
                              "name": "stderr",
                              "output_type": "stream",
                              "text": [
                                    "GPU available: True (cuda), used: True\n",
                                    "TPU available: False, using: 0 TPU cores\n",
                                    "HPU available: False, using: 0 HPUs\n",
                                    "LOCAL_RANK: 0 - CUDA_VISIBLE_DEVICES: [0]\n",
                                    "\n",
                                    "  | Name        | Type             | Params | Mode \n",
                                    "---------------------------------------------------------\n",
                                    "0 | network     | Sequential       | 187 K  | train\n",
                                    "1 | loss_metric | MeanSquaredError | 0      | train\n",
                                    "2 | val_metric  | MeanSquaredError | 0      | train\n",
                                    "3 | test_metric | MeanSquaredError | 0      | train\n",
                                    "---------------------------------------------------------\n",
                                    "187 K     Trainable params\n",
                                    "0         Non-trainable params\n",
                                    "187 K     Total params\n",
                                    "0.750     Total estimated model params size (MB)\n",
                                    "17        Modules in train mode\n",
                                    "0         Modules in eval mode\n"
                              ]
                        },
                        {
                              "name": "stdout",
                              "output_type": "stream",
                              "text": [
                                    "[I 2025-04-17 12:47:20,969] Trial 10 finished with value: 0.9740992784500122 and parameters: {'n_layers': 3, 'dropout': 0.03784331285968612, 'learning_rate': 0.0008707057468391816, 'weight_decay': 0.00269336729308777, 'optimizer': 'adagrad', 'activation': 'tanh'}. Best is trial 3 with value: 0.7983468770980835.\n"
                              ]
                        },
                        {
                              "name": "stderr",
                              "output_type": "stream",
                              "text": [
                                    "GPU available: True (cuda), used: True\n",
                                    "TPU available: False, using: 0 TPU cores\n",
                                    "HPU available: False, using: 0 HPUs\n",
                                    "LOCAL_RANK: 0 - CUDA_VISIBLE_DEVICES: [0]\n",
                                    "\n",
                                    "  | Name        | Type             | Params | Mode \n",
                                    "---------------------------------------------------------\n",
                                    "0 | network     | Sequential       | 14.0 M | train\n",
                                    "1 | loss_metric | MeanSquaredError | 0      | train\n",
                                    "2 | val_metric  | MeanSquaredError | 0      | train\n",
                                    "3 | test_metric | MeanSquaredError | 0      | train\n",
                                    "---------------------------------------------------------\n",
                                    "14.0 M    Trainable params\n",
                                    "0         Non-trainable params\n",
                                    "14.0 M    Total params\n",
                                    "56.155    Total estimated model params size (MB)\n",
                                    "37        Modules in train mode\n",
                                    "0         Modules in eval mode\n"
                              ]
                        },
                        {
                              "name": "stdout",
                              "output_type": "stream",
                              "text": [
                                    "[I 2025-04-17 12:47:37,312] Trial 11 finished with value: 0.8499638438224792 and parameters: {'n_layers': 8, 'dropout': 0.15991580324060548, 'learning_rate': 2.9605384312439676e-05, 'weight_decay': 1.4255565309528672e-05, 'optimizer': 'adagrad', 'activation': 'leaky_relu'}. Best is trial 3 with value: 0.7983468770980835.\n"
                              ]
                        },
                        {
                              "name": "stderr",
                              "output_type": "stream",
                              "text": [
                                    "GPU available: True (cuda), used: True\n",
                                    "TPU available: False, using: 0 TPU cores\n",
                                    "HPU available: False, using: 0 HPUs\n",
                                    "LOCAL_RANK: 0 - CUDA_VISIBLE_DEVICES: [0]\n",
                                    "\n",
                                    "  | Name        | Type             | Params | Mode \n",
                                    "---------------------------------------------------------\n",
                                    "0 | network     | Sequential       | 56.3 M | train\n",
                                    "1 | loss_metric | MeanSquaredError | 0      | train\n",
                                    "2 | val_metric  | MeanSquaredError | 0      | train\n",
                                    "3 | test_metric | MeanSquaredError | 0      | train\n",
                                    "---------------------------------------------------------\n",
                                    "56.3 M    Trainable params\n",
                                    "0         Non-trainable params\n",
                                    "56.3 M    Total params\n",
                                    "225.064   Total estimated model params size (MB)\n",
                                    "45        Modules in train mode\n",
                                    "0         Modules in eval mode\n"
                              ]
                        },
                        {
                              "name": "stdout",
                              "output_type": "stream",
                              "text": [
                                    "[I 2025-04-17 12:48:09,603] Trial 12 finished with value: 0.8505469560623169 and parameters: {'n_layers': 10, 'dropout': 0.19853453453832362, 'learning_rate': 1.2008049784153548e-05, 'weight_decay': 3.3171527305526214e-05, 'optimizer': 'adam', 'activation': 'leaky_relu'}. Best is trial 3 with value: 0.7983468770980835.\n"
                              ]
                        },
                        {
                              "name": "stderr",
                              "output_type": "stream",
                              "text": [
                                    "GPU available: True (cuda), used: True\n",
                                    "TPU available: False, using: 0 TPU cores\n",
                                    "HPU available: False, using: 0 HPUs\n",
                                    "LOCAL_RANK: 0 - CUDA_VISIBLE_DEVICES: [0]\n",
                                    "\n",
                                    "  | Name        | Type             | Params | Mode \n",
                                    "---------------------------------------------------------\n",
                                    "0 | network     | Sequential       | 3.5 M  | train\n",
                                    "1 | loss_metric | MeanSquaredError | 0      | train\n",
                                    "2 | val_metric  | MeanSquaredError | 0      | train\n",
                                    "3 | test_metric | MeanSquaredError | 0      | train\n",
                                    "---------------------------------------------------------\n",
                                    "3.5 M     Trainable params\n",
                                    "0         Non-trainable params\n",
                                    "3.5 M     Total params\n",
                                    "13.981    Total estimated model params size (MB)\n",
                                    "33        Modules in train mode\n",
                                    "0         Modules in eval mode\n"
                              ]
                        },
                        {
                              "name": "stdout",
                              "output_type": "stream",
                              "text": [
                                    "[I 2025-04-17 12:48:31,036] Trial 13 finished with value: 0.9606279134750366 and parameters: {'n_layers': 7, 'dropout': 0.07294039709483616, 'learning_rate': 4.9199948579716065e-05, 'weight_decay': 3.6708151813844144e-05, 'optimizer': 'adagrad', 'activation': 'tanh'}. Best is trial 3 with value: 0.7983468770980835.\n"
                              ]
                        },
                        {
                              "name": "stderr",
                              "output_type": "stream",
                              "text": [
                                    "GPU available: True (cuda), used: True\n",
                                    "TPU available: False, using: 0 TPU cores\n",
                                    "HPU available: False, using: 0 HPUs\n",
                                    "LOCAL_RANK: 0 - CUDA_VISIBLE_DEVICES: [0]\n",
                                    "\n",
                                    "  | Name        | Type             | Params | Mode \n",
                                    "---------------------------------------------------------\n",
                                    "0 | network     | Sequential       | 14.1 M | train\n",
                                    "1 | loss_metric | MeanSquaredError | 0      | train\n",
                                    "2 | val_metric  | MeanSquaredError | 0      | train\n",
                                    "3 | test_metric | MeanSquaredError | 0      | train\n",
                                    "---------------------------------------------------------\n",
                                    "14.1 M    Trainable params\n",
                                    "0         Non-trainable params\n",
                                    "14.1 M    Total params\n",
                                    "56.237    Total estimated model params size (MB)\n",
                                    "41        Modules in train mode\n",
                                    "0         Modules in eval mode\n"
                              ]
                        },
                        {
                              "name": "stdout",
                              "output_type": "stream",
                              "text": [
                                    "[I 2025-04-17 12:48:52,923] Trial 14 finished with value: 0.9082031846046448 and parameters: {'n_layers': 9, 'dropout': 0.23651091651702982, 'learning_rate': 4.821182157355689e-05, 'weight_decay': 0.000660584501668786, 'optimizer': 'adagrad', 'activation': 'leaky_relu'}. Best is trial 3 with value: 0.7983468770980835.\n"
                              ]
                        },
                        {
                              "name": "stderr",
                              "output_type": "stream",
                              "text": [
                                    "GPU available: True (cuda), used: True\n",
                                    "TPU available: False, using: 0 TPU cores\n",
                                    "HPU available: False, using: 0 HPUs\n",
                                    "LOCAL_RANK: 0 - CUDA_VISIBLE_DEVICES: [0]\n",
                                    "\n",
                                    "  | Name        | Type             | Params | Mode \n",
                                    "---------------------------------------------------------\n",
                                    "0 | network     | Sequential       | 850 K  | train\n",
                                    "1 | loss_metric | MeanSquaredError | 0      | train\n",
                                    "2 | val_metric  | MeanSquaredError | 0      | train\n",
                                    "3 | test_metric | MeanSquaredError | 0      | train\n",
                                    "---------------------------------------------------------\n",
                                    "850 K     Trainable params\n",
                                    "0         Non-trainable params\n",
                                    "850 K     Total params\n",
                                    "3.402     Total estimated model params size (MB)\n",
                                    "25        Modules in train mode\n",
                                    "0         Modules in eval mode\n"
                              ]
                        },
                        {
                              "name": "stdout",
                              "output_type": "stream",
                              "text": [
                                    "[I 2025-04-17 12:49:08,292] Trial 15 finished with value: 1.2211599349975586 and parameters: {'n_layers': 5, 'dropout': 0.08081042658168, 'learning_rate': 0.0007096576742125079, 'weight_decay': 0.0009016790513679651, 'optimizer': 'adam', 'activation': 'tanh'}. Best is trial 3 with value: 0.7983468770980835.\n"
                              ]
                        },
                        {
                              "name": "stderr",
                              "output_type": "stream",
                              "text": [
                                    "GPU available: True (cuda), used: True\n",
                                    "TPU available: False, using: 0 TPU cores\n",
                                    "HPU available: False, using: 0 HPUs\n",
                                    "LOCAL_RANK: 0 - CUDA_VISIBLE_DEVICES: [0]\n",
                                    "\n",
                                    "  | Name        | Type             | Params | Mode \n",
                                    "---------------------------------------------------------\n",
                                    "0 | network     | Sequential       | 3.5 M  | train\n",
                                    "1 | loss_metric | MeanSquaredError | 0      | train\n",
                                    "2 | val_metric  | MeanSquaredError | 0      | train\n",
                                    "3 | test_metric | MeanSquaredError | 0      | train\n",
                                    "---------------------------------------------------------\n",
                                    "3.5 M     Trainable params\n",
                                    "0         Non-trainable params\n",
                                    "3.5 M     Total params\n",
                                    "13.981    Total estimated model params size (MB)\n",
                                    "33        Modules in train mode\n",
                                    "0         Modules in eval mode\n"
                              ]
                        },
                        {
                              "name": "stdout",
                              "output_type": "stream",
                              "text": [
                                    "[I 2025-04-17 12:49:24,700] Trial 16 finished with value: 0.8299883604049683 and parameters: {'n_layers': 7, 'dropout': 0.288200201180103, 'learning_rate': 1.259490115349851e-05, 'weight_decay': 2.6739348132593505e-05, 'optimizer': 'adagrad', 'activation': 'leaky_relu'}. Best is trial 3 with value: 0.7983468770980835.\n"
                              ]
                        },
                        {
                              "name": "stderr",
                              "output_type": "stream",
                              "text": [
                                    "GPU available: True (cuda), used: True\n",
                                    "TPU available: False, using: 0 TPU cores\n",
                                    "HPU available: False, using: 0 HPUs\n",
                                    "LOCAL_RANK: 0 - CUDA_VISIBLE_DEVICES: [0]\n",
                                    "\n",
                                    "  | Name        | Type             | Params | Mode \n",
                                    "---------------------------------------------------------\n",
                                    "0 | network     | Sequential       | 187 K  | train\n",
                                    "1 | loss_metric | MeanSquaredError | 0      | train\n",
                                    "2 | val_metric  | MeanSquaredError | 0      | train\n",
                                    "3 | test_metric | MeanSquaredError | 0      | train\n",
                                    "---------------------------------------------------------\n",
                                    "187 K     Trainable params\n",
                                    "0         Non-trainable params\n",
                                    "187 K     Total params\n",
                                    "0.750     Total estimated model params size (MB)\n",
                                    "17        Modules in train mode\n",
                                    "0         Modules in eval mode\n"
                              ]
                        },
                        {
                              "name": "stdout",
                              "output_type": "stream",
                              "text": [
                                    "[I 2025-04-17 12:49:39,234] Trial 17 finished with value: 0.907045841217041 and parameters: {'n_layers': 3, 'dropout': 0.2006512215968902, 'learning_rate': 0.0003107126020984004, 'weight_decay': 0.00917599064554579, 'optimizer': 'sgd', 'activation': 'tanh'}. Best is trial 3 with value: 0.7983468770980835.\n"
                              ]
                        },
                        {
                              "name": "stderr",
                              "output_type": "stream",
                              "text": [
                                    "GPU available: True (cuda), used: True\n",
                                    "TPU available: False, using: 0 TPU cores\n",
                                    "HPU available: False, using: 0 HPUs\n",
                                    "LOCAL_RANK: 0 - CUDA_VISIBLE_DEVICES: [0]\n",
                                    "\n",
                                    "  | Name        | Type             | Params | Mode \n",
                                    "---------------------------------------------------------\n",
                                    "0 | network     | Sequential       | 850 K  | train\n",
                                    "1 | loss_metric | MeanSquaredError | 0      | train\n",
                                    "2 | val_metric  | MeanSquaredError | 0      | train\n",
                                    "3 | test_metric | MeanSquaredError | 0      | train\n",
                                    "---------------------------------------------------------\n",
                                    "850 K     Trainable params\n",
                                    "0         Non-trainable params\n",
                                    "850 K     Total params\n",
                                    "3.402     Total estimated model params size (MB)\n",
                                    "25        Modules in train mode\n",
                                    "0         Modules in eval mode\n"
                              ]
                        },
                        {
                              "name": "stdout",
                              "output_type": "stream",
                              "text": [
                                    "[I 2025-04-17 12:49:55,772] Trial 18 finished with value: 0.9619960784912108 and parameters: {'n_layers': 5, 'dropout': 0.09132230257955982, 'learning_rate': 2.654820605338047e-05, 'weight_decay': 6.619325962840145e-05, 'optimizer': 'adagrad', 'activation': 'leaky_relu'}. Best is trial 3 with value: 0.7983468770980835.\n"
                              ]
                        },
                        {
                              "name": "stderr",
                              "output_type": "stream",
                              "text": [
                                    "GPU available: True (cuda), used: True\n",
                                    "TPU available: False, using: 0 TPU cores\n",
                                    "HPU available: False, using: 0 HPUs\n",
                                    "LOCAL_RANK: 0 - CUDA_VISIBLE_DEVICES: [0]\n",
                                    "\n",
                                    "  | Name        | Type             | Params | Mode \n",
                                    "---------------------------------------------------------\n",
                                    "0 | network     | Sequential       | 14.1 M | train\n",
                                    "1 | loss_metric | MeanSquaredError | 0      | train\n",
                                    "2 | val_metric  | MeanSquaredError | 0      | train\n",
                                    "3 | test_metric | MeanSquaredError | 0      | train\n",
                                    "---------------------------------------------------------\n",
                                    "14.1 M    Trainable params\n",
                                    "0         Non-trainable params\n",
                                    "14.1 M    Total params\n",
                                    "56.237    Total estimated model params size (MB)\n",
                                    "41        Modules in train mode\n",
                                    "0         Modules in eval mode\n"
                              ]
                        },
                        {
                              "name": "stdout",
                              "output_type": "stream",
                              "text": [
                                    "[I 2025-04-17 12:50:16,830] Trial 19 finished with value: 0.9264770150184632 and parameters: {'n_layers': 9, 'dropout': 0.009425499577077556, 'learning_rate': 6.486411509849358e-05, 'weight_decay': 2.1869706924119584e-05, 'optimizer': 'adam', 'activation': 'tanh'}. Best is trial 3 with value: 0.7983468770980835.\n",
                                    "Best trial:\n",
                                    "  Value (val_mse): 0.7983468770980835\n",
                                    "  Params:\n",
                                    "    n_layers: 3\n",
                                    "    dropout: 0.08422635365656422\n",
                                    "    learning_rate: 1.0030460889272092e-05\n",
                                    "    weight_decay: 1.708039642548373e-05\n",
                                    "    optimizer: adagrad\n",
                                    "    activation: tanh\n"
                              ]
                        }
                  ],
                  "source": [
                        "# --- Run Optuna ---\n",
                        "study = optuna.create_study(direction=\"minimize\", study_name=\"deep_regressor_scaled_study\")\n",
                        "study.optimize(objective, n_trials=20, n_jobs=1, show_progress_bar=True)\n",
                        "\n",
                        "# --- Print Best Result ---\n",
                        "print(\"Best trial:\")\n",
                        "print(f\"  Value (val_mse): {study.best_trial.value}\")\n",
                        "print(\"  Params:\")\n",
                        "for key, val in study.best_trial.params.items():\n",
                        "    print(f\"    {key}: {val}\")"
                  ]
            },
            {
                  "cell_type": "code",
                  "execution_count": null,
                  "metadata": {},
                  "outputs": [],
                  "source": [
                        "activation_dict = {\n",
                        "    \"relu\": nn.ReLU,\n",
                        "    \"leaky_relu\": nn.LeakyReLU,\n",
                        "    \"tanh\": nn.Tanh,\n",
                        "    \"RReLU\": nn.RReLU,\n",
                        "}\n",
                        "optimizer_dict = {\n",
                        "    \"adam\": torch.optim.Adam,\n",
                        "    \"sgd\": torch.optim.SGD,\n",
                        "    \"adagrad\": torch.optim.Adagrad,\n",
                        "}\n",
                        "best_model = model =NNRegressor(\n",
                        "        input_dim=len(cancer_dm.ds_train[0][0]),\n",
                        "        n_layers=study.best_trial.params[\"n_layers\"],\n",
                        "        dropout=study.best_trial.params[\"dropout\"],\n",
                        "        activation=activation_dict[study.best_trial.params[\"activation\"]],\n",
                        "        optimizer=optimizer_dict[study.best_trial.params[\"optimizer\"]],\n",
                        "        lr=study.best_trial.params[\"learning_rate\"],\n",
                        "        weight_decay=study.best_trial.params[\"weight_decay\"],\n",
                        "        target_scaler=target_scaler,\n",
                        "    )"
                  ]
            },
            {
                  "cell_type": "code",
                  "execution_count": null,
                  "metadata": {},
                  "outputs": [
                        {
                              "data": {
                                    "text/plain": [
                                          "['results/06/best_model_trial_noae_3.pkl']"
                                    ]
                              },
                              "execution_count": 18,
                              "metadata": {},
                              "output_type": "execute_result"
                        }
                  ],
                  "source": [
                        "joblib.dump(\n",
                        "    best_model,\n",
                        "    f\"results/06/best_model_trial_noae_{study.best_trial.number}.pkl\",\n",
                        ")"
                  ]
            },
            {
                  "cell_type": "code",
                  "execution_count": null,
                  "metadata": {},
                  "outputs": [
                        {
                              "data": {
                                    "image/png": "[encoded data removed]",
                                    "text/plain": [
                                          "<Figure size 1000x600 with 1 Axes>"
                                    ]
                              },
                              "metadata": {},
                              "output_type": "display_data"
                        }
                  ],
                  "source": [
                        "plot_regression_results(best_model, cancer_dm.test_dataloader())"
                  ]
            },
            {
                  "cell_type": "code",
                  "execution_count": null,
                  "metadata": {},
                  "outputs": [],
                  "source": []
            }
      ],
      "metadata": {
            "kernelspec": {
                  "display_name": "bmi_6114",
                  "language": "python",
                  "name": "python3"
            },
            "language_info": {
                  "codemirror_mode": {
                        "name": "ipython",
                        "version": 3
                  },
                  "file_extension": ".py",
                  "mimetype": "text/x-python",
                  "name": "python",
                  "nbconvert_exporter": "python",
                  "pygments_lexer": "ipython3",
                  "version": "3.12.5"
            }
      },
      "nbformat": 4,
      "nbformat_minor": 2
}
