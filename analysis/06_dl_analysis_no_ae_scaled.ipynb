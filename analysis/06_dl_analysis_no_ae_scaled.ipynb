{
      "cells": [
            {
                  "cell_type": "code",
                  "execution_count": 1,
                  "metadata": {},
                  "outputs": [],
                  "source": [
                        "%load_ext autoreload\n",
                        "%autoreload 2\n"
                  ]
            },
            {
                  "cell_type": "markdown",
                  "metadata": {},
                  "source": [
                        "# Deep Learning Analysis"
                  ]
            },
            {
                  "cell_type": "code",
                  "execution_count": 2,
                  "metadata": {},
                  "outputs": [],
                  "source": [
                        "import json\n",
                        "import joblib\n",
                        "import lightning as L\n",
                        "import matplotlib.pyplot as plt\n",
                        "import numpy as np\n",
                        "import pandas as pd\n",
                        "import torch\n",
                        "import torch.nn as nn\n",
                        "import torch.nn.functional as F\n",
                        "import torchvision.transforms as transforms\n",
                        "from torch.utils.data import DataLoader, random_split\n",
                        "from torchmetrics import MeanSquaredError\n",
                        "from torchvision import datasets\n",
                        "from utils.helper_classes import CancerDataModule, CancerDataset\n",
                        "from utils.models import BaseCancerRegressor, CancerDataAutoEncoder"
                  ]
            },
            {
                  "cell_type": "code",
                  "execution_count": 3,
                  "metadata": {},
                  "outputs": [],
                  "source": [
                        "cancer_df = pd.read_csv(\"../data/cleaned_feature_and_target_data_large.csv\", index_col=0)\n",
                        "cna_columns = [col for col in cancer_df.columns if col.startswith(\"CNA\")]\n",
                        "numeric_cols = [\"SMOKING_PACK_YEARS\"] + cna_columns\n",
                        "cancer_df[numeric_cols] = cancer_df[numeric_cols].astype(np.float32)\n",
                        "scaler = joblib.load(open(\"results/scaler.pkl\", \"rb\"))\n",
                        "cancer_dm = CancerDataModule(cancer_df, numerical_features=numeric_cols, scaler=scaler)\n",
                        "cancer_dm.setup()"
                  ]
            },
            {
                  "cell_type": "code",
                  "execution_count": 4,
                  "metadata": {},
                  "outputs": [],
                  "source": [
                        "cdm = CancerDataModule(cancer_df, numerical_features=numeric_cols, scaler=scaler, scale_targets=True)\n",
                        "cdm.setup()\n",
                        "target_scaler = cdm.target_scaler"
                  ]
            },
            {
                  "cell_type": "code",
                  "execution_count": 5,
                  "metadata": {},
                  "outputs": [],
                  "source": [
                        "import random\n",
                        "\n",
                        "\n",
                        "class NNRegressor(L.LightningModule):\n",
                        "    def __init__(self, input_dim, n_layers=1, dropout=0.2, activation=nn.LeakyReLU, optimizer=torch.optim.Adam, lr=1e-3, weight_decay=1e-4, target_scaler=None):\n",
                        "        super(NNRegressor, self).__init__()\n",
                        "        self.target_scaler = target_scaler\n",
                        "        self.optimizer = optimizer\n",
                        "        self.lr = lr\n",
                        "        self.weight_decay = weight_decay\n",
                        "        self.layers = []\n",
                        "        curr_size = input_dim\n",
                        "        len_first_half = int(n_layers / 2)\n",
                        "        len_second_half = n_layers - len_first_half\n",
                        "        for i in range(len_first_half):\n",
                        "            new_size = curr_size * 2\n",
                        "            self.layers += [\n",
                        "                nn.Linear(curr_size, new_size),\n",
                        "                nn.BatchNorm1d(new_size),\n",
                        "                activation(),\n",
                        "                nn.Dropout(dropout),\n",
                        "            ]\n",
                        "            curr_size = new_size\n",
                        "        \n",
                        "        for i in range(len_second_half):\n",
                        "            new_size = curr_size // 2\n",
                        "            self.layers += [\n",
                        "                nn.Linear(curr_size, new_size),\n",
                        "                nn.BatchNorm1d(new_size),\n",
                        "                activation(),\n",
                        "                nn.Dropout(dropout),\n",
                        "            ]\n",
                        "            curr_size = new_size\n",
                        "        if curr_size > 1:\n",
                        "            self.layers.append(nn.Linear(curr_size, 1))\n",
                        "        self.network = nn.Sequential(*self.layers)\n",
                        "\n",
                        "        self.loss_metric = MeanSquaredError()\n",
                        "        self.val_metric = MeanSquaredError()\n",
                        "        self.test_metric = MeanSquaredError()\n",
                        "\n",
                        "\n",
                        "\n",
                        "    def forward(self, x):\n",
                        "        y = self.network(x)\n",
                        "        return y\n",
                        "    \n",
                        "    def training_step(self, batch, batch_idx):\n",
                        "        x, y = batch\n",
                        "        x = x.to(self.device)\n",
                        "        y = y.to(self.device)\n",
                        "        y_hat = self(x)\n",
                        "        loss = nn.functional.mse_loss(y_hat, y)\n",
                        "        self.log(\"train_loss\", loss, prog_bar=True)\n",
                        "        self.log(\"train_mse\", self.loss_metric(y_hat, y), prog_bar=True)\n",
                        "\n",
                        "        return loss\n",
                        "    \n",
                        "    def on_training_epoch_end(self):\n",
                        "        self.log(\"train_mse\", self.loss_metric.compute())\n",
                        "        self.loss_metric.reset()\n",
                        "\n",
                        "    def validation_step(self, batch, batch_idx):\n",
                        "        x, y = batch\n",
                        "        y_hat = self(x)\n",
                        "        loss = nn.functional.mse_loss(y_hat, y)\n",
                        "        self.log(\"val_loss\", loss, prog_bar=True)\n",
                        "        self.log(\"val_mse\", self.val_metric(y_hat, y), prog_bar=True)\n",
                        "\n",
                        "    def on_validation_epoch_end(self):\n",
                        "        self.log(\"val_mse\", self.val_metric.compute())\n",
                        "        self.val_metric.reset()\n",
                        "        \n",
                        "    def configure_optimizers(self):\n",
                        "        return self.optimizer(self.network.parameters(), lr=self.lr, weight_decay=self.weight_decay)\n",
                        "    \n",
                        "    def test_step(self, batch, batch_idx):\n",
                        "        x, y = batch\n",
                        "        y_hat = self(x)\n",
                        "        loss = nn.functional.mse_loss(y_hat, y)\n",
                        "        self.log(\"test_loss\", loss, prog_bar=True)\n",
                        "        self.log(\"test_mse\", self.test_metric(y_hat, y), prog_bar=True)\n",
                        "        return loss\n",
                        "    \n",
                        "    def on_test_epoch_end(self):\n",
                        "        self.log(\"test_mse\", self.test_metric.compute())\n",
                        "        self.test_metric.reset()\n",
                        "\n",
                        "simple_nn = NNRegressor(\n",
                        "    input_dim=len(cancer_dm.ds_train[0][0]),\n",
                        "    n_layers=8,\n",
                        "    target_scaler=target_scaler,\n",
                        ")"
                  ]
            },
            {
                  "cell_type": "code",
                  "execution_count": 6,
                  "metadata": {},
                  "outputs": [
                        {
                              "data": {
                                    "text/plain": [
                                          "==========================================================================================\n",
                                          "Layer (type:depth-idx)                   Output Shape              Param #\n",
                                          "==========================================================================================\n",
                                          "NNRegressor                              [1, 1]                    --\n",
                                          "├─Sequential: 1-1                        [1, 1]                    --\n",
                                          "│    └─Linear: 2-1                       [1, 1978]                 1,958,220\n",
                                          "│    └─BatchNorm1d: 2-2                  [1, 1978]                 3,956\n",
                                          "│    └─LeakyReLU: 2-3                    [1, 1978]                 --\n",
                                          "│    └─Dropout: 2-4                      [1, 1978]                 --\n",
                                          "│    └─Linear: 2-5                       [1, 3956]                 7,828,924\n",
                                          "│    └─BatchNorm1d: 2-6                  [1, 3956]                 7,912\n",
                                          "│    └─LeakyReLU: 2-7                    [1, 3956]                 --\n",
                                          "│    └─Dropout: 2-8                      [1, 3956]                 --\n",
                                          "│    └─Linear: 2-9                       [1, 7912]                 31,307,784\n",
                                          "│    └─BatchNorm1d: 2-10                 [1, 7912]                 15,824\n",
                                          "│    └─LeakyReLU: 2-11                   [1, 7912]                 --\n",
                                          "│    └─Dropout: 2-12                     [1, 7912]                 --\n",
                                          "│    └─Linear: 2-13                      [1, 15824]                125,215,312\n",
                                          "│    └─BatchNorm1d: 2-14                 [1, 15824]                31,648\n",
                                          "│    └─LeakyReLU: 2-15                   [1, 15824]                --\n",
                                          "│    └─Dropout: 2-16                     [1, 15824]                --\n",
                                          "│    └─Linear: 2-17                      [1, 7912]                 125,207,400\n",
                                          "│    └─BatchNorm1d: 2-18                 [1, 7912]                 15,824\n",
                                          "│    └─LeakyReLU: 2-19                   [1, 7912]                 --\n",
                                          "│    └─Dropout: 2-20                     [1, 7912]                 --\n",
                                          "│    └─Linear: 2-21                      [1, 3956]                 31,303,828\n",
                                          "│    └─BatchNorm1d: 2-22                 [1, 3956]                 7,912\n",
                                          "│    └─LeakyReLU: 2-23                   [1, 3956]                 --\n",
                                          "│    └─Dropout: 2-24                     [1, 3956]                 --\n",
                                          "│    └─Linear: 2-25                      [1, 1978]                 7,826,946\n",
                                          "│    └─BatchNorm1d: 2-26                 [1, 1978]                 3,956\n",
                                          "│    └─LeakyReLU: 2-27                   [1, 1978]                 --\n",
                                          "│    └─Dropout: 2-28                     [1, 1978]                 --\n",
                                          "│    └─Linear: 2-29                      [1, 989]                  1,957,231\n",
                                          "│    └─BatchNorm1d: 2-30                 [1, 989]                  1,978\n",
                                          "│    └─LeakyReLU: 2-31                   [1, 989]                  --\n",
                                          "│    └─Dropout: 2-32                     [1, 989]                  --\n",
                                          "│    └─Linear: 2-33                      [1, 1]                    990\n",
                                          "==========================================================================================\n",
                                          "Total params: 332,695,645\n",
                                          "Trainable params: 332,695,645\n",
                                          "Non-trainable params: 0\n",
                                          "Total mult-adds (Units.MEGABYTES): 332.70\n",
                                          "==========================================================================================\n",
                                          "Input size (MB): 0.00\n",
                                          "Forward/backward pass size (MB): 0.71\n",
                                          "Params size (MB): 1330.78\n",
                                          "Estimated Total Size (MB): 1331.50\n",
                                          "=========================================================================================="
                                    ]
                              },
                              "execution_count": 6,
                              "metadata": {},
                              "output_type": "execute_result"
                        }
                  ],
                  "source": [
                        "from torchinfo import summary\n",
                        "\n",
                        "input_dim = len(cancer_dm.ds_train[0][0])\n",
                        "summary(NNRegressor(\n",
                        "    input_dim=len(cancer_dm.ds_train[0][0]),\n",
                        "    n_layers=8,\n",
                        "    target_scaler=target_scaler,\n",
                        "), input_size=(1, input_dim))"
                  ]
            },
            {
                  "cell_type": "code",
                  "execution_count": 7,
                  "metadata": {},
                  "outputs": [
                        {
                              "name": "stderr",
                              "output_type": "stream",
                              "text": [
                                    "GPU available: True (cuda), used: True\n",
                                    "TPU available: False, using: 0 TPU cores\n",
                                    "HPU available: False, using: 0 HPUs\n"
                              ]
                        },
                        {
                              "name": "stderr",
                              "output_type": "stream",
                              "text": [
                                    "You are using a CUDA device ('NVIDIA GeForce RTX 3080 Laptop GPU') that has Tensor Cores. To properly utilize them, you should set `torch.set_float32_matmul_precision('medium' | 'high')` which will trade-off precision for performance. For more details, read https://pytorch.org/docs/stable/generated/torch.set_float32_matmul_precision.html#torch.set_float32_matmul_precision\n",
                                    "LOCAL_RANK: 0 - CUDA_VISIBLE_DEVICES: [0]\n",
                                    "\n",
                                    "  | Name        | Type             | Params | Mode \n",
                                    "---------------------------------------------------------\n",
                                    "0 | network     | Sequential       | 3.9 M  | train\n",
                                    "1 | loss_metric | MeanSquaredError | 0      | train\n",
                                    "2 | val_metric  | MeanSquaredError | 0      | train\n",
                                    "3 | test_metric | MeanSquaredError | 0      | train\n",
                                    "---------------------------------------------------------\n",
                                    "3.9 M     Trainable params\n",
                                    "0         Non-trainable params\n",
                                    "3.9 M     Total params\n",
                                    "15.689    Total estimated model params size (MB)\n",
                                    "13        Modules in train mode\n",
                                    "0         Modules in eval mode\n"
                              ]
                        },
                        {
                              "data": {
                                    "application/vnd.jupyter.widget-view+json": {
                                          "model_id": "ae866310c23b4c7faa7bd5e4a2b79245",
                                          "version_major": 2,
                                          "version_minor": 0
                                    },
                                    "text/plain": [
                                          "Sanity Checking: |          | 0/? [00:00<?, ?it/s]"
                                    ]
                              },
                              "metadata": {},
                              "output_type": "display_data"
                        },
                        {
                              "data": {
                                    "application/vnd.jupyter.widget-view+json": {
                                          "model_id": "328e8d87ab314592bb975199af1261f4",
                                          "version_major": 2,
                                          "version_minor": 0
                                    },
                                    "text/plain": [
                                          "Training: |          | 0/? [00:00<?, ?it/s]"
                                    ]
                              },
                              "metadata": {},
                              "output_type": "display_data"
                        },
                        {
                              "data": {
                                    "application/vnd.jupyter.widget-view+json": {
                                          "model_id": "482e4aede9b3426b91fef04fc5ce6ac1",
                                          "version_major": 2,
                                          "version_minor": 0
                                    },
                                    "text/plain": [
                                          "Validation: |          | 0/? [00:00<?, ?it/s]"
                                    ]
                              },
                              "metadata": {},
                              "output_type": "display_data"
                        },
                        {
                              "data": {
                                    "application/vnd.jupyter.widget-view+json": {
                                          "model_id": "6371c864450f473383c400209a462f9f",
                                          "version_major": 2,
                                          "version_minor": 0
                                    },
                                    "text/plain": [
                                          "Validation: |          | 0/? [00:00<?, ?it/s]"
                                    ]
                              },
                              "metadata": {},
                              "output_type": "display_data"
                        },
                        {
                              "data": {
                                    "application/vnd.jupyter.widget-view+json": {
                                          "model_id": "8ee765b6ac0b4c09be5c360c820763e8",
                                          "version_major": 2,
                                          "version_minor": 0
                                    },
                                    "text/plain": [
                                          "Validation: |          | 0/? [00:00<?, ?it/s]"
                                    ]
                              },
                              "metadata": {},
                              "output_type": "display_data"
                        },
                        {
                              "data": {
                                    "application/vnd.jupyter.widget-view+json": {
                                          "model_id": "42816e2ae2814344acb8242696d3992c",
                                          "version_major": 2,
                                          "version_minor": 0
                                    },
                                    "text/plain": [
                                          "Validation: |          | 0/? [00:00<?, ?it/s]"
                                    ]
                              },
                              "metadata": {},
                              "output_type": "display_data"
                        },
                        {
                              "data": {
                                    "application/vnd.jupyter.widget-view+json": {
                                          "model_id": "db78b90ae7bd421d8f01d33a8309ea45",
                                          "version_major": 2,
                                          "version_minor": 0
                                    },
                                    "text/plain": [
                                          "Validation: |          | 0/? [00:00<?, ?it/s]"
                                    ]
                              },
                              "metadata": {},
                              "output_type": "display_data"
                        },
                        {
                              "data": {
                                    "application/vnd.jupyter.widget-view+json": {
                                          "model_id": "7177239f53dc4d5190c07b3240fc176a",
                                          "version_major": 2,
                                          "version_minor": 0
                                    },
                                    "text/plain": [
                                          "Validation: |          | 0/? [00:00<?, ?it/s]"
                                    ]
                              },
                              "metadata": {},
                              "output_type": "display_data"
                        },
                        {
                              "data": {
                                    "application/vnd.jupyter.widget-view+json": {
                                          "model_id": "d881114f3cf2418ab37ef3f045d25271",
                                          "version_major": 2,
                                          "version_minor": 0
                                    },
                                    "text/plain": [
                                          "Validation: |          | 0/? [00:00<?, ?it/s]"
                                    ]
                              },
                              "metadata": {},
                              "output_type": "display_data"
                        }
                  ],
                  "source": [
                        "from utils.helper_functions import create_classifier_trainer\n",
                        "\n",
                        "trainer, regressor_csv_logger, regressor_checkpoint = create_classifier_trainer(\"cancer_regressor\")\n",
                        "cancer_regressor = NNRegressor(\n",
                        "    input_dim=len(cancer_dm.ds_train[0][0]),\n",
                        "    n_layers=2,\n",
                        "    target_scaler=target_scaler,\n",
                        ")\n",
                        "trainer.fit(\n",
                        "    cancer_regressor,\n",
                        "    datamodule=CancerDataModule(cancer_df, numerical_features=numeric_cols, scaler=scaler, target_scaler=target_scaler),\n",
                        ")"
                  ]
            },
            {
                  "cell_type": "code",
                  "execution_count": 8,
                  "metadata": {},
                  "outputs": [
                        {
                              "name": "stderr",
                              "output_type": "stream",
                              "text": [
                                    "LOCAL_RANK: 0 - CUDA_VISIBLE_DEVICES: [0]\n"
                              ]
                        },
                        {
                              "data": {
                                    "application/vnd.jupyter.widget-view+json": {
                                          "model_id": "18bd5f8cf45846bf8a9b2298124b4331",
                                          "version_major": 2,
                                          "version_minor": 0
                                    },
                                    "text/plain": [
                                          "Testing: |          | 0/? [00:00<?, ?it/s]"
                                    ]
                              },
                              "metadata": {},
                              "output_type": "display_data"
                        },
                        {
                              "data": {
                                    "text/html": [
                                          "<pre style=\"white-space:pre;overflow-x:auto;line-height:normal;font-family:Menlo,'DejaVu Sans Mono',consolas,'Courier New',monospace\">┏━━━━━━━━━━━━━━━━━━━━━━━━━━━┳━━━━━━━━━━━━━━━━━━━━━━━━━━━┓\n",
                                          "┃<span style=\"font-weight: bold\">        Test metric        </span>┃<span style=\"font-weight: bold\">       DataLoader 0        </span>┃\n",
                                          "┡━━━━━━━━━━━━━━━━━━━━━━━━━━━╇━━━━━━━━━━━━━━━━━━━━━━━━━━━┩\n",
                                          "│<span style=\"color: #008080; text-decoration-color: #008080\">         test_loss         </span>│<span style=\"color: #800080; text-decoration-color: #800080\">     2.467365026473999     </span>│\n",
                                          "│<span style=\"color: #008080; text-decoration-color: #008080\">         test_mse          </span>│<span style=\"color: #800080; text-decoration-color: #800080\">     2.467365026473999     </span>│\n",
                                          "└───────────────────────────┴───────────────────────────┘\n",
                                          "</pre>\n"
                                    ],
                                    "text/plain": [
                                          "┏━━━━━━━━━━━━━━━━━━━━━━━━━━━┳━━━━━━━━━━━━━━━━━━━━━━━━━━━┓\n",
                                          "┃\u001b[1m \u001b[0m\u001b[1m       Test metric       \u001b[0m\u001b[1m \u001b[0m┃\u001b[1m \u001b[0m\u001b[1m      DataLoader 0       \u001b[0m\u001b[1m \u001b[0m┃\n",
                                          "┡━━━━━━━━━━━━━━━━━━━━━━━━━━━╇━━━━━━━━━━━━━━━━━━━━━━━━━━━┩\n",
                                          "│\u001b[36m \u001b[0m\u001b[36m        test_loss        \u001b[0m\u001b[36m \u001b[0m│\u001b[35m \u001b[0m\u001b[35m    2.467365026473999    \u001b[0m\u001b[35m \u001b[0m│\n",
                                          "│\u001b[36m \u001b[0m\u001b[36m        test_mse         \u001b[0m\u001b[36m \u001b[0m│\u001b[35m \u001b[0m\u001b[35m    2.467365026473999    \u001b[0m\u001b[35m \u001b[0m│\n",
                                          "└───────────────────────────┴───────────────────────────┘\n"
                                    ]
                              },
                              "metadata": {},
                              "output_type": "display_data"
                        },
                        {
                              "data": {
                                    "text/plain": [
                                          "[{'test_loss': 2.467365026473999, 'test_mse': 2.467365026473999}]"
                                    ]
                              },
                              "execution_count": 8,
                              "metadata": {},
                              "output_type": "execute_result"
                        }
                  ],
                  "source": [
                        "trainer.test(\n",
                        "    model=cancer_regressor,\n",
                        "    datamodule=CancerDataModule(cancer_df, numerical_features=numeric_cols, scaler=scaler, target_scaler=target_scaler),\n",
                        ")"
                  ]
            },
            {
                  "cell_type": "code",
                  "execution_count": 17,
                  "metadata": {},
                  "outputs": [
                        {
                              "data": {
                                    "image/png": "[encoded data removed]",
                                    "text/plain": [
                                          "<Figure size 1000x600 with 1 Axes>"
                                    ]
                              },
                              "metadata": {},
                              "output_type": "display_data"
                        }
                  ],
                  "source": [
                        "from sklearn.metrics import r2_score\n",
                        "from sklearn.metrics import mean_squared_error\n",
                        "\n",
                        "\n",
                        "def plot_regression_results(model, dataloader, title=\"Regression Results\"):\n",
                        "    model.eval()\n",
                        "    y_true = []\n",
                        "    y_pred = []\n",
                        "    with torch.no_grad():\n",
                        "        for batch in dataloader:\n",
                        "            x, y = batch\n",
                        "            y_hat = torch.tensor(model.target_scaler.inverse_transform(model(x).numpy()))\n",
                        "            y_true.append(torch.tensor(model.target_scaler.inverse_transform(y.numpy())))\n",
                        "            y_pred.append(y_hat)\n",
                        "\n",
                        "    y_true = torch.cat(y_true).numpy()\n",
                        "    y_pred = torch.cat(y_pred).numpy()\n",
                        "    r2 = r2_score(y_true, y_pred)\n",
                        "    mse = mean_squared_error(y_true, y_pred)\n",
                        "\n",
                        "    plt.figure(figsize=(10, 6))\n",
                        "    plt.scatter(y_true, y_pred, alpha=0.5)\n",
                        "    plt.plot([y_true.min(), y_true.max()], [y_true.min(), y_true.max()], 'r--')\n",
                        "    plt.xlabel('True Values')\n",
                        "    plt.ylabel('Predictions')\n",
                        "    plt.title(title)\n",
                        "    plt.grid(True)\n",
                        "    # Add R² and MSE text in upper left corner\n",
                        "    plt.text(\n",
                        "        0.05, 0.95,\n",
                        "        f'R² = {r2:.3f}\\nMSE = {mse:.3f}',\n",
                        "        transform=plt.gca().transAxes,\n",
                        "        fontsize=12,\n",
                        "        verticalalignment='top',\n",
                        "        bbox=dict(facecolor='white', alpha=0.8, edgecolor='gray')\n",
                        "    )\n",
                        "    plt.show()\n",
                        "plot_regression_results(cancer_regressor, cdm.test_dataloader())"
                  ]
            },
            {
                  "cell_type": "code",
                  "execution_count": 10,
                  "metadata": {},
                  "outputs": [],
                  "source": [
                        "import optuna\n",
                        "\n",
                        "trial_to_details = {}\n",
                        "def objective(trial):\n",
                        "    # Sample hyperparameters\n",
                        "    activation_dict = {\n",
                        "        \"relu\": nn.ReLU,\n",
                        "        \"leaky_relu\": nn.LeakyReLU,\n",
                        "        \"tanh\": nn.Tanh,\n",
                        "        \"RReLU\": nn.RReLU,\n",
                        "    }\n",
                        "    optimizer_dict = {\n",
                        "        \"adam\": torch.optim.Adam,\n",
                        "        \"sgd\": torch.optim.SGD,\n",
                        "        \"adagrad\": torch.optim.Adagrad,\n",
                        "    }\n",
                        "    n_layers = trial.suggest_int(\"n_layers\", 3, 5)\n",
                        "    dropout = trial.suggest_float(\"dropout\", 0.0, 0.5)\n",
                        "    learning_rate = trial.suggest_float(\"learning_rate\", 1e-5, 1e-2, log=True)\n",
                        "    weight_decay = trial.suggest_float(\"weight_decay\", 1e-5, 1e-2, log=True)\n",
                        "    optimizer = trial.suggest_categorical(\"optimizer\", list(optimizer_dict.keys()))\n",
                        "    activation = trial.suggest_categorical(\"activation\", list(activation_dict.keys()) )\n",
                        "\n",
                        "    activation = activation_dict[activation]\n",
                        "    optimizer = optimizer_dict[optimizer]\n",
                        "\n",
                        "    model =NNRegressor(\n",
                        "        input_dim=len(cancer_dm.ds_train[0][0]),\n",
                        "        n_layers=n_layers,\n",
                        "        dropout=dropout,\n",
                        "        activation=activation,\n",
                        "        optimizer=optimizer,\n",
                        "        lr=learning_rate,\n",
                        "        weight_decay=weight_decay,\n",
                        "        target_scaler=target_scaler,\n",
                        "    )\n",
                        "    trainer, logger, checkpoint = create_classifier_trainer(f\"nn_trial_{trial.number}\", max_epochs=50, enable_pbar=False)\n",
                        "\n",
                        "\n",
                        "    # Training loop\n",
                        "    trainer.fit(\n",
                        "        model,\n",
                        "        datamodule=CancerDataModule(cancer_df, numerical_features=numeric_cols, scaler=scaler, target_scaler=target_scaler),\n",
                        "    )\n",
                        "    trial_to_details[trial.number] = {\n",
                        "        \"logger\" : logger,\n",
                        "        \"checkpoint\" : checkpoint,\n",
                        "    }\n",
                        "\n",
                        "    \n",
                        "    # Store trial details\n",
                        "    trial_to_details[trial.number] = {\n",
                        "        \"logger\" : logger,\n",
                        "        \"checkpoint\" : checkpoint,\n",
                        "    }\n",
                        "    metrics_path = f\"{logger.log_dir}/metrics.csv\"\n",
                        "    metrics_df = pd.read_csv(metrics_path)\n",
                        "\n",
                        "    if \"val_mse\" not in metrics_df.columns:\n",
                        "        return float(\"inf\")\n",
                        "\n",
                        "    last_val = metrics_df[\"val_mse\"].dropna().values[-1]\n",
                        "    return last_val"
                  ]
            },
            {
                  "cell_type": "code",
                  "execution_count": 11,
                  "metadata": {},
                  "outputs": [
                        {
                              "name": "stderr",
                              "output_type": "stream",
                              "text": [
                                    "[I 2025-04-18 14:35:57,880] A new study created in memory with name: deep_regressor_scaled_study\n"
                              ]
                        },
                        {
                              "data": {
                                    "application/vnd.jupyter.widget-view+json": {
                                          "model_id": "c02d89181379457481982789c8404825",
                                          "version_major": 2,
                                          "version_minor": 0
                                    },
                                    "text/plain": [
                                          "  0%|          | 0/20 [00:00<?, ?it/s]"
                                    ]
                              },
                              "metadata": {},
                              "output_type": "display_data"
                        },
                        {
                              "name": "stderr",
                              "output_type": "stream",
                              "text": [
                                    "GPU available: True (cuda), used: True\n",
                                    "TPU available: False, using: 0 TPU cores\n",
                                    "HPU available: False, using: 0 HPUs\n",
                                    "LOCAL_RANK: 0 - CUDA_VISIBLE_DEVICES: [0]\n",
                                    "\n",
                                    "  | Name        | Type             | Params | Mode \n",
                                    "---------------------------------------------------------\n",
                                    "0 | network     | Sequential       | 4.4 M  | train\n",
                                    "1 | loss_metric | MeanSquaredError | 0      | train\n",
                                    "2 | val_metric  | MeanSquaredError | 0      | train\n",
                                    "3 | test_metric | MeanSquaredError | 0      | train\n",
                                    "---------------------------------------------------------\n",
                                    "4.4 M     Trainable params\n",
                                    "0         Non-trainable params\n",
                                    "4.4 M     Total params\n",
                                    "17.648    Total estimated model params size (MB)\n",
                                    "17        Modules in train mode\n",
                                    "0         Modules in eval mode\n",
                                    "GPU available: True (cuda), used: True\n",
                                    "TPU available: False, using: 0 TPU cores\n",
                                    "HPU available: False, using: 0 HPUs\n"
                              ]
                        },
                        {
                              "name": "stdout",
                              "output_type": "stream",
                              "text": [
                                    "[I 2025-04-18 14:37:29,924] Trial 0 finished with value: 3.201751470565796 and parameters: {'n_layers': 3, 'dropout': 0.1410791329846784, 'learning_rate': 0.0005810194406838969, 'weight_decay': 0.0007773813144894222, 'optimizer': 'sgd', 'activation': 'tanh'}. Best is trial 0 with value: 3.201751470565796.\n"
                              ]
                        },
                        {
                              "name": "stderr",
                              "output_type": "stream",
                              "text": [
                                    "LOCAL_RANK: 0 - CUDA_VISIBLE_DEVICES: [0]\n",
                                    "\n",
                                    "  | Name        | Type             | Params | Mode \n",
                                    "---------------------------------------------------------\n",
                                    "0 | network     | Sequential       | 4.4 M  | train\n",
                                    "1 | loss_metric | MeanSquaredError | 0      | train\n",
                                    "2 | val_metric  | MeanSquaredError | 0      | train\n",
                                    "3 | test_metric | MeanSquaredError | 0      | train\n",
                                    "---------------------------------------------------------\n",
                                    "4.4 M     Trainable params\n",
                                    "0         Non-trainable params\n",
                                    "4.4 M     Total params\n",
                                    "17.648    Total estimated model params size (MB)\n",
                                    "17        Modules in train mode\n",
                                    "0         Modules in eval mode\n"
                              ]
                        },
                        {
                              "name": "stdout",
                              "output_type": "stream",
                              "text": [
                                    "[I 2025-04-18 14:37:54,406] Trial 1 finished with value: 2.363908290863037 and parameters: {'n_layers': 3, 'dropout': 0.12965718234308304, 'learning_rate': 0.00015943739587939484, 'weight_decay': 0.0011320751172753745, 'optimizer': 'adam', 'activation': 'leaky_relu'}. Best is trial 1 with value: 2.363908290863037.\n"
                              ]
                        },
                        {
                              "name": "stderr",
                              "output_type": "stream",
                              "text": [
                                    "GPU available: True (cuda), used: True\n",
                                    "TPU available: False, using: 0 TPU cores\n",
                                    "HPU available: False, using: 0 HPUs\n",
                                    "LOCAL_RANK: 0 - CUDA_VISIBLE_DEVICES: [0]\n",
                                    "\n",
                                    "  | Name        | Type             | Params | Mode \n",
                                    "---------------------------------------------------------\n",
                                    "0 | network     | Sequential       | 20.1 M | train\n",
                                    "1 | loss_metric | MeanSquaredError | 0      | train\n",
                                    "2 | val_metric  | MeanSquaredError | 0      | train\n",
                                    "3 | test_metric | MeanSquaredError | 0      | train\n",
                                    "---------------------------------------------------------\n",
                                    "20.1 M    Trainable params\n",
                                    "0         Non-trainable params\n",
                                    "20.1 M    Total params\n",
                                    "80.319    Total estimated model params size (MB)\n",
                                    "25        Modules in train mode\n",
                                    "0         Modules in eval mode\n"
                              ]
                        },
                        {
                              "name": "stdout",
                              "output_type": "stream",
                              "text": [
                                    "[I 2025-04-18 14:38:25,997] Trial 2 finished with value: 1.96914803981781 and parameters: {'n_layers': 5, 'dropout': 0.27310586398957265, 'learning_rate': 0.00866509996385969, 'weight_decay': 0.007463672272531781, 'optimizer': 'adam', 'activation': 'leaky_relu'}. Best is trial 2 with value: 1.96914803981781.\n"
                              ]
                        },
                        {
                              "name": "stderr",
                              "output_type": "stream",
                              "text": [
                                    "GPU available: True (cuda), used: True\n",
                                    "TPU available: False, using: 0 TPU cores\n",
                                    "HPU available: False, using: 0 HPUs\n",
                                    "LOCAL_RANK: 0 - CUDA_VISIBLE_DEVICES: [0]\n",
                                    "\n",
                                    "  | Name        | Type             | Params | Mode \n",
                                    "---------------------------------------------------------\n",
                                    "0 | network     | Sequential       | 4.4 M  | train\n",
                                    "1 | loss_metric | MeanSquaredError | 0      | train\n",
                                    "2 | val_metric  | MeanSquaredError | 0      | train\n",
                                    "3 | test_metric | MeanSquaredError | 0      | train\n",
                                    "---------------------------------------------------------\n",
                                    "4.4 M     Trainable params\n",
                                    "0         Non-trainable params\n",
                                    "4.4 M     Total params\n",
                                    "17.648    Total estimated model params size (MB)\n",
                                    "17        Modules in train mode\n",
                                    "0         Modules in eval mode\n"
                              ]
                        },
                        {
                              "name": "stdout",
                              "output_type": "stream",
                              "text": [
                                    "[I 2025-04-18 14:39:16,525] Trial 3 finished with value: 3.243101119995117 and parameters: {'n_layers': 3, 'dropout': 0.4846770426270832, 'learning_rate': 6.320980968615257e-05, 'weight_decay': 6.840609527232511e-05, 'optimizer': 'adam', 'activation': 'relu'}. Best is trial 2 with value: 1.96914803981781.\n"
                              ]
                        },
                        {
                              "name": "stderr",
                              "output_type": "stream",
                              "text": [
                                    "GPU available: True (cuda), used: True\n",
                                    "TPU available: False, using: 0 TPU cores\n",
                                    "HPU available: False, using: 0 HPUs\n",
                                    "LOCAL_RANK: 0 - CUDA_VISIBLE_DEVICES: [0]\n",
                                    "\n",
                                    "  | Name        | Type             | Params | Mode \n",
                                    "---------------------------------------------------------\n",
                                    "0 | network     | Sequential       | 19.6 M | train\n",
                                    "1 | loss_metric | MeanSquaredError | 0      | train\n",
                                    "2 | val_metric  | MeanSquaredError | 0      | train\n",
                                    "3 | test_metric | MeanSquaredError | 0      | train\n",
                                    "---------------------------------------------------------\n",
                                    "19.6 M    Trainable params\n",
                                    "0         Non-trainable params\n",
                                    "19.6 M    Total params\n",
                                    "78.360    Total estimated model params size (MB)\n",
                                    "21        Modules in train mode\n",
                                    "0         Modules in eval mode\n",
                                    "GPU available: True (cuda), used: True\n",
                                    "TPU available: False, using: 0 TPU cores\n",
                                    "HPU available: False, using: 0 HPUs\n"
                              ]
                        },
                        {
                              "name": "stdout",
                              "output_type": "stream",
                              "text": [
                                    "[I 2025-04-18 14:39:31,682] Trial 4 finished with value: 2.181360483169556 and parameters: {'n_layers': 4, 'dropout': 0.08914078118648061, 'learning_rate': 0.009797485657100667, 'weight_decay': 0.0006008903760299064, 'optimizer': 'adagrad', 'activation': 'relu'}. Best is trial 2 with value: 1.96914803981781.\n"
                              ]
                        },
                        {
                              "name": "stderr",
                              "output_type": "stream",
                              "text": [
                                    "LOCAL_RANK: 0 - CUDA_VISIBLE_DEVICES: [0]\n",
                                    "\n",
                                    "  | Name        | Type             | Params | Mode \n",
                                    "---------------------------------------------------------\n",
                                    "0 | network     | Sequential       | 4.4 M  | train\n",
                                    "1 | loss_metric | MeanSquaredError | 0      | train\n",
                                    "2 | val_metric  | MeanSquaredError | 0      | train\n",
                                    "3 | test_metric | MeanSquaredError | 0      | train\n",
                                    "---------------------------------------------------------\n",
                                    "4.4 M     Trainable params\n",
                                    "0         Non-trainable params\n",
                                    "4.4 M     Total params\n",
                                    "17.648    Total estimated model params size (MB)\n",
                                    "17        Modules in train mode\n",
                                    "0         Modules in eval mode\n"
                              ]
                        },
                        {
                              "name": "stdout",
                              "output_type": "stream",
                              "text": [
                                    "[I 2025-04-18 14:40:04,760] Trial 5 finished with value: 2.396962881088257 and parameters: {'n_layers': 3, 'dropout': 0.12668841652394447, 'learning_rate': 0.009423786449981892, 'weight_decay': 1.588516274207794e-05, 'optimizer': 'sgd', 'activation': 'tanh'}. Best is trial 2 with value: 1.96914803981781.\n"
                              ]
                        },
                        {
                              "name": "stderr",
                              "output_type": "stream",
                              "text": [
                                    "GPU available: True (cuda), used: True\n",
                                    "TPU available: False, using: 0 TPU cores\n",
                                    "HPU available: False, using: 0 HPUs\n",
                                    "LOCAL_RANK: 0 - CUDA_VISIBLE_DEVICES: [0]\n",
                                    "\n",
                                    "  | Name        | Type             | Params | Mode \n",
                                    "---------------------------------------------------------\n",
                                    "0 | network     | Sequential       | 19.6 M | train\n",
                                    "1 | loss_metric | MeanSquaredError | 0      | train\n",
                                    "2 | val_metric  | MeanSquaredError | 0      | train\n",
                                    "3 | test_metric | MeanSquaredError | 0      | train\n",
                                    "---------------------------------------------------------\n",
                                    "19.6 M    Trainable params\n",
                                    "0         Non-trainable params\n",
                                    "19.6 M    Total params\n",
                                    "78.360    Total estimated model params size (MB)\n",
                                    "21        Modules in train mode\n",
                                    "0         Modules in eval mode\n"
                              ]
                        },
                        {
                              "name": "stdout",
                              "output_type": "stream",
                              "text": [
                                    "[I 2025-04-18 14:41:05,829] Trial 6 finished with value: 2.324326753616333 and parameters: {'n_layers': 4, 'dropout': 0.14025734291843245, 'learning_rate': 3.89010454971428e-05, 'weight_decay': 0.00027432172925576803, 'optimizer': 'adam', 'activation': 'relu'}. Best is trial 2 with value: 1.96914803981781.\n"
                              ]
                        },
                        {
                              "name": "stderr",
                              "output_type": "stream",
                              "text": [
                                    "GPU available: True (cuda), used: True\n",
                                    "TPU available: False, using: 0 TPU cores\n",
                                    "HPU available: False, using: 0 HPUs\n",
                                    "LOCAL_RANK: 0 - CUDA_VISIBLE_DEVICES: [0]\n",
                                    "\n",
                                    "  | Name        | Type             | Params | Mode \n",
                                    "---------------------------------------------------------\n",
                                    "0 | network     | Sequential       | 20.1 M | train\n",
                                    "1 | loss_metric | MeanSquaredError | 0      | train\n",
                                    "2 | val_metric  | MeanSquaredError | 0      | train\n",
                                    "3 | test_metric | MeanSquaredError | 0      | train\n",
                                    "---------------------------------------------------------\n",
                                    "20.1 M    Trainable params\n",
                                    "0         Non-trainable params\n",
                                    "20.1 M    Total params\n",
                                    "80.319    Total estimated model params size (MB)\n",
                                    "25        Modules in train mode\n",
                                    "0         Modules in eval mode\n",
                                    "GPU available: True (cuda), used: True\n",
                                    "TPU available: False, using: 0 TPU cores\n"
                              ]
                        },
                        {
                              "name": "stdout",
                              "output_type": "stream",
                              "text": [
                                    "[I 2025-04-18 14:41:20,644] Trial 7 finished with value: 2.474098920822144 and parameters: {'n_layers': 5, 'dropout': 0.29002298442159996, 'learning_rate': 0.004152822359019045, 'weight_decay': 0.0048640564007354364, 'optimizer': 'adagrad', 'activation': 'relu'}. Best is trial 2 with value: 1.96914803981781.\n"
                              ]
                        },
                        {
                              "name": "stderr",
                              "output_type": "stream",
                              "text": [
                                    "HPU available: False, using: 0 HPUs\n",
                                    "LOCAL_RANK: 0 - CUDA_VISIBLE_DEVICES: [0]\n",
                                    "\n",
                                    "  | Name        | Type             | Params | Mode \n",
                                    "---------------------------------------------------------\n",
                                    "0 | network     | Sequential       | 19.6 M | train\n",
                                    "1 | loss_metric | MeanSquaredError | 0      | train\n",
                                    "2 | val_metric  | MeanSquaredError | 0      | train\n",
                                    "3 | test_metric | MeanSquaredError | 0      | train\n",
                                    "---------------------------------------------------------\n",
                                    "19.6 M    Trainable params\n",
                                    "0         Non-trainable params\n",
                                    "19.6 M    Total params\n",
                                    "78.360    Total estimated model params size (MB)\n",
                                    "21        Modules in train mode\n",
                                    "0         Modules in eval mode\n",
                                    "GPU available: True (cuda), used: True\n",
                                    "TPU available: False, using: 0 TPU cores\n",
                                    "HPU available: False, using: 0 HPUs\n"
                              ]
                        },
                        {
                              "name": "stdout",
                              "output_type": "stream",
                              "text": [
                                    "[I 2025-04-18 14:42:29,791] Trial 8 finished with value: 2.964197397232056 and parameters: {'n_layers': 4, 'dropout': 0.4035132238300894, 'learning_rate': 0.00017025413667530234, 'weight_decay': 0.005232792089662108, 'optimizer': 'sgd', 'activation': 'RReLU'}. Best is trial 2 with value: 1.96914803981781.\n"
                              ]
                        },
                        {
                              "name": "stderr",
                              "output_type": "stream",
                              "text": [
                                    "LOCAL_RANK: 0 - CUDA_VISIBLE_DEVICES: [0]\n",
                                    "\n",
                                    "  | Name        | Type             | Params | Mode \n",
                                    "---------------------------------------------------------\n",
                                    "0 | network     | Sequential       | 19.6 M | train\n",
                                    "1 | loss_metric | MeanSquaredError | 0      | train\n",
                                    "2 | val_metric  | MeanSquaredError | 0      | train\n",
                                    "3 | test_metric | MeanSquaredError | 0      | train\n",
                                    "---------------------------------------------------------\n",
                                    "19.6 M    Trainable params\n",
                                    "0         Non-trainable params\n",
                                    "19.6 M    Total params\n",
                                    "78.360    Total estimated model params size (MB)\n",
                                    "21        Modules in train mode\n",
                                    "0         Modules in eval mode\n"
                              ]
                        },
                        {
                              "name": "stdout",
                              "output_type": "stream",
                              "text": [
                                    "[I 2025-04-18 14:43:51,804] Trial 9 finished with value: 4.596478462219238 and parameters: {'n_layers': 4, 'dropout': 0.2678647323951826, 'learning_rate': 0.0002801192871035779, 'weight_decay': 0.004734145349084203, 'optimizer': 'sgd', 'activation': 'tanh'}. Best is trial 2 with value: 1.96914803981781.\n"
                              ]
                        },
                        {
                              "name": "stderr",
                              "output_type": "stream",
                              "text": [
                                    "GPU available: True (cuda), used: True\n",
                                    "TPU available: False, using: 0 TPU cores\n",
                                    "HPU available: False, using: 0 HPUs\n",
                                    "LOCAL_RANK: 0 - CUDA_VISIBLE_DEVICES: [0]\n",
                                    "\n",
                                    "  | Name        | Type             | Params | Mode \n",
                                    "---------------------------------------------------------\n",
                                    "0 | network     | Sequential       | 20.1 M | train\n",
                                    "1 | loss_metric | MeanSquaredError | 0      | train\n",
                                    "2 | val_metric  | MeanSquaredError | 0      | train\n",
                                    "3 | test_metric | MeanSquaredError | 0      | train\n",
                                    "---------------------------------------------------------\n",
                                    "20.1 M    Trainable params\n",
                                    "0         Non-trainable params\n",
                                    "20.1 M    Total params\n",
                                    "80.319    Total estimated model params size (MB)\n",
                                    "25        Modules in train mode\n",
                                    "0         Modules in eval mode\n"
                              ]
                        },
                        {
                              "name": "stdout",
                              "output_type": "stream",
                              "text": [
                                    "[I 2025-04-18 14:46:06,582] Trial 10 finished with value: 3.630859136581421 and parameters: {'n_layers': 5, 'dropout': 0.3573863884306894, 'learning_rate': 1.0368823803261086e-05, 'weight_decay': 0.00014700312269062265, 'optimizer': 'adam', 'activation': 'leaky_relu'}. Best is trial 2 with value: 1.96914803981781.\n"
                              ]
                        },
                        {
                              "name": "stderr",
                              "output_type": "stream",
                              "text": [
                                    "GPU available: True (cuda), used: True\n",
                                    "TPU available: False, using: 0 TPU cores\n",
                                    "HPU available: False, using: 0 HPUs\n",
                                    "LOCAL_RANK: 0 - CUDA_VISIBLE_DEVICES: [0]\n",
                                    "\n",
                                    "  | Name        | Type             | Params | Mode \n",
                                    "---------------------------------------------------------\n",
                                    "0 | network     | Sequential       | 20.1 M | train\n",
                                    "1 | loss_metric | MeanSquaredError | 0      | train\n",
                                    "2 | val_metric  | MeanSquaredError | 0      | train\n",
                                    "3 | test_metric | MeanSquaredError | 0      | train\n",
                                    "---------------------------------------------------------\n",
                                    "20.1 M    Trainable params\n",
                                    "0         Non-trainable params\n",
                                    "20.1 M    Total params\n",
                                    "80.319    Total estimated model params size (MB)\n",
                                    "25        Modules in train mode\n",
                                    "0         Modules in eval mode\n"
                              ]
                        },
                        {
                              "name": "stdout",
                              "output_type": "stream",
                              "text": [
                                    "[I 2025-04-18 14:46:25,405] Trial 11 finished with value: 2.2943685054779053 and parameters: {'n_layers': 5, 'dropout': 0.005438587199465605, 'learning_rate': 0.0018783183673785006, 'weight_decay': 0.001228481701945606, 'optimizer': 'adagrad', 'activation': 'leaky_relu'}. Best is trial 2 with value: 1.96914803981781.\n"
                              ]
                        },
                        {
                              "name": "stderr",
                              "output_type": "stream",
                              "text": [
                                    "GPU available: True (cuda), used: True\n",
                                    "TPU available: False, using: 0 TPU cores\n",
                                    "HPU available: False, using: 0 HPUs\n",
                                    "LOCAL_RANK: 0 - CUDA_VISIBLE_DEVICES: [0]\n",
                                    "\n",
                                    "  | Name        | Type             | Params | Mode \n",
                                    "---------------------------------------------------------\n",
                                    "0 | network     | Sequential       | 20.1 M | train\n",
                                    "1 | loss_metric | MeanSquaredError | 0      | train\n",
                                    "2 | val_metric  | MeanSquaredError | 0      | train\n",
                                    "3 | test_metric | MeanSquaredError | 0      | train\n",
                                    "---------------------------------------------------------\n",
                                    "20.1 M    Trainable params\n",
                                    "0         Non-trainable params\n",
                                    "20.1 M    Total params\n",
                                    "80.319    Total estimated model params size (MB)\n",
                                    "25        Modules in train mode\n",
                                    "0         Modules in eval mode\n"
                              ]
                        },
                        {
                              "name": "stdout",
                              "output_type": "stream",
                              "text": [
                                    "[I 2025-04-18 14:46:46,040] Trial 12 finished with value: 3.045719861984253 and parameters: {'n_layers': 5, 'dropout': 0.015762254147138027, 'learning_rate': 0.0014649015268702655, 'weight_decay': 0.0019133883664264402, 'optimizer': 'adagrad', 'activation': 'RReLU'}. Best is trial 2 with value: 1.96914803981781.\n"
                              ]
                        },
                        {
                              "name": "stderr",
                              "output_type": "stream",
                              "text": [
                                    "GPU available: True (cuda), used: True\n",
                                    "TPU available: False, using: 0 TPU cores\n",
                                    "HPU available: False, using: 0 HPUs\n",
                                    "LOCAL_RANK: 0 - CUDA_VISIBLE_DEVICES: [0]\n",
                                    "\n",
                                    "  | Name        | Type             | Params | Mode \n",
                                    "---------------------------------------------------------\n",
                                    "0 | network     | Sequential       | 19.6 M | train\n",
                                    "1 | loss_metric | MeanSquaredError | 0      | train\n",
                                    "2 | val_metric  | MeanSquaredError | 0      | train\n",
                                    "3 | test_metric | MeanSquaredError | 0      | train\n",
                                    "---------------------------------------------------------\n",
                                    "19.6 M    Trainable params\n",
                                    "0         Non-trainable params\n",
                                    "19.6 M    Total params\n",
                                    "78.360    Total estimated model params size (MB)\n",
                                    "21        Modules in train mode\n",
                                    "0         Modules in eval mode\n"
                              ]
                        },
                        {
                              "name": "stdout",
                              "output_type": "stream",
                              "text": [
                                    "[I 2025-04-18 14:47:12,997] Trial 13 finished with value: 2.6011643409729004 and parameters: {'n_layers': 4, 'dropout': 0.21268944669135254, 'learning_rate': 0.008537914210953618, 'weight_decay': 6.0909760741961934e-05, 'optimizer': 'adagrad', 'activation': 'leaky_relu'}. Best is trial 2 with value: 1.96914803981781.\n"
                              ]
                        },
                        {
                              "name": "stderr",
                              "output_type": "stream",
                              "text": [
                                    "GPU available: True (cuda), used: True\n",
                                    "TPU available: False, using: 0 TPU cores\n",
                                    "HPU available: False, using: 0 HPUs\n",
                                    "LOCAL_RANK: 0 - CUDA_VISIBLE_DEVICES: [0]\n",
                                    "\n",
                                    "  | Name        | Type             | Params | Mode \n",
                                    "---------------------------------------------------------\n",
                                    "0 | network     | Sequential       | 19.6 M | train\n",
                                    "1 | loss_metric | MeanSquaredError | 0      | train\n",
                                    "2 | val_metric  | MeanSquaredError | 0      | train\n",
                                    "3 | test_metric | MeanSquaredError | 0      | train\n",
                                    "---------------------------------------------------------\n",
                                    "19.6 M    Trainable params\n",
                                    "0         Non-trainable params\n",
                                    "19.6 M    Total params\n",
                                    "78.360    Total estimated model params size (MB)\n",
                                    "21        Modules in train mode\n",
                                    "0         Modules in eval mode\n"
                              ]
                        },
                        {
                              "name": "stdout",
                              "output_type": "stream",
                              "text": [
                                    "[I 2025-04-18 14:47:33,310] Trial 14 finished with value: 2.1289587020874023 and parameters: {'n_layers': 4, 'dropout': 0.2081704532699492, 'learning_rate': 0.002377442659597728, 'weight_decay': 0.00949430618447304, 'optimizer': 'adam', 'activation': 'relu'}. Best is trial 2 with value: 1.96914803981781.\n"
                              ]
                        },
                        {
                              "name": "stderr",
                              "output_type": "stream",
                              "text": [
                                    "GPU available: True (cuda), used: True\n",
                                    "TPU available: False, using: 0 TPU cores\n",
                                    "HPU available: False, using: 0 HPUs\n",
                                    "LOCAL_RANK: 0 - CUDA_VISIBLE_DEVICES: [0]\n",
                                    "\n",
                                    "  | Name        | Type             | Params | Mode \n",
                                    "---------------------------------------------------------\n",
                                    "0 | network     | Sequential       | 20.1 M | train\n",
                                    "1 | loss_metric | MeanSquaredError | 0      | train\n",
                                    "2 | val_metric  | MeanSquaredError | 0      | train\n",
                                    "3 | test_metric | MeanSquaredError | 0      | train\n",
                                    "---------------------------------------------------------\n",
                                    "20.1 M    Trainable params\n",
                                    "0         Non-trainable params\n",
                                    "20.1 M    Total params\n",
                                    "80.319    Total estimated model params size (MB)\n",
                                    "25        Modules in train mode\n",
                                    "0         Modules in eval mode\n"
                              ]
                        },
                        {
                              "name": "stdout",
                              "output_type": "stream",
                              "text": [
                                    "[I 2025-04-18 14:47:50,235] Trial 15 finished with value: 2.381338834762573 and parameters: {'n_layers': 5, 'dropout': 0.3300815817771351, 'learning_rate': 0.0020761396460568966, 'weight_decay': 0.008341402651687618, 'optimizer': 'adam', 'activation': 'relu'}. Best is trial 2 with value: 1.96914803981781.\n"
                              ]
                        },
                        {
                              "name": "stderr",
                              "output_type": "stream",
                              "text": [
                                    "GPU available: True (cuda), used: True\n",
                                    "TPU available: False, using: 0 TPU cores\n",
                                    "HPU available: False, using: 0 HPUs\n",
                                    "LOCAL_RANK: 0 - CUDA_VISIBLE_DEVICES: [0]\n",
                                    "\n",
                                    "  | Name        | Type             | Params | Mode \n",
                                    "---------------------------------------------------------\n",
                                    "0 | network     | Sequential       | 19.6 M | train\n",
                                    "1 | loss_metric | MeanSquaredError | 0      | train\n",
                                    "2 | val_metric  | MeanSquaredError | 0      | train\n",
                                    "3 | test_metric | MeanSquaredError | 0      | train\n",
                                    "---------------------------------------------------------\n",
                                    "19.6 M    Trainable params\n",
                                    "0         Non-trainable params\n",
                                    "19.6 M    Total params\n",
                                    "78.360    Total estimated model params size (MB)\n",
                                    "21        Modules in train mode\n",
                                    "0         Modules in eval mode\n"
                              ]
                        },
                        {
                              "name": "stdout",
                              "output_type": "stream",
                              "text": [
                                    "[I 2025-04-18 14:48:28,824] Trial 16 finished with value: 2.254164934158325 and parameters: {'n_layers': 4, 'dropout': 0.21335772697818955, 'learning_rate': 0.0007917507346993781, 'weight_decay': 0.009934424050327625, 'optimizer': 'adam', 'activation': 'leaky_relu'}. Best is trial 2 with value: 1.96914803981781.\n"
                              ]
                        },
                        {
                              "name": "stderr",
                              "output_type": "stream",
                              "text": [
                                    "GPU available: True (cuda), used: True\n",
                                    "TPU available: False, using: 0 TPU cores\n",
                                    "HPU available: False, using: 0 HPUs\n",
                                    "LOCAL_RANK: 0 - CUDA_VISIBLE_DEVICES: [0]\n",
                                    "\n",
                                    "  | Name        | Type             | Params | Mode \n",
                                    "---------------------------------------------------------\n",
                                    "0 | network     | Sequential       | 19.6 M | train\n",
                                    "1 | loss_metric | MeanSquaredError | 0      | train\n",
                                    "2 | val_metric  | MeanSquaredError | 0      | train\n",
                                    "3 | test_metric | MeanSquaredError | 0      | train\n",
                                    "---------------------------------------------------------\n",
                                    "19.6 M    Trainable params\n",
                                    "0         Non-trainable params\n",
                                    "19.6 M    Total params\n",
                                    "78.360    Total estimated model params size (MB)\n",
                                    "21        Modules in train mode\n",
                                    "0         Modules in eval mode\n"
                              ]
                        },
                        {
                              "name": "stdout",
                              "output_type": "stream",
                              "text": [
                                    "[I 2025-04-18 14:48:52,113] Trial 17 finished with value: 1.855353593826294 and parameters: {'n_layers': 4, 'dropout': 0.2123291593035481, 'learning_rate': 0.0039120813050274325, 'weight_decay': 0.0022022163161793773, 'optimizer': 'adam', 'activation': 'RReLU'}. Best is trial 17 with value: 1.855353593826294.\n"
                              ]
                        },
                        {
                              "name": "stderr",
                              "output_type": "stream",
                              "text": [
                                    "GPU available: True (cuda), used: True\n",
                                    "TPU available: False, using: 0 TPU cores\n",
                                    "HPU available: False, using: 0 HPUs\n",
                                    "LOCAL_RANK: 0 - CUDA_VISIBLE_DEVICES: [0]\n",
                                    "\n",
                                    "  | Name        | Type             | Params | Mode \n",
                                    "---------------------------------------------------------\n",
                                    "0 | network     | Sequential       | 20.1 M | train\n",
                                    "1 | loss_metric | MeanSquaredError | 0      | train\n",
                                    "2 | val_metric  | MeanSquaredError | 0      | train\n",
                                    "3 | test_metric | MeanSquaredError | 0      | train\n",
                                    "---------------------------------------------------------\n",
                                    "20.1 M    Trainable params\n",
                                    "0         Non-trainable params\n",
                                    "20.1 M    Total params\n",
                                    "80.319    Total estimated model params size (MB)\n",
                                    "25        Modules in train mode\n",
                                    "0         Modules in eval mode\n"
                              ]
                        },
                        {
                              "name": "stdout",
                              "output_type": "stream",
                              "text": [
                                    "[I 2025-04-18 14:49:16,481] Trial 18 finished with value: 2.07513689994812 and parameters: {'n_layers': 5, 'dropout': 0.4212755097791299, 'learning_rate': 0.003881510039322354, 'weight_decay': 0.0023882063682385177, 'optimizer': 'adam', 'activation': 'RReLU'}. Best is trial 17 with value: 1.855353593826294.\n"
                              ]
                        },
                        {
                              "name": "stderr",
                              "output_type": "stream",
                              "text": [
                                    "GPU available: True (cuda), used: True\n",
                                    "TPU available: False, using: 0 TPU cores\n",
                                    "HPU available: False, using: 0 HPUs\n",
                                    "LOCAL_RANK: 0 - CUDA_VISIBLE_DEVICES: [0]\n",
                                    "\n",
                                    "  | Name        | Type             | Params | Mode \n",
                                    "---------------------------------------------------------\n",
                                    "0 | network     | Sequential       | 20.1 M | train\n",
                                    "1 | loss_metric | MeanSquaredError | 0      | train\n",
                                    "2 | val_metric  | MeanSquaredError | 0      | train\n",
                                    "3 | test_metric | MeanSquaredError | 0      | train\n",
                                    "---------------------------------------------------------\n",
                                    "20.1 M    Trainable params\n",
                                    "0         Non-trainable params\n",
                                    "20.1 M    Total params\n",
                                    "80.319    Total estimated model params size (MB)\n",
                                    "25        Modules in train mode\n",
                                    "0         Modules in eval mode\n"
                              ]
                        },
                        {
                              "name": "stdout",
                              "output_type": "stream",
                              "text": [
                                    "[I 2025-04-18 14:49:36,494] Trial 19 finished with value: 2.272340774536133 and parameters: {'n_layers': 5, 'dropout': 0.30749951641804807, 'learning_rate': 0.004479772544278009, 'weight_decay': 0.002325688761733884, 'optimizer': 'adam', 'activation': 'RReLU'}. Best is trial 17 with value: 1.855353593826294.\n",
                                    "Best trial:\n",
                                    "  Value (val_mse): 1.855353593826294\n",
                                    "  Params:\n",
                                    "    n_layers: 4\n",
                                    "    dropout: 0.2123291593035481\n",
                                    "    learning_rate: 0.0039120813050274325\n",
                                    "    weight_decay: 0.0022022163161793773\n",
                                    "    optimizer: adam\n",
                                    "    activation: RReLU\n"
                              ]
                        }
                  ],
                  "source": [
                        "# --- Run Optuna ---\n",
                        "study = optuna.create_study(direction=\"minimize\", study_name=\"deep_regressor_scaled_study\")\n",
                        "study.optimize(objective, n_trials=20, n_jobs=1, show_progress_bar=True)\n",
                        "\n",
                        "# --- Print Best Result ---\n",
                        "print(\"Best trial:\")\n",
                        "print(f\"  Value (val_mse): {study.best_trial.value}\")\n",
                        "print(\"  Params:\")\n",
                        "for key, val in study.best_trial.params.items():\n",
                        "    print(f\"    {key}: {val}\")"
                  ]
            },
            {
                  "cell_type": "code",
                  "execution_count": 19,
                  "metadata": {},
                  "outputs": [],
                  "source": [
                        "best_model_logger = trial_to_details[study.best_trial.number][\"logger\"]"
                  ]
            },
            {
                  "cell_type": "code",
                  "execution_count": null,
                  "metadata": {},
                  "outputs": [
                        {
                              "data": {
                                    "image/png": "[encoded data removed]",
                                    "text/plain": [
                                          "<Figure size 1200x500 with 1 Axes>"
                                    ]
                              },
                              "metadata": {},
                              "output_type": "display_data"
                        },
                        {
                              "ename": "",
                              "evalue": "",
                              "output_type": "error",
                              "traceback": [
                                    "\u001b[1;31mThe Kernel crashed while executing code in the current cell or a previous cell. \n",
                                    "\u001b[1;31mPlease review the code in the cell(s) to identify a possible cause of the failure. \n",
                                    "\u001b[1;31mClick <a href='https://aka.ms/vscodeJupyterKernelCrash'>here</a> for more info. \n",
                                    "\u001b[1;31mView Jupyter <a href='command:jupyter.viewOutput'>log</a> for further details."
                              ]
                        }
                  ],
                  "source": [
                        "from utils.helper_functions import make_plots\n",
                        "\n",
                        "\n",
                        "history = pd.read_csv(best_model_logger.log_dir + \"/metrics.csv\")\n",
                        "make_plots(history, \"Autoencoder Training and Validation Loss\")"
                  ]
            },
            {
                  "cell_type": "code",
                  "execution_count": 12,
                  "metadata": {},
                  "outputs": [],
                  "source": [
                        "activation_dict = {\n",
                        "    \"relu\": nn.ReLU,\n",
                        "    \"leaky_relu\": nn.LeakyReLU,\n",
                        "    \"tanh\": nn.Tanh,\n",
                        "    \"RReLU\": nn.RReLU,\n",
                        "}\n",
                        "optimizer_dict = {\n",
                        "    \"adam\": torch.optim.Adam,\n",
                        "    \"sgd\": torch.optim.SGD,\n",
                        "    \"adagrad\": torch.optim.Adagrad,\n",
                        "}\n",
                        "best_model = model =NNRegressor(\n",
                        "        input_dim=len(cancer_dm.ds_train[0][0]),\n",
                        "        n_layers=study.best_trial.params[\"n_layers\"],\n",
                        "        dropout=study.best_trial.params[\"dropout\"],\n",
                        "        activation=activation_dict[study.best_trial.params[\"activation\"]],\n",
                        "        optimizer=optimizer_dict[study.best_trial.params[\"optimizer\"]],\n",
                        "        lr=study.best_trial.params[\"learning_rate\"],\n",
                        "        weight_decay=study.best_trial.params[\"weight_decay\"],\n",
                        "        target_scaler=target_scaler,\n",
                        "    )"
                  ]
            },
            {
                  "cell_type": "code",
                  "execution_count": 13,
                  "metadata": {},
                  "outputs": [
                        {
                              "data": {
                                    "text/plain": [
                                          "['results/06/best_model_trial_noae_17.pkl']"
                                    ]
                              },
                              "execution_count": 13,
                              "metadata": {},
                              "output_type": "execute_result"
                        }
                  ],
                  "source": [
                        "joblib.dump(\n",
                        "    best_model,\n",
                        "    f\"results/06/best_model_trial_noae_{study.best_trial.number}.pkl\",\n",
                        ")"
                  ]
            },
            {
                  "cell_type": "code",
                  "execution_count": 18,
                  "metadata": {},
                  "outputs": [
                        {
                              "data": {
                                    "image/png": "[encoded data removed]",
                                    "text/plain": [
                                          "<Figure size 1000x600 with 1 Axes>"
                                    ]
                              },
                              "metadata": {},
                              "output_type": "display_data"
                        }
                  ],
                  "source": [
                        "plot_regression_results(best_model, cdm.test_dataloader(),  title=\"Neural Network no Autoencoder Scaled\")"
                  ]
            },
            {
                  "cell_type": "code",
                  "execution_count": null,
                  "metadata": {},
                  "outputs": [],
                  "source": []
            }
      ],
      "metadata": {
            "kernelspec": {
                  "display_name": "jt_bmi_6114_cpu",
                  "language": "python",
                  "name": "python3"
            },
            "language_info": {
                  "codemirror_mode": {
                        "name": "ipython",
                        "version": 3
                  },
                  "file_extension": ".py",
                  "mimetype": "text/x-python",
                  "name": "python",
                  "nbconvert_exporter": "python",
                  "pygments_lexer": "ipython3",
                  "version": "3.12.10"
            }
      },
      "nbformat": 4,
      "nbformat_minor": 2
}
