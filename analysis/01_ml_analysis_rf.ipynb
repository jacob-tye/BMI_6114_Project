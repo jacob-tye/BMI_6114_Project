{
 "cells": [
  {
   "cell_type": "code",
   "execution_count": null,
   "metadata": {},
   "outputs": [],
   "source": [
    "%load_ext autoreload\n",
    "%autoreload 2"
   ]
  },
  {
   "cell_type": "markdown",
   "metadata": {},
   "source": [
    "# Machine Learning Analysis"
   ]
  },
  {
   "cell_type": "code",
   "execution_count": 4,
   "metadata": {},
   "outputs": [],
   "source": [
    "from sklearn.ensemble import GradientBoostingRegressor\n",
    "from sklearn.ensemble import RandomForestRegressor\n",
    "import pandas as pd\n",
    "import numpy as np\n",
    "import joblib\n",
    "\n",
    "from utils.helper_functions import split_data"
   ]
  },
  {
   "cell_type": "code",
   "execution_count": 5,
   "metadata": {},
   "outputs": [],
   "source": [
    "cancer_df = pd.read_csv(\"../data/cleaned_feature_and_target_data.csv\", index_col=0)\n",
    "cna_columns = [col for col in cancer_df.columns if col.startswith(\"CNA\")]\n",
    "numeric_cols = [\"SMOKING_PACK_YEARS\"] + cna_columns\n",
    "cancer_df[numeric_cols] = cancer_df[numeric_cols].astype(np.float32)\n",
    "scaler = joblib.load(open(\"results/scaler.pkl\", \"rb\"))"
   ]
  },
  {
   "cell_type": "code",
   "execution_count": 6,
   "metadata": {},
   "outputs": [],
   "source": [
    "train_df, val_df, test_df = split_data(cancer_df)"
   ]
  },
  {
   "cell_type": "code",
   "execution_count": 9,
   "metadata": {},
   "outputs": [],
   "source": [
    "train_df.loc[:, numeric_cols] = scaler.transform(train_df[numeric_cols])\n",
    "val_df.loc[:, numeric_cols] = scaler.transform(val_df[numeric_cols])\n",
    "test_df.loc[:, numeric_cols] = scaler.transform(test_df[numeric_cols])"
   ]
  }
 ],
 "metadata": {
  "kernelspec": {
   "display_name": "bmi_6114",
   "language": "python",
   "name": "python3"
  },
  "language_info": {
   "codemirror_mode": {
    "name": "ipython",
    "version": 3
   },
   "file_extension": ".py",
   "mimetype": "text/x-python",
   "name": "python",
   "nbconvert_exporter": "python",
   "pygments_lexer": "ipython3",
   "version": "3.12.5"
  }
 },
 "nbformat": 4,
 "nbformat_minor": 2
}
