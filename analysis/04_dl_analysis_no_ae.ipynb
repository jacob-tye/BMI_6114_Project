{
 "cells": [
  {
   "cell_type": "code",
   "execution_count": null,
   "metadata": {},
   "outputs": [],
   "source": [
    "%load_ext autoreload\n",
    "%autoreload 2\n"
   ]
  },
  {
   "cell_type": "markdown",
   "metadata": {},
   "source": [
    "# Deep Learning Analysis"
   ]
  },
  {
   "cell_type": "code",
   "execution_count": 1,
   "metadata": {},
   "outputs": [],
   "source": [
    "import json\n",
    "import joblib\n",
    "import lightning as L\n",
    "import matplotlib.pyplot as plt\n",
    "import numpy as np\n",
    "import pandas as pd\n",
    "import torch\n",
    "import torch.nn as nn\n",
    "import torch.nn.functional as F\n",
    "import torchvision.transforms as transforms\n",
    "from torch.utils.data import DataLoader, random_split\n",
    "from torchmetrics import MeanSquaredError\n",
    "from torchvision import datasets\n",
    "from utils.helper_classes import CancerDataModule, CancerDataset\n",
    "from utils.models import BaseCancerRegressor, CancerDataAutoEncoder"
   ]
  },
  {
   "cell_type": "code",
   "execution_count": 2,
   "metadata": {},
   "outputs": [],
   "source": [
    "cancer_df = pd.read_csv(\"../data/cleaned_feature_and_target_data.csv\", index_col=0)\n",
    "cna_columns = [col for col in cancer_df.columns if col.startswith(\"CNA\")]\n",
    "numeric_cols = [\"SMOKING_PACK_YEARS\"] + cna_columns\n",
    "cancer_df[numeric_cols] = cancer_df[numeric_cols].astype(np.float32)\n",
    "scaler = joblib.load(open(\"results/scaler.pkl\", \"rb\"))\n",
    "cancer_dm = CancerDataModule(cancer_df, numerical_features=numeric_cols, scaler=scaler)\n",
    "cancer_dm.setup()"
   ]
  },
  {
   "cell_type": "code",
   "execution_count": 3,
   "metadata": {},
   "outputs": [],
   "source": [
    "import random\n",
    "\n",
    "\n",
    "class NNRegressor(L.LightningModule):\n",
    "    def __init__(self, input_dim, n_layers=1, dropout=0.2, activation=nn.LeakyReLU, optimizer=torch.optim.Adam, lr=1e-3, weight_decay=1e-4):\n",
    "        super(NNRegressor, self).__init__()\n",
    "        self.optimizer = optimizer\n",
    "        self.lr = lr\n",
    "        self.weight_decay = weight_decay\n",
    "        self.layers = []\n",
    "        curr_size = input_dim\n",
    "        len_first_half = int(n_layers / 2)\n",
    "        len_second_half = n_layers - len_first_half\n",
    "        for i in range(len_first_half):\n",
    "            new_size = curr_size * 2\n",
    "            self.layers += [\n",
    "                nn.Linear(curr_size, new_size),\n",
    "                nn.BatchNorm1d(new_size),\n",
    "                activation(),\n",
    "                nn.Dropout(dropout),\n",
    "            ]\n",
    "            curr_size = new_size\n",
    "        \n",
    "        for i in range(len_second_half):\n",
    "            new_size = curr_size // 2\n",
    "            self.layers += [\n",
    "                nn.Linear(curr_size, new_size),\n",
    "                nn.BatchNorm1d(new_size),\n",
    "                activation(),\n",
    "                nn.Dropout(dropout),\n",
    "            ]\n",
    "            curr_size = new_size\n",
    "        if curr_size > 1:\n",
    "            self.layers.append(nn.Linear(curr_size, 1))\n",
    "        self.network = nn.Sequential(*self.layers)\n",
    "\n",
    "        self.loss_metric = MeanSquaredError()\n",
    "        self.val_metric = MeanSquaredError()\n",
    "        self.test_metric = MeanSquaredError()\n",
    "\n",
    "\n",
    "\n",
    "    def forward(self, x):\n",
    "        y = self.network(x)\n",
    "        return y\n",
    "    \n",
    "    def training_step(self, batch, batch_idx):\n",
    "        x, y = batch\n",
    "        x = x.to(self.device)\n",
    "        y = y.to(self.device)\n",
    "        y_hat = self(x)\n",
    "        loss = nn.functional.mse_loss(y_hat, y)\n",
    "        self.log(\"train_loss\", loss, prog_bar=True)\n",
    "        self.log(\"train_mse\", self.loss_metric(y_hat, y), prog_bar=True)\n",
    "\n",
    "        return loss\n",
    "    \n",
    "    def on_training_epoch_end(self):\n",
    "        self.log(\"train_mse\", self.loss_metric.compute())\n",
    "        self.loss_metric.reset()\n",
    "\n",
    "    def validation_step(self, batch, batch_idx):\n",
    "        x, y = batch\n",
    "        y_hat = self(x)\n",
    "        loss = nn.functional.mse_loss(y_hat, y)\n",
    "        self.log(\"val_loss\", loss, prog_bar=True)\n",
    "        self.log(\"val_mse\", self.val_metric(y_hat, y), prog_bar=True)\n",
    "\n",
    "    def on_validation_epoch_end(self):\n",
    "        self.log(\"val_mse\", self.val_metric.compute())\n",
    "        self.val_metric.reset()\n",
    "        \n",
    "    def configure_optimizers(self):\n",
    "        return self.optimizer(self.network.parameters(), lr=self.lr, weight_decay=self.weight_decay)\n",
    "    \n",
    "    def test_step(self, batch, batch_idx):\n",
    "        x, y = batch\n",
    "        y_hat = self(x)\n",
    "        loss = nn.functional.mse_loss(y_hat, y)\n",
    "        self.log(\"test_loss\", loss, prog_bar=True)\n",
    "        self.log(\"test_mse\", self.test_metric(y_hat, y), prog_bar=True)\n",
    "        return loss\n",
    "    \n",
    "    def on_test_epoch_end(self):\n",
    "        self.log(\"test_mse\", self.test_metric.compute())\n",
    "        self.test_metric.reset()\n",
    "\n",
    "simple_nn = NNRegressor(\n",
    "    input_dim=len(cancer_dm.ds_train[0][0]),\n",
    "    n_layers=8\n",
    ")"
   ]
  },
  {
   "cell_type": "code",
   "execution_count": 4,
   "metadata": {},
   "outputs": [
    {
     "data": {
      "text/plain": [
       "==========================================================================================\n",
       "Layer (type:depth-idx)                   Output Shape              Param #\n",
       "==========================================================================================\n",
       "NNRegressor                              [1, 1]                    --\n",
       "├─Sequential: 1-1                        [1, 1]                    --\n",
       "│    └─Linear: 2-1                       [1, 406]                  82,824\n",
       "│    └─BatchNorm1d: 2-2                  [1, 406]                  812\n",
       "│    └─LeakyReLU: 2-3                    [1, 406]                  --\n",
       "│    └─Dropout: 2-4                      [1, 406]                  --\n",
       "│    └─Linear: 2-5                       [1, 812]                  330,484\n",
       "│    └─BatchNorm1d: 2-6                  [1, 812]                  1,624\n",
       "│    └─LeakyReLU: 2-7                    [1, 812]                  --\n",
       "│    └─Dropout: 2-8                      [1, 812]                  --\n",
       "│    └─Linear: 2-9                       [1, 1624]                 1,320,312\n",
       "│    └─BatchNorm1d: 2-10                 [1, 1624]                 3,248\n",
       "│    └─LeakyReLU: 2-11                   [1, 1624]                 --\n",
       "│    └─Dropout: 2-12                     [1, 1624]                 --\n",
       "│    └─Linear: 2-13                      [1, 3248]                 5,278,000\n",
       "│    └─BatchNorm1d: 2-14                 [1, 3248]                 6,496\n",
       "│    └─LeakyReLU: 2-15                   [1, 3248]                 --\n",
       "│    └─Dropout: 2-16                     [1, 3248]                 --\n",
       "│    └─Linear: 2-17                      [1, 1624]                 5,276,376\n",
       "│    └─BatchNorm1d: 2-18                 [1, 1624]                 3,248\n",
       "│    └─LeakyReLU: 2-19                   [1, 1624]                 --\n",
       "│    └─Dropout: 2-20                     [1, 1624]                 --\n",
       "│    └─Linear: 2-21                      [1, 812]                  1,319,500\n",
       "│    └─BatchNorm1d: 2-22                 [1, 812]                  1,624\n",
       "│    └─LeakyReLU: 2-23                   [1, 812]                  --\n",
       "│    └─Dropout: 2-24                     [1, 812]                  --\n",
       "│    └─Linear: 2-25                      [1, 406]                  330,078\n",
       "│    └─BatchNorm1d: 2-26                 [1, 406]                  812\n",
       "│    └─LeakyReLU: 2-27                   [1, 406]                  --\n",
       "│    └─Dropout: 2-28                     [1, 406]                  --\n",
       "│    └─Linear: 2-29                      [1, 203]                  82,621\n",
       "│    └─BatchNorm1d: 2-30                 [1, 203]                  406\n",
       "│    └─LeakyReLU: 2-31                   [1, 203]                  --\n",
       "│    └─Dropout: 2-32                     [1, 203]                  --\n",
       "│    └─Linear: 2-33                      [1, 1]                    204\n",
       "==========================================================================================\n",
       "Total params: 14,038,669\n",
       "Trainable params: 14,038,669\n",
       "Non-trainable params: 0\n",
       "Total mult-adds (Units.MEGABYTES): 14.04\n",
       "==========================================================================================\n",
       "Input size (MB): 0.00\n",
       "Forward/backward pass size (MB): 0.15\n",
       "Params size (MB): 56.15\n",
       "Estimated Total Size (MB): 56.30\n",
       "=========================================================================================="
      ]
     },
     "execution_count": 4,
     "metadata": {},
     "output_type": "execute_result"
    }
   ],
   "source": [
    "from torchinfo import summary\n",
    "\n",
    "input_dim = len(cancer_dm.ds_train[0][0])\n",
    "summary(NNRegressor(\n",
    "    input_dim=len(cancer_dm.ds_train[0][0]),\n",
    "    n_layers=8\n",
    "), input_size=(1, input_dim))"
   ]
  },
  {
   "cell_type": "code",
   "execution_count": 5,
   "metadata": {},
   "outputs": [
    {
     "name": "stderr",
     "output_type": "stream",
     "text": [
      "/uufs/chpc.utah.edu/common/home/clementm-group1/conda/mambaforge/env/bmi_6114/lib/python3.12/site-packages/lightning/fabric/plugins/environments/slurm.py:204: The `srun` command is available on your system but is not used. HINT: If your intention is to run Lightning on SLURM, prepend your python command with `srun` like so: srun python /uufs/chpc.utah.edu/common/home/clementm-group1/cond ...\n",
      "GPU available: True (cuda), used: True\n",
      "TPU available: False, using: 0 TPU cores\n",
      "HPU available: False, using: 0 HPUs\n"
     ]
    },
    {
     "name": "stderr",
     "output_type": "stream",
     "text": [
      "LOCAL_RANK: 0 - CUDA_VISIBLE_DEVICES: [0]\n",
      "\n",
      "  | Name        | Type             | Params | Mode \n",
      "---------------------------------------------------------\n",
      "0 | network     | Sequential       | 14.0 M | train\n",
      "1 | loss_metric | MeanSquaredError | 0      | train\n",
      "2 | val_metric  | MeanSquaredError | 0      | train\n",
      "3 | test_metric | MeanSquaredError | 0      | train\n",
      "---------------------------------------------------------\n",
      "14.0 M    Trainable params\n",
      "0         Non-trainable params\n",
      "14.0 M    Total params\n",
      "56.155    Total estimated model params size (MB)\n",
      "37        Modules in train mode\n",
      "0         Modules in eval mode\n"
     ]
    },
    {
     "data": {
      "application/vnd.jupyter.widget-view+json": {
       "model_id": "dbd4680dadf14d1f937c5c85e103ec55",
       "version_major": 2,
       "version_minor": 0
      },
      "text/plain": [
       "Sanity Checking: |          | 0/? [00:00<?, ?it/s]"
      ]
     },
     "metadata": {},
     "output_type": "display_data"
    },
    {
     "data": {
      "application/vnd.jupyter.widget-view+json": {
       "model_id": "36f8499f2aeb41f593c418ce88fa50c3",
       "version_major": 2,
       "version_minor": 0
      },
      "text/plain": [
       "Training: |          | 0/? [00:00<?, ?it/s]"
      ]
     },
     "metadata": {},
     "output_type": "display_data"
    },
    {
     "data": {
      "application/vnd.jupyter.widget-view+json": {
       "model_id": "ddd8b5d75aad479fa183352c040bcf55",
       "version_major": 2,
       "version_minor": 0
      },
      "text/plain": [
       "Validation: |          | 0/? [00:00<?, ?it/s]"
      ]
     },
     "metadata": {},
     "output_type": "display_data"
    },
    {
     "data": {
      "application/vnd.jupyter.widget-view+json": {
       "model_id": "9c830d9892204a07b71d842d505e4d52",
       "version_major": 2,
       "version_minor": 0
      },
      "text/plain": [
       "Validation: |          | 0/? [00:00<?, ?it/s]"
      ]
     },
     "metadata": {},
     "output_type": "display_data"
    },
    {
     "data": {
      "application/vnd.jupyter.widget-view+json": {
       "model_id": "40477d1fbea34e9d95347a1f5d13da99",
       "version_major": 2,
       "version_minor": 0
      },
      "text/plain": [
       "Validation: |          | 0/? [00:00<?, ?it/s]"
      ]
     },
     "metadata": {},
     "output_type": "display_data"
    },
    {
     "data": {
      "application/vnd.jupyter.widget-view+json": {
       "model_id": "8a15d87d0e8942c8a15fc6792eb7f3f1",
       "version_major": 2,
       "version_minor": 0
      },
      "text/plain": [
       "Validation: |          | 0/? [00:00<?, ?it/s]"
      ]
     },
     "metadata": {},
     "output_type": "display_data"
    },
    {
     "data": {
      "application/vnd.jupyter.widget-view+json": {
       "model_id": "246de94ef58b49709cd50aab72b33e11",
       "version_major": 2,
       "version_minor": 0
      },
      "text/plain": [
       "Validation: |          | 0/? [00:00<?, ?it/s]"
      ]
     },
     "metadata": {},
     "output_type": "display_data"
    },
    {
     "data": {
      "application/vnd.jupyter.widget-view+json": {
       "model_id": "8ec8b58ee83941d1a6d0c9e18c0094db",
       "version_major": 2,
       "version_minor": 0
      },
      "text/plain": [
       "Validation: |          | 0/? [00:00<?, ?it/s]"
      ]
     },
     "metadata": {},
     "output_type": "display_data"
    }
   ],
   "source": [
    "from utils.helper_functions import create_classifier_trainer\n",
    "\n",
    "trainer, regressor_csv_logger, regressor_checkpoint = create_classifier_trainer(\"cancer_regressor\")\n",
    "cancer_regressor = NNRegressor(\n",
    "    input_dim=len(cancer_dm.ds_train[0][0]),\n",
    "    n_layers=8\n",
    ")\n",
    "trainer.fit(\n",
    "    cancer_regressor,\n",
    "    datamodule=CancerDataModule(cancer_df, numerical_features=numeric_cols, scaler=scaler),\n",
    ")"
   ]
  },
  {
   "cell_type": "code",
   "execution_count": 6,
   "metadata": {},
   "outputs": [
    {
     "name": "stderr",
     "output_type": "stream",
     "text": [
      "/uufs/chpc.utah.edu/common/home/clementm-group1/conda/mambaforge/env/bmi_6114/lib/python3.12/site-packages/lightning/fabric/plugins/environments/slurm.py:204: The `srun` command is available on your system but is not used. HINT: If your intention is to run Lightning on SLURM, prepend your python command with `srun` like so: srun python /uufs/chpc.utah.edu/common/home/clementm-group1/cond ...\n",
      "LOCAL_RANK: 0 - CUDA_VISIBLE_DEVICES: [0]\n"
     ]
    },
    {
     "data": {
      "application/vnd.jupyter.widget-view+json": {
       "model_id": "c81ee453869d4af68cd125152cfbde38",
       "version_major": 2,
       "version_minor": 0
      },
      "text/plain": [
       "Testing: |          | 0/? [00:00<?, ?it/s]"
      ]
     },
     "metadata": {},
     "output_type": "display_data"
    },
    {
     "data": {
      "text/html": [
       "<pre style=\"white-space:pre;overflow-x:auto;line-height:normal;font-family:Menlo,'DejaVu Sans Mono',consolas,'Courier New',monospace\">┏━━━━━━━━━━━━━━━━━━━━━━━━━━━┳━━━━━━━━━━━━━━━━━━━━━━━━━━━┓\n",
       "┃<span style=\"font-weight: bold\">        Test metric        </span>┃<span style=\"font-weight: bold\">       DataLoader 0        </span>┃\n",
       "┡━━━━━━━━━━━━━━━━━━━━━━━━━━━╇━━━━━━━━━━━━━━━━━━━━━━━━━━━┩\n",
       "│<span style=\"color: #008080; text-decoration-color: #008080\">         test_loss         </span>│<span style=\"color: #800080; text-decoration-color: #800080\">     666.3334350585938     </span>│\n",
       "│<span style=\"color: #008080; text-decoration-color: #008080\">         test_mse          </span>│<span style=\"color: #800080; text-decoration-color: #800080\">     666.3334350585938     </span>│\n",
       "└───────────────────────────┴───────────────────────────┘\n",
       "</pre>\n"
      ],
      "text/plain": [
       "┏━━━━━━━━━━━━━━━━━━━━━━━━━━━┳━━━━━━━━━━━━━━━━━━━━━━━━━━━┓\n",
       "┃\u001b[1m \u001b[0m\u001b[1m       Test metric       \u001b[0m\u001b[1m \u001b[0m┃\u001b[1m \u001b[0m\u001b[1m      DataLoader 0       \u001b[0m\u001b[1m \u001b[0m┃\n",
       "┡━━━━━━━━━━━━━━━━━━━━━━━━━━━╇━━━━━━━━━━━━━━━━━━━━━━━━━━━┩\n",
       "│\u001b[36m \u001b[0m\u001b[36m        test_loss        \u001b[0m\u001b[36m \u001b[0m│\u001b[35m \u001b[0m\u001b[35m    666.3334350585938    \u001b[0m\u001b[35m \u001b[0m│\n",
       "│\u001b[36m \u001b[0m\u001b[36m        test_mse         \u001b[0m\u001b[36m \u001b[0m│\u001b[35m \u001b[0m\u001b[35m    666.3334350585938    \u001b[0m\u001b[35m \u001b[0m│\n",
       "└───────────────────────────┴───────────────────────────┘\n"
      ]
     },
     "metadata": {},
     "output_type": "display_data"
    },
    {
     "data": {
      "text/plain": [
       "[{'test_loss': 666.3334350585938, 'test_mse': 666.3334350585938}]"
      ]
     },
     "execution_count": 6,
     "metadata": {},
     "output_type": "execute_result"
    }
   ],
   "source": [
    "trainer.test(\n",
    "    model=cancer_regressor,\n",
    "    datamodule=CancerDataModule(cancer_df, numerical_features=numeric_cols, scaler=scaler),\n",
    ")"
   ]
  },
  {
   "cell_type": "code",
   "execution_count": 7,
   "metadata": {},
   "outputs": [
    {
     "data": {
      "image/png": "[encoded data removed]",
      "text/plain": [
       "<Figure size 1000x600 with 1 Axes>"
      ]
     },
     "metadata": {},
     "output_type": "display_data"
    }
   ],
   "source": [
    "def plot_regression_results(model, dataloader):\n",
    "    model.eval()\n",
    "    y_true = []\n",
    "    y_pred = []\n",
    "    with torch.no_grad():\n",
    "        for batch in dataloader:\n",
    "            x, y = batch\n",
    "            y_hat = model(x)\n",
    "            y_true.append(y)\n",
    "            y_pred.append(y_hat)\n",
    "\n",
    "    y_true = torch.cat(y_true).numpy()\n",
    "    y_pred = torch.cat(y_pred).numpy()\n",
    "\n",
    "    plt.figure(figsize=(10, 6))\n",
    "    plt.scatter(y_true, y_pred, alpha=0.5)\n",
    "    plt.plot([y_true.min(), y_true.max()], [y_true.min(), y_true.max()], 'r--')\n",
    "    plt.xlabel('True Values')\n",
    "    plt.ylabel('Predictions')\n",
    "    plt.title('Regression Results')\n",
    "    plt.show()\n",
    "plot_regression_results(cancer_regressor, cancer_dm.test_dataloader())"
   ]
  },
  {
   "cell_type": "code",
   "execution_count": 8,
   "metadata": {},
   "outputs": [],
   "source": [
    "import optuna\n",
    "\n",
    "trial_to_details = {}\n",
    "def objective(trial):\n",
    "    # Sample hyperparameters\n",
    "    activation_dict = {\n",
    "        \"relu\": nn.ReLU,\n",
    "        \"leaky_relu\": nn.LeakyReLU,\n",
    "        \"tanh\": nn.Tanh,\n",
    "        \"RReLU\": nn.RReLU,\n",
    "    }\n",
    "    optimizer_dict = {\n",
    "        \"adam\": torch.optim.Adam,\n",
    "        \"sgd\": torch.optim.SGD,\n",
    "        \"adagrad\": torch.optim.Adagrad,\n",
    "    }\n",
    "    n_layers = trial.suggest_int(\"n_layers\", 3, 10)\n",
    "    dropout = trial.suggest_float(\"dropout\", 0.0, 0.5)\n",
    "    learning_rate = trial.suggest_float(\"learning_rate\", 1e-5, 1e-2, log=True)\n",
    "    weight_decay = trial.suggest_float(\"weight_decay\", 1e-5, 1e-2, log=True)\n",
    "    optimizer = trial.suggest_categorical(\"optimizer\", list(optimizer_dict.keys()))\n",
    "    activation = trial.suggest_categorical(\"activation\", list(activation_dict.keys()) )\n",
    "\n",
    "    activation = activation_dict[activation]\n",
    "    optimizer = optimizer_dict[optimizer]\n",
    "\n",
    "    model =NNRegressor(\n",
    "        input_dim=len(cancer_dm.ds_train[0][0]),\n",
    "        n_layers=n_layers,\n",
    "        dropout=dropout,\n",
    "        activation=activation,\n",
    "        optimizer=optimizer,\n",
    "        lr=learning_rate,\n",
    "        weight_decay=weight_decay,\n",
    "    )\n",
    "    trainer, logger, checkpoint = create_classifier_trainer(f\"nn_trial_{trial.number}\", max_epochs=100, enable_pbar=False)\n",
    "\n",
    "\n",
    "    # Training loop\n",
    "    trainer.fit(\n",
    "        model,\n",
    "        datamodule=CancerDataModule(cancer_df, numerical_features=numeric_cols, scaler=scaler),\n",
    "    )\n",
    "    trial_to_details[trial.number] = {\n",
    "        \"logger\" : logger,\n",
    "        \"checkpoint\" : checkpoint,\n",
    "    }\n",
    "\n",
    "    \n",
    "    # Store trial details\n",
    "    trial_to_details[trial.number] = {\n",
    "        \"logger\" : logger,\n",
    "        \"checkpoint\" : checkpoint,\n",
    "    }\n",
    "    metrics_path = f\"{logger.log_dir}/metrics.csv\"\n",
    "    metrics_df = pd.read_csv(metrics_path)\n",
    "\n",
    "    if \"val_mse\" not in metrics_df.columns:\n",
    "        return float(\"inf\")\n",
    "\n",
    "    last_val = metrics_df[\"val_mse\"].dropna().values[-1]\n",
    "    return last_val"
   ]
  },
  {
   "cell_type": "code",
   "execution_count": null,
   "metadata": {},
   "outputs": [
    {
     "name": "stderr",
     "output_type": "stream",
     "text": [
      "[I 2025-04-14 20:30:04,802] A new study created in memory with name: regressor_study\n"
     ]
    },
    {
     "data": {
      "application/vnd.jupyter.widget-view+json": {
       "model_id": "2f832037ea6b4926b307d1c7120332f2",
       "version_major": 2,
       "version_minor": 0
      },
      "text/plain": [
       "  0%|          | 0/50 [00:00<?, ?it/s]"
      ]
     },
     "metadata": {},
     "output_type": "display_data"
    },
    {
     "name": "stderr",
     "output_type": "stream",
     "text": [
      "/uufs/chpc.utah.edu/common/home/clementm-group1/conda/mambaforge/env/bmi_6114/lib/python3.12/site-packages/lightning/fabric/plugins/environments/slurm.py:204: The `srun` command is available on your system but is not used. HINT: If your intention is to run Lightning on SLURM, prepend your python command with `srun` like so: srun python /uufs/chpc.utah.edu/common/home/clementm-group1/cond ...\n",
      "GPU available: True (cuda), used: True\n",
      "TPU available: False, using: 0 TPU cores\n",
      "HPU available: False, using: 0 HPUs\n",
      "GPU available: True (cuda), used: True\n",
      "TPU available: False, using: 0 TPU cores\n",
      "HPU available: False, using: 0 HPUs\n",
      "GPU available: True (cuda), used: True\n",
      "TPU available: False, using: 0 TPU cores\n",
      "HPU available: False, using: 0 HPUs\n",
      "GPU available: True (cuda), used: True\n",
      "TPU available: False, using: 0 TPU cores\n",
      "HPU available: False, using: 0 HPUs\n",
      "/uufs/chpc.utah.edu/common/home/clementm-group1/conda/mambaforge/env/bmi_6114/lib/python3.12/site-packages/lightning/fabric/plugins/environments/slurm.py:204: The `srun` command is available on your system but is not used. HINT: If your intention is to run Lightning on SLURM, prepend your python command with `srun` like so: srun python /uufs/chpc.utah.edu/common/home/clementm-group1/cond ...\n",
      "GPU available: True (cuda), used: True\n",
      "TPU available: False, using: 0 TPU cores\n",
      "HPU available: False, using: 0 HPUs\n",
      "GPU available: True (cuda), used: True\n",
      "TPU available: False, using: 0 TPU cores\n",
      "GPU available: True (cuda), used: True\n",
      "TPU available: False, using: 0 TPU cores\n",
      "HPU available: False, using: 0 HPUs\n",
      "/uufs/chpc.utah.edu/common/home/clementm-group1/conda/mambaforge/env/bmi_6114/lib/python3.12/site-packages/lightning/fabric/plugins/environments/slurm.py:204: The `srun` command is available on your system but is not used. HINT: If your intention is to run Lightning on SLURM, prepend your python command with `srun` like so: srun python /uufs/chpc.utah.edu/common/home/clementm-group1/cond ...\n",
      "GPU available: True (cuda), used: True\n",
      "GPU available: True (cuda), used: True\n",
      "TPU available: False, using: 0 TPU cores\n",
      "HPU available: False, using: 0 HPUs\n",
      "/uufs/chpc.utah.edu/common/home/clementm-group1/conda/mambaforge/env/bmi_6114/lib/python3.12/site-packages/lightning/fabric/plugins/environments/slurm.py:204: The `srun` command is available on your system but is not used. HINT: If your intention is to run Lightning on SLURM, prepend your python command with `srun` like so: srun python /uufs/chpc.utah.edu/common/home/clementm-group1/cond ...\n",
      "HPU available: False, using: 0 HPUs\n",
      "/uufs/chpc.utah.edu/common/home/clementm-group1/conda/mambaforge/env/bmi_6114/lib/python3.12/site-packages/lightning/fabric/plugins/environments/slurm.py:204: The `srun` command is available on your system but is not used. HINT: If your intention is to run Lightning on SLURM, prepend your python command with `srun` like so: srun python /uufs/chpc.utah.edu/common/home/clementm-group1/cond ...\n",
      "GPU available: True (cuda), used: True\n",
      "TPU available: False, using: 0 TPU cores\n",
      "GPU available: True (cuda), used: True\n",
      "TPU available: False, using: 0 TPU cores\n",
      "HPU available: False, using: 0 HPUs\n",
      "GPU available: True (cuda), used: True\n",
      "TPU available: False, using: 0 TPU cores\n",
      "HPU available: False, using: 0 HPUs\n",
      "HPU available: False, using: 0 HPUs\n",
      "/uufs/chpc.utah.edu/common/home/clementm-group1/conda/mambaforge/env/bmi_6114/lib/python3.12/site-packages/lightning/fabric/plugins/environments/slurm.py:204: The `srun` command is available on your system but is not used. HINT: If your intention is to run Lightning on SLURM, prepend your python command with `srun` like so: srun python /uufs/chpc.utah.edu/common/home/clementm-group1/cond ...\n",
      "GPU available: True (cuda), used: True\n",
      "/uufs/chpc.utah.edu/common/home/clementm-group1/conda/mambaforge/env/bmi_6114/lib/python3.12/site-packages/lightning/fabric/plugins/environments/slurm.py:204: The `srun` command is available on your system but is not used. HINT: If your intention is to run Lightning on SLURM, prepend your python command with `srun` like so: srun python /uufs/chpc.utah.edu/common/home/clementm-group1/cond ...\n",
      "TPU available: False, using: 0 TPU cores\n",
      "HPU available: False, using: 0 HPUs\n",
      "GPU available: True (cuda), used: True\n",
      "LOCAL_RANK: 0 - CUDA_VISIBLE_DEVICES: [0]\n",
      "TPU available: False, using: 0 TPU cores\n",
      "HPU available: False, using: 0 HPUs\n",
      "/uufs/chpc.utah.edu/common/home/clementm-group1/conda/mambaforge/env/bmi_6114/lib/python3.12/site-packages/lightning/fabric/plugins/environments/slurm.py:204: The `srun` command is available on your system but is not used. HINT: If your intention is to run Lightning on SLURM, prepend your python command with `srun` like so: srun python /uufs/chpc.utah.edu/common/home/clementm-group1/cond ...\n",
      "TPU available: False, using: 0 TPU cores\n",
      "\n",
      "  | Name        | Type             | Params | Mode \n",
      "---------------------------------------------------------\n",
      "0 | network     | Sequential       | 829 K  | train\n",
      "1 | loss_metric | MeanSquaredError | 0      | train\n",
      "2 | val_metric  | MeanSquaredError | 0      | train\n",
      "3 | test_metric | MeanSquaredError | 0      | train\n",
      "---------------------------------------------------------\n",
      "829 K     Trainable params\n",
      "0         Non-trainable params\n",
      "829 K     Total params\n",
      "3.319     Total estimated model params size (MB)\n",
      "21        Modules in train mode\n",
      "0         Modules in eval mode\n",
      "GPU available: True (cuda), used: True\n",
      "TPU available: False, using: 0 TPU cores\n",
      "HPU available: False, using: 0 HPUs\n",
      "LOCAL_RANK: 0 - CUDA_VISIBLE_DEVICES: [0]\n",
      "/uufs/chpc.utah.edu/common/home/clementm-group1/conda/mambaforge/env/bmi_6114/lib/python3.12/site-packages/lightning/fabric/plugins/environments/slurm.py:204: The `srun` command is available on your system but is not used. HINT: If your intention is to run Lightning on SLURM, prepend your python command with `srun` like so: srun python /uufs/chpc.utah.edu/common/home/clementm-group1/cond ...\n",
      "HPU available: False, using: 0 HPUs\n",
      "LOCAL_RANK: 0 - CUDA_VISIBLE_DEVICES: [0]\n",
      "\n",
      "  | Name        | Type             | Params | Mode \n",
      "---------------------------------------------------------\n",
      "0 | network     | Sequential       | 3.5 M  | train\n",
      "1 | loss_metric | MeanSquaredError | 0      | train\n",
      "2 | val_metric  | MeanSquaredError | 0      | train\n",
      "3 | test_metric | MeanSquaredError | 0      | train\n",
      "---------------------------------------------------------\n",
      "3.5 M     Trainable params\n",
      "0         Non-trainable params\n",
      "3.5 M     Total params\n",
      "13.981    Total estimated model params size (MB)\n",
      "33        Modules in train mode\n",
      "0         Modules in eval mode\n",
      "/uufs/chpc.utah.edu/common/home/clementm-group1/conda/mambaforge/env/bmi_6114/lib/python3.12/site-packages/lightning/fabric/plugins/environments/slurm.py:204: The `srun` command is available on your system but is not used. HINT: If your intention is to run Lightning on SLURM, prepend your python command with `srun` like so: srun python /uufs/chpc.utah.edu/common/home/clementm-group1/cond ...\n",
      "LOCAL_RANK: 0 - CUDA_VISIBLE_DEVICES: [0]\n",
      "LOCAL_RANK: 0 - CUDA_VISIBLE_DEVICES: [0]\n",
      "\n",
      "  | Name        | Type             | Params | Mode \n",
      "---------------------------------------------------------\n",
      "0 | network     | Sequential       | 187 K  | train\n",
      "1 | loss_metric | MeanSquaredError | 0      | train\n",
      "2 | val_metric  | MeanSquaredError | 0      | train\n",
      "3 | test_metric | MeanSquaredError | 0      | train\n",
      "---------------------------------------------------------\n",
      "187 K     Trainable params\n",
      "0         Non-trainable params\n",
      "187 K     Total params\n",
      "0.750     Total estimated model params size (MB)\n",
      "17        Modules in train mode\n",
      "0         Modules in eval mode\n",
      "LOCAL_RANK: 0 - CUDA_VISIBLE_DEVICES: [0]\n",
      "\n",
      "  | Name        | Type             | Params | Mode \n",
      "---------------------------------------------------------\n",
      "0 | network     | Sequential       | 14.1 M | train\n",
      "1 | loss_metric | MeanSquaredError | 0      | train\n",
      "2 | val_metric  | MeanSquaredError | 0      | train\n",
      "3 | test_metric | MeanSquaredError | 0      | train\n",
      "---------------------------------------------------------\n",
      "14.1 M    Trainable params\n",
      "0         Non-trainable params\n",
      "14.1 M    Total params\n",
      "56.237    Total estimated model params size (MB)\n",
      "41        Modules in train mode\n",
      "0         Modules in eval mode\n",
      "\n",
      "  | Name        | Type             | Params | Mode \n",
      "---------------------------------------------------------\n",
      "0 | network     | Sequential       | 14.0 M | train\n",
      "1 | loss_metric | MeanSquaredError | 0      | train\n",
      "2 | val_metric  | MeanSquaredError | 0      | train\n",
      "3 | test_metric | MeanSquaredError | 0      | train\n",
      "---------------------------------------------------------\n",
      "14.0 M    Trainable params\n",
      "0         Non-trainable params\n",
      "14.0 M    Total params\n",
      "56.155    Total estimated model params size (MB)\n",
      "37        Modules in train mode\n",
      "0         Modules in eval mode\n",
      "LOCAL_RANK: 0 - CUDA_VISIBLE_DEVICES: [0]\n",
      "LOCAL_RANK: 0 - CUDA_VISIBLE_DEVICES: [0]\n",
      "LOCAL_RANK: 0 - CUDA_VISIBLE_DEVICES: [0]\n",
      "\n",
      "  | Name        | Type             | Params | Mode \n",
      "---------------------------------------------------------\n",
      "0 | network     | Sequential       | 850 K  | train\n",
      "1 | loss_metric | MeanSquaredError | 0      | train\n",
      "2 | val_metric  | MeanSquaredError | 0      | train\n",
      "3 | test_metric | MeanSquaredError | 0      | train\n",
      "---------------------------------------------------------\n",
      "850 K     Trainable params\n",
      "0         Non-trainable params\n",
      "850 K     Total params\n",
      "3.402     Total estimated model params size (MB)\n",
      "25        Modules in train mode\n",
      "0         Modules in eval mode\n",
      "\n",
      "  | Name        | Type             | Params | Mode \n",
      "---------------------------------------------------------\n",
      "0 | network     | Sequential       | 14.0 M | train\n",
      "1 | loss_metric | MeanSquaredError | 0      | train\n",
      "2 | val_metric  | MeanSquaredError | 0      | train\n",
      "3 | test_metric | MeanSquaredError | 0      | train\n",
      "---------------------------------------------------------\n",
      "14.0 M    Trainable params\n",
      "0         Non-trainable params\n",
      "14.0 M    Total params\n",
      "56.155    Total estimated model params size (MB)\n",
      "37        Modules in train mode\n",
      "0         Modules in eval mode\n",
      "LOCAL_RANK: 0 - CUDA_VISIBLE_DEVICES: [0]\n",
      "\n",
      "  | Name        | Type             | Params | Mode \n",
      "---------------------------------------------------------\n",
      "0 | network     | Sequential       | 850 K  | train\n",
      "1 | loss_metric | MeanSquaredError | 0      | train\n",
      "2 | val_metric  | MeanSquaredError | 0      | train\n",
      "3 | test_metric | MeanSquaredError | 0      | train\n",
      "---------------------------------------------------------\n",
      "850 K     Trainable params\n",
      "0         Non-trainable params\n",
      "850 K     Total params\n",
      "3.402     Total estimated model params size (MB)\n",
      "25        Modules in train mode\n",
      "0         Modules in eval mode\n",
      "\n",
      "  | Name        | Type             | Params | Mode \n",
      "---------------------------------------------------------\n",
      "0 | network     | Sequential       | 56.3 M | train\n",
      "1 | loss_metric | MeanSquaredError | 0      | train\n",
      "2 | val_metric  | MeanSquaredError | 0      | train\n",
      "3 | test_metric | MeanSquaredError | 0      | train\n",
      "---------------------------------------------------------\n",
      "56.3 M    Trainable params\n",
      "0         Non-trainable params\n",
      "56.3 M    Total params\n",
      "225.064   Total estimated model params size (MB)\n",
      "45        Modules in train mode\n",
      "0         Modules in eval mode\n",
      "LOCAL_RANK: 0 - CUDA_VISIBLE_DEVICES: [0]\n",
      "\n",
      "  | Name        | Type             | Params | Mode \n",
      "---------------------------------------------------------\n",
      "0 | network     | Sequential       | 56.3 M | train\n",
      "1 | loss_metric | MeanSquaredError | 0      | train\n",
      "2 | val_metric  | MeanSquaredError | 0      | train\n",
      "3 | test_metric | MeanSquaredError | 0      | train\n",
      "---------------------------------------------------------\n",
      "56.3 M    Trainable params\n",
      "0         Non-trainable params\n",
      "56.3 M    Total params\n",
      "225.064   Total estimated model params size (MB)\n",
      "45        Modules in train mode\n",
      "0         Modules in eval mode\n",
      "LOCAL_RANK: 0 - CUDA_VISIBLE_DEVICES: [0]\n",
      "LOCAL_RANK: 0 - CUDA_VISIBLE_DEVICES: [0]\n",
      "LOCAL_RANK: 0 - CUDA_VISIBLE_DEVICES: [0]\n",
      "\n",
      "  | Name        | Type             | Params | Mode \n",
      "---------------------------------------------------------\n",
      "0 | network     | Sequential       | 14.0 M | train\n",
      "1 | loss_metric | MeanSquaredError | 0      | train\n",
      "2 | val_metric  | MeanSquaredError | 0      | train\n",
      "3 | test_metric | MeanSquaredError | 0      | train\n",
      "---------------------------------------------------------\n",
      "14.0 M    Trainable params\n",
      "0         Non-trainable params\n",
      "14.0 M    Total params\n",
      "56.155    Total estimated model params size (MB)\n",
      "37        Modules in train mode\n",
      "0         Modules in eval mode\n",
      "\n",
      "  | Name        | Type             | Params | Mode \n",
      "---------------------------------------------------------\n",
      "0 | network     | Sequential       | 187 K  | train\n",
      "1 | loss_metric | MeanSquaredError | 0      | train\n",
      "2 | val_metric  | MeanSquaredError | 0      | train\n",
      "3 | test_metric | MeanSquaredError | 0      | train\n",
      "---------------------------------------------------------\n",
      "187 K     Trainable params\n",
      "0         Non-trainable params\n",
      "187 K     Total params\n",
      "0.750     Total estimated model params size (MB)\n",
      "17        Modules in train mode\n",
      "0         Modules in eval mode\n",
      "LOCAL_RANK: 0 - CUDA_VISIBLE_DEVICES: [0]\n",
      "\n",
      "  | Name        | Type             | Params | Mode \n",
      "---------------------------------------------------------\n",
      "0 | network     | Sequential       | 829 K  | train\n",
      "1 | loss_metric | MeanSquaredError | 0      | train\n",
      "2 | val_metric  | MeanSquaredError | 0      | train\n",
      "3 | test_metric | MeanSquaredError | 0      | train\n",
      "---------------------------------------------------------\n",
      "829 K     Trainable params\n",
      "0         Non-trainable params\n",
      "829 K     Total params\n",
      "3.319     Total estimated model params size (MB)\n",
      "21        Modules in train mode\n",
      "0         Modules in eval mode\n",
      "\n",
      "  | Name        | Type             | Params | Mode \n",
      "---------------------------------------------------------\n",
      "0 | network     | Sequential       | 14.1 M | train\n",
      "1 | loss_metric | MeanSquaredError | 0      | train\n",
      "2 | val_metric  | MeanSquaredError | 0      | train\n",
      "3 | test_metric | MeanSquaredError | 0      | train\n",
      "---------------------------------------------------------\n",
      "14.1 M    Trainable params\n",
      "0         Non-trainable params\n",
      "14.1 M    Total params\n",
      "56.237    Total estimated model params size (MB)\n",
      "41        Modules in train mode\n",
      "0         Modules in eval mode\n",
      "\n",
      "  | Name        | Type             | Params | Mode \n",
      "---------------------------------------------------------\n",
      "0 | network     | Sequential       | 3.5 M  | train\n",
      "1 | loss_metric | MeanSquaredError | 0      | train\n",
      "2 | val_metric  | MeanSquaredError | 0      | train\n",
      "3 | test_metric | MeanSquaredError | 0      | train\n",
      "---------------------------------------------------------\n",
      "3.5 M     Trainable params\n",
      "0         Non-trainable params\n",
      "3.5 M     Total params\n",
      "13.981    Total estimated model params size (MB)\n",
      "33        Modules in train mode\n",
      "0         Modules in eval mode\n"
     ]
    },
    {
     "name": "stdout",
     "output_type": "stream",
     "text": [
      "[I 2025-04-14 20:37:53,755] Trial 3 finished with value: 1010.682373046875 and parameters: {'n_layers': 5, 'dropout': 0.18731908143563325, 'learning_rate': 0.0021556657196390556, 'weight_decay': 0.0013459588139465805, 'optimizer': 'adagrad', 'activation': 'tanh'}. Best is trial 3 with value: 1010.682373046875.\n"
     ]
    },
    {
     "name": "stderr",
     "output_type": "stream",
     "text": [
      "/uufs/chpc.utah.edu/common/home/clementm-group1/conda/mambaforge/env/bmi_6114/lib/python3.12/site-packages/lightning/fabric/plugins/environments/slurm.py:204: The `srun` command is available on your system but is not used. HINT: If your intention is to run Lightning on SLURM, prepend your python command with `srun` like so: srun python /uufs/chpc.utah.edu/common/home/clementm-group1/cond ...\n",
      "GPU available: True (cuda), used: True\n",
      "TPU available: False, using: 0 TPU cores\n",
      "HPU available: False, using: 0 HPUs\n",
      "LOCAL_RANK: 0 - CUDA_VISIBLE_DEVICES: [0]\n",
      "\n",
      "  | Name        | Type             | Params | Mode \n",
      "---------------------------------------------------------\n",
      "0 | network     | Sequential       | 14.1 M | train\n",
      "1 | loss_metric | MeanSquaredError | 0      | train\n",
      "2 | val_metric  | MeanSquaredError | 0      | train\n",
      "3 | test_metric | MeanSquaredError | 0      | train\n",
      "---------------------------------------------------------\n",
      "14.1 M    Trainable params\n",
      "0         Non-trainable params\n",
      "14.1 M    Total params\n",
      "56.237    Total estimated model params size (MB)\n",
      "41        Modules in train mode\n",
      "0         Modules in eval mode\n"
     ]
    },
    {
     "name": "stdout",
     "output_type": "stream",
     "text": [
      "[I 2025-04-14 20:39:19,801] Trial 1 finished with value: 1025.0286865234375 and parameters: {'n_layers': 9, 'dropout': 0.008348955044921336, 'learning_rate': 0.0026002551780454765, 'weight_decay': 4.689409768588949e-05, 'optimizer': 'adagrad', 'activation': 'RReLU'}. Best is trial 3 with value: 1010.682373046875.\n"
     ]
    },
    {
     "name": "stderr",
     "output_type": "stream",
     "text": [
      "/uufs/chpc.utah.edu/common/home/clementm-group1/conda/mambaforge/env/bmi_6114/lib/python3.12/site-packages/lightning/fabric/plugins/environments/slurm.py:204: The `srun` command is available on your system but is not used. HINT: If your intention is to run Lightning on SLURM, prepend your python command with `srun` like so: srun python /uufs/chpc.utah.edu/common/home/clementm-group1/cond ...\n",
      "GPU available: True (cuda), used: True\n",
      "TPU available: False, using: 0 TPU cores\n",
      "HPU available: False, using: 0 HPUs\n",
      "LOCAL_RANK: 0 - CUDA_VISIBLE_DEVICES: [0]\n",
      "\n",
      "  | Name        | Type             | Params | Mode \n",
      "---------------------------------------------------------\n",
      "0 | network     | Sequential       | 3.5 M  | train\n",
      "1 | loss_metric | MeanSquaredError | 0      | train\n",
      "2 | val_metric  | MeanSquaredError | 0      | train\n",
      "3 | test_metric | MeanSquaredError | 0      | train\n",
      "---------------------------------------------------------\n",
      "3.5 M     Trainable params\n",
      "0         Non-trainable params\n",
      "3.5 M     Total params\n",
      "13.898    Total estimated model params size (MB)\n",
      "29        Modules in train mode\n",
      "0         Modules in eval mode\n"
     ]
    },
    {
     "name": "stdout",
     "output_type": "stream",
     "text": [
      "[I 2025-04-14 20:43:30,667] Trial 15 finished with value: 1088.9866943359375 and parameters: {'n_layers': 9, 'dropout': 0.08599823917142557, 'learning_rate': 0.0003391433595764588, 'weight_decay': 0.003042239873705965, 'optimizer': 'sgd', 'activation': 'tanh'}. Best is trial 3 with value: 1010.682373046875.\n"
     ]
    },
    {
     "name": "stderr",
     "output_type": "stream",
     "text": [
      "/uufs/chpc.utah.edu/common/home/clementm-group1/conda/mambaforge/env/bmi_6114/lib/python3.12/site-packages/lightning/fabric/plugins/environments/slurm.py:204: The `srun` command is available on your system but is not used. HINT: If your intention is to run Lightning on SLURM, prepend your python command with `srun` like so: srun python /uufs/chpc.utah.edu/common/home/clementm-group1/cond ...\n",
      "GPU available: True (cuda), used: True\n",
      "TPU available: False, using: 0 TPU cores\n",
      "HPU available: False, using: 0 HPUs\n",
      "LOCAL_RANK: 0 - CUDA_VISIBLE_DEVICES: [0]\n",
      "\n",
      "  | Name        | Type             | Params | Mode \n",
      "---------------------------------------------------------\n",
      "0 | network     | Sequential       | 850 K  | train\n",
      "1 | loss_metric | MeanSquaredError | 0      | train\n",
      "2 | val_metric  | MeanSquaredError | 0      | train\n",
      "3 | test_metric | MeanSquaredError | 0      | train\n",
      "---------------------------------------------------------\n",
      "850 K     Trainable params\n",
      "0         Non-trainable params\n",
      "850 K     Total params\n",
      "3.402     Total estimated model params size (MB)\n",
      "25        Modules in train mode\n",
      "0         Modules in eval mode\n"
     ]
    },
    {
     "name": "stdout",
     "output_type": "stream",
     "text": [
      "[I 2025-04-14 20:45:15,192] Trial 16 finished with value: 1032.2242431640625 and parameters: {'n_layers': 6, 'dropout': 0.42712253906080316, 'learning_rate': 0.0011912280063726512, 'weight_decay': 0.0037805402518752544, 'optimizer': 'adagrad', 'activation': 'tanh'}. Best is trial 3 with value: 1010.682373046875.\n"
     ]
    },
    {
     "name": "stderr",
     "output_type": "stream",
     "text": [
      "/uufs/chpc.utah.edu/common/home/clementm-group1/conda/mambaforge/env/bmi_6114/lib/python3.12/site-packages/lightning/fabric/plugins/environments/slurm.py:204: The `srun` command is available on your system but is not used. HINT: If your intention is to run Lightning on SLURM, prepend your python command with `srun` like so: srun python /uufs/chpc.utah.edu/common/home/clementm-group1/cond ...\n",
      "GPU available: True (cuda), used: True\n",
      "TPU available: False, using: 0 TPU cores\n",
      "HPU available: False, using: 0 HPUs\n",
      "LOCAL_RANK: 0 - CUDA_VISIBLE_DEVICES: [0]\n",
      "\n",
      "  | Name        | Type             | Params | Mode \n",
      "---------------------------------------------------------\n",
      "0 | network     | Sequential       | 56.3 M | train\n",
      "1 | loss_metric | MeanSquaredError | 0      | train\n",
      "2 | val_metric  | MeanSquaredError | 0      | train\n",
      "3 | test_metric | MeanSquaredError | 0      | train\n",
      "---------------------------------------------------------\n",
      "56.3 M    Trainable params\n",
      "0         Non-trainable params\n",
      "56.3 M    Total params\n",
      "225.064   Total estimated model params size (MB)\n",
      "45        Modules in train mode\n",
      "0         Modules in eval mode\n"
     ]
    },
    {
     "name": "stdout",
     "output_type": "stream",
     "text": [
      "[I 2025-04-14 20:46:48,425] Trial 18 finished with value: 1030.72802734375 and parameters: {'n_layers': 10, 'dropout': 0.3580436570245329, 'learning_rate': 2.210583535644401e-05, 'weight_decay': 0.004303904533826736, 'optimizer': 'adagrad', 'activation': 'tanh'}. Best is trial 3 with value: 1010.682373046875.\n"
     ]
    },
    {
     "name": "stderr",
     "output_type": "stream",
     "text": [
      "/uufs/chpc.utah.edu/common/home/clementm-group1/conda/mambaforge/env/bmi_6114/lib/python3.12/site-packages/lightning/fabric/plugins/environments/slurm.py:204: The `srun` command is available on your system but is not used. HINT: If your intention is to run Lightning on SLURM, prepend your python command with `srun` like so: srun python /uufs/chpc.utah.edu/common/home/clementm-group1/cond ...\n",
      "GPU available: True (cuda), used: True\n",
      "TPU available: False, using: 0 TPU cores\n",
      "HPU available: False, using: 0 HPUs\n",
      "LOCAL_RANK: 0 - CUDA_VISIBLE_DEVICES: [0]\n",
      "\n",
      "  | Name        | Type             | Params | Mode \n",
      "---------------------------------------------------------\n",
      "0 | network     | Sequential       | 56.3 M | train\n",
      "1 | loss_metric | MeanSquaredError | 0      | train\n",
      "2 | val_metric  | MeanSquaredError | 0      | train\n",
      "3 | test_metric | MeanSquaredError | 0      | train\n",
      "---------------------------------------------------------\n",
      "56.3 M    Trainable params\n",
      "0         Non-trainable params\n",
      "56.3 M    Total params\n",
      "225.064   Total estimated model params size (MB)\n",
      "45        Modules in train mode\n",
      "0         Modules in eval mode\n"
     ]
    },
    {
     "name": "stdout",
     "output_type": "stream",
     "text": [
      "[I 2025-04-14 20:50:37,508] Trial 19 finished with value: 1023.5596313476562 and parameters: {'n_layers': 10, 'dropout': 0.1866254336734826, 'learning_rate': 2.7368894980354797e-05, 'weight_decay': 1.2817919777128424e-05, 'optimizer': 'adagrad', 'activation': 'tanh'}. Best is trial 3 with value: 1010.682373046875.\n"
     ]
    },
    {
     "name": "stderr",
     "output_type": "stream",
     "text": [
      "/uufs/chpc.utah.edu/common/home/clementm-group1/conda/mambaforge/env/bmi_6114/lib/python3.12/site-packages/lightning/fabric/plugins/environments/slurm.py:204: The `srun` command is available on your system but is not used. HINT: If your intention is to run Lightning on SLURM, prepend your python command with `srun` like so: srun python /uufs/chpc.utah.edu/common/home/clementm-group1/cond ...\n",
      "GPU available: True (cuda), used: True\n",
      "TPU available: False, using: 0 TPU cores\n",
      "HPU available: False, using: 0 HPUs\n",
      "LOCAL_RANK: 0 - CUDA_VISIBLE_DEVICES: [0]\n",
      "\n",
      "  | Name        | Type             | Params | Mode \n",
      "---------------------------------------------------------\n",
      "0 | network     | Sequential       | 3.5 M  | train\n",
      "1 | loss_metric | MeanSquaredError | 0      | train\n",
      "2 | val_metric  | MeanSquaredError | 0      | train\n",
      "3 | test_metric | MeanSquaredError | 0      | train\n",
      "---------------------------------------------------------\n",
      "3.5 M     Trainable params\n",
      "0         Non-trainable params\n",
      "3.5 M     Total params\n",
      "13.981    Total estimated model params size (MB)\n",
      "33        Modules in train mode\n",
      "0         Modules in eval mode\n"
     ]
    },
    {
     "name": "stdout",
     "output_type": "stream",
     "text": [
      "[I 2025-04-14 20:52:35,669] Trial 20 finished with value: 1029.855224609375 and parameters: {'n_layers': 7, 'dropout': 0.29256566639163695, 'learning_rate': 5.350197220090399e-05, 'weight_decay': 0.003312510833105968, 'optimizer': 'adagrad', 'activation': 'tanh'}. Best is trial 3 with value: 1010.682373046875.\n"
     ]
    },
    {
     "name": "stderr",
     "output_type": "stream",
     "text": [
      "/uufs/chpc.utah.edu/common/home/clementm-group1/conda/mambaforge/env/bmi_6114/lib/python3.12/site-packages/lightning/fabric/plugins/environments/slurm.py:204: The `srun` command is available on your system but is not used. HINT: If your intention is to run Lightning on SLURM, prepend your python command with `srun` like so: srun python /uufs/chpc.utah.edu/common/home/clementm-group1/cond ...\n",
      "GPU available: True (cuda), used: True\n",
      "TPU available: False, using: 0 TPU cores\n",
      "HPU available: False, using: 0 HPUs\n",
      "LOCAL_RANK: 0 - CUDA_VISIBLE_DEVICES: [0]\n",
      "\n",
      "  | Name        | Type             | Params | Mode \n",
      "---------------------------------------------------------\n",
      "0 | network     | Sequential       | 829 K  | train\n",
      "1 | loss_metric | MeanSquaredError | 0      | train\n",
      "2 | val_metric  | MeanSquaredError | 0      | train\n",
      "3 | test_metric | MeanSquaredError | 0      | train\n",
      "---------------------------------------------------------\n",
      "829 K     Trainable params\n",
      "0         Non-trainable params\n",
      "829 K     Total params\n",
      "3.319     Total estimated model params size (MB)\n",
      "21        Modules in train mode\n",
      "0         Modules in eval mode\n"
     ]
    },
    {
     "name": "stdout",
     "output_type": "stream",
     "text": [
      "[I 2025-04-14 20:55:21,536] Trial 21 finished with value: 999.7816162109376 and parameters: {'n_layers': 4, 'dropout': 0.0830379704188951, 'learning_rate': 0.00043709818812943436, 'weight_decay': 0.00013518271063553056, 'optimizer': 'adagrad', 'activation': 'relu'}. Best is trial 21 with value: 999.7816162109376.\n"
     ]
    },
    {
     "name": "stderr",
     "output_type": "stream",
     "text": [
      "/uufs/chpc.utah.edu/common/home/clementm-group1/conda/mambaforge/env/bmi_6114/lib/python3.12/site-packages/lightning/fabric/plugins/environments/slurm.py:204: The `srun` command is available on your system but is not used. HINT: If your intention is to run Lightning on SLURM, prepend your python command with `srun` like so: srun python /uufs/chpc.utah.edu/common/home/clementm-group1/cond ...\n",
      "GPU available: True (cuda), used: True\n",
      "TPU available: False, using: 0 TPU cores\n",
      "HPU available: False, using: 0 HPUs\n",
      "LOCAL_RANK: 0 - CUDA_VISIBLE_DEVICES: [0]\n",
      "\n",
      "  | Name        | Type             | Params | Mode \n",
      "---------------------------------------------------------\n",
      "0 | network     | Sequential       | 3.5 M  | train\n",
      "1 | loss_metric | MeanSquaredError | 0      | train\n",
      "2 | val_metric  | MeanSquaredError | 0      | train\n",
      "3 | test_metric | MeanSquaredError | 0      | train\n",
      "---------------------------------------------------------\n",
      "3.5 M     Trainable params\n",
      "0         Non-trainable params\n",
      "3.5 M     Total params\n",
      "13.981    Total estimated model params size (MB)\n",
      "33        Modules in train mode\n",
      "0         Modules in eval mode\n"
     ]
    }
   ],
   "source": [
    "# --- Run Optuna ---\n",
    "study = optuna.create_study(direction=\"minimize\", study_name=\"regressor_study\")\n",
    "study.optimize(objective, n_trials=50, n_jobs=15, show_progress_bar=True)\n",
    "\n",
    "# --- Print Best Result ---\n",
    "print(\"Best trial:\")\n",
    "print(f\"  Value (val_mse): {study.best_trial.value}\")\n",
    "print(\"  Params:\")\n",
    "for key, val in study.best_trial.params.items():\n",
    "    print(f\"    {key}: {val}\")"
   ]
  },
  {
   "cell_type": "code",
   "execution_count": null,
   "metadata": {},
   "outputs": [],
   "source": []
  },
  {
   "cell_type": "code",
   "execution_count": null,
   "metadata": {},
   "outputs": [],
   "source": []
  }
 ],
 "metadata": {
  "kernelspec": {
   "display_name": "bmi_6114",
   "language": "python",
   "name": "python3"
  },
  "language_info": {
   "codemirror_mode": {
    "name": "ipython",
    "version": 3
   },
   "file_extension": ".py",
   "mimetype": "text/x-python",
   "name": "python",
   "nbconvert_exporter": "python",
   "pygments_lexer": "ipython3",
   "version": "3.12.5"
  }
 },
 "nbformat": 4,
 "nbformat_minor": 2
}
