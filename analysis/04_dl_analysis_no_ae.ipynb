{
      "cells": [
            {
                  "cell_type": "code",
                  "execution_count": 1,
                  "metadata": {},
                  "outputs": [],
                  "source": [
                        "%load_ext autoreload\n",
                        "%autoreload 2\n"
                  ]
            },
            {
                  "cell_type": "markdown",
                  "metadata": {},
                  "source": [
                        "# Deep Learning Analysis"
                  ]
            },
            {
                  "cell_type": "code",
                  "execution_count": 2,
                  "metadata": {},
                  "outputs": [],
                  "source": [
                        "import json\n",
                        "import joblib\n",
                        "import lightning as L\n",
                        "import matplotlib.pyplot as plt\n",
                        "import numpy as np\n",
                        "import pandas as pd\n",
                        "import torch\n",
                        "import torch.nn as nn\n",
                        "import torch.nn.functional as F\n",
                        "import torchvision.transforms as transforms\n",
                        "from torch.utils.data import DataLoader, random_split\n",
                        "from torchmetrics import MeanSquaredError\n",
                        "from torchvision import datasets\n",
                        "from utils.helper_classes import CancerDataModule, CancerDataset\n",
                        "from utils.models import BaseCancerRegressor, CancerDataAutoEncoder"
                  ]
            },
            {
                  "cell_type": "code",
                  "execution_count": 3,
                  "metadata": {},
                  "outputs": [],
                  "source": [
                        "cancer_df = pd.read_csv(\"../data/cleaned_feature_and_target_data_large.csv\", index_col=0)\n",
                        "cna_columns = [col for col in cancer_df.columns if col.startswith(\"CNA\")]\n",
                        "numeric_cols = [\"SMOKING_PACK_YEARS\"] + cna_columns\n",
                        "cancer_df[numeric_cols] = cancer_df[numeric_cols].astype(np.float32)\n",
                        "scaler = joblib.load(open(\"results/scaler.pkl\", \"rb\"))\n",
                        "cancer_dm = CancerDataModule(cancer_df, numerical_features=numeric_cols, scaler=scaler)\n",
                        "cancer_dm.setup()"
                  ]
            },
            {
                  "cell_type": "code",
                  "execution_count": 4,
                  "metadata": {},
                  "outputs": [],
                  "source": [
                        "import random\n",
                        "\n",
                        "\n",
                        "class NNRegressor(L.LightningModule):\n",
                        "    def __init__(self, input_dim, n_layers=1, dropout=0.2, activation=nn.LeakyReLU, optimizer=torch.optim.Adam, lr=1e-3, weight_decay=1e-4):\n",
                        "        super(NNRegressor, self).__init__()\n",
                        "        self.optimizer = optimizer\n",
                        "        self.lr = lr\n",
                        "        self.weight_decay = weight_decay\n",
                        "        self.layers = []\n",
                        "        curr_size = input_dim\n",
                        "        len_first_half = int(n_layers / 2)\n",
                        "        len_second_half = n_layers - len_first_half\n",
                        "        for i in range(len_first_half):\n",
                        "            new_size = curr_size * 2\n",
                        "            self.layers += [\n",
                        "                nn.Linear(curr_size, new_size),\n",
                        "                nn.BatchNorm1d(new_size),\n",
                        "                activation(),\n",
                        "                nn.Dropout(dropout),\n",
                        "            ]\n",
                        "            curr_size = new_size\n",
                        "        \n",
                        "        for i in range(len_second_half):\n",
                        "            new_size = curr_size // 2\n",
                        "            self.layers += [\n",
                        "                nn.Linear(curr_size, new_size),\n",
                        "                nn.BatchNorm1d(new_size),\n",
                        "                activation(),\n",
                        "                nn.Dropout(dropout),\n",
                        "            ]\n",
                        "            curr_size = new_size\n",
                        "        if curr_size > 1:\n",
                        "            self.layers.append(nn.Linear(curr_size, 1))\n",
                        "        self.network = nn.Sequential(*self.layers)\n",
                        "\n",
                        "        self.loss_metric = MeanSquaredError()\n",
                        "        self.val_metric = MeanSquaredError()\n",
                        "        self.test_metric = MeanSquaredError()\n",
                        "\n",
                        "\n",
                        "\n",
                        "    def forward(self, x):\n",
                        "        y = self.network(x)\n",
                        "        return y\n",
                        "    \n",
                        "    def training_step(self, batch, batch_idx):\n",
                        "        x, y = batch\n",
                        "        x = x.to(self.device)\n",
                        "        y = y.to(self.device)\n",
                        "        y_hat = self(x)\n",
                        "        loss = nn.functional.mse_loss(y_hat, y)\n",
                        "        self.log(\"train_loss\", loss, prog_bar=True)\n",
                        "        self.log(\"train_mse\", self.loss_metric(y_hat, y), prog_bar=True)\n",
                        "\n",
                        "        return loss\n",
                        "    \n",
                        "    def on_training_epoch_end(self):\n",
                        "        self.log(\"train_mse\", self.loss_metric.compute())\n",
                        "        self.loss_metric.reset()\n",
                        "\n",
                        "    def validation_step(self, batch, batch_idx):\n",
                        "        x, y = batch\n",
                        "        y_hat = self(x)\n",
                        "        loss = nn.functional.mse_loss(y_hat, y)\n",
                        "        self.log(\"val_loss\", loss, prog_bar=True)\n",
                        "        self.log(\"val_mse\", self.val_metric(y_hat, y), prog_bar=True)\n",
                        "\n",
                        "    def on_validation_epoch_end(self):\n",
                        "        self.log(\"val_mse\", self.val_metric.compute())\n",
                        "        self.val_metric.reset()\n",
                        "        \n",
                        "    def configure_optimizers(self):\n",
                        "        return self.optimizer(self.network.parameters(), lr=self.lr, weight_decay=self.weight_decay)\n",
                        "    \n",
                        "    def test_step(self, batch, batch_idx):\n",
                        "        x, y = batch\n",
                        "        y_hat = self(x)\n",
                        "        loss = nn.functional.mse_loss(y_hat, y)\n",
                        "        self.log(\"test_loss\", loss, prog_bar=True)\n",
                        "        self.log(\"test_mse\", self.test_metric(y_hat, y), prog_bar=True)\n",
                        "        return loss\n",
                        "    \n",
                        "    def on_test_epoch_end(self):\n",
                        "        self.log(\"test_mse\", self.test_metric.compute())\n",
                        "        self.test_metric.reset()\n",
                        "\n",
                        "simple_nn = NNRegressor(\n",
                        "    input_dim=len(cancer_dm.ds_train[0][0]),\n",
                        "    n_layers=8\n",
                        ")"
                  ]
            },
            {
                  "cell_type": "code",
                  "execution_count": 5,
                  "metadata": {},
                  "outputs": [
                        {
                              "data": {
                                    "text/plain": [
                                          "==========================================================================================\n",
                                          "Layer (type:depth-idx)                   Output Shape              Param #\n",
                                          "==========================================================================================\n",
                                          "NNRegressor                              [1, 1]                    --\n",
                                          "├─Sequential: 1-1                        [1, 1]                    --\n",
                                          "│    └─Linear: 2-1                       [1, 1978]                 1,958,220\n",
                                          "│    └─BatchNorm1d: 2-2                  [1, 1978]                 3,956\n",
                                          "│    └─LeakyReLU: 2-3                    [1, 1978]                 --\n",
                                          "│    └─Dropout: 2-4                      [1, 1978]                 --\n",
                                          "│    └─Linear: 2-5                       [1, 3956]                 7,828,924\n",
                                          "│    └─BatchNorm1d: 2-6                  [1, 3956]                 7,912\n",
                                          "│    └─LeakyReLU: 2-7                    [1, 3956]                 --\n",
                                          "│    └─Dropout: 2-8                      [1, 3956]                 --\n",
                                          "│    └─Linear: 2-9                       [1, 7912]                 31,307,784\n",
                                          "│    └─BatchNorm1d: 2-10                 [1, 7912]                 15,824\n",
                                          "│    └─LeakyReLU: 2-11                   [1, 7912]                 --\n",
                                          "│    └─Dropout: 2-12                     [1, 7912]                 --\n",
                                          "│    └─Linear: 2-13                      [1, 15824]                125,215,312\n",
                                          "│    └─BatchNorm1d: 2-14                 [1, 15824]                31,648\n",
                                          "│    └─LeakyReLU: 2-15                   [1, 15824]                --\n",
                                          "│    └─Dropout: 2-16                     [1, 15824]                --\n",
                                          "│    └─Linear: 2-17                      [1, 7912]                 125,207,400\n",
                                          "│    └─BatchNorm1d: 2-18                 [1, 7912]                 15,824\n",
                                          "│    └─LeakyReLU: 2-19                   [1, 7912]                 --\n",
                                          "│    └─Dropout: 2-20                     [1, 7912]                 --\n",
                                          "│    └─Linear: 2-21                      [1, 3956]                 31,303,828\n",
                                          "│    └─BatchNorm1d: 2-22                 [1, 3956]                 7,912\n",
                                          "│    └─LeakyReLU: 2-23                   [1, 3956]                 --\n",
                                          "│    └─Dropout: 2-24                     [1, 3956]                 --\n",
                                          "│    └─Linear: 2-25                      [1, 1978]                 7,826,946\n",
                                          "│    └─BatchNorm1d: 2-26                 [1, 1978]                 3,956\n",
                                          "│    └─LeakyReLU: 2-27                   [1, 1978]                 --\n",
                                          "│    └─Dropout: 2-28                     [1, 1978]                 --\n",
                                          "│    └─Linear: 2-29                      [1, 989]                  1,957,231\n",
                                          "│    └─BatchNorm1d: 2-30                 [1, 989]                  1,978\n",
                                          "│    └─LeakyReLU: 2-31                   [1, 989]                  --\n",
                                          "│    └─Dropout: 2-32                     [1, 989]                  --\n",
                                          "│    └─Linear: 2-33                      [1, 1]                    990\n",
                                          "==========================================================================================\n",
                                          "Total params: 332,695,645\n",
                                          "Trainable params: 332,695,645\n",
                                          "Non-trainable params: 0\n",
                                          "Total mult-adds (Units.MEGABYTES): 332.70\n",
                                          "==========================================================================================\n",
                                          "Input size (MB): 0.00\n",
                                          "Forward/backward pass size (MB): 0.71\n",
                                          "Params size (MB): 1330.78\n",
                                          "Estimated Total Size (MB): 1331.50\n",
                                          "=========================================================================================="
                                    ]
                              },
                              "execution_count": 5,
                              "metadata": {},
                              "output_type": "execute_result"
                        }
                  ],
                  "source": [
                        "from torchinfo import summary\n",
                        "\n",
                        "input_dim = len(cancer_dm.ds_train[0][0])\n",
                        "summary(NNRegressor(\n",
                        "    input_dim=len(cancer_dm.ds_train[0][0]),\n",
                        "    n_layers=8\n",
                        "), input_size=(1, input_dim))"
                  ]
            },
            {
                  "cell_type": "code",
                  "execution_count": 6,
                  "metadata": {},
                  "outputs": [
                        {
                              "name": "stderr",
                              "output_type": "stream",
                              "text": [
                                    "GPU available: True (cuda), used: True\n",
                                    "TPU available: False, using: 0 TPU cores\n",
                                    "HPU available: False, using: 0 HPUs\n",
                                    "You are using a CUDA device ('NVIDIA GeForce RTX 3080 Laptop GPU') that has Tensor Cores. To properly utilize them, you should set `torch.set_float32_matmul_precision('medium' | 'high')` which will trade-off precision for performance. For more details, read https://pytorch.org/docs/stable/generated/torch.set_float32_matmul_precision.html#torch.set_float32_matmul_precision\n",
                                    "LOCAL_RANK: 0 - CUDA_VISIBLE_DEVICES: [0]\n",
                                    "\n",
                                    "  | Name        | Type             | Params | Mode \n",
                                    "---------------------------------------------------------\n",
                                    "0 | network     | Sequential       | 332 M  | train\n",
                                    "1 | loss_metric | MeanSquaredError | 0      | train\n",
                                    "2 | val_metric  | MeanSquaredError | 0      | train\n",
                                    "3 | test_metric | MeanSquaredError | 0      | train\n",
                                    "---------------------------------------------------------\n",
                                    "332 M     Trainable params\n",
                                    "0         Non-trainable params\n",
                                    "332 M     Total params\n",
                                    "1,330.783 Total estimated model params size (MB)\n",
                                    "37        Modules in train mode\n",
                                    "0         Modules in eval mode\n"
                              ]
                        },
                        {
                              "data": {
                                    "application/vnd.jupyter.widget-view+json": {
                                          "model_id": "b6c35217114d4a20bbfc07fc6bf43389",
                                          "version_major": 2,
                                          "version_minor": 0
                                    },
                                    "text/plain": [
                                          "Sanity Checking: |          | 0/? [00:00<?, ?it/s]"
                                    ]
                              },
                              "metadata": {},
                              "output_type": "display_data"
                        },
                        {
                              "data": {
                                    "application/vnd.jupyter.widget-view+json": {
                                          "model_id": "863e314efeb7404f8b5ff39bcaec2d59",
                                          "version_major": 2,
                                          "version_minor": 0
                                    },
                                    "text/plain": [
                                          "Training: |          | 0/? [00:00<?, ?it/s]"
                                    ]
                              },
                              "metadata": {},
                              "output_type": "display_data"
                        },
                        {
                              "data": {
                                    "application/vnd.jupyter.widget-view+json": {
                                          "model_id": "e30bc57f779b4c6cb61fe65ede24829b",
                                          "version_major": 2,
                                          "version_minor": 0
                                    },
                                    "text/plain": [
                                          "Validation: |          | 0/? [00:00<?, ?it/s]"
                                    ]
                              },
                              "metadata": {},
                              "output_type": "display_data"
                        },
                        {
                              "data": {
                                    "application/vnd.jupyter.widget-view+json": {
                                          "model_id": "3215ddbf9e074ee8991dd73a6a7bcdcd",
                                          "version_major": 2,
                                          "version_minor": 0
                                    },
                                    "text/plain": [
                                          "Validation: |          | 0/? [00:00<?, ?it/s]"
                                    ]
                              },
                              "metadata": {},
                              "output_type": "display_data"
                        },
                        {
                              "data": {
                                    "application/vnd.jupyter.widget-view+json": {
                                          "model_id": "a87da82ab1f345919bf2cba7f2c0dbdd",
                                          "version_major": 2,
                                          "version_minor": 0
                                    },
                                    "text/plain": [
                                          "Validation: |          | 0/? [00:00<?, ?it/s]"
                                    ]
                              },
                              "metadata": {},
                              "output_type": "display_data"
                        },
                        {
                              "data": {
                                    "application/vnd.jupyter.widget-view+json": {
                                          "model_id": "88f3709a5fc5437892da2d14a3042666",
                                          "version_major": 2,
                                          "version_minor": 0
                                    },
                                    "text/plain": [
                                          "Validation: |          | 0/? [00:00<?, ?it/s]"
                                    ]
                              },
                              "metadata": {},
                              "output_type": "display_data"
                        },
                        {
                              "data": {
                                    "application/vnd.jupyter.widget-view+json": {
                                          "model_id": "59c748d232f7485a84b11d55cfae3e05",
                                          "version_major": 2,
                                          "version_minor": 0
                                    },
                                    "text/plain": [
                                          "Validation: |          | 0/? [00:00<?, ?it/s]"
                                    ]
                              },
                              "metadata": {},
                              "output_type": "display_data"
                        }
                  ],
                  "source": [
                        "from utils.helper_functions import create_classifier_trainer\n",
                        "\n",
                        "trainer, regressor_csv_logger, regressor_checkpoint = create_classifier_trainer(\"cancer_regressor\")\n",
                        "cancer_regressor = NNRegressor(\n",
                        "    input_dim=len(cancer_dm.ds_train[0][0]),\n",
                        "    n_layers=8\n",
                        ")\n",
                        "trainer.fit(\n",
                        "    cancer_regressor,\n",
                        "    datamodule=CancerDataModule(cancer_df, numerical_features=numeric_cols, scaler=scaler),\n",
                        ")"
                  ]
            },
            {
                  "cell_type": "code",
                  "execution_count": 7,
                  "metadata": {},
                  "outputs": [
                        {
                              "name": "stderr",
                              "output_type": "stream",
                              "text": [
                                    "LOCAL_RANK: 0 - CUDA_VISIBLE_DEVICES: [0]\n"
                              ]
                        },
                        {
                              "data": {
                                    "application/vnd.jupyter.widget-view+json": {
                                          "model_id": "4b49d9c2c0874a648bc78f423aad2391",
                                          "version_major": 2,
                                          "version_minor": 0
                                    },
                                    "text/plain": [
                                          "Testing: |          | 0/? [00:00<?, ?it/s]"
                                    ]
                              },
                              "metadata": {},
                              "output_type": "display_data"
                        },
                        {
                              "data": {
                                    "text/html": [
                                          "<pre style=\"white-space:pre;overflow-x:auto;line-height:normal;font-family:Menlo,'DejaVu Sans Mono',consolas,'Courier New',monospace\">┏━━━━━━━━━━━━━━━━━━━━━━━━━━━┳━━━━━━━━━━━━━━━━━━━━━━━━━━━┓\n",
                                          "┃<span style=\"font-weight: bold\">        Test metric        </span>┃<span style=\"font-weight: bold\">       DataLoader 0        </span>┃\n",
                                          "┡━━━━━━━━━━━━━━━━━━━━━━━━━━━╇━━━━━━━━━━━━━━━━━━━━━━━━━━━┩\n",
                                          "│<span style=\"color: #008080; text-decoration-color: #008080\">         test_loss         </span>│<span style=\"color: #800080; text-decoration-color: #800080\">    1672.8179931640625     </span>│\n",
                                          "│<span style=\"color: #008080; text-decoration-color: #008080\">         test_mse          </span>│<span style=\"color: #800080; text-decoration-color: #800080\">    1672.8179931640625     </span>│\n",
                                          "└───────────────────────────┴───────────────────────────┘\n",
                                          "</pre>\n"
                                    ],
                                    "text/plain": [
                                          "┏━━━━━━━━━━━━━━━━━━━━━━━━━━━┳━━━━━━━━━━━━━━━━━━━━━━━━━━━┓\n",
                                          "┃\u001b[1m \u001b[0m\u001b[1m       Test metric       \u001b[0m\u001b[1m \u001b[0m┃\u001b[1m \u001b[0m\u001b[1m      DataLoader 0       \u001b[0m\u001b[1m \u001b[0m┃\n",
                                          "┡━━━━━━━━━━━━━━━━━━━━━━━━━━━╇━━━━━━━━━━━━━━━━━━━━━━━━━━━┩\n",
                                          "│\u001b[36m \u001b[0m\u001b[36m        test_loss        \u001b[0m\u001b[36m \u001b[0m│\u001b[35m \u001b[0m\u001b[35m   1672.8179931640625    \u001b[0m\u001b[35m \u001b[0m│\n",
                                          "│\u001b[36m \u001b[0m\u001b[36m        test_mse         \u001b[0m\u001b[36m \u001b[0m│\u001b[35m \u001b[0m\u001b[35m   1672.8179931640625    \u001b[0m\u001b[35m \u001b[0m│\n",
                                          "└───────────────────────────┴───────────────────────────┘\n"
                                    ]
                              },
                              "metadata": {},
                              "output_type": "display_data"
                        },
                        {
                              "data": {
                                    "text/plain": [
                                          "[{'test_loss': 1672.8179931640625, 'test_mse': 1672.8179931640625}]"
                                    ]
                              },
                              "execution_count": 7,
                              "metadata": {},
                              "output_type": "execute_result"
                        }
                  ],
                  "source": [
                        "trainer.test(\n",
                        "    model=cancer_regressor,\n",
                        "    datamodule=CancerDataModule(cancer_df, numerical_features=numeric_cols, scaler=scaler),\n",
                        ")"
                  ]
            },
            {
                  "cell_type": "code",
                  "execution_count": 8,
                  "metadata": {},
                  "outputs": [
                        {
                              "data": {
                                    "image/png": "[encoded data removed]",
                                    "text/plain": [
                                          "<Figure size 1000x600 with 1 Axes>"
                                    ]
                              },
                              "metadata": {},
                              "output_type": "display_data"
                        }
                  ],
                  "source": [
                        "def plot_regression_results(model, dataloader):\n",
                        "    model.eval()\n",
                        "    y_true = []\n",
                        "    y_pred = []\n",
                        "    with torch.no_grad():\n",
                        "        for batch in dataloader:\n",
                        "            x, y = batch\n",
                        "            y_hat = model(x)\n",
                        "            y_true.append(y)\n",
                        "            y_pred.append(y_hat)\n",
                        "\n",
                        "    y_true = torch.cat(y_true).numpy()\n",
                        "    y_pred = torch.cat(y_pred).numpy()\n",
                        "\n",
                        "    plt.figure(figsize=(10, 6))\n",
                        "    plt.scatter(y_true, y_pred, alpha=0.5)\n",
                        "    plt.plot([y_true.min(), y_true.max()], [y_true.min(), y_true.max()], 'r--')\n",
                        "    plt.xlabel('True Values')\n",
                        "    plt.ylabel('Predictions')\n",
                        "    plt.title('Regression Results')\n",
                        "    plt.show()\n",
                        "plot_regression_results(cancer_regressor, cancer_dm.test_dataloader())"
                  ]
            },
            {
                  "cell_type": "code",
                  "execution_count": null,
                  "metadata": {},
                  "outputs": [
                        {
                              "ename": "",
                              "evalue": "",
                              "output_type": "error",
                              "traceback": [
                                    "\u001b[1;31mThe Kernel crashed while executing code in the current cell or a previous cell. \n",
                                    "\u001b[1;31mPlease review the code in the cell(s) to identify a possible cause of the failure. \n",
                                    "\u001b[1;31mClick <a href='https://aka.ms/vscodeJupyterKernelCrash'>here</a> for more info. \n",
                                    "\u001b[1;31mView Jupyter <a href='command:jupyter.viewOutput'>log</a> for further details."
                              ]
                        }
                  ],
                  "source": [
                        "import optuna\n",
                        "\n",
                        "trial_to_details = {}\n",
                        "def objective(trial):\n",
                        "    # Sample hyperparameters\n",
                        "    activation_dict = {\n",
                        "        \"relu\": nn.ReLU,\n",
                        "        \"leaky_relu\": nn.LeakyReLU,\n",
                        "        \"tanh\": nn.Tanh,\n",
                        "        \"RReLU\": nn.RReLU,\n",
                        "    }\n",
                        "    optimizer_dict = {\n",
                        "        \"adam\": torch.optim.Adam,\n",
                        "        \"sgd\": torch.optim.SGD,\n",
                        "        \"adagrad\": torch.optim.Adagrad,\n",
                        "    }\n",
                        "    n_layers = trial.suggest_int(\"n_layers\", 3, 10)\n",
                        "    dropout = trial.suggest_float(\"dropout\", 0.0, 0.5)\n",
                        "    learning_rate = trial.suggest_float(\"learning_rate\", 1e-5, 1e-2, log=True)\n",
                        "    weight_decay = trial.suggest_float(\"weight_decay\", 1e-5, 1e-2, log=True)\n",
                        "    optimizer = trial.suggest_categorical(\"optimizer\", list(optimizer_dict.keys()))\n",
                        "    activation = trial.suggest_categorical(\"activation\", list(activation_dict.keys()) )\n",
                        "\n",
                        "    activation = activation_dict[activation]\n",
                        "    optimizer = optimizer_dict[optimizer]\n",
                        "\n",
                        "    model =NNRegressor(\n",
                        "        input_dim=len(cancer_dm.ds_train[0][0]),\n",
                        "        n_layers=n_layers,\n",
                        "        dropout=dropout,\n",
                        "        activation=activation,\n",
                        "        optimizer=optimizer,\n",
                        "        lr=learning_rate,\n",
                        "        weight_decay=weight_decay,\n",
                        "    )\n",
                        "    trainer, logger, checkpoint = create_classifier_trainer(f\"nn_trial_{trial.number}\", max_epochs=50, enable_pbar=False)\n",
                        "\n",
                        "\n",
                        "    # Training loop\n",
                        "    trainer.fit(\n",
                        "        model,\n",
                        "        datamodule=CancerDataModule(cancer_df, numerical_features=numeric_cols, scaler=scaler),\n",
                        "    )\n",
                        "    trial_to_details[trial.number] = {\n",
                        "        \"logger\" : logger,\n",
                        "        \"checkpoint\" : checkpoint,\n",
                        "    }\n",
                        "\n",
                        "    \n",
                        "    # Store trial details\n",
                        "    trial_to_details[trial.number] = {\n",
                        "        \"logger\" : logger,\n",
                        "        \"checkpoint\" : checkpoint,\n",
                        "    }\n",
                        "    metrics_path = f\"{logger.log_dir}/metrics.csv\"\n",
                        "    metrics_df = pd.read_csv(metrics_path)\n",
                        "\n",
                        "    if \"val_mse\" not in metrics_df.columns:\n",
                        "        return float(\"inf\")\n",
                        "\n",
                        "    last_val = metrics_df[\"val_mse\"].dropna().values[-1]\n",
                        "    return last_val"
                  ]
            },
            {
                  "cell_type": "code",
                  "execution_count": null,
                  "metadata": {},
                  "outputs": [
                        {
                              "name": "stderr",
                              "output_type": "stream",
                              "text": [
                                    "[I 2025-04-18 12:15:25,619] A new study created in memory with name: deep_regressor_study\n"
                              ]
                        },
                        {
                              "data": {
                                    "application/vnd.jupyter.widget-view+json": {
                                          "model_id": "e3109adf061a4e73860323d3674d7a02",
                                          "version_major": 2,
                                          "version_minor": 0
                                    },
                                    "text/plain": [
                                          "  0%|          | 0/20 [00:00<?, ?it/s]"
                                    ]
                              },
                              "metadata": {},
                              "output_type": "display_data"
                        },
                        {
                              "name": "stderr",
                              "output_type": "stream",
                              "text": [
                                    "GPU available: True (cuda), used: True\n",
                                    "TPU available: False, using: 0 TPU cores\n",
                                    "HPU available: False, using: 0 HPUs\n"
                              ]
                        },
                        {
                              "name": "stderr",
                              "output_type": "stream",
                              "text": [
                                    "LOCAL_RANK: 0 - CUDA_VISIBLE_DEVICES: [0]\n",
                                    "\n",
                                    "  | Name        | Type             | Params | Mode \n",
                                    "---------------------------------------------------------\n",
                                    "0 | network     | Sequential       | 4.4 M  | train\n",
                                    "1 | loss_metric | MeanSquaredError | 0      | train\n",
                                    "2 | val_metric  | MeanSquaredError | 0      | train\n",
                                    "3 | test_metric | MeanSquaredError | 0      | train\n",
                                    "---------------------------------------------------------\n",
                                    "4.4 M     Trainable params\n",
                                    "0         Non-trainable params\n",
                                    "4.4 M     Total params\n",
                                    "17.648    Total estimated model params size (MB)\n",
                                    "17        Modules in train mode\n",
                                    "0         Modules in eval mode\n"
                              ]
                        },
                        {
                              "name": "stdout",
                              "output_type": "stream",
                              "text": [
                                    "[I 2025-04-18 12:16:34,770] Trial 0 finished with value: 986.741455078125 and parameters: {'n_layers': 3, 'dropout': 0.010641366980324196, 'learning_rate': 0.0006815957057478581, 'weight_decay': 0.0006817221486612031, 'optimizer': 'adagrad', 'activation': 'leaky_relu'}. Best is trial 0 with value: 986.741455078125.\n"
                              ]
                        },
                        {
                              "name": "stderr",
                              "output_type": "stream",
                              "text": [
                                    "GPU available: True (cuda), used: True\n",
                                    "TPU available: False, using: 0 TPU cores\n",
                                    "HPU available: False, using: 0 HPUs\n",
                                    "LOCAL_RANK: 0 - CUDA_VISIBLE_DEVICES: [0]\n",
                                    "\n",
                                    "  | Name        | Type             | Params | Mode \n",
                                    "---------------------------------------------------------\n",
                                    "0 | network     | Sequential       | 82.2 M | train\n",
                                    "1 | loss_metric | MeanSquaredError | 0      | train\n",
                                    "2 | val_metric  | MeanSquaredError | 0      | train\n",
                                    "3 | test_metric | MeanSquaredError | 0      | train\n",
                                    "---------------------------------------------------------\n",
                                    "82.2 M    Trainable params\n",
                                    "0         Non-trainable params\n",
                                    "82.2 M    Total params\n",
                                    "328.902   Total estimated model params size (MB)\n",
                                    "29        Modules in train mode\n",
                                    "0         Modules in eval mode\n"
                              ]
                        }
                  ],
                  "source": [
                        "# --- Run Optuna ---\n",
                        "study = optuna.create_study(direction=\"minimize\", study_name=\"deep_regressor_study\")\n",
                        "study.optimize(objective, n_trials=20, n_jobs=1, show_progress_bar=True)\n",
                        "\n",
                        "# --- Print Best Result ---\n",
                        "print(\"Best trial:\")\n",
                        "print(f\"  Value (val_mse): {study.best_trial.value}\")\n",
                        "print(\"  Params:\")\n",
                        "for key, val in study.best_trial.params.items():\n",
                        "    print(f\"    {key}: {val}\")"
                  ]
            },
            {
                  "cell_type": "code",
                  "execution_count": null,
                  "metadata": {},
                  "outputs": [],
                  "source": [
                        "activation_dict = {\n",
                        "    \"relu\": nn.ReLU,\n",
                        "    \"leaky_relu\": nn.LeakyReLU,\n",
                        "    \"tanh\": nn.Tanh,\n",
                        "    \"RReLU\": nn.RReLU,\n",
                        "}\n",
                        "optimizer_dict = {\n",
                        "    \"adam\": torch.optim.Adam,\n",
                        "    \"sgd\": torch.optim.SGD,\n",
                        "    \"adagrad\": torch.optim.Adagrad,\n",
                        "}\n",
                        "best_model = model =NNRegressor(\n",
                        "        input_dim=len(cancer_dm.ds_train[0][0]),\n",
                        "        n_layers=study.best_trial.params[\"n_layers\"],\n",
                        "        dropout=study.best_trial.params[\"dropout\"],\n",
                        "        activation=activation_dict[study.best_trial.params[\"activation\"]],\n",
                        "        optimizer=optimizer_dict[study.best_trial.params[\"optimizer\"]],\n",
                        "        lr=study.best_trial.params[\"learning_rate\"],\n",
                        "        weight_decay=study.best_trial.params[\"weight_decay\"],\n",
                        "    )"
                  ]
            },
            {
                  "cell_type": "code",
                  "execution_count": null,
                  "metadata": {},
                  "outputs": [
                        {
                              "data": {
                                    "text/plain": [
                                          "['results/04/best_model_trial_noae_16.pkl']"
                                    ]
                              },
                              "execution_count": 18,
                              "metadata": {},
                              "output_type": "execute_result"
                        }
                  ],
                  "source": [
                        "joblib.dump(\n",
                        "    best_model,\n",
                        "    f\"results/04/best_model_trial_noae_{study.best_trial.number}.pkl\",\n",
                        ")"
                  ]
            },
            {
                  "cell_type": "code",
                  "execution_count": null,
                  "metadata": {},
                  "outputs": [
                        {
                              "data": {
                                    "image/png": "[encoded data removed]",
                                    "text/plain": [
                                          "<Figure size 1000x600 with 1 Axes>"
                                    ]
                              },
                              "metadata": {},
                              "output_type": "display_data"
                        }
                  ],
                  "source": [
                        "plot_regression_results(best_model, cancer_dm.test_dataloader())"
                  ]
            },
            {
                  "cell_type": "code",
                  "execution_count": null,
                  "metadata": {},
                  "outputs": [],
                  "source": []
            }
      ],
      "metadata": {
            "kernelspec": {
                  "display_name": "bmi_6114",
                  "language": "python",
                  "name": "python3"
            },
            "language_info": {
                  "codemirror_mode": {
                        "name": "ipython",
                        "version": 3
                  },
                  "file_extension": ".py",
                  "mimetype": "text/x-python",
                  "name": "python",
                  "nbconvert_exporter": "python",
                  "pygments_lexer": "ipython3",
                  "version": "3.12.5"
            }
      },
      "nbformat": 4,
      "nbformat_minor": 2
}
