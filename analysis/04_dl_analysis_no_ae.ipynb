{
      "cells": [
            {
                  "cell_type": "code",
                  "execution_count": 8,
                  "metadata": {},
                  "outputs": [
                        {
                              "name": "stdout",
                              "output_type": "stream",
                              "text": [
                                    "The autoreload extension is already loaded. To reload it, use:\n",
                                    "  %reload_ext autoreload\n"
                              ]
                        }
                  ],
                  "source": [
                        "%load_ext autoreload\n",
                        "%autoreload 2\n"
                  ]
            },
            {
                  "cell_type": "markdown",
                  "metadata": {},
                  "source": [
                        "# Deep Learning Analysis"
                  ]
            },
            {
                  "cell_type": "code",
                  "execution_count": 9,
                  "metadata": {},
                  "outputs": [],
                  "source": [
                        "import json\n",
                        "import joblib\n",
                        "import lightning as L\n",
                        "import matplotlib.pyplot as plt\n",
                        "import numpy as np\n",
                        "import pandas as pd\n",
                        "import torch\n",
                        "import torch.nn as nn\n",
                        "import torch.nn.functional as F\n",
                        "import torchvision.transforms as transforms\n",
                        "from torch.utils.data import DataLoader, random_split\n",
                        "from torchmetrics import MeanSquaredError\n",
                        "from torchvision import datasets\n",
                        "from utils.helper_classes import CancerDataModule, CancerDataset\n",
                        "from utils.models import BaseCancerRegressor, CancerDataAutoEncoder"
                  ]
            },
            {
                  "cell_type": "code",
                  "execution_count": 10,
                  "metadata": {},
                  "outputs": [
                        {
                              "name": "stderr",
                              "output_type": "stream",
                              "text": [
                                    "/uufs/chpc.utah.edu/common/home/clementm-group1/conda/mambaforge/env/jt_bmi_6114_cpu/lib/python3.12/site-packages/sklearn/base.py:380: InconsistentVersionWarning: Trying to unpickle estimator StandardScaler from version 1.5.1 when using version 1.6.1. This might lead to breaking code or invalid results. Use at your own risk. For more info please refer to:\n",
                                    "https://scikit-learn.org/stable/model_persistence.html#security-maintainability-limitations\n",
                                    "  warnings.warn(\n",
                                    "Exception ignored in: <function _ConnectionBase.__del__ at 0x150b36dfdd00>\n",
                                    "Traceback (most recent call last):\n",
                                    "  File \"/uufs/chpc.utah.edu/common/home/clementm-group1/conda/mambaforge/env/jt_bmi_6114_cpu/lib/python3.12/multiprocessing/connection.py\", line 133, in __del__\n",
                                    "    self._close()\n",
                                    "  File \"/uufs/chpc.utah.edu/common/home/clementm-group1/conda/mambaforge/env/jt_bmi_6114_cpu/lib/python3.12/multiprocessing/connection.py\", line 377, in _close\n",
                                    "    _close(self._handle)\n",
                                    "OSError: [Errno 9] Bad file descriptor\n"
                              ]
                        }
                  ],
                  "source": [
                        "cancer_df = pd.read_csv(\"../data/cleaned_feature_and_target_data_large.csv\", index_col=0)\n",
                        "cna_columns = [col for col in cancer_df.columns if col.startswith(\"CNA\")]\n",
                        "numeric_cols = [\"SMOKING_PACK_YEARS\"] + cna_columns\n",
                        "cancer_df[numeric_cols] = cancer_df[numeric_cols].astype(np.float32)\n",
                        "scaler = joblib.load(open(\"results/scaler.pkl\", \"rb\"))\n",
                        "cancer_dm = CancerDataModule(cancer_df, numerical_features=numeric_cols, scaler=scaler)\n",
                        "cancer_dm.setup()"
                  ]
            },
            {
                  "cell_type": "code",
                  "execution_count": 11,
                  "metadata": {},
                  "outputs": [],
                  "source": [
                        "import random\n",
                        "\n",
                        "\n",
                        "class NNRegressor(L.LightningModule):\n",
                        "    def __init__(self, input_dim, n_layers=1, dropout=0.2, activation=nn.LeakyReLU, optimizer=torch.optim.Adam, lr=1e-3, weight_decay=1e-4):\n",
                        "        super(NNRegressor, self).__init__()\n",
                        "        self.optimizer = optimizer\n",
                        "        self.lr = lr\n",
                        "        self.weight_decay = weight_decay\n",
                        "        self.layers = []\n",
                        "        curr_size = input_dim\n",
                        "        len_first_half = int(n_layers / 2)\n",
                        "        len_second_half = n_layers - len_first_half\n",
                        "        for i in range(len_first_half):\n",
                        "            new_size = curr_size * 2\n",
                        "            self.layers += [\n",
                        "                nn.Linear(curr_size, new_size),\n",
                        "                nn.BatchNorm1d(new_size),\n",
                        "                activation(),\n",
                        "                nn.Dropout(dropout),\n",
                        "            ]\n",
                        "            curr_size = new_size\n",
                        "        \n",
                        "        for i in range(len_second_half):\n",
                        "            new_size = curr_size // 2\n",
                        "            self.layers += [\n",
                        "                nn.Linear(curr_size, new_size),\n",
                        "                nn.BatchNorm1d(new_size),\n",
                        "                activation(),\n",
                        "                nn.Dropout(dropout),\n",
                        "            ]\n",
                        "            curr_size = new_size\n",
                        "        if curr_size > 1:\n",
                        "            self.layers.append(nn.Linear(curr_size, 1))\n",
                        "        self.network = nn.Sequential(*self.layers)\n",
                        "\n",
                        "        self.loss_metric = MeanSquaredError()\n",
                        "        self.val_metric = MeanSquaredError()\n",
                        "        self.test_metric = MeanSquaredError()\n",
                        "\n",
                        "\n",
                        "\n",
                        "    def forward(self, x):\n",
                        "        y = self.network(x)\n",
                        "        return y\n",
                        "    \n",
                        "    def training_step(self, batch, batch_idx):\n",
                        "        x, y = batch\n",
                        "        x = x.to(self.device)\n",
                        "        y = y.to(self.device)\n",
                        "        y_hat = self(x)\n",
                        "        loss = nn.functional.mse_loss(y_hat, y)\n",
                        "        self.log(\"train_loss\", loss, prog_bar=True)\n",
                        "        self.log(\"train_mse\", self.loss_metric(y_hat, y), prog_bar=True)\n",
                        "\n",
                        "        return loss\n",
                        "    \n",
                        "    def on_training_epoch_end(self):\n",
                        "        self.log(\"train_mse\", self.loss_metric.compute())\n",
                        "        self.loss_metric.reset()\n",
                        "\n",
                        "    def validation_step(self, batch, batch_idx):\n",
                        "        x, y = batch\n",
                        "        y_hat = self(x)\n",
                        "        loss = nn.functional.mse_loss(y_hat, y)\n",
                        "        self.log(\"val_loss\", loss, prog_bar=True)\n",
                        "        self.log(\"val_mse\", self.val_metric(y_hat, y), prog_bar=True)\n",
                        "\n",
                        "    def on_validation_epoch_end(self):\n",
                        "        self.log(\"val_mse\", self.val_metric.compute())\n",
                        "        self.val_metric.reset()\n",
                        "        \n",
                        "    def configure_optimizers(self):\n",
                        "        return self.optimizer(self.network.parameters(), lr=self.lr, weight_decay=self.weight_decay)\n",
                        "    \n",
                        "    def test_step(self, batch, batch_idx):\n",
                        "        x, y = batch\n",
                        "        y_hat = self(x)\n",
                        "        loss = nn.functional.mse_loss(y_hat, y)\n",
                        "        self.log(\"test_loss\", loss, prog_bar=True)\n",
                        "        self.log(\"test_mse\", self.test_metric(y_hat, y), prog_bar=True)\n",
                        "        return loss\n",
                        "    \n",
                        "    def on_test_epoch_end(self):\n",
                        "        self.log(\"test_mse\", self.test_metric.compute())\n",
                        "        self.test_metric.reset()\n",
                        "\n",
                        "simple_nn = NNRegressor(\n",
                        "    input_dim=len(cancer_dm.ds_train[0][0]),\n",
                        "    n_layers=8\n",
                        ")"
                  ]
            },
            {
                  "cell_type": "code",
                  "execution_count": 12,
                  "metadata": {},
                  "outputs": [
                        {
                              "data": {
                                    "text/plain": [
                                          "==========================================================================================\n",
                                          "Layer (type:depth-idx)                   Output Shape              Param #\n",
                                          "==========================================================================================\n",
                                          "NNRegressor                              [1, 1]                    --\n",
                                          "├─Sequential: 1-1                        [1, 1]                    --\n",
                                          "│    └─Linear: 2-1                       [1, 1978]                 1,958,220\n",
                                          "│    └─BatchNorm1d: 2-2                  [1, 1978]                 3,956\n",
                                          "│    └─LeakyReLU: 2-3                    [1, 1978]                 --\n",
                                          "│    └─Dropout: 2-4                      [1, 1978]                 --\n",
                                          "│    └─Linear: 2-5                       [1, 3956]                 7,828,924\n",
                                          "│    └─BatchNorm1d: 2-6                  [1, 3956]                 7,912\n",
                                          "│    └─LeakyReLU: 2-7                    [1, 3956]                 --\n",
                                          "│    └─Dropout: 2-8                      [1, 3956]                 --\n",
                                          "│    └─Linear: 2-9                       [1, 7912]                 31,307,784\n",
                                          "│    └─BatchNorm1d: 2-10                 [1, 7912]                 15,824\n",
                                          "│    └─LeakyReLU: 2-11                   [1, 7912]                 --\n",
                                          "│    └─Dropout: 2-12                     [1, 7912]                 --\n",
                                          "│    └─Linear: 2-13                      [1, 15824]                125,215,312\n",
                                          "│    └─BatchNorm1d: 2-14                 [1, 15824]                31,648\n",
                                          "│    └─LeakyReLU: 2-15                   [1, 15824]                --\n",
                                          "│    └─Dropout: 2-16                     [1, 15824]                --\n",
                                          "│    └─Linear: 2-17                      [1, 7912]                 125,207,400\n",
                                          "│    └─BatchNorm1d: 2-18                 [1, 7912]                 15,824\n",
                                          "│    └─LeakyReLU: 2-19                   [1, 7912]                 --\n",
                                          "│    └─Dropout: 2-20                     [1, 7912]                 --\n",
                                          "│    └─Linear: 2-21                      [1, 3956]                 31,303,828\n",
                                          "│    └─BatchNorm1d: 2-22                 [1, 3956]                 7,912\n",
                                          "│    └─LeakyReLU: 2-23                   [1, 3956]                 --\n",
                                          "│    └─Dropout: 2-24                     [1, 3956]                 --\n",
                                          "│    └─Linear: 2-25                      [1, 1978]                 7,826,946\n",
                                          "│    └─BatchNorm1d: 2-26                 [1, 1978]                 3,956\n",
                                          "│    └─LeakyReLU: 2-27                   [1, 1978]                 --\n",
                                          "│    └─Dropout: 2-28                     [1, 1978]                 --\n",
                                          "│    └─Linear: 2-29                      [1, 989]                  1,957,231\n",
                                          "│    └─BatchNorm1d: 2-30                 [1, 989]                  1,978\n",
                                          "│    └─LeakyReLU: 2-31                   [1, 989]                  --\n",
                                          "│    └─Dropout: 2-32                     [1, 989]                  --\n",
                                          "│    └─Linear: 2-33                      [1, 1]                    990\n",
                                          "==========================================================================================\n",
                                          "Total params: 332,695,645\n",
                                          "Trainable params: 332,695,645\n",
                                          "Non-trainable params: 0\n",
                                          "Total mult-adds (Units.MEGABYTES): 332.70\n",
                                          "==========================================================================================\n",
                                          "Input size (MB): 0.00\n",
                                          "Forward/backward pass size (MB): 0.71\n",
                                          "Params size (MB): 1330.78\n",
                                          "Estimated Total Size (MB): 1331.50\n",
                                          "=========================================================================================="
                                    ]
                              },
                              "execution_count": 12,
                              "metadata": {},
                              "output_type": "execute_result"
                        }
                  ],
                  "source": [
                        "from torchinfo import summary\n",
                        "\n",
                        "input_dim = len(cancer_dm.ds_train[0][0])\n",
                        "summary(NNRegressor(\n",
                        "    input_dim=len(cancer_dm.ds_train[0][0]),\n",
                        "    n_layers=8\n",
                        "), input_size=(1, input_dim))"
                  ]
            },
            {
                  "cell_type": "code",
                  "execution_count": 13,
                  "metadata": {},
                  "outputs": [
                        {
                              "name": "stderr",
                              "output_type": "stream",
                              "text": [
                                    "/uufs/chpc.utah.edu/common/home/clementm-group1/conda/mambaforge/env/jt_bmi_6114_cpu/lib/python3.12/site-packages/lightning/fabric/plugins/environments/slurm.py:204: The `srun` command is available on your system but is not used. HINT: If your intention is to run Lightning on SLURM, prepend your python command with `srun` like so: srun python /uufs/chpc.utah.edu/common/home/clementm-group1/cond ...\n",
                                    "GPU available: False, used: False\n",
                                    "TPU available: False, using: 0 TPU cores\n",
                                    "HPU available: False, using: 0 HPUs\n",
                                    "\n",
                                    "  | Name        | Type             | Params | Mode \n",
                                    "---------------------------------------------------------\n",
                                    "0 | network     | Sequential       | 3.9 M  | train\n",
                                    "1 | loss_metric | MeanSquaredError | 0      | train\n",
                                    "2 | val_metric  | MeanSquaredError | 0      | train\n",
                                    "3 | test_metric | MeanSquaredError | 0      | train\n",
                                    "---------------------------------------------------------\n",
                                    "3.9 M     Trainable params\n",
                                    "0         Non-trainable params\n",
                                    "3.9 M     Total params\n",
                                    "15.689    Total estimated model params size (MB)\n",
                                    "13        Modules in train mode\n",
                                    "0         Modules in eval mode\n"
                              ]
                        },
                        {
                              "data": {
                                    "application/vnd.jupyter.widget-view+json": {
                                          "model_id": "04e091d31dc144fbad4c27ebe34274a4",
                                          "version_major": 2,
                                          "version_minor": 0
                                    },
                                    "text/plain": [
                                          "Sanity Checking: |          | 0/? [00:00<?, ?it/s]"
                                    ]
                              },
                              "metadata": {},
                              "output_type": "display_data"
                        },
                        {
                              "data": {
                                    "application/vnd.jupyter.widget-view+json": {
                                          "model_id": "00521e9fe2354292bee400160ef702c1",
                                          "version_major": 2,
                                          "version_minor": 0
                                    },
                                    "text/plain": [
                                          "Training: |          | 0/? [00:00<?, ?it/s]"
                                    ]
                              },
                              "metadata": {},
                              "output_type": "display_data"
                        },
                        {
                              "data": {
                                    "application/vnd.jupyter.widget-view+json": {
                                          "model_id": "127a6aee3b7645248710f72a3caee317",
                                          "version_major": 2,
                                          "version_minor": 0
                                    },
                                    "text/plain": [
                                          "Validation: |          | 0/? [00:00<?, ?it/s]"
                                    ]
                              },
                              "metadata": {},
                              "output_type": "display_data"
                        },
                        {
                              "data": {
                                    "application/vnd.jupyter.widget-view+json": {
                                          "model_id": "b1b3b8ac6ec442369c888a2617214072",
                                          "version_major": 2,
                                          "version_minor": 0
                                    },
                                    "text/plain": [
                                          "Validation: |          | 0/? [00:00<?, ?it/s]"
                                    ]
                              },
                              "metadata": {},
                              "output_type": "display_data"
                        },
                        {
                              "data": {
                                    "application/vnd.jupyter.widget-view+json": {
                                          "model_id": "5e2bfb6802534c298056c757279dab64",
                                          "version_major": 2,
                                          "version_minor": 0
                                    },
                                    "text/plain": [
                                          "Validation: |          | 0/? [00:00<?, ?it/s]"
                                    ]
                              },
                              "metadata": {},
                              "output_type": "display_data"
                        },
                        {
                              "data": {
                                    "application/vnd.jupyter.widget-view+json": {
                                          "model_id": "8303da451616496994b141e76dd4c19e",
                                          "version_major": 2,
                                          "version_minor": 0
                                    },
                                    "text/plain": [
                                          "Validation: |          | 0/? [00:00<?, ?it/s]"
                                    ]
                              },
                              "metadata": {},
                              "output_type": "display_data"
                        },
                        {
                              "data": {
                                    "application/vnd.jupyter.widget-view+json": {
                                          "model_id": "d44619eb70c94bc89f955cf23b2c7d28",
                                          "version_major": 2,
                                          "version_minor": 0
                                    },
                                    "text/plain": [
                                          "Validation: |          | 0/? [00:00<?, ?it/s]"
                                    ]
                              },
                              "metadata": {},
                              "output_type": "display_data"
                        }
                  ],
                  "source": [
                        "from utils.helper_functions import create_classifier_trainer\n",
                        "\n",
                        "trainer, regressor_csv_logger, regressor_checkpoint = create_classifier_trainer(\"cancer_regressor\")\n",
                        "cancer_regressor = NNRegressor(\n",
                        "    input_dim=len(cancer_dm.ds_train[0][0]),\n",
                        "    n_layers=2\n",
                        ")\n",
                        "trainer.fit(\n",
                        "    cancer_regressor,\n",
                        "    datamodule=CancerDataModule(cancer_df, numerical_features=numeric_cols, scaler=scaler),\n",
                        ")"
                  ]
            },
            {
                  "cell_type": "code",
                  "execution_count": 14,
                  "metadata": {},
                  "outputs": [
                        {
                              "name": "stderr",
                              "output_type": "stream",
                              "text": [
                                    "/uufs/chpc.utah.edu/common/home/clementm-group1/conda/mambaforge/env/jt_bmi_6114_cpu/lib/python3.12/site-packages/lightning/fabric/plugins/environments/slurm.py:204: The `srun` command is available on your system but is not used. HINT: If your intention is to run Lightning on SLURM, prepend your python command with `srun` like so: srun python /uufs/chpc.utah.edu/common/home/clementm-group1/cond ...\n"
                              ]
                        },
                        {
                              "data": {
                                    "application/vnd.jupyter.widget-view+json": {
                                          "model_id": "3b42d54f2f5d4068b7c06e761ba4d641",
                                          "version_major": 2,
                                          "version_minor": 0
                                    },
                                    "text/plain": [
                                          "Testing: |          | 0/? [00:00<?, ?it/s]"
                                    ]
                              },
                              "metadata": {},
                              "output_type": "display_data"
                        },
                        {
                              "data": {
                                    "text/html": [
                                          "<pre style=\"white-space:pre;overflow-x:auto;line-height:normal;font-family:Menlo,'DejaVu Sans Mono',consolas,'Courier New',monospace\">┏━━━━━━━━━━━━━━━━━━━━━━━━━━━┳━━━━━━━━━━━━━━━━━━━━━━━━━━━┓\n",
                                          "┃<span style=\"font-weight: bold\">        Test metric        </span>┃<span style=\"font-weight: bold\">       DataLoader 0        </span>┃\n",
                                          "┡━━━━━━━━━━━━━━━━━━━━━━━━━━━╇━━━━━━━━━━━━━━━━━━━━━━━━━━━┩\n",
                                          "│<span style=\"color: #008080; text-decoration-color: #008080\">         test_loss         </span>│<span style=\"color: #800080; text-decoration-color: #800080\">     707.0477905273438     </span>│\n",
                                          "│<span style=\"color: #008080; text-decoration-color: #008080\">         test_mse          </span>│<span style=\"color: #800080; text-decoration-color: #800080\">     707.0477905273438     </span>│\n",
                                          "└───────────────────────────┴───────────────────────────┘\n",
                                          "</pre>\n"
                                    ],
                                    "text/plain": [
                                          "┏━━━━━━━━━━━━━━━━━━━━━━━━━━━┳━━━━━━━━━━━━━━━━━━━━━━━━━━━┓\n",
                                          "┃\u001b[1m \u001b[0m\u001b[1m       Test metric       \u001b[0m\u001b[1m \u001b[0m┃\u001b[1m \u001b[0m\u001b[1m      DataLoader 0       \u001b[0m\u001b[1m \u001b[0m┃\n",
                                          "┡━━━━━━━━━━━━━━━━━━━━━━━━━━━╇━━━━━━━━━━━━━━━━━━━━━━━━━━━┩\n",
                                          "│\u001b[36m \u001b[0m\u001b[36m        test_loss        \u001b[0m\u001b[36m \u001b[0m│\u001b[35m \u001b[0m\u001b[35m    707.0477905273438    \u001b[0m\u001b[35m \u001b[0m│\n",
                                          "│\u001b[36m \u001b[0m\u001b[36m        test_mse         \u001b[0m\u001b[36m \u001b[0m│\u001b[35m \u001b[0m\u001b[35m    707.0477905273438    \u001b[0m\u001b[35m \u001b[0m│\n",
                                          "└───────────────────────────┴───────────────────────────┘\n"
                                    ]
                              },
                              "metadata": {},
                              "output_type": "display_data"
                        },
                        {
                              "data": {
                                    "text/plain": [
                                          "[{'test_loss': 707.0477905273438, 'test_mse': 707.0477905273438}]"
                                    ]
                              },
                              "execution_count": 14,
                              "metadata": {},
                              "output_type": "execute_result"
                        }
                  ],
                  "source": [
                        "trainer.test(\n",
                        "    model=cancer_regressor,\n",
                        "    datamodule=CancerDataModule(cancer_df, numerical_features=numeric_cols, scaler=scaler),\n",
                        ")"
                  ]
            },
            {
                  "cell_type": "code",
                  "execution_count": 15,
                  "metadata": {},
                  "outputs": [
                        {
                              "data": {
                                    "image/png": "[encoded data removed]",
                                    "text/plain": [
                                          "<Figure size 1000x600 with 1 Axes>"
                                    ]
                              },
                              "metadata": {},
                              "output_type": "display_data"
                        }
                  ],
                  "source": [
                        "def plot_regression_results(model, dataloader):\n",
                        "    model.eval()\n",
                        "    y_true = []\n",
                        "    y_pred = []\n",
                        "    with torch.no_grad():\n",
                        "        for batch in dataloader:\n",
                        "            x, y = batch\n",
                        "            y_hat = model(x)\n",
                        "            y_true.append(y)\n",
                        "            y_pred.append(y_hat)\n",
                        "\n",
                        "    y_true = torch.cat(y_true).numpy()\n",
                        "    y_pred = torch.cat(y_pred).numpy()\n",
                        "\n",
                        "    plt.figure(figsize=(10, 6))\n",
                        "    plt.scatter(y_true, y_pred, alpha=0.5)\n",
                        "    plt.plot([y_true.min(), y_true.max()], [y_true.min(), y_true.max()], 'r--')\n",
                        "    plt.xlabel('True Values')\n",
                        "    plt.ylabel('Predictions')\n",
                        "    plt.title('Regression Results')\n",
                        "    plt.show()\n",
                        "plot_regression_results(cancer_regressor, cancer_dm.test_dataloader())"
                  ]
            },
            {
                  "cell_type": "code",
                  "execution_count": 16,
                  "metadata": {},
                  "outputs": [],
                  "source": [
                        "import optuna\n",
                        "\n",
                        "trial_to_details = {}\n",
                        "def objective(trial):\n",
                        "    # Sample hyperparameters\n",
                        "    activation_dict = {\n",
                        "        \"relu\": nn.ReLU,\n",
                        "        \"leaky_relu\": nn.LeakyReLU,\n",
                        "        \"tanh\": nn.Tanh,\n",
                        "        \"RReLU\": nn.RReLU,\n",
                        "    }\n",
                        "    optimizer_dict = {\n",
                        "        \"adam\": torch.optim.Adam,\n",
                        "        \"sgd\": torch.optim.SGD,\n",
                        "        \"adagrad\": torch.optim.Adagrad,\n",
                        "    }\n",
                        "    n_layers = trial.suggest_int(\"n_layers\", 3, 5)\n",
                        "    dropout = trial.suggest_float(\"dropout\", 0.0, 0.5)\n",
                        "    learning_rate = trial.suggest_float(\"learning_rate\", 1e-5, 1e-2, log=True)\n",
                        "    weight_decay = trial.suggest_float(\"weight_decay\", 1e-5, 1e-2, log=True)\n",
                        "    optimizer = trial.suggest_categorical(\"optimizer\", list(optimizer_dict.keys()))\n",
                        "    activation = trial.suggest_categorical(\"activation\", list(activation_dict.keys()) )\n",
                        "\n",
                        "    activation = activation_dict[activation]\n",
                        "    optimizer = optimizer_dict[optimizer]\n",
                        "\n",
                        "    model =NNRegressor(\n",
                        "        input_dim=len(cancer_dm.ds_train[0][0]),\n",
                        "        n_layers=n_layers,\n",
                        "        dropout=dropout,\n",
                        "        activation=activation,\n",
                        "        optimizer=optimizer,\n",
                        "        lr=learning_rate,\n",
                        "        weight_decay=weight_decay,\n",
                        "    )\n",
                        "    trainer, logger, checkpoint = create_classifier_trainer(f\"nn_trial_{trial.number}\", max_epochs=50, enable_pbar=False)\n",
                        "\n",
                        "\n",
                        "    # Training loop\n",
                        "    trainer.fit(\n",
                        "        model,\n",
                        "        datamodule=CancerDataModule(cancer_df, numerical_features=numeric_cols, scaler=scaler),\n",
                        "    )\n",
                        "    trial_to_details[trial.number] = {\n",
                        "        \"logger\" : logger,\n",
                        "        \"checkpoint\" : checkpoint,\n",
                        "    }\n",
                        "\n",
                        "    \n",
                        "    # Store trial details\n",
                        "    trial_to_details[trial.number] = {\n",
                        "        \"logger\" : logger,\n",
                        "        \"checkpoint\" : checkpoint,\n",
                        "    }\n",
                        "    metrics_path = f\"{logger.log_dir}/metrics.csv\"\n",
                        "    metrics_df = pd.read_csv(metrics_path)\n",
                        "\n",
                        "    if \"val_mse\" not in metrics_df.columns:\n",
                        "        return float(\"inf\")\n",
                        "\n",
                        "    last_val = metrics_df[\"val_mse\"].dropna().values[-1]\n",
                        "    return last_val"
                  ]
            },
            {
                  "cell_type": "code",
                  "execution_count": 17,
                  "metadata": {},
                  "outputs": [
                        {
                              "name": "stderr",
                              "output_type": "stream",
                              "text": [
                                    "[I 2025-04-18 13:49:22,657] A new study created in memory with name: deep_regressor_study\n"
                              ]
                        },
                        {
                              "data": {
                                    "application/vnd.jupyter.widget-view+json": {
                                          "model_id": "f8048a35ee424a6f8f506fe4bc7755f0",
                                          "version_major": 2,
                                          "version_minor": 0
                                    },
                                    "text/plain": [
                                          "  0%|          | 0/20 [00:00<?, ?it/s]"
                                    ]
                              },
                              "metadata": {},
                              "output_type": "display_data"
                        },
                        {
                              "name": "stderr",
                              "output_type": "stream",
                              "text": [
                                    "/uufs/chpc.utah.edu/common/home/clementm-group1/conda/mambaforge/env/jt_bmi_6114_cpu/lib/python3.12/site-packages/lightning/fabric/plugins/environments/slurm.py:204: The `srun` command is available on your system but is not used. HINT: If your intention is to run Lightning on SLURM, prepend your python command with `srun` like so: srun python /uufs/chpc.utah.edu/common/home/clementm-group1/cond ...\n",
                                    "GPU available: False, used: False\n",
                                    "TPU available: False, using: 0 TPU cores\n",
                                    "HPU available: False, using: 0 HPUs\n",
                                    "\n",
                                    "  | Name        | Type             | Params | Mode \n",
                                    "---------------------------------------------------------\n",
                                    "0 | network     | Sequential       | 20.1 M | train\n",
                                    "1 | loss_metric | MeanSquaredError | 0      | train\n",
                                    "2 | val_metric  | MeanSquaredError | 0      | train\n",
                                    "3 | test_metric | MeanSquaredError | 0      | train\n",
                                    "---------------------------------------------------------\n",
                                    "20.1 M    Trainable params\n",
                                    "0         Non-trainable params\n",
                                    "20.1 M    Total params\n",
                                    "80.319    Total estimated model params size (MB)\n",
                                    "25        Modules in train mode\n",
                                    "0         Modules in eval mode\n",
                                    "/uufs/chpc.utah.edu/common/home/clementm-group1/conda/mambaforge/env/jt_bmi_6114_cpu/lib/python3.12/site-packages/lightning/fabric/plugins/environments/slurm.py:204: The `srun` command is available on your system but is not used. HINT: If your intention is to run Lightning on SLURM, prepend your python command with `srun` like so: srun python /uufs/chpc.utah.edu/common/home/clementm-group1/cond ...\n",
                                    "GPU available: False, used: False\n",
                                    "TPU available: False, using: 0 TPU cores\n",
                                    "HPU available: False, using: 0 HPUs\n"
                              ]
                        },
                        {
                              "name": "stdout",
                              "output_type": "stream",
                              "text": [
                                    "[I 2025-04-18 13:49:53,304] Trial 0 finished with value: 1191.63037109375 and parameters: {'n_layers': 5, 'dropout': 0.0021227732586187598, 'learning_rate': 0.00021708731716829535, 'weight_decay': 0.00022407005175592289, 'optimizer': 'sgd', 'activation': 'relu'}. Best is trial 0 with value: 1191.63037109375.\n"
                              ]
                        },
                        {
                              "name": "stderr",
                              "output_type": "stream",
                              "text": [
                                    "\n",
                                    "  | Name        | Type             | Params | Mode \n",
                                    "---------------------------------------------------------\n",
                                    "0 | network     | Sequential       | 4.4 M  | train\n",
                                    "1 | loss_metric | MeanSquaredError | 0      | train\n",
                                    "2 | val_metric  | MeanSquaredError | 0      | train\n",
                                    "3 | test_metric | MeanSquaredError | 0      | train\n",
                                    "---------------------------------------------------------\n",
                                    "4.4 M     Trainable params\n",
                                    "0         Non-trainable params\n",
                                    "4.4 M     Total params\n",
                                    "17.648    Total estimated model params size (MB)\n",
                                    "17        Modules in train mode\n",
                                    "0         Modules in eval mode\n",
                                    "/uufs/chpc.utah.edu/common/home/clementm-group1/conda/mambaforge/env/jt_bmi_6114_cpu/lib/python3.12/site-packages/lightning/fabric/plugins/environments/slurm.py:204: The `srun` command is available on your system but is not used. HINT: If your intention is to run Lightning on SLURM, prepend your python command with `srun` like so: srun python /uufs/chpc.utah.edu/common/home/clementm-group1/cond ...\n",
                                    "GPU available: False, used: False\n",
                                    "TPU available: False, using: 0 TPU cores\n",
                                    "HPU available: False, using: 0 HPUs\n"
                              ]
                        },
                        {
                              "name": "stdout",
                              "output_type": "stream",
                              "text": [
                                    "[I 2025-04-18 13:50:15,318] Trial 1 finished with value: 996.5505981445312 and parameters: {'n_layers': 3, 'dropout': 0.26329900333334655, 'learning_rate': 0.002213898599135134, 'weight_decay': 0.00012257711294837327, 'optimizer': 'adagrad', 'activation': 'RReLU'}. Best is trial 1 with value: 996.5505981445312.\n"
                              ]
                        },
                        {
                              "name": "stderr",
                              "output_type": "stream",
                              "text": [
                                    "\n",
                                    "  | Name        | Type             | Params | Mode \n",
                                    "---------------------------------------------------------\n",
                                    "0 | network     | Sequential       | 20.1 M | train\n",
                                    "1 | loss_metric | MeanSquaredError | 0      | train\n",
                                    "2 | val_metric  | MeanSquaredError | 0      | train\n",
                                    "3 | test_metric | MeanSquaredError | 0      | train\n",
                                    "---------------------------------------------------------\n",
                                    "20.1 M    Trainable params\n",
                                    "0         Non-trainable params\n",
                                    "20.1 M    Total params\n",
                                    "80.319    Total estimated model params size (MB)\n",
                                    "25        Modules in train mode\n",
                                    "0         Modules in eval mode\n",
                                    "/uufs/chpc.utah.edu/common/home/clementm-group1/conda/mambaforge/env/jt_bmi_6114_cpu/lib/python3.12/site-packages/lightning/fabric/plugins/environments/slurm.py:204: The `srun` command is available on your system but is not used. HINT: If your intention is to run Lightning on SLURM, prepend your python command with `srun` like so: srun python /uufs/chpc.utah.edu/common/home/clementm-group1/cond ...\n",
                                    "GPU available: False, used: False\n",
                                    "TPU available: False, using: 0 TPU cores\n",
                                    "HPU available: False, using: 0 HPUs\n",
                                    "\n",
                                    "  | Name        | Type             | Params | Mode \n",
                                    "---------------------------------------------------------\n",
                                    "0 | network     | Sequential       | 4.4 M  | train\n",
                                    "1 | loss_metric | MeanSquaredError | 0      | train\n",
                                    "2 | val_metric  | MeanSquaredError | 0      | train\n",
                                    "3 | test_metric | MeanSquaredError | 0      | train\n",
                                    "---------------------------------------------------------\n",
                                    "4.4 M     Trainable params\n",
                                    "0         Non-trainable params\n",
                                    "4.4 M     Total params\n",
                                    "17.648    Total estimated model params size (MB)\n",
                                    "17        Modules in train mode\n",
                                    "0         Modules in eval mode\n"
                              ]
                        },
                        {
                              "name": "stdout",
                              "output_type": "stream",
                              "text": [
                                    "[I 2025-04-18 13:50:49,465] Trial 2 finished with value: 1007.9511108398438 and parameters: {'n_layers': 5, 'dropout': 0.19927828981944895, 'learning_rate': 0.0013371950440312494, 'weight_decay': 2.018741862567718e-05, 'optimizer': 'adagrad', 'activation': 'RReLU'}. Best is trial 1 with value: 996.5505981445312.\n"
                              ]
                        },
                        {
                              "name": "stderr",
                              "output_type": "stream",
                              "text": [
                                    "/uufs/chpc.utah.edu/common/home/clementm-group1/conda/mambaforge/env/jt_bmi_6114_cpu/lib/python3.12/site-packages/lightning/fabric/plugins/environments/slurm.py:204: The `srun` command is available on your system but is not used. HINT: If your intention is to run Lightning on SLURM, prepend your python command with `srun` like so: srun python /uufs/chpc.utah.edu/common/home/clementm-group1/cond ...\n",
                                    "GPU available: False, used: False\n",
                                    "TPU available: False, using: 0 TPU cores\n",
                                    "HPU available: False, using: 0 HPUs\n"
                              ]
                        },
                        {
                              "name": "stdout",
                              "output_type": "stream",
                              "text": [
                                    "[I 2025-04-18 13:51:14,157] Trial 3 finished with value: 1035.9273681640625 and parameters: {'n_layers': 3, 'dropout': 0.06489228784092682, 'learning_rate': 0.000579579883495931, 'weight_decay': 0.002656429992929666, 'optimizer': 'adagrad', 'activation': 'RReLU'}. Best is trial 1 with value: 996.5505981445312.\n"
                              ]
                        },
                        {
                              "name": "stderr",
                              "output_type": "stream",
                              "text": [
                                    "\n",
                                    "  | Name        | Type             | Params | Mode \n",
                                    "---------------------------------------------------------\n",
                                    "0 | network     | Sequential       | 19.6 M | train\n",
                                    "1 | loss_metric | MeanSquaredError | 0      | train\n",
                                    "2 | val_metric  | MeanSquaredError | 0      | train\n",
                                    "3 | test_metric | MeanSquaredError | 0      | train\n",
                                    "---------------------------------------------------------\n",
                                    "19.6 M    Trainable params\n",
                                    "0         Non-trainable params\n",
                                    "19.6 M    Total params\n",
                                    "78.360    Total estimated model params size (MB)\n",
                                    "21        Modules in train mode\n",
                                    "0         Modules in eval mode\n",
                                    "/uufs/chpc.utah.edu/common/home/clementm-group1/conda/mambaforge/env/jt_bmi_6114_cpu/lib/python3.12/site-packages/lightning/fabric/plugins/environments/slurm.py:204: The `srun` command is available on your system but is not used. HINT: If your intention is to run Lightning on SLURM, prepend your python command with `srun` like so: srun python /uufs/chpc.utah.edu/common/home/clementm-group1/cond ...\n",
                                    "GPU available: False, used: False\n",
                                    "TPU available: False, using: 0 TPU cores\n",
                                    "HPU available: False, using: 0 HPUs\n",
                                    "\n",
                                    "  | Name        | Type             | Params | Mode \n",
                                    "---------------------------------------------------------\n",
                                    "0 | network     | Sequential       | 4.4 M  | train\n",
                                    "1 | loss_metric | MeanSquaredError | 0      | train\n",
                                    "2 | val_metric  | MeanSquaredError | 0      | train\n",
                                    "3 | test_metric | MeanSquaredError | 0      | train\n",
                                    "---------------------------------------------------------\n",
                                    "4.4 M     Trainable params\n",
                                    "0         Non-trainable params\n",
                                    "4.4 M     Total params\n",
                                    "17.648    Total estimated model params size (MB)\n",
                                    "17        Modules in train mode\n",
                                    "0         Modules in eval mode\n"
                              ]
                        },
                        {
                              "name": "stdout",
                              "output_type": "stream",
                              "text": [
                                    "[I 2025-04-18 13:51:59,115] Trial 4 finished with value: 946.7095336914062 and parameters: {'n_layers': 4, 'dropout': 0.20656814247628202, 'learning_rate': 0.0006362352181130568, 'weight_decay': 0.0005918608310476051, 'optimizer': 'adagrad', 'activation': 'leaky_relu'}. Best is trial 4 with value: 946.7095336914062.\n"
                              ]
                        },
                        {
                              "name": "stderr",
                              "output_type": "stream",
                              "text": [
                                    "/uufs/chpc.utah.edu/common/home/clementm-group1/conda/mambaforge/env/jt_bmi_6114_cpu/lib/python3.12/site-packages/lightning/fabric/plugins/environments/slurm.py:204: The `srun` command is available on your system but is not used. HINT: If your intention is to run Lightning on SLURM, prepend your python command with `srun` like so: srun python /uufs/chpc.utah.edu/common/home/clementm-group1/cond ...\n",
                                    "GPU available: False, used: False\n",
                                    "TPU available: False, using: 0 TPU cores\n",
                                    "HPU available: False, using: 0 HPUs\n"
                              ]
                        },
                        {
                              "name": "stdout",
                              "output_type": "stream",
                              "text": [
                                    "[I 2025-04-18 13:52:15,974] Trial 5 finished with value: 1045.6732177734375 and parameters: {'n_layers': 3, 'dropout': 0.16910991945813086, 'learning_rate': 8.617133775736452e-05, 'weight_decay': 5.996468048108696e-05, 'optimizer': 'adam', 'activation': 'tanh'}. Best is trial 4 with value: 946.7095336914062.\n"
                              ]
                        },
                        {
                              "name": "stderr",
                              "output_type": "stream",
                              "text": [
                                    "\n",
                                    "  | Name        | Type             | Params | Mode \n",
                                    "---------------------------------------------------------\n",
                                    "0 | network     | Sequential       | 19.6 M | train\n",
                                    "1 | loss_metric | MeanSquaredError | 0      | train\n",
                                    "2 | val_metric  | MeanSquaredError | 0      | train\n",
                                    "3 | test_metric | MeanSquaredError | 0      | train\n",
                                    "---------------------------------------------------------\n",
                                    "19.6 M    Trainable params\n",
                                    "0         Non-trainable params\n",
                                    "19.6 M    Total params\n",
                                    "78.360    Total estimated model params size (MB)\n",
                                    "21        Modules in train mode\n",
                                    "0         Modules in eval mode\n",
                                    "/uufs/chpc.utah.edu/common/home/clementm-group1/conda/mambaforge/env/jt_bmi_6114_cpu/lib/python3.12/site-packages/lightning/fabric/plugins/environments/slurm.py:204: The `srun` command is available on your system but is not used. HINT: If your intention is to run Lightning on SLURM, prepend your python command with `srun` like so: srun python /uufs/chpc.utah.edu/common/home/clementm-group1/cond ...\n",
                                    "GPU available: False, used: False\n",
                                    "TPU available: False, using: 0 TPU cores\n",
                                    "HPU available: False, using: 0 HPUs\n"
                              ]
                        },
                        {
                              "name": "stdout",
                              "output_type": "stream",
                              "text": [
                                    "[I 2025-04-18 13:53:03,640] Trial 6 finished with value: 900.8089599609376 and parameters: {'n_layers': 4, 'dropout': 0.1752232759117111, 'learning_rate': 0.0052380002331550105, 'weight_decay': 2.3481011673332834e-05, 'optimizer': 'adam', 'activation': 'tanh'}. Best is trial 6 with value: 900.8089599609376.\n"
                              ]
                        },
                        {
                              "name": "stderr",
                              "output_type": "stream",
                              "text": [
                                    "\n",
                                    "  | Name        | Type             | Params | Mode \n",
                                    "---------------------------------------------------------\n",
                                    "0 | network     | Sequential       | 19.6 M | train\n",
                                    "1 | loss_metric | MeanSquaredError | 0      | train\n",
                                    "2 | val_metric  | MeanSquaredError | 0      | train\n",
                                    "3 | test_metric | MeanSquaredError | 0      | train\n",
                                    "---------------------------------------------------------\n",
                                    "19.6 M    Trainable params\n",
                                    "0         Non-trainable params\n",
                                    "19.6 M    Total params\n",
                                    "78.360    Total estimated model params size (MB)\n",
                                    "21        Modules in train mode\n",
                                    "0         Modules in eval mode\n",
                                    "/uufs/chpc.utah.edu/common/home/clementm-group1/conda/mambaforge/env/jt_bmi_6114_cpu/lib/python3.12/site-packages/lightning/fabric/plugins/environments/slurm.py:204: The `srun` command is available on your system but is not used. HINT: If your intention is to run Lightning on SLURM, prepend your python command with `srun` like so: srun python /uufs/chpc.utah.edu/common/home/clementm-group1/cond ...\n",
                                    "GPU available: False, used: False\n",
                                    "TPU available: False, using: 0 TPU cores\n",
                                    "HPU available: False, using: 0 HPUs\n",
                                    "\n",
                                    "  | Name        | Type             | Params | Mode \n",
                                    "---------------------------------------------------------\n",
                                    "0 | network     | Sequential       | 4.4 M  | train\n",
                                    "1 | loss_metric | MeanSquaredError | 0      | train\n",
                                    "2 | val_metric  | MeanSquaredError | 0      | train\n",
                                    "3 | test_metric | MeanSquaredError | 0      | train\n",
                                    "---------------------------------------------------------\n",
                                    "4.4 M     Trainable params\n",
                                    "0         Non-trainable params\n",
                                    "4.4 M     Total params\n",
                                    "17.648    Total estimated model params size (MB)\n",
                                    "17        Modules in train mode\n",
                                    "0         Modules in eval mode\n"
                              ]
                        },
                        {
                              "name": "stdout",
                              "output_type": "stream",
                              "text": [
                                    "[I 2025-04-18 13:53:51,410] Trial 7 finished with value: 927.6361083984376 and parameters: {'n_layers': 4, 'dropout': 0.05252545075398035, 'learning_rate': 0.006001997525276991, 'weight_decay': 1.4342716340038488e-05, 'optimizer': 'adam', 'activation': 'relu'}. Best is trial 6 with value: 900.8089599609376.\n"
                              ]
                        },
                        {
                              "name": "stderr",
                              "output_type": "stream",
                              "text": [
                                    "\n",
                                    "Detected KeyboardInterrupt, attempting graceful shutdown ...\n"
                              ]
                        },
                        {
                              "name": "stdout",
                              "output_type": "stream",
                              "text": [
                                    "[W 2025-04-18 14:33:21,497] Trial 8 failed with parameters: {'n_layers': 3, 'dropout': 0.4040536456725414, 'learning_rate': 6.275007661273851e-05, 'weight_decay': 0.0002557093586781532, 'optimizer': 'sgd', 'activation': 'tanh'} because of the following error: NameError(\"name 'exit' is not defined\").\n",
                                    "Traceback (most recent call last):\n",
                                    "  File \"/uufs/chpc.utah.edu/common/home/clementm-group1/conda/mambaforge/env/jt_bmi_6114_cpu/lib/python3.12/site-packages/lightning/pytorch/trainer/call.py\", line 48, in _call_and_handle_interrupt\n",
                                    "    return trainer_fn(*args, **kwargs)\n",
                                    "           ^^^^^^^^^^^^^^^^^^^^^^^^^^^\n",
                                    "  File \"/uufs/chpc.utah.edu/common/home/clementm-group1/conda/mambaforge/env/jt_bmi_6114_cpu/lib/python3.12/site-packages/lightning/pytorch/trainer/trainer.py\", line 599, in _fit_impl\n",
                                    "    self._run(model, ckpt_path=ckpt_path)\n",
                                    "  File \"/uufs/chpc.utah.edu/common/home/clementm-group1/conda/mambaforge/env/jt_bmi_6114_cpu/lib/python3.12/site-packages/lightning/pytorch/trainer/trainer.py\", line 1012, in _run\n",
                                    "    results = self._run_stage()\n",
                                    "              ^^^^^^^^^^^^^^^^^\n",
                                    "  File \"/uufs/chpc.utah.edu/common/home/clementm-group1/conda/mambaforge/env/jt_bmi_6114_cpu/lib/python3.12/site-packages/lightning/pytorch/trainer/trainer.py\", line 1056, in _run_stage\n",
                                    "    self.fit_loop.run()\n",
                                    "  File \"/uufs/chpc.utah.edu/common/home/clementm-group1/conda/mambaforge/env/jt_bmi_6114_cpu/lib/python3.12/site-packages/lightning/pytorch/loops/fit_loop.py\", line 216, in run\n",
                                    "    self.advance()\n",
                                    "  File \"/uufs/chpc.utah.edu/common/home/clementm-group1/conda/mambaforge/env/jt_bmi_6114_cpu/lib/python3.12/site-packages/lightning/pytorch/loops/fit_loop.py\", line 455, in advance\n",
                                    "    self.epoch_loop.run(self._data_fetcher)\n",
                                    "  File \"/uufs/chpc.utah.edu/common/home/clementm-group1/conda/mambaforge/env/jt_bmi_6114_cpu/lib/python3.12/site-packages/lightning/pytorch/loops/training_epoch_loop.py\", line 150, in run\n",
                                    "    self.advance(data_fetcher)\n",
                                    "  File \"/uufs/chpc.utah.edu/common/home/clementm-group1/conda/mambaforge/env/jt_bmi_6114_cpu/lib/python3.12/site-packages/lightning/pytorch/loops/training_epoch_loop.py\", line 282, in advance\n",
                                    "    batch, _, __ = next(data_fetcher)\n",
                                    "                   ^^^^^^^^^^^^^^^^^^\n",
                                    "  File \"/uufs/chpc.utah.edu/common/home/clementm-group1/conda/mambaforge/env/jt_bmi_6114_cpu/lib/python3.12/site-packages/lightning/pytorch/loops/fetchers.py\", line 134, in __next__\n",
                                    "    batch = super().__next__()\n",
                                    "            ^^^^^^^^^^^^^^^^^^\n",
                                    "  File \"/uufs/chpc.utah.edu/common/home/clementm-group1/conda/mambaforge/env/jt_bmi_6114_cpu/lib/python3.12/site-packages/lightning/pytorch/loops/fetchers.py\", line 61, in __next__\n",
                                    "    batch = next(self.iterator)\n",
                                    "            ^^^^^^^^^^^^^^^^^^^\n",
                                    "  File \"/uufs/chpc.utah.edu/common/home/clementm-group1/conda/mambaforge/env/jt_bmi_6114_cpu/lib/python3.12/site-packages/lightning/pytorch/utilities/combined_loader.py\", line 341, in __next__\n",
                                    "    out = next(self._iterator)\n",
                                    "          ^^^^^^^^^^^^^^^^^^^^\n",
                                    "  File \"/uufs/chpc.utah.edu/common/home/clementm-group1/conda/mambaforge/env/jt_bmi_6114_cpu/lib/python3.12/site-packages/lightning/pytorch/utilities/combined_loader.py\", line 78, in __next__\n",
                                    "    out[i] = next(self.iterators[i])\n",
                                    "             ^^^^^^^^^^^^^^^^^^^^^^^\n",
                                    "  File \"/uufs/chpc.utah.edu/common/home/clementm-group1/conda/mambaforge/env/jt_bmi_6114_cpu/lib/python3.12/site-packages/torch/utils/data/dataloader.py\", line 701, in __next__\n",
                                    "    data = self._next_data()\n",
                                    "           ^^^^^^^^^^^^^^^^^\n",
                                    "  File \"/uufs/chpc.utah.edu/common/home/clementm-group1/conda/mambaforge/env/jt_bmi_6114_cpu/lib/python3.12/site-packages/torch/utils/data/dataloader.py\", line 1448, in _next_data\n",
                                    "    idx, data = self._get_data()\n",
                                    "                ^^^^^^^^^^^^^^^^\n",
                                    "  File \"/uufs/chpc.utah.edu/common/home/clementm-group1/conda/mambaforge/env/jt_bmi_6114_cpu/lib/python3.12/site-packages/torch/utils/data/dataloader.py\", line 1412, in _get_data\n",
                                    "    success, data = self._try_get_data()\n",
                                    "                    ^^^^^^^^^^^^^^^^^^^^\n",
                                    "  File \"/uufs/chpc.utah.edu/common/home/clementm-group1/conda/mambaforge/env/jt_bmi_6114_cpu/lib/python3.12/site-packages/torch/utils/data/dataloader.py\", line 1243, in _try_get_data\n",
                                    "    data = self._data_queue.get(timeout=timeout)\n",
                                    "           ^^^^^^^^^^^^^^^^^^^^^^^^^^^^^^^^^^^^^\n",
                                    "  File \"/uufs/chpc.utah.edu/common/home/clementm-group1/conda/mambaforge/env/jt_bmi_6114_cpu/lib/python3.12/multiprocessing/queues.py\", line 113, in get\n",
                                    "    if not self._poll(timeout):\n",
                                    "           ^^^^^^^^^^^^^^^^^^^\n",
                                    "  File \"/uufs/chpc.utah.edu/common/home/clementm-group1/conda/mambaforge/env/jt_bmi_6114_cpu/lib/python3.12/multiprocessing/connection.py\", line 257, in poll\n",
                                    "    return self._poll(timeout)\n",
                                    "           ^^^^^^^^^^^^^^^^^^^\n",
                                    "  File \"/uufs/chpc.utah.edu/common/home/clementm-group1/conda/mambaforge/env/jt_bmi_6114_cpu/lib/python3.12/multiprocessing/connection.py\", line 440, in _poll\n",
                                    "    r = wait([self], timeout)\n",
                                    "        ^^^^^^^^^^^^^^^^^^^^^\n",
                                    "  File \"/uufs/chpc.utah.edu/common/home/clementm-group1/conda/mambaforge/env/jt_bmi_6114_cpu/lib/python3.12/multiprocessing/connection.py\", line 1136, in wait\n",
                                    "    ready = selector.select(timeout)\n",
                                    "            ^^^^^^^^^^^^^^^^^^^^^^^^\n",
                                    "  File \"/uufs/chpc.utah.edu/common/home/clementm-group1/conda/mambaforge/env/jt_bmi_6114_cpu/lib/python3.12/selectors.py\", line 415, in select\n",
                                    "    fd_event_list = self._selector.poll(timeout)\n",
                                    "                    ^^^^^^^^^^^^^^^^^^^^^^^^^^^^\n",
                                    "KeyboardInterrupt\n",
                                    "\n",
                                    "During handling of the above exception, another exception occurred:\n",
                                    "\n",
                                    "Traceback (most recent call last):\n",
                                    "  File \"/uufs/chpc.utah.edu/common/home/clementm-group1/conda/mambaforge/env/jt_bmi_6114_cpu/lib/python3.12/site-packages/optuna/study/_optimize.py\", line 197, in _run_trial\n",
                                    "    value_or_values = func(trial)\n",
                                    "                      ^^^^^^^^^^^\n",
                                    "  File \"/tmp/ipykernel_2219809/245263797.py\", line 40, in objective\n",
                                    "    trainer.fit(\n",
                                    "  File \"/uufs/chpc.utah.edu/common/home/clementm-group1/conda/mambaforge/env/jt_bmi_6114_cpu/lib/python3.12/site-packages/lightning/pytorch/trainer/trainer.py\", line 561, in fit\n",
                                    "    call._call_and_handle_interrupt(\n",
                                    "  File \"/uufs/chpc.utah.edu/common/home/clementm-group1/conda/mambaforge/env/jt_bmi_6114_cpu/lib/python3.12/site-packages/lightning/pytorch/trainer/call.py\", line 65, in _call_and_handle_interrupt\n",
                                    "    exit(1)\n",
                                    "    ^^^^\n",
                                    "NameError: name 'exit' is not defined\n",
                                    "[W 2025-04-18 14:33:21,502] Trial 8 failed with value None.\n"
                              ]
                        },
                        {
                              "ename": "NameError",
                              "evalue": "name 'exit' is not defined",
                              "output_type": "error",
                              "traceback": [
                                    "\u001b[31m---------------------------------------------------------------------------\u001b[39m",
                                    "\u001b[31mKeyboardInterrupt\u001b[39m                         Traceback (most recent call last)",
                                    "\u001b[36mFile \u001b[39m\u001b[32m/uufs/chpc.utah.edu/common/home/clementm-group1/conda/mambaforge/env/jt_bmi_6114_cpu/lib/python3.12/site-packages/lightning/pytorch/trainer/call.py:48\u001b[39m, in \u001b[36m_call_and_handle_interrupt\u001b[39m\u001b[34m(trainer, trainer_fn, *args, **kwargs)\u001b[39m\n\u001b[32m     47\u001b[39m         \u001b[38;5;28;01mreturn\u001b[39;00m trainer.strategy.launcher.launch(trainer_fn, *args, trainer=trainer, **kwargs)\n\u001b[32m---> \u001b[39m\u001b[32m48\u001b[39m     \u001b[38;5;28;01mreturn\u001b[39;00m \u001b[43mtrainer_fn\u001b[49m\u001b[43m(\u001b[49m\u001b[43m*\u001b[49m\u001b[43margs\u001b[49m\u001b[43m,\u001b[49m\u001b[43m \u001b[49m\u001b[43m*\u001b[49m\u001b[43m*\u001b[49m\u001b[43mkwargs\u001b[49m\u001b[43m)\u001b[49m\n\u001b[32m     50\u001b[39m \u001b[38;5;28;01mexcept\u001b[39;00m _TunerExitException:\n",
                                    "\u001b[36mFile \u001b[39m\u001b[32m/uufs/chpc.utah.edu/common/home/clementm-group1/conda/mambaforge/env/jt_bmi_6114_cpu/lib/python3.12/site-packages/lightning/pytorch/trainer/trainer.py:599\u001b[39m, in \u001b[36mTrainer._fit_impl\u001b[39m\u001b[34m(self, model, train_dataloaders, val_dataloaders, datamodule, ckpt_path)\u001b[39m\n\u001b[32m    593\u001b[39m ckpt_path = \u001b[38;5;28mself\u001b[39m._checkpoint_connector._select_ckpt_path(\n\u001b[32m    594\u001b[39m     \u001b[38;5;28mself\u001b[39m.state.fn,\n\u001b[32m    595\u001b[39m     ckpt_path,\n\u001b[32m    596\u001b[39m     model_provided=\u001b[38;5;28;01mTrue\u001b[39;00m,\n\u001b[32m    597\u001b[39m     model_connected=\u001b[38;5;28mself\u001b[39m.lightning_module \u001b[38;5;129;01mis\u001b[39;00m \u001b[38;5;129;01mnot\u001b[39;00m \u001b[38;5;28;01mNone\u001b[39;00m,\n\u001b[32m    598\u001b[39m )\n\u001b[32m--> \u001b[39m\u001b[32m599\u001b[39m \u001b[38;5;28;43mself\u001b[39;49m\u001b[43m.\u001b[49m\u001b[43m_run\u001b[49m\u001b[43m(\u001b[49m\u001b[43mmodel\u001b[49m\u001b[43m,\u001b[49m\u001b[43m \u001b[49m\u001b[43mckpt_path\u001b[49m\u001b[43m=\u001b[49m\u001b[43mckpt_path\u001b[49m\u001b[43m)\u001b[49m\n\u001b[32m    601\u001b[39m \u001b[38;5;28;01massert\u001b[39;00m \u001b[38;5;28mself\u001b[39m.state.stopped\n",
                                    "\u001b[36mFile \u001b[39m\u001b[32m/uufs/chpc.utah.edu/common/home/clementm-group1/conda/mambaforge/env/jt_bmi_6114_cpu/lib/python3.12/site-packages/lightning/pytorch/trainer/trainer.py:1012\u001b[39m, in \u001b[36mTrainer._run\u001b[39m\u001b[34m(self, model, ckpt_path)\u001b[39m\n\u001b[32m   1009\u001b[39m \u001b[38;5;66;03m# ----------------------------\u001b[39;00m\n\u001b[32m   1010\u001b[39m \u001b[38;5;66;03m# RUN THE TRAINER\u001b[39;00m\n\u001b[32m   1011\u001b[39m \u001b[38;5;66;03m# ----------------------------\u001b[39;00m\n\u001b[32m-> \u001b[39m\u001b[32m1012\u001b[39m results = \u001b[38;5;28;43mself\u001b[39;49m\u001b[43m.\u001b[49m\u001b[43m_run_stage\u001b[49m\u001b[43m(\u001b[49m\u001b[43m)\u001b[49m\n\u001b[32m   1014\u001b[39m \u001b[38;5;66;03m# ----------------------------\u001b[39;00m\n\u001b[32m   1015\u001b[39m \u001b[38;5;66;03m# POST-Training CLEAN UP\u001b[39;00m\n\u001b[32m   1016\u001b[39m \u001b[38;5;66;03m# ----------------------------\u001b[39;00m\n",
                                    "\u001b[36mFile \u001b[39m\u001b[32m/uufs/chpc.utah.edu/common/home/clementm-group1/conda/mambaforge/env/jt_bmi_6114_cpu/lib/python3.12/site-packages/lightning/pytorch/trainer/trainer.py:1056\u001b[39m, in \u001b[36mTrainer._run_stage\u001b[39m\u001b[34m(self)\u001b[39m\n\u001b[32m   1055\u001b[39m \u001b[38;5;28;01mwith\u001b[39;00m torch.autograd.set_detect_anomaly(\u001b[38;5;28mself\u001b[39m._detect_anomaly):\n\u001b[32m-> \u001b[39m\u001b[32m1056\u001b[39m     \u001b[38;5;28;43mself\u001b[39;49m\u001b[43m.\u001b[49m\u001b[43mfit_loop\u001b[49m\u001b[43m.\u001b[49m\u001b[43mrun\u001b[49m\u001b[43m(\u001b[49m\u001b[43m)\u001b[49m\n\u001b[32m   1057\u001b[39m \u001b[38;5;28;01mreturn\u001b[39;00m \u001b[38;5;28;01mNone\u001b[39;00m\n",
                                    "\u001b[36mFile \u001b[39m\u001b[32m/uufs/chpc.utah.edu/common/home/clementm-group1/conda/mambaforge/env/jt_bmi_6114_cpu/lib/python3.12/site-packages/lightning/pytorch/loops/fit_loop.py:216\u001b[39m, in \u001b[36m_FitLoop.run\u001b[39m\u001b[34m(self)\u001b[39m\n\u001b[32m    215\u001b[39m \u001b[38;5;28mself\u001b[39m.on_advance_start()\n\u001b[32m--> \u001b[39m\u001b[32m216\u001b[39m \u001b[38;5;28;43mself\u001b[39;49m\u001b[43m.\u001b[49m\u001b[43madvance\u001b[49m\u001b[43m(\u001b[49m\u001b[43m)\u001b[49m\n\u001b[32m    217\u001b[39m \u001b[38;5;28mself\u001b[39m.on_advance_end()\n",
                                    "\u001b[36mFile \u001b[39m\u001b[32m/uufs/chpc.utah.edu/common/home/clementm-group1/conda/mambaforge/env/jt_bmi_6114_cpu/lib/python3.12/site-packages/lightning/pytorch/loops/fit_loop.py:455\u001b[39m, in \u001b[36m_FitLoop.advance\u001b[39m\u001b[34m(self)\u001b[39m\n\u001b[32m    454\u001b[39m \u001b[38;5;28;01massert\u001b[39;00m \u001b[38;5;28mself\u001b[39m._data_fetcher \u001b[38;5;129;01mis\u001b[39;00m \u001b[38;5;129;01mnot\u001b[39;00m \u001b[38;5;28;01mNone\u001b[39;00m\n\u001b[32m--> \u001b[39m\u001b[32m455\u001b[39m \u001b[38;5;28;43mself\u001b[39;49m\u001b[43m.\u001b[49m\u001b[43mepoch_loop\u001b[49m\u001b[43m.\u001b[49m\u001b[43mrun\u001b[49m\u001b[43m(\u001b[49m\u001b[38;5;28;43mself\u001b[39;49m\u001b[43m.\u001b[49m\u001b[43m_data_fetcher\u001b[49m\u001b[43m)\u001b[49m\n",
                                    "\u001b[36mFile \u001b[39m\u001b[32m/uufs/chpc.utah.edu/common/home/clementm-group1/conda/mambaforge/env/jt_bmi_6114_cpu/lib/python3.12/site-packages/lightning/pytorch/loops/training_epoch_loop.py:150\u001b[39m, in \u001b[36m_TrainingEpochLoop.run\u001b[39m\u001b[34m(self, data_fetcher)\u001b[39m\n\u001b[32m    149\u001b[39m \u001b[38;5;28;01mtry\u001b[39;00m:\n\u001b[32m--> \u001b[39m\u001b[32m150\u001b[39m     \u001b[38;5;28;43mself\u001b[39;49m\u001b[43m.\u001b[49m\u001b[43madvance\u001b[49m\u001b[43m(\u001b[49m\u001b[43mdata_fetcher\u001b[49m\u001b[43m)\u001b[49m\n\u001b[32m    151\u001b[39m     \u001b[38;5;28mself\u001b[39m.on_advance_end(data_fetcher)\n",
                                    "\u001b[36mFile \u001b[39m\u001b[32m/uufs/chpc.utah.edu/common/home/clementm-group1/conda/mambaforge/env/jt_bmi_6114_cpu/lib/python3.12/site-packages/lightning/pytorch/loops/training_epoch_loop.py:282\u001b[39m, in \u001b[36m_TrainingEpochLoop.advance\u001b[39m\u001b[34m(self, data_fetcher)\u001b[39m\n\u001b[32m    281\u001b[39m dataloader_iter = \u001b[38;5;28;01mNone\u001b[39;00m\n\u001b[32m--> \u001b[39m\u001b[32m282\u001b[39m batch, _, __ = \u001b[38;5;28;43mnext\u001b[39;49m\u001b[43m(\u001b[49m\u001b[43mdata_fetcher\u001b[49m\u001b[43m)\u001b[49m\n\u001b[32m    283\u001b[39m \u001b[38;5;66;03m# TODO: we should instead use the batch_idx returned by the fetcher, however, that will require saving the\u001b[39;00m\n\u001b[32m    284\u001b[39m \u001b[38;5;66;03m# fetcher state so that the batch_idx is correct after restarting\u001b[39;00m\n",
                                    "\u001b[36mFile \u001b[39m\u001b[32m/uufs/chpc.utah.edu/common/home/clementm-group1/conda/mambaforge/env/jt_bmi_6114_cpu/lib/python3.12/site-packages/lightning/pytorch/loops/fetchers.py:134\u001b[39m, in \u001b[36m_PrefetchDataFetcher.__next__\u001b[39m\u001b[34m(self)\u001b[39m\n\u001b[32m    132\u001b[39m \u001b[38;5;28;01melif\u001b[39;00m \u001b[38;5;129;01mnot\u001b[39;00m \u001b[38;5;28mself\u001b[39m.done:\n\u001b[32m    133\u001b[39m     \u001b[38;5;66;03m# this will run only when no pre-fetching was done.\u001b[39;00m\n\u001b[32m--> \u001b[39m\u001b[32m134\u001b[39m     batch = \u001b[38;5;28;43msuper\u001b[39;49m\u001b[43m(\u001b[49m\u001b[43m)\u001b[49m\u001b[43m.\u001b[49m\u001b[34;43m__next__\u001b[39;49m\u001b[43m(\u001b[49m\u001b[43m)\u001b[49m\n\u001b[32m    135\u001b[39m \u001b[38;5;28;01melse\u001b[39;00m:\n\u001b[32m    136\u001b[39m     \u001b[38;5;66;03m# the iterator is empty\u001b[39;00m\n",
                                    "\u001b[36mFile \u001b[39m\u001b[32m/uufs/chpc.utah.edu/common/home/clementm-group1/conda/mambaforge/env/jt_bmi_6114_cpu/lib/python3.12/site-packages/lightning/pytorch/loops/fetchers.py:61\u001b[39m, in \u001b[36m_DataFetcher.__next__\u001b[39m\u001b[34m(self)\u001b[39m\n\u001b[32m     60\u001b[39m \u001b[38;5;28;01mtry\u001b[39;00m:\n\u001b[32m---> \u001b[39m\u001b[32m61\u001b[39m     batch = \u001b[38;5;28;43mnext\u001b[39;49m\u001b[43m(\u001b[49m\u001b[38;5;28;43mself\u001b[39;49m\u001b[43m.\u001b[49m\u001b[43miterator\u001b[49m\u001b[43m)\u001b[49m\n\u001b[32m     62\u001b[39m \u001b[38;5;28;01mexcept\u001b[39;00m \u001b[38;5;167;01mStopIteration\u001b[39;00m:\n",
                                    "\u001b[36mFile \u001b[39m\u001b[32m/uufs/chpc.utah.edu/common/home/clementm-group1/conda/mambaforge/env/jt_bmi_6114_cpu/lib/python3.12/site-packages/lightning/pytorch/utilities/combined_loader.py:341\u001b[39m, in \u001b[36mCombinedLoader.__next__\u001b[39m\u001b[34m(self)\u001b[39m\n\u001b[32m    340\u001b[39m \u001b[38;5;28;01massert\u001b[39;00m \u001b[38;5;28mself\u001b[39m._iterator \u001b[38;5;129;01mis\u001b[39;00m \u001b[38;5;129;01mnot\u001b[39;00m \u001b[38;5;28;01mNone\u001b[39;00m\n\u001b[32m--> \u001b[39m\u001b[32m341\u001b[39m out = \u001b[38;5;28;43mnext\u001b[39;49m\u001b[43m(\u001b[49m\u001b[38;5;28;43mself\u001b[39;49m\u001b[43m.\u001b[49m\u001b[43m_iterator\u001b[49m\u001b[43m)\u001b[49m\n\u001b[32m    342\u001b[39m \u001b[38;5;28;01mif\u001b[39;00m \u001b[38;5;28misinstance\u001b[39m(\u001b[38;5;28mself\u001b[39m._iterator, _Sequential):\n",
                                    "\u001b[36mFile \u001b[39m\u001b[32m/uufs/chpc.utah.edu/common/home/clementm-group1/conda/mambaforge/env/jt_bmi_6114_cpu/lib/python3.12/site-packages/lightning/pytorch/utilities/combined_loader.py:78\u001b[39m, in \u001b[36m_MaxSizeCycle.__next__\u001b[39m\u001b[34m(self)\u001b[39m\n\u001b[32m     77\u001b[39m \u001b[38;5;28;01mtry\u001b[39;00m:\n\u001b[32m---> \u001b[39m\u001b[32m78\u001b[39m     out[i] = \u001b[38;5;28;43mnext\u001b[39;49m\u001b[43m(\u001b[49m\u001b[38;5;28;43mself\u001b[39;49m\u001b[43m.\u001b[49m\u001b[43miterators\u001b[49m\u001b[43m[\u001b[49m\u001b[43mi\u001b[49m\u001b[43m]\u001b[49m\u001b[43m)\u001b[49m\n\u001b[32m     79\u001b[39m \u001b[38;5;28;01mexcept\u001b[39;00m \u001b[38;5;167;01mStopIteration\u001b[39;00m:\n",
                                    "\u001b[36mFile \u001b[39m\u001b[32m/uufs/chpc.utah.edu/common/home/clementm-group1/conda/mambaforge/env/jt_bmi_6114_cpu/lib/python3.12/site-packages/torch/utils/data/dataloader.py:701\u001b[39m, in \u001b[36m_BaseDataLoaderIter.__next__\u001b[39m\u001b[34m(self)\u001b[39m\n\u001b[32m    700\u001b[39m     \u001b[38;5;28mself\u001b[39m._reset()  \u001b[38;5;66;03m# type: ignore[call-arg]\u001b[39;00m\n\u001b[32m--> \u001b[39m\u001b[32m701\u001b[39m data = \u001b[38;5;28;43mself\u001b[39;49m\u001b[43m.\u001b[49m\u001b[43m_next_data\u001b[49m\u001b[43m(\u001b[49m\u001b[43m)\u001b[49m\n\u001b[32m    702\u001b[39m \u001b[38;5;28mself\u001b[39m._num_yielded += \u001b[32m1\u001b[39m\n",
                                    "\u001b[36mFile \u001b[39m\u001b[32m/uufs/chpc.utah.edu/common/home/clementm-group1/conda/mambaforge/env/jt_bmi_6114_cpu/lib/python3.12/site-packages/torch/utils/data/dataloader.py:1448\u001b[39m, in \u001b[36m_MultiProcessingDataLoaderIter._next_data\u001b[39m\u001b[34m(self)\u001b[39m\n\u001b[32m   1447\u001b[39m \u001b[38;5;28;01massert\u001b[39;00m \u001b[38;5;129;01mnot\u001b[39;00m \u001b[38;5;28mself\u001b[39m._shutdown \u001b[38;5;129;01mand\u001b[39;00m \u001b[38;5;28mself\u001b[39m._tasks_outstanding > \u001b[32m0\u001b[39m\n\u001b[32m-> \u001b[39m\u001b[32m1448\u001b[39m idx, data = \u001b[38;5;28;43mself\u001b[39;49m\u001b[43m.\u001b[49m\u001b[43m_get_data\u001b[49m\u001b[43m(\u001b[49m\u001b[43m)\u001b[49m\n\u001b[32m   1449\u001b[39m \u001b[38;5;28mself\u001b[39m._tasks_outstanding -= \u001b[32m1\u001b[39m\n",
                                    "\u001b[36mFile \u001b[39m\u001b[32m/uufs/chpc.utah.edu/common/home/clementm-group1/conda/mambaforge/env/jt_bmi_6114_cpu/lib/python3.12/site-packages/torch/utils/data/dataloader.py:1412\u001b[39m, in \u001b[36m_MultiProcessingDataLoaderIter._get_data\u001b[39m\u001b[34m(self)\u001b[39m\n\u001b[32m   1411\u001b[39m \u001b[38;5;28;01mwhile\u001b[39;00m \u001b[38;5;28;01mTrue\u001b[39;00m:\n\u001b[32m-> \u001b[39m\u001b[32m1412\u001b[39m     success, data = \u001b[38;5;28;43mself\u001b[39;49m\u001b[43m.\u001b[49m\u001b[43m_try_get_data\u001b[49m\u001b[43m(\u001b[49m\u001b[43m)\u001b[49m\n\u001b[32m   1413\u001b[39m     \u001b[38;5;28;01mif\u001b[39;00m success:\n",
                                    "\u001b[36mFile \u001b[39m\u001b[32m/uufs/chpc.utah.edu/common/home/clementm-group1/conda/mambaforge/env/jt_bmi_6114_cpu/lib/python3.12/site-packages/torch/utils/data/dataloader.py:1243\u001b[39m, in \u001b[36m_MultiProcessingDataLoaderIter._try_get_data\u001b[39m\u001b[34m(self, timeout)\u001b[39m\n\u001b[32m   1242\u001b[39m \u001b[38;5;28;01mtry\u001b[39;00m:\n\u001b[32m-> \u001b[39m\u001b[32m1243\u001b[39m     data = \u001b[38;5;28;43mself\u001b[39;49m\u001b[43m.\u001b[49m\u001b[43m_data_queue\u001b[49m\u001b[43m.\u001b[49m\u001b[43mget\u001b[49m\u001b[43m(\u001b[49m\u001b[43mtimeout\u001b[49m\u001b[43m=\u001b[49m\u001b[43mtimeout\u001b[49m\u001b[43m)\u001b[49m\n\u001b[32m   1244\u001b[39m     \u001b[38;5;28;01mreturn\u001b[39;00m (\u001b[38;5;28;01mTrue\u001b[39;00m, data)\n",
                                    "\u001b[36mFile \u001b[39m\u001b[32m/uufs/chpc.utah.edu/common/home/clementm-group1/conda/mambaforge/env/jt_bmi_6114_cpu/lib/python3.12/multiprocessing/queues.py:113\u001b[39m, in \u001b[36mQueue.get\u001b[39m\u001b[34m(self, block, timeout)\u001b[39m\n\u001b[32m    112\u001b[39m timeout = deadline - time.monotonic()\n\u001b[32m--> \u001b[39m\u001b[32m113\u001b[39m \u001b[38;5;28;01mif\u001b[39;00m \u001b[38;5;129;01mnot\u001b[39;00m \u001b[38;5;28;43mself\u001b[39;49m\u001b[43m.\u001b[49m\u001b[43m_poll\u001b[49m\u001b[43m(\u001b[49m\u001b[43mtimeout\u001b[49m\u001b[43m)\u001b[49m:\n\u001b[32m    114\u001b[39m     \u001b[38;5;28;01mraise\u001b[39;00m Empty\n",
                                    "\u001b[36mFile \u001b[39m\u001b[32m/uufs/chpc.utah.edu/common/home/clementm-group1/conda/mambaforge/env/jt_bmi_6114_cpu/lib/python3.12/multiprocessing/connection.py:257\u001b[39m, in \u001b[36m_ConnectionBase.poll\u001b[39m\u001b[34m(self, timeout)\u001b[39m\n\u001b[32m    256\u001b[39m \u001b[38;5;28mself\u001b[39m._check_readable()\n\u001b[32m--> \u001b[39m\u001b[32m257\u001b[39m \u001b[38;5;28;01mreturn\u001b[39;00m \u001b[38;5;28;43mself\u001b[39;49m\u001b[43m.\u001b[49m\u001b[43m_poll\u001b[49m\u001b[43m(\u001b[49m\u001b[43mtimeout\u001b[49m\u001b[43m)\u001b[49m\n",
                                    "\u001b[36mFile \u001b[39m\u001b[32m/uufs/chpc.utah.edu/common/home/clementm-group1/conda/mambaforge/env/jt_bmi_6114_cpu/lib/python3.12/multiprocessing/connection.py:440\u001b[39m, in \u001b[36mConnection._poll\u001b[39m\u001b[34m(self, timeout)\u001b[39m\n\u001b[32m    439\u001b[39m \u001b[38;5;28;01mdef\u001b[39;00m\u001b[38;5;250m \u001b[39m\u001b[34m_poll\u001b[39m(\u001b[38;5;28mself\u001b[39m, timeout):\n\u001b[32m--> \u001b[39m\u001b[32m440\u001b[39m     r = \u001b[43mwait\u001b[49m\u001b[43m(\u001b[49m\u001b[43m[\u001b[49m\u001b[38;5;28;43mself\u001b[39;49m\u001b[43m]\u001b[49m\u001b[43m,\u001b[49m\u001b[43m \u001b[49m\u001b[43mtimeout\u001b[49m\u001b[43m)\u001b[49m\n\u001b[32m    441\u001b[39m     \u001b[38;5;28;01mreturn\u001b[39;00m \u001b[38;5;28mbool\u001b[39m(r)\n",
                                    "\u001b[36mFile \u001b[39m\u001b[32m/uufs/chpc.utah.edu/common/home/clementm-group1/conda/mambaforge/env/jt_bmi_6114_cpu/lib/python3.12/multiprocessing/connection.py:1136\u001b[39m, in \u001b[36mwait\u001b[39m\u001b[34m(object_list, timeout)\u001b[39m\n\u001b[32m   1135\u001b[39m \u001b[38;5;28;01mwhile\u001b[39;00m \u001b[38;5;28;01mTrue\u001b[39;00m:\n\u001b[32m-> \u001b[39m\u001b[32m1136\u001b[39m     ready = \u001b[43mselector\u001b[49m\u001b[43m.\u001b[49m\u001b[43mselect\u001b[49m\u001b[43m(\u001b[49m\u001b[43mtimeout\u001b[49m\u001b[43m)\u001b[49m\n\u001b[32m   1137\u001b[39m     \u001b[38;5;28;01mif\u001b[39;00m ready:\n",
                                    "\u001b[36mFile \u001b[39m\u001b[32m/uufs/chpc.utah.edu/common/home/clementm-group1/conda/mambaforge/env/jt_bmi_6114_cpu/lib/python3.12/selectors.py:415\u001b[39m, in \u001b[36m_PollLikeSelector.select\u001b[39m\u001b[34m(self, timeout)\u001b[39m\n\u001b[32m    414\u001b[39m \u001b[38;5;28;01mtry\u001b[39;00m:\n\u001b[32m--> \u001b[39m\u001b[32m415\u001b[39m     fd_event_list = \u001b[38;5;28;43mself\u001b[39;49m\u001b[43m.\u001b[49m\u001b[43m_selector\u001b[49m\u001b[43m.\u001b[49m\u001b[43mpoll\u001b[49m\u001b[43m(\u001b[49m\u001b[43mtimeout\u001b[49m\u001b[43m)\u001b[49m\n\u001b[32m    416\u001b[39m \u001b[38;5;28;01mexcept\u001b[39;00m \u001b[38;5;167;01mInterruptedError\u001b[39;00m:\n",
                                    "\u001b[31mKeyboardInterrupt\u001b[39m: ",
                                    "\nDuring handling of the above exception, another exception occurred:\n",
                                    "\u001b[31mNameError\u001b[39m                                 Traceback (most recent call last)",
                                    "\u001b[36mCell\u001b[39m\u001b[36m \u001b[39m\u001b[32mIn[17]\u001b[39m\u001b[32m, line 3\u001b[39m\n\u001b[32m      1\u001b[39m \u001b[38;5;66;03m# --- Run Optuna ---\u001b[39;00m\n\u001b[32m      2\u001b[39m study = optuna.create_study(direction=\u001b[33m\"\u001b[39m\u001b[33mminimize\u001b[39m\u001b[33m\"\u001b[39m, study_name=\u001b[33m\"\u001b[39m\u001b[33mdeep_regressor_study\u001b[39m\u001b[33m\"\u001b[39m)\n\u001b[32m----> \u001b[39m\u001b[32m3\u001b[39m \u001b[43mstudy\u001b[49m\u001b[43m.\u001b[49m\u001b[43moptimize\u001b[49m\u001b[43m(\u001b[49m\u001b[43mobjective\u001b[49m\u001b[43m,\u001b[49m\u001b[43m \u001b[49m\u001b[43mn_trials\u001b[49m\u001b[43m=\u001b[49m\u001b[32;43m20\u001b[39;49m\u001b[43m,\u001b[49m\u001b[43m \u001b[49m\u001b[43mn_jobs\u001b[49m\u001b[43m=\u001b[49m\u001b[32;43m1\u001b[39;49m\u001b[43m,\u001b[49m\u001b[43m \u001b[49m\u001b[43mshow_progress_bar\u001b[49m\u001b[43m=\u001b[49m\u001b[38;5;28;43;01mTrue\u001b[39;49;00m\u001b[43m)\u001b[49m\n\u001b[32m      5\u001b[39m \u001b[38;5;66;03m# --- Print Best Result ---\u001b[39;00m\n\u001b[32m      6\u001b[39m \u001b[38;5;28mprint\u001b[39m(\u001b[33m\"\u001b[39m\u001b[33mBest trial:\u001b[39m\u001b[33m\"\u001b[39m)\n",
                                    "\u001b[36mFile \u001b[39m\u001b[32m/uufs/chpc.utah.edu/common/home/clementm-group1/conda/mambaforge/env/jt_bmi_6114_cpu/lib/python3.12/site-packages/optuna/study/study.py:475\u001b[39m, in \u001b[36mStudy.optimize\u001b[39m\u001b[34m(self, func, n_trials, timeout, n_jobs, catch, callbacks, gc_after_trial, show_progress_bar)\u001b[39m\n\u001b[32m    373\u001b[39m \u001b[38;5;28;01mdef\u001b[39;00m\u001b[38;5;250m \u001b[39m\u001b[34moptimize\u001b[39m(\n\u001b[32m    374\u001b[39m     \u001b[38;5;28mself\u001b[39m,\n\u001b[32m    375\u001b[39m     func: ObjectiveFuncType,\n\u001b[32m   (...)\u001b[39m\u001b[32m    382\u001b[39m     show_progress_bar: \u001b[38;5;28mbool\u001b[39m = \u001b[38;5;28;01mFalse\u001b[39;00m,\n\u001b[32m    383\u001b[39m ) -> \u001b[38;5;28;01mNone\u001b[39;00m:\n\u001b[32m    384\u001b[39m \u001b[38;5;250m    \u001b[39m\u001b[33;03m\"\"\"Optimize an objective function.\u001b[39;00m\n\u001b[32m    385\u001b[39m \n\u001b[32m    386\u001b[39m \u001b[33;03m    Optimization is done by choosing a suitable set of hyperparameter values from a given\u001b[39;00m\n\u001b[32m   (...)\u001b[39m\u001b[32m    473\u001b[39m \u001b[33;03m            If nested invocation of this method occurs.\u001b[39;00m\n\u001b[32m    474\u001b[39m \u001b[33;03m    \"\"\"\u001b[39;00m\n\u001b[32m--> \u001b[39m\u001b[32m475\u001b[39m     \u001b[43m_optimize\u001b[49m\u001b[43m(\u001b[49m\n\u001b[32m    476\u001b[39m \u001b[43m        \u001b[49m\u001b[43mstudy\u001b[49m\u001b[43m=\u001b[49m\u001b[38;5;28;43mself\u001b[39;49m\u001b[43m,\u001b[49m\n\u001b[32m    477\u001b[39m \u001b[43m        \u001b[49m\u001b[43mfunc\u001b[49m\u001b[43m=\u001b[49m\u001b[43mfunc\u001b[49m\u001b[43m,\u001b[49m\n\u001b[32m    478\u001b[39m \u001b[43m        \u001b[49m\u001b[43mn_trials\u001b[49m\u001b[43m=\u001b[49m\u001b[43mn_trials\u001b[49m\u001b[43m,\u001b[49m\n\u001b[32m    479\u001b[39m \u001b[43m        \u001b[49m\u001b[43mtimeout\u001b[49m\u001b[43m=\u001b[49m\u001b[43mtimeout\u001b[49m\u001b[43m,\u001b[49m\n\u001b[32m    480\u001b[39m \u001b[43m        \u001b[49m\u001b[43mn_jobs\u001b[49m\u001b[43m=\u001b[49m\u001b[43mn_jobs\u001b[49m\u001b[43m,\u001b[49m\n\u001b[32m    481\u001b[39m \u001b[43m        \u001b[49m\u001b[43mcatch\u001b[49m\u001b[43m=\u001b[49m\u001b[38;5;28;43mtuple\u001b[39;49m\u001b[43m(\u001b[49m\u001b[43mcatch\u001b[49m\u001b[43m)\u001b[49m\u001b[43m \u001b[49m\u001b[38;5;28;43;01mif\u001b[39;49;00m\u001b[43m \u001b[49m\u001b[38;5;28;43misinstance\u001b[39;49m\u001b[43m(\u001b[49m\u001b[43mcatch\u001b[49m\u001b[43m,\u001b[49m\u001b[43m \u001b[49m\u001b[43mIterable\u001b[49m\u001b[43m)\u001b[49m\u001b[43m \u001b[49m\u001b[38;5;28;43;01melse\u001b[39;49;00m\u001b[43m \u001b[49m\u001b[43m(\u001b[49m\u001b[43mcatch\u001b[49m\u001b[43m,\u001b[49m\u001b[43m)\u001b[49m\u001b[43m,\u001b[49m\n\u001b[32m    482\u001b[39m \u001b[43m        \u001b[49m\u001b[43mcallbacks\u001b[49m\u001b[43m=\u001b[49m\u001b[43mcallbacks\u001b[49m\u001b[43m,\u001b[49m\n\u001b[32m    483\u001b[39m \u001b[43m        \u001b[49m\u001b[43mgc_after_trial\u001b[49m\u001b[43m=\u001b[49m\u001b[43mgc_after_trial\u001b[49m\u001b[43m,\u001b[49m\n\u001b[32m    484\u001b[39m \u001b[43m        \u001b[49m\u001b[43mshow_progress_bar\u001b[49m\u001b[43m=\u001b[49m\u001b[43mshow_progress_bar\u001b[49m\u001b[43m,\u001b[49m\n\u001b[32m    485\u001b[39m \u001b[43m    \u001b[49m\u001b[43m)\u001b[49m\n",
                                    "\u001b[36mFile \u001b[39m\u001b[32m/uufs/chpc.utah.edu/common/home/clementm-group1/conda/mambaforge/env/jt_bmi_6114_cpu/lib/python3.12/site-packages/optuna/study/_optimize.py:63\u001b[39m, in \u001b[36m_optimize\u001b[39m\u001b[34m(study, func, n_trials, timeout, n_jobs, catch, callbacks, gc_after_trial, show_progress_bar)\u001b[39m\n\u001b[32m     61\u001b[39m \u001b[38;5;28;01mtry\u001b[39;00m:\n\u001b[32m     62\u001b[39m     \u001b[38;5;28;01mif\u001b[39;00m n_jobs == \u001b[32m1\u001b[39m:\n\u001b[32m---> \u001b[39m\u001b[32m63\u001b[39m         \u001b[43m_optimize_sequential\u001b[49m\u001b[43m(\u001b[49m\n\u001b[32m     64\u001b[39m \u001b[43m            \u001b[49m\u001b[43mstudy\u001b[49m\u001b[43m,\u001b[49m\n\u001b[32m     65\u001b[39m \u001b[43m            \u001b[49m\u001b[43mfunc\u001b[49m\u001b[43m,\u001b[49m\n\u001b[32m     66\u001b[39m \u001b[43m            \u001b[49m\u001b[43mn_trials\u001b[49m\u001b[43m,\u001b[49m\n\u001b[32m     67\u001b[39m \u001b[43m            \u001b[49m\u001b[43mtimeout\u001b[49m\u001b[43m,\u001b[49m\n\u001b[32m     68\u001b[39m \u001b[43m            \u001b[49m\u001b[43mcatch\u001b[49m\u001b[43m,\u001b[49m\n\u001b[32m     69\u001b[39m \u001b[43m            \u001b[49m\u001b[43mcallbacks\u001b[49m\u001b[43m,\u001b[49m\n\u001b[32m     70\u001b[39m \u001b[43m            \u001b[49m\u001b[43mgc_after_trial\u001b[49m\u001b[43m,\u001b[49m\n\u001b[32m     71\u001b[39m \u001b[43m            \u001b[49m\u001b[43mreseed_sampler_rng\u001b[49m\u001b[43m=\u001b[49m\u001b[38;5;28;43;01mFalse\u001b[39;49;00m\u001b[43m,\u001b[49m\n\u001b[32m     72\u001b[39m \u001b[43m            \u001b[49m\u001b[43mtime_start\u001b[49m\u001b[43m=\u001b[49m\u001b[38;5;28;43;01mNone\u001b[39;49;00m\u001b[43m,\u001b[49m\n\u001b[32m     73\u001b[39m \u001b[43m            \u001b[49m\u001b[43mprogress_bar\u001b[49m\u001b[43m=\u001b[49m\u001b[43mprogress_bar\u001b[49m\u001b[43m,\u001b[49m\n\u001b[32m     74\u001b[39m \u001b[43m        \u001b[49m\u001b[43m)\u001b[49m\n\u001b[32m     75\u001b[39m     \u001b[38;5;28;01melse\u001b[39;00m:\n\u001b[32m     76\u001b[39m         \u001b[38;5;28;01mif\u001b[39;00m n_jobs == -\u001b[32m1\u001b[39m:\n",
                                    "\u001b[36mFile \u001b[39m\u001b[32m/uufs/chpc.utah.edu/common/home/clementm-group1/conda/mambaforge/env/jt_bmi_6114_cpu/lib/python3.12/site-packages/optuna/study/_optimize.py:160\u001b[39m, in \u001b[36m_optimize_sequential\u001b[39m\u001b[34m(study, func, n_trials, timeout, catch, callbacks, gc_after_trial, reseed_sampler_rng, time_start, progress_bar)\u001b[39m\n\u001b[32m    157\u001b[39m         \u001b[38;5;28;01mbreak\u001b[39;00m\n\u001b[32m    159\u001b[39m \u001b[38;5;28;01mtry\u001b[39;00m:\n\u001b[32m--> \u001b[39m\u001b[32m160\u001b[39m     frozen_trial = \u001b[43m_run_trial\u001b[49m\u001b[43m(\u001b[49m\u001b[43mstudy\u001b[49m\u001b[43m,\u001b[49m\u001b[43m \u001b[49m\u001b[43mfunc\u001b[49m\u001b[43m,\u001b[49m\u001b[43m \u001b[49m\u001b[43mcatch\u001b[49m\u001b[43m)\u001b[49m\n\u001b[32m    161\u001b[39m \u001b[38;5;28;01mfinally\u001b[39;00m:\n\u001b[32m    162\u001b[39m     \u001b[38;5;66;03m# The following line mitigates memory problems that can be occurred in some\u001b[39;00m\n\u001b[32m    163\u001b[39m     \u001b[38;5;66;03m# environments (e.g., services that use computing containers such as GitHub Actions).\u001b[39;00m\n\u001b[32m    164\u001b[39m     \u001b[38;5;66;03m# Please refer to the following PR for further details:\u001b[39;00m\n\u001b[32m    165\u001b[39m     \u001b[38;5;66;03m# https://github.com/optuna/optuna/pull/325.\u001b[39;00m\n\u001b[32m    166\u001b[39m     \u001b[38;5;28;01mif\u001b[39;00m gc_after_trial:\n",
                                    "\u001b[36mFile \u001b[39m\u001b[32m/uufs/chpc.utah.edu/common/home/clementm-group1/conda/mambaforge/env/jt_bmi_6114_cpu/lib/python3.12/site-packages/optuna/study/_optimize.py:248\u001b[39m, in \u001b[36m_run_trial\u001b[39m\u001b[34m(study, func, catch)\u001b[39m\n\u001b[32m    241\u001b[39m         \u001b[38;5;28;01massert\u001b[39;00m \u001b[38;5;28;01mFalse\u001b[39;00m, \u001b[33m\"\u001b[39m\u001b[33mShould not reach.\u001b[39m\u001b[33m\"\u001b[39m\n\u001b[32m    243\u001b[39m \u001b[38;5;28;01mif\u001b[39;00m (\n\u001b[32m    244\u001b[39m     frozen_trial.state == TrialState.FAIL\n\u001b[32m    245\u001b[39m     \u001b[38;5;129;01mand\u001b[39;00m func_err \u001b[38;5;129;01mis\u001b[39;00m \u001b[38;5;129;01mnot\u001b[39;00m \u001b[38;5;28;01mNone\u001b[39;00m\n\u001b[32m    246\u001b[39m     \u001b[38;5;129;01mand\u001b[39;00m \u001b[38;5;129;01mnot\u001b[39;00m \u001b[38;5;28misinstance\u001b[39m(func_err, catch)\n\u001b[32m    247\u001b[39m ):\n\u001b[32m--> \u001b[39m\u001b[32m248\u001b[39m     \u001b[38;5;28;01mraise\u001b[39;00m func_err\n\u001b[32m    249\u001b[39m \u001b[38;5;28;01mreturn\u001b[39;00m frozen_trial\n",
                                    "\u001b[36mFile \u001b[39m\u001b[32m/uufs/chpc.utah.edu/common/home/clementm-group1/conda/mambaforge/env/jt_bmi_6114_cpu/lib/python3.12/site-packages/optuna/study/_optimize.py:197\u001b[39m, in \u001b[36m_run_trial\u001b[39m\u001b[34m(study, func, catch)\u001b[39m\n\u001b[32m    195\u001b[39m \u001b[38;5;28;01mwith\u001b[39;00m get_heartbeat_thread(trial._trial_id, study._storage):\n\u001b[32m    196\u001b[39m     \u001b[38;5;28;01mtry\u001b[39;00m:\n\u001b[32m--> \u001b[39m\u001b[32m197\u001b[39m         value_or_values = \u001b[43mfunc\u001b[49m\u001b[43m(\u001b[49m\u001b[43mtrial\u001b[49m\u001b[43m)\u001b[49m\n\u001b[32m    198\u001b[39m     \u001b[38;5;28;01mexcept\u001b[39;00m exceptions.TrialPruned \u001b[38;5;28;01mas\u001b[39;00m e:\n\u001b[32m    199\u001b[39m         \u001b[38;5;66;03m# TODO(mamu): Handle multi-objective cases.\u001b[39;00m\n\u001b[32m    200\u001b[39m         state = TrialState.PRUNED\n",
                                    "\u001b[36mCell\u001b[39m\u001b[36m \u001b[39m\u001b[32mIn[16]\u001b[39m\u001b[32m, line 40\u001b[39m, in \u001b[36mobjective\u001b[39m\u001b[34m(trial)\u001b[39m\n\u001b[32m     36\u001b[39m trainer, logger, checkpoint = create_classifier_trainer(\u001b[33mf\u001b[39m\u001b[33m\"\u001b[39m\u001b[33mnn_trial_\u001b[39m\u001b[38;5;132;01m{\u001b[39;00mtrial.number\u001b[38;5;132;01m}\u001b[39;00m\u001b[33m\"\u001b[39m, max_epochs=\u001b[32m50\u001b[39m, enable_pbar=\u001b[38;5;28;01mFalse\u001b[39;00m)\n\u001b[32m     39\u001b[39m \u001b[38;5;66;03m# Training loop\u001b[39;00m\n\u001b[32m---> \u001b[39m\u001b[32m40\u001b[39m \u001b[43mtrainer\u001b[49m\u001b[43m.\u001b[49m\u001b[43mfit\u001b[49m\u001b[43m(\u001b[49m\n\u001b[32m     41\u001b[39m \u001b[43m    \u001b[49m\u001b[43mmodel\u001b[49m\u001b[43m,\u001b[49m\n\u001b[32m     42\u001b[39m \u001b[43m    \u001b[49m\u001b[43mdatamodule\u001b[49m\u001b[43m=\u001b[49m\u001b[43mCancerDataModule\u001b[49m\u001b[43m(\u001b[49m\u001b[43mcancer_df\u001b[49m\u001b[43m,\u001b[49m\u001b[43m \u001b[49m\u001b[43mnumerical_features\u001b[49m\u001b[43m=\u001b[49m\u001b[43mnumeric_cols\u001b[49m\u001b[43m,\u001b[49m\u001b[43m \u001b[49m\u001b[43mscaler\u001b[49m\u001b[43m=\u001b[49m\u001b[43mscaler\u001b[49m\u001b[43m)\u001b[49m\u001b[43m,\u001b[49m\n\u001b[32m     43\u001b[39m \u001b[43m\u001b[49m\u001b[43m)\u001b[49m\n\u001b[32m     44\u001b[39m trial_to_details[trial.number] = {\n\u001b[32m     45\u001b[39m     \u001b[33m\"\u001b[39m\u001b[33mlogger\u001b[39m\u001b[33m\"\u001b[39m : logger,\n\u001b[32m     46\u001b[39m     \u001b[33m\"\u001b[39m\u001b[33mcheckpoint\u001b[39m\u001b[33m\"\u001b[39m : checkpoint,\n\u001b[32m     47\u001b[39m }\n\u001b[32m     50\u001b[39m \u001b[38;5;66;03m# Store trial details\u001b[39;00m\n",
                                    "\u001b[36mFile \u001b[39m\u001b[32m/uufs/chpc.utah.edu/common/home/clementm-group1/conda/mambaforge/env/jt_bmi_6114_cpu/lib/python3.12/site-packages/lightning/pytorch/trainer/trainer.py:561\u001b[39m, in \u001b[36mTrainer.fit\u001b[39m\u001b[34m(self, model, train_dataloaders, val_dataloaders, datamodule, ckpt_path)\u001b[39m\n\u001b[32m    559\u001b[39m \u001b[38;5;28mself\u001b[39m.training = \u001b[38;5;28;01mTrue\u001b[39;00m\n\u001b[32m    560\u001b[39m \u001b[38;5;28mself\u001b[39m.should_stop = \u001b[38;5;28;01mFalse\u001b[39;00m\n\u001b[32m--> \u001b[39m\u001b[32m561\u001b[39m \u001b[43mcall\u001b[49m\u001b[43m.\u001b[49m\u001b[43m_call_and_handle_interrupt\u001b[49m\u001b[43m(\u001b[49m\n\u001b[32m    562\u001b[39m \u001b[43m    \u001b[49m\u001b[38;5;28;43mself\u001b[39;49m\u001b[43m,\u001b[49m\u001b[43m \u001b[49m\u001b[38;5;28;43mself\u001b[39;49m\u001b[43m.\u001b[49m\u001b[43m_fit_impl\u001b[49m\u001b[43m,\u001b[49m\u001b[43m \u001b[49m\u001b[43mmodel\u001b[49m\u001b[43m,\u001b[49m\u001b[43m \u001b[49m\u001b[43mtrain_dataloaders\u001b[49m\u001b[43m,\u001b[49m\u001b[43m \u001b[49m\u001b[43mval_dataloaders\u001b[49m\u001b[43m,\u001b[49m\u001b[43m \u001b[49m\u001b[43mdatamodule\u001b[49m\u001b[43m,\u001b[49m\u001b[43m \u001b[49m\u001b[43mckpt_path\u001b[49m\n\u001b[32m    563\u001b[39m \u001b[43m\u001b[49m\u001b[43m)\u001b[49m\n",
                                    "\u001b[36mFile \u001b[39m\u001b[32m/uufs/chpc.utah.edu/common/home/clementm-group1/conda/mambaforge/env/jt_bmi_6114_cpu/lib/python3.12/site-packages/lightning/pytorch/trainer/call.py:65\u001b[39m, in \u001b[36m_call_and_handle_interrupt\u001b[39m\u001b[34m(trainer, trainer_fn, *args, **kwargs)\u001b[39m\n\u001b[32m     63\u001b[39m     \u001b[38;5;28;01mif\u001b[39;00m \u001b[38;5;28misinstance\u001b[39m(launcher, _SubprocessScriptLauncher):\n\u001b[32m     64\u001b[39m         launcher.kill(_get_sigkill_signal())\n\u001b[32m---> \u001b[39m\u001b[32m65\u001b[39m     \u001b[43mexit\u001b[49m(\u001b[32m1\u001b[39m)\n\u001b[32m     67\u001b[39m \u001b[38;5;28;01mexcept\u001b[39;00m \u001b[38;5;167;01mBaseException\u001b[39;00m \u001b[38;5;28;01mas\u001b[39;00m exception:\n\u001b[32m     68\u001b[39m     _interrupt(trainer, exception)\n",
                                    "\u001b[31mNameError\u001b[39m: name 'exit' is not defined"
                              ]
                        }
                  ],
                  "source": [
                        "# --- Run Optuna ---\n",
                        "study = optuna.create_study(direction=\"minimize\", study_name=\"deep_regressor_study\")\n",
                        "study.optimize(objective, n_trials=20, n_jobs=1, show_progress_bar=True)\n",
                        "\n",
                        "# --- Print Best Result ---\n",
                        "print(\"Best trial:\")\n",
                        "print(f\"  Value (val_mse): {study.best_trial.value}\")\n",
                        "print(\"  Params:\")\n",
                        "for key, val in study.best_trial.params.items():\n",
                        "    print(f\"    {key}: {val}\")"
                  ]
            },
            {
                  "cell_type": "code",
                  "execution_count": null,
                  "metadata": {},
                  "outputs": [],
                  "source": [
                        "activation_dict = {\n",
                        "    \"relu\": nn.ReLU,\n",
                        "    \"leaky_relu\": nn.LeakyReLU,\n",
                        "    \"tanh\": nn.Tanh,\n",
                        "    \"RReLU\": nn.RReLU,\n",
                        "}\n",
                        "optimizer_dict = {\n",
                        "    \"adam\": torch.optim.Adam,\n",
                        "    \"sgd\": torch.optim.SGD,\n",
                        "    \"adagrad\": torch.optim.Adagrad,\n",
                        "}\n",
                        "best_model = model =NNRegressor(\n",
                        "        input_dim=len(cancer_dm.ds_train[0][0]),\n",
                        "        n_layers=study.best_trial.params[\"n_layers\"],\n",
                        "        dropout=study.best_trial.params[\"dropout\"],\n",
                        "        activation=activation_dict[study.best_trial.params[\"activation\"]],\n",
                        "        optimizer=optimizer_dict[study.best_trial.params[\"optimizer\"]],\n",
                        "        lr=study.best_trial.params[\"learning_rate\"],\n",
                        "        weight_decay=study.best_trial.params[\"weight_decay\"],\n",
                        "    )"
                  ]
            },
            {
                  "cell_type": "code",
                  "execution_count": null,
                  "metadata": {},
                  "outputs": [
                        {
                              "data": {
                                    "text/plain": [
                                          "['results/04/best_model_trial_noae_16.pkl']"
                                    ]
                              },
                              "execution_count": 18,
                              "metadata": {},
                              "output_type": "execute_result"
                        }
                  ],
                  "source": [
                        "joblib.dump(\n",
                        "    best_model,\n",
                        "    f\"results/04/best_model_trial_noae_{study.best_trial.number}.pkl\",\n",
                        ")"
                  ]
            },
            {
                  "cell_type": "code",
                  "execution_count": null,
                  "metadata": {},
                  "outputs": [
                        {
                              "data": {
                                    "image/png": "[encoded data removed]",
                                    "text/plain": [
                                          "<Figure size 1000x600 with 1 Axes>"
                                    ]
                              },
                              "metadata": {},
                              "output_type": "display_data"
                        }
                  ],
                  "source": [
                        "plot_regression_results(best_model, cancer_dm.test_dataloader())"
                  ]
            },
            {
                  "cell_type": "code",
                  "execution_count": null,
                  "metadata": {},
                  "outputs": [],
                  "source": []
            }
      ],
      "metadata": {
            "kernelspec": {
                  "display_name": "jt_bmi_6114_cpu",
                  "language": "python",
                  "name": "python3"
            },
            "language_info": {
                  "codemirror_mode": {
                        "name": "ipython",
                        "version": 3
                  },
                  "file_extension": ".py",
                  "mimetype": "text/x-python",
                  "name": "python",
                  "nbconvert_exporter": "python",
                  "pygments_lexer": "ipython3",
                  "version": "3.12.10"
            }
      },
      "nbformat": 4,
      "nbformat_minor": 2
}
