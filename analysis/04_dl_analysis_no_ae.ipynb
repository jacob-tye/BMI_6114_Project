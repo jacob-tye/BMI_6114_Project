{
      "cells": [
            {
                  "cell_type": "code",
                  "execution_count": 1,
                  "metadata": {},
                  "outputs": [],
                  "source": [
                        "%load_ext autoreload\n",
                        "%autoreload 2\n"
                  ]
            },
            {
                  "cell_type": "markdown",
                  "metadata": {},
                  "source": [
                        "# Deep Learning Analysis - Without Autoencoder on Unscaled Targets"
                  ]
            },
            {
                  "cell_type": "code",
                  "execution_count": 2,
                  "metadata": {},
                  "outputs": [],
                  "source": [
                        "import json\n",
                        "import joblib\n",
                        "import lightning as L\n",
                        "import matplotlib.pyplot as plt\n",
                        "import numpy as np\n",
                        "import pandas as pd\n",
                        "import torch\n",
                        "import torch.nn as nn\n",
                        "import torch.nn.functional as F\n",
                        "import torchvision.transforms as transforms\n",
                        "from torch.utils.data import DataLoader, random_split\n",
                        "from torchmetrics import MeanSquaredError\n",
                        "from torchvision import datasets\n",
                        "from utils.helper_classes import CancerDataModule, CancerDataset\n",
                        "from utils.models import BaseCancerRegressor, CancerDataAutoEncoder"
                  ]
            },
            {
                  "cell_type": "markdown",
                  "metadata": {},
                  "source": [
                        "## Load Data"
                  ]
            },
            {
                  "cell_type": "code",
                  "execution_count": 3,
                  "metadata": {},
                  "outputs": [],
                  "source": [
                        "cancer_df = pd.read_csv(\"../data/cleaned_feature_and_target_data_large.csv\", index_col=0)\n",
                        "cna_columns = [col for col in cancer_df.columns if col.startswith(\"CNA\")]\n",
                        "numeric_cols = [\"SMOKING_PACK_YEARS\"] + cna_columns\n",
                        "cancer_df[numeric_cols] = cancer_df[numeric_cols].astype(np.float32)\n",
                        "scaler = joblib.load(open(\"results/scaler.pkl\", \"rb\"))\n",
                        "cancer_dm = CancerDataModule(cancer_df, numerical_features=numeric_cols, scaler=scaler)\n",
                        "cancer_dm.setup()"
                  ]
            },
            {
                  "cell_type": "markdown",
                  "metadata": {},
                  "source": [
                        "## Create a Neural Network for Regression"
                  ]
            },
            {
                  "cell_type": "code",
                  "execution_count": 4,
                  "metadata": {},
                  "outputs": [],
                  "source": [
                        "import random\n",
                        "\n",
                        "\n",
                        "class NNRegressor(L.LightningModule):\n",
                        "    def __init__(self, input_dim, n_layers=1, dropout=0.2, activation=nn.LeakyReLU, optimizer=torch.optim.Adam, lr=1e-3, weight_decay=1e-4):\n",
                        "        super(NNRegressor, self).__init__()\n",
                        "        self.optimizer = optimizer\n",
                        "        self.lr = lr\n",
                        "        self.weight_decay = weight_decay\n",
                        "        self.layers = []\n",
                        "        curr_size = input_dim\n",
                        "        len_first_half = int(n_layers / 2)\n",
                        "        len_second_half = n_layers - len_first_half\n",
                        "        for i in range(len_first_half):\n",
                        "            new_size = curr_size * 2\n",
                        "            self.layers += [\n",
                        "                nn.Linear(curr_size, new_size),\n",
                        "                nn.BatchNorm1d(new_size),\n",
                        "                activation(),\n",
                        "                nn.Dropout(dropout),\n",
                        "            ]\n",
                        "            curr_size = new_size\n",
                        "        \n",
                        "        for i in range(len_second_half):\n",
                        "            new_size = curr_size // 2\n",
                        "            self.layers += [\n",
                        "                nn.Linear(curr_size, new_size),\n",
                        "                nn.BatchNorm1d(new_size),\n",
                        "                activation(),\n",
                        "                nn.Dropout(dropout),\n",
                        "            ]\n",
                        "            curr_size = new_size\n",
                        "        if curr_size > 1:\n",
                        "            self.layers.append(nn.Linear(curr_size, 1))\n",
                        "        self.network = nn.Sequential(*self.layers)\n",
                        "\n",
                        "        self.loss_metric = MeanSquaredError()\n",
                        "        self.val_metric = MeanSquaredError()\n",
                        "        self.test_metric = MeanSquaredError()\n",
                        "\n",
                        "\n",
                        "\n",
                        "    def forward(self, x):\n",
                        "        y = self.network(x)\n",
                        "        return y\n",
                        "    \n",
                        "    def training_step(self, batch, batch_idx):\n",
                        "        x, y = batch\n",
                        "        x = x.to(self.device)\n",
                        "        y = y.to(self.device)\n",
                        "        y_hat = self(x)\n",
                        "        loss = nn.functional.mse_loss(y_hat, y)\n",
                        "        self.log(\"train_loss\", loss, prog_bar=True)\n",
                        "        self.log(\"train_mse\", self.loss_metric(y_hat, y), prog_bar=True)\n",
                        "\n",
                        "        return loss\n",
                        "    \n",
                        "    def on_training_epoch_end(self):\n",
                        "        self.log(\"train_mse\", self.loss_metric.compute())\n",
                        "        self.loss_metric.reset()\n",
                        "\n",
                        "    def validation_step(self, batch, batch_idx):\n",
                        "        x, y = batch\n",
                        "        y_hat = self(x)\n",
                        "        loss = nn.functional.mse_loss(y_hat, y)\n",
                        "        self.log(\"val_loss\", loss, prog_bar=True)\n",
                        "        self.log(\"val_mse\", self.val_metric(y_hat, y), prog_bar=True)\n",
                        "\n",
                        "    def on_validation_epoch_end(self):\n",
                        "        self.log(\"val_mse\", self.val_metric.compute())\n",
                        "        self.val_metric.reset()\n",
                        "        \n",
                        "    def configure_optimizers(self):\n",
                        "        return self.optimizer(self.network.parameters(), lr=self.lr, weight_decay=self.weight_decay)\n",
                        "    \n",
                        "    def test_step(self, batch, batch_idx):\n",
                        "        x, y = batch\n",
                        "        y_hat = self(x)\n",
                        "        loss = nn.functional.mse_loss(y_hat, y)\n",
                        "        self.log(\"test_loss\", loss, prog_bar=True)\n",
                        "        self.log(\"test_mse\", self.test_metric(y_hat, y), prog_bar=True)\n",
                        "        return loss\n",
                        "    \n",
                        "    def on_test_epoch_end(self):\n",
                        "        self.log(\"test_mse\", self.test_metric.compute())\n",
                        "        self.test_metric.reset()\n",
                        "\n",
                        "simple_nn = NNRegressor(\n",
                        "    input_dim=len(cancer_dm.ds_train[0][0]),\n",
                        "    n_layers=8\n",
                        ")"
                  ]
            },
            {
                  "cell_type": "markdown",
                  "metadata": {},
                  "source": [
                        "## Create NNRegressor and Summarize\n"
                  ]
            },
            {
                  "cell_type": "code",
                  "execution_count": 5,
                  "metadata": {},
                  "outputs": [
                        {
                              "data": {
                                    "text/plain": [
                                          "==========================================================================================\n",
                                          "Layer (type:depth-idx)                   Output Shape              Param #\n",
                                          "==========================================================================================\n",
                                          "NNRegressor                              [1, 1]                    --\n",
                                          "├─Sequential: 1-1                        [1, 1]                    --\n",
                                          "│    └─Linear: 2-1                       [1, 1978]                 1,958,220\n",
                                          "│    └─BatchNorm1d: 2-2                  [1, 1978]                 3,956\n",
                                          "│    └─LeakyReLU: 2-3                    [1, 1978]                 --\n",
                                          "│    └─Dropout: 2-4                      [1, 1978]                 --\n",
                                          "│    └─Linear: 2-5                       [1, 3956]                 7,828,924\n",
                                          "│    └─BatchNorm1d: 2-6                  [1, 3956]                 7,912\n",
                                          "│    └─LeakyReLU: 2-7                    [1, 3956]                 --\n",
                                          "│    └─Dropout: 2-8                      [1, 3956]                 --\n",
                                          "│    └─Linear: 2-9                       [1, 7912]                 31,307,784\n",
                                          "│    └─BatchNorm1d: 2-10                 [1, 7912]                 15,824\n",
                                          "│    └─LeakyReLU: 2-11                   [1, 7912]                 --\n",
                                          "│    └─Dropout: 2-12                     [1, 7912]                 --\n",
                                          "│    └─Linear: 2-13                      [1, 15824]                125,215,312\n",
                                          "│    └─BatchNorm1d: 2-14                 [1, 15824]                31,648\n",
                                          "│    └─LeakyReLU: 2-15                   [1, 15824]                --\n",
                                          "│    └─Dropout: 2-16                     [1, 15824]                --\n",
                                          "│    └─Linear: 2-17                      [1, 7912]                 125,207,400\n",
                                          "│    └─BatchNorm1d: 2-18                 [1, 7912]                 15,824\n",
                                          "│    └─LeakyReLU: 2-19                   [1, 7912]                 --\n",
                                          "│    └─Dropout: 2-20                     [1, 7912]                 --\n",
                                          "│    └─Linear: 2-21                      [1, 3956]                 31,303,828\n",
                                          "│    └─BatchNorm1d: 2-22                 [1, 3956]                 7,912\n",
                                          "│    └─LeakyReLU: 2-23                   [1, 3956]                 --\n",
                                          "│    └─Dropout: 2-24                     [1, 3956]                 --\n",
                                          "│    └─Linear: 2-25                      [1, 1978]                 7,826,946\n",
                                          "│    └─BatchNorm1d: 2-26                 [1, 1978]                 3,956\n",
                                          "│    └─LeakyReLU: 2-27                   [1, 1978]                 --\n",
                                          "│    └─Dropout: 2-28                     [1, 1978]                 --\n",
                                          "│    └─Linear: 2-29                      [1, 989]                  1,957,231\n",
                                          "│    └─BatchNorm1d: 2-30                 [1, 989]                  1,978\n",
                                          "│    └─LeakyReLU: 2-31                   [1, 989]                  --\n",
                                          "│    └─Dropout: 2-32                     [1, 989]                  --\n",
                                          "│    └─Linear: 2-33                      [1, 1]                    990\n",
                                          "==========================================================================================\n",
                                          "Total params: 332,695,645\n",
                                          "Trainable params: 332,695,645\n",
                                          "Non-trainable params: 0\n",
                                          "Total mult-adds (Units.MEGABYTES): 332.70\n",
                                          "==========================================================================================\n",
                                          "Input size (MB): 0.00\n",
                                          "Forward/backward pass size (MB): 0.71\n",
                                          "Params size (MB): 1330.78\n",
                                          "Estimated Total Size (MB): 1331.50\n",
                                          "=========================================================================================="
                                    ]
                              },
                              "execution_count": 5,
                              "metadata": {},
                              "output_type": "execute_result"
                        }
                  ],
                  "source": [
                        "from torchinfo import summary\n",
                        "\n",
                        "input_dim = len(cancer_dm.ds_train[0][0])\n",
                        "summary(NNRegressor(\n",
                        "    input_dim=len(cancer_dm.ds_train[0][0]),\n",
                        "    n_layers=8\n",
                        "), input_size=(1, input_dim))"
                  ]
            },
            {
                  "cell_type": "markdown",
                  "metadata": {},
                  "source": [
                        "## Create and Train Neural Network Regressor"
                  ]
            },
            {
                  "cell_type": "markdown",
                  "metadata": {},
                  "source": [
                        "### Create and train initial model for code testing"
                  ]
            },
            {
                  "cell_type": "code",
                  "execution_count": 6,
                  "metadata": {},
                  "outputs": [
                        {
                              "name": "stderr",
                              "output_type": "stream",
                              "text": [
                                    "GPU available: True (cuda), used: True\n",
                                    "TPU available: False, using: 0 TPU cores\n",
                                    "HPU available: False, using: 0 HPUs\n",
                                    "You are using a CUDA device ('NVIDIA GeForce RTX 3080 Laptop GPU') that has Tensor Cores. To properly utilize them, you should set `torch.set_float32_matmul_precision('medium' | 'high')` which will trade-off precision for performance. For more details, read https://pytorch.org/docs/stable/generated/torch.set_float32_matmul_precision.html#torch.set_float32_matmul_precision\n",
                                    "LOCAL_RANK: 0 - CUDA_VISIBLE_DEVICES: [0]\n",
                                    "\n",
                                    "  | Name        | Type             | Params | Mode \n",
                                    "---------------------------------------------------------\n",
                                    "0 | network     | Sequential       | 3.9 M  | train\n",
                                    "1 | loss_metric | MeanSquaredError | 0      | train\n",
                                    "2 | val_metric  | MeanSquaredError | 0      | train\n",
                                    "3 | test_metric | MeanSquaredError | 0      | train\n",
                                    "---------------------------------------------------------\n",
                                    "3.9 M     Trainable params\n",
                                    "0         Non-trainable params\n",
                                    "3.9 M     Total params\n",
                                    "15.689    Total estimated model params size (MB)\n",
                                    "13        Modules in train mode\n",
                                    "0         Modules in eval mode\n"
                              ]
                        },
                        {
                              "data": {
                                    "application/vnd.jupyter.widget-view+json": {
                                          "model_id": "4ccaed5b55934ba7ba4a4d339aafc266",
                                          "version_major": 2,
                                          "version_minor": 0
                                    },
                                    "text/plain": [
                                          "Sanity Checking: |          | 0/? [00:00<?, ?it/s]"
                                    ]
                              },
                              "metadata": {},
                              "output_type": "display_data"
                        },
                        {
                              "data": {
                                    "application/vnd.jupyter.widget-view+json": {
                                          "model_id": "fa0f46dacb40400bbf26a78d9b8796e9",
                                          "version_major": 2,
                                          "version_minor": 0
                                    },
                                    "text/plain": [
                                          "Training: |          | 0/? [00:00<?, ?it/s]"
                                    ]
                              },
                              "metadata": {},
                              "output_type": "display_data"
                        },
                        {
                              "data": {
                                    "application/vnd.jupyter.widget-view+json": {
                                          "model_id": "2b45415752834c2aad3c4cadddb7225d",
                                          "version_major": 2,
                                          "version_minor": 0
                                    },
                                    "text/plain": [
                                          "Validation: |          | 0/? [00:00<?, ?it/s]"
                                    ]
                              },
                              "metadata": {},
                              "output_type": "display_data"
                        },
                        {
                              "data": {
                                    "application/vnd.jupyter.widget-view+json": {
                                          "model_id": "9003e3eb56924195bd30966088e063d0",
                                          "version_major": 2,
                                          "version_minor": 0
                                    },
                                    "text/plain": [
                                          "Validation: |          | 0/? [00:00<?, ?it/s]"
                                    ]
                              },
                              "metadata": {},
                              "output_type": "display_data"
                        },
                        {
                              "data": {
                                    "application/vnd.jupyter.widget-view+json": {
                                          "model_id": "c8519709102b4d27a549e43a8f7a73bc",
                                          "version_major": 2,
                                          "version_minor": 0
                                    },
                                    "text/plain": [
                                          "Validation: |          | 0/? [00:00<?, ?it/s]"
                                    ]
                              },
                              "metadata": {},
                              "output_type": "display_data"
                        },
                        {
                              "data": {
                                    "application/vnd.jupyter.widget-view+json": {
                                          "model_id": "e29d7e4c0a334ffbba19c20b3df1fb76",
                                          "version_major": 2,
                                          "version_minor": 0
                                    },
                                    "text/plain": [
                                          "Validation: |          | 0/? [00:00<?, ?it/s]"
                                    ]
                              },
                              "metadata": {},
                              "output_type": "display_data"
                        },
                        {
                              "data": {
                                    "application/vnd.jupyter.widget-view+json": {
                                          "model_id": "84530ef0d4364992b3b5336214e35fc3",
                                          "version_major": 2,
                                          "version_minor": 0
                                    },
                                    "text/plain": [
                                          "Validation: |          | 0/? [00:00<?, ?it/s]"
                                    ]
                              },
                              "metadata": {},
                              "output_type": "display_data"
                        }
                  ],
                  "source": [
                        "from utils.helper_functions import create_classifier_trainer\n",
                        "\n",
                        "trainer, regressor_csv_logger, regressor_checkpoint = create_classifier_trainer(\"cancer_regressor\")\n",
                        "cancer_regressor = NNRegressor(\n",
                        "    input_dim=len(cancer_dm.ds_train[0][0]),\n",
                        "    n_layers=2\n",
                        ")\n",
                        "trainer.fit(\n",
                        "    cancer_regressor,\n",
                        "    datamodule=CancerDataModule(cancer_df, numerical_features=numeric_cols, scaler=scaler),\n",
                        ")"
                  ]
            },
            {
                  "cell_type": "code",
                  "execution_count": 7,
                  "metadata": {},
                  "outputs": [
                        {
                              "name": "stderr",
                              "output_type": "stream",
                              "text": [
                                    "LOCAL_RANK: 0 - CUDA_VISIBLE_DEVICES: [0]\n"
                              ]
                        },
                        {
                              "data": {
                                    "application/vnd.jupyter.widget-view+json": {
                                          "model_id": "dec9ec8c4ab04ac79c15a93262a8e6f5",
                                          "version_major": 2,
                                          "version_minor": 0
                                    },
                                    "text/plain": [
                                          "Testing: |          | 0/? [00:00<?, ?it/s]"
                                    ]
                              },
                              "metadata": {},
                              "output_type": "display_data"
                        },
                        {
                              "data": {
                                    "text/html": [
                                          "<pre style=\"white-space:pre;overflow-x:auto;line-height:normal;font-family:Menlo,'DejaVu Sans Mono',consolas,'Courier New',monospace\">┏━━━━━━━━━━━━━━━━━━━━━━━━━━━┳━━━━━━━━━━━━━━━━━━━━━━━━━━━┓\n",
                                          "┃<span style=\"font-weight: bold\">        Test metric        </span>┃<span style=\"font-weight: bold\">       DataLoader 0        </span>┃\n",
                                          "┡━━━━━━━━━━━━━━━━━━━━━━━━━━━╇━━━━━━━━━━━━━━━━━━━━━━━━━━━┩\n",
                                          "│<span style=\"color: #008080; text-decoration-color: #008080\">         test_loss         </span>│<span style=\"color: #800080; text-decoration-color: #800080\">     716.8444213867188     </span>│\n",
                                          "│<span style=\"color: #008080; text-decoration-color: #008080\">         test_mse          </span>│<span style=\"color: #800080; text-decoration-color: #800080\">     716.8444213867188     </span>│\n",
                                          "└───────────────────────────┴───────────────────────────┘\n",
                                          "</pre>\n"
                                    ],
                                    "text/plain": [
                                          "┏━━━━━━━━━━━━━━━━━━━━━━━━━━━┳━━━━━━━━━━━━━━━━━━━━━━━━━━━┓\n",
                                          "┃\u001b[1m \u001b[0m\u001b[1m       Test metric       \u001b[0m\u001b[1m \u001b[0m┃\u001b[1m \u001b[0m\u001b[1m      DataLoader 0       \u001b[0m\u001b[1m \u001b[0m┃\n",
                                          "┡━━━━━━━━━━━━━━━━━━━━━━━━━━━╇━━━━━━━━━━━━━━━━━━━━━━━━━━━┩\n",
                                          "│\u001b[36m \u001b[0m\u001b[36m        test_loss        \u001b[0m\u001b[36m \u001b[0m│\u001b[35m \u001b[0m\u001b[35m    716.8444213867188    \u001b[0m\u001b[35m \u001b[0m│\n",
                                          "│\u001b[36m \u001b[0m\u001b[36m        test_mse         \u001b[0m\u001b[36m \u001b[0m│\u001b[35m \u001b[0m\u001b[35m    716.8444213867188    \u001b[0m\u001b[35m \u001b[0m│\n",
                                          "└───────────────────────────┴───────────────────────────┘\n"
                                    ]
                              },
                              "metadata": {},
                              "output_type": "display_data"
                        },
                        {
                              "data": {
                                    "text/plain": [
                                          "[{'test_loss': 716.8444213867188, 'test_mse': 716.8444213867188}]"
                                    ]
                              },
                              "execution_count": 7,
                              "metadata": {},
                              "output_type": "execute_result"
                        }
                  ],
                  "source": [
                        "trainer.test(\n",
                        "    model=cancer_regressor,\n",
                        "    datamodule=CancerDataModule(cancer_df, numerical_features=numeric_cols, scaler=scaler),\n",
                        ")"
                  ]
            },
            {
                  "cell_type": "markdown",
                  "metadata": {},
                  "source": [
                        "### Plot results from initial model"
                  ]
            },
            {
                  "cell_type": "code",
                  "execution_count": 14,
                  "metadata": {},
                  "outputs": [
                        {
                              "data": {
                                    "image/png": "[encoded data removed]",
                                    "text/plain": [
                                          "<Figure size 1000x600 with 1 Axes>"
                                    ]
                              },
                              "metadata": {},
                              "output_type": "display_data"
                        }
                  ],
                  "source": [
                        "from sklearn.metrics import r2_score\n",
                        "from sklearn.metrics import mean_squared_error\n",
                        "\n",
                        "def plot_regression_results(model, dataloader, title=\"Regression Results\"):\n",
                        "    model.eval()\n",
                        "    y_true = []\n",
                        "    y_pred = []\n",
                        "    with torch.no_grad():\n",
                        "        for batch in dataloader:\n",
                        "            x, y = batch\n",
                        "            y_hat = model(x)\n",
                        "            y_true.append(y)\n",
                        "            y_pred.append(y_hat)\n",
                        "\n",
                        "    y_true = torch.cat(y_true).numpy()\n",
                        "    y_pred = torch.cat(y_pred).numpy()\n",
                        "    r2 = r2_score(y_true, y_pred)\n",
                        "    mse = mean_squared_error(y_true, y_pred)\n",
                        "\n",
                        "    plt.figure(figsize=(10, 6))\n",
                        "    plt.scatter(y_true, y_pred, alpha=0.5)\n",
                        "    plt.plot([y_true.min(), y_true.max()], [y_true.min(), y_true.max()], 'r--')\n",
                        "    plt.xlabel('True Values')\n",
                        "    plt.ylabel('Predictions')\n",
                        "    plt.title(title)\n",
                        "    plt.grid(True)\n",
                        "    # Add R² and MSE text in upper left corner\n",
                        "    plt.text(\n",
                        "        0.05, 0.95,\n",
                        "        f'R² = {r2:.3f}\\nMSE = {mse:.3f}',\n",
                        "        transform=plt.gca().transAxes,\n",
                        "        fontsize=12,\n",
                        "        verticalalignment='top',\n",
                        "        bbox=dict(facecolor='white', alpha=0.8, edgecolor='gray')\n",
                        "    )\n",
                        "    plt.show()\n",
                        "plot_regression_results(cancer_regressor, cancer_dm.test_dataloader())"
                  ]
            },
            {
                  "cell_type": "markdown",
                  "metadata": {},
                  "source": [
                        "### Perform Hyperparameter Tuning with Optuna"
                  ]
            },
            {
                  "cell_type": "code",
                  "execution_count": 9,
                  "metadata": {},
                  "outputs": [],
                  "source": [
                        "import optuna\n",
                        "\n",
                        "trial_to_details = {}\n",
                        "def objective(trial):\n",
                        "    # Sample hyperparameters\n",
                        "    activation_dict = {\n",
                        "        \"relu\": nn.ReLU,\n",
                        "        \"leaky_relu\": nn.LeakyReLU,\n",
                        "        \"tanh\": nn.Tanh,\n",
                        "        \"RReLU\": nn.RReLU,\n",
                        "    }\n",
                        "    optimizer_dict = {\n",
                        "        \"adam\": torch.optim.Adam,\n",
                        "        \"sgd\": torch.optim.SGD,\n",
                        "        \"adagrad\": torch.optim.Adagrad,\n",
                        "    }\n",
                        "    n_layers = trial.suggest_int(\"n_layers\", 3, 5)\n",
                        "    dropout = trial.suggest_float(\"dropout\", 0.0, 0.5)\n",
                        "    learning_rate = trial.suggest_float(\"learning_rate\", 1e-5, 1e-2, log=True)\n",
                        "    weight_decay = trial.suggest_float(\"weight_decay\", 1e-5, 1e-2, log=True)\n",
                        "    optimizer = trial.suggest_categorical(\"optimizer\", list(optimizer_dict.keys()))\n",
                        "    activation = trial.suggest_categorical(\"activation\", list(activation_dict.keys()) )\n",
                        "\n",
                        "    activation = activation_dict[activation]\n",
                        "    optimizer = optimizer_dict[optimizer]\n",
                        "\n",
                        "    model =NNRegressor(\n",
                        "        input_dim=len(cancer_dm.ds_train[0][0]),\n",
                        "        n_layers=n_layers,\n",
                        "        dropout=dropout,\n",
                        "        activation=activation,\n",
                        "        optimizer=optimizer,\n",
                        "        lr=learning_rate,\n",
                        "        weight_decay=weight_decay,\n",
                        "    )\n",
                        "    trainer, logger, checkpoint = create_classifier_trainer(f\"nn_trial_{trial.number}\", max_epochs=50, enable_pbar=False)\n",
                        "\n",
                        "\n",
                        "    # Training loop\n",
                        "    trainer.fit(\n",
                        "        model,\n",
                        "        datamodule=CancerDataModule(cancer_df, numerical_features=numeric_cols, scaler=scaler),\n",
                        "    )\n",
                        "    trial_to_details[trial.number] = {\n",
                        "        \"logger\" : logger,\n",
                        "        \"checkpoint\" : checkpoint,\n",
                        "    }\n",
                        "\n",
                        "    \n",
                        "    # Store trial details\n",
                        "    trial_to_details[trial.number] = {\n",
                        "        \"logger\" : logger,\n",
                        "        \"checkpoint\" : checkpoint,\n",
                        "    }\n",
                        "    metrics_path = f\"{logger.log_dir}/metrics.csv\"\n",
                        "    metrics_df = pd.read_csv(metrics_path)\n",
                        "\n",
                        "    if \"val_mse\" not in metrics_df.columns:\n",
                        "        return float(\"inf\")\n",
                        "\n",
                        "    last_val = metrics_df[\"val_mse\"].dropna().values[-1]\n",
                        "    return last_val"
                  ]
            },
            {
                  "cell_type": "code",
                  "execution_count": 10,
                  "metadata": {},
                  "outputs": [
                        {
                              "name": "stderr",
                              "output_type": "stream",
                              "text": [
                                    "[I 2025-04-18 14:53:47,138] A new study created in memory with name: deep_regressor_study\n"
                              ]
                        },
                        {
                              "data": {
                                    "application/vnd.jupyter.widget-view+json": {
                                          "model_id": "85882181123142479b7fd1f3b1c261fd",
                                          "version_major": 2,
                                          "version_minor": 0
                                    },
                                    "text/plain": [
                                          "  0%|          | 0/20 [00:00<?, ?it/s]"
                                    ]
                              },
                              "metadata": {},
                              "output_type": "display_data"
                        },
                        {
                              "name": "stderr",
                              "output_type": "stream",
                              "text": [
                                    "GPU available: True (cuda), used: True\n",
                                    "TPU available: False, using: 0 TPU cores\n",
                                    "HPU available: False, using: 0 HPUs\n",
                                    "LOCAL_RANK: 0 - CUDA_VISIBLE_DEVICES: [0]\n",
                                    "\n",
                                    "  | Name        | Type             | Params | Mode \n",
                                    "---------------------------------------------------------\n",
                                    "0 | network     | Sequential       | 4.4 M  | train\n",
                                    "1 | loss_metric | MeanSquaredError | 0      | train\n",
                                    "2 | val_metric  | MeanSquaredError | 0      | train\n",
                                    "3 | test_metric | MeanSquaredError | 0      | train\n",
                                    "---------------------------------------------------------\n",
                                    "4.4 M     Trainable params\n",
                                    "0         Non-trainable params\n",
                                    "4.4 M     Total params\n",
                                    "17.648    Total estimated model params size (MB)\n",
                                    "17        Modules in train mode\n",
                                    "0         Modules in eval mode\n",
                                    "GPU available: True (cuda), used: True\n",
                                    "TPU available: False, using: 0 TPU cores\n",
                                    "HPU available: False, using: 0 HPUs\n"
                              ]
                        },
                        {
                              "name": "stdout",
                              "output_type": "stream",
                              "text": [
                                    "[I 2025-04-18 14:53:54,916] Trial 0 finished with value: 1037.0838623046875 and parameters: {'n_layers': 3, 'dropout': 7.989955857756748e-05, 'learning_rate': 1.1933132827310471e-05, 'weight_decay': 0.002452951953070187, 'optimizer': 'adagrad', 'activation': 'relu'}. Best is trial 0 with value: 1037.0838623046875.\n"
                              ]
                        },
                        {
                              "name": "stderr",
                              "output_type": "stream",
                              "text": [
                                    "LOCAL_RANK: 0 - CUDA_VISIBLE_DEVICES: [0]\n",
                                    "\n",
                                    "  | Name        | Type             | Params | Mode \n",
                                    "---------------------------------------------------------\n",
                                    "0 | network     | Sequential       | 19.6 M | train\n",
                                    "1 | loss_metric | MeanSquaredError | 0      | train\n",
                                    "2 | val_metric  | MeanSquaredError | 0      | train\n",
                                    "3 | test_metric | MeanSquaredError | 0      | train\n",
                                    "---------------------------------------------------------\n",
                                    "19.6 M    Trainable params\n",
                                    "0         Non-trainable params\n",
                                    "19.6 M    Total params\n",
                                    "78.360    Total estimated model params size (MB)\n",
                                    "21        Modules in train mode\n",
                                    "0         Modules in eval mode\n",
                                    "GPU available: True (cuda), used: True\n",
                                    "TPU available: False, using: 0 TPU cores\n",
                                    "HPU available: False, using: 0 HPUs\n"
                              ]
                        },
                        {
                              "name": "stdout",
                              "output_type": "stream",
                              "text": [
                                    "[I 2025-04-18 14:54:04,255] Trial 1 finished with value: 1034.0025634765625 and parameters: {'n_layers': 4, 'dropout': 0.27150081973813806, 'learning_rate': 1.7637872255337133e-05, 'weight_decay': 0.00012073355776527528, 'optimizer': 'adagrad', 'activation': 'RReLU'}. Best is trial 1 with value: 1034.0025634765625.\n"
                              ]
                        },
                        {
                              "name": "stderr",
                              "output_type": "stream",
                              "text": [
                                    "LOCAL_RANK: 0 - CUDA_VISIBLE_DEVICES: [0]\n",
                                    "\n",
                                    "  | Name        | Type             | Params | Mode \n",
                                    "---------------------------------------------------------\n",
                                    "0 | network     | Sequential       | 20.1 M | train\n",
                                    "1 | loss_metric | MeanSquaredError | 0      | train\n",
                                    "2 | val_metric  | MeanSquaredError | 0      | train\n",
                                    "3 | test_metric | MeanSquaredError | 0      | train\n",
                                    "---------------------------------------------------------\n",
                                    "20.1 M    Trainable params\n",
                                    "0         Non-trainable params\n",
                                    "20.1 M    Total params\n",
                                    "80.319    Total estimated model params size (MB)\n",
                                    "25        Modules in train mode\n",
                                    "0         Modules in eval mode\n",
                                    "GPU available: True (cuda), used: True\n",
                                    "TPU available: False, using: 0 TPU cores\n",
                                    "HPU available: False, using: 0 HPUs\n"
                              ]
                        },
                        {
                              "name": "stdout",
                              "output_type": "stream",
                              "text": [
                                    "[I 2025-04-18 14:54:50,587] Trial 2 finished with value: 928.3951416015624 and parameters: {'n_layers': 5, 'dropout': 0.32057057792045973, 'learning_rate': 1.5459194402268157e-05, 'weight_decay': 0.0059117485393837795, 'optimizer': 'sgd', 'activation': 'RReLU'}. Best is trial 2 with value: 928.3951416015624.\n"
                              ]
                        },
                        {
                              "name": "stderr",
                              "output_type": "stream",
                              "text": [
                                    "LOCAL_RANK: 0 - CUDA_VISIBLE_DEVICES: [0]\n",
                                    "\n",
                                    "  | Name        | Type             | Params | Mode \n",
                                    "---------------------------------------------------------\n",
                                    "0 | network     | Sequential       | 4.4 M  | train\n",
                                    "1 | loss_metric | MeanSquaredError | 0      | train\n",
                                    "2 | val_metric  | MeanSquaredError | 0      | train\n",
                                    "3 | test_metric | MeanSquaredError | 0      | train\n",
                                    "---------------------------------------------------------\n",
                                    "4.4 M     Trainable params\n",
                                    "0         Non-trainable params\n",
                                    "4.4 M     Total params\n",
                                    "17.648    Total estimated model params size (MB)\n",
                                    "17        Modules in train mode\n",
                                    "0         Modules in eval mode\n",
                                    "GPU available: True (cuda), used: True\n",
                                    "TPU available: False, using: 0 TPU cores\n",
                                    "HPU available: False, using: 0 HPUs\n"
                              ]
                        },
                        {
                              "name": "stdout",
                              "output_type": "stream",
                              "text": [
                                    "[I 2025-04-18 14:55:19,251] Trial 3 finished with value: 1029.854736328125 and parameters: {'n_layers': 3, 'dropout': 0.2583984693492947, 'learning_rate': 2.0746965068805642e-05, 'weight_decay': 0.009780579037956956, 'optimizer': 'adagrad', 'activation': 'relu'}. Best is trial 2 with value: 928.3951416015624.\n"
                              ]
                        },
                        {
                              "name": "stderr",
                              "output_type": "stream",
                              "text": [
                                    "LOCAL_RANK: 0 - CUDA_VISIBLE_DEVICES: [0]\n",
                                    "\n",
                                    "  | Name        | Type             | Params | Mode \n",
                                    "---------------------------------------------------------\n",
                                    "0 | network     | Sequential       | 4.4 M  | train\n",
                                    "1 | loss_metric | MeanSquaredError | 0      | train\n",
                                    "2 | val_metric  | MeanSquaredError | 0      | train\n",
                                    "3 | test_metric | MeanSquaredError | 0      | train\n",
                                    "---------------------------------------------------------\n",
                                    "4.4 M     Trainable params\n",
                                    "0         Non-trainable params\n",
                                    "4.4 M     Total params\n",
                                    "17.648    Total estimated model params size (MB)\n",
                                    "17        Modules in train mode\n",
                                    "0         Modules in eval mode\n"
                              ]
                        },
                        {
                              "name": "stdout",
                              "output_type": "stream",
                              "text": [
                                    "[I 2025-04-18 14:55:27,722] Trial 4 finished with value: 1050.9501953125 and parameters: {'n_layers': 3, 'dropout': 0.13344669502609346, 'learning_rate': 0.0028773781924831122, 'weight_decay': 1.3823758348019807e-05, 'optimizer': 'adagrad', 'activation': 'RReLU'}. Best is trial 2 with value: 928.3951416015624.\n"
                              ]
                        },
                        {
                              "name": "stderr",
                              "output_type": "stream",
                              "text": [
                                    "GPU available: True (cuda), used: True\n",
                                    "TPU available: False, using: 0 TPU cores\n",
                                    "HPU available: False, using: 0 HPUs\n",
                                    "LOCAL_RANK: 0 - CUDA_VISIBLE_DEVICES: [0]\n",
                                    "\n",
                                    "  | Name        | Type             | Params | Mode \n",
                                    "---------------------------------------------------------\n",
                                    "0 | network     | Sequential       | 19.6 M | train\n",
                                    "1 | loss_metric | MeanSquaredError | 0      | train\n",
                                    "2 | val_metric  | MeanSquaredError | 0      | train\n",
                                    "3 | test_metric | MeanSquaredError | 0      | train\n",
                                    "---------------------------------------------------------\n",
                                    "19.6 M    Trainable params\n",
                                    "0         Non-trainable params\n",
                                    "19.6 M    Total params\n",
                                    "78.360    Total estimated model params size (MB)\n",
                                    "21        Modules in train mode\n",
                                    "0         Modules in eval mode\n",
                                    "GPU available: True (cuda), used: True\n",
                                    "TPU available: False, using: 0 TPU cores\n",
                                    "HPU available: False, using: 0 HPUs\n"
                              ]
                        },
                        {
                              "name": "stdout",
                              "output_type": "stream",
                              "text": [
                                    "[I 2025-04-18 14:55:44,006] Trial 5 finished with value: 890.6316528320312 and parameters: {'n_layers': 4, 'dropout': 0.2918710132877048, 'learning_rate': 0.000410955001301548, 'weight_decay': 0.0008335994726421812, 'optimizer': 'adagrad', 'activation': 'relu'}. Best is trial 5 with value: 890.6316528320312.\n"
                              ]
                        },
                        {
                              "name": "stderr",
                              "output_type": "stream",
                              "text": [
                                    "LOCAL_RANK: 0 - CUDA_VISIBLE_DEVICES: [0]\n",
                                    "\n",
                                    "  | Name        | Type             | Params | Mode \n",
                                    "---------------------------------------------------------\n",
                                    "0 | network     | Sequential       | 19.6 M | train\n",
                                    "1 | loss_metric | MeanSquaredError | 0      | train\n",
                                    "2 | val_metric  | MeanSquaredError | 0      | train\n",
                                    "3 | test_metric | MeanSquaredError | 0      | train\n",
                                    "---------------------------------------------------------\n",
                                    "19.6 M    Trainable params\n",
                                    "0         Non-trainable params\n",
                                    "19.6 M    Total params\n",
                                    "78.360    Total estimated model params size (MB)\n",
                                    "21        Modules in train mode\n",
                                    "0         Modules in eval mode\n",
                                    "GPU available: True (cuda), used: True\n",
                                    "TPU available: False, using: 0 TPU cores\n",
                                    "HPU available: False, using: 0 HPUs\n"
                              ]
                        },
                        {
                              "name": "stdout",
                              "output_type": "stream",
                              "text": [
                                    "[I 2025-04-18 14:55:58,253] Trial 6 finished with value: 1003.818115234375 and parameters: {'n_layers': 4, 'dropout': 0.3924808773744186, 'learning_rate': 0.002872577861717131, 'weight_decay': 0.0009660831575130967, 'optimizer': 'adam', 'activation': 'leaky_relu'}. Best is trial 5 with value: 890.6316528320312.\n"
                              ]
                        },
                        {
                              "name": "stderr",
                              "output_type": "stream",
                              "text": [
                                    "LOCAL_RANK: 0 - CUDA_VISIBLE_DEVICES: [0]\n",
                                    "\n",
                                    "  | Name        | Type             | Params | Mode \n",
                                    "---------------------------------------------------------\n",
                                    "0 | network     | Sequential       | 4.4 M  | train\n",
                                    "1 | loss_metric | MeanSquaredError | 0      | train\n",
                                    "2 | val_metric  | MeanSquaredError | 0      | train\n",
                                    "3 | test_metric | MeanSquaredError | 0      | train\n",
                                    "---------------------------------------------------------\n",
                                    "4.4 M     Trainable params\n",
                                    "0         Non-trainable params\n",
                                    "4.4 M     Total params\n",
                                    "17.648    Total estimated model params size (MB)\n",
                                    "17        Modules in train mode\n",
                                    "0         Modules in eval mode\n",
                                    "GPU available: True (cuda), used: True\n",
                                    "TPU available: False, using: 0 TPU cores\n",
                                    "HPU available: False, using: 0 HPUs\n"
                              ]
                        },
                        {
                              "name": "stdout",
                              "output_type": "stream",
                              "text": [
                                    "[I 2025-04-18 14:56:07,978] Trial 7 finished with value: 1243.043701171875 and parameters: {'n_layers': 3, 'dropout': 0.36522165393832684, 'learning_rate': 0.0036042643237905883, 'weight_decay': 0.00036144815854935615, 'optimizer': 'adam', 'activation': 'RReLU'}. Best is trial 5 with value: 890.6316528320312.\n"
                              ]
                        },
                        {
                              "name": "stderr",
                              "output_type": "stream",
                              "text": [
                                    "LOCAL_RANK: 0 - CUDA_VISIBLE_DEVICES: [0]\n",
                                    "\n",
                                    "  | Name        | Type             | Params | Mode \n",
                                    "---------------------------------------------------------\n",
                                    "0 | network     | Sequential       | 19.6 M | train\n",
                                    "1 | loss_metric | MeanSquaredError | 0      | train\n",
                                    "2 | val_metric  | MeanSquaredError | 0      | train\n",
                                    "3 | test_metric | MeanSquaredError | 0      | train\n",
                                    "---------------------------------------------------------\n",
                                    "19.6 M    Trainable params\n",
                                    "0         Non-trainable params\n",
                                    "19.6 M    Total params\n",
                                    "78.360    Total estimated model params size (MB)\n",
                                    "21        Modules in train mode\n",
                                    "0         Modules in eval mode\n"
                              ]
                        },
                        {
                              "name": "stdout",
                              "output_type": "stream",
                              "text": [
                                    "[I 2025-04-18 14:56:18,289] Trial 8 finished with value: 1186.718017578125 and parameters: {'n_layers': 4, 'dropout': 0.09296393479793907, 'learning_rate': 0.0015170646636090978, 'weight_decay': 0.00014555240675002043, 'optimizer': 'adam', 'activation': 'tanh'}. Best is trial 5 with value: 890.6316528320312.\n"
                              ]
                        },
                        {
                              "name": "stderr",
                              "output_type": "stream",
                              "text": [
                                    "GPU available: True (cuda), used: True\n",
                                    "TPU available: False, using: 0 TPU cores\n",
                                    "HPU available: False, using: 0 HPUs\n",
                                    "LOCAL_RANK: 0 - CUDA_VISIBLE_DEVICES: [0]\n",
                                    "\n",
                                    "  | Name        | Type             | Params | Mode \n",
                                    "---------------------------------------------------------\n",
                                    "0 | network     | Sequential       | 19.6 M | train\n",
                                    "1 | loss_metric | MeanSquaredError | 0      | train\n",
                                    "2 | val_metric  | MeanSquaredError | 0      | train\n",
                                    "3 | test_metric | MeanSquaredError | 0      | train\n",
                                    "---------------------------------------------------------\n",
                                    "19.6 M    Trainable params\n",
                                    "0         Non-trainable params\n",
                                    "19.6 M    Total params\n",
                                    "78.360    Total estimated model params size (MB)\n",
                                    "21        Modules in train mode\n",
                                    "0         Modules in eval mode\n"
                              ]
                        },
                        {
                              "name": "stdout",
                              "output_type": "stream",
                              "text": [
                                    "[I 2025-04-18 14:56:29,687] Trial 9 finished with value: 1231.9871826171875 and parameters: {'n_layers': 4, 'dropout': 0.14126586234979654, 'learning_rate': 0.0018065155438344376, 'weight_decay': 9.67975531261502e-05, 'optimizer': 'adam', 'activation': 'tanh'}. Best is trial 5 with value: 890.6316528320312.\n"
                              ]
                        },
                        {
                              "name": "stderr",
                              "output_type": "stream",
                              "text": [
                                    "GPU available: True (cuda), used: True\n",
                                    "TPU available: False, using: 0 TPU cores\n",
                                    "HPU available: False, using: 0 HPUs\n",
                                    "LOCAL_RANK: 0 - CUDA_VISIBLE_DEVICES: [0]\n",
                                    "\n",
                                    "  | Name        | Type             | Params | Mode \n",
                                    "---------------------------------------------------------\n",
                                    "0 | network     | Sequential       | 20.1 M | train\n",
                                    "1 | loss_metric | MeanSquaredError | 0      | train\n",
                                    "2 | val_metric  | MeanSquaredError | 0      | train\n",
                                    "3 | test_metric | MeanSquaredError | 0      | train\n",
                                    "---------------------------------------------------------\n",
                                    "20.1 M    Trainable params\n",
                                    "0         Non-trainable params\n",
                                    "20.1 M    Total params\n",
                                    "80.319    Total estimated model params size (MB)\n",
                                    "25        Modules in train mode\n",
                                    "0         Modules in eval mode\n"
                              ]
                        },
                        {
                              "name": "stdout",
                              "output_type": "stream",
                              "text": [
                                    "[I 2025-04-18 14:56:43,998] Trial 10 finished with value: 1523.403564453125 and parameters: {'n_layers': 5, 'dropout': 0.4998499549223694, 'learning_rate': 0.00018878760258219795, 'weight_decay': 2.228105165677163e-05, 'optimizer': 'sgd', 'activation': 'relu'}. Best is trial 5 with value: 890.6316528320312.\n"
                              ]
                        },
                        {
                              "name": "stderr",
                              "output_type": "stream",
                              "text": [
                                    "GPU available: True (cuda), used: True\n",
                                    "TPU available: False, using: 0 TPU cores\n",
                                    "HPU available: False, using: 0 HPUs\n",
                                    "LOCAL_RANK: 0 - CUDA_VISIBLE_DEVICES: [0]\n",
                                    "\n",
                                    "  | Name        | Type             | Params | Mode \n",
                                    "---------------------------------------------------------\n",
                                    "0 | network     | Sequential       | 20.1 M | train\n",
                                    "1 | loss_metric | MeanSquaredError | 0      | train\n",
                                    "2 | val_metric  | MeanSquaredError | 0      | train\n",
                                    "3 | test_metric | MeanSquaredError | 0      | train\n",
                                    "---------------------------------------------------------\n",
                                    "20.1 M    Trainable params\n",
                                    "0         Non-trainable params\n",
                                    "20.1 M    Total params\n",
                                    "80.319    Total estimated model params size (MB)\n",
                                    "25        Modules in train mode\n",
                                    "0         Modules in eval mode\n"
                              ]
                        },
                        {
                              "name": "stdout",
                              "output_type": "stream",
                              "text": [
                                    "[I 2025-04-18 14:56:59,054] Trial 11 finished with value: 1149.13427734375 and parameters: {'n_layers': 5, 'dropout': 0.34795211825392885, 'learning_rate': 0.00014448284919197808, 'weight_decay': 0.007437879275763646, 'optimizer': 'sgd', 'activation': 'leaky_relu'}. Best is trial 5 with value: 890.6316528320312.\n"
                              ]
                        },
                        {
                              "name": "stderr",
                              "output_type": "stream",
                              "text": [
                                    "GPU available: True (cuda), used: True\n",
                                    "TPU available: False, using: 0 TPU cores\n",
                                    "HPU available: False, using: 0 HPUs\n",
                                    "LOCAL_RANK: 0 - CUDA_VISIBLE_DEVICES: [0]\n",
                                    "\n",
                                    "  | Name        | Type             | Params | Mode \n",
                                    "---------------------------------------------------------\n",
                                    "0 | network     | Sequential       | 20.1 M | train\n",
                                    "1 | loss_metric | MeanSquaredError | 0      | train\n",
                                    "2 | val_metric  | MeanSquaredError | 0      | train\n",
                                    "3 | test_metric | MeanSquaredError | 0      | train\n",
                                    "---------------------------------------------------------\n",
                                    "20.1 M    Trainable params\n",
                                    "0         Non-trainable params\n",
                                    "20.1 M    Total params\n",
                                    "80.319    Total estimated model params size (MB)\n",
                                    "25        Modules in train mode\n",
                                    "0         Modules in eval mode\n"
                              ]
                        },
                        {
                              "name": "stdout",
                              "output_type": "stream",
                              "text": [
                                    "[I 2025-04-18 14:57:17,343] Trial 12 finished with value: 1279.2686767578125 and parameters: {'n_layers': 5, 'dropout': 0.22005206716676512, 'learning_rate': 6.558720876035802e-05, 'weight_decay': 0.002151644046271936, 'optimizer': 'sgd', 'activation': 'RReLU'}. Best is trial 5 with value: 890.6316528320312.\n"
                              ]
                        },
                        {
                              "name": "stderr",
                              "output_type": "stream",
                              "text": [
                                    "GPU available: True (cuda), used: True\n",
                                    "TPU available: False, using: 0 TPU cores\n",
                                    "HPU available: False, using: 0 HPUs\n",
                                    "LOCAL_RANK: 0 - CUDA_VISIBLE_DEVICES: [0]\n",
                                    "\n",
                                    "  | Name        | Type             | Params | Mode \n",
                                    "---------------------------------------------------------\n",
                                    "0 | network     | Sequential       | 20.1 M | train\n",
                                    "1 | loss_metric | MeanSquaredError | 0      | train\n",
                                    "2 | val_metric  | MeanSquaredError | 0      | train\n",
                                    "3 | test_metric | MeanSquaredError | 0      | train\n",
                                    "---------------------------------------------------------\n",
                                    "20.1 M    Trainable params\n",
                                    "0         Non-trainable params\n",
                                    "20.1 M    Total params\n",
                                    "80.319    Total estimated model params size (MB)\n",
                                    "25        Modules in train mode\n",
                                    "0         Modules in eval mode\n"
                              ]
                        },
                        {
                              "name": "stdout",
                              "output_type": "stream",
                              "text": [
                                    "[I 2025-04-18 14:57:29,482] Trial 13 finished with value: 3353.265869140625 and parameters: {'n_layers': 5, 'dropout': 0.4505006883395642, 'learning_rate': 0.000551571787745128, 'weight_decay': 0.0009337152072156824, 'optimizer': 'sgd', 'activation': 'relu'}. Best is trial 5 with value: 890.6316528320312.\n"
                              ]
                        },
                        {
                              "name": "stderr",
                              "output_type": "stream",
                              "text": [
                                    "GPU available: True (cuda), used: True\n",
                                    "TPU available: False, using: 0 TPU cores\n",
                                    "HPU available: False, using: 0 HPUs\n",
                                    "LOCAL_RANK: 0 - CUDA_VISIBLE_DEVICES: [0]\n",
                                    "\n",
                                    "  | Name        | Type             | Params | Mode \n",
                                    "---------------------------------------------------------\n",
                                    "0 | network     | Sequential       | 19.6 M | train\n",
                                    "1 | loss_metric | MeanSquaredError | 0      | train\n",
                                    "2 | val_metric  | MeanSquaredError | 0      | train\n",
                                    "3 | test_metric | MeanSquaredError | 0      | train\n",
                                    "---------------------------------------------------------\n",
                                    "19.6 M    Trainable params\n",
                                    "0         Non-trainable params\n",
                                    "19.6 M    Total params\n",
                                    "78.360    Total estimated model params size (MB)\n",
                                    "21        Modules in train mode\n",
                                    "0         Modules in eval mode\n"
                              ]
                        },
                        {
                              "name": "stdout",
                              "output_type": "stream",
                              "text": [
                                    "[I 2025-04-18 14:57:53,256] Trial 14 finished with value: 858.828369140625 and parameters: {'n_layers': 4, 'dropout': 0.30842715566321594, 'learning_rate': 0.00059935089327359, 'weight_decay': 0.0036808988501540528, 'optimizer': 'adagrad', 'activation': 'relu'}. Best is trial 14 with value: 858.828369140625.\n"
                              ]
                        },
                        {
                              "name": "stderr",
                              "output_type": "stream",
                              "text": [
                                    "GPU available: True (cuda), used: True\n",
                                    "TPU available: False, using: 0 TPU cores\n",
                                    "HPU available: False, using: 0 HPUs\n",
                                    "LOCAL_RANK: 0 - CUDA_VISIBLE_DEVICES: [0]\n",
                                    "\n",
                                    "  | Name        | Type             | Params | Mode \n",
                                    "---------------------------------------------------------\n",
                                    "0 | network     | Sequential       | 19.6 M | train\n",
                                    "1 | loss_metric | MeanSquaredError | 0      | train\n",
                                    "2 | val_metric  | MeanSquaredError | 0      | train\n",
                                    "3 | test_metric | MeanSquaredError | 0      | train\n",
                                    "---------------------------------------------------------\n",
                                    "19.6 M    Trainable params\n",
                                    "0         Non-trainable params\n",
                                    "19.6 M    Total params\n",
                                    "78.360    Total estimated model params size (MB)\n",
                                    "21        Modules in train mode\n",
                                    "0         Modules in eval mode\n"
                              ]
                        },
                        {
                              "name": "stdout",
                              "output_type": "stream",
                              "text": [
                                    "[I 2025-04-18 14:58:08,636] Trial 15 finished with value: 962.1817626953124 and parameters: {'n_layers': 4, 'dropout': 0.19423453239988955, 'learning_rate': 0.0006019451517110413, 'weight_decay': 0.0005814189020726035, 'optimizer': 'adagrad', 'activation': 'relu'}. Best is trial 14 with value: 858.828369140625.\n"
                              ]
                        },
                        {
                              "name": "stderr",
                              "output_type": "stream",
                              "text": [
                                    "GPU available: True (cuda), used: True\n",
                                    "TPU available: False, using: 0 TPU cores\n",
                                    "HPU available: False, using: 0 HPUs\n",
                                    "LOCAL_RANK: 0 - CUDA_VISIBLE_DEVICES: [0]\n",
                                    "\n",
                                    "  | Name        | Type             | Params | Mode \n",
                                    "---------------------------------------------------------\n",
                                    "0 | network     | Sequential       | 19.6 M | train\n",
                                    "1 | loss_metric | MeanSquaredError | 0      | train\n",
                                    "2 | val_metric  | MeanSquaredError | 0      | train\n",
                                    "3 | test_metric | MeanSquaredError | 0      | train\n",
                                    "---------------------------------------------------------\n",
                                    "19.6 M    Trainable params\n",
                                    "0         Non-trainable params\n",
                                    "19.6 M    Total params\n",
                                    "78.360    Total estimated model params size (MB)\n",
                                    "21        Modules in train mode\n",
                                    "0         Modules in eval mode\n"
                              ]
                        },
                        {
                              "name": "stdout",
                              "output_type": "stream",
                              "text": [
                                    "[I 2025-04-18 14:58:25,558] Trial 16 finished with value: 977.1424560546876 and parameters: {'n_layers': 4, 'dropout': 0.3020425540336406, 'learning_rate': 0.007950486335579944, 'weight_decay': 0.002503330398986173, 'optimizer': 'adagrad', 'activation': 'relu'}. Best is trial 14 with value: 858.828369140625.\n"
                              ]
                        },
                        {
                              "name": "stderr",
                              "output_type": "stream",
                              "text": [
                                    "GPU available: True (cuda), used: True\n",
                                    "TPU available: False, using: 0 TPU cores\n",
                                    "HPU available: False, using: 0 HPUs\n",
                                    "LOCAL_RANK: 0 - CUDA_VISIBLE_DEVICES: [0]\n",
                                    "\n",
                                    "  | Name        | Type             | Params | Mode \n",
                                    "---------------------------------------------------------\n",
                                    "0 | network     | Sequential       | 19.6 M | train\n",
                                    "1 | loss_metric | MeanSquaredError | 0      | train\n",
                                    "2 | val_metric  | MeanSquaredError | 0      | train\n",
                                    "3 | test_metric | MeanSquaredError | 0      | train\n",
                                    "---------------------------------------------------------\n",
                                    "19.6 M    Trainable params\n",
                                    "0         Non-trainable params\n",
                                    "19.6 M    Total params\n",
                                    "78.360    Total estimated model params size (MB)\n",
                                    "21        Modules in train mode\n",
                                    "0         Modules in eval mode\n",
                                    "GPU available: True (cuda), used: True\n",
                                    "TPU available: False, using: 0 TPU cores\n",
                                    "HPU available: False, using: 0 HPUs\n"
                              ]
                        },
                        {
                              "name": "stdout",
                              "output_type": "stream",
                              "text": [
                                    "[I 2025-04-18 14:58:59,333] Trial 17 finished with value: 733.0496215820312 and parameters: {'n_layers': 4, 'dropout': 0.4150142339062526, 'learning_rate': 0.000493898367710332, 'weight_decay': 0.0014165252681537796, 'optimizer': 'adagrad', 'activation': 'relu'}. Best is trial 17 with value: 733.0496215820312.\n"
                              ]
                        },
                        {
                              "name": "stderr",
                              "output_type": "stream",
                              "text": [
                                    "LOCAL_RANK: 0 - CUDA_VISIBLE_DEVICES: [0]\n",
                                    "\n",
                                    "  | Name        | Type             | Params | Mode \n",
                                    "---------------------------------------------------------\n",
                                    "0 | network     | Sequential       | 4.4 M  | train\n",
                                    "1 | loss_metric | MeanSquaredError | 0      | train\n",
                                    "2 | val_metric  | MeanSquaredError | 0      | train\n",
                                    "3 | test_metric | MeanSquaredError | 0      | train\n",
                                    "---------------------------------------------------------\n",
                                    "4.4 M     Trainable params\n",
                                    "0         Non-trainable params\n",
                                    "4.4 M     Total params\n",
                                    "17.648    Total estimated model params size (MB)\n",
                                    "17        Modules in train mode\n",
                                    "0         Modules in eval mode\n"
                              ]
                        },
                        {
                              "name": "stdout",
                              "output_type": "stream",
                              "text": [
                                    "[I 2025-04-18 15:00:42,036] Trial 18 finished with value: 1018.3089599609376 and parameters: {'n_layers': 3, 'dropout': 0.41072807905031683, 'learning_rate': 6.401182838113382e-05, 'weight_decay': 0.0039599944157165294, 'optimizer': 'adagrad', 'activation': 'relu'}. Best is trial 17 with value: 733.0496215820312.\n"
                              ]
                        },
                        {
                              "name": "stderr",
                              "output_type": "stream",
                              "text": [
                                    "GPU available: True (cuda), used: True\n",
                                    "TPU available: False, using: 0 TPU cores\n",
                                    "HPU available: False, using: 0 HPUs\n",
                                    "LOCAL_RANK: 0 - CUDA_VISIBLE_DEVICES: [0]\n",
                                    "\n",
                                    "  | Name        | Type             | Params | Mode \n",
                                    "---------------------------------------------------------\n",
                                    "0 | network     | Sequential       | 19.6 M | train\n",
                                    "1 | loss_metric | MeanSquaredError | 0      | train\n",
                                    "2 | val_metric  | MeanSquaredError | 0      | train\n",
                                    "3 | test_metric | MeanSquaredError | 0      | train\n",
                                    "---------------------------------------------------------\n",
                                    "19.6 M    Trainable params\n",
                                    "0         Non-trainable params\n",
                                    "19.6 M    Total params\n",
                                    "78.360    Total estimated model params size (MB)\n",
                                    "21        Modules in train mode\n",
                                    "0         Modules in eval mode\n"
                              ]
                        },
                        {
                              "name": "stdout",
                              "output_type": "stream",
                              "text": [
                                    "[I 2025-04-18 15:01:07,046] Trial 19 finished with value: 771.5916748046875 and parameters: {'n_layers': 4, 'dropout': 0.44535314132028364, 'learning_rate': 0.0009414816566250289, 'weight_decay': 0.0014163680269037161, 'optimizer': 'adagrad', 'activation': 'leaky_relu'}. Best is trial 17 with value: 733.0496215820312.\n",
                                    "Best trial:\n",
                                    "  Value (val_mse): 733.0496215820312\n",
                                    "  Params:\n",
                                    "    n_layers: 4\n",
                                    "    dropout: 0.4150142339062526\n",
                                    "    learning_rate: 0.000493898367710332\n",
                                    "    weight_decay: 0.0014165252681537796\n",
                                    "    optimizer: adagrad\n",
                                    "    activation: relu\n"
                              ]
                        }
                  ],
                  "source": [
                        "# --- Run Optuna ---\n",
                        "study = optuna.create_study(direction=\"minimize\", study_name=\"deep_regressor_study\")\n",
                        "study.optimize(objective, n_trials=20, n_jobs=1, show_progress_bar=True)\n",
                        "\n",
                        "# --- Print Best Result ---\n",
                        "print(\"Best trial:\")\n",
                        "print(f\"  Value (val_mse): {study.best_trial.value}\")\n",
                        "print(\"  Params:\")\n",
                        "for key, val in study.best_trial.params.items():\n",
                        "    print(f\"    {key}: {val}\")"
                  ]
            },
            {
                  "cell_type": "markdown",
                  "metadata": {},
                  "source": [
                        "### Load best model and plot results"
                  ]
            },
            {
                  "cell_type": "code",
                  "execution_count": 16,
                  "metadata": {},
                  "outputs": [],
                  "source": [
                        "best_model_logger = trial_to_details[study.best_trial.number][\"logger\"]"
                  ]
            },
            {
                  "cell_type": "code",
                  "execution_count": 17,
                  "metadata": {},
                  "outputs": [
                        {
                              "data": {
                                    "image/png": "[encoded data removed]",
                                    "text/plain": [
                                          "<Figure size 1200x500 with 1 Axes>"
                                    ]
                              },
                              "metadata": {},
                              "output_type": "display_data"
                        }
                  ],
                  "source": [
                        "from utils.helper_functions import make_plots\n",
                        "\n",
                        "\n",
                        "history = pd.read_csv(best_model_logger.log_dir + \"/metrics.csv\")\n",
                        "make_plots(history, \"Autoencoder Training and Validation Loss\")"
                  ]
            },
            {
                  "cell_type": "code",
                  "execution_count": 11,
                  "metadata": {},
                  "outputs": [],
                  "source": [
                        "activation_dict = {\n",
                        "    \"relu\": nn.ReLU,\n",
                        "    \"leaky_relu\": nn.LeakyReLU,\n",
                        "    \"tanh\": nn.Tanh,\n",
                        "    \"RReLU\": nn.RReLU,\n",
                        "}\n",
                        "optimizer_dict = {\n",
                        "    \"adam\": torch.optim.Adam,\n",
                        "    \"sgd\": torch.optim.SGD,\n",
                        "    \"adagrad\": torch.optim.Adagrad,\n",
                        "}\n",
                        "best_model = model =NNRegressor(\n",
                        "        input_dim=len(cancer_dm.ds_train[0][0]),\n",
                        "        n_layers=study.best_trial.params[\"n_layers\"],\n",
                        "        dropout=study.best_trial.params[\"dropout\"],\n",
                        "        activation=activation_dict[study.best_trial.params[\"activation\"]],\n",
                        "        optimizer=optimizer_dict[study.best_trial.params[\"optimizer\"]],\n",
                        "        lr=study.best_trial.params[\"learning_rate\"],\n",
                        "        weight_decay=study.best_trial.params[\"weight_decay\"],\n",
                        "    )"
                  ]
            },
            {
                  "cell_type": "code",
                  "execution_count": 12,
                  "metadata": {},
                  "outputs": [
                        {
                              "data": {
                                    "text/plain": [
                                          "['results/04/best_model_trial_noae_17.pkl']"
                                    ]
                              },
                              "execution_count": 12,
                              "metadata": {},
                              "output_type": "execute_result"
                        }
                  ],
                  "source": [
                        "joblib.dump(\n",
                        "    best_model,\n",
                        "    f\"results/04/best_model_trial_noae_{study.best_trial.number}.pkl\",\n",
                        ")"
                  ]
            },
            {
                  "cell_type": "code",
                  "execution_count": 18,
                  "metadata": {},
                  "outputs": [
                        {
                              "data": {
                                    "image/png": "[encoded data removed]",
                                    "text/plain": [
                                          "<Figure size 1000x600 with 1 Axes>"
                                    ]
                              },
                              "metadata": {},
                              "output_type": "display_data"
                        }
                  ],
                  "source": [
                        "plot_regression_results(best_model, cancer_dm.test_dataloader(), title=\"Neural Network with No Autoencoder Scaled\")"
                  ]
            },
            {
                  "cell_type": "code",
                  "execution_count": null,
                  "metadata": {},
                  "outputs": [],
                  "source": []
            }
      ],
      "metadata": {
            "kernelspec": {
                  "display_name": "bmi_6114",
                  "language": "python",
                  "name": "python3"
            },
            "language_info": {
                  "codemirror_mode": {
                        "name": "ipython",
                        "version": 3
                  },
                  "file_extension": ".py",
                  "mimetype": "text/x-python",
                  "name": "python",
                  "nbconvert_exporter": "python",
                  "pygments_lexer": "ipython3",
                  "version": "3.12.5"
            }
      },
      "nbformat": 4,
      "nbformat_minor": 2
}
